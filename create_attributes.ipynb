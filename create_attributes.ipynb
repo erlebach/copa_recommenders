{
 "cells": [
  {
   "cell_type": "code",
   "execution_count": null,
   "id": "584dd8ad-9216-4c54-b4e9-5c37a0f5ae39",
   "metadata": {},
   "outputs": [],
   "source": []
  },
  {
   "cell_type": "code",
   "execution_count": 193,
   "id": "c30d2310-8ee0-4c35-9dee-dde9c13c5f27",
   "metadata": {
    "tags": []
   },
   "outputs": [
    {
     "name": "stdout",
     "output_type": "stream",
     "text": [
      "The autoreload extension is already loaded. To reload it, use:\n",
      "  %reload_ext autoreload\n"
     ]
    }
   ],
   "source": [
    "%load_ext autoreload\n",
    "%autoreload 2"
   ]
  },
  {
   "cell_type": "code",
   "execution_count": 194,
   "id": "15870ab5-3a4e-48d2-baab-59fb36219d4f",
   "metadata": {},
   "outputs": [],
   "source": [
    "import matplotlib.pyplot as plt\n",
    "import numpy as np\n",
    "import pandas as pd\n",
    "import regex as rex\n",
    "import date_library as datelib\n",
    "import utils as u"
   ]
  },
  {
   "cell_type": "code",
   "execution_count": 229,
   "id": "ddf877a7-08f6-4a0c-b842-7010b10fef5f",
   "metadata": {},
   "outputs": [],
   "source": [
    "try:\n",
    "    # df = pd.read_csv(\"activity_reduced_before_attributes.csv\")\n",
    "    df = pd.read_csv(\"member_d.csv\")\n",
    "except:\n",
    "    # df = pd.read_csv(\"activity_reduced_before_attributes.csv.gz\")\n",
    "    df = pd.read_csv(\"member_d.csv.gz\")\n",
    "    "
   ]
  },
  {
   "cell_type": "code",
   "execution_count": 230,
   "id": "a8d6343b-a57e-4f30-baa5-ff0d6d9ed4fc",
   "metadata": {},
   "outputs": [
    {
     "data": {
      "text/plain": [
       "(Index(['MEMBER_ID', 'TRUE_OD', 'D', 'FLIGHT_DATE', 'BOOKING_DATE',\n",
       "        'TICKET_SALES_DATE', 'TICKET_NUMBER', 'TRUE_ORIGIN_COUNTRY',\n",
       "        'ADDR_COUNTRY', 'PNR', 'PARTY_SZ', 'size'],\n",
       "       dtype='object'),\n",
       " (835129, 12))"
      ]
     },
     "execution_count": 230,
     "metadata": {},
     "output_type": "execute_result"
    }
   ],
   "source": [
    "df.columns, df.shape"
   ]
  },
  {
   "cell_type": "markdown",
   "id": "349302fa-5c9d-4c38-9a5f-68ccc048852e",
   "metadata": {},
   "source": [
    "# Create month and day of week columns for Booking date and flight date\n",
    "Column names: book_mo, book_dofwk, flight_mo, flight_daywk"
   ]
  },
  {
   "cell_type": "code",
   "execution_count": 231,
   "id": "1f73f07c-9e2f-439c-a8d2-2bc0704a816c",
   "metadata": {},
   "outputs": [],
   "source": [
    "df1 = u.get_dayofweek_month(df, df_date_col='BOOKING_DATE', \n",
    "        labels=('booking_date', 'booking_mo', 'booking_dowk'))"
   ]
  },
  {
   "cell_type": "code",
   "execution_count": 232,
   "id": "ac47846d-218f-472c-8abd-9d319952388f",
   "metadata": {},
   "outputs": [],
   "source": [
    "df2 = u.get_dayofweek_month(df1, df_date_col='FLIGHT_DATE', \n",
    "        labels=('flight_date', 'flight_mo', 'flight_dowk'))"
   ]
  },
  {
   "cell_type": "code",
   "execution_count": 233,
   "id": "ecd568ed-13c1-41bb-86c9-dc21f613d615",
   "metadata": {},
   "outputs": [
    {
     "data": {
      "text/plain": [
       "Index(['MEMBER_ID', 'TRUE_OD', 'D', 'FLIGHT_DATE', 'BOOKING_DATE',\n",
       "       'TICKET_SALES_DATE', 'TICKET_NUMBER', 'TRUE_ORIGIN_COUNTRY',\n",
       "       'ADDR_COUNTRY', 'PNR', 'PARTY_SZ', 'size', 'booking_date',\n",
       "       'booking_dowk', 'booking_mo', 'flight_date', 'flight_dowk',\n",
       "       'flight_mo'],\n",
       "      dtype='object')"
      ]
     },
     "execution_count": 233,
     "metadata": {},
     "output_type": "execute_result"
    }
   ],
   "source": [
    "df2.columns"
   ]
  },
  {
   "cell_type": "code",
   "execution_count": 234,
   "id": "2e6150cf-958e-405d-b98f-eb78f397ea87",
   "metadata": {},
   "outputs": [
    {
     "data": {
      "text/plain": [
       "Index(['MEMBER_ID', 'TIER_LEVEL', 'TIER_LEVEL_DESCRIPTION', 'PREVIOUS_TIER',\n",
       "       'LAST_TIER_CHANGE_DATE', 'STATUS', 'ENROLL_DATE', 'GENDER',\n",
       "       'BIRTH_DATE', 'NATIONALITY', 'ADDR_COUNTRY', 'COMMUNICATION_LANGUAGE',\n",
       "       'CONNECTMILES_OFFERS_AND_NEWS', 'E_STATEMENTS',\n",
       "       'COPA_AIRLINES_OFFERS_AND_NEWS', 'CCD_ACTIVE_IND', 'MILES_BALANCE',\n",
       "       'TOTAL_MILES_SINCE_ENROLLMENT'],\n",
       "      dtype='object')"
      ]
     },
     "execution_count": 234,
     "metadata": {},
     "output_type": "execute_result"
    }
   ],
   "source": [
    "dfm = pd.read_csv(\"MEMBERS_CATALOG.csv\")\n",
    "dfm.columns"
   ]
  },
  {
   "cell_type": "code",
   "execution_count": 235,
   "id": "f6b64744-7439-4066-9341-be4521f5c291",
   "metadata": {},
   "outputs": [],
   "source": [
    "dfm = dfm[['MEMBER_ID', 'TIER_LEVEL', 'GENDER', 'BIRTH_DATE']]"
   ]
  },
  {
   "cell_type": "code",
   "execution_count": 236,
   "id": "e4cca008-a90f-41b0-9647-f7b3a5481d3a",
   "metadata": {},
   "outputs": [],
   "source": [
    "dfm1 = dfm[pd.isna(dfm['GENDER'])]"
   ]
  },
  {
   "cell_type": "code",
   "execution_count": 237,
   "id": "7a313e38-c8f1-4e93-bf0d-7c02897f96eb",
   "metadata": {},
   "outputs": [
    {
     "data": {
      "text/plain": [
       "0        1962-02-14\n",
       "1        1979-01-16\n",
       "2        1970-12-21\n",
       "3        1974-07-31\n",
       "4        1988-09-21\n",
       "            ...    \n",
       "96840    1964-11-05\n",
       "96841    1980-11-28\n",
       "96842    1983-08-03\n",
       "96843    1973-09-15\n",
       "96844    1985-05-05\n",
       "Name: BIRTH_DATE, Length: 96845, dtype: object"
      ]
     },
     "execution_count": 237,
     "metadata": {},
     "output_type": "execute_result"
    }
   ],
   "source": [
    "dfm.BIRTH_DATE"
   ]
  },
  {
   "cell_type": "code",
   "execution_count": null,
   "id": "4fcac7c9-0156-433d-aa19-549905a69b36",
   "metadata": {},
   "outputs": [],
   "source": []
  },
  {
   "cell_type": "code",
   "execution_count": 238,
   "id": "a4bba3b9-9731-44ec-9d33-4256ce3cca69",
   "metadata": {},
   "outputs": [],
   "source": [
    "import datetime\n",
    "today = datetime.date.today().strftime(\"%Y-%m-%d\")\n",
    "today1 = datelib.dateTimePTYToTimestamp(today)"
   ]
  },
  {
   "cell_type": "code",
   "execution_count": 239,
   "id": "935332ad-79d6-4d70-885f-0e0d8322f09e",
   "metadata": {},
   "outputs": [
    {
     "data": {
      "text/plain": [
       "1653577200"
      ]
     },
     "execution_count": 239,
     "metadata": {},
     "output_type": "execute_result"
    }
   ],
   "source": [
    "today1 "
   ]
  },
  {
   "cell_type": "code",
   "execution_count": 240,
   "id": "ac2407d8-7f29-43d4-a648-dde9ff5e041f",
   "metadata": {},
   "outputs": [
    {
     "data": {
      "text/plain": [
       "60"
      ]
     },
     "execution_count": 240,
     "metadata": {},
     "output_type": "execute_result"
    }
   ],
   "source": [
    "int( (today1-birthdate[0]) / (365*24*3600) )"
   ]
  },
  {
   "cell_type": "markdown",
   "id": "2547208c-5958-4f81-af31-2eb0518dd5b9",
   "metadata": {},
   "source": [
    "# Compute passenger age when the flight departed. "
   ]
  },
  {
   "cell_type": "code",
   "execution_count": 241,
   "id": "b8fbe05d-112d-4b9c-b752-d518f26a7570",
   "metadata": {},
   "outputs": [],
   "source": [
    "x = pd.merge(df2, dfm, how='inner', on='MEMBER_ID')"
   ]
  },
  {
   "cell_type": "code",
   "execution_count": 242,
   "id": "a7addfaa-7ace-4d80-992c-89413370b66d",
   "metadata": {},
   "outputs": [
    {
     "data": {
      "text/plain": [
       "Index(['MEMBER_ID', 'TRUE_OD', 'D', 'FLIGHT_DATE', 'BOOKING_DATE',\n",
       "       'TICKET_SALES_DATE', 'TICKET_NUMBER', 'TRUE_ORIGIN_COUNTRY',\n",
       "       'ADDR_COUNTRY', 'PNR', 'PARTY_SZ', 'size', 'booking_date',\n",
       "       'booking_dowk', 'booking_mo', 'flight_date', 'flight_dowk', 'flight_mo',\n",
       "       'TIER_LEVEL', 'GENDER', 'BIRTH_DATE'],\n",
       "      dtype='object')"
      ]
     },
     "execution_count": 242,
     "metadata": {},
     "output_type": "execute_result"
    }
   ],
   "source": [
    "x.columns"
   ]
  },
  {
   "cell_type": "code",
   "execution_count": 243,
   "id": "c1d116ff-a39d-4b58-93a2-5dff457d309e",
   "metadata": {},
   "outputs": [],
   "source": [
    "birthdate = datelib.date_to_timestamp(x['BIRTH_DATE'])"
   ]
  },
  {
   "cell_type": "code",
   "execution_count": 244,
   "id": "be21b57d-f35f-4c5f-8222-8c7207a5e9c7",
   "metadata": {},
   "outputs": [],
   "source": [
    "x['age_at_flight'] = (x['FLIGHT_DATE'] - birthdate) / (365*24*3600)\n",
    "x['age_at_flight'] = x.age_at_flight.apply(int)\n",
    "# pd.isna(x['BOOKING_DATE']).sum()\n",
    "#x['age_at_flight'] = x['age_at_flight'].astype(int)"
   ]
  },
  {
   "cell_type": "code",
   "execution_count": 245,
   "id": "166fe208-bce5-4437-9a41-1cf1939698d8",
   "metadata": {},
   "outputs": [
    {
     "data": {
      "text/plain": [
       "0         56\n",
       "1         56\n",
       "2         56\n",
       "3         55\n",
       "4         55\n",
       "          ..\n",
       "835124    30\n",
       "835125    36\n",
       "835126    32\n",
       "835127    62\n",
       "835128    63\n",
       "Name: age_at_flight, Length: 835129, dtype: int64"
      ]
     },
     "execution_count": 245,
     "metadata": {},
     "output_type": "execute_result"
    }
   ],
   "source": [
    "x['age_at_flight']"
   ]
  },
  {
   "cell_type": "code",
   "execution_count": 246,
   "id": "ffb02132-62cf-4d1b-bbb4-86e58e81bc69",
   "metadata": {},
   "outputs": [
    {
     "data": {
      "text/plain": [
       "Index(['MEMBER_ID', 'TRUE_OD', 'D', 'FLIGHT_DATE', 'BOOKING_DATE',\n",
       "       'TICKET_SALES_DATE', 'TICKET_NUMBER', 'TRUE_ORIGIN_COUNTRY',\n",
       "       'ADDR_COUNTRY', 'PNR', 'PARTY_SZ', 'size', 'booking_date',\n",
       "       'booking_dowk', 'booking_mo', 'flight_date', 'flight_dowk', 'flight_mo',\n",
       "       'TIER_LEVEL', 'GENDER', 'BIRTH_DATE', 'age_at_flight'],\n",
       "      dtype='object')"
      ]
     },
     "execution_count": 246,
     "metadata": {},
     "output_type": "execute_result"
    }
   ],
   "source": [
    "x.columns"
   ]
  },
  {
   "cell_type": "code",
   "execution_count": 247,
   "id": "e80373ea-9dcd-4123-b18e-9289301d07d2",
   "metadata": {},
   "outputs": [],
   "source": [
    "# Party size: 9 values\n",
    "# Need trip duration. "
   ]
  },
  {
   "cell_type": "code",
   "execution_count": 248,
   "id": "572494be-9ab8-41f0-b33c-432fac99071e",
   "metadata": {},
   "outputs": [],
   "source": [
    "attribute_cols = ['MEMBER_ID', 'booking_dowk', 'booking_mo', 'flight_dowk', \n",
    "                  'flight_mo', 'age_at_flight', 'PARTY_SZ']\n",
    "attributes = x[attribute_cols]"
   ]
  },
  {
   "cell_type": "markdown",
   "id": "097b68a9-3a96-4113-a802-b3a183a66a13",
   "metadata": {},
   "source": [
    "# 67 passenges are 2 years old? Not possible! Check this out. "
   ]
  },
  {
   "cell_type": "code",
   "execution_count": 252,
   "id": "68840f50-afab-4e2d-91f1-c056691d78bc",
   "metadata": {},
   "outputs": [
    {
     "data": {
      "text/html": [
       "<div>\n",
       "<style scoped>\n",
       "    .dataframe tbody tr th:only-of-type {\n",
       "        vertical-align: middle;\n",
       "    }\n",
       "\n",
       "    .dataframe tbody tr th {\n",
       "        vertical-align: top;\n",
       "    }\n",
       "\n",
       "    .dataframe thead th {\n",
       "        text-align: right;\n",
       "    }\n",
       "</style>\n",
       "<table border=\"1\" class=\"dataframe\">\n",
       "  <thead>\n",
       "    <tr style=\"text-align: right;\">\n",
       "      <th></th>\n",
       "      <th>MEMBER_ID</th>\n",
       "      <th>booking_dowk</th>\n",
       "      <th>booking_mo</th>\n",
       "      <th>flight_dowk</th>\n",
       "      <th>flight_mo</th>\n",
       "      <th>age_at_flight</th>\n",
       "      <th>PARTY_SZ</th>\n",
       "    </tr>\n",
       "  </thead>\n",
       "  <tbody>\n",
       "    <tr>\n",
       "      <th>195475</th>\n",
       "      <td>244949672</td>\n",
       "      <td>3</td>\n",
       "      <td>9</td>\n",
       "      <td>5</td>\n",
       "      <td>10</td>\n",
       "      <td>2</td>\n",
       "      <td>1</td>\n",
       "    </tr>\n",
       "    <tr>\n",
       "      <th>195476</th>\n",
       "      <td>244949672</td>\n",
       "      <td>3</td>\n",
       "      <td>10</td>\n",
       "      <td>4</td>\n",
       "      <td>11</td>\n",
       "      <td>2</td>\n",
       "      <td>1</td>\n",
       "    </tr>\n",
       "    <tr>\n",
       "      <th>195477</th>\n",
       "      <td>244949672</td>\n",
       "      <td>2</td>\n",
       "      <td>9</td>\n",
       "      <td>4</td>\n",
       "      <td>10</td>\n",
       "      <td>2</td>\n",
       "      <td>1</td>\n",
       "    </tr>\n",
       "    <tr>\n",
       "      <th>195478</th>\n",
       "      <td>244949672</td>\n",
       "      <td>2</td>\n",
       "      <td>8</td>\n",
       "      <td>5</td>\n",
       "      <td>8</td>\n",
       "      <td>2</td>\n",
       "      <td>1</td>\n",
       "    </tr>\n",
       "    <tr>\n",
       "      <th>195479</th>\n",
       "      <td>244949672</td>\n",
       "      <td>5</td>\n",
       "      <td>7</td>\n",
       "      <td>3</td>\n",
       "      <td>8</td>\n",
       "      <td>2</td>\n",
       "      <td>1</td>\n",
       "    </tr>\n",
       "  </tbody>\n",
       "</table>\n",
       "</div>"
      ],
      "text/plain": [
       "        MEMBER_ID  booking_dowk  booking_mo  flight_dowk  flight_mo  \\\n",
       "195475  244949672             3           9            5         10   \n",
       "195476  244949672             3          10            4         11   \n",
       "195477  244949672             2           9            4         10   \n",
       "195478  244949672             2           8            5          8   \n",
       "195479  244949672             5           7            3          8   \n",
       "\n",
       "        age_at_flight  PARTY_SZ  \n",
       "195475              2         1  \n",
       "195476              2         1  \n",
       "195477              2         1  \n",
       "195478              2         1  \n",
       "195479              2         1  "
      ]
     },
     "execution_count": 252,
     "metadata": {},
     "output_type": "execute_result"
    }
   ],
   "source": [
    "pax_age2 = attributes[attributes['age_at_flight'] == 2].head()\n",
    "pax_age2"
   ]
  },
  {
   "cell_type": "code",
   "execution_count": 253,
   "id": "ec038ac4-6daa-430d-9ac6-2b1f71835e1c",
   "metadata": {},
   "outputs": [],
   "source": [
    "attributes.age_at_flight.value_counts().sort_index().head(50);"
   ]
  },
  {
   "cell_type": "code",
   "execution_count": 254,
   "id": "a79159b7-43a5-410a-9d58-f5489a2f04a9",
   "metadata": {},
   "outputs": [
    {
     "data": {
      "text/plain": [
       "0    179516\n",
       "1    145944\n",
       "2    142122\n",
       "3    138827\n",
       "4    130237\n",
       "5     53409\n",
       "6     45074\n",
       "Name: booking_dowk, dtype: int64"
      ]
     },
     "execution_count": 254,
     "metadata": {},
     "output_type": "execute_result"
    }
   ],
   "source": [
    "pax_age2.booking_mo.value_counts().sort_index()\n",
    "x.booking_dowk.value_counts().sort_index()"
   ]
  },
  {
   "cell_type": "code",
   "execution_count": 255,
   "id": "3e892f9a-2840-49b2-b269-4304ea2986e0",
   "metadata": {},
   "outputs": [
    {
     "data": {
      "text/html": [
       "<div>\n",
       "<style scoped>\n",
       "    .dataframe tbody tr th:only-of-type {\n",
       "        vertical-align: middle;\n",
       "    }\n",
       "\n",
       "    .dataframe tbody tr th {\n",
       "        vertical-align: top;\n",
       "    }\n",
       "\n",
       "    .dataframe thead th {\n",
       "        text-align: right;\n",
       "    }\n",
       "</style>\n",
       "<table border=\"1\" class=\"dataframe\">\n",
       "  <thead>\n",
       "    <tr style=\"text-align: right;\">\n",
       "      <th></th>\n",
       "      <th>MEMBER_ID</th>\n",
       "      <th>FLIGHT_DATE</th>\n",
       "    </tr>\n",
       "  </thead>\n",
       "  <tbody>\n",
       "    <tr>\n",
       "      <th>271579</th>\n",
       "      <td>230831718</td>\n",
       "      <td>1645315200</td>\n",
       "    </tr>\n",
       "    <tr>\n",
       "      <th>271580</th>\n",
       "      <td>230831718</td>\n",
       "      <td>1501372800</td>\n",
       "    </tr>\n",
       "    <tr>\n",
       "      <th>271581</th>\n",
       "      <td>230831718</td>\n",
       "      <td>1470700800</td>\n",
       "    </tr>\n",
       "    <tr>\n",
       "      <th>271582</th>\n",
       "      <td>230831718</td>\n",
       "      <td>1531785600</td>\n",
       "    </tr>\n",
       "    <tr>\n",
       "      <th>271583</th>\n",
       "      <td>230831718</td>\n",
       "      <td>1547683200</td>\n",
       "    </tr>\n",
       "    <tr>\n",
       "      <th>271584</th>\n",
       "      <td>230831718</td>\n",
       "      <td>1565654400</td>\n",
       "    </tr>\n",
       "    <tr>\n",
       "      <th>271585</th>\n",
       "      <td>230831718</td>\n",
       "      <td>1498003200</td>\n",
       "    </tr>\n",
       "    <tr>\n",
       "      <th>271586</th>\n",
       "      <td>230831718</td>\n",
       "      <td>1472169600</td>\n",
       "    </tr>\n",
       "    <tr>\n",
       "      <th>271587</th>\n",
       "      <td>230831718</td>\n",
       "      <td>1449705600</td>\n",
       "    </tr>\n",
       "    <tr>\n",
       "      <th>271588</th>\n",
       "      <td>230831718</td>\n",
       "      <td>1564963200</td>\n",
       "    </tr>\n",
       "  </tbody>\n",
       "</table>\n",
       "</div>"
      ],
      "text/plain": [
       "        MEMBER_ID  FLIGHT_DATE\n",
       "271579  230831718   1645315200\n",
       "271580  230831718   1501372800\n",
       "271581  230831718   1470700800\n",
       "271582  230831718   1531785600\n",
       "271583  230831718   1547683200\n",
       "271584  230831718   1565654400\n",
       "271585  230831718   1498003200\n",
       "271586  230831718   1472169600\n",
       "271587  230831718   1449705600\n",
       "271588  230831718   1564963200"
      ]
     },
     "execution_count": 255,
     "metadata": {},
     "output_type": "execute_result"
    }
   ],
   "source": [
    "df[df['MEMBER_ID'] == 230831718][['MEMBER_ID', 'FLIGHT_DATE']].head(10)"
   ]
  },
  {
   "cell_type": "code",
   "execution_count": 256,
   "id": "ca723093-b265-4a29-8fa8-e3994a0684b1",
   "metadata": {},
   "outputs": [
    {
     "data": {
      "text/html": [
       "<div>\n",
       "<style scoped>\n",
       "    .dataframe tbody tr th:only-of-type {\n",
       "        vertical-align: middle;\n",
       "    }\n",
       "\n",
       "    .dataframe tbody tr th {\n",
       "        vertical-align: top;\n",
       "    }\n",
       "\n",
       "    .dataframe thead th {\n",
       "        text-align: right;\n",
       "    }\n",
       "</style>\n",
       "<table border=\"1\" class=\"dataframe\">\n",
       "  <thead>\n",
       "    <tr style=\"text-align: right;\">\n",
       "      <th></th>\n",
       "      <th>MEMBER_ID</th>\n",
       "      <th>TIER_LEVEL</th>\n",
       "      <th>GENDER</th>\n",
       "      <th>BIRTH_DATE</th>\n",
       "    </tr>\n",
       "  </thead>\n",
       "  <tbody>\n",
       "    <tr>\n",
       "      <th>10436</th>\n",
       "      <td>230831718</td>\n",
       "      <td>T3</td>\n",
       "      <td>M</td>\n",
       "      <td>2013-03-03</td>\n",
       "    </tr>\n",
       "  </tbody>\n",
       "</table>\n",
       "</div>"
      ],
      "text/plain": [
       "       MEMBER_ID TIER_LEVEL GENDER  BIRTH_DATE\n",
       "10436  230831718         T3      M  2013-03-03"
      ]
     },
     "execution_count": 256,
     "metadata": {},
     "output_type": "execute_result"
    }
   ],
   "source": [
    "dfm[dfm['MEMBER_ID'] == 230831718]"
   ]
  },
  {
   "cell_type": "code",
   "execution_count": 257,
   "id": "1c6a8bf0-3758-4610-b950-bd4391003be0",
   "metadata": {},
   "outputs": [
    {
     "data": {
      "text/plain": [
       "('2017-11-07', '05:00')"
      ]
     },
     "execution_count": 257,
     "metadata": {},
     "output_type": "execute_result"
    }
   ],
   "source": [
    "# Birth date: 2013-03-03\n",
    "# Flight date: 1510012800\n",
    "\n",
    "datelib.timestampToDateTimePTY(1510012800)"
   ]
  },
  {
   "cell_type": "markdown",
   "id": "66af3af1-eb53-4c59-a4a4-89bf8439ff11",
   "metadata": {},
   "source": [
    "Age: 4 years old. "
   ]
  },
  {
   "cell_type": "code",
   "execution_count": 258,
   "id": "b097fb55-7635-483d-afcf-3857904bd5fa",
   "metadata": {
    "collapsed": true,
    "jupyter": {
     "outputs_hidden": true
    },
    "tags": []
   },
   "outputs": [
    {
     "ename": "ParserError",
     "evalue": "Error tokenizing data. C error: Calling read(nbytes) on source failed. Try engine='python'.",
     "output_type": "error",
     "traceback": [
      "\u001b[0;31m---------------------------------------------------------------------------\u001b[0m",
      "\u001b[0;31mParserError\u001b[0m                               Traceback (most recent call last)",
      "\u001b[0;32m/var/folders/hn/w6z4rd3n0xng_rc6fqmsttwh0000gn/T/ipykernel_2479/2499465115.py\u001b[0m in \u001b[0;36m<module>\u001b[0;34m\u001b[0m\n\u001b[0;32m----> 1\u001b[0;31m \u001b[0mdfull\u001b[0m \u001b[0;34m=\u001b[0m \u001b[0mu\u001b[0m\u001b[0;34m.\u001b[0m\u001b[0mread_activity_file\u001b[0m\u001b[0;34m(\u001b[0m\u001b[0;34m)\u001b[0m\u001b[0;34m\u001b[0m\u001b[0;34m\u001b[0m\u001b[0m\n\u001b[0m\u001b[1;32m      2\u001b[0m \u001b[0mdfull\u001b[0m\u001b[0;34m[\u001b[0m\u001b[0mdfull\u001b[0m\u001b[0;34m[\u001b[0m\u001b[0;34m'MEMBER_ID'\u001b[0m\u001b[0;34m]\u001b[0m \u001b[0;34m==\u001b[0m \u001b[0;36m230831718\u001b[0m\u001b[0;34m]\u001b[0m\u001b[0;34m[\u001b[0m\u001b[0;34m[\u001b[0m\u001b[0;34m'MEMBER_ID'\u001b[0m\u001b[0;34m,\u001b[0m \u001b[0;34m'FLIGHT_DATE'\u001b[0m\u001b[0;34m]\u001b[0m\u001b[0;34m]\u001b[0m\u001b[0;34m.\u001b[0m\u001b[0mhead\u001b[0m\u001b[0;34m(\u001b[0m\u001b[0;36m10\u001b[0m\u001b[0;34m)\u001b[0m\u001b[0;34m\u001b[0m\u001b[0;34m\u001b[0m\u001b[0m\n",
      "\u001b[0;32m~/src/2022/copa_recommenders/non-git-files/utils.py\u001b[0m in \u001b[0;36mread_activity_file\u001b[0;34m(nrows)\u001b[0m\n\u001b[1;32m    105\u001b[0m \u001b[0;31m#-----------------------------------------------------------\u001b[0m\u001b[0;34m\u001b[0m\u001b[0;34m\u001b[0m\u001b[0;34m\u001b[0m\u001b[0m\n\u001b[1;32m    106\u001b[0m \u001b[0;32mdef\u001b[0m \u001b[0mread_activity_file\u001b[0m\u001b[0;34m(\u001b[0m\u001b[0mnrows\u001b[0m\u001b[0;34m=\u001b[0m\u001b[0;32mNone\u001b[0m\u001b[0;34m)\u001b[0m\u001b[0;34m:\u001b[0m\u001b[0;34m\u001b[0m\u001b[0;34m\u001b[0m\u001b[0m\n\u001b[0;32m--> 107\u001b[0;31m     \u001b[0;32mreturn\u001b[0m \u001b[0mpd\u001b[0m\u001b[0;34m.\u001b[0m\u001b[0mread_csv\u001b[0m\u001b[0;34m(\u001b[0m\u001b[0;34m'MEMBERS_ACTIVITY.csv'\u001b[0m\u001b[0;34m,\u001b[0m \u001b[0mnrows\u001b[0m\u001b[0;34m=\u001b[0m\u001b[0mnrows\u001b[0m\u001b[0;34m,\u001b[0m \u001b[0mencoding\u001b[0m \u001b[0;34m=\u001b[0m \u001b[0;34m\"ISO-8859-1\"\u001b[0m\u001b[0;34m)\u001b[0m\u001b[0;34m\u001b[0m\u001b[0;34m\u001b[0m\u001b[0m\n\u001b[0m\u001b[1;32m    108\u001b[0m \u001b[0;31m#-----------------------------------------------------------\u001b[0m\u001b[0;34m\u001b[0m\u001b[0;34m\u001b[0m\u001b[0;34m\u001b[0m\u001b[0m\n\u001b[1;32m    109\u001b[0m \u001b[0;32mdef\u001b[0m \u001b[0mfind_word\u001b[0m\u001b[0;34m(\u001b[0m\u001b[0mlst\u001b[0m\u001b[0;34m,\u001b[0m \u001b[0mword\u001b[0m\u001b[0;34m)\u001b[0m\u001b[0;34m:\u001b[0m\u001b[0;34m\u001b[0m\u001b[0;34m\u001b[0m\u001b[0m\n",
      "\u001b[0;32m~/opt/anaconda3/envs/torch/lib/python3.8/site-packages/pandas/util/_decorators.py\u001b[0m in \u001b[0;36mwrapper\u001b[0;34m(*args, **kwargs)\u001b[0m\n\u001b[1;32m    309\u001b[0m                     \u001b[0mstacklevel\u001b[0m\u001b[0;34m=\u001b[0m\u001b[0mstacklevel\u001b[0m\u001b[0;34m,\u001b[0m\u001b[0;34m\u001b[0m\u001b[0;34m\u001b[0m\u001b[0m\n\u001b[1;32m    310\u001b[0m                 )\n\u001b[0;32m--> 311\u001b[0;31m             \u001b[0;32mreturn\u001b[0m \u001b[0mfunc\u001b[0m\u001b[0;34m(\u001b[0m\u001b[0;34m*\u001b[0m\u001b[0margs\u001b[0m\u001b[0;34m,\u001b[0m \u001b[0;34m**\u001b[0m\u001b[0mkwargs\u001b[0m\u001b[0;34m)\u001b[0m\u001b[0;34m\u001b[0m\u001b[0;34m\u001b[0m\u001b[0m\n\u001b[0m\u001b[1;32m    312\u001b[0m \u001b[0;34m\u001b[0m\u001b[0m\n\u001b[1;32m    313\u001b[0m         \u001b[0;32mreturn\u001b[0m \u001b[0mwrapper\u001b[0m\u001b[0;34m\u001b[0m\u001b[0;34m\u001b[0m\u001b[0m\n",
      "\u001b[0;32m~/opt/anaconda3/envs/torch/lib/python3.8/site-packages/pandas/io/parsers/readers.py\u001b[0m in \u001b[0;36mread_csv\u001b[0;34m(filepath_or_buffer, sep, delimiter, header, names, index_col, usecols, squeeze, prefix, mangle_dupe_cols, dtype, engine, converters, true_values, false_values, skipinitialspace, skiprows, skipfooter, nrows, na_values, keep_default_na, na_filter, verbose, skip_blank_lines, parse_dates, infer_datetime_format, keep_date_col, date_parser, dayfirst, cache_dates, iterator, chunksize, compression, thousands, decimal, lineterminator, quotechar, quoting, doublequote, escapechar, comment, encoding, encoding_errors, dialect, error_bad_lines, warn_bad_lines, on_bad_lines, delim_whitespace, low_memory, memory_map, float_precision, storage_options)\u001b[0m\n\u001b[1;32m    584\u001b[0m     \u001b[0mkwds\u001b[0m\u001b[0;34m.\u001b[0m\u001b[0mupdate\u001b[0m\u001b[0;34m(\u001b[0m\u001b[0mkwds_defaults\u001b[0m\u001b[0;34m)\u001b[0m\u001b[0;34m\u001b[0m\u001b[0;34m\u001b[0m\u001b[0m\n\u001b[1;32m    585\u001b[0m \u001b[0;34m\u001b[0m\u001b[0m\n\u001b[0;32m--> 586\u001b[0;31m     \u001b[0;32mreturn\u001b[0m \u001b[0m_read\u001b[0m\u001b[0;34m(\u001b[0m\u001b[0mfilepath_or_buffer\u001b[0m\u001b[0;34m,\u001b[0m \u001b[0mkwds\u001b[0m\u001b[0;34m)\u001b[0m\u001b[0;34m\u001b[0m\u001b[0;34m\u001b[0m\u001b[0m\n\u001b[0m\u001b[1;32m    587\u001b[0m \u001b[0;34m\u001b[0m\u001b[0m\n\u001b[1;32m    588\u001b[0m \u001b[0;34m\u001b[0m\u001b[0m\n",
      "\u001b[0;32m~/opt/anaconda3/envs/torch/lib/python3.8/site-packages/pandas/io/parsers/readers.py\u001b[0m in \u001b[0;36m_read\u001b[0;34m(filepath_or_buffer, kwds)\u001b[0m\n\u001b[1;32m    486\u001b[0m \u001b[0;34m\u001b[0m\u001b[0m\n\u001b[1;32m    487\u001b[0m     \u001b[0;32mwith\u001b[0m \u001b[0mparser\u001b[0m\u001b[0;34m:\u001b[0m\u001b[0;34m\u001b[0m\u001b[0;34m\u001b[0m\u001b[0m\n\u001b[0;32m--> 488\u001b[0;31m         \u001b[0;32mreturn\u001b[0m \u001b[0mparser\u001b[0m\u001b[0;34m.\u001b[0m\u001b[0mread\u001b[0m\u001b[0;34m(\u001b[0m\u001b[0mnrows\u001b[0m\u001b[0;34m)\u001b[0m\u001b[0;34m\u001b[0m\u001b[0;34m\u001b[0m\u001b[0m\n\u001b[0m\u001b[1;32m    489\u001b[0m \u001b[0;34m\u001b[0m\u001b[0m\n\u001b[1;32m    490\u001b[0m \u001b[0;34m\u001b[0m\u001b[0m\n",
      "\u001b[0;32m~/opt/anaconda3/envs/torch/lib/python3.8/site-packages/pandas/io/parsers/readers.py\u001b[0m in \u001b[0;36mread\u001b[0;34m(self, nrows)\u001b[0m\n\u001b[1;32m   1045\u001b[0m     \u001b[0;32mdef\u001b[0m \u001b[0mread\u001b[0m\u001b[0;34m(\u001b[0m\u001b[0mself\u001b[0m\u001b[0;34m,\u001b[0m \u001b[0mnrows\u001b[0m\u001b[0;34m=\u001b[0m\u001b[0;32mNone\u001b[0m\u001b[0;34m)\u001b[0m\u001b[0;34m:\u001b[0m\u001b[0;34m\u001b[0m\u001b[0;34m\u001b[0m\u001b[0m\n\u001b[1;32m   1046\u001b[0m         \u001b[0mnrows\u001b[0m \u001b[0;34m=\u001b[0m \u001b[0mvalidate_integer\u001b[0m\u001b[0;34m(\u001b[0m\u001b[0;34m\"nrows\"\u001b[0m\u001b[0;34m,\u001b[0m \u001b[0mnrows\u001b[0m\u001b[0;34m)\u001b[0m\u001b[0;34m\u001b[0m\u001b[0;34m\u001b[0m\u001b[0m\n\u001b[0;32m-> 1047\u001b[0;31m         \u001b[0mindex\u001b[0m\u001b[0;34m,\u001b[0m \u001b[0mcolumns\u001b[0m\u001b[0;34m,\u001b[0m \u001b[0mcol_dict\u001b[0m \u001b[0;34m=\u001b[0m \u001b[0mself\u001b[0m\u001b[0;34m.\u001b[0m\u001b[0m_engine\u001b[0m\u001b[0;34m.\u001b[0m\u001b[0mread\u001b[0m\u001b[0;34m(\u001b[0m\u001b[0mnrows\u001b[0m\u001b[0;34m)\u001b[0m\u001b[0;34m\u001b[0m\u001b[0;34m\u001b[0m\u001b[0m\n\u001b[0m\u001b[1;32m   1048\u001b[0m \u001b[0;34m\u001b[0m\u001b[0m\n\u001b[1;32m   1049\u001b[0m         \u001b[0;32mif\u001b[0m \u001b[0mindex\u001b[0m \u001b[0;32mis\u001b[0m \u001b[0;32mNone\u001b[0m\u001b[0;34m:\u001b[0m\u001b[0;34m\u001b[0m\u001b[0;34m\u001b[0m\u001b[0m\n",
      "\u001b[0;32m~/opt/anaconda3/envs/torch/lib/python3.8/site-packages/pandas/io/parsers/c_parser_wrapper.py\u001b[0m in \u001b[0;36mread\u001b[0;34m(self, nrows)\u001b[0m\n\u001b[1;32m    221\u001b[0m         \u001b[0;32mtry\u001b[0m\u001b[0;34m:\u001b[0m\u001b[0;34m\u001b[0m\u001b[0;34m\u001b[0m\u001b[0m\n\u001b[1;32m    222\u001b[0m             \u001b[0;32mif\u001b[0m \u001b[0mself\u001b[0m\u001b[0;34m.\u001b[0m\u001b[0mlow_memory\u001b[0m\u001b[0;34m:\u001b[0m\u001b[0;34m\u001b[0m\u001b[0;34m\u001b[0m\u001b[0m\n\u001b[0;32m--> 223\u001b[0;31m                 \u001b[0mchunks\u001b[0m \u001b[0;34m=\u001b[0m \u001b[0mself\u001b[0m\u001b[0;34m.\u001b[0m\u001b[0m_reader\u001b[0m\u001b[0;34m.\u001b[0m\u001b[0mread_low_memory\u001b[0m\u001b[0;34m(\u001b[0m\u001b[0mnrows\u001b[0m\u001b[0;34m)\u001b[0m\u001b[0;34m\u001b[0m\u001b[0;34m\u001b[0m\u001b[0m\n\u001b[0m\u001b[1;32m    224\u001b[0m                 \u001b[0;31m# destructive to chunks\u001b[0m\u001b[0;34m\u001b[0m\u001b[0;34m\u001b[0m\u001b[0;34m\u001b[0m\u001b[0m\n\u001b[1;32m    225\u001b[0m                 \u001b[0mdata\u001b[0m \u001b[0;34m=\u001b[0m \u001b[0m_concatenate_chunks\u001b[0m\u001b[0;34m(\u001b[0m\u001b[0mchunks\u001b[0m\u001b[0;34m)\u001b[0m\u001b[0;34m\u001b[0m\u001b[0;34m\u001b[0m\u001b[0m\n",
      "\u001b[0;32m~/opt/anaconda3/envs/torch/lib/python3.8/site-packages/pandas/_libs/parsers.pyx\u001b[0m in \u001b[0;36mpandas._libs.parsers.TextReader.read_low_memory\u001b[0;34m()\u001b[0m\n",
      "\u001b[0;32m~/opt/anaconda3/envs/torch/lib/python3.8/site-packages/pandas/_libs/parsers.pyx\u001b[0m in \u001b[0;36mpandas._libs.parsers.TextReader._read_rows\u001b[0;34m()\u001b[0m\n",
      "\u001b[0;32m~/opt/anaconda3/envs/torch/lib/python3.8/site-packages/pandas/_libs/parsers.pyx\u001b[0m in \u001b[0;36mpandas._libs.parsers.TextReader._tokenize_rows\u001b[0;34m()\u001b[0m\n",
      "\u001b[0;32m~/opt/anaconda3/envs/torch/lib/python3.8/site-packages/pandas/_libs/parsers.pyx\u001b[0m in \u001b[0;36mpandas._libs.parsers.raise_parser_error\u001b[0;34m()\u001b[0m\n",
      "\u001b[0;31mParserError\u001b[0m: Error tokenizing data. C error: Calling read(nbytes) on source failed. Try engine='python'."
     ]
    }
   ],
   "source": [
    "dfull = u.read_activity_file()\n",
    "dfull[dfull['MEMBER_ID'] == 230831718][['MEMBER_ID', 'FLIGHT_DATE']].head(10)"
   ]
  },
  {
   "cell_type": "code",
   "execution_count": null,
   "id": "37178df4-5732-45a6-9ab3-0fafdbe8813b",
   "metadata": {},
   "outputs": [],
   "source": [
    "dfull[dfull['MEMBER_ID'] == 230831718][['MEMBER_ID', 'FLIGHT_DATE']].head(10)"
   ]
  },
  {
   "cell_type": "code",
   "execution_count": 259,
   "id": "4af3182b-46c5-4d35-b194-1f064a324500",
   "metadata": {
    "tags": []
   },
   "outputs": [
    {
     "data": {
      "text/html": [
       "<div>\n",
       "<style scoped>\n",
       "    .dataframe tbody tr th:only-of-type {\n",
       "        vertical-align: middle;\n",
       "    }\n",
       "\n",
       "    .dataframe tbody tr th {\n",
       "        vertical-align: top;\n",
       "    }\n",
       "\n",
       "    .dataframe thead th {\n",
       "        text-align: right;\n",
       "    }\n",
       "</style>\n",
       "<table border=\"1\" class=\"dataframe\">\n",
       "  <thead>\n",
       "    <tr style=\"text-align: right;\">\n",
       "      <th></th>\n",
       "      <th>MEMBER_ID</th>\n",
       "      <th>TIER_LEVEL</th>\n",
       "      <th>GENDER</th>\n",
       "      <th>BIRTH_DATE</th>\n",
       "    </tr>\n",
       "  </thead>\n",
       "  <tbody>\n",
       "    <tr>\n",
       "      <th>95185</th>\n",
       "      <td>268505626</td>\n",
       "      <td>T1</td>\n",
       "      <td>F</td>\n",
       "      <td>2019-11-22</td>\n",
       "    </tr>\n",
       "    <tr>\n",
       "      <th>92244</th>\n",
       "      <td>265498544</td>\n",
       "      <td>T1</td>\n",
       "      <td>NaN</td>\n",
       "      <td>2019-08-28</td>\n",
       "    </tr>\n",
       "    <tr>\n",
       "      <th>95491</th>\n",
       "      <td>269085786</td>\n",
       "      <td>T1</td>\n",
       "      <td>NaN</td>\n",
       "      <td>2019-08-22</td>\n",
       "    </tr>\n",
       "    <tr>\n",
       "      <th>92857</th>\n",
       "      <td>265995448</td>\n",
       "      <td>T1</td>\n",
       "      <td>M</td>\n",
       "      <td>2019-08-03</td>\n",
       "    </tr>\n",
       "    <tr>\n",
       "      <th>92109</th>\n",
       "      <td>265424727</td>\n",
       "      <td>T1</td>\n",
       "      <td>M</td>\n",
       "      <td>2019-05-19</td>\n",
       "    </tr>\n",
       "    <tr>\n",
       "      <th>94942</th>\n",
       "      <td>268195062</td>\n",
       "      <td>T1CC</td>\n",
       "      <td>M</td>\n",
       "      <td>2019-05-09</td>\n",
       "    </tr>\n",
       "    <tr>\n",
       "      <th>93840</th>\n",
       "      <td>266834074</td>\n",
       "      <td>T1</td>\n",
       "      <td>NaN</td>\n",
       "      <td>2019-04-02</td>\n",
       "    </tr>\n",
       "    <tr>\n",
       "      <th>94810</th>\n",
       "      <td>268010343</td>\n",
       "      <td>T1</td>\n",
       "      <td>F</td>\n",
       "      <td>2019-01-15</td>\n",
       "    </tr>\n",
       "    <tr>\n",
       "      <th>88036</th>\n",
       "      <td>261747712</td>\n",
       "      <td>T1</td>\n",
       "      <td>M</td>\n",
       "      <td>2019-01-13</td>\n",
       "    </tr>\n",
       "    <tr>\n",
       "      <th>92198</th>\n",
       "      <td>265469877</td>\n",
       "      <td>T1</td>\n",
       "      <td>NaN</td>\n",
       "      <td>2018-11-20</td>\n",
       "    </tr>\n",
       "  </tbody>\n",
       "</table>\n",
       "</div>"
      ],
      "text/plain": [
       "       MEMBER_ID TIER_LEVEL GENDER  BIRTH_DATE\n",
       "95185  268505626         T1      F  2019-11-22\n",
       "92244  265498544         T1    NaN  2019-08-28\n",
       "95491  269085786         T1    NaN  2019-08-22\n",
       "92857  265995448         T1      M  2019-08-03\n",
       "92109  265424727         T1      M  2019-05-19\n",
       "94942  268195062       T1CC      M  2019-05-09\n",
       "93840  266834074         T1    NaN  2019-04-02\n",
       "94810  268010343         T1      F  2019-01-15\n",
       "88036  261747712         T1      M  2019-01-13\n",
       "92198  265469877         T1    NaN  2018-11-20"
      ]
     },
     "execution_count": 259,
     "metadata": {},
     "output_type": "execute_result"
    }
   ],
   "source": [
    "dfm.sort_values('BIRTH_DATE', ascending=False).head(10)"
   ]
  },
  {
   "cell_type": "code",
   "execution_count": 260,
   "id": "2033c2fe-0fb7-495b-b30d-9be4960f7021",
   "metadata": {},
   "outputs": [
    {
     "data": {
      "text/plain": [
       "Index(['MEMBER_ID', 'TRUE_OD', 'D', 'FLIGHT_DATE', 'BOOKING_DATE',\n",
       "       'TICKET_SALES_DATE', 'TICKET_NUMBER', 'TRUE_ORIGIN_COUNTRY',\n",
       "       'ADDR_COUNTRY', 'PNR', 'PARTY_SZ', 'size', 'booking_date',\n",
       "       'booking_dowk', 'booking_mo', 'flight_date', 'flight_dowk', 'flight_mo',\n",
       "       'TIER_LEVEL', 'GENDER', 'BIRTH_DATE', 'age_at_flight'],\n",
       "      dtype='object')"
      ]
     },
     "execution_count": 260,
     "metadata": {},
     "output_type": "execute_result"
    }
   ],
   "source": [
    "x.columns"
   ]
  },
  {
   "cell_type": "code",
   "execution_count": 262,
   "id": "5fb4ea28-c10a-4aaf-8a5e-50d68b0a1f85",
   "metadata": {},
   "outputs": [
    {
     "data": {
      "text/plain": [
       "Index(['MEMBER_ID', 'booking_dowk', 'booking_mo', 'flight_dowk', 'flight_mo',\n",
       "       'age_at_flight', 'PARTY_SZ'],\n",
       "      dtype='object')"
      ]
     },
     "execution_count": 262,
     "metadata": {},
     "output_type": "execute_result"
    }
   ],
   "source": [
    "attributes.columns"
   ]
  },
  {
   "cell_type": "code",
   "execution_count": 263,
   "id": "40c5338d-2e0f-4028-942f-ee24d4043dc4",
   "metadata": {},
   "outputs": [],
   "source": [
    "x.to_csv(\"activity_reduced_with_attributes.csv\", index=0)"
   ]
  },
  {
   "cell_type": "code",
   "execution_count": 264,
   "id": "77467568-3a67-4e11-97eb-a23b80bb70f5",
   "metadata": {},
   "outputs": [
    {
     "data": {
      "text/plain": [
       "Index(['MEMBER_ID', 'booking_dowk', 'booking_mo', 'flight_dowk', 'flight_mo',\n",
       "       'age_at_flight', 'PARTY_SZ'],\n",
       "      dtype='object')"
      ]
     },
     "execution_count": 264,
     "metadata": {},
     "output_type": "execute_result"
    }
   ],
   "source": [
    "attributes.columns"
   ]
  },
  {
   "cell_type": "code",
   "execution_count": 265,
   "id": "6ce51390-eebd-42d5-b1c6-6f2013a3819f",
   "metadata": {},
   "outputs": [
    {
     "data": {
      "text/plain": [
       "(835129, 22)"
      ]
     },
     "execution_count": 265,
     "metadata": {},
     "output_type": "execute_result"
    }
   ],
   "source": [
    "x.shape"
   ]
  },
  {
   "cell_type": "code",
   "execution_count": null,
   "id": "cfaa6189-971e-4838-9c53-189e58a9322b",
   "metadata": {},
   "outputs": [],
   "source": []
  }
 ],
 "metadata": {
  "kernelspec": {
   "display_name": "Python 3 (ipykernel)",
   "language": "python",
   "name": "python3"
  },
  "language_info": {
   "codemirror_mode": {
    "name": "ipython",
    "version": 3
   },
   "file_extension": ".py",
   "mimetype": "text/x-python",
   "name": "python",
   "nbconvert_exporter": "python",
   "pygments_lexer": "ipython3",
   "version": "3.8.12"
  },
  "toc-autonumbering": false,
  "toc-showtags": false,
  "widgets": {
   "application/vnd.jupyter.widget-state+json": {
    "state": {},
    "version_major": 2,
    "version_minor": 0
   }
  }
 },
 "nbformat": 4,
 "nbformat_minor": 5
}
