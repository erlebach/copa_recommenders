{
 "cells": [
  {
   "cell_type": "code",
   "execution_count": null,
   "id": "living-service",
   "metadata": {},
   "outputs": [],
   "source": []
  },
  {
   "cell_type": "code",
   "execution_count": 6,
   "id": "architectural-crime",
   "metadata": {
    "tags": []
   },
   "outputs": [
    {
     "name": "stdout",
     "output_type": "stream",
     "text": [
      "The autoreload extension is already loaded. To reload it, use:\n",
      "  %reload_ext autoreload\n"
     ]
    }
   ],
   "source": [
    "%load_ext autoreload\n",
    "%autoreload 2"
   ]
  },
  {
   "cell_type": "code",
   "execution_count": 7,
   "id": "acoustic-violin",
   "metadata": {},
   "outputs": [],
   "source": [
    "import matplotlib.pyplot as plt\n",
    "import numpy as np\n",
    "import pandas as pd\n",
    "import regex as rex\n",
    "import date_library as datelib\n",
    "import utils as u"
   ]
  },
  {
   "cell_type": "code",
   "execution_count": 8,
   "id": "proved-glass",
   "metadata": {},
   "outputs": [],
   "source": [
    "try:\n",
    "    # df = pd.read_csv(\"activity_reduced_before_attributes.csv\")\n",
    "    df = pd.read_csv(\"member_d.csv\")\n",
    "except:\n",
    "    # df = pd.read_csv(\"activity_reduced_before_attributes.csv.gz\")\n",
    "    df = pd.read_csv(\"member_d.csv.gz\")\n",
    "    "
   ]
  },
  {
   "cell_type": "code",
   "execution_count": 9,
   "id": "canadian-reason",
   "metadata": {},
   "outputs": [
    {
     "data": {
      "text/plain": [
       "(Index(['MEMBER_ID', 'TRUE_OD', 'D', 'FLIGHT_DATE', 'BOOKING_DATE',\n",
       "        'TICKET_SALES_DATE', 'TICKET_NUMBER', 'TRUE_ORIGIN_COUNTRY',\n",
       "        'ADDR_COUNTRY', 'PNR', 'PARTY_SZ', 'size'],\n",
       "       dtype='object'),\n",
       " (835129, 12))"
      ]
     },
     "execution_count": 9,
     "metadata": {},
     "output_type": "execute_result"
    }
   ],
   "source": [
    "df.columns, df.shape"
   ]
  },
  {
   "cell_type": "markdown",
   "id": "universal-auditor",
   "metadata": {},
   "source": [
    "# Create month and day of week columns for Booking date and flight date\n",
    "Column names: book_mo, book_dofwk, flight_mo, flight_daywk"
   ]
  },
  {
   "cell_type": "code",
   "execution_count": 10,
   "id": "thick-cameroon",
   "metadata": {},
   "outputs": [],
   "source": [
    "df1 = u.get_dayofweek_month(df, df_date_col='BOOKING_DATE', \n",
    "        labels=('booking_date', 'booking_mo', 'booking_dowk'))"
   ]
  },
  {
   "cell_type": "code",
   "execution_count": 11,
   "id": "sunset-adobe",
   "metadata": {},
   "outputs": [],
   "source": [
    "df2 = u.get_dayofweek_month(df1, df_date_col='FLIGHT_DATE', \n",
    "        labels=('flight_date', 'flight_mo', 'flight_dowk'))"
   ]
  },
  {
   "cell_type": "code",
   "execution_count": 12,
   "id": "shared-significance",
   "metadata": {},
   "outputs": [
    {
     "data": {
      "text/plain": [
       "Index(['MEMBER_ID', 'TRUE_OD', 'D', 'FLIGHT_DATE', 'BOOKING_DATE',\n",
       "       'TICKET_SALES_DATE', 'TICKET_NUMBER', 'TRUE_ORIGIN_COUNTRY',\n",
       "       'ADDR_COUNTRY', 'PNR', 'PARTY_SZ', 'size', 'booking_date',\n",
       "       'booking_dowk', 'booking_mo', 'flight_date', 'flight_dowk',\n",
       "       'flight_mo'],\n",
       "      dtype='object')"
      ]
     },
     "execution_count": 12,
     "metadata": {},
     "output_type": "execute_result"
    }
   ],
   "source": [
    "df2.columns"
   ]
  },
  {
   "cell_type": "code",
   "execution_count": 13,
   "id": "mounted-account",
   "metadata": {},
   "outputs": [
    {
     "data": {
      "text/plain": [
       "Index(['MEMBER_ID', 'TIER_LEVEL', 'TIER_LEVEL_DESCRIPTION', 'PREVIOUS_TIER',\n",
       "       'LAST_TIER_CHANGE_DATE', 'STATUS', 'ENROLL_DATE', 'GENDER',\n",
       "       'BIRTH_DATE', 'NATIONALITY', 'ADDR_COUNTRY', 'COMMUNICATION_LANGUAGE',\n",
       "       'CONNECTMILES_OFFERS_AND_NEWS', 'E_STATEMENTS',\n",
       "       'COPA_AIRLINES_OFFERS_AND_NEWS', 'CCD_ACTIVE_IND', 'MILES_BALANCE',\n",
       "       'TOTAL_MILES_SINCE_ENROLLMENT'],\n",
       "      dtype='object')"
      ]
     },
     "execution_count": 13,
     "metadata": {},
     "output_type": "execute_result"
    }
   ],
   "source": [
    "dfm = pd.read_csv(\"MEMBERS_CATALOG.csv\")\n",
    "dfm.columns"
   ]
  },
  {
   "cell_type": "code",
   "execution_count": 20,
   "id": "tested-venice",
   "metadata": {},
   "outputs": [],
   "source": [
    "dfm = dfm[['MEMBER_ID', 'TIER_LEVEL', 'GENDER', 'BIRTH_DATE']]"
   ]
  },
  {
   "cell_type": "code",
   "execution_count": 21,
   "id": "pursuant-wedding",
   "metadata": {},
   "outputs": [],
   "source": [
    "dfm1 = dfm[pd.isna(dfm['GENDER'])]"
   ]
  },
  {
   "cell_type": "code",
   "execution_count": 22,
   "id": "assigned-techno",
   "metadata": {},
   "outputs": [
    {
     "data": {
      "text/plain": [
       "0        1962-02-14\n",
       "1        1979-01-16\n",
       "2        1970-12-21\n",
       "3        1974-07-31\n",
       "4        1988-09-21\n",
       "            ...    \n",
       "96840    1964-11-05\n",
       "96841    1980-11-28\n",
       "96842    1983-08-03\n",
       "96843    1973-09-15\n",
       "96844    1985-05-05\n",
       "Name: BIRTH_DATE, Length: 96845, dtype: object"
      ]
     },
     "execution_count": 22,
     "metadata": {},
     "output_type": "execute_result"
    }
   ],
   "source": [
    "dfm.BIRTH_DATE"
   ]
  },
  {
   "cell_type": "code",
   "execution_count": 23,
   "id": "sharp-basic",
   "metadata": {},
   "outputs": [],
   "source": [
    "import datetime\n",
    "today = datetime.date.today().strftime(\"%Y-%m-%d\")\n",
    "today1 = datelib.dateTimePTYToTimestamp(today)"
   ]
  },
  {
   "cell_type": "code",
   "execution_count": 24,
   "id": "behind-incidence",
   "metadata": {},
   "outputs": [
    {
     "data": {
      "text/plain": [
       "1655823600"
      ]
     },
     "execution_count": 24,
     "metadata": {},
     "output_type": "execute_result"
    }
   ],
   "source": [
    "today1 "
   ]
  },
  {
   "cell_type": "markdown",
   "id": "increasing-response",
   "metadata": {},
   "source": [
    "# Compute passenger age when the flight departed. "
   ]
  },
  {
   "cell_type": "code",
   "execution_count": 27,
   "id": "assigned-chase",
   "metadata": {},
   "outputs": [],
   "source": [
    "x = pd.merge(df2, dfm, how='inner', on='MEMBER_ID')"
   ]
  },
  {
   "cell_type": "code",
   "execution_count": 28,
   "id": "united-artist",
   "metadata": {},
   "outputs": [
    {
     "data": {
      "text/plain": [
       "Index(['MEMBER_ID', 'TRUE_OD', 'D', 'FLIGHT_DATE', 'BOOKING_DATE',\n",
       "       'TICKET_SALES_DATE', 'TICKET_NUMBER', 'TRUE_ORIGIN_COUNTRY',\n",
       "       'ADDR_COUNTRY', 'PNR', 'PARTY_SZ', 'size', 'booking_date',\n",
       "       'booking_dowk', 'booking_mo', 'flight_date', 'flight_dowk', 'flight_mo',\n",
       "       'TIER_LEVEL', 'GENDER', 'BIRTH_DATE'],\n",
       "      dtype='object')"
      ]
     },
     "execution_count": 28,
     "metadata": {},
     "output_type": "execute_result"
    }
   ],
   "source": [
    "x.columns"
   ]
  },
  {
   "cell_type": "code",
   "execution_count": 36,
   "id": "distinct-trail",
   "metadata": {},
   "outputs": [],
   "source": [
    "birthdate = datelib.date_to_timestamp(x['BIRTH_DATE'])"
   ]
  },
  {
   "cell_type": "code",
   "execution_count": 37,
   "id": "amino-despite",
   "metadata": {},
   "outputs": [],
   "source": [
    "x['age_at_flight'] = (x['FLIGHT_DATE'] - birthdate) / (365*24*3600)\n",
    "x['age_at_flight'] = x.age_at_flight.apply(int)\n",
    "# pd.isna(x['BOOKING_DATE']).sum()\n",
    "#x['age_at_flight'] = x['age_at_flight'].astype(int)"
   ]
  },
  {
   "cell_type": "code",
   "execution_count": 38,
   "id": "moderate-complaint",
   "metadata": {},
   "outputs": [
    {
     "data": {
      "text/plain": [
       "0         56\n",
       "1         56\n",
       "2         56\n",
       "3         56\n",
       "4         54\n",
       "          ..\n",
       "835124    30\n",
       "835125    36\n",
       "835126    32\n",
       "835127    62\n",
       "835128    63\n",
       "Name: age_at_flight, Length: 835129, dtype: int64"
      ]
     },
     "execution_count": 38,
     "metadata": {},
     "output_type": "execute_result"
    }
   ],
   "source": [
    "x['age_at_flight']"
   ]
  },
  {
   "cell_type": "code",
   "execution_count": 39,
   "id": "together-productivity",
   "metadata": {},
   "outputs": [
    {
     "data": {
      "text/plain": [
       "Index(['MEMBER_ID', 'TRUE_OD', 'D', 'FLIGHT_DATE', 'BOOKING_DATE',\n",
       "       'TICKET_SALES_DATE', 'TICKET_NUMBER', 'TRUE_ORIGIN_COUNTRY',\n",
       "       'ADDR_COUNTRY', 'PNR', 'PARTY_SZ', 'size', 'booking_date',\n",
       "       'booking_dowk', 'booking_mo', 'flight_date', 'flight_dowk', 'flight_mo',\n",
       "       'TIER_LEVEL', 'GENDER', 'BIRTH_DATE', 'age_at_flight'],\n",
       "      dtype='object')"
      ]
     },
     "execution_count": 39,
     "metadata": {},
     "output_type": "execute_result"
    }
   ],
   "source": [
    "x.columns"
   ]
  },
  {
   "cell_type": "code",
   "execution_count": 40,
   "id": "effective-excuse",
   "metadata": {},
   "outputs": [],
   "source": [
    "# Party size: 9 values\n",
    "# Need trip duration. "
   ]
  },
  {
   "cell_type": "code",
   "execution_count": 41,
   "id": "listed-captain",
   "metadata": {},
   "outputs": [],
   "source": [
    "attribute_cols = ['MEMBER_ID', 'booking_dowk', 'booking_mo', 'flight_dowk', \n",
    "                  'flight_mo', 'age_at_flight', 'PARTY_SZ']\n",
    "attributes = x[attribute_cols]"
   ]
  },
  {
   "cell_type": "markdown",
   "id": "higher-generator",
   "metadata": {},
   "source": [
    "# 67 passenges are 2 years old? Not possible! Check this out. "
   ]
  },
  {
   "cell_type": "code",
   "execution_count": 42,
   "id": "beautiful-stress",
   "metadata": {},
   "outputs": [
    {
     "data": {
      "text/html": [
       "<div>\n",
       "<style scoped>\n",
       "    .dataframe tbody tr th:only-of-type {\n",
       "        vertical-align: middle;\n",
       "    }\n",
       "\n",
       "    .dataframe tbody tr th {\n",
       "        vertical-align: top;\n",
       "    }\n",
       "\n",
       "    .dataframe thead th {\n",
       "        text-align: right;\n",
       "    }\n",
       "</style>\n",
       "<table border=\"1\" class=\"dataframe\">\n",
       "  <thead>\n",
       "    <tr style=\"text-align: right;\">\n",
       "      <th></th>\n",
       "      <th>MEMBER_ID</th>\n",
       "      <th>booking_dowk</th>\n",
       "      <th>booking_mo</th>\n",
       "      <th>flight_dowk</th>\n",
       "      <th>flight_mo</th>\n",
       "      <th>age_at_flight</th>\n",
       "      <th>PARTY_SZ</th>\n",
       "    </tr>\n",
       "  </thead>\n",
       "  <tbody>\n",
       "    <tr>\n",
       "      <th>5793</th>\n",
       "      <td>233753592</td>\n",
       "      <td>3</td>\n",
       "      <td>3</td>\n",
       "      <td>2</td>\n",
       "      <td>4</td>\n",
       "      <td>2</td>\n",
       "      <td>1</td>\n",
       "    </tr>\n",
       "    <tr>\n",
       "      <th>5794</th>\n",
       "      <td>233753592</td>\n",
       "      <td>5</td>\n",
       "      <td>3</td>\n",
       "      <td>1</td>\n",
       "      <td>4</td>\n",
       "      <td>2</td>\n",
       "      <td>1</td>\n",
       "    </tr>\n",
       "    <tr>\n",
       "      <th>5795</th>\n",
       "      <td>233753592</td>\n",
       "      <td>3</td>\n",
       "      <td>1</td>\n",
       "      <td>3</td>\n",
       "      <td>3</td>\n",
       "      <td>2</td>\n",
       "      <td>1</td>\n",
       "    </tr>\n",
       "    <tr>\n",
       "      <th>5796</th>\n",
       "      <td>233753592</td>\n",
       "      <td>3</td>\n",
       "      <td>1</td>\n",
       "      <td>1</td>\n",
       "      <td>3</td>\n",
       "      <td>2</td>\n",
       "      <td>1</td>\n",
       "    </tr>\n",
       "    <tr>\n",
       "      <th>170580</th>\n",
       "      <td>242778655</td>\n",
       "      <td>3</td>\n",
       "      <td>1</td>\n",
       "      <td>4</td>\n",
       "      <td>8</td>\n",
       "      <td>2</td>\n",
       "      <td>1</td>\n",
       "    </tr>\n",
       "  </tbody>\n",
       "</table>\n",
       "</div>"
      ],
      "text/plain": [
       "        MEMBER_ID  booking_dowk  booking_mo  flight_dowk  flight_mo  \\\n",
       "5793    233753592             3           3            2          4   \n",
       "5794    233753592             5           3            1          4   \n",
       "5795    233753592             3           1            3          3   \n",
       "5796    233753592             3           1            1          3   \n",
       "170580  242778655             3           1            4          8   \n",
       "\n",
       "        age_at_flight  PARTY_SZ  \n",
       "5793                2         1  \n",
       "5794                2         1  \n",
       "5795                2         1  \n",
       "5796                2         1  \n",
       "170580              2         1  "
      ]
     },
     "execution_count": 42,
     "metadata": {},
     "output_type": "execute_result"
    }
   ],
   "source": [
    "pax_age2 = attributes[attributes['age_at_flight'] == 2].head()\n",
    "pax_age2"
   ]
  },
  {
   "cell_type": "code",
   "execution_count": 43,
   "id": "experimental-therapist",
   "metadata": {},
   "outputs": [],
   "source": [
    "attributes.age_at_flight.value_counts().sort_index().head(50);"
   ]
  },
  {
   "cell_type": "code",
   "execution_count": 44,
   "id": "frank-combine",
   "metadata": {},
   "outputs": [
    {
     "data": {
      "text/plain": [
       "0    179516\n",
       "1    145944\n",
       "2    142122\n",
       "3    138827\n",
       "4    130237\n",
       "5     53409\n",
       "6     45074\n",
       "Name: booking_dowk, dtype: int64"
      ]
     },
     "execution_count": 44,
     "metadata": {},
     "output_type": "execute_result"
    }
   ],
   "source": [
    "pax_age2.booking_mo.value_counts().sort_index()\n",
    "x.booking_dowk.value_counts().sort_index()"
   ]
  },
  {
   "cell_type": "code",
   "execution_count": 45,
   "id": "boring-detector",
   "metadata": {},
   "outputs": [
    {
     "data": {
      "text/html": [
       "<div>\n",
       "<style scoped>\n",
       "    .dataframe tbody tr th:only-of-type {\n",
       "        vertical-align: middle;\n",
       "    }\n",
       "\n",
       "    .dataframe tbody tr th {\n",
       "        vertical-align: top;\n",
       "    }\n",
       "\n",
       "    .dataframe thead th {\n",
       "        text-align: right;\n",
       "    }\n",
       "</style>\n",
       "<table border=\"1\" class=\"dataframe\">\n",
       "  <thead>\n",
       "    <tr style=\"text-align: right;\">\n",
       "      <th></th>\n",
       "      <th>MEMBER_ID</th>\n",
       "      <th>FLIGHT_DATE</th>\n",
       "    </tr>\n",
       "  </thead>\n",
       "  <tbody>\n",
       "    <tr>\n",
       "      <th>271579</th>\n",
       "      <td>230831718</td>\n",
       "      <td>1557187200</td>\n",
       "    </tr>\n",
       "    <tr>\n",
       "      <th>271580</th>\n",
       "      <td>230831718</td>\n",
       "      <td>1622332800</td>\n",
       "    </tr>\n",
       "    <tr>\n",
       "      <th>271581</th>\n",
       "      <td>230831718</td>\n",
       "      <td>1467849600</td>\n",
       "    </tr>\n",
       "    <tr>\n",
       "      <th>271582</th>\n",
       "      <td>230831718</td>\n",
       "      <td>1564272000</td>\n",
       "    </tr>\n",
       "    <tr>\n",
       "      <th>271583</th>\n",
       "      <td>230831718</td>\n",
       "      <td>1460160000</td>\n",
       "    </tr>\n",
       "    <tr>\n",
       "      <th>271584</th>\n",
       "      <td>230831718</td>\n",
       "      <td>1564963200</td>\n",
       "    </tr>\n",
       "    <tr>\n",
       "      <th>271585</th>\n",
       "      <td>230831718</td>\n",
       "      <td>1498003200</td>\n",
       "    </tr>\n",
       "    <tr>\n",
       "      <th>271586</th>\n",
       "      <td>230831718</td>\n",
       "      <td>1510012800</td>\n",
       "    </tr>\n",
       "    <tr>\n",
       "      <th>271587</th>\n",
       "      <td>230831718</td>\n",
       "      <td>1547683200</td>\n",
       "    </tr>\n",
       "    <tr>\n",
       "      <th>271588</th>\n",
       "      <td>230831718</td>\n",
       "      <td>1501372800</td>\n",
       "    </tr>\n",
       "  </tbody>\n",
       "</table>\n",
       "</div>"
      ],
      "text/plain": [
       "        MEMBER_ID  FLIGHT_DATE\n",
       "271579  230831718   1557187200\n",
       "271580  230831718   1622332800\n",
       "271581  230831718   1467849600\n",
       "271582  230831718   1564272000\n",
       "271583  230831718   1460160000\n",
       "271584  230831718   1564963200\n",
       "271585  230831718   1498003200\n",
       "271586  230831718   1510012800\n",
       "271587  230831718   1547683200\n",
       "271588  230831718   1501372800"
      ]
     },
     "execution_count": 45,
     "metadata": {},
     "output_type": "execute_result"
    }
   ],
   "source": [
    "df[df['MEMBER_ID'] == 230831718][['MEMBER_ID', 'FLIGHT_DATE']].head(10)"
   ]
  },
  {
   "cell_type": "code",
   "execution_count": 46,
   "id": "rural-shell",
   "metadata": {},
   "outputs": [
    {
     "data": {
      "text/html": [
       "<div>\n",
       "<style scoped>\n",
       "    .dataframe tbody tr th:only-of-type {\n",
       "        vertical-align: middle;\n",
       "    }\n",
       "\n",
       "    .dataframe tbody tr th {\n",
       "        vertical-align: top;\n",
       "    }\n",
       "\n",
       "    .dataframe thead th {\n",
       "        text-align: right;\n",
       "    }\n",
       "</style>\n",
       "<table border=\"1\" class=\"dataframe\">\n",
       "  <thead>\n",
       "    <tr style=\"text-align: right;\">\n",
       "      <th></th>\n",
       "      <th>MEMBER_ID</th>\n",
       "      <th>TIER_LEVEL</th>\n",
       "      <th>GENDER</th>\n",
       "      <th>BIRTH_DATE</th>\n",
       "    </tr>\n",
       "  </thead>\n",
       "  <tbody>\n",
       "    <tr>\n",
       "      <th>10436</th>\n",
       "      <td>230831718</td>\n",
       "      <td>T3</td>\n",
       "      <td>M</td>\n",
       "      <td>2013-03-03</td>\n",
       "    </tr>\n",
       "  </tbody>\n",
       "</table>\n",
       "</div>"
      ],
      "text/plain": [
       "       MEMBER_ID TIER_LEVEL GENDER  BIRTH_DATE\n",
       "10436  230831718         T3      M  2013-03-03"
      ]
     },
     "execution_count": 46,
     "metadata": {},
     "output_type": "execute_result"
    }
   ],
   "source": [
    "dfm[dfm['MEMBER_ID'] == 230831718]"
   ]
  },
  {
   "cell_type": "code",
   "execution_count": 47,
   "id": "institutional-revelation",
   "metadata": {},
   "outputs": [
    {
     "data": {
      "text/plain": [
       "('2017-11-07', '05:00')"
      ]
     },
     "execution_count": 47,
     "metadata": {},
     "output_type": "execute_result"
    }
   ],
   "source": [
    "# Birth date: 2013-03-03\n",
    "# Flight date: 1510012800\n",
    "\n",
    "datelib.timestampToDateTimePTY(1510012800)"
   ]
  },
  {
   "cell_type": "markdown",
   "id": "blind-force",
   "metadata": {},
   "source": [
    "Age: 4 years old. "
   ]
  },
  {
   "cell_type": "code",
   "execution_count": 48,
   "id": "buried-unknown",
   "metadata": {
    "tags": []
   },
   "outputs": [
    {
     "name": "stderr",
     "output_type": "stream",
     "text": [
      "/home/erlebach/anaconda3/lib/python3.8/site-packages/IPython/core/interactiveshell.py:3357: DtypeWarning: Columns (37,46) have mixed types.Specify dtype option on import or set low_memory=False.\n",
      "  if (await self.run_code(code, result,  async_=asy)):\n"
     ]
    },
    {
     "data": {
      "text/html": [
       "<div>\n",
       "<style scoped>\n",
       "    .dataframe tbody tr th:only-of-type {\n",
       "        vertical-align: middle;\n",
       "    }\n",
       "\n",
       "    .dataframe tbody tr th {\n",
       "        vertical-align: top;\n",
       "    }\n",
       "\n",
       "    .dataframe thead th {\n",
       "        text-align: right;\n",
       "    }\n",
       "</style>\n",
       "<table border=\"1\" class=\"dataframe\">\n",
       "  <thead>\n",
       "    <tr style=\"text-align: right;\">\n",
       "      <th></th>\n",
       "      <th>MEMBER_ID</th>\n",
       "      <th>FLIGHT_DATE</th>\n",
       "    </tr>\n",
       "  </thead>\n",
       "  <tbody>\n",
       "    <tr>\n",
       "      <th>2010715</th>\n",
       "      <td>230831718</td>\n",
       "      <td>NaN</td>\n",
       "    </tr>\n",
       "    <tr>\n",
       "      <th>2010716</th>\n",
       "      <td>230831718</td>\n",
       "      <td>NaN</td>\n",
       "    </tr>\n",
       "    <tr>\n",
       "      <th>2010717</th>\n",
       "      <td>230831718</td>\n",
       "      <td>2015-08-02</td>\n",
       "    </tr>\n",
       "    <tr>\n",
       "      <th>2010718</th>\n",
       "      <td>230831718</td>\n",
       "      <td>NaN</td>\n",
       "    </tr>\n",
       "    <tr>\n",
       "      <th>2010719</th>\n",
       "      <td>230831718</td>\n",
       "      <td>2015-08-06</td>\n",
       "    </tr>\n",
       "    <tr>\n",
       "      <th>2010720</th>\n",
       "      <td>230831718</td>\n",
       "      <td>2015-09-12</td>\n",
       "    </tr>\n",
       "    <tr>\n",
       "      <th>2010721</th>\n",
       "      <td>230831718</td>\n",
       "      <td>2015-09-20</td>\n",
       "    </tr>\n",
       "    <tr>\n",
       "      <th>2010722</th>\n",
       "      <td>230831718</td>\n",
       "      <td>2015-09-27</td>\n",
       "    </tr>\n",
       "    <tr>\n",
       "      <th>2010723</th>\n",
       "      <td>230831718</td>\n",
       "      <td>2015-12-01</td>\n",
       "    </tr>\n",
       "    <tr>\n",
       "      <th>2010724</th>\n",
       "      <td>230831718</td>\n",
       "      <td>2015-12-03</td>\n",
       "    </tr>\n",
       "  </tbody>\n",
       "</table>\n",
       "</div>"
      ],
      "text/plain": [
       "         MEMBER_ID FLIGHT_DATE\n",
       "2010715  230831718         NaN\n",
       "2010716  230831718         NaN\n",
       "2010717  230831718  2015-08-02\n",
       "2010718  230831718         NaN\n",
       "2010719  230831718  2015-08-06\n",
       "2010720  230831718  2015-09-12\n",
       "2010721  230831718  2015-09-20\n",
       "2010722  230831718  2015-09-27\n",
       "2010723  230831718  2015-12-01\n",
       "2010724  230831718  2015-12-03"
      ]
     },
     "execution_count": 48,
     "metadata": {},
     "output_type": "execute_result"
    }
   ],
   "source": [
    "dfull = u.read_activity_file()\n",
    "dfull[dfull['MEMBER_ID'] == 230831718][['MEMBER_ID', 'FLIGHT_DATE']].head(10)"
   ]
  },
  {
   "cell_type": "code",
   "execution_count": 53,
   "id": "prostate-vacuum",
   "metadata": {},
   "outputs": [
    {
     "data": {
      "text/html": [
       "<div>\n",
       "<style scoped>\n",
       "    .dataframe tbody tr th:only-of-type {\n",
       "        vertical-align: middle;\n",
       "    }\n",
       "\n",
       "    .dataframe tbody tr th {\n",
       "        vertical-align: top;\n",
       "    }\n",
       "\n",
       "    .dataframe thead th {\n",
       "        text-align: right;\n",
       "    }\n",
       "</style>\n",
       "<table border=\"1\" class=\"dataframe\">\n",
       "  <thead>\n",
       "    <tr style=\"text-align: right;\">\n",
       "      <th></th>\n",
       "      <th>MEMBER_ID</th>\n",
       "      <th>FLIGHT_DATE</th>\n",
       "    </tr>\n",
       "  </thead>\n",
       "  <tbody>\n",
       "    <tr>\n",
       "      <th>2010715</th>\n",
       "      <td>230831718</td>\n",
       "      <td>NaN</td>\n",
       "    </tr>\n",
       "    <tr>\n",
       "      <th>2010716</th>\n",
       "      <td>230831718</td>\n",
       "      <td>NaN</td>\n",
       "    </tr>\n",
       "    <tr>\n",
       "      <th>2010717</th>\n",
       "      <td>230831718</td>\n",
       "      <td>2015-08-02</td>\n",
       "    </tr>\n",
       "    <tr>\n",
       "      <th>2010718</th>\n",
       "      <td>230831718</td>\n",
       "      <td>NaN</td>\n",
       "    </tr>\n",
       "    <tr>\n",
       "      <th>2010719</th>\n",
       "      <td>230831718</td>\n",
       "      <td>2015-08-06</td>\n",
       "    </tr>\n",
       "    <tr>\n",
       "      <th>2010720</th>\n",
       "      <td>230831718</td>\n",
       "      <td>2015-09-12</td>\n",
       "    </tr>\n",
       "    <tr>\n",
       "      <th>2010721</th>\n",
       "      <td>230831718</td>\n",
       "      <td>2015-09-20</td>\n",
       "    </tr>\n",
       "    <tr>\n",
       "      <th>2010722</th>\n",
       "      <td>230831718</td>\n",
       "      <td>2015-09-27</td>\n",
       "    </tr>\n",
       "    <tr>\n",
       "      <th>2010723</th>\n",
       "      <td>230831718</td>\n",
       "      <td>2015-12-01</td>\n",
       "    </tr>\n",
       "    <tr>\n",
       "      <th>2010724</th>\n",
       "      <td>230831718</td>\n",
       "      <td>2015-12-03</td>\n",
       "    </tr>\n",
       "  </tbody>\n",
       "</table>\n",
       "</div>"
      ],
      "text/plain": [
       "         MEMBER_ID FLIGHT_DATE\n",
       "2010715  230831718         NaN\n",
       "2010716  230831718         NaN\n",
       "2010717  230831718  2015-08-02\n",
       "2010718  230831718         NaN\n",
       "2010719  230831718  2015-08-06\n",
       "2010720  230831718  2015-09-12\n",
       "2010721  230831718  2015-09-20\n",
       "2010722  230831718  2015-09-27\n",
       "2010723  230831718  2015-12-01\n",
       "2010724  230831718  2015-12-03"
      ]
     },
     "execution_count": 53,
     "metadata": {},
     "output_type": "execute_result"
    }
   ],
   "source": [
    "dfull[dfull['MEMBER_ID'] == 230831718][['MEMBER_ID', 'FLIGHT_DATE']].head(10)"
   ]
  },
  {
   "cell_type": "code",
   "execution_count": 54,
   "id": "official-accounting",
   "metadata": {
    "tags": []
   },
   "outputs": [
    {
     "data": {
      "text/html": [
       "<div>\n",
       "<style scoped>\n",
       "    .dataframe tbody tr th:only-of-type {\n",
       "        vertical-align: middle;\n",
       "    }\n",
       "\n",
       "    .dataframe tbody tr th {\n",
       "        vertical-align: top;\n",
       "    }\n",
       "\n",
       "    .dataframe thead th {\n",
       "        text-align: right;\n",
       "    }\n",
       "</style>\n",
       "<table border=\"1\" class=\"dataframe\">\n",
       "  <thead>\n",
       "    <tr style=\"text-align: right;\">\n",
       "      <th></th>\n",
       "      <th>MEMBER_ID</th>\n",
       "      <th>TIER_LEVEL</th>\n",
       "      <th>GENDER</th>\n",
       "      <th>BIRTH_DATE</th>\n",
       "    </tr>\n",
       "  </thead>\n",
       "  <tbody>\n",
       "    <tr>\n",
       "      <th>95185</th>\n",
       "      <td>268505626</td>\n",
       "      <td>T1</td>\n",
       "      <td>F</td>\n",
       "      <td>2019-11-22</td>\n",
       "    </tr>\n",
       "    <tr>\n",
       "      <th>92244</th>\n",
       "      <td>265498544</td>\n",
       "      <td>T1</td>\n",
       "      <td>NaN</td>\n",
       "      <td>2019-08-28</td>\n",
       "    </tr>\n",
       "    <tr>\n",
       "      <th>95491</th>\n",
       "      <td>269085786</td>\n",
       "      <td>T1</td>\n",
       "      <td>NaN</td>\n",
       "      <td>2019-08-22</td>\n",
       "    </tr>\n",
       "    <tr>\n",
       "      <th>92857</th>\n",
       "      <td>265995448</td>\n",
       "      <td>T1</td>\n",
       "      <td>M</td>\n",
       "      <td>2019-08-03</td>\n",
       "    </tr>\n",
       "    <tr>\n",
       "      <th>92109</th>\n",
       "      <td>265424727</td>\n",
       "      <td>T1</td>\n",
       "      <td>M</td>\n",
       "      <td>2019-05-19</td>\n",
       "    </tr>\n",
       "    <tr>\n",
       "      <th>94942</th>\n",
       "      <td>268195062</td>\n",
       "      <td>T1CC</td>\n",
       "      <td>M</td>\n",
       "      <td>2019-05-09</td>\n",
       "    </tr>\n",
       "    <tr>\n",
       "      <th>93840</th>\n",
       "      <td>266834074</td>\n",
       "      <td>T1</td>\n",
       "      <td>NaN</td>\n",
       "      <td>2019-04-02</td>\n",
       "    </tr>\n",
       "    <tr>\n",
       "      <th>94810</th>\n",
       "      <td>268010343</td>\n",
       "      <td>T1</td>\n",
       "      <td>F</td>\n",
       "      <td>2019-01-15</td>\n",
       "    </tr>\n",
       "    <tr>\n",
       "      <th>88036</th>\n",
       "      <td>261747712</td>\n",
       "      <td>T1</td>\n",
       "      <td>M</td>\n",
       "      <td>2019-01-13</td>\n",
       "    </tr>\n",
       "    <tr>\n",
       "      <th>92198</th>\n",
       "      <td>265469877</td>\n",
       "      <td>T1</td>\n",
       "      <td>NaN</td>\n",
       "      <td>2018-11-20</td>\n",
       "    </tr>\n",
       "  </tbody>\n",
       "</table>\n",
       "</div>"
      ],
      "text/plain": [
       "       MEMBER_ID TIER_LEVEL GENDER  BIRTH_DATE\n",
       "95185  268505626         T1      F  2019-11-22\n",
       "92244  265498544         T1    NaN  2019-08-28\n",
       "95491  269085786         T1    NaN  2019-08-22\n",
       "92857  265995448         T1      M  2019-08-03\n",
       "92109  265424727         T1      M  2019-05-19\n",
       "94942  268195062       T1CC      M  2019-05-09\n",
       "93840  266834074         T1    NaN  2019-04-02\n",
       "94810  268010343         T1      F  2019-01-15\n",
       "88036  261747712         T1      M  2019-01-13\n",
       "92198  265469877         T1    NaN  2018-11-20"
      ]
     },
     "execution_count": 54,
     "metadata": {},
     "output_type": "execute_result"
    }
   ],
   "source": [
    "dfm.sort_values('BIRTH_DATE', ascending=False).head(10)"
   ]
  },
  {
   "cell_type": "code",
   "execution_count": 55,
   "id": "fantastic-madagascar",
   "metadata": {},
   "outputs": [
    {
     "data": {
      "text/plain": [
       "Index(['MEMBER_ID', 'TRUE_OD', 'D', 'FLIGHT_DATE', 'BOOKING_DATE',\n",
       "       'TICKET_SALES_DATE', 'TICKET_NUMBER', 'TRUE_ORIGIN_COUNTRY',\n",
       "       'ADDR_COUNTRY', 'PNR', 'PARTY_SZ', 'size', 'booking_date',\n",
       "       'booking_dowk', 'booking_mo', 'flight_date', 'flight_dowk', 'flight_mo',\n",
       "       'TIER_LEVEL', 'GENDER', 'BIRTH_DATE', 'age_at_flight'],\n",
       "      dtype='object')"
      ]
     },
     "execution_count": 55,
     "metadata": {},
     "output_type": "execute_result"
    }
   ],
   "source": [
    "x.columns"
   ]
  },
  {
   "cell_type": "code",
   "execution_count": 56,
   "id": "guided-expression",
   "metadata": {},
   "outputs": [
    {
     "data": {
      "text/plain": [
       "Index(['MEMBER_ID', 'booking_dowk', 'booking_mo', 'flight_dowk', 'flight_mo',\n",
       "       'age_at_flight', 'PARTY_SZ'],\n",
       "      dtype='object')"
      ]
     },
     "execution_count": 56,
     "metadata": {},
     "output_type": "execute_result"
    }
   ],
   "source": [
    "attributes.columns"
   ]
  },
  {
   "cell_type": "code",
   "execution_count": 57,
   "id": "superior-integration",
   "metadata": {},
   "outputs": [],
   "source": [
    "x.to_csv(\"activity_reduced_with_attributes.csv\", index=0)"
   ]
  },
  {
   "cell_type": "code",
   "execution_count": 58,
   "id": "focal-wallace",
   "metadata": {},
   "outputs": [
    {
     "data": {
      "text/plain": [
       "Index(['MEMBER_ID', 'booking_dowk', 'booking_mo', 'flight_dowk', 'flight_mo',\n",
       "       'age_at_flight', 'PARTY_SZ'],\n",
       "      dtype='object')"
      ]
     },
     "execution_count": 58,
     "metadata": {},
     "output_type": "execute_result"
    }
   ],
   "source": [
    "attributes.columns"
   ]
  },
  {
   "cell_type": "code",
   "execution_count": 59,
   "id": "bottom-baking",
   "metadata": {},
   "outputs": [
    {
     "data": {
      "text/plain": [
       "((835129, 22),\n",
       " Index(['MEMBER_ID', 'TRUE_OD', 'D', 'FLIGHT_DATE', 'BOOKING_DATE',\n",
       "        'TICKET_SALES_DATE', 'TICKET_NUMBER', 'TRUE_ORIGIN_COUNTRY',\n",
       "        'ADDR_COUNTRY', 'PNR', 'PARTY_SZ', 'size', 'booking_date',\n",
       "        'booking_dowk', 'booking_mo', 'flight_date', 'flight_dowk', 'flight_mo',\n",
       "        'TIER_LEVEL', 'GENDER', 'BIRTH_DATE', 'age_at_flight'],\n",
       "       dtype='object'))"
      ]
     },
     "execution_count": 59,
     "metadata": {},
     "output_type": "execute_result"
    }
   ],
   "source": [
    "x.shape, x.columns"
   ]
  },
  {
   "cell_type": "code",
   "execution_count": null,
   "id": "married-ownership",
   "metadata": {},
   "outputs": [],
   "source": []
  }
 ],
 "metadata": {
  "kernelspec": {
   "display_name": "Python 3",
   "language": "python",
   "name": "python3"
  },
  "language_info": {
   "codemirror_mode": {
    "name": "ipython",
    "version": 3
   },
   "file_extension": ".py",
   "mimetype": "text/x-python",
   "name": "python",
   "nbconvert_exporter": "python",
   "pygments_lexer": "ipython3",
   "version": "3.8.8"
  },
  "toc-autonumbering": false,
  "toc-showtags": false,
  "widgets": {
   "application/vnd.jupyter.widget-state+json": {
    "state": {},
    "version_major": 2,
    "version_minor": 0
   }
  }
 },
 "nbformat": 4,
 "nbformat_minor": 5
}
