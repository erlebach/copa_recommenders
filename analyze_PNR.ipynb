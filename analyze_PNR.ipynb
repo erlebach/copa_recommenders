{
 "cells": [
  {
   "cell_type": "markdown",
   "id": "1347a2f9-7006-4b23-b42e-dd6753bee1cc",
   "metadata": {},
   "source": [
    "# Reduce rows to one per family\n",
    "* Starting point: A file which only contains the last flight segment of the TRUE_OD itinerary. \n",
    "    * This was identified by equating the destination of TRUE_OD and the destination of SEGMENT_OD\n",
    "    * I only keep flights where the country of origin corresponds to the country of the country of the origin "
   ]
  },
  {
   "cell_type": "markdown",
   "id": "1131b624-42a1-4673-a9b6-587546e8e54b",
   "metadata": {},
   "source": [
    "Requirement: work in torch environment"
   ]
  },
  {
   "cell_type": "code",
   "execution_count": 1,
   "id": "79b5aa87-94a6-401d-bea8-affeb2eb4d83",
   "metadata": {},
   "outputs": [],
   "source": [
    "%load_ext autoreload\n",
    "%autoreload 2"
   ]
  },
  {
   "cell_type": "code",
   "execution_count": 2,
   "id": "6779e76e-04a6-4ea2-9661-e3147ddc535e",
   "metadata": {},
   "outputs": [],
   "source": [
    "import matplotlib.pyplot as plt\n",
    "import numpy as np\n",
    "import pandas as pd\n",
    "import regex as rex\n",
    "import date_library as datelib\n",
    "import utils as u"
   ]
  },
  {
   "cell_type": "code",
   "execution_count": 3,
   "id": "5d77e002-8e8f-446a-a529-3f3fd77abf3b",
   "metadata": {},
   "outputs": [],
   "source": [
    "start_file = \"reduced_df.csv\""
   ]
  },
  {
   "cell_type": "code",
   "execution_count": 4,
   "id": "8ddf6798-ad4d-402e-8e4a-d641f6e34237",
   "metadata": {},
   "outputs": [
    {
     "name": "stderr",
     "output_type": "stream",
     "text": [
      "/Users/erlebach/opt/anaconda3/envs/torch/lib/python3.8/site-packages/IPython/core/interactiveshell.py:3457: DtypeWarning: Columns (16) have mixed types.Specify dtype option on import or set low_memory=False.\n",
      "  exec(code_obj, self.user_global_ns, self.user_ns)\n"
     ]
    },
    {
     "data": {
      "text/plain": [
       "(990144, 24)"
      ]
     },
     "execution_count": 4,
     "metadata": {},
     "output_type": "execute_result"
    }
   ],
   "source": [
    "# df = pd.read_csv(\"activity_top10e5.csv\", nrows=100000, )\n",
    "df = pd.read_csv(\n",
    "    start_file,\n",
    "    nrows=None,\n",
    ")\n",
    "df0 = df.copy()\n",
    "df.shape"
   ]
  },
  {
   "cell_type": "markdown",
   "id": "b22f13be-c3a1-4ea2-b492-2dc638c5293e",
   "metadata": {},
   "source": [
    "# Analyze membership, families, etc\n",
    "* There is already a 1-1 correspondance between PNR and member ids\n",
    "* Rows with undefined PNR have been removed (about 50k rows)\n",
    "\n",
    "## Remove all records where one PNR has multiple MEMBER_IDs\n",
    "* At least until we understand this case better\n",
    "\n",
    "### How many TICKET_NUMBERs for each PNR?\n",
    "* I would expect one per person if several people are covered. \n",
    "* How many MEMBER_IDs per PNR? I would expect 1"
   ]
  },
  {
   "cell_type": "code",
   "execution_count": 5,
   "id": "0adab289-a186-4eb8-8b14-53398a1cb7b2",
   "metadata": {},
   "outputs": [],
   "source": [
    "cols_pnr = [\n",
    "    \"PNR\",\n",
    "    \"FLIGHT_DATE\",\n",
    "    \"OPERATING_FLIGHT_NUMBER\",\n",
    "    \"SEGMENT_OD\",\n",
    "    \"TRUE_OD\",\n",
    "    \"TICKET_NUMBER\",\n",
    "]"
   ]
  },
  {
   "cell_type": "code",
   "execution_count": 6,
   "id": "38122aa6-a9dc-46ea-a646-e52a0cf42271",
   "metadata": {},
   "outputs": [
    {
     "data": {
      "text/plain": [
       "(910561, 24)"
      ]
     },
     "execution_count": 6,
     "metadata": {},
     "output_type": "execute_result"
    }
   ],
   "source": [
    "df = u.remove_flights_within_country(df)\n",
    "df.shape"
   ]
  },
  {
   "cell_type": "markdown",
   "id": "c4a88efc-7600-4e4e-a76f-8b4ab08e29d8",
   "metadata": {},
   "source": [
    "### (PNR, FLIGHT#, FLIGHT_date) should be unique\n",
    "* different ticket numbers corresponding to a reservation \n",
    "  made by a single member that are the same flight should be counted as 1. \n",
    "* The number of different tickets would be the family size (TODO)"
   ]
  },
  {
   "cell_type": "code",
   "execution_count": 7,
   "id": "7aeb2ddf-a83f-4c41-9381-34aeeec2f293",
   "metadata": {
    "tags": []
   },
   "outputs": [
    {
     "data": {
      "text/plain": [
       "(910561,)"
      ]
     },
     "execution_count": 7,
     "metadata": {},
     "output_type": "execute_result"
    }
   ],
   "source": [
    "dfg = df.groupby(['PNR','OPERATING_FLIGHT_NUMBER','FLIGHT_DATE'])\n",
    "#dfg.size().sort_values(ascending=False).iloc[32000:32050]\n",
    "dfgdf = dfg.size().to_frame('size')\n",
    "xx = dfg['FLIGHT_DATE'].transform('size')\n",
    "xx.shape"
   ]
  },
  {
   "cell_type": "code",
   "execution_count": 8,
   "id": "926206a5-95b3-413a-acbb-c60298fd6d63",
   "metadata": {},
   "outputs": [],
   "source": [
    "cols_drop = [\"PNR\", \"FLIGHT_DATE\", \"OPERATING_FLIGHT_NUMBER\"]"
   ]
  },
  {
   "cell_type": "markdown",
   "id": "d8cbfe00-8c67-4263-b41f-5d9cbe5ccad6",
   "metadata": {
    "tags": []
   },
   "source": [
    "## Identify the number of family members per trip "
   ]
  },
  {
   "cell_type": "code",
   "execution_count": 9,
   "id": "1611ea23-f9cc-4842-a785-bb66c9f285bc",
   "metadata": {
    "tags": []
   },
   "outputs": [
    {
     "data": {
      "text/plain": [
       "(910561, 24)"
      ]
     },
     "execution_count": 9,
     "metadata": {},
     "output_type": "execute_result"
    }
   ],
   "source": [
    "df.shape"
   ]
  },
  {
   "cell_type": "code",
   "execution_count": 10,
   "id": "00c96c64-d225-43cd-b1cd-c9498ffdbe12",
   "metadata": {},
   "outputs": [
    {
     "name": "stdout",
     "output_type": "stream",
     "text": [
      "max party siz:  9\n",
      "<class 'pandas.core.series.Series'>\n"
     ]
    }
   ],
   "source": [
    "df1 = u.party_size(df)\n",
    "party_size = df1.PARTY_SZ\n",
    "print(type(party_size))"
   ]
  },
  {
   "cell_type": "code",
   "execution_count": 11,
   "id": "7c4bb872-d301-4ea4-b9b6-6cd4f42b3a5e",
   "metadata": {},
   "outputs": [
    {
     "data": {
      "text/plain": [
       "((910561, 25), (910561, 25), (910561,), 910561)"
      ]
     },
     "execution_count": 11,
     "metadata": {},
     "output_type": "execute_result"
    }
   ],
   "source": [
    "df.shape, df1.shape, party_size.shape, len(party_size)"
   ]
  },
  {
   "cell_type": "code",
   "execution_count": 12,
   "id": "c3326ada-b8e2-455a-8ecf-28074170e8d9",
   "metadata": {},
   "outputs": [
    {
     "data": {
      "text/plain": [
       "(1    910150\n",
       " 2       360\n",
       " 3        27\n",
       " 9         9\n",
       " 4         8\n",
       " 7         7\n",
       " Name: PARTY_SZ, dtype: int64,\n",
       " 910561)"
      ]
     },
     "execution_count": 12,
     "metadata": {},
     "output_type": "execute_result"
    }
   ],
   "source": [
    "party_size.value_counts(), party_size.value_counts().sum()"
   ]
  },
  {
   "cell_type": "code",
   "execution_count": 13,
   "id": "293ce620-07c5-4c05-a487-f88f9a7f275a",
   "metadata": {},
   "outputs": [
    {
     "data": {
      "image/png": "[encoded data removed]",
      "text/plain": [
       "<Figure size 432x288 with 1 Axes>"
      ]
     },
     "metadata": {
      "needs_background": "light"
     },
     "output_type": "display_data"
    }
   ],
   "source": [
    "plt.hist(party_size, range=(2.54, 10));"
   ]
  },
  {
   "cell_type": "code",
   "execution_count": 14,
   "id": "bdd281a2-374f-4974-bde6-1938c1e4560a",
   "metadata": {},
   "outputs": [
    {
     "data": {
      "text/plain": [
       "(865446, 25)"
      ]
     },
     "execution_count": 14,
     "metadata": {},
     "output_type": "execute_result"
    }
   ],
   "source": [
    "df1 = u.one_record_per_family(df)\n",
    "df1.shape"
   ]
  },
  {
   "cell_type": "code",
   "execution_count": 15,
   "id": "5a957545-a0d6-43d9-934e-f50e2439c37e",
   "metadata": {},
   "outputs": [
    {
     "data": {
      "text/plain": [
       "(50793,)"
      ]
     },
     "execution_count": 15,
     "metadata": {},
     "output_type": "execute_result"
    }
   ],
   "source": [
    "df1.groupby(\"MEMBER_ID\").size().shape"
   ]
  },
  {
   "cell_type": "code",
   "execution_count": 16,
   "id": "7c7f7774-4172-4a6b-93af-b37342c5e6da",
   "metadata": {},
   "outputs": [
    {
     "data": {
      "text/plain": [
       "(50793,)"
      ]
     },
     "execution_count": 16,
     "metadata": {},
     "output_type": "execute_result"
    }
   ],
   "source": [
    "df.groupby(\"MEMBER_ID\").size().shape"
   ]
  },
  {
   "cell_type": "code",
   "execution_count": 17,
   "id": "53e8ee83-6097-4a5e-b258-b53277113109",
   "metadata": {},
   "outputs": [
    {
     "data": {
      "text/plain": [
       "(50793,)"
      ]
     },
     "execution_count": 17,
     "metadata": {},
     "output_type": "execute_result"
    }
   ],
   "source": [
    "df.groupby(\"MEMBER_ID\").size().shape"
   ]
  },
  {
   "cell_type": "code",
   "execution_count": 18,
   "id": "a93a40dd-7e78-4228-89e5-d2c45c7b8dc9",
   "metadata": {},
   "outputs": [
    {
     "data": {
      "text/plain": [
       "((862409,), (862409,))"
      ]
     },
     "execution_count": 18,
     "metadata": {},
     "output_type": "execute_result"
    }
   ],
   "source": [
    "df.groupby(\"PNR\").size().shape, df1.groupby(\"PNR\").size().shape"
   ]
  },
  {
   "cell_type": "markdown",
   "id": "886ff0a5-ddfa-4b12-9d54-f2ad54df1907",
   "metadata": {},
   "source": [
    "## 50793 member ids, 862409 PNRs. "
   ]
  },
  {
   "cell_type": "code",
   "execution_count": 19,
   "id": "f548817d-1bc3-424c-942b-3f3a24ee4f68",
   "metadata": {
    "tags": []
   },
   "outputs": [
    {
     "data": {
      "text/plain": [
       "1"
      ]
     },
     "execution_count": 19,
     "metadata": {},
     "output_type": "execute_result"
    }
   ],
   "source": [
    "dfg = df1.groupby([\"PNR\", \"OPERATING_FLIGHT_NUMBER\", \"FLIGHT_DATE\"])\n",
    "dfg.size().max()"
   ]
  },
  {
   "cell_type": "code",
   "execution_count": 20,
   "id": "789b7af2-459a-4764-8460-b1adeef76a7c",
   "metadata": {},
   "outputs": [
    {
     "data": {
      "text/plain": [
       "((910561, 25), (865446, 25))"
      ]
     },
     "execution_count": 20,
     "metadata": {},
     "output_type": "execute_result"
    }
   ],
   "source": [
    "df.shape, df1.shape"
   ]
  },
  {
   "cell_type": "code",
   "execution_count": 21,
   "id": "7af1782f-ceb4-4203-8e29-4831205b43f9",
   "metadata": {},
   "outputs": [
    {
     "data": {
      "text/html": [
       "<div>\n",
       "<style scoped>\n",
       "    .dataframe tbody tr th:only-of-type {\n",
       "        vertical-align: middle;\n",
       "    }\n",
       "\n",
       "    .dataframe tbody tr th {\n",
       "        vertical-align: top;\n",
       "    }\n",
       "\n",
       "    .dataframe thead th {\n",
       "        text-align: right;\n",
       "    }\n",
       "</style>\n",
       "<table border=\"1\" class=\"dataframe\">\n",
       "  <thead>\n",
       "    <tr style=\"text-align: right;\">\n",
       "      <th></th>\n",
       "      <th>PNR</th>\n",
       "      <th>FLIGHT_DATE</th>\n",
       "      <th>OPERATING_FLIGHT_NUMBER</th>\n",
       "      <th>SEGMENT_OD</th>\n",
       "      <th>TRUE_OD</th>\n",
       "      <th>TICKET_NUMBER</th>\n",
       "    </tr>\n",
       "  </thead>\n",
       "  <tbody>\n",
       "    <tr>\n",
       "      <th>557010</th>\n",
       "      <td>AP1XOQ</td>\n",
       "      <td>1621641600</td>\n",
       "      <td>446</td>\n",
       "      <td>PTY-MCO</td>\n",
       "      <td>PTY-MCO</td>\n",
       "      <td>2302175534857.0</td>\n",
       "    </tr>\n",
       "    <tr>\n",
       "      <th>557011</th>\n",
       "      <td>AP1XOQ</td>\n",
       "      <td>1621641600</td>\n",
       "      <td>446</td>\n",
       "      <td>PTY-MCO</td>\n",
       "      <td>PTY-MCO</td>\n",
       "      <td>2302175534861.0</td>\n",
       "    </tr>\n",
       "    <tr>\n",
       "      <th>557012</th>\n",
       "      <td>AP1XOQ</td>\n",
       "      <td>1621641600</td>\n",
       "      <td>446</td>\n",
       "      <td>PTY-MCO</td>\n",
       "      <td>PTY-MCO</td>\n",
       "      <td>2302175534859.0</td>\n",
       "    </tr>\n",
       "    <tr>\n",
       "      <th>557013</th>\n",
       "      <td>AP1XOQ</td>\n",
       "      <td>1621641600</td>\n",
       "      <td>446</td>\n",
       "      <td>PTY-MCO</td>\n",
       "      <td>PTY-MCO</td>\n",
       "      <td>2302175534858.0</td>\n",
       "    </tr>\n",
       "    <tr>\n",
       "      <th>557014</th>\n",
       "      <td>AP1XOQ</td>\n",
       "      <td>1621641600</td>\n",
       "      <td>446</td>\n",
       "      <td>PTY-MCO</td>\n",
       "      <td>PTY-MCO</td>\n",
       "      <td>2302175534860.0</td>\n",
       "    </tr>\n",
       "    <tr>\n",
       "      <th>557015</th>\n",
       "      <td>AP1XOQ</td>\n",
       "      <td>1621641600</td>\n",
       "      <td>446</td>\n",
       "      <td>PTY-MCO</td>\n",
       "      <td>PTY-MCO</td>\n",
       "      <td>2302175534862.0</td>\n",
       "    </tr>\n",
       "  </tbody>\n",
       "</table>\n",
       "</div>"
      ],
      "text/plain": [
       "           PNR  FLIGHT_DATE OPERATING_FLIGHT_NUMBER SEGMENT_OD  TRUE_OD  \\\n",
       "557010  AP1XOQ   1621641600                     446    PTY-MCO  PTY-MCO   \n",
       "557011  AP1XOQ   1621641600                     446    PTY-MCO  PTY-MCO   \n",
       "557012  AP1XOQ   1621641600                     446    PTY-MCO  PTY-MCO   \n",
       "557013  AP1XOQ   1621641600                     446    PTY-MCO  PTY-MCO   \n",
       "557014  AP1XOQ   1621641600                     446    PTY-MCO  PTY-MCO   \n",
       "557015  AP1XOQ   1621641600                     446    PTY-MCO  PTY-MCO   \n",
       "\n",
       "          TICKET_NUMBER  \n",
       "557010  2302175534857.0  \n",
       "557011  2302175534861.0  \n",
       "557012  2302175534859.0  \n",
       "557013  2302175534858.0  \n",
       "557014  2302175534860.0  \n",
       "557015  2302175534862.0  "
      ]
     },
     "execution_count": 21,
     "metadata": {},
     "output_type": "execute_result"
    }
   ],
   "source": [
    "df[df[\"PNR\"] == \"AP1XOQ\"][cols_pnr]"
   ]
  },
  {
   "cell_type": "code",
   "execution_count": null,
   "id": "2d52f331-f940-414b-82b9-d0645e45333e",
   "metadata": {},
   "outputs": [],
   "source": []
  },
  {
   "cell_type": "code",
   "execution_count": 22,
   "id": "6eb17af3-a657-42d6-a327-4defbb243f90",
   "metadata": {},
   "outputs": [
    {
     "data": {
      "text/plain": [
       "Index(['MEMBER_ID', 'PNR', 'BOOKING_DATE', 'FLIGHT_DATE', 'TICKET_SALES_DATE',\n",
       "       'REVENUE_AMOUNT', 'AWARD_MILES', 'FLOWN_CLASS', 'AMOUNT_OF_BAGS',\n",
       "       'TRUE_OD', 'HOLDING_OD', 'SEGMENT_OD', 'SEGMENT_ORIGIN_REGION',\n",
       "       'SEGMENT_DESTINATION_REGION', 'SEGMENT_ORIGIN_COUNTRY',\n",
       "       'SEGMENT_DESTINATION_COUNTRY', 'TICKET_NUMBER',\n",
       "       'OPERATING_FLIGHT_NUMBER', 'TRUE_ORIGIN_COUNTRY',\n",
       "       'TRUE_DESTINATION_COUNTRY', 'ADDR_COUNTRY', 'OPERATING_COMPANY',\n",
       "       'ISSUING_COMPANY', 'days_since_covid', 'PARTY_SZ'],\n",
       "      dtype='object')"
      ]
     },
     "execution_count": 22,
     "metadata": {},
     "output_type": "execute_result"
    }
   ],
   "source": [
    "df.columns"
   ]
  },
  {
   "cell_type": "code",
   "execution_count": 23,
   "id": "3465bd13-f53a-4e4e-9830-7997761c834e",
   "metadata": {},
   "outputs": [],
   "source": [
    "member_ids = df1.groupby(\"MEMBER_ID\").size().sort_values(ascending=False)"
   ]
  },
  {
   "cell_type": "code",
   "execution_count": 24,
   "id": "9936ef15-77c1-43d4-b335-576024ccaebb",
   "metadata": {},
   "outputs": [
    {
     "data": {
      "image/png": "[encoded data removed]",
      "text/plain": [
       "<Figure size 432x288 with 1 Axes>"
      ]
     },
     "metadata": {
      "needs_background": "light"
     },
     "output_type": "display_data"
    }
   ],
   "source": [
    "fig, ax = plt.subplots(1, 1)\n",
    "ax.hist(member_ids, bins=60, range=(0, 200))\n",
    "ax.set_xlabel(\"nb trips by a given member\")\n",
    "ax.set_ylabel(\"Histogram\")\n",
    "ax.grid(True)"
   ]
  },
  {
   "cell_type": "markdown",
   "id": "08206797-a7d8-4d20-a842-16366927d238",
   "metadata": {},
   "source": [
    "## Each member ID has a certain number of PNRs\n",
    "* Plot the histogram of the number of PNRs to get a sense of how often each member id is travelling. \n",
    "* Because the member program at Copa only started in 2015, there was a graduate ramp up of members. \n",
    "* As a consequence, this histogram might be misleading. Members who travel more might have started earlier in time. It is not clear how to create a plot that is more meaningful. "
   ]
  },
  {
   "cell_type": "code",
   "execution_count": 25,
   "id": "47254691-02fb-48b6-9d5c-c7fcc38cb5b6",
   "metadata": {},
   "outputs": [],
   "source": [
    "member_ids_pnr = df1.groupby([\"MEMBER_ID\", \"PNR\"]).size()"
   ]
  },
  {
   "cell_type": "markdown",
   "id": "c21ddb11-088f-4a6b-856b-4bcda1496f60",
   "metadata": {},
   "source": [
    "## Some members have multiple entries with the same PNR. \n",
    "-  should not happen"
   ]
  },
  {
   "cell_type": "code",
   "execution_count": 26,
   "id": "a8cf9558-1533-4a1f-b907-7148cb8bcd1a",
   "metadata": {},
   "outputs": [
    {
     "data": {
      "text/plain": [
       "5"
      ]
     },
     "execution_count": 26,
     "metadata": {},
     "output_type": "execute_result"
    }
   ],
   "source": [
    "member_ids_pnr.max()"
   ]
  },
  {
   "cell_type": "code",
   "execution_count": 27,
   "id": "20e76c16-791d-4805-a3ab-e0129eb0e2ba",
   "metadata": {},
   "outputs": [
    {
     "data": {
      "text/plain": [
       "Index(['MEMBER_ID', 'PNR', 'BOOKING_DATE', 'FLIGHT_DATE', 'TICKET_SALES_DATE',\n",
       "       'REVENUE_AMOUNT', 'AWARD_MILES', 'FLOWN_CLASS', 'AMOUNT_OF_BAGS',\n",
       "       'TRUE_OD', 'HOLDING_OD', 'SEGMENT_OD', 'SEGMENT_ORIGIN_REGION',\n",
       "       'SEGMENT_DESTINATION_REGION', 'SEGMENT_ORIGIN_COUNTRY',\n",
       "       'SEGMENT_DESTINATION_COUNTRY', 'TICKET_NUMBER',\n",
       "       'OPERATING_FLIGHT_NUMBER', 'TRUE_ORIGIN_COUNTRY',\n",
       "       'TRUE_DESTINATION_COUNTRY', 'ADDR_COUNTRY', 'OPERATING_COMPANY',\n",
       "       'ISSUING_COMPANY', 'days_since_covid', 'PARTY_SZ'],\n",
       "      dtype='object')"
      ]
     },
     "execution_count": 27,
     "metadata": {},
     "output_type": "execute_result"
    }
   ],
   "source": [
    "df1.columns"
   ]
  },
  {
   "cell_type": "markdown",
   "id": "5e24620b-08bb-4e6d-9111-99c481ba6263",
   "metadata": {},
   "source": [
    "## Collect all records where a member has multiple identical PNRs. Analyze. "
   ]
  },
  {
   "cell_type": "code",
   "execution_count": 28,
   "id": "b66d7d29-5676-48cd-8f6f-7c3dda83a377",
   "metadata": {},
   "outputs": [
    {
     "name": "stderr",
     "output_type": "stream",
     "text": [
      "/var/folders/hn/w6z4rd3n0xng_rc6fqmsttwh0000gn/T/ipykernel_2696/3742898833.py:1: SettingWithCopyWarning: \n",
      "A value is trying to be set on a copy of a slice from a DataFrame.\n",
      "Try using .loc[row_indexer,col_indexer] = value instead\n",
      "\n",
      "See the caveats in the documentation: https://pandas.pydata.org/pandas-docs/stable/user_guide/indexing.html#returning-a-view-versus-a-copy\n",
      "  df1['multi_pnr'] = df1.groupby(['MEMBER_ID', 'PNR'])['REVENUE_AMOUNT'].transform('size') # BIG ERROR\n"
     ]
    }
   ],
   "source": [
    "df1['multi_pnr'] = df1.groupby(['MEMBER_ID', 'PNR'])['REVENUE_AMOUNT'].transform('size') # BIG ERROR"
   ]
  },
  {
   "cell_type": "code",
   "execution_count": 29,
   "id": "3f39f371-3455-4053-a366-5542e0b0a4e0",
   "metadata": {},
   "outputs": [
    {
     "data": {
      "text/plain": [
       "['PNR',\n",
       " 'FLIGHT_DATE',\n",
       " 'OPERATING_FLIGHT_NUMBER',\n",
       " 'SEGMENT_OD',\n",
       " 'TRUE_OD',\n",
       " 'TICKET_NUMBER']"
      ]
     },
     "metadata": {},
     "output_type": "display_data"
    },
    {
     "data": {
      "text/plain": [
       "Index(['MEMBER_ID', 'PNR', 'BOOKING_DATE', 'FLIGHT_DATE', 'TICKET_SALES_DATE',\n",
       "       'REVENUE_AMOUNT', 'AWARD_MILES', 'FLOWN_CLASS', 'AMOUNT_OF_BAGS',\n",
       "       'TRUE_OD', 'HOLDING_OD', 'SEGMENT_OD', 'SEGMENT_ORIGIN_REGION',\n",
       "       'SEGMENT_DESTINATION_REGION', 'SEGMENT_ORIGIN_COUNTRY',\n",
       "       'SEGMENT_DESTINATION_COUNTRY', 'TICKET_NUMBER',\n",
       "       'OPERATING_FLIGHT_NUMBER', 'TRUE_ORIGIN_COUNTRY',\n",
       "       'TRUE_DESTINATION_COUNTRY', 'ADDR_COUNTRY', 'OPERATING_COMPANY',\n",
       "       'ISSUING_COMPANY', 'days_since_covid', 'PARTY_SZ', 'multi_pnr'],\n",
       "      dtype='object')"
      ]
     },
     "metadata": {},
     "output_type": "display_data"
    },
    {
     "data": {
      "text/html": [
       "<div>\n",
       "<style scoped>\n",
       "    .dataframe tbody tr th:only-of-type {\n",
       "        vertical-align: middle;\n",
       "    }\n",
       "\n",
       "    .dataframe tbody tr th {\n",
       "        vertical-align: top;\n",
       "    }\n",
       "\n",
       "    .dataframe thead th {\n",
       "        text-align: right;\n",
       "    }\n",
       "</style>\n",
       "<table border=\"1\" class=\"dataframe\">\n",
       "  <thead>\n",
       "    <tr style=\"text-align: right;\">\n",
       "      <th></th>\n",
       "      <th>PNR</th>\n",
       "      <th>FLIGHT_DATE</th>\n",
       "      <th>OPERATING_FLIGHT_NUMBER</th>\n",
       "      <th>SEGMENT_OD</th>\n",
       "      <th>TRUE_OD</th>\n",
       "      <th>TICKET_NUMBER</th>\n",
       "    </tr>\n",
       "  </thead>\n",
       "  <tbody>\n",
       "    <tr>\n",
       "      <th>0</th>\n",
       "      <td>DSBV1K</td>\n",
       "      <td>1547856000</td>\n",
       "      <td>441</td>\n",
       "      <td>PTY-MIA</td>\n",
       "      <td>PTY-MIA</td>\n",
       "      <td>2302169922034.0</td>\n",
       "    </tr>\n",
       "    <tr>\n",
       "      <th>1</th>\n",
       "      <td>DSBV1K</td>\n",
       "      <td>1547856000</td>\n",
       "      <td>441</td>\n",
       "      <td>PTY-MIA</td>\n",
       "      <td>PTY-MIA</td>\n",
       "      <td>2302169922036.0</td>\n",
       "    </tr>\n",
       "    <tr>\n",
       "      <th>2</th>\n",
       "      <td>DSBV1K</td>\n",
       "      <td>1547856000</td>\n",
       "      <td>441</td>\n",
       "      <td>PTY-MIA</td>\n",
       "      <td>PTY-MIA</td>\n",
       "      <td>2302169922037.0</td>\n",
       "    </tr>\n",
       "    <tr>\n",
       "      <th>3</th>\n",
       "      <td>DSBV1K</td>\n",
       "      <td>1547856000</td>\n",
       "      <td>441</td>\n",
       "      <td>PTY-MIA</td>\n",
       "      <td>PTY-MIA</td>\n",
       "      <td>2302169922035.0</td>\n",
       "    </tr>\n",
       "    <tr>\n",
       "      <th>4</th>\n",
       "      <td>DSBV1K</td>\n",
       "      <td>1547856000</td>\n",
       "      <td>441</td>\n",
       "      <td>PTY-MIA</td>\n",
       "      <td>PTY-MIA</td>\n",
       "      <td>2302169922032.0</td>\n",
       "    </tr>\n",
       "  </tbody>\n",
       "</table>\n",
       "</div>"
      ],
      "text/plain": [
       "      PNR  FLIGHT_DATE OPERATING_FLIGHT_NUMBER SEGMENT_OD  TRUE_OD  \\\n",
       "0  DSBV1K   1547856000                     441    PTY-MIA  PTY-MIA   \n",
       "1  DSBV1K   1547856000                     441    PTY-MIA  PTY-MIA   \n",
       "2  DSBV1K   1547856000                     441    PTY-MIA  PTY-MIA   \n",
       "3  DSBV1K   1547856000                     441    PTY-MIA  PTY-MIA   \n",
       "4  DSBV1K   1547856000                     441    PTY-MIA  PTY-MIA   \n",
       "\n",
       "     TICKET_NUMBER  \n",
       "0  2302169922034.0  \n",
       "1  2302169922036.0  \n",
       "2  2302169922037.0  \n",
       "3  2302169922035.0  \n",
       "4  2302169922032.0  "
      ]
     },
     "metadata": {},
     "output_type": "display_data"
    }
   ],
   "source": [
    "display(cols_pnr, df1.columns, df[cols_pnr].head())"
   ]
  },
  {
   "cell_type": "code",
   "execution_count": 30,
   "id": "492d65f7-55ea-4dbb-a05c-bcac0943e2a5",
   "metadata": {},
   "outputs": [
    {
     "data": {
      "text/plain": [
       "['PNR',\n",
       " 'FLIGHT_DATE',\n",
       " 'OPERATING_FLIGHT_NUMBER',\n",
       " 'SEGMENT_OD',\n",
       " 'TRUE_OD',\n",
       " 'TICKET_NUMBER']"
      ]
     },
     "execution_count": 30,
     "metadata": {},
     "output_type": "execute_result"
    }
   ],
   "source": [
    "cols_pnr"
   ]
  },
  {
   "cell_type": "markdown",
   "id": "ec1fc864-c791-4759-9f41-3ac91587b472",
   "metadata": {},
   "source": [
    "# Why do some ticket numbers appear multiple times? (max = 3)"
   ]
  },
  {
   "cell_type": "code",
   "execution_count": 31,
   "id": "d4a5a445-4dfe-49fc-9c8f-5a5c410461bb",
   "metadata": {},
   "outputs": [
    {
     "data": {
      "text/plain": [
       "3"
      ]
     },
     "execution_count": 31,
     "metadata": {},
     "output_type": "execute_result"
    }
   ],
   "source": [
    "df1g = df1.groupby('TICKET_NUMBER').size().max()\n",
    "df1g"
   ]
  },
  {
   "cell_type": "code",
   "execution_count": 32,
   "id": "4375cfcb-9d0e-4e84-9dcf-0ca5945897db",
   "metadata": {},
   "outputs": [
    {
     "name": "stderr",
     "output_type": "stream",
     "text": [
      "/var/folders/hn/w6z4rd3n0xng_rc6fqmsttwh0000gn/T/ipykernel_2696/395486243.py:1: SettingWithCopyWarning: \n",
      "A value is trying to be set on a copy of a slice from a DataFrame.\n",
      "Try using .loc[row_indexer,col_indexer] = value instead\n",
      "\n",
      "See the caveats in the documentation: https://pandas.pydata.org/pandas-docs/stable/user_guide/indexing.html#returning-a-view-versus-a-copy\n",
      "  df1['ticket_number_dup'] = df1.groupby('TICKET_NUMBER')['PNR'].transform(\"size\")\n"
     ]
    }
   ],
   "source": [
    "df1['ticket_number_dup'] = df1.groupby('TICKET_NUMBER')['PNR'].transform(\"size\")"
   ]
  },
  {
   "cell_type": "code",
   "execution_count": 33,
   "id": "edb1d8f6-d05b-45ba-8571-cb24a6a0ce3b",
   "metadata": {},
   "outputs": [
    {
     "data": {
      "text/html": [
       "<div>\n",
       "<style scoped>\n",
       "    .dataframe tbody tr th:only-of-type {\n",
       "        vertical-align: middle;\n",
       "    }\n",
       "\n",
       "    .dataframe tbody tr th {\n",
       "        vertical-align: top;\n",
       "    }\n",
       "\n",
       "    .dataframe thead th {\n",
       "        text-align: right;\n",
       "    }\n",
       "</style>\n",
       "<table border=\"1\" class=\"dataframe\">\n",
       "  <thead>\n",
       "    <tr style=\"text-align: right;\">\n",
       "      <th></th>\n",
       "      <th>PNR</th>\n",
       "      <th>FLIGHT_DATE</th>\n",
       "      <th>OPERATING_FLIGHT_NUMBER</th>\n",
       "      <th>SEGMENT_OD</th>\n",
       "      <th>TRUE_OD</th>\n",
       "      <th>TICKET_NUMBER</th>\n",
       "      <th>MEMBER_ID</th>\n",
       "    </tr>\n",
       "  </thead>\n",
       "  <tbody>\n",
       "    <tr>\n",
       "      <th>660360</th>\n",
       "      <td>6v2ydm</td>\n",
       "      <td>1493337600</td>\n",
       "      <td>0568</td>\n",
       "      <td>PTY-PUJ</td>\n",
       "      <td>PTY-PUJ</td>\n",
       "      <td>2302167358457.0</td>\n",
       "      <td>234291225</td>\n",
       "    </tr>\n",
       "    <tr>\n",
       "      <th>660655</th>\n",
       "      <td>A01TSR</td>\n",
       "      <td>1518307200</td>\n",
       "      <td>CM0456</td>\n",
       "      <td>PTY-LAS</td>\n",
       "      <td>PTY-LAS</td>\n",
       "      <td>2302168858357.0</td>\n",
       "      <td>231438552</td>\n",
       "    </tr>\n",
       "    <tr>\n",
       "      <th>660654</th>\n",
       "      <td>A01TSR</td>\n",
       "      <td>1518307200</td>\n",
       "      <td>0456</td>\n",
       "      <td>PTY-LAS</td>\n",
       "      <td>PTY-LAS</td>\n",
       "      <td>2302168858357.0</td>\n",
       "      <td>231438552</td>\n",
       "    </tr>\n",
       "    <tr>\n",
       "      <th>661349</th>\n",
       "      <td>A05TMS</td>\n",
       "      <td>1484956800</td>\n",
       "      <td>CM0627</td>\n",
       "      <td>PTY-BOG</td>\n",
       "      <td>PTY-BOG</td>\n",
       "      <td>2302166920888.0</td>\n",
       "      <td>230016056</td>\n",
       "    </tr>\n",
       "    <tr>\n",
       "      <th>661350</th>\n",
       "      <td>A05TMS</td>\n",
       "      <td>1491523200</td>\n",
       "      <td>CM0159</td>\n",
       "      <td>PTY-UIO</td>\n",
       "      <td>PTY-UIO</td>\n",
       "      <td>2302166920888.0</td>\n",
       "      <td>230016056</td>\n",
       "    </tr>\n",
       "    <tr>\n",
       "      <th>661183</th>\n",
       "      <td>A0A3MY</td>\n",
       "      <td>1558828800</td>\n",
       "      <td>CM0496</td>\n",
       "      <td>PTY-GUA</td>\n",
       "      <td>PTY-GUA</td>\n",
       "      <td>2302171447381.0</td>\n",
       "      <td>230486445</td>\n",
       "    </tr>\n",
       "    <tr>\n",
       "      <th>661182</th>\n",
       "      <td>A0A3MY</td>\n",
       "      <td>1558224000</td>\n",
       "      <td>CM0870</td>\n",
       "      <td>PTY-SAL</td>\n",
       "      <td>PTY-SAL</td>\n",
       "      <td>2302171447381.0</td>\n",
       "      <td>230486445</td>\n",
       "    </tr>\n",
       "    <tr>\n",
       "      <th>660699</th>\n",
       "      <td>A0CNBN</td>\n",
       "      <td>1514246400</td>\n",
       "      <td>CM0164</td>\n",
       "      <td>SJO-MGA</td>\n",
       "      <td>PTY-MGA</td>\n",
       "      <td>2302168854366.0</td>\n",
       "      <td>231257473</td>\n",
       "    </tr>\n",
       "    <tr>\n",
       "      <th>660698</th>\n",
       "      <td>A0CNBN</td>\n",
       "      <td>1513641600</td>\n",
       "      <td>CM0194</td>\n",
       "      <td>PTY-MEX</td>\n",
       "      <td>PTY-MEX</td>\n",
       "      <td>2302168854366.0</td>\n",
       "      <td>231257473</td>\n",
       "    </tr>\n",
       "    <tr>\n",
       "      <th>660931</th>\n",
       "      <td>A0E3BZ</td>\n",
       "      <td>1561161600</td>\n",
       "      <td>CM0334</td>\n",
       "      <td>PTY-MIA</td>\n",
       "      <td>PTY-MIA</td>\n",
       "      <td>2302172057671.0</td>\n",
       "      <td>230055794</td>\n",
       "    </tr>\n",
       "    <tr>\n",
       "      <th>660930</th>\n",
       "      <td>A0E3BZ</td>\n",
       "      <td>1559692800</td>\n",
       "      <td>CM0712</td>\n",
       "      <td>PTY-MGA</td>\n",
       "      <td>PTY-MGA</td>\n",
       "      <td>2302172057671.0</td>\n",
       "      <td>230055794</td>\n",
       "    </tr>\n",
       "    <tr>\n",
       "      <th>658355</th>\n",
       "      <td>A0FL24</td>\n",
       "      <td>1610841600</td>\n",
       "      <td>0874</td>\n",
       "      <td>PTY-JFK</td>\n",
       "      <td>PTY-JFK</td>\n",
       "      <td>2302174375698.0</td>\n",
       "      <td>231860464</td>\n",
       "    </tr>\n",
       "    <tr>\n",
       "      <th>658356</th>\n",
       "      <td>A0FL24</td>\n",
       "      <td>1610841600</td>\n",
       "      <td>CM0874</td>\n",
       "      <td>PTY-JFK</td>\n",
       "      <td>PTY-JFK</td>\n",
       "      <td>2302174375698.0</td>\n",
       "      <td>231860464</td>\n",
       "    </tr>\n",
       "    <tr>\n",
       "      <th>657904</th>\n",
       "      <td>A0HBQ5</td>\n",
       "      <td>1644710400</td>\n",
       "      <td>CM0122</td>\n",
       "      <td>PTY-CUN</td>\n",
       "      <td>PTY-CUN</td>\n",
       "      <td>2302177885890.0</td>\n",
       "      <td>230157073</td>\n",
       "    </tr>\n",
       "    <tr>\n",
       "      <th>657905</th>\n",
       "      <td>A0HBQ5</td>\n",
       "      <td>1646006400</td>\n",
       "      <td>CM0411</td>\n",
       "      <td>PTY-BOG</td>\n",
       "      <td>PTY-BOG</td>\n",
       "      <td>2302177885890.0</td>\n",
       "      <td>230157073</td>\n",
       "    </tr>\n",
       "    <tr>\n",
       "      <th>659389</th>\n",
       "      <td>A0JOXA</td>\n",
       "      <td>1515196800</td>\n",
       "      <td>0703</td>\n",
       "      <td>PTY-GRU</td>\n",
       "      <td>VLN-GRU</td>\n",
       "      <td>2302168908794.0</td>\n",
       "      <td>230119962</td>\n",
       "    </tr>\n",
       "    <tr>\n",
       "      <th>659390</th>\n",
       "      <td>A0JOXA</td>\n",
       "      <td>1515196800</td>\n",
       "      <td>CM0703</td>\n",
       "      <td>PTY-GRU</td>\n",
       "      <td>VLN-GRU</td>\n",
       "      <td>2302168908794.0</td>\n",
       "      <td>230119962</td>\n",
       "    </tr>\n",
       "    <tr>\n",
       "      <th>659339</th>\n",
       "      <td>A0KJQR</td>\n",
       "      <td>1575331200</td>\n",
       "      <td>CM0682</td>\n",
       "      <td>PTY-SAL</td>\n",
       "      <td>PTY-SAL</td>\n",
       "      <td>2302173150864.0</td>\n",
       "      <td>230903483</td>\n",
       "    </tr>\n",
       "    <tr>\n",
       "      <th>659340</th>\n",
       "      <td>A0KJQR</td>\n",
       "      <td>1576022400</td>\n",
       "      <td>CM0144</td>\n",
       "      <td>PTY-SJO</td>\n",
       "      <td>PTY-SJO</td>\n",
       "      <td>2302173150864.0</td>\n",
       "      <td>230903483</td>\n",
       "    </tr>\n",
       "    <tr>\n",
       "      <th>659299</th>\n",
       "      <td>A0KOIZ</td>\n",
       "      <td>1551571200</td>\n",
       "      <td>CM0496</td>\n",
       "      <td>PTY-GUA</td>\n",
       "      <td>PTY-GUA</td>\n",
       "      <td>2302171442881.0</td>\n",
       "      <td>231741464</td>\n",
       "    </tr>\n",
       "    <tr>\n",
       "      <th>659298</th>\n",
       "      <td>A0KOIZ</td>\n",
       "      <td>1550966400</td>\n",
       "      <td>CM0712</td>\n",
       "      <td>PTY-MGA</td>\n",
       "      <td>PTY-MGA</td>\n",
       "      <td>2302171442881.0</td>\n",
       "      <td>231741464</td>\n",
       "    </tr>\n",
       "    <tr>\n",
       "      <th>659505</th>\n",
       "      <td>A0LCAF</td>\n",
       "      <td>1557100800</td>\n",
       "      <td>CM0144</td>\n",
       "      <td>PTY-SJO</td>\n",
       "      <td>PTY-SJO</td>\n",
       "      <td>2302171447308.0</td>\n",
       "      <td>230486445</td>\n",
       "    </tr>\n",
       "    <tr>\n",
       "      <th>659506</th>\n",
       "      <td>A0LCAF</td>\n",
       "      <td>1557705600</td>\n",
       "      <td>CM0273</td>\n",
       "      <td>PTY-GYE</td>\n",
       "      <td>PTY-GYE</td>\n",
       "      <td>2302171447308.0</td>\n",
       "      <td>230486445</td>\n",
       "    </tr>\n",
       "    <tr>\n",
       "      <th>663945</th>\n",
       "      <td>A0OW10</td>\n",
       "      <td>1488326400</td>\n",
       "      <td>0787</td>\n",
       "      <td>PTY-SJO</td>\n",
       "      <td>PTY-SJO</td>\n",
       "      <td>2301227719057.0</td>\n",
       "      <td>230059762</td>\n",
       "    </tr>\n",
       "    <tr>\n",
       "      <th>663946</th>\n",
       "      <td>A0OW10</td>\n",
       "      <td>1488326400</td>\n",
       "      <td>CM0787</td>\n",
       "      <td>PTY-SJO</td>\n",
       "      <td>PTY-SJO</td>\n",
       "      <td>2301227719057.0</td>\n",
       "      <td>230059762</td>\n",
       "    </tr>\n",
       "    <tr>\n",
       "      <th>665362</th>\n",
       "      <td>A0UF3Z</td>\n",
       "      <td>1468195200</td>\n",
       "      <td>CM0390</td>\n",
       "      <td>PTY-GUA</td>\n",
       "      <td>PTY-GUA</td>\n",
       "      <td>2309123754769.0</td>\n",
       "      <td>231801152</td>\n",
       "    </tr>\n",
       "    <tr>\n",
       "      <th>665363</th>\n",
       "      <td>A0UF3Z</td>\n",
       "      <td>1469404800</td>\n",
       "      <td>CM0426</td>\n",
       "      <td>PTY-TGU</td>\n",
       "      <td>PTY-TGU</td>\n",
       "      <td>2309123754769.0</td>\n",
       "      <td>231801152</td>\n",
       "    </tr>\n",
       "    <tr>\n",
       "      <th>665317</th>\n",
       "      <td>A0UICI</td>\n",
       "      <td>1562630400</td>\n",
       "      <td>CM0610</td>\n",
       "      <td>PTY-ADZ</td>\n",
       "      <td>PTY-ADZ</td>\n",
       "      <td>2302172279484.0</td>\n",
       "      <td>231485835</td>\n",
       "    </tr>\n",
       "    <tr>\n",
       "      <th>665318</th>\n",
       "      <td>A0UICI</td>\n",
       "      <td>1563062400</td>\n",
       "      <td>CM0131</td>\n",
       "      <td>PTY-LIM</td>\n",
       "      <td>PTY-LIM</td>\n",
       "      <td>2302172279484.0</td>\n",
       "      <td>231485835</td>\n",
       "    </tr>\n",
       "    <tr>\n",
       "      <th>651183</th>\n",
       "      <td>A1P0RX</td>\n",
       "      <td>1444608000</td>\n",
       "      <td>CM0426</td>\n",
       "      <td>PTY-TGU</td>\n",
       "      <td>PTY-TGU</td>\n",
       "      <td>2302164310170.0</td>\n",
       "      <td>230353913</td>\n",
       "    </tr>\n",
       "    <tr>\n",
       "      <th>651182</th>\n",
       "      <td>A1P0RX</td>\n",
       "      <td>1443398400</td>\n",
       "      <td>CM0106</td>\n",
       "      <td>PTY-MGA</td>\n",
       "      <td>PTY-MGA</td>\n",
       "      <td>2302164310170.0</td>\n",
       "      <td>230353913</td>\n",
       "    </tr>\n",
       "    <tr>\n",
       "      <th>651307</th>\n",
       "      <td>A1RWPH</td>\n",
       "      <td>1497225600</td>\n",
       "      <td>CM0426</td>\n",
       "      <td>PTY-TGU</td>\n",
       "      <td>PTY-TGU</td>\n",
       "      <td>2302167525525.0</td>\n",
       "      <td>230486445</td>\n",
       "    </tr>\n",
       "    <tr>\n",
       "      <th>651306</th>\n",
       "      <td>A1RWPH</td>\n",
       "      <td>1496620800</td>\n",
       "      <td>CM0273</td>\n",
       "      <td>PTY-GYE</td>\n",
       "      <td>PTY-GYE</td>\n",
       "      <td>2302167525525.0</td>\n",
       "      <td>230486445</td>\n",
       "    </tr>\n",
       "    <tr>\n",
       "      <th>651423</th>\n",
       "      <td>A1TV2C</td>\n",
       "      <td>1492992000</td>\n",
       "      <td>CM0209</td>\n",
       "      <td>SFO-PTY</td>\n",
       "      <td>SFO-PTY</td>\n",
       "      <td>2302166929905.0</td>\n",
       "      <td>233257837</td>\n",
       "    </tr>\n",
       "    <tr>\n",
       "      <th>651422</th>\n",
       "      <td>A1TV2C</td>\n",
       "      <td>1492992000</td>\n",
       "      <td>0209</td>\n",
       "      <td>SFO-PTY</td>\n",
       "      <td>SFO-PTY</td>\n",
       "      <td>2302166929905.0</td>\n",
       "      <td>233257837</td>\n",
       "    </tr>\n",
       "    <tr>\n",
       "      <th>656648</th>\n",
       "      <td>A1WGHT</td>\n",
       "      <td>1521763200</td>\n",
       "      <td>CM0277</td>\n",
       "      <td>PTY-SCL</td>\n",
       "      <td>PTY-SCL</td>\n",
       "      <td>2302167770890.0</td>\n",
       "      <td>230189457</td>\n",
       "    </tr>\n",
       "    <tr>\n",
       "      <th>656647</th>\n",
       "      <td>A1WGHT</td>\n",
       "      <td>1509667200</td>\n",
       "      <td>CM0334</td>\n",
       "      <td>PTY-MIA</td>\n",
       "      <td>PTY-MIA</td>\n",
       "      <td>2302167770890.0</td>\n",
       "      <td>230189457</td>\n",
       "    </tr>\n",
       "    <tr>\n",
       "      <th>655465</th>\n",
       "      <td>A2CZ4B</td>\n",
       "      <td>1542326400</td>\n",
       "      <td>CM0732</td>\n",
       "      <td>PTY-BOS</td>\n",
       "      <td>PTY-BOS</td>\n",
       "      <td>2302884209278.0</td>\n",
       "      <td>230159814</td>\n",
       "    </tr>\n",
       "    <tr>\n",
       "      <th>655464</th>\n",
       "      <td>A2CZ4B</td>\n",
       "      <td>1542326400</td>\n",
       "      <td>0732</td>\n",
       "      <td>PTY-BOS</td>\n",
       "      <td>PTY-BOS</td>\n",
       "      <td>2302884209278.0</td>\n",
       "      <td>230159814</td>\n",
       "    </tr>\n",
       "    <tr>\n",
       "      <th>675577</th>\n",
       "      <td>A2HR1Z</td>\n",
       "      <td>1570492800</td>\n",
       "      <td>CM0368</td>\n",
       "      <td>PTY-MVD</td>\n",
       "      <td>LAX-MVD</td>\n",
       "      <td>2302172735756.0</td>\n",
       "      <td>239831154</td>\n",
       "    </tr>\n",
       "    <tr>\n",
       "      <th>675576</th>\n",
       "      <td>A2HR1Z</td>\n",
       "      <td>1570492800</td>\n",
       "      <td>0368</td>\n",
       "      <td>PTY-MVD</td>\n",
       "      <td>LAX-MVD</td>\n",
       "      <td>2302172735756.0</td>\n",
       "      <td>239831154</td>\n",
       "    </tr>\n",
       "    <tr>\n",
       "      <th>676648</th>\n",
       "      <td>A2N2OM</td>\n",
       "      <td>1477008000</td>\n",
       "      <td>CM0316</td>\n",
       "      <td>PTY-CUN</td>\n",
       "      <td>PTY-CUN</td>\n",
       "      <td>2302166451315.0</td>\n",
       "      <td>235205624</td>\n",
       "    </tr>\n",
       "    <tr>\n",
       "      <th>676649</th>\n",
       "      <td>A2N2OM</td>\n",
       "      <td>1477958400</td>\n",
       "      <td>CM0128</td>\n",
       "      <td>PTY-SDQ</td>\n",
       "      <td>PTY-SDQ</td>\n",
       "      <td>2302166451315.0</td>\n",
       "      <td>235205624</td>\n",
       "    </tr>\n",
       "    <tr>\n",
       "      <th>676142</th>\n",
       "      <td>A2NVXS</td>\n",
       "      <td>1528848000</td>\n",
       "      <td>CM0208</td>\n",
       "      <td>PTY-SFO</td>\n",
       "      <td>PTY-SFO</td>\n",
       "      <td>2302169669145.0</td>\n",
       "      <td>234465444</td>\n",
       "    </tr>\n",
       "    <tr>\n",
       "      <th>676141</th>\n",
       "      <td>A2NVXS</td>\n",
       "      <td>1528848000</td>\n",
       "      <td>0208</td>\n",
       "      <td>PTY-SFO</td>\n",
       "      <td>PTY-SFO</td>\n",
       "      <td>2302169669145.0</td>\n",
       "      <td>234465444</td>\n",
       "    </tr>\n",
       "    <tr>\n",
       "      <th>676296</th>\n",
       "      <td>A2PK42</td>\n",
       "      <td>1444521600</td>\n",
       "      <td>CM0830</td>\n",
       "      <td>PTY-JFK</td>\n",
       "      <td>PTY-JFK</td>\n",
       "      <td>2309662617950.0</td>\n",
       "      <td>230100815</td>\n",
       "    </tr>\n",
       "    <tr>\n",
       "      <th>676297</th>\n",
       "      <td>A2PK42</td>\n",
       "      <td>1445212800</td>\n",
       "      <td>CM0308</td>\n",
       "      <td>PTY-SDQ</td>\n",
       "      <td>PTY-SDQ</td>\n",
       "      <td>2309662617950.0</td>\n",
       "      <td>230100815</td>\n",
       "    </tr>\n",
       "    <tr>\n",
       "      <th>673512</th>\n",
       "      <td>A2QJ1O</td>\n",
       "      <td>1487289600</td>\n",
       "      <td>0334</td>\n",
       "      <td>PTY-MIA</td>\n",
       "      <td>PTY-MIA</td>\n",
       "      <td>2302166926462.0</td>\n",
       "      <td>231883413</td>\n",
       "    </tr>\n",
       "    <tr>\n",
       "      <th>673513</th>\n",
       "      <td>A2QJ1O</td>\n",
       "      <td>1487289600</td>\n",
       "      <td>CM0334</td>\n",
       "      <td>PTY-MIA</td>\n",
       "      <td>PTY-MIA</td>\n",
       "      <td>2302166926462.0</td>\n",
       "      <td>231883413</td>\n",
       "    </tr>\n",
       "    <tr>\n",
       "      <th>673964</th>\n",
       "      <td>A2R3NW</td>\n",
       "      <td>1529020800</td>\n",
       "      <td>0334</td>\n",
       "      <td>PTY-MIA</td>\n",
       "      <td>PTY-MIA</td>\n",
       "      <td>2302169851464.0</td>\n",
       "      <td>231134435</td>\n",
       "    </tr>\n",
       "  </tbody>\n",
       "</table>\n",
       "</div>"
      ],
      "text/plain": [
       "           PNR  FLIGHT_DATE OPERATING_FLIGHT_NUMBER SEGMENT_OD  TRUE_OD  \\\n",
       "660360  6v2ydm   1493337600                    0568    PTY-PUJ  PTY-PUJ   \n",
       "660655  A01TSR   1518307200                  CM0456    PTY-LAS  PTY-LAS   \n",
       "660654  A01TSR   1518307200                    0456    PTY-LAS  PTY-LAS   \n",
       "661349  A05TMS   1484956800                  CM0627    PTY-BOG  PTY-BOG   \n",
       "661350  A05TMS   1491523200                  CM0159    PTY-UIO  PTY-UIO   \n",
       "661183  A0A3MY   1558828800                  CM0496    PTY-GUA  PTY-GUA   \n",
       "661182  A0A3MY   1558224000                  CM0870    PTY-SAL  PTY-SAL   \n",
       "660699  A0CNBN   1514246400                  CM0164    SJO-MGA  PTY-MGA   \n",
       "660698  A0CNBN   1513641600                  CM0194    PTY-MEX  PTY-MEX   \n",
       "660931  A0E3BZ   1561161600                  CM0334    PTY-MIA  PTY-MIA   \n",
       "660930  A0E3BZ   1559692800                  CM0712    PTY-MGA  PTY-MGA   \n",
       "658355  A0FL24   1610841600                    0874    PTY-JFK  PTY-JFK   \n",
       "658356  A0FL24   1610841600                  CM0874    PTY-JFK  PTY-JFK   \n",
       "657904  A0HBQ5   1644710400                  CM0122    PTY-CUN  PTY-CUN   \n",
       "657905  A0HBQ5   1646006400                  CM0411    PTY-BOG  PTY-BOG   \n",
       "659389  A0JOXA   1515196800                    0703    PTY-GRU  VLN-GRU   \n",
       "659390  A0JOXA   1515196800                  CM0703    PTY-GRU  VLN-GRU   \n",
       "659339  A0KJQR   1575331200                  CM0682    PTY-SAL  PTY-SAL   \n",
       "659340  A0KJQR   1576022400                  CM0144    PTY-SJO  PTY-SJO   \n",
       "659299  A0KOIZ   1551571200                  CM0496    PTY-GUA  PTY-GUA   \n",
       "659298  A0KOIZ   1550966400                  CM0712    PTY-MGA  PTY-MGA   \n",
       "659505  A0LCAF   1557100800                  CM0144    PTY-SJO  PTY-SJO   \n",
       "659506  A0LCAF   1557705600                  CM0273    PTY-GYE  PTY-GYE   \n",
       "663945  A0OW10   1488326400                    0787    PTY-SJO  PTY-SJO   \n",
       "663946  A0OW10   1488326400                  CM0787    PTY-SJO  PTY-SJO   \n",
       "665362  A0UF3Z   1468195200                  CM0390    PTY-GUA  PTY-GUA   \n",
       "665363  A0UF3Z   1469404800                  CM0426    PTY-TGU  PTY-TGU   \n",
       "665317  A0UICI   1562630400                  CM0610    PTY-ADZ  PTY-ADZ   \n",
       "665318  A0UICI   1563062400                  CM0131    PTY-LIM  PTY-LIM   \n",
       "651183  A1P0RX   1444608000                  CM0426    PTY-TGU  PTY-TGU   \n",
       "651182  A1P0RX   1443398400                  CM0106    PTY-MGA  PTY-MGA   \n",
       "651307  A1RWPH   1497225600                  CM0426    PTY-TGU  PTY-TGU   \n",
       "651306  A1RWPH   1496620800                  CM0273    PTY-GYE  PTY-GYE   \n",
       "651423  A1TV2C   1492992000                  CM0209    SFO-PTY  SFO-PTY   \n",
       "651422  A1TV2C   1492992000                    0209    SFO-PTY  SFO-PTY   \n",
       "656648  A1WGHT   1521763200                  CM0277    PTY-SCL  PTY-SCL   \n",
       "656647  A1WGHT   1509667200                  CM0334    PTY-MIA  PTY-MIA   \n",
       "655465  A2CZ4B   1542326400                  CM0732    PTY-BOS  PTY-BOS   \n",
       "655464  A2CZ4B   1542326400                    0732    PTY-BOS  PTY-BOS   \n",
       "675577  A2HR1Z   1570492800                  CM0368    PTY-MVD  LAX-MVD   \n",
       "675576  A2HR1Z   1570492800                    0368    PTY-MVD  LAX-MVD   \n",
       "676648  A2N2OM   1477008000                  CM0316    PTY-CUN  PTY-CUN   \n",
       "676649  A2N2OM   1477958400                  CM0128    PTY-SDQ  PTY-SDQ   \n",
       "676142  A2NVXS   1528848000                  CM0208    PTY-SFO  PTY-SFO   \n",
       "676141  A2NVXS   1528848000                    0208    PTY-SFO  PTY-SFO   \n",
       "676296  A2PK42   1444521600                  CM0830    PTY-JFK  PTY-JFK   \n",
       "676297  A2PK42   1445212800                  CM0308    PTY-SDQ  PTY-SDQ   \n",
       "673512  A2QJ1O   1487289600                    0334    PTY-MIA  PTY-MIA   \n",
       "673513  A2QJ1O   1487289600                  CM0334    PTY-MIA  PTY-MIA   \n",
       "673964  A2R3NW   1529020800                    0334    PTY-MIA  PTY-MIA   \n",
       "\n",
       "          TICKET_NUMBER  MEMBER_ID  \n",
       "660360  2302167358457.0  234291225  \n",
       "660655  2302168858357.0  231438552  \n",
       "660654  2302168858357.0  231438552  \n",
       "661349  2302166920888.0  230016056  \n",
       "661350  2302166920888.0  230016056  \n",
       "661183  2302171447381.0  230486445  \n",
       "661182  2302171447381.0  230486445  \n",
       "660699  2302168854366.0  231257473  \n",
       "660698  2302168854366.0  231257473  \n",
       "660931  2302172057671.0  230055794  \n",
       "660930  2302172057671.0  230055794  \n",
       "658355  2302174375698.0  231860464  \n",
       "658356  2302174375698.0  231860464  \n",
       "657904  2302177885890.0  230157073  \n",
       "657905  2302177885890.0  230157073  \n",
       "659389  2302168908794.0  230119962  \n",
       "659390  2302168908794.0  230119962  \n",
       "659339  2302173150864.0  230903483  \n",
       "659340  2302173150864.0  230903483  \n",
       "659299  2302171442881.0  231741464  \n",
       "659298  2302171442881.0  231741464  \n",
       "659505  2302171447308.0  230486445  \n",
       "659506  2302171447308.0  230486445  \n",
       "663945  2301227719057.0  230059762  \n",
       "663946  2301227719057.0  230059762  \n",
       "665362  2309123754769.0  231801152  \n",
       "665363  2309123754769.0  231801152  \n",
       "665317  2302172279484.0  231485835  \n",
       "665318  2302172279484.0  231485835  \n",
       "651183  2302164310170.0  230353913  \n",
       "651182  2302164310170.0  230353913  \n",
       "651307  2302167525525.0  230486445  \n",
       "651306  2302167525525.0  230486445  \n",
       "651423  2302166929905.0  233257837  \n",
       "651422  2302166929905.0  233257837  \n",
       "656648  2302167770890.0  230189457  \n",
       "656647  2302167770890.0  230189457  \n",
       "655465  2302884209278.0  230159814  \n",
       "655464  2302884209278.0  230159814  \n",
       "675577  2302172735756.0  239831154  \n",
       "675576  2302172735756.0  239831154  \n",
       "676648  2302166451315.0  235205624  \n",
       "676649  2302166451315.0  235205624  \n",
       "676142  2302169669145.0  234465444  \n",
       "676141  2302169669145.0  234465444  \n",
       "676296  2309662617950.0  230100815  \n",
       "676297  2309662617950.0  230100815  \n",
       "673512  2302166926462.0  231883413  \n",
       "673513  2302166926462.0  231883413  \n",
       "673964  2302169851464.0  231134435  "
      ]
     },
     "execution_count": 33,
     "metadata": {},
     "output_type": "execute_result"
    }
   ],
   "source": [
    "records_ticket_number_dups = df1[df1['ticket_number_dup'] > 1]\n",
    "#records_ticket_number_dups[cols_pnr]\n",
    "records_ticket_number_dups.sort_values('PNR')[cols_pnr + ['MEMBER_ID']].head(50)\n"
   ]
  },
  {
   "cell_type": "code",
   "execution_count": 34,
   "id": "e44f56f8-1358-4d16-ba46-0ee2a76eda1c",
   "metadata": {},
   "outputs": [
    {
     "data": {
      "text/html": [
       "<div>\n",
       "<style scoped>\n",
       "    .dataframe tbody tr th:only-of-type {\n",
       "        vertical-align: middle;\n",
       "    }\n",
       "\n",
       "    .dataframe tbody tr th {\n",
       "        vertical-align: top;\n",
       "    }\n",
       "\n",
       "    .dataframe thead th {\n",
       "        text-align: right;\n",
       "    }\n",
       "</style>\n",
       "<table border=\"1\" class=\"dataframe\">\n",
       "  <thead>\n",
       "    <tr style=\"text-align: right;\">\n",
       "      <th></th>\n",
       "      <th>PNR</th>\n",
       "      <th>FLIGHT_DATE</th>\n",
       "      <th>OPERATING_FLIGHT_NUMBER</th>\n",
       "      <th>SEGMENT_OD</th>\n",
       "      <th>TRUE_OD</th>\n",
       "      <th>TICKET_NUMBER</th>\n",
       "      <th>MEMBER_ID</th>\n",
       "      <th>BOOKING_DATE</th>\n",
       "    </tr>\n",
       "  </thead>\n",
       "  <tbody>\n",
       "    <tr>\n",
       "      <th>659339</th>\n",
       "      <td>A0KJQR</td>\n",
       "      <td>1575331200</td>\n",
       "      <td>CM0682</td>\n",
       "      <td>PTY-SAL</td>\n",
       "      <td>PTY-SAL</td>\n",
       "      <td>2302173150864.0</td>\n",
       "      <td>230903483</td>\n",
       "      <td>1573689600</td>\n",
       "    </tr>\n",
       "    <tr>\n",
       "      <th>659340</th>\n",
       "      <td>A0KJQR</td>\n",
       "      <td>1576022400</td>\n",
       "      <td>CM0144</td>\n",
       "      <td>PTY-SJO</td>\n",
       "      <td>PTY-SJO</td>\n",
       "      <td>2302173150864.0</td>\n",
       "      <td>230903483</td>\n",
       "      <td>1573689600</td>\n",
       "    </tr>\n",
       "  </tbody>\n",
       "</table>\n",
       "</div>"
      ],
      "text/plain": [
       "           PNR  FLIGHT_DATE OPERATING_FLIGHT_NUMBER SEGMENT_OD  TRUE_OD  \\\n",
       "659339  A0KJQR   1575331200                  CM0682    PTY-SAL  PTY-SAL   \n",
       "659340  A0KJQR   1576022400                  CM0144    PTY-SJO  PTY-SJO   \n",
       "\n",
       "          TICKET_NUMBER  MEMBER_ID  BOOKING_DATE  \n",
       "659339  2302173150864.0  230903483    1573689600  \n",
       "659340  2302173150864.0  230903483    1573689600  "
      ]
     },
     "execution_count": 34,
     "metadata": {},
     "output_type": "execute_result"
    }
   ],
   "source": [
    "u.keep_only(records_ticket_number_dups, 'PNR', 'A0KJQR')[cols_pnr + ['MEMBER_ID', 'BOOKING_DATE']]"
   ]
  },
  {
   "cell_type": "markdown",
   "id": "f083c33e-0c61-4ee1-a000-5a76f67e05a0",
   "metadata": {},
   "source": [
    "## Same ticket number for a given itinerary. But can one have the same ticket for two different flights, on different days? "
   ]
  },
  {
   "cell_type": "code",
   "execution_count": 35,
   "id": "60e39a05-a14c-45ca-b605-cc216dd42db9",
   "metadata": {},
   "outputs": [
    {
     "data": {
      "text/plain": [
       "(865446, 27)"
      ]
     },
     "execution_count": 35,
     "metadata": {},
     "output_type": "execute_result"
    }
   ],
   "source": [
    "df1.shape"
   ]
  },
  {
   "cell_type": "code",
   "execution_count": 36,
   "id": "766bff47-c075-4c47-bed1-46de807ea88a",
   "metadata": {},
   "outputs": [
    {
     "data": {
      "text/plain": [
       "Index(['MEMBER_ID', 'PNR', 'BOOKING_DATE', 'FLIGHT_DATE', 'TICKET_SALES_DATE',\n",
       "       'REVENUE_AMOUNT', 'AWARD_MILES', 'FLOWN_CLASS', 'AMOUNT_OF_BAGS',\n",
       "       'TRUE_OD', 'HOLDING_OD', 'SEGMENT_OD', 'SEGMENT_ORIGIN_REGION',\n",
       "       'SEGMENT_DESTINATION_REGION', 'SEGMENT_ORIGIN_COUNTRY',\n",
       "       'SEGMENT_DESTINATION_COUNTRY', 'TICKET_NUMBER',\n",
       "       'OPERATING_FLIGHT_NUMBER', 'TRUE_ORIGIN_COUNTRY',\n",
       "       'TRUE_DESTINATION_COUNTRY', 'ADDR_COUNTRY', 'OPERATING_COMPANY',\n",
       "       'ISSUING_COMPANY', 'days_since_covid', 'PARTY_SZ'],\n",
       "      dtype='object')"
      ]
     },
     "execution_count": 36,
     "metadata": {},
     "output_type": "execute_result"
    }
   ],
   "source": [
    "df.columns"
   ]
  },
  {
   "cell_type": "code",
   "execution_count": 37,
   "id": "8d488345-c5d3-431e-8881-458c2bcc34dd",
   "metadata": {},
   "outputs": [
    {
     "data": {
      "text/html": [
       "<div>\n",
       "<style scoped>\n",
       "    .dataframe tbody tr th:only-of-type {\n",
       "        vertical-align: middle;\n",
       "    }\n",
       "\n",
       "    .dataframe tbody tr th {\n",
       "        vertical-align: top;\n",
       "    }\n",
       "\n",
       "    .dataframe thead th {\n",
       "        text-align: right;\n",
       "    }\n",
       "</style>\n",
       "<table border=\"1\" class=\"dataframe\">\n",
       "  <thead>\n",
       "    <tr style=\"text-align: right;\">\n",
       "      <th></th>\n",
       "      <th>PNR</th>\n",
       "      <th>FLIGHT_DATE</th>\n",
       "      <th>OPERATING_FLIGHT_NUMBER</th>\n",
       "      <th>SEGMENT_OD</th>\n",
       "      <th>TRUE_OD</th>\n",
       "      <th>TICKET_NUMBER</th>\n",
       "      <th>ADDR_COUNTRY</th>\n",
       "    </tr>\n",
       "  </thead>\n",
       "  <tbody>\n",
       "  </tbody>\n",
       "</table>\n",
       "</div>"
      ],
      "text/plain": [
       "Empty DataFrame\n",
       "Columns: [PNR, FLIGHT_DATE, OPERATING_FLIGHT_NUMBER, SEGMENT_OD, TRUE_OD, TICKET_NUMBER, ADDR_COUNTRY]\n",
       "Index: []"
      ]
     },
     "execution_count": 37,
     "metadata": {},
     "output_type": "execute_result"
    }
   ],
   "source": [
    "# flight starts and ends in Panama (the country)\n",
    "df[df[\"PNR\"] == \"AOD22V\"][cols_pnr + [\"ADDR_COUNTRY\"]].sort_values(\n",
    "    [\"TRUE_OD\", \"TICKET_NUMBER\"]\n",
    ")"
   ]
  },
  {
   "cell_type": "code",
   "execution_count": 38,
   "id": "f3121edd-c4b3-41d1-baff-5dff535d3c8b",
   "metadata": {},
   "outputs": [
    {
     "data": {
      "text/html": [
       "<div>\n",
       "<style scoped>\n",
       "    .dataframe tbody tr th:only-of-type {\n",
       "        vertical-align: middle;\n",
       "    }\n",
       "\n",
       "    .dataframe tbody tr th {\n",
       "        vertical-align: top;\n",
       "    }\n",
       "\n",
       "    .dataframe thead th {\n",
       "        text-align: right;\n",
       "    }\n",
       "</style>\n",
       "<table border=\"1\" class=\"dataframe\">\n",
       "  <thead>\n",
       "    <tr style=\"text-align: right;\">\n",
       "      <th></th>\n",
       "      <th>PNR</th>\n",
       "      <th>FLIGHT_DATE</th>\n",
       "      <th>OPERATING_FLIGHT_NUMBER</th>\n",
       "      <th>SEGMENT_OD</th>\n",
       "      <th>TRUE_OD</th>\n",
       "      <th>TICKET_NUMBER</th>\n",
       "      <th>ADDR_COUNTRY</th>\n",
       "    </tr>\n",
       "  </thead>\n",
       "  <tbody>\n",
       "    <tr>\n",
       "      <th>757276</th>\n",
       "      <td>BYQNXF</td>\n",
       "      <td>1496620800</td>\n",
       "      <td>0498</td>\n",
       "      <td>PTY-MSY</td>\n",
       "      <td>PTY-MSY</td>\n",
       "      <td>2302167551446.0</td>\n",
       "      <td>Panama</td>\n",
       "    </tr>\n",
       "    <tr>\n",
       "      <th>757277</th>\n",
       "      <td>BYQNXF</td>\n",
       "      <td>1496620800</td>\n",
       "      <td>0498</td>\n",
       "      <td>PTY-MSY</td>\n",
       "      <td>PTY-MSY</td>\n",
       "      <td>2302167551446.0</td>\n",
       "      <td>Panama</td>\n",
       "    </tr>\n",
       "    <tr>\n",
       "      <th>757278</th>\n",
       "      <td>BYQNXF</td>\n",
       "      <td>1496620800</td>\n",
       "      <td>0498</td>\n",
       "      <td>PTY-MSY</td>\n",
       "      <td>PTY-MSY</td>\n",
       "      <td>2302167551446.0</td>\n",
       "      <td>Panama</td>\n",
       "    </tr>\n",
       "    <tr>\n",
       "      <th>757279</th>\n",
       "      <td>BYQNXF</td>\n",
       "      <td>1496620800</td>\n",
       "      <td>0498</td>\n",
       "      <td>PTY-MSY</td>\n",
       "      <td>PTY-MSY</td>\n",
       "      <td>2302167551446.0</td>\n",
       "      <td>Panama</td>\n",
       "    </tr>\n",
       "    <tr>\n",
       "      <th>757280</th>\n",
       "      <td>BYQNXF</td>\n",
       "      <td>1496620800</td>\n",
       "      <td>0498</td>\n",
       "      <td>PTY-MSY</td>\n",
       "      <td>PTY-MSY</td>\n",
       "      <td>2302167551446.0</td>\n",
       "      <td>Panama</td>\n",
       "    </tr>\n",
       "    <tr>\n",
       "      <th>757281</th>\n",
       "      <td>BYQNXF</td>\n",
       "      <td>1496620800</td>\n",
       "      <td>0498</td>\n",
       "      <td>PTY-MSY</td>\n",
       "      <td>PTY-MSY</td>\n",
       "      <td>2302167551446.0</td>\n",
       "      <td>Panama</td>\n",
       "    </tr>\n",
       "    <tr>\n",
       "      <th>757282</th>\n",
       "      <td>BYQNXF</td>\n",
       "      <td>1496620800</td>\n",
       "      <td>0498</td>\n",
       "      <td>PTY-MSY</td>\n",
       "      <td>PTY-MSY</td>\n",
       "      <td>2302167551446.0</td>\n",
       "      <td>Panama</td>\n",
       "    </tr>\n",
       "    <tr>\n",
       "      <th>757283</th>\n",
       "      <td>BYQNXF</td>\n",
       "      <td>1496620800</td>\n",
       "      <td>CM0498</td>\n",
       "      <td>PTY-MSY</td>\n",
       "      <td>PTY-MSY</td>\n",
       "      <td>2302167551446.0</td>\n",
       "      <td>Panama</td>\n",
       "    </tr>\n",
       "  </tbody>\n",
       "</table>\n",
       "</div>"
      ],
      "text/plain": [
       "           PNR  FLIGHT_DATE OPERATING_FLIGHT_NUMBER SEGMENT_OD  TRUE_OD  \\\n",
       "757276  BYQNXF   1496620800                    0498    PTY-MSY  PTY-MSY   \n",
       "757277  BYQNXF   1496620800                    0498    PTY-MSY  PTY-MSY   \n",
       "757278  BYQNXF   1496620800                    0498    PTY-MSY  PTY-MSY   \n",
       "757279  BYQNXF   1496620800                    0498    PTY-MSY  PTY-MSY   \n",
       "757280  BYQNXF   1496620800                    0498    PTY-MSY  PTY-MSY   \n",
       "757281  BYQNXF   1496620800                    0498    PTY-MSY  PTY-MSY   \n",
       "757282  BYQNXF   1496620800                    0498    PTY-MSY  PTY-MSY   \n",
       "757283  BYQNXF   1496620800                  CM0498    PTY-MSY  PTY-MSY   \n",
       "\n",
       "          TICKET_NUMBER ADDR_COUNTRY  \n",
       "757276  2302167551446.0       Panama  \n",
       "757277  2302167551446.0       Panama  \n",
       "757278  2302167551446.0       Panama  \n",
       "757279  2302167551446.0       Panama  \n",
       "757280  2302167551446.0       Panama  \n",
       "757281  2302167551446.0       Panama  \n",
       "757282  2302167551446.0       Panama  \n",
       "757283  2302167551446.0       Panama  "
      ]
     },
     "execution_count": 38,
     "metadata": {},
     "output_type": "execute_result"
    }
   ],
   "source": [
    "# Should not happen. The same flight. Single PNR, several ticket numbers the same.\n",
    "# These must have been candcelations and rebookings?\n",
    "df_pnr = df[df[\"PNR\"] == \"BYQNXF\"][cols_pnr + [\"ADDR_COUNTRY\"]].sort_values(\n",
    "    [\"TRUE_OD\", \"TICKET_NUMBER\"]\n",
    ")\n",
    "df_pnr"
   ]
  },
  {
   "cell_type": "code",
   "execution_count": 39,
   "id": "0a8136b6-f84c-4ead-910f-d6e5533673e5",
   "metadata": {},
   "outputs": [
    {
     "data": {
      "text/html": [
       "<div>\n",
       "<style scoped>\n",
       "    .dataframe tbody tr th:only-of-type {\n",
       "        vertical-align: middle;\n",
       "    }\n",
       "\n",
       "    .dataframe tbody tr th {\n",
       "        vertical-align: top;\n",
       "    }\n",
       "\n",
       "    .dataframe thead th {\n",
       "        text-align: right;\n",
       "    }\n",
       "</style>\n",
       "<table border=\"1\" class=\"dataframe\">\n",
       "  <thead>\n",
       "    <tr style=\"text-align: right;\">\n",
       "      <th></th>\n",
       "      <th>PNR</th>\n",
       "      <th>FLIGHT_DATE</th>\n",
       "      <th>OPERATING_FLIGHT_NUMBER</th>\n",
       "      <th>SEGMENT_OD</th>\n",
       "      <th>TRUE_OD</th>\n",
       "      <th>TICKET_NUMBER</th>\n",
       "      <th>ADDR_COUNTRY</th>\n",
       "      <th>MEMBER_ID</th>\n",
       "    </tr>\n",
       "  </thead>\n",
       "  <tbody>\n",
       "    <tr>\n",
       "      <th>757276</th>\n",
       "      <td>BYQNXF</td>\n",
       "      <td>1496620800</td>\n",
       "      <td>0498</td>\n",
       "      <td>PTY-MSY</td>\n",
       "      <td>PTY-MSY</td>\n",
       "      <td>2302167551446.0</td>\n",
       "      <td>Panama</td>\n",
       "      <td>230038213</td>\n",
       "    </tr>\n",
       "    <tr>\n",
       "      <th>757283</th>\n",
       "      <td>BYQNXF</td>\n",
       "      <td>1496620800</td>\n",
       "      <td>CM0498</td>\n",
       "      <td>PTY-MSY</td>\n",
       "      <td>PTY-MSY</td>\n",
       "      <td>2302167551446.0</td>\n",
       "      <td>Panama</td>\n",
       "      <td>230038213</td>\n",
       "    </tr>\n",
       "  </tbody>\n",
       "</table>\n",
       "</div>"
      ],
      "text/plain": [
       "           PNR  FLIGHT_DATE OPERATING_FLIGHT_NUMBER SEGMENT_OD  TRUE_OD  \\\n",
       "757276  BYQNXF   1496620800                    0498    PTY-MSY  PTY-MSY   \n",
       "757283  BYQNXF   1496620800                  CM0498    PTY-MSY  PTY-MSY   \n",
       "\n",
       "          TICKET_NUMBER ADDR_COUNTRY  MEMBER_ID  \n",
       "757276  2302167551446.0       Panama  230038213  \n",
       "757283  2302167551446.0       Panama  230038213  "
      ]
     },
     "execution_count": 39,
     "metadata": {},
     "output_type": "execute_result"
    }
   ],
   "source": [
    "# Should not happen. The same flight. Single PNR, several ticket numbers the same.\n",
    "# These must have been candcelations and rebookings?\n",
    "df_pnr = df1[df1[\"PNR\"] == \"BYQNXF\"][cols_pnr + [\"ADDR_COUNTRY\", \"MEMBER_ID\"]].sort_values(\n",
    "    [\"TRUE_OD\", \"TICKET_NUMBER\"]\n",
    ")\n",
    "df_pnr"
   ]
  },
  {
   "cell_type": "code",
   "execution_count": 40,
   "id": "4df12aaf-d205-4c8f-8fae-62e14f018b87",
   "metadata": {},
   "outputs": [],
   "source": [
    "# TODO: Remove all rows where a (FLIGHT_NUMBER, TICKET_NUMBER) has duplicates. (keep only one row)"
   ]
  },
  {
   "cell_type": "code",
   "execution_count": 41,
   "id": "bd9b304f-2fd1-4c6b-acd0-e572db7e060d",
   "metadata": {},
   "outputs": [],
   "source": [
    "# The next two records are identical.\n",
    "# QUESTION: Are they identical in the original Data Frame?"
   ]
  },
  {
   "cell_type": "code",
   "execution_count": 42,
   "id": "fe937b47-3005-4798-a333-f82774374c0d",
   "metadata": {},
   "outputs": [
    {
     "data": {
      "text/plain": [
       "MEMBER_ID                            246556264\n",
       "PNR                                     BS5XRD\n",
       "BOOKING_DATE                        1624924800\n",
       "FLIGHT_DATE                         1625616000\n",
       "TICKET_SALES_DATE                   1624924800\n",
       "REVENUE_AMOUNT                               0\n",
       "AWARD_MILES                                 -1\n",
       "FLOWN_CLASS                                  X\n",
       "AMOUNT_OF_BAGS                               1\n",
       "TRUE_OD                                PTY-CUN\n",
       "HOLDING_OD                             PTY-CUN\n",
       "SEGMENT_OD                             PTY-CUN\n",
       "SEGMENT_ORIGIN_REGION                      HUB\n",
       "SEGMENT_DESTINATION_REGION                 MEX\n",
       "SEGMENT_ORIGIN_COUNTRY                  PANAMA\n",
       "SEGMENT_DESTINATION_COUNTRY             MEXICO\n",
       "TICKET_NUMBER                  2302176036284.0\n",
       "OPERATING_FLIGHT_NUMBER                    122\n",
       "TRUE_ORIGIN_COUNTRY                     PANAMA\n",
       "TRUE_DESTINATION_COUNTRY                MEXICO\n",
       "ADDR_COUNTRY                            Panama\n",
       "OPERATING_COMPANY                           CM\n",
       "ISSUING_COMPANY                             -1\n",
       "days_since_covid                       492.375\n",
       "PARTY_SZ                                     1\n",
       "Name: 788084, dtype: object"
      ]
     },
     "execution_count": 42,
     "metadata": {},
     "output_type": "execute_result"
    }
   ],
   "source": [
    "df.loc[788084]"
   ]
  },
  {
   "cell_type": "code",
   "execution_count": 43,
   "id": "ae961d37-24f6-4237-a411-1804c8e09362",
   "metadata": {},
   "outputs": [
    {
     "data": {
      "text/plain": [
       "MEMBER_ID                            246556264\n",
       "PNR                                     BS5XRD\n",
       "BOOKING_DATE                        1624924800\n",
       "FLIGHT_DATE                         1625616000\n",
       "TICKET_SALES_DATE                   1624924800\n",
       "REVENUE_AMOUNT                               0\n",
       "AWARD_MILES                                 -1\n",
       "FLOWN_CLASS                                  X\n",
       "AMOUNT_OF_BAGS                               1\n",
       "TRUE_OD                                PTY-CUN\n",
       "HOLDING_OD                             PTY-CUN\n",
       "SEGMENT_OD                             PTY-CUN\n",
       "SEGMENT_ORIGIN_REGION                      HUB\n",
       "SEGMENT_DESTINATION_REGION                 MEX\n",
       "SEGMENT_ORIGIN_COUNTRY                  PANAMA\n",
       "SEGMENT_DESTINATION_COUNTRY             MEXICO\n",
       "TICKET_NUMBER                  2302176036283.0\n",
       "OPERATING_FLIGHT_NUMBER                    122\n",
       "TRUE_ORIGIN_COUNTRY                     PANAMA\n",
       "TRUE_DESTINATION_COUNTRY                MEXICO\n",
       "ADDR_COUNTRY                            Panama\n",
       "OPERATING_COMPANY                           CM\n",
       "ISSUING_COMPANY                             -1\n",
       "days_since_covid                       492.375\n",
       "PARTY_SZ                                     1\n",
       "Name: 788085, dtype: object"
      ]
     },
     "execution_count": 43,
     "metadata": {},
     "output_type": "execute_result"
    }
   ],
   "source": [
    "df.loc[788085]"
   ]
  },
  {
   "cell_type": "markdown",
   "id": "79f9d5bf-e1af-4b87-a6eb-dfb1407fbb30",
   "metadata": {},
   "source": [
    "# Why read the \"MEMBERS_ACTIVITY_FILE\"\n",
    "Perform some kind of check."
   ]
  },
  {
   "cell_type": "code",
   "execution_count": 44,
   "id": "73e6961f-9a58-4be1-a4c8-3a8e01f38cc2",
   "metadata": {},
   "outputs": [],
   "source": [
    "if False:\n",
    "    df00 = u.read_activity_file()\n",
    "    df00_pnr = df00[df00[\"PNR\"] == \"BYQNXF\"]\n",
    "    df00_pnr[cols_pnr + [\"MEMBER_ID\"]]"
   ]
  },
  {
   "cell_type": "code",
   "execution_count": 45,
   "id": "decbe15c-e260-45f8-9955-91b447c836c8",
   "metadata": {},
   "outputs": [
    {
     "data": {
      "text/html": [
       "<div>\n",
       "<style scoped>\n",
       "    .dataframe tbody tr th:only-of-type {\n",
       "        vertical-align: middle;\n",
       "    }\n",
       "\n",
       "    .dataframe tbody tr th {\n",
       "        vertical-align: top;\n",
       "    }\n",
       "\n",
       "    .dataframe thead th {\n",
       "        text-align: right;\n",
       "    }\n",
       "</style>\n",
       "<table border=\"1\" class=\"dataframe\">\n",
       "  <thead>\n",
       "    <tr style=\"text-align: right;\">\n",
       "      <th></th>\n",
       "      <th>PNR</th>\n",
       "      <th>FLIGHT_DATE</th>\n",
       "      <th>OPERATING_FLIGHT_NUMBER</th>\n",
       "      <th>SEGMENT_OD</th>\n",
       "      <th>TRUE_OD</th>\n",
       "      <th>TICKET_NUMBER</th>\n",
       "      <th>ADDR_COUNTRY</th>\n",
       "      <th>MEMBER_ID</th>\n",
       "    </tr>\n",
       "  </thead>\n",
       "  <tbody>\n",
       "    <tr>\n",
       "      <th>757276</th>\n",
       "      <td>BYQNXF</td>\n",
       "      <td>1496620800</td>\n",
       "      <td>0498</td>\n",
       "      <td>PTY-MSY</td>\n",
       "      <td>PTY-MSY</td>\n",
       "      <td>2302167551446.0</td>\n",
       "      <td>Panama</td>\n",
       "      <td>230038213</td>\n",
       "    </tr>\n",
       "    <tr>\n",
       "      <th>757283</th>\n",
       "      <td>BYQNXF</td>\n",
       "      <td>1496620800</td>\n",
       "      <td>CM0498</td>\n",
       "      <td>PTY-MSY</td>\n",
       "      <td>PTY-MSY</td>\n",
       "      <td>2302167551446.0</td>\n",
       "      <td>Panama</td>\n",
       "      <td>230038213</td>\n",
       "    </tr>\n",
       "  </tbody>\n",
       "</table>\n",
       "</div>"
      ],
      "text/plain": [
       "           PNR  FLIGHT_DATE OPERATING_FLIGHT_NUMBER SEGMENT_OD  TRUE_OD  \\\n",
       "757276  BYQNXF   1496620800                    0498    PTY-MSY  PTY-MSY   \n",
       "757283  BYQNXF   1496620800                  CM0498    PTY-MSY  PTY-MSY   \n",
       "\n",
       "          TICKET_NUMBER ADDR_COUNTRY  MEMBER_ID  \n",
       "757276  2302167551446.0       Panama  230038213  \n",
       "757283  2302167551446.0       Panama  230038213  "
      ]
     },
     "execution_count": 45,
     "metadata": {},
     "output_type": "execute_result"
    }
   ],
   "source": [
    "df_pnr"
   ]
  },
  {
   "cell_type": "code",
   "execution_count": 46,
   "id": "1ab77e98-a871-4c6a-b36c-8ee1aa3884c9",
   "metadata": {},
   "outputs": [
    {
     "data": {
      "text/html": [
       "<div>\n",
       "<style scoped>\n",
       "    .dataframe tbody tr th:only-of-type {\n",
       "        vertical-align: middle;\n",
       "    }\n",
       "\n",
       "    .dataframe tbody tr th {\n",
       "        vertical-align: top;\n",
       "    }\n",
       "\n",
       "    .dataframe thead th {\n",
       "        text-align: right;\n",
       "    }\n",
       "</style>\n",
       "<table border=\"1\" class=\"dataframe\">\n",
       "  <thead>\n",
       "    <tr style=\"text-align: right;\">\n",
       "      <th></th>\n",
       "      <th>PNR</th>\n",
       "      <th>FLIGHT_DATE</th>\n",
       "      <th>OPERATING_FLIGHT_NUMBER</th>\n",
       "      <th>SEGMENT_OD</th>\n",
       "      <th>TRUE_OD</th>\n",
       "      <th>TICKET_NUMBER</th>\n",
       "      <th>MEMBER_ID</th>\n",
       "    </tr>\n",
       "  </thead>\n",
       "  <tbody>\n",
       "    <tr>\n",
       "      <th>757276</th>\n",
       "      <td>BYQNXF</td>\n",
       "      <td>1496620800</td>\n",
       "      <td>0498</td>\n",
       "      <td>PTY-MSY</td>\n",
       "      <td>PTY-MSY</td>\n",
       "      <td>2302167551446.0</td>\n",
       "      <td>230038213</td>\n",
       "    </tr>\n",
       "    <tr>\n",
       "      <th>757283</th>\n",
       "      <td>BYQNXF</td>\n",
       "      <td>1496620800</td>\n",
       "      <td>CM0498</td>\n",
       "      <td>PTY-MSY</td>\n",
       "      <td>PTY-MSY</td>\n",
       "      <td>2302167551446.0</td>\n",
       "      <td>230038213</td>\n",
       "    </tr>\n",
       "  </tbody>\n",
       "</table>\n",
       "</div>"
      ],
      "text/plain": [
       "           PNR  FLIGHT_DATE OPERATING_FLIGHT_NUMBER SEGMENT_OD  TRUE_OD  \\\n",
       "757276  BYQNXF   1496620800                    0498    PTY-MSY  PTY-MSY   \n",
       "757283  BYQNXF   1496620800                  CM0498    PTY-MSY  PTY-MSY   \n",
       "\n",
       "          TICKET_NUMBER  MEMBER_ID  \n",
       "757276  2302167551446.0  230038213  \n",
       "757283  2302167551446.0  230038213  "
      ]
     },
     "execution_count": 46,
     "metadata": {},
     "output_type": "execute_result"
    }
   ],
   "source": [
    "df_pnr[cols_pnr + [\"MEMBER_ID\"]]  # MEMBER_ID not in list"
   ]
  },
  {
   "cell_type": "code",
   "execution_count": 47,
   "id": "4702bb99-8ee1-4433-acd1-883338343c87",
   "metadata": {},
   "outputs": [
    {
     "data": {
      "text/plain": [
       "Index(['PNR', 'FLIGHT_DATE', 'OPERATING_FLIGHT_NUMBER', 'SEGMENT_OD',\n",
       "       'TRUE_OD', 'TICKET_NUMBER', 'ADDR_COUNTRY', 'MEMBER_ID'],\n",
       "      dtype='object')"
      ]
     },
     "execution_count": 47,
     "metadata": {},
     "output_type": "execute_result"
    }
   ],
   "source": [
    "df_pnr.columns"
   ]
  },
  {
   "cell_type": "markdown",
   "id": "3274c915-873d-494e-b2ce-a9ccad316eb9",
   "metadata": {},
   "source": [
    "---\n",
    "## Let us construct a list of members and ODs and flight dates\n"
   ]
  },
  {
   "cell_type": "code",
   "execution_count": 48,
   "id": "8f422b3a-2287-427f-9ce4-6fa05c555d38",
   "metadata": {},
   "outputs": [
    {
     "data": {
      "text/plain": [
       "Index(['MEMBER_ID', 'PNR', 'BOOKING_DATE', 'FLIGHT_DATE', 'TICKET_SALES_DATE',\n",
       "       'REVENUE_AMOUNT', 'AWARD_MILES', 'FLOWN_CLASS', 'AMOUNT_OF_BAGS',\n",
       "       'TRUE_OD', 'HOLDING_OD', 'SEGMENT_OD', 'SEGMENT_ORIGIN_REGION',\n",
       "       'SEGMENT_DESTINATION_REGION', 'SEGMENT_ORIGIN_COUNTRY',\n",
       "       'SEGMENT_DESTINATION_COUNTRY', 'TICKET_NUMBER',\n",
       "       'OPERATING_FLIGHT_NUMBER', 'TRUE_ORIGIN_COUNTRY',\n",
       "       'TRUE_DESTINATION_COUNTRY', 'ADDR_COUNTRY', 'OPERATING_COMPANY',\n",
       "       'ISSUING_COMPANY', 'days_since_covid', 'PARTY_SZ', 'multi_pnr',\n",
       "       'ticket_number_dup'],\n",
       "      dtype='object')"
      ]
     },
     "execution_count": 48,
     "metadata": {},
     "output_type": "execute_result"
    }
   ],
   "source": [
    "df1.columns"
   ]
  },
  {
   "cell_type": "markdown",
   "id": "1ec3c64d-453a-4d7b-bff1-d844c1618e9d",
   "metadata": {
    "tags": []
   },
   "source": [
    "# Output data after reduction of extraneous records"
   ]
  },
  {
   "cell_type": "code",
   "execution_count": 58,
   "id": "702d057c-a5b6-4468-a32b-9dab0112d784",
   "metadata": {},
   "outputs": [],
   "source": [
    "df11 = df1.copy()"
   ]
  },
  {
   "cell_type": "code",
   "execution_count": 60,
   "id": "d22436f8-75eb-4134-9230-b2ba9dcdbb47",
   "metadata": {},
   "outputs": [],
   "source": [
    "df11['D'] = df1.loc[:, 'TRUE_OD'].str[4:]"
   ]
  },
  {
   "cell_type": "code",
   "execution_count": 62,
   "id": "756b4e8f-5279-4c2f-9168-9cb9d704bb30",
   "metadata": {},
   "outputs": [
    {
     "data": {
      "text/plain": [
       "(865446, 28)"
      ]
     },
     "execution_count": 62,
     "metadata": {},
     "output_type": "execute_result"
    }
   ],
   "source": [
    "# Starting point for attribute calculation\n",
    "df11.to_csv(\"activity_reduced_before_attributes.csv\", index=0)\n",
    "df11.shape"
   ]
  },
  {
   "cell_type": "code",
   "execution_count": 64,
   "id": "942b3e59-58e7-4749-8783-a58c2c71f7fd",
   "metadata": {},
   "outputs": [],
   "source": [
    "df1 = df11.copy()"
   ]
  },
  {
   "cell_type": "markdown",
   "id": "56b4a12f-bb04-4c51-90a8-8a6c96da3d64",
   "metadata": {
    "jp-MarkdownHeadingCollapsed": true,
    "tags": []
   },
   "source": [
    "# Create month and day of week columns for Booking date and flight date\n",
    "Column names: book_mo, book_dofwk, flight_mo, flight_daywk"
   ]
  },
  {
   "cell_type": "code",
   "execution_count": null,
   "id": "c540dd01-0c64-4acd-a327-377722336843",
   "metadata": {},
   "outputs": [],
   "source": [
    "import date_library as dlib \n",
    "dfx = df.iloc[0:10000]\n",
    "dfxx = dfx['FLIGHT_DATE'].apply(dlib.timestampToDateTimePTY).apply(lambda x: x[0])\n",
    "#dlib.timestampToDateTimePTY(dfx['FLIGHT_DATE'].iloc[0])\n",
    "dfxx.max()"
   ]
  },
  {
   "cell_type": "code",
   "execution_count": null,
   "id": "9b07de92-edd8-44bb-a9ba-c104d3fb7e25",
   "metadata": {},
   "outputs": [],
   "source": [
    "pd.to_datetime(df['BOOKING_DATE'])"
   ]
  },
  {
   "cell_type": "code",
   "execution_count": null,
   "id": "5602f4e8-a337-48a8-8e0c-02015a2ee4a6",
   "metadata": {},
   "outputs": [],
   "source": [
    "%%time\n",
    "df1 = df.copy()\n",
    "df1.columns"
   ]
  },
  {
   "cell_type": "code",
   "execution_count": null,
   "id": "e4c83fc1-f0fc-4292-a6ad-62f62862cff0",
   "metadata": {},
   "outputs": [],
   "source": [
    "%%time \n",
    "df1 = df.copy()\n",
    "df1 = u.get_dayofweek_month(df1, df_date_col='FLIGHT_DATE', labels=('FLIGHT_date', 'FLIGHT_mo', 'FLIGHT_daywk'))\n",
    "# df1.columns\n",
    "df2 = u.get_dayofweek_month(df1, df_date_col='BOOKING_DATE', labels=('BOOKING_date', 'BOOKING_mo', 'BOOKING_daywk'))"
   ]
  },
  {
   "cell_type": "code",
   "execution_count": null,
   "id": "cf3dbee5-c895-41fb-a8be-a663cbd8b81b",
   "metadata": {},
   "outputs": [],
   "source": [
    "df3 = df2.copy()"
   ]
  },
  {
   "cell_type": "code",
   "execution_count": null,
   "id": "8965b874-21bc-4028-95bf-edd9c74ff735",
   "metadata": {},
   "outputs": [],
   "source": [
    "# nb weeks between booking and flight\n",
    "df2['wks_from_booking_to_flight'] = (df2['FLIGHT_DATE'] - df2['BOOKING_DATE']) / (7 * 24 * 3600)"
   ]
  },
  {
   "cell_type": "code",
   "execution_count": null,
   "id": "73d25b8c-19c0-422c-8d3f-d267922b105f",
   "metadata": {},
   "outputs": [],
   "source": [
    "wks_bookings_to_flight = df2[df2['wks_from_booking_to_flight'] > 0]['wks_from_booking_to_flight'].sort_values().value_counts().head(50)"
   ]
  },
  {
   "cell_type": "code",
   "execution_count": null,
   "id": "b17877dd-6a88-4001-8fa6-748d7c731b12",
   "metadata": {},
   "outputs": [],
   "source": [
    "fig, ax = plt.subplots(1,1, figsize=(6,4))\n",
    "plt.plot(wks_bookings_to_flight.index, wks_bookings_to_flight, \".\")\n",
    "ax.set_xlabel(\"nb weeks between booking and flight\", fontsize=14)\n",
    "ax.set_ylabel(\"count\", fontsize=14)\n",
    "plt.grid(True)"
   ]
  },
  {
   "cell_type": "code",
   "execution_count": null,
   "id": "173df7e5-cb20-4332-a4d5-1feb2f9241f2",
   "metadata": {},
   "outputs": [],
   "source": [
    "df2.columns"
   ]
  },
  {
   "cell_type": "code",
   "execution_count": null,
   "id": "3a564471-3a22-4a9c-9960-ff3b7836e914",
   "metadata": {},
   "outputs": [],
   "source": [
    "def get_dates(ix):\n",
    "    flight = df['FLIGHT_DATE'].iloc[ix]\n",
    "    booking = df['BOOKING_DATE'].iloc[ix]\n",
    "    flight_date = datelib.timestampToDateTimePTY(flight)\n",
    "    booking_date = datelib.timestampToDateTimePTY(booking)\n",
    "    return flight_date, booking_date"
   ]
  },
  {
   "cell_type": "code",
   "execution_count": null,
   "id": "adb3c773-7c15-41e6-9c18-45190453df36",
   "metadata": {},
   "outputs": [],
   "source": [
    "for ix in range(20):\n",
    "    print(get_dates(ix))"
   ]
  },
  {
   "cell_type": "code",
   "execution_count": null,
   "id": "81fceb66-b90c-4b0d-9288-e4edfe5c799b",
   "metadata": {},
   "outputs": [],
   "source": []
  },
  {
   "cell_type": "code",
   "execution_count": null,
   "id": "10f5034b-1e2c-4968-917f-6fbf888bab22",
   "metadata": {},
   "outputs": [],
   "source": [
    "df2[['wks_from_booking_to_flight','BOOKING_mo', 'FLIGHT_mo']]\n",
    "# df2['FLIGHT_DATE']"
   ]
  },
  {
   "cell_type": "code",
   "execution_count": null,
   "id": "b1202751-3fae-4f9f-84f5-5ec8e939b307",
   "metadata": {},
   "outputs": [],
   "source": [
    "df2[['BOOKING_mo','FLIGHT_mo','BOOKING_daywk','FLIGHT_daywk']].head(50)\n"
   ]
  },
  {
   "cell_type": "markdown",
   "id": "175305c3-c0c5-4972-a2bb-51bc57082da9",
   "metadata": {
    "tags": []
   },
   "source": [
    "# Work with member_od"
   ]
  },
  {
   "cell_type": "markdown",
   "id": "16d63260-6aa3-43ff-a5b6-536caabc53bb",
   "metadata": {},
   "source": [
    "## A triplet (MEMBER_ID, Destination, FLIGHT_DATE) is a unique itinerary for our recommender\n",
    "This will decrease the number of rows slightly."
   ]
  },
  {
   "cell_type": "code",
   "execution_count": 110,
   "id": "37907ed4-1a52-4230-b329-c6504659b3c0",
   "metadata": {},
   "outputs": [
    {
     "data": {
      "text/plain": [
       "((849491, 4),\n",
       " Index(['MEMBER_ID', 'D', 'FLIGHT_DATE', 'size'], dtype='object'),\n",
       "       MEMBER_ID       D  FLIGHT_DATE\n",
       " size                                \n",
       " 1        835129  835129       835129\n",
       " 2         13166   13166        13166\n",
       " 3           958     958          958\n",
       " 4           166     166          166\n",
       " 5            36      36           36\n",
       " 6            20      20           20\n",
       " 7             4       4            4\n",
       " 8             8       8            8\n",
       " 10            2       2            2\n",
       " 12            1       1            1\n",
       " 23            1       1            1)"
      ]
     },
     "execution_count": 110,
     "metadata": {},
     "output_type": "execute_result"
    }
   ],
   "source": [
    "member_od = df1[['MEMBER_ID','TRUE_OD','D', 'FLIGHT_DATE','BOOKING_DATE','TICKET_SALES_DATE',\n",
    "                 'TICKET_NUMBER','TRUE_ORIGIN_COUNTRY','ADDR_COUNTRY','PNR', 'PARTY_SZ']].sort_values('MEMBER_ID')\n",
    "\n",
    "group_cols = ['MEMBER_ID', 'D', 'FLIGHT_DATE']\n",
    "member_od_g = member_od.groupby(group_cols).size().to_frame('size').reset_index().sort_values('size', ascending=False)\n",
    "member_od['size'] = member_od.groupby(group_cols)['BOOKING_DATE'].transform('size')\n",
    "\n",
    "member_od_g.shape, member_od_g.columns, member_od_g.groupby('size').count()"
   ]
  },
  {
   "cell_type": "code",
   "execution_count": 111,
   "id": "932c3c2c-30e5-4871-a35b-4f22dec6566d",
   "metadata": {},
   "outputs": [
    {
     "data": {
      "text/plain": [
       "Index(['MEMBER_ID', 'TRUE_OD', 'D', 'FLIGHT_DATE', 'BOOKING_DATE',\n",
       "       'TICKET_SALES_DATE', 'TICKET_NUMBER', 'TRUE_ORIGIN_COUNTRY',\n",
       "       'ADDR_COUNTRY', 'PNR', 'PARTY_SZ', 'size'],\n",
       "      dtype='object')"
      ]
     },
     "execution_count": 111,
     "metadata": {},
     "output_type": "execute_result"
    }
   ],
   "source": [
    "member_od.columns"
   ]
  },
  {
   "cell_type": "code",
   "execution_count": 112,
   "id": "afae728b-842a-412b-b429-9746217dc1d6",
   "metadata": {},
   "outputs": [
    {
     "data": {
      "text/plain": [
       "Index(['MEMBER_ID', 'PNR', 'BOOKING_DATE', 'FLIGHT_DATE', 'TICKET_SALES_DATE',\n",
       "       'REVENUE_AMOUNT', 'AWARD_MILES', 'FLOWN_CLASS', 'AMOUNT_OF_BAGS',\n",
       "       'TRUE_OD', 'HOLDING_OD', 'SEGMENT_OD', 'SEGMENT_ORIGIN_REGION',\n",
       "       'SEGMENT_DESTINATION_REGION', 'SEGMENT_ORIGIN_COUNTRY',\n",
       "       'SEGMENT_DESTINATION_COUNTRY', 'TICKET_NUMBER',\n",
       "       'OPERATING_FLIGHT_NUMBER', 'TRUE_ORIGIN_COUNTRY',\n",
       "       'TRUE_DESTINATION_COUNTRY', 'ADDR_COUNTRY', 'OPERATING_COMPANY',\n",
       "       'ISSUING_COMPANY', 'days_since_covid', 'PARTY_SZ', 'multi_pnr',\n",
       "       'ticket_number_dup', 'D'],\n",
       "      dtype='object')"
      ]
     },
     "execution_count": 112,
     "metadata": {},
     "output_type": "execute_result"
    }
   ],
   "source": [
    "df1.columns"
   ]
  },
  {
   "cell_type": "code",
   "execution_count": 113,
   "id": "3e5f0efa-3332-48cd-9890-4cec8ac8a5b4",
   "metadata": {},
   "outputs": [
    {
     "data": {
      "text/html": [
       "<div>\n",
       "<style scoped>\n",
       "    .dataframe tbody tr th:only-of-type {\n",
       "        vertical-align: middle;\n",
       "    }\n",
       "\n",
       "    .dataframe tbody tr th {\n",
       "        vertical-align: top;\n",
       "    }\n",
       "\n",
       "    .dataframe thead th {\n",
       "        text-align: right;\n",
       "    }\n",
       "</style>\n",
       "<table border=\"1\" class=\"dataframe\">\n",
       "  <thead>\n",
       "    <tr style=\"text-align: right;\">\n",
       "      <th></th>\n",
       "      <th>MEMBER_ID</th>\n",
       "      <th>TRUE_OD</th>\n",
       "      <th>D</th>\n",
       "      <th>FLIGHT_DATE</th>\n",
       "      <th>BOOKING_DATE</th>\n",
       "      <th>TICKET_SALES_DATE</th>\n",
       "      <th>TICKET_NUMBER</th>\n",
       "      <th>TRUE_ORIGIN_COUNTRY</th>\n",
       "      <th>ADDR_COUNTRY</th>\n",
       "      <th>PNR</th>\n",
       "      <th>PARTY_SZ</th>\n",
       "      <th>size</th>\n",
       "    </tr>\n",
       "  </thead>\n",
       "  <tbody>\n",
       "    <tr>\n",
       "      <th>886787</th>\n",
       "      <td>100031203</td>\n",
       "      <td>PTY-SJO</td>\n",
       "      <td>SJO</td>\n",
       "      <td>1538092800</td>\n",
       "      <td>1536192000</td>\n",
       "      <td>1536278400</td>\n",
       "      <td>2302747205445.0</td>\n",
       "      <td>PANAMA</td>\n",
       "      <td>Panama</td>\n",
       "      <td>BHN2BL</td>\n",
       "      <td>1</td>\n",
       "      <td>1</td>\n",
       "    </tr>\n",
       "    <tr>\n",
       "      <th>798443</th>\n",
       "      <td>100031203</td>\n",
       "      <td>PTY-SJO</td>\n",
       "      <td>SJO</td>\n",
       "      <td>1531785600</td>\n",
       "      <td>1531180800</td>\n",
       "      <td>1531267200</td>\n",
       "      <td>2302698681826.0</td>\n",
       "      <td>PANAMA</td>\n",
       "      <td>Panama</td>\n",
       "      <td>BUBD1Q</td>\n",
       "      <td>1</td>\n",
       "      <td>1</td>\n",
       "    </tr>\n",
       "    <tr>\n",
       "      <th>629803</th>\n",
       "      <td>100031203</td>\n",
       "      <td>PTY-LIR</td>\n",
       "      <td>LIR</td>\n",
       "      <td>1508025600</td>\n",
       "      <td>1506902400</td>\n",
       "      <td>1506988800</td>\n",
       "      <td>2305733681505.0</td>\n",
       "      <td>PANAMA</td>\n",
       "      <td>Panama</td>\n",
       "      <td>A4WCA2</td>\n",
       "      <td>1</td>\n",
       "      <td>1</td>\n",
       "    </tr>\n",
       "    <tr>\n",
       "      <th>774859</th>\n",
       "      <td>100031203</td>\n",
       "      <td>PTY-LIR</td>\n",
       "      <td>LIR</td>\n",
       "      <td>1480809600</td>\n",
       "      <td>1480550400</td>\n",
       "      <td>1480636800</td>\n",
       "      <td>2301157304621.0</td>\n",
       "      <td>PANAMA</td>\n",
       "      <td>Panama</td>\n",
       "      <td>BT35GI</td>\n",
       "      <td>1</td>\n",
       "      <td>1</td>\n",
       "    </tr>\n",
       "    <tr>\n",
       "      <th>355800</th>\n",
       "      <td>100031203</td>\n",
       "      <td>PTY-LIR</td>\n",
       "      <td>LIR</td>\n",
       "      <td>1484438400</td>\n",
       "      <td>1484006400</td>\n",
       "      <td>1484092800</td>\n",
       "      <td>2301157318791.0</td>\n",
       "      <td>PANAMA</td>\n",
       "      <td>Panama</td>\n",
       "      <td>GJQG0D</td>\n",
       "      <td>1</td>\n",
       "      <td>1</td>\n",
       "    </tr>\n",
       "  </tbody>\n",
       "</table>\n",
       "</div>"
      ],
      "text/plain": [
       "        MEMBER_ID  TRUE_OD    D  FLIGHT_DATE  BOOKING_DATE  TICKET_SALES_DATE  \\\n",
       "886787  100031203  PTY-SJO  SJO   1538092800    1536192000         1536278400   \n",
       "798443  100031203  PTY-SJO  SJO   1531785600    1531180800         1531267200   \n",
       "629803  100031203  PTY-LIR  LIR   1508025600    1506902400         1506988800   \n",
       "774859  100031203  PTY-LIR  LIR   1480809600    1480550400         1480636800   \n",
       "355800  100031203  PTY-LIR  LIR   1484438400    1484006400         1484092800   \n",
       "\n",
       "          TICKET_NUMBER TRUE_ORIGIN_COUNTRY ADDR_COUNTRY     PNR  PARTY_SZ  \\\n",
       "886787  2302747205445.0              PANAMA       Panama  BHN2BL         1   \n",
       "798443  2302698681826.0              PANAMA       Panama  BUBD1Q         1   \n",
       "629803  2305733681505.0              PANAMA       Panama  A4WCA2         1   \n",
       "774859  2301157304621.0              PANAMA       Panama  BT35GI         1   \n",
       "355800  2301157318791.0              PANAMA       Panama  GJQG0D         1   \n",
       "\n",
       "        size  \n",
       "886787     1  \n",
       "798443     1  \n",
       "629803     1  \n",
       "774859     1  \n",
       "355800     1  "
      ]
     },
     "execution_count": 113,
     "metadata": {},
     "output_type": "execute_result"
    }
   ],
   "source": [
    "member_od[(member_od['TICKET_SALES_DATE'] != member_od['BOOKING_DATE'])].head()"
   ]
  },
  {
   "cell_type": "code",
   "execution_count": 114,
   "id": "c61926b5-ae4c-43a7-8ff4-a36de2d5fdaf",
   "metadata": {},
   "outputs": [
    {
     "data": {
      "text/html": [
       "<div>\n",
       "<style scoped>\n",
       "    .dataframe tbody tr th:only-of-type {\n",
       "        vertical-align: middle;\n",
       "    }\n",
       "\n",
       "    .dataframe tbody tr th {\n",
       "        vertical-align: top;\n",
       "    }\n",
       "\n",
       "    .dataframe thead th {\n",
       "        text-align: right;\n",
       "    }\n",
       "</style>\n",
       "<table border=\"1\" class=\"dataframe\">\n",
       "  <thead>\n",
       "    <tr style=\"text-align: right;\">\n",
       "      <th></th>\n",
       "      <th>MEMBER_ID</th>\n",
       "      <th>TRUE_OD</th>\n",
       "      <th>D</th>\n",
       "      <th>FLIGHT_DATE</th>\n",
       "      <th>BOOKING_DATE</th>\n",
       "      <th>TICKET_SALES_DATE</th>\n",
       "      <th>TICKET_NUMBER</th>\n",
       "      <th>TRUE_ORIGIN_COUNTRY</th>\n",
       "      <th>ADDR_COUNTRY</th>\n",
       "      <th>PNR</th>\n",
       "      <th>PARTY_SZ</th>\n",
       "      <th>size</th>\n",
       "    </tr>\n",
       "  </thead>\n",
       "  <tbody>\n",
       "    <tr>\n",
       "      <th>604242</th>\n",
       "      <td>100041364</td>\n",
       "      <td>PTY-UIO</td>\n",
       "      <td>UIO</td>\n",
       "      <td>1640044800</td>\n",
       "      <td>1629676800</td>\n",
       "      <td>1629590400</td>\n",
       "      <td>2302176450990.0</td>\n",
       "      <td>PANAMA</td>\n",
       "      <td>Panama</td>\n",
       "      <td>AVJP0Y</td>\n",
       "      <td>1</td>\n",
       "      <td>2</td>\n",
       "    </tr>\n",
       "    <tr>\n",
       "      <th>604157</th>\n",
       "      <td>100041364</td>\n",
       "      <td>PTY-UIO</td>\n",
       "      <td>UIO</td>\n",
       "      <td>1640044800</td>\n",
       "      <td>1629676800</td>\n",
       "      <td>1629590400</td>\n",
       "      <td>2302176451025.0</td>\n",
       "      <td>PANAMA</td>\n",
       "      <td>Panama</td>\n",
       "      <td>AVK2DJ</td>\n",
       "      <td>1</td>\n",
       "      <td>2</td>\n",
       "    </tr>\n",
       "    <tr>\n",
       "      <th>987113</th>\n",
       "      <td>100052785</td>\n",
       "      <td>PTY-ORD</td>\n",
       "      <td>ORD</td>\n",
       "      <td>1629158400</td>\n",
       "      <td>1627344000</td>\n",
       "      <td>1627344000</td>\n",
       "      <td>2302176255301.0</td>\n",
       "      <td>PANAMA</td>\n",
       "      <td>Panama</td>\n",
       "      <td>BLR25C</td>\n",
       "      <td>1</td>\n",
       "      <td>2</td>\n",
       "    </tr>\n",
       "    <tr>\n",
       "      <th>990043</th>\n",
       "      <td>100052785</td>\n",
       "      <td>PTY-ORD</td>\n",
       "      <td>ORD</td>\n",
       "      <td>1629158400</td>\n",
       "      <td>1627344000</td>\n",
       "      <td>1627344000</td>\n",
       "      <td>2302176255019.0</td>\n",
       "      <td>PANAMA</td>\n",
       "      <td>Panama</td>\n",
       "      <td>BLMNBA</td>\n",
       "      <td>1</td>\n",
       "      <td>2</td>\n",
       "    </tr>\n",
       "    <tr>\n",
       "      <th>858844</th>\n",
       "      <td>100054148</td>\n",
       "      <td>SDQ-PEI</td>\n",
       "      <td>PEI</td>\n",
       "      <td>1536710400</td>\n",
       "      <td>1536624000</td>\n",
       "      <td>1536624000</td>\n",
       "      <td>2302170418008.0</td>\n",
       "      <td>DOMINICAN REPUBLIC</td>\n",
       "      <td>Dominican Republic</td>\n",
       "      <td>CGNZGE</td>\n",
       "      <td>1</td>\n",
       "      <td>2</td>\n",
       "    </tr>\n",
       "  </tbody>\n",
       "</table>\n",
       "</div>"
      ],
      "text/plain": [
       "        MEMBER_ID  TRUE_OD    D  FLIGHT_DATE  BOOKING_DATE  TICKET_SALES_DATE  \\\n",
       "604242  100041364  PTY-UIO  UIO   1640044800    1629676800         1629590400   \n",
       "604157  100041364  PTY-UIO  UIO   1640044800    1629676800         1629590400   \n",
       "987113  100052785  PTY-ORD  ORD   1629158400    1627344000         1627344000   \n",
       "990043  100052785  PTY-ORD  ORD   1629158400    1627344000         1627344000   \n",
       "858844  100054148  SDQ-PEI  PEI   1536710400    1536624000         1536624000   \n",
       "\n",
       "          TICKET_NUMBER TRUE_ORIGIN_COUNTRY        ADDR_COUNTRY     PNR  \\\n",
       "604242  2302176450990.0              PANAMA              Panama  AVJP0Y   \n",
       "604157  2302176451025.0              PANAMA              Panama  AVK2DJ   \n",
       "987113  2302176255301.0              PANAMA              Panama  BLR25C   \n",
       "990043  2302176255019.0              PANAMA              Panama  BLMNBA   \n",
       "858844  2302170418008.0  DOMINICAN REPUBLIC  Dominican Republic  CGNZGE   \n",
       "\n",
       "        PARTY_SZ  size  \n",
       "604242         1     2  \n",
       "604157         1     2  \n",
       "987113         1     2  \n",
       "990043         1     2  \n",
       "858844         1     2  "
      ]
     },
     "execution_count": 114,
     "metadata": {},
     "output_type": "execute_result"
    }
   ],
   "source": [
    "member_od[member_od['size'] == 2].head()"
   ]
  },
  {
   "cell_type": "code",
   "execution_count": 115,
   "id": "60546dc9-adec-43c8-a517-a5309e1872f8",
   "metadata": {},
   "outputs": [
    {
     "data": {
      "text/plain": [
       "(1     835129\n",
       " 2      26332\n",
       " 3       2874\n",
       " 4        664\n",
       " 5        180\n",
       " 6        120\n",
       " 8         64\n",
       " 7         28\n",
       " 23        23\n",
       " 10        20\n",
       " 12        12\n",
       " Name: size, dtype: int64,\n",
       " 865446)"
      ]
     },
     "execution_count": 115,
     "metadata": {},
     "output_type": "execute_result"
    }
   ],
   "source": [
    "# Adding all the values returns member_od.shape[0]\n",
    "member_od['size'].value_counts(), member_od.shape[0]"
   ]
  },
  {
   "cell_type": "code",
   "execution_count": 116,
   "id": "82f3ed72-25b2-4ae1-9f9b-2247f18f908d",
   "metadata": {},
   "outputs": [
    {
     "data": {
      "text/plain": [
       "((865446, 12),\n",
       " Index(['MEMBER_ID', 'TRUE_OD', 'D', 'FLIGHT_DATE', 'BOOKING_DATE',\n",
       "        'TICKET_SALES_DATE', 'TICKET_NUMBER', 'TRUE_ORIGIN_COUNTRY',\n",
       "        'ADDR_COUNTRY', 'PNR', 'PARTY_SZ', 'size'],\n",
       "       dtype='object'))"
      ]
     },
     "execution_count": 116,
     "metadata": {},
     "output_type": "execute_result"
    }
   ],
   "source": [
    "member_od.shape, member_od.columns"
   ]
  },
  {
   "cell_type": "code",
   "execution_count": 117,
   "id": "b3a542e3-97cd-4eef-9e37-279726f7524c",
   "metadata": {},
   "outputs": [
    {
     "data": {
      "text/plain": [
       "((835129, 12),\n",
       " (849491, 4),\n",
       " Index(['MEMBER_ID', 'TRUE_OD', 'D', 'FLIGHT_DATE', 'BOOKING_DATE',\n",
       "        'TICKET_SALES_DATE', 'TICKET_NUMBER', 'TRUE_ORIGIN_COUNTRY',\n",
       "        'ADDR_COUNTRY', 'PNR', 'PARTY_SZ', 'size'],\n",
       "       dtype='object'))"
      ]
     },
     "execution_count": 117,
     "metadata": {},
     "output_type": "execute_result"
    }
   ],
   "source": [
    "member_od = member_od[member_od['size'] == 1]\n",
    "member_od.shape, member_od_g.shape, member_od.columns"
   ]
  },
  {
   "cell_type": "code",
   "execution_count": 118,
   "id": "591faa5f-db23-45a3-941e-f9bf4d0ec1ba",
   "metadata": {},
   "outputs": [
    {
     "data": {
      "text/plain": [
       "(849491, 4)"
      ]
     },
     "execution_count": 118,
     "metadata": {},
     "output_type": "execute_result"
    }
   ],
   "source": [
    "member_od.to_csv(\"member_d.csv\", index=0)\n",
    "member_od_g.shape"
   ]
  },
  {
   "cell_type": "code",
   "execution_count": 119,
   "id": "a3616fd3-fd5f-4c35-9370-072dd6c8b45f",
   "metadata": {},
   "outputs": [
    {
     "name": "stdout",
     "output_type": "stream",
     "text": [
      "/Users/erlebach/src/2022/copa_recommenders/non-git-files\n"
     ]
    }
   ],
   "source": [
    "!pwd"
   ]
  },
  {
   "cell_type": "code",
   "execution_count": 120,
   "id": "f07d2442-1e64-4d9a-b6ec-d3a041284646",
   "metadata": {},
   "outputs": [
    {
     "data": {
      "text/html": [
       "<div>\n",
       "<style scoped>\n",
       "    .dataframe tbody tr th:only-of-type {\n",
       "        vertical-align: middle;\n",
       "    }\n",
       "\n",
       "    .dataframe tbody tr th {\n",
       "        vertical-align: top;\n",
       "    }\n",
       "\n",
       "    .dataframe thead th {\n",
       "        text-align: right;\n",
       "    }\n",
       "</style>\n",
       "<table border=\"1\" class=\"dataframe\">\n",
       "  <thead>\n",
       "    <tr style=\"text-align: right;\">\n",
       "      <th></th>\n",
       "      <th>MEMBER_ID</th>\n",
       "      <th>D</th>\n",
       "      <th>FLIGHT_DATE</th>\n",
       "      <th>size</th>\n",
       "    </tr>\n",
       "  </thead>\n",
       "  <tbody>\n",
       "    <tr>\n",
       "      <th>604495</th>\n",
       "      <td>234605013</td>\n",
       "      <td>CUN</td>\n",
       "      <td>1613174400</td>\n",
       "      <td>23</td>\n",
       "    </tr>\n",
       "    <tr>\n",
       "      <th>325503</th>\n",
       "      <td>231216383</td>\n",
       "      <td>PTY</td>\n",
       "      <td>1576022400</td>\n",
       "      <td>12</td>\n",
       "    </tr>\n",
       "    <tr>\n",
       "      <th>474812</th>\n",
       "      <td>232345398</td>\n",
       "      <td>PTY</td>\n",
       "      <td>1552348800</td>\n",
       "      <td>10</td>\n",
       "    </tr>\n",
       "    <tr>\n",
       "      <th>665291</th>\n",
       "      <td>236444215</td>\n",
       "      <td>PTY</td>\n",
       "      <td>1578268800</td>\n",
       "      <td>10</td>\n",
       "    </tr>\n",
       "    <tr>\n",
       "      <th>333323</th>\n",
       "      <td>231250764</td>\n",
       "      <td>PTY</td>\n",
       "      <td>1510617600</td>\n",
       "      <td>8</td>\n",
       "    </tr>\n",
       "    <tr>\n",
       "      <th>...</th>\n",
       "      <td>...</td>\n",
       "      <td>...</td>\n",
       "      <td>...</td>\n",
       "      <td>...</td>\n",
       "    </tr>\n",
       "    <tr>\n",
       "      <th>286052</th>\n",
       "      <td>230918334</td>\n",
       "      <td>PTY</td>\n",
       "      <td>1575504000</td>\n",
       "      <td>1</td>\n",
       "    </tr>\n",
       "    <tr>\n",
       "      <th>286053</th>\n",
       "      <td>230918334</td>\n",
       "      <td>SDQ</td>\n",
       "      <td>1454544000</td>\n",
       "      <td>1</td>\n",
       "    </tr>\n",
       "    <tr>\n",
       "      <th>286054</th>\n",
       "      <td>230918592</td>\n",
       "      <td>HAV</td>\n",
       "      <td>1583539200</td>\n",
       "      <td>1</td>\n",
       "    </tr>\n",
       "    <tr>\n",
       "      <th>286055</th>\n",
       "      <td>230918592</td>\n",
       "      <td>MIA</td>\n",
       "      <td>1539648000</td>\n",
       "      <td>1</td>\n",
       "    </tr>\n",
       "    <tr>\n",
       "      <th>849490</th>\n",
       "      <td>270680504</td>\n",
       "      <td>SDQ</td>\n",
       "      <td>1646006400</td>\n",
       "      <td>1</td>\n",
       "    </tr>\n",
       "  </tbody>\n",
       "</table>\n",
       "<p>849491 rows × 4 columns</p>\n",
       "</div>"
      ],
      "text/plain": [
       "        MEMBER_ID    D  FLIGHT_DATE  size\n",
       "604495  234605013  CUN   1613174400    23\n",
       "325503  231216383  PTY   1576022400    12\n",
       "474812  232345398  PTY   1552348800    10\n",
       "665291  236444215  PTY   1578268800    10\n",
       "333323  231250764  PTY   1510617600     8\n",
       "...           ...  ...          ...   ...\n",
       "286052  230918334  PTY   1575504000     1\n",
       "286053  230918334  SDQ   1454544000     1\n",
       "286054  230918592  HAV   1583539200     1\n",
       "286055  230918592  MIA   1539648000     1\n",
       "849490  270680504  SDQ   1646006400     1\n",
       "\n",
       "[849491 rows x 4 columns]"
      ]
     },
     "execution_count": 120,
     "metadata": {},
     "output_type": "execute_result"
    }
   ],
   "source": [
    "member_od_g"
   ]
  },
  {
   "cell_type": "code",
   "execution_count": 121,
   "id": "7cb30c2e-4b77-417c-9244-e4e46c9c60a9",
   "metadata": {},
   "outputs": [
    {
     "data": {
      "text/plain": [
       "((849491, 4), (835129, 12))"
      ]
     },
     "execution_count": 121,
     "metadata": {},
     "output_type": "execute_result"
    }
   ],
   "source": [
    "member_od_g.shape, member_od.shape"
   ]
  },
  {
   "cell_type": "code",
   "execution_count": null,
   "id": "7fceed5e-dc9c-42fd-986b-a11fbdd327ef",
   "metadata": {},
   "outputs": [],
   "source": []
  }
 ],
 "metadata": {
  "kernelspec": {
   "display_name": "Python 3 (ipykernel)",
   "language": "python",
   "name": "python3"
  },
  "language_info": {
   "codemirror_mode": {
    "name": "ipython",
    "version": 3
   },
   "file_extension": ".py",
   "mimetype": "text/x-python",
   "name": "python",
   "nbconvert_exporter": "python",
   "pygments_lexer": "ipython3",
   "version": "3.8.12"
  },
  "toc-autonumbering": true,
  "widgets": {
   "application/vnd.jupyter.widget-state+json": {
    "state": {},
    "version_major": 2,
    "version_minor": 0
   }
  }
 },
 "nbformat": 4,
 "nbformat_minor": 5
}
