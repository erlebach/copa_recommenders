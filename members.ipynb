{
 "cells": [
  {
   "cell_type": "code",
   "execution_count": 1,
   "id": "4f5aff85-b819-46b2-91f1-4ec01b20d241",
   "metadata": {},
   "outputs": [],
   "source": [
    "%load_ext autoreload\n",
    "%autoreload 2"
   ]
  },
  {
   "cell_type": "code",
   "execution_count": 2,
   "id": "205d1bc2-b3d4-465d-9bec-652483e8203d",
   "metadata": {},
   "outputs": [],
   "source": [
    "import pandas as pd\n",
    "import visidata as vd\n",
    "import numpy as np\n",
    "from datetime import datetime\n",
    "import dateutil as du\n",
    "import date_library as datelib\n",
    "import matplotlib.pyplot as plt\n",
    "import utils as u"
   ]
  },
  {
   "cell_type": "markdown",
   "id": "afef8f6e-ac7d-4b94-90d0-70844f127276",
   "metadata": {},
   "source": [
    "# Read, Clean, Reduce data"
   ]
  },
  {
   "cell_type": "code",
   "execution_count": 3,
   "id": "ddf0b165-3afb-44a5-a790-4825bc6e91d6",
   "metadata": {},
   "outputs": [
    {
     "name": "stderr",
     "output_type": "stream",
     "text": [
      "<ipython-input-3-269ae59d0a57>:2: DtypeWarning: Columns (37,46) have mixed types.Specify dtype option on import or set low_memory=False.\n",
      "  df = u.read_activity_file()\n"
     ]
    }
   ],
   "source": [
    "# nb_rows = None # read all rows\n",
    "df = u.read_activity_file()"
   ]
  },
  {
   "cell_type": "code",
   "execution_count": 4,
   "id": "107fac85-d606-4d13-8d4d-06fa2a3d73ab",
   "metadata": {},
   "outputs": [
    {
     "data": {
      "text/plain": [
       "(7853770, 72)"
      ]
     },
     "execution_count": 4,
     "metadata": {},
     "output_type": "execute_result"
    }
   ],
   "source": [
    "df0 = df.copy()\n",
    "df.shape"
   ]
  },
  {
   "cell_type": "markdown",
   "id": "93f516c4-0a00-4c07-8ded-d9310b38ab64",
   "metadata": {},
   "source": [
    "## Clean the dataframe"
   ]
  },
  {
   "cell_type": "code",
   "execution_count": 6,
   "id": "e0b22fe5-96a9-4793-92c5-47a37b6124f9",
   "metadata": {},
   "outputs": [
    {
     "name": "stdout",
     "output_type": "stream",
     "text": [
      "nb PNRs with with more than one member: size    94531\n",
      "dtype: int64\n",
      "max party siz:  9\n",
      "process ENROLL_DATE\n"
     ]
    },
    {
     "name": "stderr",
     "output_type": "stream",
     "text": [
      "/Users/erlebach/src/2022/copa_recommender_systems/date_library.py:21: FutureWarning: casting datetime64[ns] values to int64 with .astype(...) is deprecated and will raise in a future version. Use .view(...) instead.\n",
      "  return pd.to_datetime(date_series).astype('int') // 1000000000\n"
     ]
    },
    {
     "name": "stdout",
     "output_type": "stream",
     "text": [
      "process LAST_TIER_CHANGE_DATE\n",
      "process BIRTH_DATE\n",
      "process ACTIVITY_DATE\n",
      "process FLIGHT_DATE\n",
      "process BOOKING_DATE\n",
      "process TICKET_SALES_DATE\n"
     ]
    }
   ],
   "source": [
    "df = u.clean_dataframe(df)"
   ]
  },
  {
   "cell_type": "markdown",
   "id": "b51c5d92-5bf8-479a-b544-fa08b603ab54",
   "metadata": {},
   "source": [
    "## Extract useful columns to reduce data size"
   ]
  },
  {
   "cell_type": "code",
   "execution_count": 7,
   "id": "df6a3e29-7732-4d9a-909c-f214869c105e",
   "metadata": {},
   "outputs": [
    {
     "data": {
      "text/plain": [
       "(865446, 73)"
      ]
     },
     "execution_count": 7,
     "metadata": {},
     "output_type": "execute_result"
    }
   ],
   "source": [
    "df.to_csv(\"cleaned_df.csv\", index=0)\n",
    "df.shape"
   ]
  },
  {
   "cell_type": "code",
   "execution_count": null,
   "id": "193a84d9-b0ba-4438-9e1b-b0c9c4ef31d8",
   "metadata": {},
   "outputs": [],
   "source": [
    "df = pd.read_csv(\"cleaned_df.csv\")  # In case of screwup\n",
    "df.size, df.shape"
   ]
  },
  {
   "cell_type": "markdown",
   "id": "5d9c370b-34a6-403c-9184-768e31055c79",
   "metadata": {},
   "source": [
    "## Save cleaned, reduced dataframe"
   ]
  },
  {
   "cell_type": "code",
   "execution_count": null,
   "id": "19f3c8d3-4d0c-4e1d-a968-4f42f4e75c89",
   "metadata": {
    "tags": []
   },
   "outputs": [],
   "source": [
    "useful_cols = ['MEMBER_ID', 'PNR', 'BOOKING_DATE', 'FLIGHT_DATE','TICKET_SALES_DATE', 'REVENUE_AMOUNT', 'AWARD_MILES', 'FLOWN_CLASS', 'AMOUNT_OF_BAGS', 'TRUE_OD', 'HOLDING_OD', 'SEGMENT_OD', 'SEGMENT_ORIGIN_REGION', \n",
    "               'SEGMENT_DESTINATION_REGION', 'SEGMENT_ORIGIN_COUNTRY', 'SEGMENT_DESTINATION_COUNTRY', 'TICKET_NUMBER','OPERATING_FLIGHT_NUMBER', 'TRUE_ORIGIN_COUNTRY', 'TRUE_DESTINATION_COUNTRY', 'ADDR_COUNTRY','OPERATING_COMPANY','ISSUING_COMPANY']\n",
    "\n",
    "# Nan replaced by integer -1\n",
    "# Dates replaced by timestamps (# seconds ...)\n",
    "df = df[useful_cols]\n",
    "df.to_csv(\"reduced_df.csv\", index=0)"
   ]
  },
  {
   "cell_type": "code",
   "execution_count": null,
   "id": "f86fb504-9e47-4349-b0a5-501647ce0e48",
   "metadata": {},
   "outputs": [],
   "source": [
    "df.size, df.shape"
   ]
  },
  {
   "cell_type": "code",
   "execution_count": null,
   "id": "240e392c-e426-41c6-bac6-cc27c9056950",
   "metadata": {},
   "outputs": [],
   "source": [
    "df0.columns, df0.shape, df.columns;"
   ]
  },
  {
   "cell_type": "markdown",
   "id": "c4dd18a2-f20f-4e55-b000-18b14eac3979",
   "metadata": {},
   "source": [
    "# Additional experiments\n",
    "* Can be skipped"
   ]
  },
  {
   "cell_type": "code",
   "execution_count": null,
   "id": "4b47f4a8-4199-42ca-bec1-c02807059701",
   "metadata": {},
   "outputs": [],
   "source": [
    "u.find_word(df0.columns, 'OPER')\n",
    "u.find_word(df0.columns, 'COMP')\n",
    "u.find_word(df0.columns, 'TYPE')\n",
    "u.find_word(df0.columns, 'MILES')\n",
    "u.find_word(df0.columns, 'REV')"
   ]
  },
  {
   "cell_type": "code",
   "execution_count": null,
   "id": "29961918-1398-4e01-8759-9cfdc90dcb0d",
   "metadata": {},
   "outputs": [],
   "source": [
    "dfb = df0['OPERATING_COMPANY']"
   ]
  },
  {
   "cell_type": "code",
   "execution_count": null,
   "id": "ad9ae90a-bf45-4fa9-adee-0709bc13bd84",
   "metadata": {},
   "outputs": [],
   "source": [
    "df_CM.shape"
   ]
  },
  {
   "cell_type": "code",
   "execution_count": null,
   "id": "e5d9d6c4-bb2f-4a18-b969-bb092c58afbe",
   "metadata": {},
   "outputs": [],
   "source": [
    "# There are many issuing companies even if CM is the only operating company. \n",
    "# Unlikely this field is important.\n",
    "df[df['ISSUING_COMPANY'] != 'CM']['ISSUING_COMPANY'].value_counts().shape, df.shape"
   ]
  },
  {
   "cell_type": "code",
   "execution_count": null,
   "id": "4ce31783-e9ed-410e-a16a-2b1fd3cf86dd",
   "metadata": {},
   "outputs": [],
   "source": [
    "df[df['TRUE_OD'].str[4:7] == 'CDG'][['TRUE_OD', 'HOLDING_OD', 'OPERATING_COMPANY']]"
   ]
  },
  {
   "cell_type": "code",
   "execution_count": null,
   "id": "70200916-5c38-469e-b0ec-9048f665772a",
   "metadata": {},
   "outputs": [],
   "source": [
    "df0[df0['HOLDING_OD'].str[4:7] == 'CDG'][['HOLDING_OD', 'TRUE_OD', 'OPERATING_COMPANY']]"
   ]
  },
  {
   "cell_type": "code",
   "execution_count": null,
   "id": "705f7a35-5c60-456e-a463-c716f10cd87e",
   "metadata": {},
   "outputs": [],
   "source": [
    "# df_Copa\n",
    "df0.head()\n",
    "# df0.shape\n",
    "(~pd.isna(df_Copa.REDEEMED_MILES)).sum(), df_Copa.shape"
   ]
  },
  {
   "cell_type": "markdown",
   "id": "9b031b83-9dd9-40be-a9a3-746318d3b688",
   "metadata": {},
   "source": [
    "## Redeemed miles\n",
    "* How can it be negative?"
   ]
  },
  {
   "cell_type": "code",
   "execution_count": null,
   "id": "c4b8e212-5b6a-4021-825d-8a2c797e7dca",
   "metadata": {},
   "outputs": [],
   "source": [
    "x = df0[(~pd.isna(df0.REDEEMED_MILES))]['REDEEMED_MILES'].sort_values()\n",
    "x.tail(),x.head()"
   ]
  },
  {
   "cell_type": "code",
   "execution_count": null,
   "id": "92ac3c5c-90a3-453c-8659-b2da869cf1ad",
   "metadata": {},
   "outputs": [],
   "source": [
    "dfg = df0.groupby('MEMBER_ID')\n",
    "nb_segments = dfg.size().sort_values(ascending=False)"
   ]
  },
  {
   "cell_type": "code",
   "execution_count": null,
   "id": "914b3fc7-85ad-45c3-9000-3305d9be7c44",
   "metadata": {},
   "outputs": [],
   "source": [
    "nb_segments[nb_segments > 50].shape"
   ]
  },
  {
   "cell_type": "code",
   "execution_count": null,
   "id": "df910f9f-021d-4a91-843d-bbfc3d0df98b",
   "metadata": {},
   "outputs": [],
   "source": [
    "# 94598 members\n",
    "# max number trip segments by one member: 2808\n",
    "# min number trip segments by one member\n",
    "# number of members with more than 50 segments: 44202\n",
    "# number of members with more than 500 segments: 577\n",
    "\n",
    "fig = plt.figure(figsize=(12,4))\n",
    "fig.add_subplot(1,2,1)\n",
    "plt.hist(nb_segments, bins=30, range=[0,600]);\n",
    "plt.grid(True)\n",
    "fig.add_subplot(1,2,2)\n",
    "plt.hist(nb_segments, bins=30, range=[300,600]);\n",
    "plt.grid(True)"
   ]
  },
  {
   "cell_type": "code",
   "execution_count": null,
   "id": "8acef92c-c251-4419-a36b-72091ef229c5",
   "metadata": {},
   "outputs": [],
   "source": [
    "miles_count = ('MILES_BALANCE', 'count')"
   ]
  },
  {
   "cell_type": "code",
   "execution_count": null,
   "id": "e0ed48ec-4db6-410d-901e-363faa4fe848",
   "metadata": {},
   "outputs": [],
   "source": [
    "dfg.get_group(230025672).describe().T"
   ]
  },
  {
   "cell_type": "code",
   "execution_count": null,
   "id": "10d41ca1-d9d6-4751-ae5b-d7a5981324b1",
   "metadata": {},
   "outputs": [],
   "source": [
    "dfid = df0[df0['MEMBER_ID'] == 230025672]"
   ]
  },
  {
   "cell_type": "code",
   "execution_count": null,
   "id": "7dda0ff8-b4fc-415c-b95c-036bb38135be",
   "metadata": {},
   "outputs": [],
   "source": [
    "dfid.BOOKING_DATE"
   ]
  },
  {
   "cell_type": "code",
   "execution_count": null,
   "id": "6eda4704-dda2-4db6-897f-43027356aee1",
   "metadata": {},
   "outputs": [],
   "source": [
    "dfid.describe().T"
   ]
  },
  {
   "cell_type": "code",
   "execution_count": null,
   "id": "f676df39-aaff-4b87-9851-dc7bfd1dcdb2",
   "metadata": {
    "tags": []
   },
   "outputs": [],
   "source": [
    "dfg_summary = dfg[['TOTAL_MILES_SINCE_ENROLLMENT', 'MILES_BALANCE','AWARD_MILES']].agg( ['count', 'mean','std'] )\n",
    "print(dfg_summary.columns)\n",
    "dfg_summary = dfg_summary[dfg_summary[miles_count] > 1]"
   ]
  },
  {
   "cell_type": "code",
   "execution_count": null,
   "id": "a8c199c8-c950-41e5-b3d2-84ba8cb11e4e",
   "metadata": {},
   "outputs": [],
   "source": [
    "dfg_summary.sort_values(miles_count, ascending=False)"
   ]
  },
  {
   "cell_type": "code",
   "execution_count": null,
   "id": "0eddf965-ca4b-497d-8ddd-320a3055d9da",
   "metadata": {},
   "outputs": [],
   "source": [
    "miles_bal_count = ('MILES_BALANCE', 'count')\n",
    "miles_bal_std = ('MILES_BALANCE', 'std')\n",
    "award_miles_std = ('AWARD_MILES', 'std')"
   ]
  },
  {
   "cell_type": "code",
   "execution_count": null,
   "id": "c7a80240-3760-4787-8c0d-d628cb45a15a",
   "metadata": {},
   "outputs": [],
   "source": [
    "dfg_summary[award_miles_std].describe().astype(int)"
   ]
  },
  {
   "cell_type": "code",
   "execution_count": null,
   "id": "13239080-88f1-458b-871e-31f407e30594",
   "metadata": {},
   "outputs": [],
   "source": [
    "dfg_summary.sort_values(('MILES_BALANCE','count')).tail()"
   ]
  },
  {
   "cell_type": "code",
   "execution_count": null,
   "id": "798c129e-1a4c-43c2-839d-032e2a66593d",
   "metadata": {},
   "outputs": [],
   "source": [
    "xmean = dfg.mean()\n",
    "xstd = dfg.std()"
   ]
  },
  {
   "cell_type": "code",
   "execution_count": null,
   "id": "abd84b74-0c9d-4807-a197-b9cab51dffa4",
   "metadata": {},
   "outputs": [],
   "source": [
    "df.dtypes[df.dtypes != object].head(50)"
   ]
  }
 ],
 "metadata": {
  "kernelspec": {
   "display_name": "Python 3 (ipykernel)",
   "language": "python",
   "name": "python3"
  },
  "language_info": {
   "codemirror_mode": {
    "name": "ipython",
    "version": 3
   },
   "file_extension": ".py",
   "mimetype": "text/x-python",
   "name": "python",
   "nbconvert_exporter": "python",
   "pygments_lexer": "ipython3",
   "version": "3.8.12"
  },
  "toc-autonumbering": true,
  "toc-showcode": false,
  "toc-showmarkdowntxt": false,
  "widgets": {
   "application/vnd.jupyter.widget-state+json": {
    "state": {},
    "version_major": 2,
    "version_minor": 0
   }
  }
 },
 "nbformat": 4,
 "nbformat_minor": 5
}
