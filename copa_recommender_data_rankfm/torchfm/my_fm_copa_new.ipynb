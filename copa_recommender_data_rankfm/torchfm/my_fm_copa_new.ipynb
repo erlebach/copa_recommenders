{
 "cells": [
  {
   "cell_type": "markdown",
   "id": "c5284055-b709-4409-a9fb-d3e0bbe7621b",
   "metadata": {
    "tags": []
   },
   "source": [
    "# Experiments with torchfm, which has a range of models based on FM (Factorization Machines). \n",
    "* None of these models are sequence-aware.\n",
    "* Anaconda context must be set to \"base\". Eventually work with poetry.\n",
    "* Try working with wandb (Weights & Biases)\n",
    "* Starting with my_fm_copy.ipynb on July 21, 2021, integrate with elements of the code I wrote for rankfm. Specifically, I will read the data with the newlib.py library. "
   ]
  },
  {
   "cell_type": "code",
   "execution_count": 1,
   "id": "d5035eb2-aeb0-4d58-91c7-d7d85307be73",
   "metadata": {},
   "outputs": [],
   "source": [
    "%load_ext autoreload\n",
    "%autoreload 2"
   ]
  },
  {
   "cell_type": "code",
   "execution_count": 2,
   "id": "ababb2e5-44c7-4bdd-9567-0e6c46cf7953",
   "metadata": {
    "tags": []
   },
   "outputs": [],
   "source": [
    "import torchfm\n",
    "from torchfm import layer as fm_layer, model as fm_model\n",
    "from torchfm.model import fm, lr, nfm, wd\n",
    "import torch.nn.functional as F\n",
    "import pandas as pd\n",
    "import pandas_options\n",
    "import torch\n",
    "from torch.utils.data import DataLoader, Dataset\n",
    "import torch.nn as nn\n",
    "tt = torch.tensor\n",
    "import numpy as np\n",
    "# import tqdm\n",
    "import random\n",
    "import matplotlib.pyplot as plt\n",
    "import myfunclib as myfm\n",
    "import d2l_torch as d2l\n",
    "import datalib\n",
    "import wandb\n",
    "\n",
    "from fastcore.all import L, AttrDict"
   ]
  },
  {
   "cell_type": "code",
   "execution_count": 3,
   "id": "958c4c46-81b6-4290-acd9-d35ed8c42fc1",
   "metadata": {},
   "outputs": [
    {
     "data": {
      "text/plain": [
       "(16, 16)"
      ]
     },
     "execution_count": 3,
     "metadata": {},
     "output_type": "execute_result"
    }
   ],
   "source": [
    "torch.get_num_interop_threads(),  torch.get_num_threads()"
   ]
  },
  {
   "cell_type": "code",
   "execution_count": 4,
   "id": "40cac314-73ac-495f-a220-637722c97031",
   "metadata": {},
   "outputs": [
    {
     "name": "stdout",
     "output_type": "stream",
     "text": [
      "cuda\n"
     ]
    }
   ],
   "source": [
    "# device = d2l.try_gpu()\n",
    "device = 'cuda'\n",
    "print(device)"
   ]
  },
  {
   "cell_type": "code",
   "execution_count": 5,
   "id": "856b6a13-386f-4bb6-87c6-5038945fdbc4",
   "metadata": {
    "tags": []
   },
   "outputs": [],
   "source": [
    "gdct = {\n",
    "    'device': device,  # 'cpu'\n",
    "    'embed_dim': 10,\n",
    "    'nb_epochs': 10,\n",
    "    'lr': 0.05,\n",
    "    'wd': 1.e-5,\n",
    "    'optim': 'adamW',\n",
    "    'batch_size' : 4096\n",
    "}"
   ]
  },
  {
   "cell_type": "code",
   "execution_count": 6,
   "id": "988cb7b3-6690-4559-82f0-1d3ea6a78aea",
   "metadata": {
    "tags": []
   },
   "outputs": [],
   "source": [
    "param_dct = AttrDict({\n",
    "    'device': device,  # 'cpu'\n",
    "    'embed_dim': 10,\n",
    "    'nb_epochs': 100,\n",
    "    'lr': 0.05,\n",
    "    'wd': 1.e-5,\n",
    "    'optim': 'adamW',\n",
    "    'batch_size' : 1024*4\n",
    "})"
   ]
  },
  {
   "cell_type": "code",
   "execution_count": 7,
   "id": "aa9a132f-92d3-4408-b031-27d30f9d670b",
   "metadata": {},
   "outputs": [
    {
     "name": "stdout",
     "output_type": "stream",
     "text": [
      "df_item_attrib columns:  ['D', 'avg_yr_l', 'avg_yr_h', 'IATA', 'LAT_DEC', 'LON_DEC', 'HEIGHT']\n",
      "df_item_attrib shape:  (91, 7)\n",
      "df_:  Index(['MEMBER_ID', 'D', 'age_departure', 'GENDER', 'avg_yr_l', 'avg_yr_h',\n",
      "       'LAT_DEC', 'LON_DEC', 'HEIGHT'],\n",
      "      dtype='object')\n",
      "SHOULD NOT CREATE user_attrib_idx and item_attrib_idx manually! SHOULD DO THIS BEFORE CALL TO this method\n",
      "CPU times: user 1.18 s, sys: 153 ms, total: 1.33 s\n",
      "Wall time: 1.33 s\n"
     ]
    },
    {
     "data": {
      "text/plain": [
       "dict_keys(['device', 'embed_dim', 'nb_epochs', 'lr', 'wd', 'optim', 'batch_size', 'age_cuts', 'df_members', 'df_with_attrib', 'user_attrib_idx', 'item_attrib_idx', 'user_attrib_str', 'item_attrib_str', 'field_types', 'field_dims'])"
      ]
     },
     "execution_count": 7,
     "metadata": {},
     "output_type": "execute_result"
    }
   ],
   "source": [
    "%%time \n",
    "in_file = \"activity_reduced_with_attributes.csv\"\n",
    "dct = datalib.read_data_attributes_single_file(in_file, dct=param_dct, continuous_attrib=True)\n",
    "dct.keys()"
   ]
  },
  {
   "cell_type": "code",
   "execution_count": 8,
   "id": "efadbc78-4057-4c70-89f8-eab9c2231fd0",
   "metadata": {
    "tags": []
   },
   "outputs": [],
   "source": [
    "def convert_cat_variables(dct):\n",
    "    idx2member, member2idx = datalib.cat2dict(dct['df_with_attrib']['MEMBER_ID'])\n",
    "    idx2dest, dest2idx = datalib.cat2dict(dct['df_with_attrib']['D'])\n",
    "    idx2gender, gender2idx = datalib.cat2dict(dct.df_with_attrib.GENDER)\n",
    "    \n",
    "    dct['idx2member'] = idx2member\n",
    "    dct['member2idx'] = idx2member\n",
    "    dct['idx2dest'] = idx2dest\n",
    "    dct['dest2idx'] = dest2idx\n",
    "    dct['idx2gender'] = idx2gender\n",
    "    dct.gender2idx = gender2idx\n",
    "    \n",
    "    df1 = dct['df_with_attrib'].copy()\n",
    "    df1['MEMBER_ID'] = df1['MEMBER_ID'].map(member2idx)\n",
    "    df1['D'] = df1['D'].map(dest2idx)\n",
    "    df1['GENDER'] = df1.GENDER.map(gender2idx)\n",
    "    print(\"nb dest: \", len(dest2idx))\n",
    "    print(\"nb members: \", len(idx2member))\n",
    "    return df1"
   ]
  },
  {
   "cell_type": "code",
   "execution_count": 9,
   "id": "278c5507-0148-4004-8c08-029d7f22a69a",
   "metadata": {},
   "outputs": [
    {
     "data": {
      "text/plain": [
       "((#6) ['D','avg_yr_l','avg_yr_h','LAT_DEC','LON_DEC','HEIGHT'],\n",
       " (#3) ['MEMBER_ID','age_departure','GENDER'])"
      ]
     },
     "execution_count": 9,
     "metadata": {},
     "output_type": "execute_result"
    }
   ],
   "source": [
    "dct.item_attrib_str, dct.user_attrib_str"
   ]
  },
  {
   "cell_type": "code",
   "execution_count": 10,
   "id": "11944ccc-6a69-4363-8f30-508f68cfad5d",
   "metadata": {},
   "outputs": [
    {
     "data": {
      "text/plain": [
       "dict_keys(['device', 'embed_dim', 'nb_epochs', 'lr', 'wd', 'optim', 'batch_size', 'age_cuts', 'df_members', 'df_with_attrib', 'user_attrib_idx', 'item_attrib_idx', 'user_attrib_str', 'item_attrib_str', 'field_types', 'field_dims'])"
      ]
     },
     "execution_count": 10,
     "metadata": {},
     "output_type": "execute_result"
    }
   ],
   "source": [
    "dct.keys()"
   ]
  },
  {
   "cell_type": "code",
   "execution_count": 11,
   "id": "e3364e4f-ccee-4c23-a95e-67592f8bb9ea",
   "metadata": {},
   "outputs": [
    {
     "name": "stdout",
     "output_type": "stream",
     "text": [
      "nb dest:  86\n",
      "nb members:  46321\n"
     ]
    }
   ],
   "source": [
    "df1 = convert_cat_variables(dct)\n",
    "dct['df_with_attrib'] = df1"
   ]
  },
  {
   "cell_type": "code",
   "execution_count": null,
   "id": "dff47b4d-8859-4374-9c94-6389c2511082",
   "metadata": {},
   "outputs": [],
   "source": [
    "%%time \n",
    "# split data into train / valid / test data sets\n",
    "datalib.train_valid_dct(dct, 0.1, 0.2, temporal=True, shuffle=True)\n",
    "dataset_train = datalib.myDataset(dct, dct.data_train)\n",
    "dataset_valid = datalib.myDataset(dct, dct.data_valid)\n",
    "dataset_test  = datalib.myDataset(dct, dct.data_test)\n",
    "dct.keys()"
   ]
  },
  {
   "cell_type": "code",
   "execution_count": null,
   "id": "1deba327-23e6-4a8d-9f9b-1e44e7ae37b8",
   "metadata": {},
   "outputs": [],
   "source": [
    "loader_train = DataLoader(dataset_train, shuffle=True, batch_size=dct.batch_size)\n",
    "loader_valid = DataLoader(dataset_valid, shuffle=True, batch_size=dct.batch_size)\n",
    "loader_test  = DataLoader(dataset_test,  shuffle=True, batch_size=dct.batch_size)"
   ]
  },
  {
   "cell_type": "code",
   "execution_count": null,
   "id": "f4db793e-8800-488f-8c23-2363cf8daf8f",
   "metadata": {},
   "outputs": [],
   "source": [
    "%%time \n",
    "print(loader_train.batch_size)\n",
    "print(loader_train.dataset.data.shape)\n",
    "for i,d in enumerate(loader_train):\n",
    "    if i == 5: break"
   ]
  },
  {
   "cell_type": "markdown",
   "id": "d32fc1ed-852d-4e1a-87b8-83ce91b1ea71",
   "metadata": {},
   "source": [
    "## DataLoader is functional"
   ]
  },
  {
   "cell_type": "markdown",
   "id": "1232c249-a21e-4cb6-8ecc-585721354870",
   "metadata": {
    "tags": []
   },
   "source": [
    "# NOT USED\n",
    "batch_size = dct.batch_size\n",
    "files = \"attrib_2016.csv.gz\"\n",
    "#data_dict = myfm.getData(files, batch_size=batch_size, nrows='all')\n",
    "data_dict = myfm.getData(files, batch_size=batch_size, nrows=20000, shuffle=False)\n",
    "data_dict\n",
    "\n",
    "\n",
    "\n",
    "data_dict['train_iter'].dataset.df.shape[0]\n",
    "\n",
    "len(dataset_train)\n",
    "\n",
    "train_iter = data_dict['train_iter']\n",
    "field_dims = train_iter.dataset.field_dims\n",
    "field_dims\n",
    "\n",
    "field_dims = 20   # MEANING?\n",
    "\n",
    "# cpu: device : -1\n",
    "# gpu: device : 0, 1, ...\n",
    "gdct\n",
    "\n",
    "# field_dims: number of categories for each attribute. \n",
    "# This should be defined in read_single_file"
   ]
  },
  {
   "cell_type": "markdown",
   "id": "115e948d-6caa-4d36-8bca-5abd29159498",
   "metadata": {},
   "source": [
    "Create a method with dataset and DataLoader"
   ]
  },
  {
   "cell_type": "code",
   "execution_count": null,
   "id": "d2eca1b1-06bd-40d9-bb87-84323a1c1a66",
   "metadata": {},
   "outputs": [],
   "source": [
    "dct.keys()"
   ]
  },
  {
   "cell_type": "code",
   "execution_count": null,
   "id": "979935b4-a689-4026-9797-04f8c885506c",
   "metadata": {},
   "outputs": [],
   "source": [
    "# Field_dims are based on the full dataset. As such, I might have 45,000 members in the \n",
    "# full dataset, but only 35,000 in the validation set. That wastes computational resources\n",
    "# due to an enlarged embedding layer, but does it create other issues? I think not. \n",
    "embed_dim = dct['embed_dim']\n",
    "device = dct['device']\n",
    "field_dims = dct.field_dims.to(device)\n",
    "# Better would be to capture all fields with element > 1. <<<< TODO IN FUTURE\n",
    "field_dims = torch.cat([field_dims[0:2], field_dims[3:4]], axis=0)\n",
    "print(\"field_dims: \", field_dims)\n",
    "net = fm.FactorizationMachineModel(field_dims, embed_dim)\n",
    "net.to(device)\n"
   ]
  },
  {
   "cell_type": "code",
   "execution_count": 12,
   "id": "c790f8e2-07d6-4174-8803-182d5399d816",
   "metadata": {},
   "outputs": [],
   "source": [
    "dct.embed_dim = 20\n",
    "dct.nb_epochs = 50\n",
    "dct.lr = 0.05\n",
    "dct.wd = 1.e-5\n",
    "dct.optim = 'adamW'\n",
    "dct.device = 'cuda'"
   ]
  },
  {
   "cell_type": "code",
   "execution_count": 24,
   "id": "4f2a1160-36ae-492f-9737-def0bc731faf",
   "metadata": {},
   "outputs": [
    {
     "name": "stdout",
     "output_type": "stream",
     "text": [
      "Create sweep with ID: tj45rn4b\n",
      "Sweep URL: https://wandb.ai/erlebacher/Copa%20Recommender/sweeps/tj45rn4b\n"
     ]
    }
   ],
   "source": [
    "config = {\n",
    "  'lr': dct.lr,\n",
    "  'epochs': dct.nb_epochs,\n",
    "  'batch_size': dct.batch_size,\n",
    "  'optim': dct.optim,\n",
    "  'wd': dct.wd,\n",
    "  'embed_dim': dct.embed_dim,\n",
    "  'device': 'cuda',\n",
    "}\n",
    "\n",
    "sweep_config = {\n",
    "    'name' : 'sweep1',\n",
    "    'method' : 'random',\n",
    "    'parameters' : {\n",
    "        'lr' : { 'min' : 0.005, 'max' : 0.05 },\n",
    "        'optim' : { 'values' : [ 'adam', 'adamW' ] },\n",
    "        'wd' : { 'values' : [1.e-5, 1.e-3]  },\n",
    "        'batch_size' : { 'values' : [128, 512, 1024, 4096] },\n",
    "        'epochs' : {'value' : 30},\n",
    "        'embed_dim' : {'values' : [10,20,30]},\n",
    "        'device' : {'value' : 'cuda'},\n",
    "    }\n",
    "}\n",
    "\n",
    "metric = {\n",
    "        'name' : 'loss'\n",
    "}\n",
    "\n",
    "sweep_config['metric'] = metric\n",
    "\n",
    "sweep_id = wandb.sweep(sweep_config, project=\"Copa Recommender\", entity=\"erlebacher\")"
   ]
  },
  {
   "cell_type": "code",
   "execution_count": 25,
   "id": "115e3259-69af-4f22-ac19-ef436cb7c35c",
   "metadata": {},
   "outputs": [
    {
     "name": "stdout",
     "output_type": "stream",
     "text": [
      "{'method': 'random',\n",
      " 'metric': {'name': 'loss'},\n",
      " 'name': 'sweep1',\n",
      " 'parameters': {'batch_size': {'values': [128, 512, 1024, 4096]},\n",
      "                'device': {'value': 'cuda'},\n",
      "                'embed_dim': {'values': [10, 20, 30]},\n",
      "                'epochs': {'value': 30},\n",
      "                'lr': {'max': 0.05, 'min': 0.005},\n",
      "                'optim': {'values': ['adam', 'adamW']},\n",
      "                'wd': {'values': [1e-05, 0.001]}}}\n"
     ]
    }
   ],
   "source": [
    "import pprint\n",
    "pprint.pprint(sweep_config)"
   ]
  },
  {
   "cell_type": "code",
   "execution_count": 26,
   "id": "feea3649-3b6b-41f2-98ed-34160724b520",
   "metadata": {},
   "outputs": [],
   "source": [
    "def build_dataset(batch_size):\n",
    "    datalib.train_valid_dct(dct, 0.1, 0.2, temporal=True, shuffle=True)\n",
    "    dataset_train = datalib.myDataset(dct, dct.data_train)\n",
    "    loader_train = DataLoader(dataset_train, shuffle=True, batch_size=dct.batch_size)\n",
    "    return loader_train\n",
    "\n",
    "def build_network(config, dct):\n",
    "    # device = config['device']\n",
    "    device = 'cuda'\n",
    "    embed_dim = config['embed_dim']\n",
    "    field_dims = dct.field_dims.to(device)\n",
    "    # Better would be to capture all fields with element > 1. <<<< TODO IN FUTURE\n",
    "    #   0:2 : MEMBER_ID, D (or negD),  3:4 : GENDER\n",
    "    field_dims = torch.cat([field_dims[0:2], field_dims[3:4]], axis=0)\n",
    "    network = fm.FactorizationMachineModel(field_dims, embed_dim)\n",
    "    return network.to(device)\n",
    "\n",
    "def bpr_loss_func(pos, neg):\n",
    "    return -torch.log(torch.sigmoid(pos-neg)).sum()\n",
    "\n",
    "def build_optimizer(dct, network, lr, wd): \n",
    "    if dct.optim == \"sgd\":\n",
    "        optimizer = torch.optim.SGD(network.parameters(),\n",
    "                              lr=lr, momentum=0.9, \n",
    "                              weight_decay=wd)\n",
    "    elif dct.optim == \"adam\":\n",
    "        optimizer = torch.optim.Adam(network.parameters(),\n",
    "                               lr=lr, \n",
    "                               weight_decay=wd)\n",
    "    elif dct.optim == \"adamW\":\n",
    "        optimizer = torch.optim.AdamW(network.parameters(),\n",
    "                               lr=lr,\n",
    "                               weight_decay=wd)\n",
    "    return optimizer\n",
    "\n",
    "\n",
    "def train_epoch(network, loader, optimizer, loss_func, nb_epochs):\n",
    "    for epoch in range(nb_epochs):\n",
    "        print(\"train_epoch: device: \", dct.device)\n",
    "        total_loss = myfm.train_epoch_new(network, optimizer, loader, loss_func, device=dct.device, log_interval=50)\n",
    "        #if epoch == 0:\n",
    "            #wandb.run.summary[\"initial_loss\"] = total_loss\n",
    "        #if total_loss < lowest_loss:\n",
    "            #lowest_loss = total_loss\n",
    "            #epoch_lowest_loss = epoch\n",
    "            #wandb.run.summary[\"lowest_loss\"] = lowest_loss\n",
    "            #wandb.run.summary[\"epoch_lowest_loss\"] = epoch_lowest_loss\n",
    "        # losses.append(total_loss)\n",
    "        if epoch % 5 == 0:\n",
    "            print(f\"Epoch {epoch}, avg total_loss (per training sample): \", total_loss)\n",
    "        wandb.log({\"loss\": total_loss, \"epoch\":epoch})"
   ]
  },
  {
   "cell_type": "code",
   "execution_count": 27,
   "id": "2171e921-ac98-4269-b74c-6fc83f6e26c7",
   "metadata": {},
   "outputs": [],
   "source": [
    "def train(config=None):\n",
    "    # Initialize a new wandb run\n",
    "    with wandb.init(config=config) as run:\n",
    "        # If called by wandb.agent, as below,\n",
    "        # this config will be set by Sweep Controller\n",
    "        config = wandb.config\n",
    "\n",
    "        loader = build_dataset(config['batch_size'])\n",
    "        network = build_network(config, dct)\n",
    "        optimizer = build_optimizer(dct, network, config['lr'], config['wd'])\n",
    "        loss_func = bpr_loss_func\n",
    "        nb_epochs = config[\"epochs\"]\n",
    "        avg_loss = train_epoch(network, loader, optimizer, loss_func, nb_epochs)"
   ]
  },
  {
   "cell_type": "code",
   "execution_count": null,
   "id": "75902eba-ea97-49b9-87fa-54eedbe4a2ef",
   "metadata": {
    "tags": []
   },
   "outputs": [
    {
     "name": "stderr",
     "output_type": "stream",
     "text": [
      "\u001b[34m\u001b[1mwandb\u001b[0m: Agent Starting Run: vg82vtbs with config:\n",
      "\u001b[34m\u001b[1mwandb\u001b[0m: \tbatch_size: 512\n",
      "\u001b[34m\u001b[1mwandb\u001b[0m: \tdevice: cuda\n",
      "\u001b[34m\u001b[1mwandb\u001b[0m: \tembed_dim: 30\n",
      "\u001b[34m\u001b[1mwandb\u001b[0m: \tepochs: 30\n",
      "\u001b[34m\u001b[1mwandb\u001b[0m: \tlr: 0.015891534391008797\n",
      "\u001b[34m\u001b[1mwandb\u001b[0m: \toptim: adam\n",
      "\u001b[34m\u001b[1mwandb\u001b[0m: \twd: 1e-05\n"
     ]
    },
    {
     "data": {
      "text/html": [
       "Tracking run with wandb version 0.12.21"
      ],
      "text/plain": [
       "<IPython.core.display.HTML object>"
      ]
     },
     "metadata": {},
     "output_type": "display_data"
    },
    {
     "data": {
      "text/html": [
       "Run data is saved locally in <code>/home/erlebach/src/2022/copa_recommenders/copa_recommender_data_rankfm/torchfm/wandb/run-20220727_013115-vg82vtbs</code>"
      ],
      "text/plain": [
       "<IPython.core.display.HTML object>"
      ]
     },
     "metadata": {},
     "output_type": "display_data"
    },
    {
     "data": {
      "text/html": [
       "Syncing run <strong><a href=\"https://wandb.ai/erlebacher/Copa%20Recommender/runs/vg82vtbs\" target=\"_blank\">vague-sweep-1</a></strong> to <a href=\"https://wandb.ai/erlebacher/Copa%20Recommender\" target=\"_blank\">Weights & Biases</a> (<a href=\"https://wandb.me/run\" target=\"_blank\">docs</a>)<br/>Sweep page:  <a href=\"https://wandb.ai/erlebacher/Copa%20Recommender/sweeps/tj45rn4b\" target=\"_blank\">https://wandb.ai/erlebacher/Copa%20Recommender/sweeps/tj45rn4b</a>"
      ],
      "text/plain": [
       "<IPython.core.display.HTML object>"
      ]
     },
     "metadata": {},
     "output_type": "display_data"
    },
    {
     "name": "stdout",
     "output_type": "stream",
     "text": [
      "(804187, 9)\n",
      "Create torch.tensor on device\n",
      "FeaturesLinear, field_dims:  tensor([46321,    86,     3], device='cuda:0') tensor(46410, device='cuda:0')\n",
      "train_epoch: device:  cuda\n",
      "elapased time per epoch:  477.474365234375\n",
      "Epoch 0, avg total_loss (per training sample):  0.001409852315124285\n",
      "train_epoch: device:  cuda\n",
      "elapased time per epoch:  422.9700012207031\n",
      "train_epoch: device:  cuda\n",
      "elapased time per epoch:  473.80767822265625\n",
      "train_epoch: device:  cuda\n",
      "elapased time per epoch:  419.2924499511719\n",
      "train_epoch: device:  cuda\n",
      "elapased time per epoch:  476.96661376953125\n",
      "train_epoch: device:  cuda\n",
      "elapased time per epoch:  420.4491271972656\n",
      "Epoch 5, avg total_loss (per training sample):  0.000995064676737247\n",
      "train_epoch: device:  cuda\n",
      "elapased time per epoch:  470.63720703125\n",
      "train_epoch: device:  cuda\n",
      "elapased time per epoch:  418.1485900878906\n",
      "train_epoch: device:  cuda\n",
      "elapased time per epoch:  471.3335266113281\n",
      "train_epoch: device:  cuda\n",
      "elapased time per epoch:  416.7745361328125\n",
      "train_epoch: device:  cuda\n",
      "elapased time per epoch:  485.92919921875\n",
      "Epoch 10, avg total_loss (per training sample):  0.0009211924892834026\n",
      "train_epoch: device:  cuda\n",
      "elapased time per epoch:  446.13201904296875\n",
      "train_epoch: device:  cuda\n",
      "elapased time per epoch:  484.343017578125\n",
      "train_epoch: device:  cuda\n",
      "elapased time per epoch:  429.3770446777344\n",
      "train_epoch: device:  cuda\n",
      "elapased time per epoch:  480.669921875\n",
      "train_epoch: device:  cuda\n",
      "elapased time per epoch:  441.98236083984375\n",
      "Epoch 15, avg total_loss (per training sample):  0.0008826717125376222\n",
      "train_epoch: device:  cuda\n",
      "elapased time per epoch:  486.80621337890625\n",
      "train_epoch: device:  cuda\n",
      "elapased time per epoch:  427.3440246582031\n",
      "train_epoch: device:  cuda\n",
      "elapased time per epoch:  481.50115966796875\n",
      "train_epoch: device:  cuda\n",
      "elapased time per epoch:  424.80047607421875\n",
      "train_epoch: device:  cuda\n",
      "elapased time per epoch:  486.3883972167969\n",
      "Epoch 20, avg total_loss (per training sample):  0.0008971044093268652\n",
      "train_epoch: device:  cuda\n",
      "elapased time per epoch:  429.3623046875\n",
      "train_epoch: device:  cuda\n",
      "elapased time per epoch:  477.8963623046875\n",
      "train_epoch: device:  cuda\n",
      "elapased time per epoch:  428.0835266113281\n",
      "train_epoch: device:  cuda\n",
      "elapased time per epoch:  486.3573303222656\n",
      "train_epoch: device:  cuda\n",
      "elapased time per epoch:  432.24578857421875\n",
      "Epoch 25, avg total_loss (per training sample):  0.0008473094181672217\n",
      "train_epoch: device:  cuda\n",
      "elapased time per epoch:  490.3028869628906\n",
      "train_epoch: device:  cuda\n",
      "elapased time per epoch:  425.6466369628906\n",
      "train_epoch: device:  cuda\n",
      "elapased time per epoch:  477.9272766113281\n",
      "train_epoch: device:  cuda\n",
      "elapased time per epoch:  428.97210693359375\n"
     ]
    },
    {
     "data": {
      "text/html": [
       "Waiting for W&B process to finish... <strong style=\"color:green\">(success).</strong>"
      ],
      "text/plain": [
       "<IPython.core.display.HTML object>"
      ]
     },
     "metadata": {},
     "output_type": "display_data"
    },
    {
     "data": {
      "application/vnd.jupyter.widget-view+json": {
       "model_id": "",
       "version_major": 2,
       "version_minor": 0
      },
      "text/plain": [
       "VBox(children=(Label(value='0.001 MB of 0.001 MB uploaded (0.000 MB deduped)\\r'), FloatProgress(value=1.0, max…"
      ]
     },
     "metadata": {},
     "output_type": "display_data"
    },
    {
     "data": {
      "text/html": [
       "<style>\n",
       "    table.wandb td:nth-child(1) { padding: 0 10px; text-align: left ; width: auto;} td:nth-child(2) {text-align: left ; width: 100%}\n",
       "    .wandb-row { display: flex; flex-direction: row; flex-wrap: wrap; justify-content: flex-start; width: 100% }\n",
       "    .wandb-col { display: flex; flex-direction: column; flex-basis: 100%; flex: 1; padding: 10px; }\n",
       "    </style>\n",
       "<div class=\"wandb-row\"><div class=\"wandb-col\"><h3>Run history:</h3><br/><table class=\"wandb\"><tr><td>epoch</td><td>▁▁▁▂▂▂▂▃▃▃▃▄▄▄▄▅▅▅▅▆▆▆▆▇▇▇▇███</td></tr><tr><td>loss</td><td>█▅▄▄▃▃▂▂▂▂▂▂▁▂▂▁▁▁▁▁▂▁▁▁▁▁▁▁▁▁</td></tr></table><br/></div><div class=\"wandb-col\"><h3>Run summary:</h3><br/><table class=\"wandb\"><tr><td>epoch</td><td>29</td></tr><tr><td>loss</td><td>0.00087</td></tr></table><br/></div></div>"
      ],
      "text/plain": [
       "<IPython.core.display.HTML object>"
      ]
     },
     "metadata": {},
     "output_type": "display_data"
    },
    {
     "data": {
      "text/html": [
       "Synced <strong style=\"color:#cdcd00\">vague-sweep-1</strong>: <a href=\"https://wandb.ai/erlebacher/Copa%20Recommender/runs/vg82vtbs\" target=\"_blank\">https://wandb.ai/erlebacher/Copa%20Recommender/runs/vg82vtbs</a><br/>Synced 6 W&B file(s), 0 media file(s), 0 artifact file(s) and 0 other file(s)"
      ],
      "text/plain": [
       "<IPython.core.display.HTML object>"
      ]
     },
     "metadata": {},
     "output_type": "display_data"
    },
    {
     "data": {
      "text/html": [
       "Find logs at: <code>./wandb/run-20220727_013115-vg82vtbs/logs</code>"
      ],
      "text/plain": [
       "<IPython.core.display.HTML object>"
      ]
     },
     "metadata": {},
     "output_type": "display_data"
    },
    {
     "name": "stderr",
     "output_type": "stream",
     "text": [
      "\u001b[34m\u001b[1mwandb\u001b[0m: Agent Starting Run: gcldsztg with config:\n",
      "\u001b[34m\u001b[1mwandb\u001b[0m: \tbatch_size: 4096\n",
      "\u001b[34m\u001b[1mwandb\u001b[0m: \tdevice: cuda\n",
      "\u001b[34m\u001b[1mwandb\u001b[0m: \tembed_dim: 10\n",
      "\u001b[34m\u001b[1mwandb\u001b[0m: \tepochs: 30\n",
      "\u001b[34m\u001b[1mwandb\u001b[0m: \tlr: 0.032979206001899956\n",
      "\u001b[34m\u001b[1mwandb\u001b[0m: \toptim: adam\n",
      "\u001b[34m\u001b[1mwandb\u001b[0m: \twd: 0.001\n"
     ]
    },
    {
     "data": {
      "text/html": [
       "Tracking run with wandb version 0.12.21"
      ],
      "text/plain": [
       "<IPython.core.display.HTML object>"
      ]
     },
     "metadata": {},
     "output_type": "display_data"
    },
    {
     "data": {
      "text/html": [
       "Run data is saved locally in <code>/home/erlebach/src/2022/copa_recommenders/copa_recommender_data_rankfm/torchfm/wandb/run-20220727_013141-gcldsztg</code>"
      ],
      "text/plain": [
       "<IPython.core.display.HTML object>"
      ]
     },
     "metadata": {},
     "output_type": "display_data"
    },
    {
     "data": {
      "text/html": [
       "Syncing run <strong><a href=\"https://wandb.ai/erlebacher/Copa%20Recommender/runs/gcldsztg\" target=\"_blank\">rosy-sweep-2</a></strong> to <a href=\"https://wandb.ai/erlebacher/Copa%20Recommender\" target=\"_blank\">Weights & Biases</a> (<a href=\"https://wandb.me/run\" target=\"_blank\">docs</a>)<br/>Sweep page:  <a href=\"https://wandb.ai/erlebacher/Copa%20Recommender/sweeps/tj45rn4b\" target=\"_blank\">https://wandb.ai/erlebacher/Copa%20Recommender/sweeps/tj45rn4b</a>"
      ],
      "text/plain": [
       "<IPython.core.display.HTML object>"
      ]
     },
     "metadata": {},
     "output_type": "display_data"
    },
    {
     "name": "stdout",
     "output_type": "stream",
     "text": [
      "(804187, 9)\n",
      "Create torch.tensor on device\n",
      "FeaturesLinear, field_dims:  tensor([46321,    86,     3], device='cuda:0') tensor(46410, device='cuda:0')\n",
      "train_epoch: device:  cuda\n",
      "elapased time per epoch:  488.0847473144531\n",
      "Epoch 0, avg total_loss (per training sample):  0.001366601383384856\n",
      "train_epoch: device:  cuda\n",
      "elapased time per epoch:  431.4553527832031\n",
      "train_epoch: device:  cuda\n",
      "elapased time per epoch:  424.41241455078125\n",
      "train_epoch: device:  cuda\n",
      "elapased time per epoch:  483.8220520019531\n",
      "train_epoch: device:  cuda\n",
      "elapased time per epoch:  473.2792663574219\n",
      "train_epoch: device:  cuda\n",
      "elapased time per epoch:  421.9920349121094\n",
      "Epoch 5, avg total_loss (per training sample):  0.0009876083645560373\n",
      "train_epoch: device:  cuda\n",
      "elapased time per epoch:  479.3701171875\n",
      "train_epoch: device:  cuda\n",
      "elapased time per epoch:  425.8641052246094\n",
      "train_epoch: device:  cuda\n",
      "elapased time per epoch:  425.99359130859375\n",
      "train_epoch: device:  cuda\n",
      "elapased time per epoch:  476.85577392578125\n",
      "train_epoch: device:  cuda\n",
      "elapased time per epoch:  479.9302062988281\n",
      "Epoch 10, avg total_loss (per training sample):  0.0009056437953804909\n",
      "train_epoch: device:  cuda\n",
      "elapased time per epoch:  416.6314697265625\n",
      "train_epoch: device:  cuda\n",
      "elapased time per epoch:  488.9936218261719\n",
      "train_epoch: device:  cuda\n",
      "elapased time per epoch:  422.7747802734375\n",
      "train_epoch: device:  cuda\n",
      "elapased time per epoch:  485.53515625\n",
      "train_epoch: device:  cuda\n",
      "elapased time per epoch:  435.2708740234375\n",
      "Epoch 15, avg total_loss (per training sample):  0.0008882267880215412\n",
      "train_epoch: device:  cuda\n",
      "elapased time per epoch:  419.05255126953125\n",
      "train_epoch: device:  cuda\n",
      "elapased time per epoch:  482.66015625\n",
      "train_epoch: device:  cuda\n",
      "elapased time per epoch:  488.0460510253906\n",
      "train_epoch: device:  cuda\n",
      "elapased time per epoch:  431.7777099609375\n",
      "train_epoch: device:  cuda\n",
      "elapased time per epoch:  481.6946105957031\n",
      "Epoch 20, avg total_loss (per training sample):  0.0008560028198433695\n",
      "train_epoch: device:  cuda\n",
      "elapased time per epoch:  425.7852783203125\n",
      "train_epoch: device:  cuda\n",
      "elapased time per epoch:  419.1697082519531\n",
      "train_epoch: device:  cuda\n",
      "elapased time per epoch:  479.98504638671875\n",
      "train_epoch: device:  cuda\n",
      "elapased time per epoch:  492.0129089355469\n",
      "train_epoch: device:  cuda\n",
      "elapased time per epoch:  440.12139892578125\n",
      "Epoch 25, avg total_loss (per training sample):  0.0008585346616140987\n",
      "train_epoch: device:  cuda\n",
      "elapased time per epoch:  486.19232177734375\n",
      "train_epoch: device:  cuda\n",
      "elapased time per epoch:  432.72210693359375\n",
      "train_epoch: device:  cuda\n",
      "elapased time per epoch:  507.6568603515625\n",
      "train_epoch: device:  cuda\n",
      "elapased time per epoch:  426.6213073730469\n"
     ]
    },
    {
     "data": {
      "text/html": [
       "Waiting for W&B process to finish... <strong style=\"color:green\">(success).</strong>"
      ],
      "text/plain": [
       "<IPython.core.display.HTML object>"
      ]
     },
     "metadata": {},
     "output_type": "display_data"
    },
    {
     "data": {
      "application/vnd.jupyter.widget-view+json": {
       "model_id": "",
       "version_major": 2,
       "version_minor": 0
      },
      "text/plain": [
       "VBox(children=(Label(value='0.001 MB of 0.001 MB uploaded (0.000 MB deduped)\\r'), FloatProgress(value=1.0, max…"
      ]
     },
     "metadata": {},
     "output_type": "display_data"
    },
    {
     "data": {
      "text/html": [
       "<style>\n",
       "    table.wandb td:nth-child(1) { padding: 0 10px; text-align: left ; width: auto;} td:nth-child(2) {text-align: left ; width: 100%}\n",
       "    .wandb-row { display: flex; flex-direction: row; flex-wrap: wrap; justify-content: flex-start; width: 100% }\n",
       "    .wandb-col { display: flex; flex-direction: column; flex-basis: 100%; flex: 1; padding: 10px; }\n",
       "    </style>\n",
       "<div class=\"wandb-row\"><div class=\"wandb-col\"><h3>Run history:</h3><br/><table class=\"wandb\"><tr><td>epoch</td><td>▁▁▁▂▂▂▂▃▃▃▃▄▄▄▄▅▅▅▅▆▆▆▆▇▇▇▇███</td></tr><tr><td>loss</td><td>█▅▄▃▃▃▂▂▂▂▂▂▁▁▁▁▁▁▁▂▁▁▁▁▁▁▁▁▁▁</td></tr></table><br/></div><div class=\"wandb-col\"><h3>Run summary:</h3><br/><table class=\"wandb\"><tr><td>epoch</td><td>29</td></tr><tr><td>loss</td><td>0.00085</td></tr></table><br/></div></div>"
      ],
      "text/plain": [
       "<IPython.core.display.HTML object>"
      ]
     },
     "metadata": {},
     "output_type": "display_data"
    },
    {
     "data": {
      "text/html": [
       "Synced <strong style=\"color:#cdcd00\">rosy-sweep-2</strong>: <a href=\"https://wandb.ai/erlebacher/Copa%20Recommender/runs/gcldsztg\" target=\"_blank\">https://wandb.ai/erlebacher/Copa%20Recommender/runs/gcldsztg</a><br/>Synced 6 W&B file(s), 0 media file(s), 0 artifact file(s) and 0 other file(s)"
      ],
      "text/plain": [
       "<IPython.core.display.HTML object>"
      ]
     },
     "metadata": {},
     "output_type": "display_data"
    },
    {
     "data": {
      "text/html": [
       "Find logs at: <code>./wandb/run-20220727_013141-gcldsztg/logs</code>"
      ],
      "text/plain": [
       "<IPython.core.display.HTML object>"
      ]
     },
     "metadata": {},
     "output_type": "display_data"
    },
    {
     "name": "stderr",
     "output_type": "stream",
     "text": [
      "\u001b[34m\u001b[1mwandb\u001b[0m: Sweep Agent: Waiting for job.\n",
      "\u001b[34m\u001b[1mwandb\u001b[0m: Job received.\n",
      "\u001b[34m\u001b[1mwandb\u001b[0m: Agent Starting Run: eg997veq with config:\n",
      "\u001b[34m\u001b[1mwandb\u001b[0m: \tbatch_size: 512\n",
      "\u001b[34m\u001b[1mwandb\u001b[0m: \tdevice: cuda\n",
      "\u001b[34m\u001b[1mwandb\u001b[0m: \tembed_dim: 30\n",
      "\u001b[34m\u001b[1mwandb\u001b[0m: \tepochs: 30\n",
      "\u001b[34m\u001b[1mwandb\u001b[0m: \tlr: 0.02039591184533779\n",
      "\u001b[34m\u001b[1mwandb\u001b[0m: \toptim: adam\n",
      "\u001b[34m\u001b[1mwandb\u001b[0m: \twd: 1e-05\n"
     ]
    },
    {
     "data": {
      "text/html": [
       "Tracking run with wandb version 0.12.21"
      ],
      "text/plain": [
       "<IPython.core.display.HTML object>"
      ]
     },
     "metadata": {},
     "output_type": "display_data"
    },
    {
     "data": {
      "text/html": [
       "Run data is saved locally in <code>/home/erlebach/src/2022/copa_recommenders/copa_recommender_data_rankfm/torchfm/wandb/run-20220727_013213-eg997veq</code>"
      ],
      "text/plain": [
       "<IPython.core.display.HTML object>"
      ]
     },
     "metadata": {},
     "output_type": "display_data"
    },
    {
     "data": {
      "text/html": [
       "Syncing run <strong><a href=\"https://wandb.ai/erlebacher/Copa%20Recommender/runs/eg997veq\" target=\"_blank\">legendary-sweep-3</a></strong> to <a href=\"https://wandb.ai/erlebacher/Copa%20Recommender\" target=\"_blank\">Weights & Biases</a> (<a href=\"https://wandb.me/run\" target=\"_blank\">docs</a>)<br/>Sweep page:  <a href=\"https://wandb.ai/erlebacher/Copa%20Recommender/sweeps/tj45rn4b\" target=\"_blank\">https://wandb.ai/erlebacher/Copa%20Recommender/sweeps/tj45rn4b</a>"
      ],
      "text/plain": [
       "<IPython.core.display.HTML object>"
      ]
     },
     "metadata": {},
     "output_type": "display_data"
    },
    {
     "name": "stdout",
     "output_type": "stream",
     "text": [
      "(804187, 9)\n",
      "Create torch.tensor on device\n",
      "FeaturesLinear, field_dims:  tensor([46321,    86,     3], device='cuda:0') tensor(46410, device='cuda:0')\n",
      "train_epoch: device:  cuda\n",
      "elapased time per epoch:  445.2428894042969\n",
      "Epoch 0, avg total_loss (per training sample):  0.0013207065033407385\n",
      "train_epoch: device:  cuda\n",
      "elapased time per epoch:  488.94915771484375\n",
      "train_epoch: device:  cuda\n",
      "elapased time per epoch:  446.30474853515625\n",
      "train_epoch: device:  cuda\n",
      "elapased time per epoch:  494.0961608886719\n",
      "train_epoch: device:  cuda\n",
      "elapased time per epoch:  433.78497314453125\n",
      "train_epoch: device:  cuda\n",
      "elapased time per epoch:  487.8219909667969\n",
      "Epoch 5, avg total_loss (per training sample):  0.0009757957691202368\n",
      "train_epoch: device:  cuda\n",
      "elapased time per epoch:  430.517822265625\n",
      "train_epoch: device:  cuda\n",
      "elapased time per epoch:  488.3654479980469\n",
      "train_epoch: device:  cuda\n",
      "elapased time per epoch:  434.2811279296875\n",
      "train_epoch: device:  cuda\n",
      "elapased time per epoch:  489.50396728515625\n",
      "train_epoch: device:  cuda\n",
      "elapased time per epoch:  430.859130859375\n",
      "Epoch 10, avg total_loss (per training sample):  0.0009202933075112944\n",
      "train_epoch: device:  cuda\n",
      "elapased time per epoch:  487.7535705566406\n",
      "train_epoch: device:  cuda\n",
      "elapased time per epoch:  429.197265625\n",
      "train_epoch: device:  cuda\n",
      "elapased time per epoch:  494.4029846191406\n",
      "train_epoch: device:  cuda\n",
      "elapased time per epoch:  441.8265380859375\n",
      "train_epoch: device:  cuda\n",
      "elapased time per epoch:  514.4144287109375\n",
      "Epoch 15, avg total_loss (per training sample):  0.0008752575000100224\n",
      "train_epoch: device:  cuda\n",
      "elapased time per epoch:  439.4656982421875\n",
      "train_epoch: device:  cuda\n",
      "elapased time per epoch:  493.01953125\n",
      "train_epoch: device:  cuda\n",
      "elapased time per epoch:  423.26837158203125\n",
      "train_epoch: device:  cuda\n",
      "elapased time per epoch:  487.03961181640625\n",
      "train_epoch: device:  cuda\n",
      "elapased time per epoch:  428.33782958984375\n",
      "Epoch 20, avg total_loss (per training sample):  0.0008522096208929576\n",
      "train_epoch: device:  cuda\n",
      "elapased time per epoch:  495.7563781738281\n",
      "train_epoch: device:  cuda\n",
      "elapased time per epoch:  428.6670227050781\n",
      "train_epoch: device:  cuda\n",
      "elapased time per epoch:  494.0679931640625\n",
      "train_epoch: device:  cuda\n",
      "elapased time per epoch:  436.7139587402344\n",
      "train_epoch: device:  cuda\n",
      "elapased time per epoch:  430.7477722167969\n",
      "Epoch 25, avg total_loss (per training sample):  0.000849720411465702\n",
      "train_epoch: device:  cuda\n",
      "elapased time per epoch:  488.6990661621094\n",
      "train_epoch: device:  cuda\n",
      "elapased time per epoch:  481.47796630859375\n",
      "train_epoch: device:  cuda\n",
      "elapased time per epoch:  431.48284912109375\n",
      "train_epoch: device:  cuda\n",
      "elapased time per epoch:  495.9129333496094\n"
     ]
    },
    {
     "data": {
      "text/html": [
       "Waiting for W&B process to finish... <strong style=\"color:green\">(success).</strong>"
      ],
      "text/plain": [
       "<IPython.core.display.HTML object>"
      ]
     },
     "metadata": {},
     "output_type": "display_data"
    },
    {
     "data": {
      "application/vnd.jupyter.widget-view+json": {
       "model_id": "",
       "version_major": 2,
       "version_minor": 0
      },
      "text/plain": [
       "VBox(children=(Label(value='0.001 MB of 0.001 MB uploaded (0.000 MB deduped)\\r'), FloatProgress(value=1.0, max…"
      ]
     },
     "metadata": {},
     "output_type": "display_data"
    },
    {
     "data": {
      "text/html": [
       "<style>\n",
       "    table.wandb td:nth-child(1) { padding: 0 10px; text-align: left ; width: auto;} td:nth-child(2) {text-align: left ; width: 100%}\n",
       "    .wandb-row { display: flex; flex-direction: row; flex-wrap: wrap; justify-content: flex-start; width: 100% }\n",
       "    .wandb-col { display: flex; flex-direction: column; flex-basis: 100%; flex: 1; padding: 10px; }\n",
       "    </style>\n",
       "<div class=\"wandb-row\"><div class=\"wandb-col\"><h3>Run history:</h3><br/><table class=\"wandb\"><tr><td>epoch</td><td>▁▁▁▂▂▂▂▃▃▃▃▄▄▄▄▅▅▅▅▆▆▆▆▇▇▇▇███</td></tr><tr><td>loss</td><td>█▅▄▄▃▃▃▂▂▂▂▂▂▂▁▂▁▁▁▁▁▁▁▁▁▁▁▁▁▁</td></tr></table><br/></div><div class=\"wandb-col\"><h3>Run summary:</h3><br/><table class=\"wandb\"><tr><td>epoch</td><td>29</td></tr><tr><td>loss</td><td>0.00084</td></tr></table><br/></div></div>"
      ],
      "text/plain": [
       "<IPython.core.display.HTML object>"
      ]
     },
     "metadata": {},
     "output_type": "display_data"
    },
    {
     "data": {
      "text/html": [
       "Synced <strong style=\"color:#cdcd00\">legendary-sweep-3</strong>: <a href=\"https://wandb.ai/erlebacher/Copa%20Recommender/runs/eg997veq\" target=\"_blank\">https://wandb.ai/erlebacher/Copa%20Recommender/runs/eg997veq</a><br/>Synced 6 W&B file(s), 0 media file(s), 0 artifact file(s) and 0 other file(s)"
      ],
      "text/plain": [
       "<IPython.core.display.HTML object>"
      ]
     },
     "metadata": {},
     "output_type": "display_data"
    },
    {
     "data": {
      "text/html": [
       "Find logs at: <code>./wandb/run-20220727_013213-eg997veq/logs</code>"
      ],
      "text/plain": [
       "<IPython.core.display.HTML object>"
      ]
     },
     "metadata": {},
     "output_type": "display_data"
    },
    {
     "name": "stderr",
     "output_type": "stream",
     "text": [
      "\u001b[34m\u001b[1mwandb\u001b[0m: Sweep Agent: Waiting for job.\n",
      "\u001b[34m\u001b[1mwandb\u001b[0m: Job received.\n",
      "\u001b[34m\u001b[1mwandb\u001b[0m: Agent Starting Run: 1eqj11jx with config:\n",
      "\u001b[34m\u001b[1mwandb\u001b[0m: \tbatch_size: 128\n",
      "\u001b[34m\u001b[1mwandb\u001b[0m: \tdevice: cuda\n",
      "\u001b[34m\u001b[1mwandb\u001b[0m: \tembed_dim: 10\n",
      "\u001b[34m\u001b[1mwandb\u001b[0m: \tepochs: 30\n",
      "\u001b[34m\u001b[1mwandb\u001b[0m: \tlr: 0.04523394454224855\n",
      "\u001b[34m\u001b[1mwandb\u001b[0m: \toptim: adam\n",
      "\u001b[34m\u001b[1mwandb\u001b[0m: \twd: 0.001\n"
     ]
    },
    {
     "data": {
      "text/html": [
       "Tracking run with wandb version 0.12.21"
      ],
      "text/plain": [
       "<IPython.core.display.HTML object>"
      ]
     },
     "metadata": {},
     "output_type": "display_data"
    },
    {
     "data": {
      "text/html": [
       "Run data is saved locally in <code>/home/erlebach/src/2022/copa_recommenders/copa_recommender_data_rankfm/torchfm/wandb/run-20220727_013244-1eqj11jx</code>"
      ],
      "text/plain": [
       "<IPython.core.display.HTML object>"
      ]
     },
     "metadata": {},
     "output_type": "display_data"
    },
    {
     "data": {
      "text/html": [
       "Syncing run <strong><a href=\"https://wandb.ai/erlebacher/Copa%20Recommender/runs/1eqj11jx\" target=\"_blank\">dashing-sweep-4</a></strong> to <a href=\"https://wandb.ai/erlebacher/Copa%20Recommender\" target=\"_blank\">Weights & Biases</a> (<a href=\"https://wandb.me/run\" target=\"_blank\">docs</a>)<br/>Sweep page:  <a href=\"https://wandb.ai/erlebacher/Copa%20Recommender/sweeps/tj45rn4b\" target=\"_blank\">https://wandb.ai/erlebacher/Copa%20Recommender/sweeps/tj45rn4b</a>"
      ],
      "text/plain": [
       "<IPython.core.display.HTML object>"
      ]
     },
     "metadata": {},
     "output_type": "display_data"
    },
    {
     "name": "stdout",
     "output_type": "stream",
     "text": [
      "(804187, 9)\n",
      "Create torch.tensor on device\n",
      "FeaturesLinear, field_dims:  tensor([46321,    86,     3], device='cuda:0') tensor(46410, device='cuda:0')\n",
      "train_epoch: device:  cuda\n",
      "elapased time per epoch:  497.29046630859375\n",
      "Epoch 0, avg total_loss (per training sample):  0.0012828624474067844\n",
      "train_epoch: device:  cuda\n",
      "elapased time per epoch:  429.76177978515625\n",
      "train_epoch: device:  cuda\n",
      "elapased time per epoch:  498.2505187988281\n",
      "train_epoch: device:  cuda\n",
      "elapased time per epoch:  443.3150939941406\n",
      "train_epoch: device:  cuda\n",
      "elapased time per epoch:  493.5647888183594\n",
      "train_epoch: device:  cuda\n",
      "elapased time per epoch:  437.46893310546875\n",
      "Epoch 5, avg total_loss (per training sample):  0.0009725068778254723\n",
      "train_epoch: device:  cuda\n",
      "elapased time per epoch:  488.0267333984375\n",
      "train_epoch: device:  cuda\n",
      "elapased time per epoch:  440.3253173828125\n",
      "train_epoch: device:  cuda\n",
      "elapased time per epoch:  496.165283203125\n",
      "train_epoch: device:  cuda\n",
      "elapased time per epoch:  440.3710632324219\n",
      "train_epoch: device:  cuda\n",
      "elapased time per epoch:  490.8499755859375\n",
      "Epoch 10, avg total_loss (per training sample):  0.0009057875456301602\n",
      "train_epoch: device:  cuda\n",
      "elapased time per epoch:  443.768798828125\n",
      "train_epoch: device:  cuda\n",
      "elapased time per epoch:  498.9103088378906\n",
      "train_epoch: device:  cuda\n",
      "elapased time per epoch:  438.2222595214844\n",
      "train_epoch: device:  cuda\n",
      "elapased time per epoch:  518.27392578125\n",
      "train_epoch: device:  cuda\n",
      "elapased time per epoch:  450.8735046386719\n",
      "Epoch 15, avg total_loss (per training sample):  0.0008775139807572475\n",
      "train_epoch: device:  cuda\n",
      "elapased time per epoch:  490.0348815917969\n",
      "train_epoch: device:  cuda\n",
      "elapased time per epoch:  433.0910339355469\n",
      "train_epoch: device:  cuda\n",
      "elapased time per epoch:  496.48095703125\n",
      "train_epoch: device:  cuda\n",
      "elapased time per epoch:  447.6250305175781\n",
      "train_epoch: device:  cuda\n",
      "elapased time per epoch:  508.82000732421875\n",
      "Epoch 20, avg total_loss (per training sample):  0.0008843120390866075\n",
      "train_epoch: device:  cuda\n",
      "elapased time per epoch:  454.8433837890625\n",
      "train_epoch: device:  cuda\n",
      "elapased time per epoch:  501.3431701660156\n",
      "train_epoch: device:  cuda\n",
      "elapased time per epoch:  425.55975341796875\n",
      "train_epoch: device:  cuda\n",
      "elapased time per epoch:  492.1929626464844\n",
      "train_epoch: device:  cuda\n",
      "elapased time per epoch:  429.91943359375\n",
      "Epoch 25, avg total_loss (per training sample):  0.0008802266563425828\n",
      "train_epoch: device:  cuda\n",
      "elapased time per epoch:  492.3044128417969\n",
      "train_epoch: device:  cuda\n",
      "elapased time per epoch:  427.69000244140625\n",
      "train_epoch: device:  cuda\n",
      "elapased time per epoch:  489.6430969238281\n",
      "train_epoch: device:  cuda\n",
      "elapased time per epoch:  431.0020446777344\n"
     ]
    },
    {
     "data": {
      "text/html": [
       "Waiting for W&B process to finish... <strong style=\"color:green\">(success).</strong>"
      ],
      "text/plain": [
       "<IPython.core.display.HTML object>"
      ]
     },
     "metadata": {},
     "output_type": "display_data"
    },
    {
     "data": {
      "application/vnd.jupyter.widget-view+json": {
       "model_id": "",
       "version_major": 2,
       "version_minor": 0
      },
      "text/plain": [
       "VBox(children=(Label(value='0.001 MB of 0.001 MB uploaded (0.000 MB deduped)\\r'), FloatProgress(value=1.0, max…"
      ]
     },
     "metadata": {},
     "output_type": "display_data"
    },
    {
     "data": {
      "text/html": [
       "<style>\n",
       "    table.wandb td:nth-child(1) { padding: 0 10px; text-align: left ; width: auto;} td:nth-child(2) {text-align: left ; width: 100%}\n",
       "    .wandb-row { display: flex; flex-direction: row; flex-wrap: wrap; justify-content: flex-start; width: 100% }\n",
       "    .wandb-col { display: flex; flex-direction: column; flex-basis: 100%; flex: 1; padding: 10px; }\n",
       "    </style>\n",
       "<div class=\"wandb-row\"><div class=\"wandb-col\"><h3>Run history:</h3><br/><table class=\"wandb\"><tr><td>epoch</td><td>▁▁▁▂▂▂▂▃▃▃▃▄▄▄▄▅▅▅▅▆▆▆▆▇▇▇▇███</td></tr><tr><td>loss</td><td>█▅▄▄▃▃▂▂▂▂▂▂▂▁▂▁▁▁▁▁▁▁▁▁▁▁▁▁▁▁</td></tr></table><br/></div><div class=\"wandb-col\"><h3>Run summary:</h3><br/><table class=\"wandb\"><tr><td>epoch</td><td>29</td></tr><tr><td>loss</td><td>0.00087</td></tr></table><br/></div></div>"
      ],
      "text/plain": [
       "<IPython.core.display.HTML object>"
      ]
     },
     "metadata": {},
     "output_type": "display_data"
    },
    {
     "data": {
      "text/html": [
       "Synced <strong style=\"color:#cdcd00\">dashing-sweep-4</strong>: <a href=\"https://wandb.ai/erlebacher/Copa%20Recommender/runs/1eqj11jx\" target=\"_blank\">https://wandb.ai/erlebacher/Copa%20Recommender/runs/1eqj11jx</a><br/>Synced 6 W&B file(s), 0 media file(s), 0 artifact file(s) and 0 other file(s)"
      ],
      "text/plain": [
       "<IPython.core.display.HTML object>"
      ]
     },
     "metadata": {},
     "output_type": "display_data"
    },
    {
     "data": {
      "text/html": [
       "Find logs at: <code>./wandb/run-20220727_013244-1eqj11jx/logs</code>"
      ],
      "text/plain": [
       "<IPython.core.display.HTML object>"
      ]
     },
     "metadata": {},
     "output_type": "display_data"
    },
    {
     "name": "stderr",
     "output_type": "stream",
     "text": [
      "\u001b[34m\u001b[1mwandb\u001b[0m: Agent Starting Run: slznia8w with config:\n",
      "\u001b[34m\u001b[1mwandb\u001b[0m: \tbatch_size: 512\n",
      "\u001b[34m\u001b[1mwandb\u001b[0m: \tdevice: cuda\n",
      "\u001b[34m\u001b[1mwandb\u001b[0m: \tembed_dim: 20\n",
      "\u001b[34m\u001b[1mwandb\u001b[0m: \tepochs: 30\n",
      "\u001b[34m\u001b[1mwandb\u001b[0m: \tlr: 0.028349235393016484\n",
      "\u001b[34m\u001b[1mwandb\u001b[0m: \toptim: adam\n",
      "\u001b[34m\u001b[1mwandb\u001b[0m: \twd: 0.001\n"
     ]
    },
    {
     "data": {
      "text/html": [
       "Tracking run with wandb version 0.12.21"
      ],
      "text/plain": [
       "<IPython.core.display.HTML object>"
      ]
     },
     "metadata": {},
     "output_type": "display_data"
    },
    {
     "data": {
      "text/html": [
       "Run data is saved locally in <code>/home/erlebach/src/2022/copa_recommenders/copa_recommender_data_rankfm/torchfm/wandb/run-20220727_013311-slznia8w</code>"
      ],
      "text/plain": [
       "<IPython.core.display.HTML object>"
      ]
     },
     "metadata": {},
     "output_type": "display_data"
    },
    {
     "data": {
      "text/html": [
       "Syncing run <strong><a href=\"https://wandb.ai/erlebacher/Copa%20Recommender/runs/slznia8w\" target=\"_blank\">sweet-sweep-5</a></strong> to <a href=\"https://wandb.ai/erlebacher/Copa%20Recommender\" target=\"_blank\">Weights & Biases</a> (<a href=\"https://wandb.me/run\" target=\"_blank\">docs</a>)<br/>Sweep page:  <a href=\"https://wandb.ai/erlebacher/Copa%20Recommender/sweeps/tj45rn4b\" target=\"_blank\">https://wandb.ai/erlebacher/Copa%20Recommender/sweeps/tj45rn4b</a>"
      ],
      "text/plain": [
       "<IPython.core.display.HTML object>"
      ]
     },
     "metadata": {},
     "output_type": "display_data"
    },
    {
     "name": "stdout",
     "output_type": "stream",
     "text": [
      "(804187, 9)\n",
      "Create torch.tensor on device\n",
      "FeaturesLinear, field_dims:  tensor([46321,    86,     3], device='cuda:0') tensor(46410, device='cuda:0')\n",
      "train_epoch: device:  cuda\n",
      "elapased time per epoch:  503.3672180175781\n",
      "Epoch 0, avg total_loss (per training sample):  0.0012876497744404025\n",
      "train_epoch: device:  cuda\n",
      "elapased time per epoch:  445.4310607910156\n",
      "train_epoch: device:  cuda\n",
      "elapased time per epoch:  449.4047546386719\n",
      "train_epoch: device:  cuda\n",
      "elapased time per epoch:  509.2944641113281\n",
      "train_epoch: device:  cuda\n",
      "elapased time per epoch:  444.0576171875\n",
      "train_epoch: device:  cuda\n",
      "elapased time per epoch:  513.5250244140625\n",
      "Epoch 5, avg total_loss (per training sample):  0.0009685923450614026\n",
      "train_epoch: device:  cuda\n",
      "elapased time per epoch:  437.85797119140625\n",
      "train_epoch: device:  cuda\n",
      "elapased time per epoch:  506.85552978515625\n",
      "train_epoch: device:  cuda\n",
      "elapased time per epoch:  442.246826171875\n",
      "train_epoch: device:  cuda\n",
      "elapased time per epoch:  516.212158203125\n",
      "train_epoch: device:  cuda\n",
      "elapased time per epoch:  446.2117614746094\n",
      "Epoch 10, avg total_loss (per training sample):  0.0008999058191057075\n",
      "train_epoch: device:  cuda\n",
      "elapased time per epoch:  506.9867858886719\n",
      "train_epoch: device:  cuda\n",
      "elapased time per epoch:  461.63421630859375\n",
      "train_epoch: device:  cuda\n",
      "elapased time per epoch:  468.5423583984375\n",
      "train_epoch: device:  cuda\n",
      "elapased time per epoch:  513.151123046875\n",
      "train_epoch: device:  cuda\n",
      "elapased time per epoch:  463.7164306640625\n",
      "Epoch 15, avg total_loss (per training sample):  0.0008797916964138301\n",
      "train_epoch: device:  cuda\n",
      "elapased time per epoch:  532.5292358398438\n",
      "train_epoch: device:  cuda\n",
      "elapased time per epoch:  439.4729309082031\n",
      "train_epoch: device:  cuda\n",
      "elapased time per epoch:  509.97430419921875\n",
      "train_epoch: device:  cuda\n",
      "elapased time per epoch:  444.8301696777344\n",
      "train_epoch: device:  cuda\n",
      "elapased time per epoch:  503.3866271972656\n",
      "Epoch 20, avg total_loss (per training sample):  0.0008443445547598864\n",
      "train_epoch: device:  cuda\n",
      "elapased time per epoch:  444.8289489746094\n",
      "train_epoch: device:  cuda\n",
      "elapased time per epoch:  445.01422119140625\n",
      "train_epoch: device:  cuda\n",
      "elapased time per epoch:  510.2700500488281\n",
      "train_epoch: device:  cuda\n",
      "elapased time per epoch:  445.23309326171875\n",
      "train_epoch: device:  cuda\n",
      "elapased time per epoch:  505.36602783203125\n",
      "Epoch 25, avg total_loss (per training sample):  0.0008459167131096688\n",
      "train_epoch: device:  cuda\n",
      "elapased time per epoch:  442.0640563964844\n",
      "train_epoch: device:  cuda\n",
      "elapased time per epoch:  503.0814208984375\n",
      "train_epoch: device:  cuda\n",
      "elapased time per epoch:  443.0511169433594\n",
      "train_epoch: device:  cuda\n",
      "elapased time per epoch:  500.8848876953125\n"
     ]
    },
    {
     "data": {
      "text/html": [
       "Waiting for W&B process to finish... <strong style=\"color:green\">(success).</strong>"
      ],
      "text/plain": [
       "<IPython.core.display.HTML object>"
      ]
     },
     "metadata": {},
     "output_type": "display_data"
    },
    {
     "data": {
      "application/vnd.jupyter.widget-view+json": {
       "model_id": "",
       "version_major": 2,
       "version_minor": 0
      },
      "text/plain": [
       "VBox(children=(Label(value='0.001 MB of 0.001 MB uploaded (0.000 MB deduped)\\r'), FloatProgress(value=1.0, max…"
      ]
     },
     "metadata": {},
     "output_type": "display_data"
    },
    {
     "data": {
      "text/html": [
       "<style>\n",
       "    table.wandb td:nth-child(1) { padding: 0 10px; text-align: left ; width: auto;} td:nth-child(2) {text-align: left ; width: 100%}\n",
       "    .wandb-row { display: flex; flex-direction: row; flex-wrap: wrap; justify-content: flex-start; width: 100% }\n",
       "    .wandb-col { display: flex; flex-direction: column; flex-basis: 100%; flex: 1; padding: 10px; }\n",
       "    </style>\n",
       "<div class=\"wandb-row\"><div class=\"wandb-col\"><h3>Run history:</h3><br/><table class=\"wandb\"><tr><td>epoch</td><td>▁▁▁▂▂▂▂▃▃▃▃▄▄▄▄▅▅▅▅▆▆▆▆▇▇▇▇███</td></tr><tr><td>loss</td><td>█▅▅▄▄▃▃▃▂▂▂▂▂▂▁▂▁▁▁▁▁▁▁▁▁▁▁▁▁▁</td></tr></table><br/></div><div class=\"wandb-col\"><h3>Run summary:</h3><br/><table class=\"wandb\"><tr><td>epoch</td><td>29</td></tr><tr><td>loss</td><td>0.00086</td></tr></table><br/></div></div>"
      ],
      "text/plain": [
       "<IPython.core.display.HTML object>"
      ]
     },
     "metadata": {},
     "output_type": "display_data"
    },
    {
     "data": {
      "text/html": [
       "Synced <strong style=\"color:#cdcd00\">sweet-sweep-5</strong>: <a href=\"https://wandb.ai/erlebacher/Copa%20Recommender/runs/slznia8w\" target=\"_blank\">https://wandb.ai/erlebacher/Copa%20Recommender/runs/slznia8w</a><br/>Synced 6 W&B file(s), 0 media file(s), 0 artifact file(s) and 0 other file(s)"
      ],
      "text/plain": [
       "<IPython.core.display.HTML object>"
      ]
     },
     "metadata": {},
     "output_type": "display_data"
    },
    {
     "data": {
      "text/html": [
       "Find logs at: <code>./wandb/run-20220727_013311-slznia8w/logs</code>"
      ],
      "text/plain": [
       "<IPython.core.display.HTML object>"
      ]
     },
     "metadata": {},
     "output_type": "display_data"
    },
    {
     "name": "stderr",
     "output_type": "stream",
     "text": [
      "\u001b[34m\u001b[1mwandb\u001b[0m: Sweep Agent: Waiting for job.\n",
      "\u001b[34m\u001b[1mwandb\u001b[0m: Job received.\n",
      "\u001b[34m\u001b[1mwandb\u001b[0m: Agent Starting Run: 7l4xycx7 with config:\n",
      "\u001b[34m\u001b[1mwandb\u001b[0m: \tbatch_size: 4096\n",
      "\u001b[34m\u001b[1mwandb\u001b[0m: \tdevice: cuda\n",
      "\u001b[34m\u001b[1mwandb\u001b[0m: \tembed_dim: 20\n",
      "\u001b[34m\u001b[1mwandb\u001b[0m: \tepochs: 30\n",
      "\u001b[34m\u001b[1mwandb\u001b[0m: \tlr: 0.015235320905138692\n",
      "\u001b[34m\u001b[1mwandb\u001b[0m: \toptim: adamW\n",
      "\u001b[34m\u001b[1mwandb\u001b[0m: \twd: 1e-05\n"
     ]
    },
    {
     "data": {
      "text/html": [
       "Tracking run with wandb version 0.12.21"
      ],
      "text/plain": [
       "<IPython.core.display.HTML object>"
      ]
     },
     "metadata": {},
     "output_type": "display_data"
    },
    {
     "data": {
      "text/html": [
       "Run data is saved locally in <code>/home/erlebach/src/2022/copa_recommenders/copa_recommender_data_rankfm/torchfm/wandb/run-20220727_013343-7l4xycx7</code>"
      ],
      "text/plain": [
       "<IPython.core.display.HTML object>"
      ]
     },
     "metadata": {},
     "output_type": "display_data"
    },
    {
     "data": {
      "text/html": [
       "Syncing run <strong><a href=\"https://wandb.ai/erlebacher/Copa%20Recommender/runs/7l4xycx7\" target=\"_blank\">crimson-sweep-6</a></strong> to <a href=\"https://wandb.ai/erlebacher/Copa%20Recommender\" target=\"_blank\">Weights & Biases</a> (<a href=\"https://wandb.me/run\" target=\"_blank\">docs</a>)<br/>Sweep page:  <a href=\"https://wandb.ai/erlebacher/Copa%20Recommender/sweeps/tj45rn4b\" target=\"_blank\">https://wandb.ai/erlebacher/Copa%20Recommender/sweeps/tj45rn4b</a>"
      ],
      "text/plain": [
       "<IPython.core.display.HTML object>"
      ]
     },
     "metadata": {},
     "output_type": "display_data"
    },
    {
     "name": "stdout",
     "output_type": "stream",
     "text": [
      "(804187, 9)\n",
      "Create torch.tensor on device\n",
      "FeaturesLinear, field_dims:  tensor([46321,    86,     3], device='cuda:0') tensor(46410, device='cuda:0')\n",
      "train_epoch: device:  cuda\n",
      "elapased time per epoch:  513.21435546875\n",
      "Epoch 0, avg total_loss (per training sample):  0.0014341708888847668\n",
      "train_epoch: device:  cuda\n",
      "elapased time per epoch:  458.7340087890625\n",
      "train_epoch: device:  cuda\n",
      "elapased time per epoch:  512.0413818359375\n",
      "train_epoch: device:  cuda\n",
      "elapased time per epoch:  453.7820739746094\n",
      "train_epoch: device:  cuda\n",
      "elapased time per epoch:  515.83544921875\n",
      "train_epoch: device:  cuda\n",
      "elapased time per epoch:  448.7689208984375\n",
      "Epoch 5, avg total_loss (per training sample):  0.0010442811674125053\n",
      "train_epoch: device:  cuda\n",
      "elapased time per epoch:  507.1667785644531\n",
      "train_epoch: device:  cuda\n",
      "elapased time per epoch:  446.1370544433594\n",
      "train_epoch: device:  cuda\n",
      "elapased time per epoch:  508.4474182128906\n",
      "train_epoch: device:  cuda\n",
      "elapased time per epoch:  446.5749816894531\n",
      "train_epoch: device:  cuda\n",
      "elapased time per epoch:  506.4513854980469\n",
      "Epoch 10, avg total_loss (per training sample):  0.0009143225075579936\n",
      "train_epoch: device:  cuda\n",
      "elapased time per epoch:  453.2586975097656\n",
      "train_epoch: device:  cuda\n",
      "elapased time per epoch:  513.9521484375\n",
      "train_epoch: device:  cuda\n",
      "elapased time per epoch:  441.6338806152344\n",
      "train_epoch: device:  cuda\n",
      "elapased time per epoch:  524.29150390625\n",
      "train_epoch: device:  cuda\n",
      "elapased time per epoch:  447.4840087890625\n",
      "Epoch 15, avg total_loss (per training sample):  0.0009032918771345314\n",
      "train_epoch: device:  cuda\n",
      "elapased time per epoch:  514.99267578125\n",
      "train_epoch: device:  cuda\n",
      "elapased time per epoch:  454.9523620605469\n",
      "train_epoch: device:  cuda\n",
      "elapased time per epoch:  512.4674682617188\n",
      "train_epoch: device:  cuda\n",
      "elapased time per epoch:  456.87158203125\n",
      "train_epoch: device:  cuda\n",
      "elapased time per epoch:  459.4546813964844\n",
      "Epoch 20, avg total_loss (per training sample):  0.0008706669973738419\n",
      "train_epoch: device:  cuda\n",
      "elapased time per epoch:  521.3065795898438\n",
      "train_epoch: device:  cuda\n",
      "elapased time per epoch:  484.15545654296875\n",
      "train_epoch: device:  cuda\n",
      "elapased time per epoch:  539.789306640625\n",
      "train_epoch: device:  cuda\n",
      "elapased time per epoch:  442.0573425292969\n",
      "train_epoch: device:  cuda\n",
      "elapased time per epoch:  505.8569030761719\n",
      "Epoch 25, avg total_loss (per training sample):  0.000872192007553892\n",
      "train_epoch: device:  cuda\n",
      "elapased time per epoch:  441.662109375\n",
      "train_epoch: device:  cuda\n",
      "elapased time per epoch:  508.4989318847656\n",
      "train_epoch: device:  cuda\n",
      "elapased time per epoch:  452.8422546386719\n",
      "train_epoch: device:  cuda\n",
      "elapased time per epoch:  437.05316162109375\n"
     ]
    },
    {
     "data": {
      "text/html": [
       "Waiting for W&B process to finish... <strong style=\"color:green\">(success).</strong>"
      ],
      "text/plain": [
       "<IPython.core.display.HTML object>"
      ]
     },
     "metadata": {},
     "output_type": "display_data"
    },
    {
     "data": {
      "application/vnd.jupyter.widget-view+json": {
       "model_id": "faa4a309845048fd897c67f9d23bc0ac",
       "version_major": 2,
       "version_minor": 0
      },
      "text/plain": [
       "VBox(children=(Label(value='0.001 MB of 0.001 MB uploaded (0.000 MB deduped)\\r'), FloatProgress(value=1.0, max…"
      ]
     },
     "metadata": {},
     "output_type": "display_data"
    },
    {
     "data": {
      "text/html": [
       "<style>\n",
       "    table.wandb td:nth-child(1) { padding: 0 10px; text-align: left ; width: auto;} td:nth-child(2) {text-align: left ; width: 100%}\n",
       "    .wandb-row { display: flex; flex-direction: row; flex-wrap: wrap; justify-content: flex-start; width: 100% }\n",
       "    .wandb-col { display: flex; flex-direction: column; flex-basis: 100%; flex: 1; padding: 10px; }\n",
       "    </style>\n",
       "<div class=\"wandb-row\"><div class=\"wandb-col\"><h3>Run history:</h3><br/><table class=\"wandb\"><tr><td>epoch</td><td>▁▁▁▂▂▂▂▃▃▃▃▄▄▄▄▅▅▅▅▆▆▆▆▇▇▇▇███</td></tr><tr><td>loss</td><td>█▆▄▄▃▃▃▂▃▂▂▂▂▂▁▂▁▁▁▁▁▁▁▁▁▁▁▁▁▁</td></tr></table><br/></div><div class=\"wandb-col\"><h3>Run summary:</h3><br/><table class=\"wandb\"><tr><td>epoch</td><td>29</td></tr><tr><td>loss</td><td>0.00086</td></tr></table><br/></div></div>"
      ],
      "text/plain": [
       "<IPython.core.display.HTML object>"
      ]
     },
     "metadata": {},
     "output_type": "display_data"
    },
    {
     "data": {
      "text/html": [
       "Synced <strong style=\"color:#cdcd00\">crimson-sweep-6</strong>: <a href=\"https://wandb.ai/erlebacher/Copa%20Recommender/runs/7l4xycx7\" target=\"_blank\">https://wandb.ai/erlebacher/Copa%20Recommender/runs/7l4xycx7</a><br/>Synced 6 W&B file(s), 0 media file(s), 0 artifact file(s) and 0 other file(s)"
      ],
      "text/plain": [
       "<IPython.core.display.HTML object>"
      ]
     },
     "metadata": {},
     "output_type": "display_data"
    },
    {
     "data": {
      "text/html": [
       "Find logs at: <code>./wandb/run-20220727_013343-7l4xycx7/logs</code>"
      ],
      "text/plain": [
       "<IPython.core.display.HTML object>"
      ]
     },
     "metadata": {},
     "output_type": "display_data"
    },
    {
     "name": "stderr",
     "output_type": "stream",
     "text": [
      "\u001b[34m\u001b[1mwandb\u001b[0m: Sweep Agent: Waiting for job.\n",
      "\u001b[34m\u001b[1mwandb\u001b[0m: Job received.\n",
      "\u001b[34m\u001b[1mwandb\u001b[0m: Agent Starting Run: 4krve0j0 with config:\n",
      "\u001b[34m\u001b[1mwandb\u001b[0m: \tbatch_size: 4096\n",
      "\u001b[34m\u001b[1mwandb\u001b[0m: \tdevice: cuda\n",
      "\u001b[34m\u001b[1mwandb\u001b[0m: \tembed_dim: 10\n",
      "\u001b[34m\u001b[1mwandb\u001b[0m: \tepochs: 30\n",
      "\u001b[34m\u001b[1mwandb\u001b[0m: \tlr: 0.0335371893759723\n",
      "\u001b[34m\u001b[1mwandb\u001b[0m: \toptim: adam\n",
      "\u001b[34m\u001b[1mwandb\u001b[0m: \twd: 1e-05\n"
     ]
    },
    {
     "data": {
      "text/html": [
       "Tracking run with wandb version 0.12.21"
      ],
      "text/plain": [
       "<IPython.core.display.HTML object>"
      ]
     },
     "metadata": {},
     "output_type": "display_data"
    },
    {
     "data": {
      "text/html": [
       "Run data is saved locally in <code>/home/erlebach/src/2022/copa_recommenders/copa_recommender_data_rankfm/torchfm/wandb/run-20220727_013414-4krve0j0</code>"
      ],
      "text/plain": [
       "<IPython.core.display.HTML object>"
      ]
     },
     "metadata": {},
     "output_type": "display_data"
    },
    {
     "data": {
      "text/html": [
       "Syncing run <strong><a href=\"https://wandb.ai/erlebacher/Copa%20Recommender/runs/4krve0j0\" target=\"_blank\">major-sweep-7</a></strong> to <a href=\"https://wandb.ai/erlebacher/Copa%20Recommender\" target=\"_blank\">Weights & Biases</a> (<a href=\"https://wandb.me/run\" target=\"_blank\">docs</a>)<br/>Sweep page:  <a href=\"https://wandb.ai/erlebacher/Copa%20Recommender/sweeps/tj45rn4b\" target=\"_blank\">https://wandb.ai/erlebacher/Copa%20Recommender/sweeps/tj45rn4b</a>"
      ],
      "text/plain": [
       "<IPython.core.display.HTML object>"
      ]
     },
     "metadata": {},
     "output_type": "display_data"
    },
    {
     "name": "stdout",
     "output_type": "stream",
     "text": [
      "(804187, 9)\n",
      "Create torch.tensor on device\n",
      "FeaturesLinear, field_dims:  tensor([46321,    86,     3], device='cuda:0') tensor(46410, device='cuda:0')\n",
      "train_epoch: device:  cuda\n",
      "elapased time per epoch:  498.8308410644531\n",
      "Epoch 0, avg total_loss (per training sample):  0.0013688793440143723\n",
      "train_epoch: device:  cuda\n",
      "elapased time per epoch:  438.9612121582031\n",
      "train_epoch: device:  cuda\n",
      "elapased time per epoch:  535.3766479492188\n",
      "train_epoch: device:  cuda\n",
      "elapased time per epoch:  466.8919372558594\n",
      "train_epoch: device:  cuda\n",
      "elapased time per epoch:  513.0874633789062\n",
      "train_epoch: device:  cuda\n",
      "elapased time per epoch:  438.6422119140625\n",
      "Epoch 5, avg total_loss (per training sample):  0.0009649624219719357\n",
      "train_epoch: device:  cuda\n",
      "elapased time per epoch:  434.2995300292969\n",
      "train_epoch: device:  cuda\n",
      "elapased time per epoch:  499.24212646484375\n",
      "train_epoch: device:  cuda\n",
      "elapased time per epoch:  431.7870788574219\n",
      "train_epoch: device:  cuda\n",
      "elapased time per epoch:  490.8062438964844\n",
      "train_epoch: device:  cuda\n",
      "elapased time per epoch:  425.84698486328125\n",
      "Epoch 10, avg total_loss (per training sample):  0.0009099176706036577\n",
      "train_epoch: device:  cuda\n",
      "elapased time per epoch:  433.8729248046875\n",
      "train_epoch: device:  cuda\n",
      "elapased time per epoch:  487.55780029296875\n",
      "train_epoch: device:  cuda\n",
      "elapased time per epoch:  442.822509765625\n",
      "train_epoch: device:  cuda\n",
      "elapased time per epoch:  495.0207824707031\n",
      "train_epoch: device:  cuda\n",
      "elapased time per epoch:  437.2111511230469\n",
      "Epoch 15, avg total_loss (per training sample):  0.0008667320247368015\n",
      "train_epoch: device:  cuda\n",
      "elapased time per epoch:  488.7395935058594\n",
      "train_epoch: device:  cuda\n",
      "elapased time per epoch:  438.4708251953125\n",
      "train_epoch: device:  cuda\n",
      "elapased time per epoch:  506.1842346191406\n",
      "train_epoch: device:  cuda\n",
      "elapased time per epoch:  440.6349182128906\n",
      "train_epoch: device:  cuda\n",
      "elapased time per epoch:  492.6767272949219\n",
      "Epoch 20, avg total_loss (per training sample):  0.0008678308796901461\n",
      "train_epoch: device:  cuda\n",
      "elapased time per epoch:  454.50970458984375\n",
      "train_epoch: device:  cuda\n",
      "elapased time per epoch:  493.1855773925781\n",
      "train_epoch: device:  cuda\n",
      "elapased time per epoch:  439.54766845703125\n",
      "train_epoch: device:  cuda\n",
      "elapased time per epoch:  431.43450927734375\n",
      "train_epoch: device:  cuda\n",
      "elapased time per epoch:  495.1039733886719\n",
      "Epoch 25, avg total_loss (per training sample):  0.0008382915732069073\n",
      "train_epoch: device:  cuda\n",
      "elapased time per epoch:  437.35205078125\n",
      "train_epoch: device:  cuda\n",
      "elapased time per epoch:  502.6764831542969\n",
      "train_epoch: device:  cuda\n",
      "elapased time per epoch:  431.31964111328125\n",
      "train_epoch: device:  cuda\n",
      "elapased time per epoch:  438.19500732421875\n"
     ]
    },
    {
     "data": {
      "text/html": [
       "Waiting for W&B process to finish... <strong style=\"color:green\">(success).</strong>"
      ],
      "text/plain": [
       "<IPython.core.display.HTML object>"
      ]
     },
     "metadata": {},
     "output_type": "display_data"
    },
    {
     "data": {
      "application/vnd.jupyter.widget-view+json": {
       "model_id": "76426b74da3b467ba0522df7e448c2fe",
       "version_major": 2,
       "version_minor": 0
      },
      "text/plain": [
       "VBox(children=(Label(value='0.001 MB of 0.001 MB uploaded (0.000 MB deduped)\\r'), FloatProgress(value=1.0, max…"
      ]
     },
     "metadata": {},
     "output_type": "display_data"
    },
    {
     "data": {
      "text/html": [
       "<style>\n",
       "    table.wandb td:nth-child(1) { padding: 0 10px; text-align: left ; width: auto;} td:nth-child(2) {text-align: left ; width: 100%}\n",
       "    .wandb-row { display: flex; flex-direction: row; flex-wrap: wrap; justify-content: flex-start; width: 100% }\n",
       "    .wandb-col { display: flex; flex-direction: column; flex-basis: 100%; flex: 1; padding: 10px; }\n",
       "    </style>\n",
       "<div class=\"wandb-row\"><div class=\"wandb-col\"><h3>Run history:</h3><br/><table class=\"wandb\"><tr><td>epoch</td><td>▁▁▁▂▂▂▂▃▃▃▃▄▄▄▄▅▅▅▅▆▆▆▆▇▇▇▇███</td></tr><tr><td>loss</td><td>█▅▄▄▃▃▂▂▂▂▂▂▂▂▁▁▂▁▁▁▁▁▁▁▁▁▁▁▁▁</td></tr></table><br/></div><div class=\"wandb-col\"><h3>Run summary:</h3><br/><table class=\"wandb\"><tr><td>epoch</td><td>29</td></tr><tr><td>loss</td><td>0.00084</td></tr></table><br/></div></div>"
      ],
      "text/plain": [
       "<IPython.core.display.HTML object>"
      ]
     },
     "metadata": {},
     "output_type": "display_data"
    },
    {
     "data": {
      "text/html": [
       "Synced <strong style=\"color:#cdcd00\">major-sweep-7</strong>: <a href=\"https://wandb.ai/erlebacher/Copa%20Recommender/runs/4krve0j0\" target=\"_blank\">https://wandb.ai/erlebacher/Copa%20Recommender/runs/4krve0j0</a><br/>Synced 6 W&B file(s), 0 media file(s), 0 artifact file(s) and 0 other file(s)"
      ],
      "text/plain": [
       "<IPython.core.display.HTML object>"
      ]
     },
     "metadata": {},
     "output_type": "display_data"
    },
    {
     "data": {
      "text/html": [
       "Find logs at: <code>./wandb/run-20220727_013414-4krve0j0/logs</code>"
      ],
      "text/plain": [
       "<IPython.core.display.HTML object>"
      ]
     },
     "metadata": {},
     "output_type": "display_data"
    },
    {
     "name": "stderr",
     "output_type": "stream",
     "text": [
      "\u001b[34m\u001b[1mwandb\u001b[0m: Agent Starting Run: j9mftx4d with config:\n",
      "\u001b[34m\u001b[1mwandb\u001b[0m: \tbatch_size: 128\n",
      "\u001b[34m\u001b[1mwandb\u001b[0m: \tdevice: cuda\n",
      "\u001b[34m\u001b[1mwandb\u001b[0m: \tembed_dim: 20\n",
      "\u001b[34m\u001b[1mwandb\u001b[0m: \tepochs: 30\n",
      "\u001b[34m\u001b[1mwandb\u001b[0m: \tlr: 0.010438178121646928\n",
      "\u001b[34m\u001b[1mwandb\u001b[0m: \toptim: adam\n",
      "\u001b[34m\u001b[1mwandb\u001b[0m: \twd: 1e-05\n"
     ]
    },
    {
     "data": {
      "text/html": [
       "Tracking run with wandb version 0.12.21"
      ],
      "text/plain": [
       "<IPython.core.display.HTML object>"
      ]
     },
     "metadata": {},
     "output_type": "display_data"
    },
    {
     "data": {
      "text/html": [
       "Run data is saved locally in <code>/home/erlebach/src/2022/copa_recommenders/copa_recommender_data_rankfm/torchfm/wandb/run-20220727_013437-j9mftx4d</code>"
      ],
      "text/plain": [
       "<IPython.core.display.HTML object>"
      ]
     },
     "metadata": {},
     "output_type": "display_data"
    },
    {
     "data": {
      "text/html": [
       "Syncing run <strong><a href=\"https://wandb.ai/erlebacher/Copa%20Recommender/runs/j9mftx4d\" target=\"_blank\">crimson-sweep-8</a></strong> to <a href=\"https://wandb.ai/erlebacher/Copa%20Recommender\" target=\"_blank\">Weights & Biases</a> (<a href=\"https://wandb.me/run\" target=\"_blank\">docs</a>)<br/>Sweep page:  <a href=\"https://wandb.ai/erlebacher/Copa%20Recommender/sweeps/tj45rn4b\" target=\"_blank\">https://wandb.ai/erlebacher/Copa%20Recommender/sweeps/tj45rn4b</a>"
      ],
      "text/plain": [
       "<IPython.core.display.HTML object>"
      ]
     },
     "metadata": {},
     "output_type": "display_data"
    },
    {
     "name": "stdout",
     "output_type": "stream",
     "text": [
      "(804187, 9)\n",
      "Create torch.tensor on device\n",
      "FeaturesLinear, field_dims:  tensor([46321,    86,     3], device='cuda:0') tensor(46410, device='cuda:0')\n",
      "train_epoch: device:  cuda\n",
      "elapased time per epoch:  483.349609375\n",
      "Epoch 0, avg total_loss (per training sample):  0.001378927625135351\n",
      "train_epoch: device:  cuda\n",
      "elapased time per epoch:  428.41363525390625\n",
      "train_epoch: device:  cuda\n",
      "elapased time per epoch:  449.2831115722656\n",
      "train_epoch: device:  cuda\n",
      "elapased time per epoch:  509.5060119628906\n",
      "train_epoch: device:  cuda\n",
      "elapased time per epoch:  429.7388916015625\n",
      "train_epoch: device:  cuda\n",
      "elapased time per epoch:  485.41046142578125\n",
      "Epoch 5, avg total_loss (per training sample):  0.001059230891468909\n",
      "train_epoch: device:  cuda\n",
      "elapased time per epoch:  424.12225341796875\n",
      "train_epoch: device:  cuda\n",
      "elapased time per epoch:  486.34674072265625\n",
      "train_epoch: device:  cuda\n",
      "elapased time per epoch:  432.19183349609375\n",
      "train_epoch: device:  cuda\n",
      "elapased time per epoch:  429.33453369140625\n",
      "train_epoch: device:  cuda\n",
      "elapased time per epoch:  488.9532775878906\n",
      "Epoch 10, avg total_loss (per training sample):  0.0009587647353736159\n",
      "train_epoch: device:  cuda\n",
      "elapased time per epoch:  428.0978088378906\n",
      "train_epoch: device:  cuda\n",
      "elapased time per epoch:  431.288818359375\n",
      "train_epoch: device:  cuda\n",
      "elapased time per epoch:  488.10748291015625\n",
      "train_epoch: device:  cuda\n",
      "elapased time per epoch:  425.63201904296875\n",
      "train_epoch: device:  cuda\n",
      "elapased time per epoch:  494.3453063964844\n",
      "Epoch 15, avg total_loss (per training sample):  0.0009219373359605374\n",
      "train_epoch: device:  cuda\n",
      "elapased time per epoch:  430.67926025390625\n",
      "train_epoch: device:  cuda\n",
      "elapased time per epoch:  487.3404541015625\n",
      "train_epoch: device:  cuda\n",
      "elapased time per epoch:  431.8636474609375\n",
      "train_epoch: device:  cuda\n",
      "elapased time per epoch:  429.31793212890625\n",
      "train_epoch: device:  cuda\n",
      "elapased time per epoch:  496.9818420410156\n",
      "Epoch 20, avg total_loss (per training sample):  0.0008950197959581497\n",
      "train_epoch: device:  cuda\n",
      "elapased time per epoch:  432.2311706542969\n",
      "train_epoch: device:  cuda\n",
      "elapased time per epoch:  435.76007080078125\n",
      "train_epoch: device:  cuda\n",
      "elapased time per epoch:  497.07928466796875\n",
      "train_epoch: device:  cuda\n",
      "elapased time per epoch:  430.064697265625\n",
      "train_epoch: device:  cuda\n",
      "elapased time per epoch:  493.5480041503906\n",
      "Epoch 25, avg total_loss (per training sample):  0.0008625023048088125\n",
      "train_epoch: device:  cuda\n",
      "elapased time per epoch:  443.2385559082031\n",
      "train_epoch: device:  cuda\n",
      "elapased time per epoch:  427.8372497558594\n",
      "train_epoch: device:  cuda\n",
      "elapased time per epoch:  503.8215637207031\n",
      "train_epoch: device:  cuda\n",
      "elapased time per epoch:  431.1711120605469\n"
     ]
    },
    {
     "data": {
      "text/html": [
       "Waiting for W&B process to finish... <strong style=\"color:green\">(success).</strong>"
      ],
      "text/plain": [
       "<IPython.core.display.HTML object>"
      ]
     },
     "metadata": {},
     "output_type": "display_data"
    },
    {
     "data": {
      "application/vnd.jupyter.widget-view+json": {
       "model_id": "754f57a92b6746a4a4bb2a2e09c906d7",
       "version_major": 2,
       "version_minor": 0
      },
      "text/plain": [
       "VBox(children=(Label(value='0.001 MB of 0.001 MB uploaded (0.000 MB deduped)\\r'), FloatProgress(value=1.0, max…"
      ]
     },
     "metadata": {},
     "output_type": "display_data"
    },
    {
     "data": {
      "text/html": [
       "<style>\n",
       "    table.wandb td:nth-child(1) { padding: 0 10px; text-align: left ; width: auto;} td:nth-child(2) {text-align: left ; width: 100%}\n",
       "    .wandb-row { display: flex; flex-direction: row; flex-wrap: wrap; justify-content: flex-start; width: 100% }\n",
       "    .wandb-col { display: flex; flex-direction: column; flex-basis: 100%; flex: 1; padding: 10px; }\n",
       "    </style>\n",
       "<div class=\"wandb-row\"><div class=\"wandb-col\"><h3>Run history:</h3><br/><table class=\"wandb\"><tr><td>epoch</td><td>▁▁▁▂▂▂▂▃▃▃▃▄▄▄▄▅▅▅▅▆▆▆▆▇▇▇▇███</td></tr><tr><td>loss</td><td>█▆▅▄▄▄▃▃▃▃▂▂▂▂▂▂▂▂▂▂▂▁▁▁▁▁▁▁▁▁</td></tr></table><br/></div><div class=\"wandb-col\"><h3>Run summary:</h3><br/><table class=\"wandb\"><tr><td>epoch</td><td>29</td></tr><tr><td>loss</td><td>0.00087</td></tr></table><br/></div></div>"
      ],
      "text/plain": [
       "<IPython.core.display.HTML object>"
      ]
     },
     "metadata": {},
     "output_type": "display_data"
    },
    {
     "data": {
      "text/html": [
       "Synced <strong style=\"color:#cdcd00\">crimson-sweep-8</strong>: <a href=\"https://wandb.ai/erlebacher/Copa%20Recommender/runs/j9mftx4d\" target=\"_blank\">https://wandb.ai/erlebacher/Copa%20Recommender/runs/j9mftx4d</a><br/>Synced 6 W&B file(s), 0 media file(s), 0 artifact file(s) and 0 other file(s)"
      ],
      "text/plain": [
       "<IPython.core.display.HTML object>"
      ]
     },
     "metadata": {},
     "output_type": "display_data"
    },
    {
     "data": {
      "text/html": [
       "Find logs at: <code>./wandb/run-20220727_013437-j9mftx4d/logs</code>"
      ],
      "text/plain": [
       "<IPython.core.display.HTML object>"
      ]
     },
     "metadata": {},
     "output_type": "display_data"
    },
    {
     "name": "stderr",
     "output_type": "stream",
     "text": [
      "\u001b[34m\u001b[1mwandb\u001b[0m: Agent Starting Run: am11ih2n with config:\n",
      "\u001b[34m\u001b[1mwandb\u001b[0m: \tbatch_size: 4096\n",
      "\u001b[34m\u001b[1mwandb\u001b[0m: \tdevice: cuda\n",
      "\u001b[34m\u001b[1mwandb\u001b[0m: \tembed_dim: 10\n",
      "\u001b[34m\u001b[1mwandb\u001b[0m: \tepochs: 30\n",
      "\u001b[34m\u001b[1mwandb\u001b[0m: \tlr: 0.0398515459430002\n",
      "\u001b[34m\u001b[1mwandb\u001b[0m: \toptim: adamW\n",
      "\u001b[34m\u001b[1mwandb\u001b[0m: \twd: 1e-05\n"
     ]
    },
    {
     "data": {
      "text/html": [
       "Tracking run with wandb version 0.12.21"
      ],
      "text/plain": [
       "<IPython.core.display.HTML object>"
      ]
     },
     "metadata": {},
     "output_type": "display_data"
    },
    {
     "data": {
      "text/html": [
       "Run data is saved locally in <code>/home/erlebach/src/2022/copa_recommenders/copa_recommender_data_rankfm/torchfm/wandb/run-20220727_013459-am11ih2n</code>"
      ],
      "text/plain": [
       "<IPython.core.display.HTML object>"
      ]
     },
     "metadata": {},
     "output_type": "display_data"
    },
    {
     "data": {
      "text/html": [
       "Syncing run <strong><a href=\"https://wandb.ai/erlebacher/Copa%20Recommender/runs/am11ih2n\" target=\"_blank\">cool-sweep-9</a></strong> to <a href=\"https://wandb.ai/erlebacher/Copa%20Recommender\" target=\"_blank\">Weights & Biases</a> (<a href=\"https://wandb.me/run\" target=\"_blank\">docs</a>)<br/>Sweep page:  <a href=\"https://wandb.ai/erlebacher/Copa%20Recommender/sweeps/tj45rn4b\" target=\"_blank\">https://wandb.ai/erlebacher/Copa%20Recommender/sweeps/tj45rn4b</a>"
      ],
      "text/plain": [
       "<IPython.core.display.HTML object>"
      ]
     },
     "metadata": {},
     "output_type": "display_data"
    },
    {
     "name": "stdout",
     "output_type": "stream",
     "text": [
      "(804187, 9)\n",
      "Create torch.tensor on device\n",
      "FeaturesLinear, field_dims:  tensor([46321,    86,     3], device='cuda:0') tensor(46410, device='cuda:0')\n",
      "train_epoch: device:  cuda\n",
      "elapased time per epoch:  442.6633605957031\n",
      "Epoch 0, avg total_loss (per training sample):  0.0012648320572484642\n",
      "train_epoch: device:  cuda\n",
      "elapased time per epoch:  454.03271484375\n",
      "train_epoch: device:  cuda\n",
      "elapased time per epoch:  516.9612426757812\n",
      "train_epoch: device:  cuda\n",
      "elapased time per epoch:  468.6671142578125\n",
      "train_epoch: device:  cuda\n",
      "elapased time per epoch:  510.73492431640625\n",
      "train_epoch: device:  cuda\n",
      "elapased time per epoch:  464.3868713378906\n",
      "Epoch 5, avg total_loss (per training sample):  0.0009258102224292966\n",
      "train_epoch: device:  cuda\n",
      "elapased time per epoch:  450.06402587890625\n",
      "train_epoch: device:  cuda\n",
      "elapased time per epoch:  512.63037109375\n",
      "train_epoch: device:  cuda\n",
      "elapased time per epoch:  443.33203125\n",
      "train_epoch: device:  cuda\n",
      "elapased time per epoch:  499.67327880859375\n",
      "train_epoch: device:  cuda\n",
      "elapased time per epoch:  439.9806823730469\n",
      "Epoch 10, avg total_loss (per training sample):  0.0008826249264644178\n",
      "train_epoch: device:  cuda\n",
      "elapased time per epoch:  436.7386779785156\n",
      "train_epoch: device:  cuda\n",
      "elapased time per epoch:  496.702392578125\n",
      "train_epoch: device:  cuda\n",
      "elapased time per epoch:  433.2487487792969\n",
      "train_epoch: device:  cuda\n",
      "elapased time per epoch:  504.12060546875\n",
      "train_epoch: device:  cuda\n",
      "elapased time per epoch:  438.917724609375\n",
      "Epoch 15, avg total_loss (per training sample):  0.0008574600152955113\n",
      "train_epoch: device:  cuda\n",
      "elapased time per epoch:  493.7804260253906\n",
      "train_epoch: device:  cuda\n",
      "elapased time per epoch:  436.40802001953125\n",
      "train_epoch: device:  cuda\n",
      "elapased time per epoch:  432.2906494140625\n",
      "train_epoch: device:  cuda\n",
      "elapased time per epoch:  508.0978698730469\n",
      "train_epoch: device:  cuda\n",
      "elapased time per epoch:  442.1579284667969\n",
      "Epoch 20, avg total_loss (per training sample):  0.0008604595455832804\n",
      "train_epoch: device:  cuda\n",
      "elapased time per epoch:  512.53662109375\n",
      "train_epoch: device:  cuda\n",
      "elapased time per epoch:  438.8716735839844\n",
      "train_epoch: device:  cuda\n",
      "elapased time per epoch:  442.32208251953125\n",
      "train_epoch: device:  cuda\n",
      "elapased time per epoch:  525.4283447265625\n",
      "train_epoch: device:  cuda\n",
      "elapased time per epoch:  444.13262939453125\n",
      "Epoch 25, avg total_loss (per training sample):  0.0008458023942647544\n",
      "train_epoch: device:  cuda\n",
      "elapased time per epoch:  458.3704833984375\n",
      "train_epoch: device:  cuda\n",
      "elapased time per epoch:  515.1593017578125\n",
      "train_epoch: device:  cuda\n",
      "elapased time per epoch:  446.53997802734375\n",
      "train_epoch: device:  cuda\n",
      "elapased time per epoch:  524.8816528320312\n"
     ]
    },
    {
     "data": {
      "text/html": [
       "Waiting for W&B process to finish... <strong style=\"color:green\">(success).</strong>"
      ],
      "text/plain": [
       "<IPython.core.display.HTML object>"
      ]
     },
     "metadata": {},
     "output_type": "display_data"
    },
    {
     "data": {
      "application/vnd.jupyter.widget-view+json": {
       "model_id": "8ce5c1683b5547ac81c747c53a67ba3b",
       "version_major": 2,
       "version_minor": 0
      },
      "text/plain": [
       "VBox(children=(Label(value='0.001 MB of 0.001 MB uploaded (0.000 MB deduped)\\r'), FloatProgress(value=1.0, max…"
      ]
     },
     "metadata": {},
     "output_type": "display_data"
    },
    {
     "data": {
      "text/html": [
       "<style>\n",
       "    table.wandb td:nth-child(1) { padding: 0 10px; text-align: left ; width: auto;} td:nth-child(2) {text-align: left ; width: 100%}\n",
       "    .wandb-row { display: flex; flex-direction: row; flex-wrap: wrap; justify-content: flex-start; width: 100% }\n",
       "    .wandb-col { display: flex; flex-direction: column; flex-basis: 100%; flex: 1; padding: 10px; }\n",
       "    </style>\n",
       "<div class=\"wandb-row\"><div class=\"wandb-col\"><h3>Run history:</h3><br/><table class=\"wandb\"><tr><td>epoch</td><td>▁▁▁▂▂▂▂▃▃▃▃▄▄▄▄▅▅▅▅▆▆▆▆▇▇▇▇███</td></tr><tr><td>loss</td><td>█▆▄▄▃▃▃▂▂▂▂▂▂▂▁▂▁▂▂▁▂▁▂▁▁▁▁▁▁▁</td></tr></table><br/></div><div class=\"wandb-col\"><h3>Run summary:</h3><br/><table class=\"wandb\"><tr><td>epoch</td><td>29</td></tr><tr><td>loss</td><td>0.00084</td></tr></table><br/></div></div>"
      ],
      "text/plain": [
       "<IPython.core.display.HTML object>"
      ]
     },
     "metadata": {},
     "output_type": "display_data"
    },
    {
     "data": {
      "text/html": [
       "Synced <strong style=\"color:#cdcd00\">cool-sweep-9</strong>: <a href=\"https://wandb.ai/erlebacher/Copa%20Recommender/runs/am11ih2n\" target=\"_blank\">https://wandb.ai/erlebacher/Copa%20Recommender/runs/am11ih2n</a><br/>Synced 6 W&B file(s), 0 media file(s), 0 artifact file(s) and 0 other file(s)"
      ],
      "text/plain": [
       "<IPython.core.display.HTML object>"
      ]
     },
     "metadata": {},
     "output_type": "display_data"
    },
    {
     "data": {
      "text/html": [
       "Find logs at: <code>./wandb/run-20220727_013459-am11ih2n/logs</code>"
      ],
      "text/plain": [
       "<IPython.core.display.HTML object>"
      ]
     },
     "metadata": {},
     "output_type": "display_data"
    },
    {
     "name": "stderr",
     "output_type": "stream",
     "text": [
      "\u001b[34m\u001b[1mwandb\u001b[0m: Agent Starting Run: rfc6b2yv with config:\n",
      "\u001b[34m\u001b[1mwandb\u001b[0m: \tbatch_size: 128\n",
      "\u001b[34m\u001b[1mwandb\u001b[0m: \tdevice: cuda\n",
      "\u001b[34m\u001b[1mwandb\u001b[0m: \tembed_dim: 20\n",
      "\u001b[34m\u001b[1mwandb\u001b[0m: \tepochs: 30\n",
      "\u001b[34m\u001b[1mwandb\u001b[0m: \tlr: 0.03936168474363646\n",
      "\u001b[34m\u001b[1mwandb\u001b[0m: \toptim: adamW\n",
      "\u001b[34m\u001b[1mwandb\u001b[0m: \twd: 1e-05\n"
     ]
    },
    {
     "data": {
      "text/html": [
       "Tracking run with wandb version 0.12.21"
      ],
      "text/plain": [
       "<IPython.core.display.HTML object>"
      ]
     },
     "metadata": {},
     "output_type": "display_data"
    },
    {
     "data": {
      "text/html": [
       "Run data is saved locally in <code>/home/erlebach/src/2022/copa_recommenders/copa_recommender_data_rankfm/torchfm/wandb/run-20220727_013526-rfc6b2yv</code>"
      ],
      "text/plain": [
       "<IPython.core.display.HTML object>"
      ]
     },
     "metadata": {},
     "output_type": "display_data"
    },
    {
     "data": {
      "text/html": [
       "Syncing run <strong><a href=\"https://wandb.ai/erlebacher/Copa%20Recommender/runs/rfc6b2yv\" target=\"_blank\">efficient-sweep-10</a></strong> to <a href=\"https://wandb.ai/erlebacher/Copa%20Recommender\" target=\"_blank\">Weights & Biases</a> (<a href=\"https://wandb.me/run\" target=\"_blank\">docs</a>)<br/>Sweep page:  <a href=\"https://wandb.ai/erlebacher/Copa%20Recommender/sweeps/tj45rn4b\" target=\"_blank\">https://wandb.ai/erlebacher/Copa%20Recommender/sweeps/tj45rn4b</a>"
      ],
      "text/plain": [
       "<IPython.core.display.HTML object>"
      ]
     },
     "metadata": {},
     "output_type": "display_data"
    },
    {
     "name": "stdout",
     "output_type": "stream",
     "text": [
      "(804187, 9)\n",
      "Create torch.tensor on device\n",
      "FeaturesLinear, field_dims:  tensor([46321,    86,     3], device='cuda:0') tensor(46410, device='cuda:0')\n",
      "train_epoch: device:  cuda\n",
      "elapased time per epoch:  521.77197265625\n",
      "Epoch 0, avg total_loss (per training sample):  0.0012205434909301678\n",
      "train_epoch: device:  cuda\n",
      "elapased time per epoch:  437.0054626464844\n",
      "train_epoch: device:  cuda\n",
      "elapased time per epoch:  433.39910888671875\n",
      "train_epoch: device:  cuda\n",
      "elapased time per epoch:  506.16192626953125\n",
      "train_epoch: device:  cuda\n",
      "elapased time per epoch:  433.9144592285156\n",
      "train_epoch: device:  cuda\n",
      "elapased time per epoch:  512.6065673828125\n",
      "Epoch 5, avg total_loss (per training sample):  0.0009597587815427379\n",
      "train_epoch: device:  cuda\n",
      "elapased time per epoch:  437.3218688964844\n",
      "train_epoch: device:  cuda\n",
      "elapased time per epoch:  448.53228759765625\n",
      "train_epoch: device:  cuda\n",
      "elapased time per epoch:  508.3765869140625\n",
      "train_epoch: device:  cuda\n",
      "elapased time per epoch:  470.9920959472656\n",
      "train_epoch: device:  cuda\n",
      "elapased time per epoch:  446.48297119140625\n",
      "Epoch 10, avg total_loss (per training sample):  0.0009109905493229695\n",
      "train_epoch: device:  cuda\n",
      "elapased time per epoch:  520.22314453125\n",
      "train_epoch: device:  cuda\n",
      "elapased time per epoch:  443.0347595214844\n",
      "train_epoch: device:  cuda\n",
      "elapased time per epoch:  519.6424560546875\n",
      "train_epoch: device:  cuda\n",
      "elapased time per epoch:  441.9577941894531\n",
      "train_epoch: device:  cuda\n",
      "elapased time per epoch:  454.23675537109375\n",
      "Epoch 15, avg total_loss (per training sample):  0.0008966483748624046\n",
      "train_epoch: device:  cuda\n",
      "elapased time per epoch:  527.202392578125\n",
      "train_epoch: device:  cuda\n",
      "elapased time per epoch:  454.63177490234375\n",
      "train_epoch: device:  cuda\n",
      "elapased time per epoch:  455.995361328125\n",
      "train_epoch: device:  cuda\n",
      "elapased time per epoch:  542.9231567382812\n",
      "train_epoch: device:  cuda\n",
      "elapased time per epoch:  447.78131103515625\n",
      "Epoch 20, avg total_loss (per training sample):  0.0008806655341664467\n",
      "train_epoch: device:  cuda\n",
      "elapased time per epoch:  538.2069702148438\n",
      "train_epoch: device:  cuda\n",
      "elapased time per epoch:  451.75311279296875\n",
      "train_epoch: device:  cuda\n",
      "elapased time per epoch:  440.2554626464844\n",
      "train_epoch: device:  cuda\n",
      "elapased time per epoch:  521.9860229492188\n",
      "train_epoch: device:  cuda\n",
      "elapased time per epoch:  454.1055908203125\n",
      "Epoch 25, avg total_loss (per training sample):  0.0008778305538894865\n",
      "train_epoch: device:  cuda\n",
      "elapased time per epoch:  460.0353698730469\n",
      "train_epoch: device:  cuda\n",
      "elapased time per epoch:  505.82830810546875\n",
      "train_epoch: device:  cuda\n",
      "elapased time per epoch:  447.8095397949219\n",
      "train_epoch: device:  cuda\n",
      "elapased time per epoch:  492.89678955078125\n"
     ]
    },
    {
     "data": {
      "text/html": [
       "Waiting for W&B process to finish... <strong style=\"color:green\">(success).</strong>"
      ],
      "text/plain": [
       "<IPython.core.display.HTML object>"
      ]
     },
     "metadata": {},
     "output_type": "display_data"
    },
    {
     "data": {
      "application/vnd.jupyter.widget-view+json": {
       "model_id": "2df077c6014d4f5b88112414c087ae40",
       "version_major": 2,
       "version_minor": 0
      },
      "text/plain": [
       "VBox(children=(Label(value='0.001 MB of 0.001 MB uploaded (0.000 MB deduped)\\r'), FloatProgress(value=1.0, max…"
      ]
     },
     "metadata": {},
     "output_type": "display_data"
    },
    {
     "data": {
      "text/html": [
       "<style>\n",
       "    table.wandb td:nth-child(1) { padding: 0 10px; text-align: left ; width: auto;} td:nth-child(2) {text-align: left ; width: 100%}\n",
       "    .wandb-row { display: flex; flex-direction: row; flex-wrap: wrap; justify-content: flex-start; width: 100% }\n",
       "    .wandb-col { display: flex; flex-direction: column; flex-basis: 100%; flex: 1; padding: 10px; }\n",
       "    </style>\n",
       "<div class=\"wandb-row\"><div class=\"wandb-col\"><h3>Run history:</h3><br/><table class=\"wandb\"><tr><td>epoch</td><td>▁▁▁▂▂▂▂▃▃▃▃▄▄▄▄▅▅▅▅▆▆▆▆▇▇▇▇███</td></tr><tr><td>loss</td><td>█▆▅▄▃▃▃▃▂▂▂▂▂▂▂▂▂▁▁▂▂▁▁▁▁▁▁▁▁▁</td></tr></table><br/></div><div class=\"wandb-col\"><h3>Run summary:</h3><br/><table class=\"wandb\"><tr><td>epoch</td><td>29</td></tr><tr><td>loss</td><td>0.00086</td></tr></table><br/></div></div>"
      ],
      "text/plain": [
       "<IPython.core.display.HTML object>"
      ]
     },
     "metadata": {},
     "output_type": "display_data"
    },
    {
     "data": {
      "text/html": [
       "Synced <strong style=\"color:#cdcd00\">efficient-sweep-10</strong>: <a href=\"https://wandb.ai/erlebacher/Copa%20Recommender/runs/rfc6b2yv\" target=\"_blank\">https://wandb.ai/erlebacher/Copa%20Recommender/runs/rfc6b2yv</a><br/>Synced 6 W&B file(s), 0 media file(s), 0 artifact file(s) and 0 other file(s)"
      ],
      "text/plain": [
       "<IPython.core.display.HTML object>"
      ]
     },
     "metadata": {},
     "output_type": "display_data"
    },
    {
     "data": {
      "text/html": [
       "Find logs at: <code>./wandb/run-20220727_013526-rfc6b2yv/logs</code>"
      ],
      "text/plain": [
       "<IPython.core.display.HTML object>"
      ]
     },
     "metadata": {},
     "output_type": "display_data"
    },
    {
     "name": "stderr",
     "output_type": "stream",
     "text": [
      "\u001b[34m\u001b[1mwandb\u001b[0m: Sweep Agent: Waiting for job.\n",
      "\u001b[34m\u001b[1mwandb\u001b[0m: Job received.\n",
      "\u001b[34m\u001b[1mwandb\u001b[0m: Agent Starting Run: qrjs8doo with config:\n",
      "\u001b[34m\u001b[1mwandb\u001b[0m: \tbatch_size: 512\n",
      "\u001b[34m\u001b[1mwandb\u001b[0m: \tdevice: cuda\n",
      "\u001b[34m\u001b[1mwandb\u001b[0m: \tembed_dim: 30\n",
      "\u001b[34m\u001b[1mwandb\u001b[0m: \tepochs: 30\n",
      "\u001b[34m\u001b[1mwandb\u001b[0m: \tlr: 0.03831749140656231\n",
      "\u001b[34m\u001b[1mwandb\u001b[0m: \toptim: adam\n",
      "\u001b[34m\u001b[1mwandb\u001b[0m: \twd: 1e-05\n"
     ]
    },
    {
     "data": {
      "text/html": [
       "Tracking run with wandb version 0.12.21"
      ],
      "text/plain": [
       "<IPython.core.display.HTML object>"
      ]
     },
     "metadata": {},
     "output_type": "display_data"
    },
    {
     "data": {
      "text/html": [
       "Run data is saved locally in <code>/home/erlebach/src/2022/copa_recommenders/copa_recommender_data_rankfm/torchfm/wandb/run-20220727_013557-qrjs8doo</code>"
      ],
      "text/plain": [
       "<IPython.core.display.HTML object>"
      ]
     },
     "metadata": {},
     "output_type": "display_data"
    },
    {
     "data": {
      "text/html": [
       "Syncing run <strong><a href=\"https://wandb.ai/erlebacher/Copa%20Recommender/runs/qrjs8doo\" target=\"_blank\">desert-sweep-11</a></strong> to <a href=\"https://wandb.ai/erlebacher/Copa%20Recommender\" target=\"_blank\">Weights & Biases</a> (<a href=\"https://wandb.me/run\" target=\"_blank\">docs</a>)<br/>Sweep page:  <a href=\"https://wandb.ai/erlebacher/Copa%20Recommender/sweeps/tj45rn4b\" target=\"_blank\">https://wandb.ai/erlebacher/Copa%20Recommender/sweeps/tj45rn4b</a>"
      ],
      "text/plain": [
       "<IPython.core.display.HTML object>"
      ]
     },
     "metadata": {},
     "output_type": "display_data"
    },
    {
     "name": "stdout",
     "output_type": "stream",
     "text": [
      "(804187, 9)\n",
      "Create torch.tensor on device\n",
      "FeaturesLinear, field_dims:  tensor([46321,    86,     3], device='cuda:0') tensor(46410, device='cuda:0')\n",
      "train_epoch: device:  cuda\n",
      "elapased time per epoch:  450.4875183105469\n",
      "Epoch 0, avg total_loss (per training sample):  0.0011692900300272263\n",
      "train_epoch: device:  cuda\n",
      "elapased time per epoch:  529.5761108398438\n",
      "train_epoch: device:  cuda\n",
      "elapased time per epoch:  445.15496826171875\n",
      "train_epoch: device:  cuda\n",
      "elapased time per epoch:  472.2511291503906\n",
      "train_epoch: device:  cuda\n",
      "elapased time per epoch:  530.941162109375\n",
      "train_epoch: device:  cuda\n",
      "elapased time per epoch:  456.9268798828125\n",
      "Epoch 5, avg total_loss (per training sample):  0.0009110030231516467\n",
      "train_epoch: device:  cuda\n",
      "elapased time per epoch:  459.6313781738281\n",
      "train_epoch: device:  cuda\n",
      "elapased time per epoch:  517.1951293945312\n",
      "train_epoch: device:  cuda\n",
      "elapased time per epoch:  441.6054992675781\n",
      "train_epoch: device:  cuda\n",
      "elapased time per epoch:  498.8773498535156\n",
      "train_epoch: device:  cuda\n",
      "elapased time per epoch:  464.3492431640625\n",
      "Epoch 10, avg total_loss (per training sample):  0.000870772673796722\n",
      "train_epoch: device:  cuda\n",
      "elapased time per epoch:  465.2251892089844\n",
      "train_epoch: device:  cuda\n",
      "elapased time per epoch:  534.7124633789062\n",
      "train_epoch: device:  cuda\n",
      "elapased time per epoch:  448.926025390625\n",
      "train_epoch: device:  cuda\n",
      "elapased time per epoch:  553.6912231445312\n",
      "train_epoch: device:  cuda\n",
      "elapased time per epoch:  466.9314880371094\n",
      "Epoch 15, avg total_loss (per training sample):  0.0008548327134369076\n",
      "train_epoch: device:  cuda\n",
      "elapased time per epoch:  462.2489318847656\n",
      "train_epoch: device:  cuda\n",
      "elapased time per epoch:  526.112548828125\n",
      "train_epoch: device:  cuda\n",
      "elapased time per epoch:  455.91522216796875\n",
      "train_epoch: device:  cuda\n",
      "elapased time per epoch:  456.588134765625\n",
      "train_epoch: device:  cuda\n",
      "elapased time per epoch:  528.5934448242188\n",
      "Epoch 20, avg total_loss (per training sample):  0.0008286183903097647\n",
      "train_epoch: device:  cuda\n",
      "elapased time per epoch:  474.944091796875\n",
      "train_epoch: device:  cuda\n",
      "elapased time per epoch:  553.89794921875\n",
      "train_epoch: device:  cuda\n",
      "elapased time per epoch:  494.27557373046875\n",
      "train_epoch: device:  cuda\n",
      "elapased time per epoch:  459.0920104980469\n",
      "train_epoch: device:  cuda\n",
      "elapased time per epoch:  532.8621215820312\n",
      "Epoch 25, avg total_loss (per training sample):  0.0008014996729979699\n",
      "train_epoch: device:  cuda\n",
      "elapased time per epoch:  460.8236999511719\n",
      "train_epoch: device:  cuda\n",
      "elapased time per epoch:  459.9284973144531\n",
      "train_epoch: device:  cuda\n",
      "elapased time per epoch:  527.6748657226562\n",
      "train_epoch: device:  cuda\n",
      "elapased time per epoch:  449.0498352050781\n"
     ]
    },
    {
     "data": {
      "text/html": [
       "Waiting for W&B process to finish... <strong style=\"color:green\">(success).</strong>"
      ],
      "text/plain": [
       "<IPython.core.display.HTML object>"
      ]
     },
     "metadata": {},
     "output_type": "display_data"
    },
    {
     "data": {
      "application/vnd.jupyter.widget-view+json": {
       "model_id": "d2876076504c44088e37cb6f25e5d833",
       "version_major": 2,
       "version_minor": 0
      },
      "text/plain": [
       "VBox(children=(Label(value='0.001 MB of 0.001 MB uploaded (0.000 MB deduped)\\r'), FloatProgress(value=1.0, max…"
      ]
     },
     "metadata": {},
     "output_type": "display_data"
    },
    {
     "data": {
      "text/html": [
       "<style>\n",
       "    table.wandb td:nth-child(1) { padding: 0 10px; text-align: left ; width: auto;} td:nth-child(2) {text-align: left ; width: 100%}\n",
       "    .wandb-row { display: flex; flex-direction: row; flex-wrap: wrap; justify-content: flex-start; width: 100% }\n",
       "    .wandb-col { display: flex; flex-direction: column; flex-basis: 100%; flex: 1; padding: 10px; }\n",
       "    </style>\n",
       "<div class=\"wandb-row\"><div class=\"wandb-col\"><h3>Run history:</h3><br/><table class=\"wandb\"><tr><td>epoch</td><td>▁▁▁▂▂▂▂▃▃▃▃▄▄▄▄▅▅▅▅▆▆▆▆▇▇▇▇███</td></tr><tr><td>loss</td><td>█▆▅▅▄▃▃▃▃▃▃▂▂▂▂▂▂▂▂▂▂▂▂▂▂▂▁▂▁▁</td></tr></table><br/></div><div class=\"wandb-col\"><h3>Run summary:</h3><br/><table class=\"wandb\"><tr><td>epoch</td><td>29</td></tr><tr><td>loss</td><td>0.00078</td></tr></table><br/></div></div>"
      ],
      "text/plain": [
       "<IPython.core.display.HTML object>"
      ]
     },
     "metadata": {},
     "output_type": "display_data"
    },
    {
     "data": {
      "text/html": [
       "Synced <strong style=\"color:#cdcd00\">desert-sweep-11</strong>: <a href=\"https://wandb.ai/erlebacher/Copa%20Recommender/runs/qrjs8doo\" target=\"_blank\">https://wandb.ai/erlebacher/Copa%20Recommender/runs/qrjs8doo</a><br/>Synced 6 W&B file(s), 0 media file(s), 0 artifact file(s) and 0 other file(s)"
      ],
      "text/plain": [
       "<IPython.core.display.HTML object>"
      ]
     },
     "metadata": {},
     "output_type": "display_data"
    },
    {
     "data": {
      "text/html": [
       "Find logs at: <code>./wandb/run-20220727_013557-qrjs8doo/logs</code>"
      ],
      "text/plain": [
       "<IPython.core.display.HTML object>"
      ]
     },
     "metadata": {},
     "output_type": "display_data"
    },
    {
     "name": "stderr",
     "output_type": "stream",
     "text": [
      "\u001b[34m\u001b[1mwandb\u001b[0m: Agent Starting Run: xik5q4l0 with config:\n",
      "\u001b[34m\u001b[1mwandb\u001b[0m: \tbatch_size: 128\n",
      "\u001b[34m\u001b[1mwandb\u001b[0m: \tdevice: cuda\n",
      "\u001b[34m\u001b[1mwandb\u001b[0m: \tembed_dim: 20\n",
      "\u001b[34m\u001b[1mwandb\u001b[0m: \tepochs: 30\n",
      "\u001b[34m\u001b[1mwandb\u001b[0m: \tlr: 0.010844292352113896\n",
      "\u001b[34m\u001b[1mwandb\u001b[0m: \toptim: adam\n",
      "\u001b[34m\u001b[1mwandb\u001b[0m: \twd: 0.001\n"
     ]
    },
    {
     "data": {
      "text/html": [
       "Tracking run with wandb version 0.12.21"
      ],
      "text/plain": [
       "<IPython.core.display.HTML object>"
      ]
     },
     "metadata": {},
     "output_type": "display_data"
    },
    {
     "data": {
      "text/html": [
       "Run data is saved locally in <code>/home/erlebach/src/2022/copa_recommenders/copa_recommender_data_rankfm/torchfm/wandb/run-20220727_013624-xik5q4l0</code>"
      ],
      "text/plain": [
       "<IPython.core.display.HTML object>"
      ]
     },
     "metadata": {},
     "output_type": "display_data"
    },
    {
     "data": {
      "text/html": [
       "Syncing run <strong><a href=\"https://wandb.ai/erlebacher/Copa%20Recommender/runs/xik5q4l0\" target=\"_blank\">morning-sweep-12</a></strong> to <a href=\"https://wandb.ai/erlebacher/Copa%20Recommender\" target=\"_blank\">Weights & Biases</a> (<a href=\"https://wandb.me/run\" target=\"_blank\">docs</a>)<br/>Sweep page:  <a href=\"https://wandb.ai/erlebacher/Copa%20Recommender/sweeps/tj45rn4b\" target=\"_blank\">https://wandb.ai/erlebacher/Copa%20Recommender/sweeps/tj45rn4b</a>"
      ],
      "text/plain": [
       "<IPython.core.display.HTML object>"
      ]
     },
     "metadata": {},
     "output_type": "display_data"
    },
    {
     "name": "stdout",
     "output_type": "stream",
     "text": [
      "(804187, 9)\n",
      "Create torch.tensor on device\n",
      "FeaturesLinear, field_dims:  tensor([46321,    86,     3], device='cuda:0') tensor(46410, device='cuda:0')\n",
      "train_epoch: device:  cuda\n",
      "elapased time per epoch:  445.6654968261719\n",
      "Epoch 0, avg total_loss (per training sample):  0.0014247590439479783\n",
      "train_epoch: device:  cuda\n",
      "elapased time per epoch:  451.0376281738281\n",
      "train_epoch: device:  cuda\n",
      "elapased time per epoch:  445.4118957519531\n",
      "train_epoch: device:  cuda\n",
      "elapased time per epoch:  654.612060546875\n",
      "train_epoch: device:  cuda\n",
      "elapased time per epoch:  442.95538330078125\n",
      "train_epoch: device:  cuda\n",
      "elapased time per epoch:  440.9197998046875\n",
      "Epoch 5, avg total_loss (per training sample):  0.0010616708576230622\n",
      "train_epoch: device:  cuda\n",
      "elapased time per epoch:  458.69891357421875\n",
      "train_epoch: device:  cuda\n",
      "elapased time per epoch:  513.9927368164062\n",
      "train_epoch: device:  cuda\n",
      "elapased time per epoch:  462.8186950683594\n",
      "train_epoch: device:  cuda\n",
      "elapased time per epoch:  443.5374755859375\n",
      "train_epoch: device:  cuda\n",
      "elapased time per epoch:  526.5390625\n",
      "Epoch 10, avg total_loss (per training sample):  0.0009636658959701386\n",
      "train_epoch: device:  cuda\n",
      "elapased time per epoch:  449.9128112792969\n",
      "train_epoch: device:  cuda\n",
      "elapased time per epoch:  463.4168701171875\n",
      "train_epoch: device:  cuda\n",
      "elapased time per epoch:  461.7587585449219\n",
      "train_epoch: device:  cuda\n",
      "elapased time per epoch:  531.5369262695312\n",
      "train_epoch: device:  cuda\n",
      "elapased time per epoch:  475.0893249511719\n",
      "Epoch 15, avg total_loss (per training sample):  0.0008934396599771814\n",
      "train_epoch: device:  cuda\n",
      "elapased time per epoch:  481.3650817871094\n",
      "train_epoch: device:  cuda\n",
      "elapased time per epoch:  528.00830078125\n",
      "train_epoch: device:  cuda\n",
      "elapased time per epoch:  459.890869140625\n",
      "train_epoch: device:  cuda\n",
      "elapased time per epoch:  516.3993530273438\n",
      "train_epoch: device:  cuda\n",
      "elapased time per epoch:  446.069580078125\n",
      "Epoch 20, avg total_loss (per training sample):  0.0008737378387602618\n",
      "train_epoch: device:  cuda\n",
      "elapased time per epoch:  451.6456604003906\n",
      "train_epoch: device:  cuda\n",
      "elapased time per epoch:  505.65069580078125\n",
      "train_epoch: device:  cuda\n",
      "elapased time per epoch:  460.10546875\n",
      "train_epoch: device:  cuda\n",
      "elapased time per epoch:  442.6214599609375\n",
      "train_epoch: device:  cuda\n",
      "elapased time per epoch:  461.36590576171875\n",
      "Epoch 25, avg total_loss (per training sample):  0.0008668016719367557\n",
      "train_epoch: device:  cuda\n",
      "elapased time per epoch:  491.1028747558594\n",
      "train_epoch: device:  cuda\n",
      "elapased time per epoch:  440.0179443359375\n",
      "train_epoch: device:  cuda\n",
      "elapased time per epoch:  436.85797119140625\n",
      "train_epoch: device:  cuda\n",
      "elapased time per epoch:  499.576171875\n"
     ]
    },
    {
     "data": {
      "text/html": [
       "Waiting for W&B process to finish... <strong style=\"color:green\">(success).</strong>"
      ],
      "text/plain": [
       "<IPython.core.display.HTML object>"
      ]
     },
     "metadata": {},
     "output_type": "display_data"
    },
    {
     "data": {
      "application/vnd.jupyter.widget-view+json": {
       "model_id": "953b8e6e070346ffb8e0d884e1c61eb0",
       "version_major": 2,
       "version_minor": 0
      },
      "text/plain": [
       "VBox(children=(Label(value='0.001 MB of 0.001 MB uploaded (0.000 MB deduped)\\r'), FloatProgress(value=1.0, max…"
      ]
     },
     "metadata": {},
     "output_type": "display_data"
    },
    {
     "data": {
      "text/html": [
       "<style>\n",
       "    table.wandb td:nth-child(1) { padding: 0 10px; text-align: left ; width: auto;} td:nth-child(2) {text-align: left ; width: 100%}\n",
       "    .wandb-row { display: flex; flex-direction: row; flex-wrap: wrap; justify-content: flex-start; width: 100% }\n",
       "    .wandb-col { display: flex; flex-direction: column; flex-basis: 100%; flex: 1; padding: 10px; }\n",
       "    </style>\n",
       "<div class=\"wandb-row\"><div class=\"wandb-col\"><h3>Run history:</h3><br/><table class=\"wandb\"><tr><td>epoch</td><td>▁▁▁▂▂▂▂▃▃▃▃▄▄▄▄▅▅▅▅▆▆▆▆▇▇▇▇███</td></tr><tr><td>loss</td><td>█▆▅▄▄▄▃▃▂▂▂▂▂▂▂▂▂▂▂▁▁▁▁▁▁▁▁▁▁▁</td></tr></table><br/></div><div class=\"wandb-col\"><h3>Run summary:</h3><br/><table class=\"wandb\"><tr><td>epoch</td><td>29</td></tr><tr><td>loss</td><td>0.00085</td></tr></table><br/></div></div>"
      ],
      "text/plain": [
       "<IPython.core.display.HTML object>"
      ]
     },
     "metadata": {},
     "output_type": "display_data"
    },
    {
     "data": {
      "text/html": [
       "Synced <strong style=\"color:#cdcd00\">morning-sweep-12</strong>: <a href=\"https://wandb.ai/erlebacher/Copa%20Recommender/runs/xik5q4l0\" target=\"_blank\">https://wandb.ai/erlebacher/Copa%20Recommender/runs/xik5q4l0</a><br/>Synced 6 W&B file(s), 0 media file(s), 0 artifact file(s) and 0 other file(s)"
      ],
      "text/plain": [
       "<IPython.core.display.HTML object>"
      ]
     },
     "metadata": {},
     "output_type": "display_data"
    },
    {
     "data": {
      "text/html": [
       "Find logs at: <code>./wandb/run-20220727_013624-xik5q4l0/logs</code>"
      ],
      "text/plain": [
       "<IPython.core.display.HTML object>"
      ]
     },
     "metadata": {},
     "output_type": "display_data"
    },
    {
     "name": "stderr",
     "output_type": "stream",
     "text": [
      "\u001b[34m\u001b[1mwandb\u001b[0m: Agent Starting Run: e6q2r2a3 with config:\n",
      "\u001b[34m\u001b[1mwandb\u001b[0m: \tbatch_size: 4096\n",
      "\u001b[34m\u001b[1mwandb\u001b[0m: \tdevice: cuda\n",
      "\u001b[34m\u001b[1mwandb\u001b[0m: \tembed_dim: 20\n",
      "\u001b[34m\u001b[1mwandb\u001b[0m: \tepochs: 30\n",
      "\u001b[34m\u001b[1mwandb\u001b[0m: \tlr: 0.04004973788776358\n",
      "\u001b[34m\u001b[1mwandb\u001b[0m: \toptim: adamW\n",
      "\u001b[34m\u001b[1mwandb\u001b[0m: \twd: 0.001\n"
     ]
    },
    {
     "data": {
      "text/html": [
       "Tracking run with wandb version 0.12.21"
      ],
      "text/plain": [
       "<IPython.core.display.HTML object>"
      ]
     },
     "metadata": {},
     "output_type": "display_data"
    },
    {
     "data": {
      "text/html": [
       "Run data is saved locally in <code>/home/erlebach/src/2022/copa_recommenders/copa_recommender_data_rankfm/torchfm/wandb/run-20220727_013650-e6q2r2a3</code>"
      ],
      "text/plain": [
       "<IPython.core.display.HTML object>"
      ]
     },
     "metadata": {},
     "output_type": "display_data"
    },
    {
     "data": {
      "text/html": [
       "Syncing run <strong><a href=\"https://wandb.ai/erlebacher/Copa%20Recommender/runs/e6q2r2a3\" target=\"_blank\">olive-sweep-13</a></strong> to <a href=\"https://wandb.ai/erlebacher/Copa%20Recommender\" target=\"_blank\">Weights & Biases</a> (<a href=\"https://wandb.me/run\" target=\"_blank\">docs</a>)<br/>Sweep page:  <a href=\"https://wandb.ai/erlebacher/Copa%20Recommender/sweeps/tj45rn4b\" target=\"_blank\">https://wandb.ai/erlebacher/Copa%20Recommender/sweeps/tj45rn4b</a>"
      ],
      "text/plain": [
       "<IPython.core.display.HTML object>"
      ]
     },
     "metadata": {},
     "output_type": "display_data"
    },
    {
     "name": "stdout",
     "output_type": "stream",
     "text": [
      "(804187, 9)\n",
      "Create torch.tensor on device\n",
      "FeaturesLinear, field_dims:  tensor([46321,    86,     3], device='cuda:0') tensor(46410, device='cuda:0')\n",
      "train_epoch: device:  cuda\n",
      "elapased time per epoch:  516.9572143554688\n",
      "Epoch 0, avg total_loss (per training sample):  0.0012046279520072502\n",
      "train_epoch: device:  cuda\n",
      "elapased time per epoch:  432.1747741699219\n",
      "train_epoch: device:  cuda\n",
      "elapased time per epoch:  448.72735595703125\n",
      "train_epoch: device:  cuda\n",
      "elapased time per epoch:  443.71832275390625\n",
      "train_epoch: device:  cuda\n",
      "elapased time per epoch:  515.5322875976562\n",
      "train_epoch: device:  cuda\n",
      "elapased time per epoch:  459.5237731933594\n",
      "Epoch 5, avg total_loss (per training sample):  0.0009321936376001492\n",
      "train_epoch: device:  cuda\n",
      "elapased time per epoch:  448.80224609375\n",
      "train_epoch: device:  cuda\n",
      "elapased time per epoch:  468.4808349609375\n",
      "train_epoch: device:  cuda\n",
      "elapased time per epoch:  579.7442626953125\n",
      "train_epoch: device:  cuda\n",
      "elapased time per epoch:  461.0269470214844\n",
      "train_epoch: device:  cuda\n",
      "elapased time per epoch:  458.5193176269531\n",
      "Epoch 10, avg total_loss (per training sample):  0.0008931940774964322\n",
      "train_epoch: device:  cuda\n",
      "elapased time per epoch:  562.5758666992188\n",
      "train_epoch: device:  cuda\n",
      "elapased time per epoch:  454.90069580078125\n",
      "train_epoch: device:  cuda\n",
      "elapased time per epoch:  450.5422668457031\n",
      "train_epoch: device:  cuda\n",
      "elapased time per epoch:  456.4173583984375\n",
      "train_epoch: device:  cuda\n",
      "elapased time per epoch:  526.8432006835938\n",
      "Epoch 15, avg total_loss (per training sample):  0.000870427671457657\n",
      "train_epoch: device:  cuda\n",
      "elapased time per epoch:  461.1169738769531\n",
      "train_epoch: device:  cuda\n",
      "elapased time per epoch:  441.45697021484375\n",
      "train_epoch: device:  cuda\n",
      "elapased time per epoch:  513.4617309570312\n",
      "train_epoch: device:  cuda\n",
      "elapased time per epoch:  452.9734191894531\n",
      "train_epoch: device:  cuda\n",
      "elapased time per epoch:  445.912353515625\n",
      "Epoch 20, avg total_loss (per training sample):  0.0008559010823814832\n",
      "train_epoch: device:  cuda\n",
      "elapased time per epoch:  450.6949157714844\n",
      "train_epoch: device:  cuda\n",
      "elapased time per epoch:  517.80224609375\n",
      "train_epoch: device:  cuda\n",
      "elapased time per epoch:  443.3147277832031\n",
      "train_epoch: device:  cuda\n",
      "elapased time per epoch:  454.48284912109375\n",
      "train_epoch: device:  cuda\n",
      "elapased time per epoch:  442.6867370605469\n",
      "Epoch 25, avg total_loss (per training sample):  0.0008504576460361144\n",
      "train_epoch: device:  cuda\n",
      "elapased time per epoch:  521.145263671875\n",
      "train_epoch: device:  cuda\n",
      "elapased time per epoch:  446.1780700683594\n",
      "train_epoch: device:  cuda\n",
      "elapased time per epoch:  450.6816711425781\n",
      "train_epoch: device:  cuda\n",
      "elapased time per epoch:  447.4049377441406\n"
     ]
    },
    {
     "data": {
      "text/html": [
       "Waiting for W&B process to finish... <strong style=\"color:green\">(success).</strong>"
      ],
      "text/plain": [
       "<IPython.core.display.HTML object>"
      ]
     },
     "metadata": {},
     "output_type": "display_data"
    },
    {
     "data": {
      "application/vnd.jupyter.widget-view+json": {
       "model_id": "f3b605d7141e4748a0fb7a8e0d95b863",
       "version_major": 2,
       "version_minor": 0
      },
      "text/plain": [
       "VBox(children=(Label(value='0.001 MB of 0.001 MB uploaded (0.000 MB deduped)\\r'), FloatProgress(value=1.0, max…"
      ]
     },
     "metadata": {},
     "output_type": "display_data"
    },
    {
     "data": {
      "text/html": [
       "<style>\n",
       "    table.wandb td:nth-child(1) { padding: 0 10px; text-align: left ; width: auto;} td:nth-child(2) {text-align: left ; width: 100%}\n",
       "    .wandb-row { display: flex; flex-direction: row; flex-wrap: wrap; justify-content: flex-start; width: 100% }\n",
       "    .wandb-col { display: flex; flex-direction: column; flex-basis: 100%; flex: 1; padding: 10px; }\n",
       "    </style>\n",
       "<div class=\"wandb-row\"><div class=\"wandb-col\"><h3>Run history:</h3><br/><table class=\"wandb\"><tr><td>epoch</td><td>▁▁▁▂▂▂▂▃▃▃▃▄▄▄▄▅▅▅▅▆▆▆▆▇▇▇▇███</td></tr><tr><td>loss</td><td>█▆▅▄▃▃▃▂▂▃▂▂▂▂▂▂▂▂▂▂▂▂▁▂▁▂▁▁▁▁</td></tr></table><br/></div><div class=\"wandb-col\"><h3>Run summary:</h3><br/><table class=\"wandb\"><tr><td>epoch</td><td>29</td></tr><tr><td>loss</td><td>0.00082</td></tr></table><br/></div></div>"
      ],
      "text/plain": [
       "<IPython.core.display.HTML object>"
      ]
     },
     "metadata": {},
     "output_type": "display_data"
    },
    {
     "data": {
      "text/html": [
       "Synced <strong style=\"color:#cdcd00\">olive-sweep-13</strong>: <a href=\"https://wandb.ai/erlebacher/Copa%20Recommender/runs/e6q2r2a3\" target=\"_blank\">https://wandb.ai/erlebacher/Copa%20Recommender/runs/e6q2r2a3</a><br/>Synced 6 W&B file(s), 0 media file(s), 0 artifact file(s) and 0 other file(s)"
      ],
      "text/plain": [
       "<IPython.core.display.HTML object>"
      ]
     },
     "metadata": {},
     "output_type": "display_data"
    },
    {
     "data": {
      "text/html": [
       "Find logs at: <code>./wandb/run-20220727_013650-e6q2r2a3/logs</code>"
      ],
      "text/plain": [
       "<IPython.core.display.HTML object>"
      ]
     },
     "metadata": {},
     "output_type": "display_data"
    },
    {
     "name": "stderr",
     "output_type": "stream",
     "text": [
      "\u001b[34m\u001b[1mwandb\u001b[0m: Agent Starting Run: dw60bdab with config:\n",
      "\u001b[34m\u001b[1mwandb\u001b[0m: \tbatch_size: 1024\n",
      "\u001b[34m\u001b[1mwandb\u001b[0m: \tdevice: cuda\n",
      "\u001b[34m\u001b[1mwandb\u001b[0m: \tembed_dim: 30\n",
      "\u001b[34m\u001b[1mwandb\u001b[0m: \tepochs: 30\n",
      "\u001b[34m\u001b[1mwandb\u001b[0m: \tlr: 0.03928932062756571\n",
      "\u001b[34m\u001b[1mwandb\u001b[0m: \toptim: adam\n",
      "\u001b[34m\u001b[1mwandb\u001b[0m: \twd: 0.001\n"
     ]
    },
    {
     "data": {
      "text/html": [
       "Tracking run with wandb version 0.12.21"
      ],
      "text/plain": [
       "<IPython.core.display.HTML object>"
      ]
     },
     "metadata": {},
     "output_type": "display_data"
    },
    {
     "data": {
      "text/html": [
       "Run data is saved locally in <code>/home/erlebach/src/2022/copa_recommenders/copa_recommender_data_rankfm/torchfm/wandb/run-20220727_013716-dw60bdab</code>"
      ],
      "text/plain": [
       "<IPython.core.display.HTML object>"
      ]
     },
     "metadata": {},
     "output_type": "display_data"
    },
    {
     "data": {
      "text/html": [
       "Syncing run <strong><a href=\"https://wandb.ai/erlebacher/Copa%20Recommender/runs/dw60bdab\" target=\"_blank\">radiant-sweep-14</a></strong> to <a href=\"https://wandb.ai/erlebacher/Copa%20Recommender\" target=\"_blank\">Weights & Biases</a> (<a href=\"https://wandb.me/run\" target=\"_blank\">docs</a>)<br/>Sweep page:  <a href=\"https://wandb.ai/erlebacher/Copa%20Recommender/sweeps/tj45rn4b\" target=\"_blank\">https://wandb.ai/erlebacher/Copa%20Recommender/sweeps/tj45rn4b</a>"
      ],
      "text/plain": [
       "<IPython.core.display.HTML object>"
      ]
     },
     "metadata": {},
     "output_type": "display_data"
    },
    {
     "name": "stdout",
     "output_type": "stream",
     "text": [
      "(804187, 9)\n",
      "Create torch.tensor on device\n",
      "FeaturesLinear, field_dims:  tensor([46321,    86,     3], device='cuda:0') tensor(46410, device='cuda:0')\n",
      "train_epoch: device:  cuda\n",
      "elapased time per epoch:  449.71722412109375\n",
      "Epoch 0, avg total_loss (per training sample):  0.0011596506091213557\n",
      "train_epoch: device:  cuda\n",
      "elapased time per epoch:  451.0053405761719\n",
      "train_epoch: device:  cuda\n",
      "elapased time per epoch:  517.078125\n",
      "train_epoch: device:  cuda\n",
      "elapased time per epoch:  451.84661865234375\n",
      "train_epoch: device:  cuda\n",
      "elapased time per epoch:  469.38665771484375\n",
      "train_epoch: device:  cuda\n",
      "elapased time per epoch:  454.82696533203125\n",
      "Epoch 5, avg total_loss (per training sample):  0.0009142590240349935\n",
      "train_epoch: device:  cuda\n",
      "elapased time per epoch:  531.6666259765625\n",
      "train_epoch: device:  cuda\n",
      "elapased time per epoch:  447.29193115234375\n",
      "train_epoch: device:  cuda\n",
      "elapased time per epoch:  447.9087829589844\n",
      "train_epoch: device:  cuda\n",
      "elapased time per epoch:  517.601806640625\n",
      "train_epoch: device:  cuda\n",
      "elapased time per epoch:  444.5710754394531\n",
      "Epoch 10, avg total_loss (per training sample):  0.0008543954950434355\n",
      "train_epoch: device:  cuda\n",
      "elapased time per epoch:  456.08026123046875\n",
      "train_epoch: device:  cuda\n",
      "elapased time per epoch:  443.4634704589844\n",
      "train_epoch: device:  cuda\n",
      "elapased time per epoch:  510.9839172363281\n",
      "train_epoch: device:  cuda\n",
      "elapased time per epoch:  450.0060119628906\n",
      "train_epoch: device:  cuda\n",
      "elapased time per epoch:  437.3059387207031\n",
      "Epoch 15, avg total_loss (per training sample):  0.0008465203523850907\n",
      "train_epoch: device:  cuda\n",
      "elapased time per epoch:  454.8318786621094\n",
      "train_epoch: device:  cuda\n",
      "elapased time per epoch:  437.7786865234375\n",
      "train_epoch: device:  cuda\n",
      "elapased time per epoch:  518.01904296875\n",
      "train_epoch: device:  cuda\n",
      "elapased time per epoch:  438.71746826171875\n",
      "train_epoch: device:  cuda\n",
      "elapased time per epoch:  449.1042175292969\n",
      "Epoch 20, avg total_loss (per training sample):  0.0008280819141437001\n",
      "train_epoch: device:  cuda\n",
      "elapased time per epoch:  514.420654296875\n",
      "train_epoch: device:  cuda\n",
      "elapased time per epoch:  444.1300048828125\n",
      "train_epoch: device:  cuda\n",
      "elapased time per epoch:  437.9058532714844\n",
      "train_epoch: device:  cuda\n",
      "elapased time per epoch:  447.9159240722656\n",
      "train_epoch: device:  cuda\n",
      "elapased time per epoch:  454.7174072265625\n",
      "Epoch 25, avg total_loss (per training sample):  0.0008026962836629456\n",
      "train_epoch: device:  cuda\n",
      "elapased time per epoch:  510.2374572753906\n",
      "train_epoch: device:  cuda\n",
      "elapased time per epoch:  439.4512023925781\n",
      "train_epoch: device:  cuda\n",
      "elapased time per epoch:  446.5391540527344\n",
      "train_epoch: device:  cuda\n",
      "elapased time per epoch:  537.1677856445312\n"
     ]
    },
    {
     "data": {
      "text/html": [
       "Waiting for W&B process to finish... <strong style=\"color:green\">(success).</strong>"
      ],
      "text/plain": [
       "<IPython.core.display.HTML object>"
      ]
     },
     "metadata": {},
     "output_type": "display_data"
    },
    {
     "data": {
      "application/vnd.jupyter.widget-view+json": {
       "model_id": "b06ef4150a974a96a39c9e48a10e5eb6",
       "version_major": 2,
       "version_minor": 0
      },
      "text/plain": [
       "VBox(children=(Label(value='0.001 MB of 0.001 MB uploaded (0.000 MB deduped)\\r'), FloatProgress(value=1.0, max…"
      ]
     },
     "metadata": {},
     "output_type": "display_data"
    },
    {
     "data": {
      "text/html": [
       "<style>\n",
       "    table.wandb td:nth-child(1) { padding: 0 10px; text-align: left ; width: auto;} td:nth-child(2) {text-align: left ; width: 100%}\n",
       "    .wandb-row { display: flex; flex-direction: row; flex-wrap: wrap; justify-content: flex-start; width: 100% }\n",
       "    .wandb-col { display: flex; flex-direction: column; flex-basis: 100%; flex: 1; padding: 10px; }\n",
       "    </style>\n",
       "<div class=\"wandb-row\"><div class=\"wandb-col\"><h3>Run history:</h3><br/><table class=\"wandb\"><tr><td>epoch</td><td>▁▁▁▂▂▂▂▃▃▃▃▄▄▄▄▅▅▅▅▆▆▆▆▇▇▇▇███</td></tr><tr><td>loss</td><td>█▇▅▅▄▃▃▃▃▃▂▂▂▂▂▂▂▂▂▂▂▂▂▂▂▁▁▂▁▁</td></tr></table><br/></div><div class=\"wandb-col\"><h3>Run summary:</h3><br/><table class=\"wandb\"><tr><td>epoch</td><td>29</td></tr><tr><td>loss</td><td>0.00078</td></tr></table><br/></div></div>"
      ],
      "text/plain": [
       "<IPython.core.display.HTML object>"
      ]
     },
     "metadata": {},
     "output_type": "display_data"
    },
    {
     "data": {
      "text/html": [
       "Synced <strong style=\"color:#cdcd00\">radiant-sweep-14</strong>: <a href=\"https://wandb.ai/erlebacher/Copa%20Recommender/runs/dw60bdab\" target=\"_blank\">https://wandb.ai/erlebacher/Copa%20Recommender/runs/dw60bdab</a><br/>Synced 6 W&B file(s), 0 media file(s), 0 artifact file(s) and 0 other file(s)"
      ],
      "text/plain": [
       "<IPython.core.display.HTML object>"
      ]
     },
     "metadata": {},
     "output_type": "display_data"
    },
    {
     "data": {
      "text/html": [
       "Find logs at: <code>./wandb/run-20220727_013716-dw60bdab/logs</code>"
      ],
      "text/plain": [
       "<IPython.core.display.HTML object>"
      ]
     },
     "metadata": {},
     "output_type": "display_data"
    },
    {
     "name": "stderr",
     "output_type": "stream",
     "text": [
      "\u001b[34m\u001b[1mwandb\u001b[0m: Agent Starting Run: ltgpckaj with config:\n",
      "\u001b[34m\u001b[1mwandb\u001b[0m: \tbatch_size: 1024\n",
      "\u001b[34m\u001b[1mwandb\u001b[0m: \tdevice: cuda\n",
      "\u001b[34m\u001b[1mwandb\u001b[0m: \tembed_dim: 10\n",
      "\u001b[34m\u001b[1mwandb\u001b[0m: \tepochs: 30\n",
      "\u001b[34m\u001b[1mwandb\u001b[0m: \tlr: 0.030483570906115965\n",
      "\u001b[34m\u001b[1mwandb\u001b[0m: \toptim: adamW\n",
      "\u001b[34m\u001b[1mwandb\u001b[0m: \twd: 1e-05\n"
     ]
    },
    {
     "data": {
      "text/html": [
       "Tracking run with wandb version 0.12.21"
      ],
      "text/plain": [
       "<IPython.core.display.HTML object>"
      ]
     },
     "metadata": {},
     "output_type": "display_data"
    },
    {
     "data": {
      "text/html": [
       "Run data is saved locally in <code>/home/erlebach/src/2022/copa_recommenders/copa_recommender_data_rankfm/torchfm/wandb/run-20220727_013743-ltgpckaj</code>"
      ],
      "text/plain": [
       "<IPython.core.display.HTML object>"
      ]
     },
     "metadata": {},
     "output_type": "display_data"
    },
    {
     "data": {
      "text/html": [
       "Syncing run <strong><a href=\"https://wandb.ai/erlebacher/Copa%20Recommender/runs/ltgpckaj\" target=\"_blank\">rural-sweep-15</a></strong> to <a href=\"https://wandb.ai/erlebacher/Copa%20Recommender\" target=\"_blank\">Weights & Biases</a> (<a href=\"https://wandb.me/run\" target=\"_blank\">docs</a>)<br/>Sweep page:  <a href=\"https://wandb.ai/erlebacher/Copa%20Recommender/sweeps/tj45rn4b\" target=\"_blank\">https://wandb.ai/erlebacher/Copa%20Recommender/sweeps/tj45rn4b</a>"
      ],
      "text/plain": [
       "<IPython.core.display.HTML object>"
      ]
     },
     "metadata": {},
     "output_type": "display_data"
    },
    {
     "name": "stdout",
     "output_type": "stream",
     "text": [
      "(804187, 9)\n",
      "Create torch.tensor on device\n",
      "FeaturesLinear, field_dims:  tensor([46321,    86,     3], device='cuda:0') tensor(46410, device='cuda:0')\n",
      "train_epoch: device:  cuda\n",
      "elapased time per epoch:  465.6015625\n",
      "Epoch 0, avg total_loss (per training sample):  0.001369965567488081\n",
      "train_epoch: device:  cuda\n",
      "elapased time per epoch:  505.4992980957031\n",
      "train_epoch: device:  cuda\n",
      "elapased time per epoch:  433.0456848144531\n",
      "train_epoch: device:  cuda\n",
      "elapased time per epoch:  432.86407470703125\n",
      "train_epoch: device:  cuda\n",
      "elapased time per epoch:  434.4153747558594\n",
      "train_epoch: device:  cuda\n",
      "elapased time per epoch:  495.56866455078125\n",
      "Epoch 5, avg total_loss (per training sample):  0.0009714953519473856\n",
      "train_epoch: device:  cuda\n",
      "elapased time per epoch:  433.6548156738281\n",
      "train_epoch: device:  cuda\n",
      "elapased time per epoch:  443.66455078125\n",
      "train_epoch: device:  cuda\n",
      "elapased time per epoch:  443.5268859863281\n",
      "train_epoch: device:  cuda\n",
      "elapased time per epoch:  525.9188232421875\n",
      "train_epoch: device:  cuda\n",
      "elapased time per epoch:  438.4409484863281\n",
      "Epoch 10, avg total_loss (per training sample):  0.0009129456096597044\n",
      "train_epoch: device:  cuda\n",
      "elapased time per epoch:  451.3854675292969\n",
      "train_epoch: device:  cuda\n",
      "elapased time per epoch:  498.61968994140625\n",
      "train_epoch: device:  cuda\n",
      "elapased time per epoch:  451.7484436035156\n",
      "train_epoch: device:  cuda\n",
      "elapased time per epoch:  507.6163330078125\n",
      "train_epoch: device:  cuda\n",
      "elapased time per epoch:  439.39959716796875\n",
      "Epoch 15, avg total_loss (per training sample):  0.0008737389763695876\n",
      "train_epoch: device:  cuda\n",
      "elapased time per epoch:  436.86212158203125\n",
      "train_epoch: device:  cuda\n",
      "elapased time per epoch:  453.720458984375\n",
      "train_epoch: device:  cuda\n",
      "elapased time per epoch:  532.1907348632812\n",
      "train_epoch: device:  cuda\n",
      "elapased time per epoch:  460.3963623046875\n",
      "train_epoch: device:  cuda\n",
      "elapased time per epoch:  459.3217468261719\n",
      "Epoch 20, avg total_loss (per training sample):  0.0008532648918072375\n",
      "train_epoch: device:  cuda\n",
      "elapased time per epoch:  450.3109436035156\n",
      "train_epoch: device:  cuda\n",
      "elapased time per epoch:  513.6673583984375\n",
      "train_epoch: device:  cuda\n",
      "elapased time per epoch:  445.3265075683594\n",
      "train_epoch: device:  cuda\n",
      "elapased time per epoch:  450.5766296386719\n",
      "train_epoch: device:  cuda\n",
      "elapased time per epoch:  461.0460510253906\n",
      "Epoch 25, avg total_loss (per training sample):  0.0008517341789489653\n",
      "train_epoch: device:  cuda\n",
      "elapased time per epoch:  532.4051513671875\n",
      "train_epoch: device:  cuda\n",
      "elapased time per epoch:  442.46783447265625\n",
      "train_epoch: device:  cuda\n",
      "elapased time per epoch:  452.5530090332031\n",
      "train_epoch: device:  cuda\n",
      "elapased time per epoch:  446.67852783203125\n"
     ]
    },
    {
     "data": {
      "text/html": [
       "Waiting for W&B process to finish... <strong style=\"color:green\">(success).</strong>"
      ],
      "text/plain": [
       "<IPython.core.display.HTML object>"
      ]
     },
     "metadata": {},
     "output_type": "display_data"
    },
    {
     "data": {
      "application/vnd.jupyter.widget-view+json": {
       "model_id": "f9bb0ac3dd0e48a49f4faf61ea363d1e",
       "version_major": 2,
       "version_minor": 0
      },
      "text/plain": [
       "VBox(children=(Label(value='0.001 MB of 0.001 MB uploaded (0.000 MB deduped)\\r'), FloatProgress(value=1.0, max…"
      ]
     },
     "metadata": {},
     "output_type": "display_data"
    },
    {
     "data": {
      "text/html": [
       "<style>\n",
       "    table.wandb td:nth-child(1) { padding: 0 10px; text-align: left ; width: auto;} td:nth-child(2) {text-align: left ; width: 100%}\n",
       "    .wandb-row { display: flex; flex-direction: row; flex-wrap: wrap; justify-content: flex-start; width: 100% }\n",
       "    .wandb-col { display: flex; flex-direction: column; flex-basis: 100%; flex: 1; padding: 10px; }\n",
       "    </style>\n",
       "<div class=\"wandb-row\"><div class=\"wandb-col\"><h3>Run history:</h3><br/><table class=\"wandb\"><tr><td>epoch</td><td>▁▁▁▂▂▂▂▃▃▃▃▄▄▄▄▅▅▅▅▆▆▆▆▇▇▇▇███</td></tr><tr><td>loss</td><td>█▅▄▄▃▃▃▂▂▂▂▂▂▂▁▂▂▁▁▁▁▂▁▁▁▁▁▁▁▁</td></tr></table><br/></div><div class=\"wandb-col\"><h3>Run summary:</h3><br/><table class=\"wandb\"><tr><td>epoch</td><td>29</td></tr><tr><td>loss</td><td>0.00085</td></tr></table><br/></div></div>"
      ],
      "text/plain": [
       "<IPython.core.display.HTML object>"
      ]
     },
     "metadata": {},
     "output_type": "display_data"
    },
    {
     "data": {
      "text/html": [
       "Synced <strong style=\"color:#cdcd00\">rural-sweep-15</strong>: <a href=\"https://wandb.ai/erlebacher/Copa%20Recommender/runs/ltgpckaj\" target=\"_blank\">https://wandb.ai/erlebacher/Copa%20Recommender/runs/ltgpckaj</a><br/>Synced 6 W&B file(s), 0 media file(s), 0 artifact file(s) and 0 other file(s)"
      ],
      "text/plain": [
       "<IPython.core.display.HTML object>"
      ]
     },
     "metadata": {},
     "output_type": "display_data"
    },
    {
     "data": {
      "text/html": [
       "Find logs at: <code>./wandb/run-20220727_013743-ltgpckaj/logs</code>"
      ],
      "text/plain": [
       "<IPython.core.display.HTML object>"
      ]
     },
     "metadata": {},
     "output_type": "display_data"
    },
    {
     "name": "stderr",
     "output_type": "stream",
     "text": [
      "\u001b[34m\u001b[1mwandb\u001b[0m: Agent Starting Run: 4uhudlke with config:\n",
      "\u001b[34m\u001b[1mwandb\u001b[0m: \tbatch_size: 4096\n",
      "\u001b[34m\u001b[1mwandb\u001b[0m: \tdevice: cuda\n",
      "\u001b[34m\u001b[1mwandb\u001b[0m: \tembed_dim: 10\n",
      "\u001b[34m\u001b[1mwandb\u001b[0m: \tepochs: 30\n",
      "\u001b[34m\u001b[1mwandb\u001b[0m: \tlr: 0.04326689682321731\n",
      "\u001b[34m\u001b[1mwandb\u001b[0m: \toptim: adam\n",
      "\u001b[34m\u001b[1mwandb\u001b[0m: \twd: 0.001\n"
     ]
    },
    {
     "data": {
      "text/html": [
       "Tracking run with wandb version 0.12.21"
      ],
      "text/plain": [
       "<IPython.core.display.HTML object>"
      ]
     },
     "metadata": {},
     "output_type": "display_data"
    },
    {
     "data": {
      "text/html": [
       "Run data is saved locally in <code>/home/erlebach/src/2022/copa_recommenders/copa_recommender_data_rankfm/torchfm/wandb/run-20220727_013809-4uhudlke</code>"
      ],
      "text/plain": [
       "<IPython.core.display.HTML object>"
      ]
     },
     "metadata": {},
     "output_type": "display_data"
    },
    {
     "data": {
      "text/html": [
       "Syncing run <strong><a href=\"https://wandb.ai/erlebacher/Copa%20Recommender/runs/4uhudlke\" target=\"_blank\">fresh-sweep-16</a></strong> to <a href=\"https://wandb.ai/erlebacher/Copa%20Recommender\" target=\"_blank\">Weights & Biases</a> (<a href=\"https://wandb.me/run\" target=\"_blank\">docs</a>)<br/>Sweep page:  <a href=\"https://wandb.ai/erlebacher/Copa%20Recommender/sweeps/tj45rn4b\" target=\"_blank\">https://wandb.ai/erlebacher/Copa%20Recommender/sweeps/tj45rn4b</a>"
      ],
      "text/plain": [
       "<IPython.core.display.HTML object>"
      ]
     },
     "metadata": {},
     "output_type": "display_data"
    },
    {
     "name": "stdout",
     "output_type": "stream",
     "text": [
      "(804187, 9)\n",
      "Create torch.tensor on device\n",
      "FeaturesLinear, field_dims:  tensor([46321,    86,     3], device='cuda:0') tensor(46410, device='cuda:0')\n",
      "train_epoch: device:  cuda\n",
      "elapased time per epoch:  487.1710205078125\n",
      "Epoch 0, avg total_loss (per training sample):  0.00130463567844249\n",
      "train_epoch: device:  cuda\n",
      "elapased time per epoch:  528.4822387695312\n",
      "train_epoch: device:  cuda\n",
      "elapased time per epoch:  458.085693359375\n",
      "train_epoch: device:  cuda\n",
      "elapased time per epoch:  469.4407958984375\n",
      "train_epoch: device:  cuda\n",
      "elapased time per epoch:  462.0194091796875\n",
      "train_epoch: device:  cuda\n",
      "elapased time per epoch:  462.34771728515625\n",
      "Epoch 5, avg total_loss (per training sample):  0.0009773288619544223\n",
      "train_epoch: device:  cuda\n",
      "elapased time per epoch:  528.9724731445312\n",
      "train_epoch: device:  cuda\n",
      "elapased time per epoch:  463.45458984375\n",
      "train_epoch: device:  cuda\n",
      "elapased time per epoch:  458.2671813964844\n",
      "train_epoch: device:  cuda\n",
      "elapased time per epoch:  461.6809997558594\n",
      "train_epoch: device:  cuda\n",
      "elapased time per epoch:  530.3153686523438\n",
      "Epoch 10, avg total_loss (per training sample):  0.0009240653989932623\n",
      "train_epoch: device:  cuda\n",
      "elapased time per epoch:  461.7918395996094\n",
      "train_epoch: device:  cuda\n",
      "elapased time per epoch:  460.2601318359375\n",
      "train_epoch: device:  cuda\n",
      "elapased time per epoch:  469.77838134765625\n",
      "train_epoch: device:  cuda\n",
      "elapased time per epoch:  447.7541809082031\n",
      "train_epoch: device:  cuda\n",
      "elapased time per epoch:  538.45068359375\n",
      "Epoch 15, avg total_loss (per training sample):  0.0009069530187495426\n",
      "train_epoch: device:  cuda\n",
      "elapased time per epoch:  493.4398193359375\n",
      "train_epoch: device:  cuda\n",
      "elapased time per epoch:  512.774658203125\n",
      "train_epoch: device:  cuda\n",
      "elapased time per epoch:  484.4671630859375\n",
      "train_epoch: device:  cuda\n",
      "elapased time per epoch:  541.6592407226562\n",
      "train_epoch: device:  cuda\n",
      "elapased time per epoch:  469.7354736328125\n",
      "Epoch 20, avg total_loss (per training sample):  0.0008866761190976075\n",
      "train_epoch: device:  cuda\n",
      "elapased time per epoch:  475.6382141113281\n",
      "train_epoch: device:  cuda\n",
      "elapased time per epoch:  477.8955383300781\n",
      "train_epoch: device:  cuda\n",
      "elapased time per epoch:  546.5711059570312\n",
      "train_epoch: device:  cuda\n",
      "elapased time per epoch:  484.6147155761719\n",
      "train_epoch: device:  cuda\n",
      "elapased time per epoch:  488.3271179199219\n",
      "Epoch 25, avg total_loss (per training sample):  0.0008933426993355469\n",
      "train_epoch: device:  cuda\n",
      "elapased time per epoch:  465.8451232910156\n",
      "train_epoch: device:  cuda\n",
      "elapased time per epoch:  542.9978637695312\n",
      "train_epoch: device:  cuda\n",
      "elapased time per epoch:  444.2708435058594\n",
      "train_epoch: device:  cuda\n",
      "elapased time per epoch:  487.7637023925781\n"
     ]
    },
    {
     "data": {
      "text/html": [
       "Waiting for W&B process to finish... <strong style=\"color:green\">(success).</strong>"
      ],
      "text/plain": [
       "<IPython.core.display.HTML object>"
      ]
     },
     "metadata": {},
     "output_type": "display_data"
    },
    {
     "data": {
      "application/vnd.jupyter.widget-view+json": {
       "model_id": "905eebf59a9c40d4969444172e18176b",
       "version_major": 2,
       "version_minor": 0
      },
      "text/plain": [
       "VBox(children=(Label(value='0.001 MB of 0.001 MB uploaded (0.000 MB deduped)\\r'), FloatProgress(value=1.0, max…"
      ]
     },
     "metadata": {},
     "output_type": "display_data"
    },
    {
     "data": {
      "text/html": [
       "<style>\n",
       "    table.wandb td:nth-child(1) { padding: 0 10px; text-align: left ; width: auto;} td:nth-child(2) {text-align: left ; width: 100%}\n",
       "    .wandb-row { display: flex; flex-direction: row; flex-wrap: wrap; justify-content: flex-start; width: 100% }\n",
       "    .wandb-col { display: flex; flex-direction: column; flex-basis: 100%; flex: 1; padding: 10px; }\n",
       "    </style>\n",
       "<div class=\"wandb-row\"><div class=\"wandb-col\"><h3>Run history:</h3><br/><table class=\"wandb\"><tr><td>epoch</td><td>▁▁▁▂▂▂▂▃▃▃▃▄▄▄▄▅▅▅▅▆▆▆▆▇▇▇▇███</td></tr><tr><td>loss</td><td>█▅▄▄▃▃▂▂▂▂▂▂▂▂▂▂▁▂▁▁▁▁▁▁▁▁▁▁▁▁</td></tr></table><br/></div><div class=\"wandb-col\"><h3>Run summary:</h3><br/><table class=\"wandb\"><tr><td>epoch</td><td>29</td></tr><tr><td>loss</td><td>0.00088</td></tr></table><br/></div></div>"
      ],
      "text/plain": [
       "<IPython.core.display.HTML object>"
      ]
     },
     "metadata": {},
     "output_type": "display_data"
    },
    {
     "data": {
      "text/html": [
       "Synced <strong style=\"color:#cdcd00\">fresh-sweep-16</strong>: <a href=\"https://wandb.ai/erlebacher/Copa%20Recommender/runs/4uhudlke\" target=\"_blank\">https://wandb.ai/erlebacher/Copa%20Recommender/runs/4uhudlke</a><br/>Synced 6 W&B file(s), 0 media file(s), 0 artifact file(s) and 0 other file(s)"
      ],
      "text/plain": [
       "<IPython.core.display.HTML object>"
      ]
     },
     "metadata": {},
     "output_type": "display_data"
    },
    {
     "data": {
      "text/html": [
       "Find logs at: <code>./wandb/run-20220727_013809-4uhudlke/logs</code>"
      ],
      "text/plain": [
       "<IPython.core.display.HTML object>"
      ]
     },
     "metadata": {},
     "output_type": "display_data"
    },
    {
     "name": "stderr",
     "output_type": "stream",
     "text": [
      "\u001b[34m\u001b[1mwandb\u001b[0m: Agent Starting Run: hy5eg89s with config:\n",
      "\u001b[34m\u001b[1mwandb\u001b[0m: \tbatch_size: 128\n",
      "\u001b[34m\u001b[1mwandb\u001b[0m: \tdevice: cuda\n",
      "\u001b[34m\u001b[1mwandb\u001b[0m: \tembed_dim: 10\n",
      "\u001b[34m\u001b[1mwandb\u001b[0m: \tepochs: 30\n",
      "\u001b[34m\u001b[1mwandb\u001b[0m: \tlr: 0.013099942892920692\n",
      "\u001b[34m\u001b[1mwandb\u001b[0m: \toptim: adam\n",
      "\u001b[34m\u001b[1mwandb\u001b[0m: \twd: 1e-05\n"
     ]
    },
    {
     "data": {
      "text/html": [
       "Tracking run with wandb version 0.12.21"
      ],
      "text/plain": [
       "<IPython.core.display.HTML object>"
      ]
     },
     "metadata": {},
     "output_type": "display_data"
    },
    {
     "data": {
      "text/html": [
       "Run data is saved locally in <code>/home/erlebach/src/2022/copa_recommenders/copa_recommender_data_rankfm/torchfm/wandb/run-20220727_013836-hy5eg89s</code>"
      ],
      "text/plain": [
       "<IPython.core.display.HTML object>"
      ]
     },
     "metadata": {},
     "output_type": "display_data"
    },
    {
     "data": {
      "text/html": [
       "Syncing run <strong><a href=\"https://wandb.ai/erlebacher/Copa%20Recommender/runs/hy5eg89s\" target=\"_blank\">whole-sweep-17</a></strong> to <a href=\"https://wandb.ai/erlebacher/Copa%20Recommender\" target=\"_blank\">Weights & Biases</a> (<a href=\"https://wandb.me/run\" target=\"_blank\">docs</a>)<br/>Sweep page:  <a href=\"https://wandb.ai/erlebacher/Copa%20Recommender/sweeps/tj45rn4b\" target=\"_blank\">https://wandb.ai/erlebacher/Copa%20Recommender/sweeps/tj45rn4b</a>"
      ],
      "text/plain": [
       "<IPython.core.display.HTML object>"
      ]
     },
     "metadata": {},
     "output_type": "display_data"
    },
    {
     "name": "stdout",
     "output_type": "stream",
     "text": [
      "(804187, 9)\n",
      "Create torch.tensor on device\n",
      "FeaturesLinear, field_dims:  tensor([46321,    86,     3], device='cuda:0') tensor(46410, device='cuda:0')\n",
      "train_epoch: device:  cuda\n",
      "elapased time per epoch:  468.1512756347656\n",
      "Epoch 0, avg total_loss (per training sample):  0.0014823028627399216\n",
      "train_epoch: device:  cuda\n",
      "elapased time per epoch:  482.0791320800781\n",
      "train_epoch: device:  cuda\n",
      "elapased time per epoch:  464.6546936035156\n",
      "train_epoch: device:  cuda\n",
      "elapased time per epoch:  519.667724609375\n",
      "train_epoch: device:  cuda\n",
      "elapased time per epoch:  447.3592529296875\n",
      "train_epoch: device:  cuda\n",
      "elapased time per epoch:  447.82806396484375\n",
      "Epoch 5, avg total_loss (per training sample):  0.0010784211926887631\n",
      "train_epoch: device:  cuda\n",
      "elapased time per epoch:  449.8087158203125\n",
      "train_epoch: device:  cuda\n",
      "elapased time per epoch:  455.3436279296875\n",
      "train_epoch: device:  cuda\n",
      "elapased time per epoch:  514.5716552734375\n",
      "train_epoch: device:  cuda\n",
      "elapased time per epoch:  453.2630920410156\n",
      "train_epoch: device:  cuda\n",
      "elapased time per epoch:  445.6837158203125\n",
      "Epoch 10, avg total_loss (per training sample):  0.000989225657277577\n",
      "train_epoch: device:  cuda\n",
      "elapased time per epoch:  453.82733154296875\n",
      "train_epoch: device:  cuda\n",
      "elapased time per epoch:  516.9715576171875\n",
      "train_epoch: device:  cuda\n",
      "elapased time per epoch:  442.6601867675781\n",
      "train_epoch: device:  cuda\n",
      "elapased time per epoch:  460.41729736328125\n",
      "train_epoch: device:  cuda\n",
      "elapased time per epoch:  446.15679931640625\n",
      "Epoch 15, avg total_loss (per training sample):  0.0009466616471428709\n",
      "train_epoch: device:  cuda\n",
      "elapased time per epoch:  454.52618408203125\n",
      "train_epoch: device:  cuda\n",
      "elapased time per epoch:  444.49822998046875\n",
      "train_epoch: device:  cuda\n",
      "elapased time per epoch:  514.261474609375\n",
      "train_epoch: device:  cuda\n",
      "elapased time per epoch:  444.8926696777344\n",
      "train_epoch: device:  cuda\n",
      "elapased time per epoch:  444.2496337890625\n",
      "Epoch 20, avg total_loss (per training sample):  0.0009120579836917661\n",
      "train_epoch: device:  cuda\n",
      "elapased time per epoch:  445.45501708984375\n",
      "train_epoch: device:  cuda\n",
      "elapased time per epoch:  452.0644226074219\n",
      "train_epoch: device:  cuda\n",
      "elapased time per epoch:  517.3410034179688\n",
      "train_epoch: device:  cuda\n",
      "elapased time per epoch:  447.904052734375\n",
      "train_epoch: device:  cuda\n",
      "elapased time per epoch:  462.7595520019531\n",
      "Epoch 25, avg total_loss (per training sample):  0.0009092683033432051\n",
      "train_epoch: device:  cuda\n",
      "elapased time per epoch:  461.821533203125\n",
      "train_epoch: device:  cuda\n",
      "elapased time per epoch:  523.6510620117188\n",
      "train_epoch: device:  cuda\n",
      "elapased time per epoch:  452.55291748046875\n",
      "train_epoch: device:  cuda\n",
      "elapased time per epoch:  453.4633483886719\n"
     ]
    },
    {
     "data": {
      "text/html": [
       "Waiting for W&B process to finish... <strong style=\"color:green\">(success).</strong>"
      ],
      "text/plain": [
       "<IPython.core.display.HTML object>"
      ]
     },
     "metadata": {},
     "output_type": "display_data"
    },
    {
     "data": {
      "application/vnd.jupyter.widget-view+json": {
       "model_id": "c393b3318ff24cc98c97841930e94f9a",
       "version_major": 2,
       "version_minor": 0
      },
      "text/plain": [
       "VBox(children=(Label(value='0.001 MB of 0.001 MB uploaded (0.000 MB deduped)\\r'), FloatProgress(value=1.0, max…"
      ]
     },
     "metadata": {},
     "output_type": "display_data"
    },
    {
     "data": {
      "text/html": [
       "<style>\n",
       "    table.wandb td:nth-child(1) { padding: 0 10px; text-align: left ; width: auto;} td:nth-child(2) {text-align: left ; width: 100%}\n",
       "    .wandb-row { display: flex; flex-direction: row; flex-wrap: wrap; justify-content: flex-start; width: 100% }\n",
       "    .wandb-col { display: flex; flex-direction: column; flex-basis: 100%; flex: 1; padding: 10px; }\n",
       "    </style>\n",
       "<div class=\"wandb-row\"><div class=\"wandb-col\"><h3>Run history:</h3><br/><table class=\"wandb\"><tr><td>epoch</td><td>▁▁▁▂▂▂▂▃▃▃▃▄▄▄▄▅▅▅▅▆▆▆▆▇▇▇▇███</td></tr><tr><td>loss</td><td>█▆▅▄▃▃▃▃▂▂▂▂▂▂▂▂▂▁▂▁▁▁▁▁▁▁▁▁▁▁</td></tr></table><br/></div><div class=\"wandb-col\"><h3>Run summary:</h3><br/><table class=\"wandb\"><tr><td>epoch</td><td>29</td></tr><tr><td>loss</td><td>0.00088</td></tr></table><br/></div></div>"
      ],
      "text/plain": [
       "<IPython.core.display.HTML object>"
      ]
     },
     "metadata": {},
     "output_type": "display_data"
    },
    {
     "data": {
      "text/html": [
       "Synced <strong style=\"color:#cdcd00\">whole-sweep-17</strong>: <a href=\"https://wandb.ai/erlebacher/Copa%20Recommender/runs/hy5eg89s\" target=\"_blank\">https://wandb.ai/erlebacher/Copa%20Recommender/runs/hy5eg89s</a><br/>Synced 6 W&B file(s), 0 media file(s), 0 artifact file(s) and 0 other file(s)"
      ],
      "text/plain": [
       "<IPython.core.display.HTML object>"
      ]
     },
     "metadata": {},
     "output_type": "display_data"
    },
    {
     "data": {
      "text/html": [
       "Find logs at: <code>./wandb/run-20220727_013836-hy5eg89s/logs</code>"
      ],
      "text/plain": [
       "<IPython.core.display.HTML object>"
      ]
     },
     "metadata": {},
     "output_type": "display_data"
    },
    {
     "name": "stderr",
     "output_type": "stream",
     "text": [
      "\u001b[34m\u001b[1mwandb\u001b[0m: Agent Starting Run: 7hsad4mz with config:\n",
      "\u001b[34m\u001b[1mwandb\u001b[0m: \tbatch_size: 512\n",
      "\u001b[34m\u001b[1mwandb\u001b[0m: \tdevice: cuda\n",
      "\u001b[34m\u001b[1mwandb\u001b[0m: \tembed_dim: 30\n",
      "\u001b[34m\u001b[1mwandb\u001b[0m: \tepochs: 30\n",
      "\u001b[34m\u001b[1mwandb\u001b[0m: \tlr: 0.03338444573088391\n",
      "\u001b[34m\u001b[1mwandb\u001b[0m: \toptim: adamW\n",
      "\u001b[34m\u001b[1mwandb\u001b[0m: \twd: 0.001\n"
     ]
    },
    {
     "data": {
      "text/html": [
       "Tracking run with wandb version 0.12.21"
      ],
      "text/plain": [
       "<IPython.core.display.HTML object>"
      ]
     },
     "metadata": {},
     "output_type": "display_data"
    },
    {
     "data": {
      "text/html": [
       "Run data is saved locally in <code>/home/erlebach/src/2022/copa_recommenders/copa_recommender_data_rankfm/torchfm/wandb/run-20220727_013902-7hsad4mz</code>"
      ],
      "text/plain": [
       "<IPython.core.display.HTML object>"
      ]
     },
     "metadata": {},
     "output_type": "display_data"
    },
    {
     "data": {
      "text/html": [
       "Syncing run <strong><a href=\"https://wandb.ai/erlebacher/Copa%20Recommender/runs/7hsad4mz\" target=\"_blank\">sweet-sweep-18</a></strong> to <a href=\"https://wandb.ai/erlebacher/Copa%20Recommender\" target=\"_blank\">Weights & Biases</a> (<a href=\"https://wandb.me/run\" target=\"_blank\">docs</a>)<br/>Sweep page:  <a href=\"https://wandb.ai/erlebacher/Copa%20Recommender/sweeps/tj45rn4b\" target=\"_blank\">https://wandb.ai/erlebacher/Copa%20Recommender/sweeps/tj45rn4b</a>"
      ],
      "text/plain": [
       "<IPython.core.display.HTML object>"
      ]
     },
     "metadata": {},
     "output_type": "display_data"
    },
    {
     "name": "stdout",
     "output_type": "stream",
     "text": [
      "(804187, 9)\n",
      "Create torch.tensor on device\n",
      "FeaturesLinear, field_dims:  tensor([46321,    86,     3], device='cuda:0') tensor(46410, device='cuda:0')\n",
      "train_epoch: device:  cuda\n",
      "elapased time per epoch:  449.25152587890625\n",
      "Epoch 0, avg total_loss (per training sample):  0.0011904604640110743\n",
      "train_epoch: device:  cuda\n",
      "elapased time per epoch:  450.3763427734375\n",
      "train_epoch: device:  cuda\n",
      "elapased time per epoch:  457.7994384765625\n",
      "train_epoch: device:  cuda\n",
      "elapased time per epoch:  456.53106689453125\n",
      "train_epoch: device:  cuda\n",
      "elapased time per epoch:  451.34771728515625\n",
      "train_epoch: device:  cuda\n",
      "elapased time per epoch:  517.6766967773438\n",
      "Epoch 5, avg total_loss (per training sample):  0.0009415336067526396\n",
      "train_epoch: device:  cuda\n",
      "elapased time per epoch:  451.455078125\n",
      "train_epoch: device:  cuda\n",
      "elapased time per epoch:  446.8780517578125\n",
      "train_epoch: device:  cuda\n",
      "elapased time per epoch:  448.8956298828125\n",
      "train_epoch: device:  cuda\n",
      "elapased time per epoch:  455.6852722167969\n",
      "train_epoch: device:  cuda\n",
      "elapased time per epoch:  513.7318115234375\n",
      "Epoch 10, avg total_loss (per training sample):  0.0008634901690575882\n",
      "train_epoch: device:  cuda\n",
      "elapased time per epoch:  448.2517395019531\n",
      "train_epoch: device:  cuda\n",
      "elapased time per epoch:  450.4355773925781\n",
      "train_epoch: device:  cuda\n",
      "elapased time per epoch:  454.6441955566406\n",
      "train_epoch: device:  cuda\n",
      "elapased time per epoch:  456.8551025390625\n",
      "train_epoch: device:  cuda\n",
      "elapased time per epoch:  453.5700378417969\n",
      "Epoch 15, avg total_loss (per training sample):  0.000858825191696505\n",
      "train_epoch: device:  cuda\n",
      "elapased time per epoch:  455.1007995605469\n",
      "train_epoch: device:  cuda\n",
      "elapased time per epoch:  518.50537109375\n",
      "train_epoch: device:  cuda\n",
      "elapased time per epoch:  445.54241943359375\n",
      "train_epoch: device:  cuda\n",
      "elapased time per epoch:  468.5318298339844\n",
      "train_epoch: device:  cuda\n",
      "elapased time per epoch:  458.0104064941406\n",
      "Epoch 20, avg total_loss (per training sample):  0.0008336558111051973\n",
      "train_epoch: device:  cuda\n",
      "elapased time per epoch:  450.70751953125\n",
      "train_epoch: device:  cuda\n",
      "elapased time per epoch:  448.3763732910156\n",
      "train_epoch: device:  cuda\n",
      "elapased time per epoch:  445.2550354003906\n",
      "train_epoch: device:  cuda\n",
      "elapased time per epoch:  513.3837890625\n",
      "train_epoch: device:  cuda\n",
      "elapased time per epoch:  456.5223693847656\n",
      "Epoch 25, avg total_loss (per training sample):  0.000797870433085317\n",
      "train_epoch: device:  cuda\n",
      "elapased time per epoch:  452.44195556640625\n",
      "train_epoch: device:  cuda\n",
      "elapased time per epoch:  448.6537780761719\n",
      "train_epoch: device:  cuda\n",
      "elapased time per epoch:  449.51287841796875\n",
      "train_epoch: device:  cuda\n",
      "elapased time per epoch:  447.7948303222656\n"
     ]
    },
    {
     "data": {
      "text/html": [
       "Waiting for W&B process to finish... <strong style=\"color:green\">(success).</strong>"
      ],
      "text/plain": [
       "<IPython.core.display.HTML object>"
      ]
     },
     "metadata": {},
     "output_type": "display_data"
    },
    {
     "data": {
      "application/vnd.jupyter.widget-view+json": {
       "model_id": "f724fe9d4ae54613a16d2b3fa512e723",
       "version_major": 2,
       "version_minor": 0
      },
      "text/plain": [
       "VBox(children=(Label(value='0.001 MB of 0.001 MB uploaded (0.000 MB deduped)\\r'), FloatProgress(value=1.0, max…"
      ]
     },
     "metadata": {},
     "output_type": "display_data"
    },
    {
     "data": {
      "text/html": [
       "<style>\n",
       "    table.wandb td:nth-child(1) { padding: 0 10px; text-align: left ; width: auto;} td:nth-child(2) {text-align: left ; width: 100%}\n",
       "    .wandb-row { display: flex; flex-direction: row; flex-wrap: wrap; justify-content: flex-start; width: 100% }\n",
       "    .wandb-col { display: flex; flex-direction: column; flex-basis: 100%; flex: 1; padding: 10px; }\n",
       "    </style>\n",
       "<div class=\"wandb-row\"><div class=\"wandb-col\"><h3>Run history:</h3><br/><table class=\"wandb\"><tr><td>epoch</td><td>▁▁▁▂▂▂▂▃▃▃▃▄▄▄▄▅▅▅▅▆▆▆▆▇▇▇▇███</td></tr><tr><td>loss</td><td>█▆▆▅▄▄▃▃▃▂▂▃▂▂▂▂▂▂▂▂▂▂▂▁▁▁▁▁▁▁</td></tr></table><br/></div><div class=\"wandb-col\"><h3>Run summary:</h3><br/><table class=\"wandb\"><tr><td>epoch</td><td>29</td></tr><tr><td>loss</td><td>0.00078</td></tr></table><br/></div></div>"
      ],
      "text/plain": [
       "<IPython.core.display.HTML object>"
      ]
     },
     "metadata": {},
     "output_type": "display_data"
    },
    {
     "data": {
      "text/html": [
       "Synced <strong style=\"color:#cdcd00\">sweet-sweep-18</strong>: <a href=\"https://wandb.ai/erlebacher/Copa%20Recommender/runs/7hsad4mz\" target=\"_blank\">https://wandb.ai/erlebacher/Copa%20Recommender/runs/7hsad4mz</a><br/>Synced 6 W&B file(s), 0 media file(s), 0 artifact file(s) and 0 other file(s)"
      ],
      "text/plain": [
       "<IPython.core.display.HTML object>"
      ]
     },
     "metadata": {},
     "output_type": "display_data"
    },
    {
     "data": {
      "text/html": [
       "Find logs at: <code>./wandb/run-20220727_013902-7hsad4mz/logs</code>"
      ],
      "text/plain": [
       "<IPython.core.display.HTML object>"
      ]
     },
     "metadata": {},
     "output_type": "display_data"
    },
    {
     "name": "stderr",
     "output_type": "stream",
     "text": [
      "\u001b[34m\u001b[1mwandb\u001b[0m: Sweep Agent: Waiting for job.\n",
      "\u001b[34m\u001b[1mwandb\u001b[0m: Job received.\n",
      "\u001b[34m\u001b[1mwandb\u001b[0m: Agent Starting Run: f9wlh7at with config:\n",
      "\u001b[34m\u001b[1mwandb\u001b[0m: \tbatch_size: 512\n",
      "\u001b[34m\u001b[1mwandb\u001b[0m: \tdevice: cuda\n",
      "\u001b[34m\u001b[1mwandb\u001b[0m: \tembed_dim: 30\n",
      "\u001b[34m\u001b[1mwandb\u001b[0m: \tepochs: 30\n",
      "\u001b[34m\u001b[1mwandb\u001b[0m: \tlr: 0.013200838752628556\n",
      "\u001b[34m\u001b[1mwandb\u001b[0m: \toptim: adam\n",
      "\u001b[34m\u001b[1mwandb\u001b[0m: \twd: 0.001\n"
     ]
    },
    {
     "data": {
      "text/html": [
       "Tracking run with wandb version 0.12.21"
      ],
      "text/plain": [
       "<IPython.core.display.HTML object>"
      ]
     },
     "metadata": {},
     "output_type": "display_data"
    },
    {
     "data": {
      "text/html": [
       "Run data is saved locally in <code>/home/erlebach/src/2022/copa_recommenders/copa_recommender_data_rankfm/torchfm/wandb/run-20220727_013934-f9wlh7at</code>"
      ],
      "text/plain": [
       "<IPython.core.display.HTML object>"
      ]
     },
     "metadata": {},
     "output_type": "display_data"
    },
    {
     "data": {
      "text/html": [
       "Syncing run <strong><a href=\"https://wandb.ai/erlebacher/Copa%20Recommender/runs/f9wlh7at\" target=\"_blank\">mild-sweep-19</a></strong> to <a href=\"https://wandb.ai/erlebacher/Copa%20Recommender\" target=\"_blank\">Weights & Biases</a> (<a href=\"https://wandb.me/run\" target=\"_blank\">docs</a>)<br/>Sweep page:  <a href=\"https://wandb.ai/erlebacher/Copa%20Recommender/sweeps/tj45rn4b\" target=\"_blank\">https://wandb.ai/erlebacher/Copa%20Recommender/sweeps/tj45rn4b</a>"
      ],
      "text/plain": [
       "<IPython.core.display.HTML object>"
      ]
     },
     "metadata": {},
     "output_type": "display_data"
    },
    {
     "name": "stdout",
     "output_type": "stream",
     "text": [
      "(804187, 9)\n",
      "Create torch.tensor on device\n",
      "FeaturesLinear, field_dims:  tensor([46321,    86,     3], device='cuda:0') tensor(46410, device='cuda:0')\n",
      "train_epoch: device:  cuda\n",
      "elapased time per epoch:  460.73785400390625\n",
      "Epoch 0, avg total_loss (per training sample):  0.0014226548779091494\n",
      "train_epoch: device:  cuda\n",
      "elapased time per epoch:  475.19354248046875\n",
      "train_epoch: device:  cuda\n",
      "elapased time per epoch:  453.1077575683594\n",
      "train_epoch: device:  cuda\n",
      "elapased time per epoch:  449.3650207519531\n",
      "train_epoch: device:  cuda\n",
      "elapased time per epoch:  455.7306823730469\n",
      "train_epoch: device:  cuda\n",
      "elapased time per epoch:  516.085205078125\n",
      "Epoch 5, avg total_loss (per training sample):  0.0010025364371738222\n",
      "train_epoch: device:  cuda\n",
      "elapased time per epoch:  444.9942932128906\n",
      "train_epoch: device:  cuda\n",
      "elapased time per epoch:  461.5966796875\n",
      "train_epoch: device:  cuda\n",
      "elapased time per epoch:  448.57415771484375\n",
      "train_epoch: device:  cuda\n",
      "elapased time per epoch:  459.002685546875\n",
      "train_epoch: device:  cuda\n",
      "elapased time per epoch:  453.0233154296875\n",
      "Epoch 10, avg total_loss (per training sample):  0.0009358749158964976\n",
      "train_epoch: device:  cuda\n",
      "elapased time per epoch:  524.2744750976562\n",
      "train_epoch: device:  cuda\n",
      "elapased time per epoch:  448.7938232421875\n",
      "train_epoch: device:  cuda\n",
      "elapased time per epoch:  446.08349609375\n",
      "train_epoch: device:  cuda\n",
      "elapased time per epoch:  470.3415222167969\n",
      "train_epoch: device:  cuda\n",
      "elapased time per epoch:  447.25689697265625\n",
      "Epoch 15, avg total_loss (per training sample):  0.0008985728126215715\n",
      "train_epoch: device:  cuda\n",
      "elapased time per epoch:  481.10748291015625\n",
      "train_epoch: device:  cuda\n",
      "elapased time per epoch:  459.18865966796875\n",
      "train_epoch: device:  cuda\n",
      "elapased time per epoch:  523.4428100585938\n",
      "train_epoch: device:  cuda\n",
      "elapased time per epoch:  467.61663818359375\n",
      "train_epoch: device:  cuda\n",
      "elapased time per epoch:  454.6877136230469\n",
      "Epoch 20, avg total_loss (per training sample):  0.0008699932563709542\n",
      "train_epoch: device:  cuda\n",
      "elapased time per epoch:  464.7469177246094\n",
      "train_epoch: device:  cuda\n",
      "elapased time per epoch:  462.2368469238281\n",
      "train_epoch: device:  cuda\n",
      "elapased time per epoch:  455.754150390625\n",
      "train_epoch: device:  cuda\n",
      "elapased time per epoch:  447.5862731933594\n",
      "train_epoch: device:  cuda\n",
      "elapased time per epoch:  468.1000671386719\n",
      "Epoch 25, avg total_loss (per training sample):  0.0008636625122607635\n",
      "train_epoch: device:  cuda\n",
      "elapased time per epoch:  467.17401123046875\n",
      "train_epoch: device:  cuda\n",
      "elapased time per epoch:  524.5573120117188\n",
      "train_epoch: device:  cuda\n",
      "elapased time per epoch:  446.32403564453125\n",
      "train_epoch: device:  cuda\n"
     ]
    }
   ],
   "source": [
    "wandb.agent(sweep_id, train, count=20)"
   ]
  },
  {
   "cell_type": "code",
   "execution_count": null,
   "id": "46fb9ca7-b9c3-4417-8dba-068560a99d59",
   "metadata": {},
   "outputs": [],
   "source": []
  },
  {
   "cell_type": "code",
   "execution_count": null,
   "id": "d1011dca-849d-4d2b-80ee-69d48fdb0c1e",
   "metadata": {},
   "outputs": [],
   "source": []
  },
  {
   "cell_type": "code",
   "execution_count": null,
   "id": "cb8817ac-2ece-4798-9ec8-10e4194581a8",
   "metadata": {},
   "outputs": [],
   "source": [
    "\n",
    "run = wandb.init(project=\"Copa Recommender\",\n",
    "            config=config,\n",
    "            save_code=True)\n",
    "\n",
    "# Optional\n",
    "wandb.watch(net)  # model"
   ]
  },
  {
   "cell_type": "code",
   "execution_count": null,
   "id": "5694dda0-8fbd-460a-98a0-14584e4abfd9",
   "metadata": {},
   "outputs": [],
   "source": [
    "wanda_dict = AttrDict()\n",
    "to_save = [\"embed_dim\", \"nb_epochs\", \"lr\", \"wd\", \"optim\", \"batch_size\", \"nb_epochs\", \"device\"]\n",
    "for s in to_save:\n",
    "    wanda_dict[s] = dct[s]"
   ]
  },
  {
   "cell_type": "code",
   "execution_count": null,
   "id": "2b53f5c5-cd74-47b0-a8d7-e713f7c8add4",
   "metadata": {},
   "outputs": [],
   "source": [
    "optimizer, loss_func = myfm.setup_trainer(net, dct)"
   ]
  },
  {
   "cell_type": "markdown",
   "id": "9b76f2df-0c30-4754-a366-9d0a7fcbac59",
   "metadata": {},
   "source": [
    "## Candidate items to add to the Wandab logging dictionary\n",
    "* Average time per iteration\n",
    "* Time for set up\n",
    "\n",
    "## To do\n",
    "* How to save dependencies python files? \n",
    "* Work under poetry to make sure I have the proper Python environment"
   ]
  },
  {
   "cell_type": "code",
   "execution_count": null,
   "id": "ddf37e52-cfd0-4303-8475-71ea15bf9a83",
   "metadata": {
    "tags": []
   },
   "outputs": [],
   "source": [
    "%%time\n",
    "nb_epochs = dct.nb_epochs\n",
    "print(\"nb_epochs: \", dct.nb_epochs)\n",
    "losses = []\n",
    "print(\"dct.keys(): \", dct.keys())\n",
    "print(\"user attr str: \", dct.user_attrib_str)\n",
    "print(\"item attr str: \", dct.item_attrib_str)\n",
    "print(\"device: \", dct.device)\n",
    "\n",
    "lowest_loss = 1.e10\n",
    "lowest_epoch = 0\n",
    "\n",
    "loader_train = DataLoader(dataset_train, shuffle=True, batch_size=dct.batch_size)  # Already defined\n",
    "\n",
    "for epoch in range(nb_epochs):   # replace gdct['device'] by dct.device\n",
    "    total_loss = myfm.train_epoch_new(net, optimizer, loader_train, loss_func, device=dct['device'], log_interval=10)\n",
    "    if epoch == 0:\n",
    "        wandb.run.summary[\"initial_loss\"] = total_loss\n",
    "    if total_loss < lowest_loss:\n",
    "        lowest_loss = total_loss\n",
    "        epoch_lowest_loss = epoch\n",
    "        wandb.run.summary[\"lowest_loss\"] = lowest_loss\n",
    "        wandb.run.summary[\"epoch_lowest_loss\"] = epoch_lowest_loss\n",
    "    losses.append(total_loss)\n",
    "    if epoch % 1 == 0:\n",
    "        print(f\"Epoch {epoch}, avg total_loss (per training sample): \", total_loss)\n",
    "        \n",
    "    wandb.log({\"loss\": total_loss, \"epoch\":epoch})\n",
    "        \n",
    "#  ERROR: Check that all variables are on the same device. HOW TO DO THIS? try 'cuda'\n",
    "#  8500 training samples\n",
    "# time GPU, 5.6 sec for 4 epochs, batch 512\n",
    "# time CPU, 5.8 sec for 4 epochs, batch 512\n",
    "# time CPU, 7.1 sec for 4 epochs, batch 32\n",
    "# time CPU, 5.7 sec for 4 epochs, batch 4096\n",
    "# time CPU, 6.8 sec for 4 epochs, batch 32\n",
    "# time GPU, 7.0 sec for 4 epochs, batch 32\n",
    "# time GPU, 5.0 sec for 4 epochs, batch 4096\n",
    "\n",
    "# ERROR? The loss per training sample should be independent of the batch size\n",
    "\n",
    "# x: one of its elements is 46475, and yet, the max index should be  46458. Why is this happening? Max index should be 46410 (sum of field_dims)\n",
    "\n",
    "# I may need to improve my selection of negative samples to speed up convergence. This is much much slower than rankfm. Why? \n",
    "# 1) I might have an error\n",
    "# 2) rankfm is written in C. So I should compare convergence rates between the two when running only MEMBER_ID, DEST, GENDER as one-hot encoded attributes. \n",
    "# It is also time to get wandb going so I can save my data. \n",
    "# What do I want to save? \n",
    "#   total_loss, lr, nb_epochs, device, optim, batch_size, wd, embed_dim"
   ]
  },
  {
   "cell_type": "code",
   "execution_count": null,
   "id": "109c54ab-7ecc-47a0-aed0-50777302640e",
   "metadata": {},
   "outputs": [],
   "source": [
    "dct.keys()"
   ]
  },
  {
   "cell_type": "code",
   "execution_count": null,
   "id": "bddaa5ef-8548-4d19-9f29-1011db2d8b43",
   "metadata": {},
   "outputs": [],
   "source": [
    "list(net.parameters())[0].get_device()  # -1 for cpu"
   ]
  },
  {
   "cell_type": "code",
   "execution_count": null,
   "id": "a2241a66-bf4c-4674-93b5-95d7e06ee0fa",
   "metadata": {},
   "outputs": [],
   "source": [
    "a = list(net.parameters())[0].device\n",
    "a"
   ]
  },
  {
   "cell_type": "code",
   "execution_count": null,
   "id": "f29a0b07-3225-4a0d-af60-67ec09332a1a",
   "metadata": {},
   "outputs": [],
   "source": [
    "%%time\n",
    "test_iter = data_dict['train_iter']\n",
    "print(\"length: \", len(test_iter.dataset))\n",
    "test_iter = DataLoader(data_dict['train_data'], batch_size=4*1024, shuffle=True)\n",
    "# fields: original dataframe as a torch array\n",
    "# scores: scores from original dataframe\n",
    "fields, scores = myfm.test_accuracy(net, test_iter, 'cpu')"
   ]
  },
  {
   "cell_type": "code",
   "execution_count": null,
   "id": "839cf2b3-5fd8-4917-9212-ce2c673e8ade",
   "metadata": {},
   "outputs": [],
   "source": [
    "for i,data in enumerate(test_iter):\n",
    "    # data[0].shape = (B,3). Elements are member, item, age\n",
    "    print(i, data[0].shape, data[1].shape, data[2].shape)\n",
    "    break"
   ]
  },
  {
   "cell_type": "markdown",
   "id": "7ebeddc4-69ea-4751-bfc8-8cc798694cbf",
   "metadata": {
    "tags": []
   },
   "source": [
    "Select a sample of members, and compute scores for all destinations"
   ]
  },
  {
   "cell_type": "code",
   "execution_count": null,
   "id": "18d9ea35-ea0a-4f2e-906e-4c1784066c56",
   "metadata": {},
   "outputs": [],
   "source": [
    "data_iter = data_dict['train_iter']\n",
    "data_iter.dataset.dct.keys()\n",
    "dct = data_iter.dataset.dct\n",
    "dct.keys()"
   ]
  },
  {
   "cell_type": "code",
   "execution_count": null,
   "id": "26192e5a-2c67-42e0-8b9c-2f0dd13dc1f2",
   "metadata": {},
   "outputs": [],
   "source": [
    "df = data_iter.dataset.df # dataframe\n",
    "print(df.shape)\n",
    "nb_members = 1000  # select random members\n",
    "max_member = df['MEMBER_ID'].max()\n",
    "max_dest = df['D'].max()\n",
    "members = random.sample(range(0,max_member), 100)\n",
    "destinations = list(range(0,max_dest+1))  # 0, 1, ..., max_dest\n",
    "print(\"dest: \", destinations)\n",
    "print(\"members[0]: \", members[0])\n",
    "print(\"Size: \", df.groupby(['MEMBER_ID','D']).size().sum())\n",
    "row = df.iloc[members[0],:]\n",
    "print(\"row: \", row)\n",
    "\n",
    "# create a dataframe with members*max_dest rows. 10000*100 = one million\n",
    "# How to do this? \n",
    "#  1. create a specialized Dataset\n",
    "\n",
    "#print('member_attr: ', dct['member_attr'])\n",
    "#dct['idx2member'].keys()"
   ]
  },
  {
   "cell_type": "code",
   "execution_count": null,
   "id": "14558845-92fa-4392-8b85-859d1cd6c50a",
   "metadata": {},
   "outputs": [],
   "source": [
    "data = myfm.AccuracyDataset(data_iter.dataset, destinations)\n",
    "len(data)"
   ]
  },
  {
   "cell_type": "code",
   "execution_count": null,
   "id": "bb925305-b64e-4f4a-b184-f8acdd81efa6",
   "metadata": {},
   "outputs": [],
   "source": [
    "# shuffling is irrelevant\n",
    "accuracy_loader = DataLoader(data, batch_size=4096, shuffle=False)\n",
    "#accuracy_loader = DataLoader(data, batch_size=gdct['batch_size'], shuffle=False)"
   ]
  },
  {
   "cell_type": "code",
   "execution_count": null,
   "id": "df5abff8-3d50-403b-9655-c5c0e9681ab8",
   "metadata": {
    "tags": []
   },
   "outputs": [],
   "source": [
    "fields, predict = myfm.test_accuracy(net, train_iter, 'cpu')\n",
    "\n",
    "print(\"fields: \", fields[0:5])\n",
    "print(\"predict: \", predict[0:5])\n",
    "\n",
    "# Strong decrease in loss. However, is this overfitting? \n",
    "# TODO: create a pair-wise approach. So define negative samples. \n",
    "# Could weigh the negative samples: flights not taken in the further back in time would have higher weight \n",
    "#  than more recent flights. Is that reasonable? "
   ]
  },
  {
   "cell_type": "code",
   "execution_count": null,
   "id": "2ace401a-e426-4de1-8df6-a12c4a915e4d",
   "metadata": {
    "tags": []
   },
   "outputs": [],
   "source": [
    "fields, predict = myfm.test_accuracy(net, accuracy_loader, 'cpu')\n",
    "\n",
    "print(\"fields: \", fields[0:5])\n",
    "print(\"predict: \", predict[0:50])\n",
    "print(fields.shape, predict.shape)\n",
    "\n",
    "# Strong decrease in loss. However, is this overfitting? \n",
    "# TODO: create a pair-wise approach. So define negative samples. \n",
    "# Could weigh the negative samples: flights not taken in the further back in time would have higher weight \n",
    "#  than more recent flights. Is that reasonable? "
   ]
  },
  {
   "cell_type": "code",
   "execution_count": null,
   "id": "a58f606e-0be6-4667-ba37-390ee6bf01d0",
   "metadata": {},
   "outputs": [],
   "source": [
    "# fields: member_id, dest, age\n",
    "# prediction: score\n",
    "field_np = np.asarray(fields)\n",
    "predict_np = np.asarray(predict)\n",
    "#print(field_np.shape, predict_np.reshape(-1,1).shape)\n",
    "joined = np.concatenate((field_np, predict_np.reshape(-1,1)), axis=1)\n",
    "#print(joined[0:7,:])\n",
    "df = pd.DataFrame(joined, columns=['MEMBER_ID','D','age','rank']) #, predict)\n",
    "#print(df.head())\n",
    "\n",
    "cols = list(df.columns)[0:-1]\n",
    "for col in cols:\n",
    "    df[col] = df[col].astype('int')\n",
    "df = df.iloc[1:]\n",
    "\n",
    "# data_iter: used for training\n",
    "D_set = data_iter.dataset.dct['D_set']\n",
    "print(len(D_set))\n",
    "D_set.iloc[35], D_set.loc[35]\n",
    "\n",
    "# Why is first row have numbers approx 1.e31? This is the input data. It has nothing to do with the evaluator. \n",
    "# for i in range(predict.shape[0]):\n",
    "\n",
    "merged = df.merge(D_set, how='inner', on='MEMBER_ID')\n",
    "print(\"merged shape (all scores): \", merged.shape, merged['MEMBER_ID'].nunique())  # 2218 unique members\n",
    "merged = merged[merged['rank'] > 0.5]\n",
    "print(\"merged shape (scores > 0.5): \", merged.shape, merged['MEMBER_ID'].nunique())  # 2170 unique members\n",
    "print(merged.head(10))"
   ]
  },
  {
   "cell_type": "markdown",
   "id": "16e93c6e-6d6f-4b71-add9-758196c81b68",
   "metadata": {},
   "source": [
    "Determined the topN scores for all members in order. "
   ]
  },
  {
   "cell_type": "code",
   "execution_count": null,
   "id": "9ea3df70-9cc7-48fd-8150-1f333b3ecdaf",
   "metadata": {},
   "outputs": [],
   "source": [
    "_df['MEMBER_ID'].max("
   ]
  },
  {
   "cell_type": "code",
   "execution_count": null,
   "id": "622c7071-bb13-438d-b439-d0baf41cf772",
   "metadata": {},
   "outputs": [],
   "source": [
    "df1 = merged.groupby('MEMBER_ID').agg({'rank':list})\n",
    "# df1 = merged.groupby('MEMBER_ID')['rank'].transform('count') #agg({'rank':list})\n",
    "# print(df1)\n",
    "print(df1.shape)\n",
    "\n",
    "def sort_func(col):\n",
    "    col1 = np.asarray(col) #.argsort()\n",
    "    col1 = np.asarray(col).argsort()\n",
    "    #col1 = sorted(col1, reverse=True)\n",
    "    return col1\n",
    "    \n",
    "rank = df1['rank'].apply(sort_func)\n",
    "df2 = df1.copy()\n",
    "df2['argrank'] = rank\n",
    "print(df2.head())\n",
    "print(\"df2.shape: \", df2.shape)\n",
    "df2['D'] = [list(range(0,len(D_set)))] * len(df2)\n",
    "print(\"len(list(range(0,len(D_set))))= \", len(list(range(0,len(D_set)))) )\n",
    "print(\"D_set: \", D_set)\n",
    "df2\n",
    "# df3 = pd.concat([_df, df2], axis=1)\n",
    "# _df.shape, df2.shape"
   ]
  },
  {
   "cell_type": "code",
   "execution_count": null,
   "id": "1fce84a3-c71f-46e1-8629-f210e8c0d8ce",
   "metadata": {},
   "outputs": [],
   "source": [
    "dst = list(data_iter.dataset.dct['idx2dest'].keys())\n",
    "df\n",
    "dst   # destinations 0 - 75 (76 values)\n",
    "# I wish to apply argsort to them\n",
    "df2['Dlist'] = [dst] * df2.shape[0]\n",
    "# df2\n",
    "\n",
    "# apply argrank to D Dlist"
   ]
  },
  {
   "cell_type": "code",
   "execution_count": null,
   "id": "3b6241de-a282-4734-acb9-d07d6cc8fefa",
   "metadata": {},
   "outputs": [],
   "source": []
  },
  {
   "cell_type": "code",
   "execution_count": null,
   "id": "d78a2f92-a1c7-438b-adbd-ce8f5b3ecdc1",
   "metadata": {},
   "outputs": [],
   "source": [
    "plt.plot(losses)\n",
    "p"
   ]
  },
  {
   "cell_type": "markdown",
   "id": "dd62f517-d864-4463-b24b-54ef5aca2ebf",
   "metadata": {},
   "source": [
    "Compute scores of training data. \n",
    "* For each member_id, compute score for each destination. Rank destinations and compare against destinations actually travelled. \n",
    "* consider the 2016 data. For each user+user_attributes, cover a range of destinations. Each destination has its own destination attributes. \n",
    "Consider $n$ examples of destination attributes, compute a ranking of these $n$ items. There are 80 destinations and their attributes. Finally, \n",
    "there are attributes that are neither member destinations or desination attributes. "
   ]
  },
  {
   "cell_type": "code",
   "execution_count": null,
   "id": "3816f3cb-738b-4154-8dd0-2e90fb91b854",
   "metadata": {},
   "outputs": [],
   "source": []
  }
 ],
 "metadata": {
  "kernelspec": {
   "display_name": "Python 3 (ipykernel)",
   "language": "python",
   "name": "python3"
  },
  "language_info": {
   "codemirror_mode": {
    "name": "ipython",
    "version": 3
   },
   "file_extension": ".py",
   "mimetype": "text/x-python",
   "name": "python",
   "nbconvert_exporter": "python",
   "pygments_lexer": "ipython3",
   "version": "3.8.13"
  }
 },
 "nbformat": 4,
 "nbformat_minor": 5
}
