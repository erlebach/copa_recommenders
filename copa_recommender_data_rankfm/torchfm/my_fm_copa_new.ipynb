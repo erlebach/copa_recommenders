{
 "cells": [
  {
   "cell_type": "markdown",
   "id": "c5284055-b709-4409-a9fb-d3e0bbe7621b",
   "metadata": {},
   "source": [
    "# Experiments with torchfm, which has a range of models based on FM (Factorization Machines). \n",
    "* None of these models are sequence-aware.\n",
    "* Anaconda context must be set to \"base\". Eventually work with poetry.\n",
    "* Try working with wandb (Weights & Biases)\n",
    "* Starting with my_fm_copy.ipynb on July 21, 2021, integrate with elements of the code I wrote for rankfm. Specifically, I will read the data with the newlib.py library. "
   ]
  },
  {
   "cell_type": "code",
   "execution_count": 1,
   "id": "d5035eb2-aeb0-4d58-91c7-d7d85307be73",
   "metadata": {},
   "outputs": [],
   "source": [
    "%load_ext autoreload\n",
    "%autoreload 2"
   ]
  },
  {
   "cell_type": "code",
   "execution_count": 2,
   "id": "a49212a8-1261-4010-9d02-d62eb9d522fb",
   "metadata": {
    "tags": []
   },
   "outputs": [],
   "source": [
    "import torchfm\n",
    "from torchfm import layer as fm_layer, model as fm_model\n",
    "from torchfm.model import fm, lr, nfm, wd\n",
    "import torch.nn.functional as F\n",
    "import pandas as pd\n",
    "import pandas_options\n",
    "import torch\n",
    "from torch.utils.data import DataLoader, Dataset\n",
    "import torch.nn as nn\n",
    "tt = torch.tensor\n",
    "import numpy as np\n",
    "# import tqdm\n",
    "import random\n",
    "import matplotlib.pyplot as plt\n",
    "import myfunclib as myfm\n",
    "import d2l_torch as d2l\n",
    "import datalib\n",
    "import wandb"
   ]
  },
  {
   "cell_type": "code",
   "execution_count": 3,
   "id": "f4d080b3-9305-42b1-b5ad-7b13d8bc61da",
   "metadata": {},
   "outputs": [],
   "source": [
    "from fastcore.all import L, AttrDict"
   ]
  },
  {
   "cell_type": "code",
   "execution_count": 4,
   "id": "396cd739-53ef-4679-8ddf-43f0087d65a3",
   "metadata": {},
   "outputs": [],
   "source": [
    "#wandb.init(project=\"my-test-project\")"
   ]
  },
  {
   "cell_type": "code",
   "execution_count": 5,
   "id": "020f5cc9-5aba-4df5-86a1-67a0f1f91eba",
   "metadata": {},
   "outputs": [
    {
     "ename": "NameError",
     "evalue": "name 'loss' is not defined",
     "output_type": "error",
     "traceback": [
      "\u001b[0;31m---------------------------------------------------------------------------\u001b[0m",
      "\u001b[0;31mNameError\u001b[0m                                 Traceback (most recent call last)",
      "Input \u001b[0;32mIn [5]\u001b[0m, in \u001b[0;36m<cell line: 7>\u001b[0;34m()\u001b[0m\n\u001b[1;32m      1\u001b[0m wandb\u001b[38;5;241m.\u001b[39mconfig \u001b[38;5;241m=\u001b[39m {\n\u001b[1;32m      2\u001b[0m   \u001b[38;5;124m\"\u001b[39m\u001b[38;5;124mlearning_rate\u001b[39m\u001b[38;5;124m\"\u001b[39m: \u001b[38;5;241m0.001\u001b[39m,\n\u001b[1;32m      3\u001b[0m   \u001b[38;5;124m\"\u001b[39m\u001b[38;5;124mepochs\u001b[39m\u001b[38;5;124m\"\u001b[39m: \u001b[38;5;241m100\u001b[39m,\n\u001b[1;32m      4\u001b[0m   \u001b[38;5;124m\"\u001b[39m\u001b[38;5;124mbatch_size\u001b[39m\u001b[38;5;124m\"\u001b[39m: \u001b[38;5;241m128\u001b[39m\n\u001b[1;32m      5\u001b[0m }\n\u001b[0;32m----> 7\u001b[0m wandb\u001b[38;5;241m.\u001b[39mlog({\u001b[38;5;124m\"\u001b[39m\u001b[38;5;124mloss\u001b[39m\u001b[38;5;124m\"\u001b[39m: \u001b[43mloss\u001b[49m})\n\u001b[1;32m      9\u001b[0m \u001b[38;5;66;03m# Optional\u001b[39;00m\n\u001b[1;32m     10\u001b[0m wandb\u001b[38;5;241m.\u001b[39mwatch(model)\n",
      "\u001b[0;31mNameError\u001b[0m: name 'loss' is not defined"
     ]
    }
   ],
   "source": [
    "wandb.config = {\n",
    "  \"learning_rate\": 0.001,\n",
    "  \"epochs\": 100,\n",
    "  \"batch_size\": 128\n",
    "}\n",
    "\n",
    "wandb.log({\"loss\": loss})\n",
    "\n",
    "# Optional\n",
    "wandb.watch(model)"
   ]
  },
  {
   "cell_type": "code",
   "execution_count": 6,
   "id": "40cac314-73ac-495f-a220-637722c97031",
   "metadata": {},
   "outputs": [
    {
     "name": "stdout",
     "output_type": "stream",
     "text": [
      "cuda:0\n"
     ]
    }
   ],
   "source": [
    "device = d2l.try_gpu()\n",
    "print(device)"
   ]
  },
  {
   "cell_type": "code",
   "execution_count": 7,
   "id": "856b6a13-386f-4bb6-87c6-5038945fdbc4",
   "metadata": {
    "tags": []
   },
   "outputs": [],
   "source": [
    "gdct = {\n",
    "    'device': device,  # 'cpu'\n",
    "    'embed_dim': 10,\n",
    "    'nb_epochs': 100,\n",
    "    'lr': 0.05,\n",
    "    'wd': 1.e-5,\n",
    "    'optim': 'adamW',\n",
    "    'batch_size' : 4096\n",
    "}"
   ]
  },
  {
   "cell_type": "code",
   "execution_count": 8,
   "id": "1f624385-3fbe-4a91-9612-f777b8646b72",
   "metadata": {
    "tags": []
   },
   "outputs": [],
   "source": [
    "gdct['device'] = 'cpu'"
   ]
  },
  {
   "cell_type": "code",
   "execution_count": 383,
   "id": "aa9a132f-92d3-4408-b031-27d30f9d670b",
   "metadata": {},
   "outputs": [
    {
     "name": "stdout",
     "output_type": "stream",
     "text": [
      "df_item_attrib columns:  ['D', 'avg_yr_l', 'avg_yr_h', 'IATA', 'LAT_DEC', 'LON_DEC', 'HEIGHT']\n",
      "df_item_attrib shape:  (91, 7)\n",
      "df_:  Index(['MEMBER_ID', 'D', 'age_departure', 'GENDER', 'avg_yr_l', 'avg_yr_h',\n",
      "       'LAT_DEC', 'LON_DEC', 'HEIGHT'],\n",
      "      dtype='object')\n",
      "SHOULD NOT CREATE user_attrib_idx and item_attrib_idx manually! SHOULD DO THIS BEFORE CALL TO this method\n",
      "CPU times: user 1.17 s, sys: 19.4 ms, total: 1.19 s\n",
      "Wall time: 1.19 s\n"
     ]
    },
    {
     "data": {
      "text/plain": [
       "dict_keys(['age_cuts', 'df_members', 'df_with_attrib', 'user_attrib_idx', 'item_attrib_idx', 'user_attrib_str', 'item_attrib_str', 'field_types', 'field_dims'])"
      ]
     },
     "execution_count": 383,
     "metadata": {},
     "output_type": "execute_result"
    }
   ],
   "source": [
    "%%time \n",
    "in_file = \"activity_reduced_with_attributes.csv\"\n",
    "dct = datalib.read_data_attributes_single_file(in_file, dct=AttrDict(), continuous_attrib=True)\n",
    "dct.keys()"
   ]
  },
  {
   "cell_type": "code",
   "execution_count": 384,
   "id": "278c5507-0148-4004-8c08-029d7f22a69a",
   "metadata": {},
   "outputs": [
    {
     "data": {
      "text/plain": [
       "((#6) ['D','avg_yr_l','avg_yr_h','LAT_DEC','LON_DEC','HEIGHT'],\n",
       " (#3) ['MEMBER_ID','age_departure','GENDER'])"
      ]
     },
     "execution_count": 384,
     "metadata": {},
     "output_type": "execute_result"
    }
   ],
   "source": [
    "dct.item_attrib_str, dct.user_attrib_str"
   ]
  },
  {
   "cell_type": "code",
   "execution_count": 385,
   "id": "efadbc78-4057-4c70-89f8-eab9c2231fd0",
   "metadata": {
    "tags": []
   },
   "outputs": [],
   "source": [
    "def convert_cat_variables(dct):\n",
    "    idx2member, member2idx = datalib.cat2dict(dct['df_with_attrib']['MEMBER_ID'])\n",
    "    idx2dest, dest2idx = datalib.cat2dict(dct['df_with_attrib']['D'])\n",
    "    idx2gender, gender2idx = datalib.cat2dict(dct.df_with_attrib.GENDER)\n",
    "    \n",
    "    dct['idx2member'] = idx2member\n",
    "    dct['member2idx'] = idx2member\n",
    "    dct['idx2dest'] = idx2dest\n",
    "    dct['dest2idx'] = dest2idx\n",
    "    dct['idx2gender'] = idx2gender\n",
    "    dct.gender2idx = gender2idx\n",
    "    \n",
    "    df1 = dct['df_with_attrib'].copy()\n",
    "    df1['MEMBER_ID'] = df1['MEMBER_ID'].map(member2idx)\n",
    "    df1['D'] = df1['D'].map(dest2idx)\n",
    "    df1['GENDER'] = df1.GENDER.map(gender2idx)\n",
    "    print(\"nb dest: \", len(dest2idx))\n",
    "    print(\"nb members: \", len(idx2member))\n",
    "    return df1"
   ]
  },
  {
   "cell_type": "code",
   "execution_count": 174,
   "id": "11944ccc-6a69-4363-8f30-508f68cfad5d",
   "metadata": {},
   "outputs": [
    {
     "data": {
      "text/plain": [
       "dict_keys(['age_cuts', 'df_members', 'df_with_attrib', 'user_attrib_idx', 'item_attrib_idx', 'user_attrib_str', 'item_attrib_str', 'field_types', 'field_dims'])"
      ]
     },
     "execution_count": 174,
     "metadata": {},
     "output_type": "execute_result"
    }
   ],
   "source": [
    "dct.keys()"
   ]
  },
  {
   "cell_type": "code",
   "execution_count": 386,
   "id": "e3364e4f-ccee-4c23-a95e-67592f8bb9ea",
   "metadata": {},
   "outputs": [
    {
     "name": "stdout",
     "output_type": "stream",
     "text": [
      "nb dest:  86\n",
      "nb members:  46321\n"
     ]
    }
   ],
   "source": [
    "df1 = convert_cat_variables(dct)\n",
    "dct['df_with_attrib'] = df1"
   ]
  },
  {
   "cell_type": "code",
   "execution_count": 522,
   "id": "dff47b4d-8859-4374-9c94-6389c2511082",
   "metadata": {},
   "outputs": [
    {
     "name": "stdout",
     "output_type": "stream",
     "text": [
      "(804187, 9)\n",
      "CPU times: user 2.4 s, sys: 101 ms, total: 2.5 s\n",
      "Wall time: 2.4 s\n"
     ]
    },
    {
     "data": {
      "text/plain": [
       "dict_keys(['age_cuts', 'df_members', 'df_with_attrib', 'user_attrib_idx', 'item_attrib_idx', 'user_attrib_str', 'item_attrib_str', 'field_types', 'field_dims', 'idx2member', 'member2idx', 'idx2dest', 'dest2idx', 'idx2gender', 'gender2idx', 'data_train', 'data_valid', 'data_test'])"
      ]
     },
     "execution_count": 522,
     "metadata": {},
     "output_type": "execute_result"
    }
   ],
   "source": [
    "%%time \n",
    "# split data into train / valid / test data sets\n",
    "datalib.train_valid_dct(dct, 0.6, 0.2, temporal=True, shuffle=True)\n",
    "dataset_train = datalib.myDataset_neg(dct, dct.data_train)\n",
    "dataset_train.gen_neg_samples()\n",
    "dct.keys()"
   ]
  },
  {
   "cell_type": "code",
   "execution_count": 523,
   "id": "0af5007d-fd81-45c4-bc43-15296e2c645b",
   "metadata": {},
   "outputs": [
    {
     "name": "stdout",
     "output_type": "stream",
     "text": [
      "CPU times: user 37 ms, sys: 0 ns, total: 37 ms\n",
      "Wall time: 36.6 ms\n"
     ]
    }
   ],
   "source": [
    "%%time\n",
    "dataset_train.gen_user_attributes()"
   ]
  },
  {
   "cell_type": "code",
   "execution_count": 549,
   "id": "851a2eba-8f4f-4106-b115-bb39eccfce56",
   "metadata": {},
   "outputs": [
    {
     "name": "stdout",
     "output_type": "stream",
     "text": [
      "CPU times: user 167 ms, sys: 0 ns, total: 167 ms\n",
      "Wall time: 166 ms\n"
     ]
    }
   ],
   "source": [
    "%%time\n",
    "for i in range(4*4096):\n",
    "    x = dataset_train[i]\n",
    "    #print(\"===================================================\")\n",
    "    for j in range(len(x)):\n",
    "        #print(x[j])\n",
    "        pass\n",
    "    # print(x)"
   ]
  },
  {
   "cell_type": "code",
   "execution_count": 550,
   "id": "fd8416a5-eb90-4137-b1e3-a6d063def874",
   "metadata": {
    "tags": []
   },
   "outputs": [],
   "source": [
    "loader = DataLoader(dataset_train, shuffle=True, batch_size=4*4096)"
   ]
  },
  {
   "cell_type": "code",
   "execution_count": 551,
   "id": "2bd292e4-b159-4792-9b94-d1e91058350f",
   "metadata": {},
   "outputs": [
    {
     "name": "stdout",
     "output_type": "stream",
     "text": [
      "CPU times: user 508 ms, sys: 800 µs, total: 509 ms\n",
      "Wall time: 407 ms\n"
     ]
    }
   ],
   "source": [
    "%%time\n",
    "for i, load in enumerate(loader):  # 1.5 sec epr batch of 4096\n",
    "    #print(\"done\")\n",
    "    if i == 1:\n",
    "        break"
   ]
  },
  {
   "cell_type": "code",
   "execution_count": 364,
   "id": "530bc925-186d-41bf-89dd-abd5c1797824",
   "metadata": {},
   "outputs": [
    {
     "name": "stdout",
     "output_type": "stream",
     "text": [
      "m.shape:  (152796, 3)\n",
      "m.shape:  (152796, 5)\n",
      "neg/pos shape:  (152796, 8) (152796, 7)\n"
     ]
    }
   ],
   "source": [
    "dataset_train.gen_neg_samples()"
   ]
  },
  {
   "cell_type": "code",
   "execution_count": 265,
   "id": "2f1b3056-7d0f-4f68-9f7c-d020dc948594",
   "metadata": {},
   "outputs": [
    {
     "ename": "AttributeError",
     "evalue": "'myDataset' object has no attribute 'member_D'",
     "output_type": "error",
     "traceback": [
      "\u001b[0;31m---------------------------------------------------------------------------\u001b[0m",
      "\u001b[0;31mAttributeError\u001b[0m                            Traceback (most recent call last)",
      "File \u001b[0;32m<timed exec>:2\u001b[0m, in \u001b[0;36m<module>\u001b[0;34m\u001b[0m\n",
      "File \u001b[0;32m~/src/2022/copa_recommenders/copa_recommender_data_rankfm/torchfm/datalib.py:186\u001b[0m, in \u001b[0;36mmyDataset.gen_neg_samples\u001b[0;34m(self)\u001b[0m\n\u001b[1;32m    183\u001b[0m all_D \u001b[38;5;241m=\u001b[39m \u001b[38;5;28mset\u001b[39m(\u001b[38;5;28mself\u001b[39m\u001b[38;5;241m.\u001b[39mdata[\u001b[38;5;124m'\u001b[39m\u001b[38;5;124mD\u001b[39m\u001b[38;5;124m'\u001b[39m]\u001b[38;5;241m.\u001b[39munique())\n\u001b[1;32m    184\u001b[0m \u001b[38;5;66;03m# Generate dataframe keyed by MEMBER_ID, with a list of destinations flown to\u001b[39;00m\n\u001b[0;32m--> 186\u001b[0m \u001b[38;5;28;43mself\u001b[39;49m\u001b[38;5;241;43m.\u001b[39;49m\u001b[43mmember_D\u001b[49m[\u001b[38;5;124m'\u001b[39m\u001b[38;5;124mneg_seg\u001b[39m\u001b[38;5;124m'\u001b[39m] \u001b[38;5;241m=\u001b[39m \u001b[38;5;28mself\u001b[39m\u001b[38;5;241m.\u001b[39mdata\u001b[38;5;241m.\u001b[39mgroupby(\u001b[38;5;124m'\u001b[39m\u001b[38;5;124mMEMBER_ID\u001b[39m\u001b[38;5;124m'\u001b[39m)\u001b[38;5;241m.\u001b[39magg({\u001b[38;5;124m'\u001b[39m\u001b[38;5;124mD\u001b[39m\u001b[38;5;124m'\u001b[39m:\u001b[38;5;28mset\u001b[39m})\n\u001b[1;32m    187\u001b[0m \u001b[38;5;28mself\u001b[39m\u001b[38;5;241m.\u001b[39mmember_D[\u001b[38;5;124m'\u001b[39m\u001b[38;5;124mneg\u001b[39m\u001b[38;5;124m'\u001b[39m] \u001b[38;5;241m=\u001b[39m \u001b[38;5;28mself\u001b[39m\u001b[38;5;241m.\u001b[39mmember_D[\u001b[38;5;124m'\u001b[39m\u001b[38;5;124mD\u001b[39m\u001b[38;5;124m'\u001b[39m]\u001b[38;5;241m.\u001b[39mmap(\u001b[38;5;28;01mlambda\u001b[39;00m x: all_D\u001b[38;5;241m.\u001b[39mdifference(x))\n\u001b[1;32m    188\u001b[0m \u001b[38;5;28mself\u001b[39m\u001b[38;5;241m.\u001b[39muser_attr \u001b[38;5;241m=\u001b[39m \u001b[38;5;28mself\u001b[39m\u001b[38;5;241m.\u001b[39mdata[\u001b[38;5;28mself\u001b[39m\u001b[38;5;241m.\u001b[39mdct\u001b[38;5;241m.\u001b[39muser_attrib_str]\u001b[38;5;241m.\u001b[39mset_index(\u001b[38;5;124m'\u001b[39m\u001b[38;5;124mMEMBER_ID\u001b[39m\u001b[38;5;124m'\u001b[39m, drop\u001b[38;5;241m=\u001b[39m\u001b[38;5;28;01mTrue\u001b[39;00m)\n",
      "\u001b[0;31mAttributeError\u001b[0m: 'myDataset' object has no attribute 'member_D'"
     ]
    }
   ],
   "source": [
    "%%time\n",
    "dataset_train = datalib.myDataset(dct, dct.data_train)\n",
    "dataset_train.gen_neg_samples()\n",
    "# dataset_valid = datalib.myDataset(dct, dct.data_valid)\n",
    "# dataset_test  = datalib.myDataset(dct, dct.data_test)"
   ]
  },
  {
   "cell_type": "code",
   "execution_count": null,
   "id": "07f7d379-4aec-4301-af97-dbe513226692",
   "metadata": {},
   "outputs": [],
   "source": []
  },
  {
   "cell_type": "code",
   "execution_count": 434,
   "id": "58810c91-7b71-4ec4-9c41-602cfea039ac",
   "metadata": {},
   "outputs": [
    {
     "data": {
      "text/plain": [
       "tensor([[1, 3],\n",
       "        [2, 5],\n",
       "        [3, 6]])"
      ]
     },
     "execution_count": 434,
     "metadata": {},
     "output_type": "execute_result"
    }
   ],
   "source": [
    "a = [3, 6, 7, 2, 3]\n",
    "np.random.choice(a)\n",
    "df = pd.DataFrame({'a': [1,2,3], 'b': [3,5,6]})\n",
    "tt(df.values)"
   ]
  },
  {
   "cell_type": "code",
   "execution_count": 680,
   "id": "352086b7-fbf8-4693-8d70-63afce31e6ab",
   "metadata": {},
   "outputs": [
    {
     "data": {
      "text/plain": [
       "dict_keys(['age_cuts', 'df_members', 'df_with_attrib', 'field_types', 'field_dims', 'data_train', 'data_valid', 'data_test', 'batch_size'])"
      ]
     },
     "execution_count": 680,
     "metadata": {},
     "output_type": "execute_result"
    }
   ],
   "source": [
    "dct.batch_size = 64"
   ]
  },
  {
   "cell_type": "code",
   "execution_count": 614,
   "id": "1deba327-23e6-4a8d-9f9b-1e44e7ae37b8",
   "metadata": {},
   "outputs": [],
   "source": [
    "loader_train = DataLoader(dataset_train, shuffle=True, batch_size=dct.batch_size)\n",
    "loader_valid = DataLoader(dataset_valid, shuffle=True, batch_size=dct.batch_size)\n",
    "loader_test  = DataLoader(dataset_test,  shuffle=True, batch_size=dct.batch_size)"
   ]
  },
  {
   "cell_type": "code",
   "execution_count": 615,
   "id": "4358992b-5073-4715-8dbb-72eba37837ee",
   "metadata": {
    "tags": []
   },
   "outputs": [
    {
     "name": "stdout",
     "output_type": "stream",
     "text": [
      "[ 2.83600000e+03  2.00000000e+00  5.74594595e+01  0.00000000e+00\n",
      "  7.50000000e-01  8.80000000e-01  9.07100000e-02 -7.93830000e-01\n",
      "  1.49306790e-02]\n"
     ]
    },
    {
     "data": {
      "text/plain": [
       "tensor([ 2.8360e+03,  2.0000e+00,  5.7459e+01,  0.0000e+00,  7.5000e-01,\n",
       "         8.8000e-01,  9.0710e-02, -7.9383e-01,  1.4931e-02],\n",
       "       dtype=torch.float64)"
      ]
     },
     "execution_count": 615,
     "metadata": {},
     "output_type": "execute_result"
    }
   ],
   "source": [
    "dataset_train[3]"
   ]
  },
  {
   "cell_type": "markdown",
   "id": "d32fc1ed-852d-4e1a-87b8-83ce91b1ea71",
   "metadata": {},
   "source": [
    "## DataLoader is functional"
   ]
  },
  {
   "cell_type": "markdown",
   "id": "1232c249-a21e-4cb6-8ecc-585721354870",
   "metadata": {
    "tags": []
   },
   "source": [
    "# NOT USED\n",
    "batch_size = dct.batch_size\n",
    "files = \"attrib_2016.csv.gz\"\n",
    "#data_dict = myfm.getData(files, batch_size=batch_size, nrows='all')\n",
    "data_dict = myfm.getData(files, batch_size=batch_size, nrows=20000, shuffle=False)\n",
    "data_dict\n",
    "\n",
    "\n",
    "\n",
    "data_dict['train_iter'].dataset.df.shape[0]\n",
    "\n",
    "len(dataset_train)\n",
    "\n",
    "train_iter = data_dict['train_iter']\n",
    "field_dims = train_iter.dataset.field_dims\n",
    "field_dims\n",
    "\n",
    "field_dims = 20   # MEANING?\n",
    "\n",
    "# cpu: device : -1\n",
    "# gpu: device : 0, 1, ...\n",
    "gdct\n",
    "\n",
    "# field_dims: number of categories for each attribute. \n",
    "# This should be defined in read_single_file"
   ]
  },
  {
   "cell_type": "code",
   "execution_count": 616,
   "id": "979935b4-a689-4026-9797-04f8c885506c",
   "metadata": {},
   "outputs": [
    {
     "data": {
      "text/plain": [
       "FactorizationMachineModel(\n",
       "  (embedding): FeaturesEmbedding(\n",
       "    (embedding): Embedding(46416, 10)\n",
       "  )\n",
       "  (linear): FeaturesLinear(\n",
       "    (fc): Embedding(46416, 1)\n",
       "  )\n",
       "  (fm): FactorizationMachine()\n",
       ")"
      ]
     },
     "execution_count": 616,
     "metadata": {},
     "output_type": "execute_result"
    }
   ],
   "source": [
    "embed_dim = gdct['embed_dim']\n",
    "device = gdct['device']\n",
    "field_dims = dct.field_dims.to(device)\n",
    "net = fm.FactorizationMachineModel(field_dims, embed_dim)\n",
    "net.to(device)"
   ]
  },
  {
   "cell_type": "markdown",
   "id": "115e948d-6caa-4d36-8bca-5abd29159498",
   "metadata": {},
   "source": [
    "Create a method with dataset and DataLoader"
   ]
  },
  {
   "cell_type": "code",
   "execution_count": 617,
   "id": "d2eca1b1-06bd-40d9-bb87-84323a1c1a66",
   "metadata": {},
   "outputs": [
    {
     "data": {
      "text/plain": [
       "dict_keys(['age_cuts', 'df_members', 'df_with_attrib', 'field_types', 'field_dims', 'data_train', 'data_valid', 'data_test', 'batch_size', 'device', 'embed_dim', 'nb_epochs', 'lr', 'wd', 'optim'])"
      ]
     },
     "execution_count": 617,
     "metadata": {},
     "output_type": "execute_result"
    }
   ],
   "source": [
    "dct.keys()"
   ]
  },
  {
   "cell_type": "code",
   "execution_count": 618,
   "id": "c790f8e2-07d6-4174-8803-182d5399d816",
   "metadata": {},
   "outputs": [],
   "source": [
    "dct.device = 'cpu'\n",
    "dct.embed_dim = 10\n",
    "dct.nb_epochs = 100\n",
    "dct.lr = 0.05\n",
    "dct.wd = 1.e-5\n",
    "dct.optim = 'adamW'"
   ]
  },
  {
   "cell_type": "code",
   "execution_count": 619,
   "id": "2b53f5c5-cd74-47b0-a8d7-e713f7c8add4",
   "metadata": {},
   "outputs": [
    {
     "name": "stdout",
     "output_type": "stream",
     "text": [
      "optimiz_meth:  adamW\n",
      "adamW\n"
     ]
    }
   ],
   "source": [
    "optimizer, loss_func = myfm.setup_trainer(net, dct)"
   ]
  },
  {
   "cell_type": "code",
   "execution_count": 620,
   "id": "42b7350a-fcab-4cc2-aec2-21b471d4cfa7",
   "metadata": {},
   "outputs": [
    {
     "data": {
      "text/plain": [
       "(152651, 79423, 80211)"
      ]
     },
     "execution_count": 620,
     "metadata": {},
     "output_type": "execute_result"
    }
   ],
   "source": [
    "len(dataset_train), len(dataset_valid), len(dataset_test)"
   ]
  },
  {
   "cell_type": "code",
   "execution_count": 621,
   "id": "0e778f65-7175-47e5-963a-0249de1af90b",
   "metadata": {},
   "outputs": [
    {
     "data": {
      "text/plain": [
       "{'train_data': <myfunclib.myDataset at 0x7f34d7d12bb0>,\n",
       " 'train_iter': <torch.utils.data.dataloader.DataLoader at 0x7f34da4ecf40>}"
      ]
     },
     "execution_count": 621,
     "metadata": {},
     "output_type": "execute_result"
    }
   ],
   "source": [
    "data_dict"
   ]
  },
  {
   "cell_type": "code",
   "execution_count": 623,
   "id": "013d629a-cbbc-4d4f-a9e7-3df274a7807c",
   "metadata": {},
   "outputs": [
    {
     "name": "stdout",
     "output_type": "stream",
     "text": [
      "[ 2.76530000e+04  1.40000000e+01  3.45714286e+01  0.00000000e+00\n",
      "  6.30000000e-01  7.80000000e-01  6.16400000e-02 -7.54230000e-01\n",
      "  7.61820121e-01]\n",
      "[ 2.67550000e+04  7.00000000e+00  3.03333333e+01  0.00000000e+00\n",
      "  7.20000000e-01  8.70000000e-01  1.84290000e-01 -6.96690000e-01\n",
      "  6.39886242e-03]\n",
      "[ 1.57060000e+04  3.50000000e+01  3.65000000e+01  1.00000000e+00\n",
      "  4.60000000e-01  6.60000000e-01  3.89440000e-01 -7.74560000e-01\n",
      "  3.41272663e-02]\n",
      "[ 1.54890000e+04  1.00000000e+00  4.50000000e+01  0.00000000e+00\n",
      "  7.00000000e-01  8.40000000e-01  2.29890000e-01 -8.24090000e-01\n",
      "  2.31070032e-02]\n",
      "[ 1.1123000e+04  2.3000000e+01  3.3000000e+01  1.0000000e+00\n",
      "  7.2000000e-01  8.6000000e-01  2.1036000e-01 -8.6877000e-01\n",
      "  2.4884465e-03]\n",
      "[2.1419e+04 2.4000e+01 2.5000e+01 0.0000e+00 7.4000e-01 8.8000e-01\n",
      " 0.0000e+00 0.0000e+00 0.0000e+00]\n",
      "[ 2.89600000e+04  8.00000000e+00  2.70000000e+01  0.00000000e+00\n",
      "  5.90000000e-01  8.10000000e-01  3.60800000e-01 -1.15152000e+00\n",
      "  2.36402417e-01]\n",
      "[ 1.88080000e+04  1.40000000e+01  6.20000000e+01  0.00000000e+00\n",
      "  6.30000000e-01  7.80000000e-01  6.16400000e-02 -7.54230000e-01\n",
      "  7.61820121e-01]\n",
      "[ 1.19260000e+04  4.60000000e+01  3.50000000e+01  0.00000000e+00\n",
      "  7.70000000e-01  8.80000000e-01  1.08890000e-01 -7.47810000e-01\n",
      "  1.06647707e-02]\n",
      "[ 2.80550000e+04  0.00000000e+00  3.85000000e+01  0.00000000e+00\n",
      "  6.30000000e-01  7.30000000e-01 -1.20220000e-01 -7.71140000e-01\n",
      "  1.24422325e-02]\n",
      "[ 5.9560000e+03  2.0000000e+00  2.8000000e+01  1.0000000e+00\n",
      "  7.5000000e-01  8.8000000e-01  9.0710000e-02 -7.9383000e-01\n",
      "  1.4930679e-02]\n",
      "[ 2.21430000e+04  1.00000000e+00  3.00000000e+01  0.00000000e+00\n",
      "  7.00000000e-01  8.40000000e-01  2.29890000e-01 -8.24090000e-01\n",
      "  2.31070032e-02]\n",
      "[2.3555e+04 2.4000e+01 4.4000e+01 0.0000e+00 7.4000e-01 8.8000e-01\n",
      " 0.0000e+00 0.0000e+00 0.0000e+00]\n",
      "[ 3.10380000e+04  4.10000000e+01  4.20000000e+01  0.00000000e+00\n",
      "  7.90000000e-01  8.80000000e-01  1.25010000e-01 -7.00150000e-01\n",
      "  6.75435478e-03]\n",
      "[ 2.70800000e+04  5.00000000e+00  4.30000000e+01  0.00000000e+00\n",
      "  7.30000000e-01  8.50000000e-01 -2.15800000e-02 -7.98840000e-01\n",
      "  1.77746178e-03]\n",
      "[ 5.74200000e+03  7.00000000e+00  4.71250000e+01  0.00000000e+00\n",
      "  7.20000000e-01  8.70000000e-01  1.84290000e-01 -6.96690000e-01\n",
      "  6.39886242e-03]\n",
      "[ 2.87230000e+04  1.20000000e+01  3.00000000e+01  0.00000000e+00\n",
      "  5.70000000e-01  7.50000000e-01  3.39420000e-01 -1.18408000e+00\n",
      "  1.38642019e-02]\n",
      "[ 1.70200000e+03  3.30000000e+01  3.10000000e+01  1.00000000e+00\n",
      "  4.30000000e-01  5.90000000e-01  4.19790000e-01 -8.79040000e-01\n",
      "  7.25204408e-02]\n",
      "[ 2.67860000e+04  2.20000000e+01  4.35000000e+01  0.00000000e+00\n",
      "  6.40000000e-01  8.20000000e-01  2.84290000e-01 -8.13160000e-01\n",
      "  1.06647707e-02]\n",
      "[ 2.62800000e+04  0.00000000e+00  4.16250000e+01  1.00000000e+00\n",
      "  6.30000000e-01  7.30000000e-01 -1.20220000e-01 -7.71140000e-01\n",
      "  1.24422325e-02]\n",
      "[ 1.31000000e+03  9.00000000e+00  5.70000000e+01  0.00000000e+00\n",
      "  7.30000000e-01  9.00000000e-01  1.21410000e-01 -8.61680000e-01\n",
      "  2.13295414e-02]\n",
      "[ 6.05000000e+02  1.80000000e+01  4.60000000e+01  1.00000000e+00\n",
      "  4.50000000e-01  5.90000000e-01  4.23640000e-01 -7.10050000e-01\n",
      "  2.13295414e-03]\n",
      "[ 3.09400000e+04  4.20000000e+01  5.70000000e+01  1.00000000e+00\n",
      "  5.20000000e-01  7.50000000e-01  1.94360000e-01 -9.90720000e-01\n",
      "  7.92747956e-01]\n",
      "[ 2.1080e+04  3.1000e+01  5.0000e+01  0.0000e+00  4.8000e-01  6.5000e-01\n",
      " -1.4100e-03 -7.8488e-01  1.0000e+00]\n",
      "[ 7.12000000e+02  2.50000000e+01  4.07500000e+01  1.00000000e+00\n",
      "  6.60000000e-01  8.10000000e-01  1.06030000e-01 -6.69910000e-01\n",
      "  2.55954497e-02]\n",
      "[ 3.08640000e+04  1.00000000e+01  2.70000000e+01  0.00000000e+00\n",
      "  7.50000000e-01  8.60000000e-01  1.84390000e-01 -6.60020000e-01\n",
      "  1.06647707e-03]\n",
      "[ 2.63120000e+04  6.10000000e+01  4.20000000e+01  0.00000000e+00\n",
      "  7.60000000e-01  8.60000000e-01  1.85040000e-01 -7.79130000e-01\n",
      "  7.10984714e-04]\n",
      "[ 2.71600000e+03  2.00000000e+01  3.90000000e+01  1.00000000e+00\n",
      "  7.50000000e-01  8.50000000e-01  1.85670000e-01 -6.83630000e-01\n",
      "  4.62140064e-03]\n",
      "[ 9.54300000e+03  6.00000000e+00  3.80000000e+01  1.00000000e+00\n",
      "  7.10000000e-01  8.30000000e-01  2.57930000e-01 -8.02910000e-01\n",
      "  1.06647707e-03]\n",
      "[ 3.40300000e+03  9.00000000e+00  6.14000000e+01  0.00000000e+00\n",
      "  7.30000000e-01  9.00000000e-01  1.21410000e-01 -8.61680000e-01\n",
      "  2.13295414e-02]\n",
      "[ 4.51900000e+03  3.30000000e+01  3.30000000e+01  1.00000000e+00\n",
      "  4.30000000e-01  5.90000000e-01  4.19790000e-01 -8.79040000e-01\n",
      "  7.25204408e-02]\n",
      "[ 2.56500000e+03  1.00000000e+01  4.30000000e+01  1.00000000e+00\n",
      "  7.50000000e-01  8.60000000e-01  1.84390000e-01 -6.60020000e-01\n",
      "  1.06647707e-03]\n",
      "[ 1.84710000e+04  4.40000000e+01  3.50000000e+01  0.00000000e+00\n",
      "  6.30000000e-01  8.00000000e-01 -1.96340000e-01 -4.39690000e-01\n",
      "  2.94347672e-01]\n",
      "[ 1.77800000e+03  5.20000000e+01  3.50000000e+01  0.00000000e+00\n",
      "  5.50000000e-01  6.90000000e-01 -3.48380000e-01 -5.60300000e-01\n",
      "  1.17312478e-02]\n",
      "[ 1.67470000e+04  3.00000000e+00  2.60000000e+01  0.00000000e+00\n",
      "  6.00000000e-01  7.60000000e-01  1.45830000e-01 -9.05280000e-01\n",
      "  5.36793459e-01]\n",
      "[ 3.5100000e+02  2.0000000e+00  3.4000000e+01  1.0000000e+00\n",
      "  7.5000000e-01  8.8000000e-01  9.0710000e-02 -7.9383000e-01\n",
      "  1.4930679e-02]\n",
      "[ 5.26700000e+03  2.80000000e+01  5.54000000e+01  0.00000000e+00\n",
      "  4.90000000e-01  6.20000000e-01  4.06400000e-01 -7.37790000e-01\n",
      "  1.42196943e-03]\n",
      "[ 2.51000000e+03  3.00000000e+00  5.43333333e+01  0.00000000e+00\n",
      "  5.30000000e-01  8.10000000e-01  1.45830000e-01 -9.05280000e-01\n",
      "  5.36793459e-01]\n",
      "[ 4.83800000e+03  2.70000000e+01  4.00000000e+01  0.00000000e+00\n",
      "  6.30000000e-01  8.20000000e-01  1.40610000e-01 -8.72170000e-01\n",
      "  3.57269819e-01]\n",
      "[ 1.51370000e+04  1.40000000e+01  3.31500000e+01  0.00000000e+00\n",
      "  6.30000000e-01  7.80000000e-01  6.16400000e-02 -7.54230000e-01\n",
      "  7.61820121e-01]\n",
      "[ 6.10000000e+01  7.00000000e+00  3.11666667e+01  0.00000000e+00\n",
      "  7.20000000e-01  8.70000000e-01  1.84290000e-01 -6.96690000e-01\n",
      "  6.39886242e-03]\n",
      "[ 2.14720000e+04  4.00000000e+00  2.38750000e+01  1.00000000e+00\n",
      "  4.70000000e-01  6.50000000e-01  4.70100000e-02 -7.41470000e-01\n",
      "  9.06150018e-01]\n",
      "[ 1.59730000e+04  0.00000000e+00  3.60000000e+01  1.00000000e+00\n",
      "  6.30000000e-01  7.30000000e-01 -1.20220000e-01 -7.71140000e-01\n",
      "  1.24422325e-02]\n",
      "[ 2.56590000e+04  2.20000000e+01  4.20000000e+01  0.00000000e+00\n",
      "  6.40000000e-01  8.20000000e-01  2.84290000e-01 -8.13160000e-01\n",
      "  1.06647707e-02]\n",
      "[ 4.49000000e+03  1.00000000e+00  4.62857143e+01  0.00000000e+00\n",
      "  7.00000000e-01  8.40000000e-01  2.29890000e-01 -8.24090000e-01\n",
      "  2.31070032e-02]\n",
      "[ 2.32610000e+04  1.10000000e+01  5.90000000e+01  0.00000000e+00\n",
      "  6.40000000e-01  7.80000000e-01  9.99400000e-02 -8.42090000e-01\n",
      "  3.27408461e-01]\n",
      "[ 1.27250000e+04  1.40000000e+01  5.25000000e+01  0.00000000e+00\n",
      "  6.30000000e-01  7.80000000e-01  6.16400000e-02 -7.54230000e-01\n",
      "  7.61820121e-01]\n",
      "[ 6.03000000e+02  4.80000000e+01  5.10000000e+01  0.00000000e+00\n",
      "  5.30000000e-01  8.10000000e-01  2.05220000e-01 -1.03311000e+00\n",
      "  5.43192321e-01]\n",
      "[ 1.33340000e+04  1.20000000e+01  3.90000000e+01  0.00000000e+00\n",
      "  5.70000000e-01  7.50000000e-01  3.39420000e-01 -1.18408000e+00\n",
      "  1.38642019e-02]\n",
      "[ 1.02660000e+04  2.50000000e+01  5.70000000e+01  0.00000000e+00\n",
      "  6.60000000e-01  8.10000000e-01  1.06030000e-01 -6.69910000e-01\n",
      "  2.55954497e-02]\n",
      "[ 3.32620000e+04  7.00000000e+00  5.75000000e+01  1.00000000e+00\n",
      "  7.20000000e-01  8.70000000e-01  1.84290000e-01 -6.96690000e-01\n",
      "  6.39886242e-03]\n",
      "[ 2.93700000e+03  0.00000000e+00  6.20000000e+01  0.00000000e+00\n",
      "  6.30000000e-01  7.30000000e-01 -1.20220000e-01 -7.71140000e-01\n",
      "  1.24422325e-02]\n",
      "[ 1.16630000e+04  3.60000000e+01  2.90000000e+01  0.00000000e+00\n",
      "  7.80000000e-01  8.70000000e-01  1.04420000e-01 -7.55130000e-01\n",
      "  7.10984714e-04]\n",
      "[ 5.13000000e+03  2.00000000e+00  3.93333333e+01  0.00000000e+00\n",
      "  7.50000000e-01  8.80000000e-01  9.07100000e-02 -7.93830000e-01\n",
      "  1.49306790e-02]\n",
      "[ 1.63970000e+04  0.00000000e+00  3.39523810e+01  0.00000000e+00\n",
      "  6.30000000e-01  7.30000000e-01 -1.20220000e-01 -7.71140000e-01\n",
      "  1.24422325e-02]\n",
      "[ 4.28100000e+03  5.00000000e+00  2.20000000e+01  0.00000000e+00\n",
      "  7.30000000e-01  8.50000000e-01 -2.15800000e-02 -7.98840000e-01\n",
      "  1.77746178e-03]\n",
      "[ 1.25490000e+04  6.00000000e+00  4.10000000e+01  1.00000000e+00\n",
      "  7.10000000e-01  8.30000000e-01  2.57930000e-01 -8.02910000e-01\n",
      "  1.06647707e-03]\n",
      "[ 3.27080000e+04  9.00000000e+00  3.70000000e+01  0.00000000e+00\n",
      "  7.30000000e-01  9.00000000e-01  1.21410000e-01 -8.61680000e-01\n",
      "  2.13295414e-02]\n",
      "[ 1.74370000e+04  2.80000000e+01  3.30000000e+01  1.00000000e+00\n",
      "  4.90000000e-01  6.20000000e-01  4.06400000e-01 -7.37790000e-01\n",
      "  1.42196943e-03]\n",
      "[ 8.02300000e+03  4.60000000e+01  5.90000000e+01  0.00000000e+00\n",
      "  7.70000000e-01  8.80000000e-01  1.08890000e-01 -7.47810000e-01\n",
      "  1.06647707e-02]\n",
      "[ 1.20130000e+04  3.00000000e+00  4.50000000e+01  0.00000000e+00\n",
      "  5.30000000e-01  8.10000000e-01  1.45830000e-01 -9.05280000e-01\n",
      "  5.36793459e-01]\n",
      "[ 2.18660000e+04  1.10000000e+01  5.25000000e+01  0.00000000e+00\n",
      "  6.40000000e-01  7.80000000e-01  9.99400000e-02 -8.42090000e-01\n",
      "  3.27408461e-01]\n",
      "[ 1.1596000e+04  2.3000000e+01  2.7000000e+01  0.0000000e+00\n",
      "  7.2000000e-01  8.6000000e-01  2.1036000e-01 -8.6877000e-01\n",
      "  2.4884465e-03]\n",
      "[ 5.67700000e+03  4.20000000e+01  4.01428571e+01  0.00000000e+00\n",
      "  5.20000000e-01  7.50000000e-01  1.94360000e-01 -9.90720000e-01\n",
      "  7.92747956e-01]\n",
      "data\n"
     ]
    }
   ],
   "source": [
    "loader_train = DataLoader(dataset_train, shuffle=True, batch_size=dct.batch_size)\n",
    "for d in loader_train:\n",
    "    print(\"data\")\n",
    "    break"
   ]
  },
  {
   "cell_type": "code",
   "execution_count": 601,
   "id": "ddf37e52-cfd0-4303-8475-71ea15bf9a83",
   "metadata": {
    "tags": []
   },
   "outputs": [
    {
     "name": "stdout",
     "output_type": "stream",
     "text": [
      "nb_epochs:  100\n",
      "INSIDE train_epoch\n",
      "before for\n",
      "data_loader:  <torch.utils.data.dataloader.DataLoader object at 0x7f359c013eb0>\n",
      "[ 1.51110000e+04  2.00000000e+00  5.90588235e+01  0.00000000e+00\n",
      "  7.50000000e-01  8.80000000e-01  9.07100000e-02 -7.93830000e-01\n",
      "  1.49306790e-02]\n",
      "[ 1.23790000e+04  1.10000000e+01  5.30000000e+01  0.00000000e+00\n",
      "  6.40000000e-01  7.80000000e-01  9.99400000e-02 -8.42090000e-01\n",
      "  3.27408461e-01]\n",
      "[ 2.73530000e+04  7.00000000e+00  3.40000000e+01  0.00000000e+00\n",
      "  7.20000000e-01  8.70000000e-01  1.84290000e-01 -6.96690000e-01\n",
      "  6.39886242e-03]\n",
      "[ 7.28900000e+03  4.00000000e+00  4.10000000e+01  0.00000000e+00\n",
      "  4.70000000e-01  6.50000000e-01  4.70100000e-02 -7.41470000e-01\n",
      "  9.06150018e-01]\n",
      "[ 2.02290000e+04  7.00000000e+00  2.60000000e+01  1.00000000e+00\n",
      "  7.20000000e-01  8.70000000e-01  1.84290000e-01 -6.96690000e-01\n",
      "  6.39886242e-03]\n",
      "[ 1.30000000e+04  1.80000000e+01  4.10000000e+01  0.00000000e+00\n",
      "  4.50000000e-01  5.90000000e-01  4.23640000e-01 -7.10050000e-01\n",
      "  2.13295414e-03]\n",
      "[ 2.30730000e+04  1.00000000e+00  4.40000000e+01  0.00000000e+00\n",
      "  7.00000000e-01  8.40000000e-01  2.29890000e-01 -8.24090000e-01\n",
      "  2.31070032e-02]\n",
      "[ 1.21380000e+04  3.30000000e+01  4.26666667e+01  0.00000000e+00\n",
      "  4.30000000e-01  5.90000000e-01  4.19790000e-01 -8.79040000e-01\n",
      "  7.25204408e-02]\n",
      "[ 1.83970000e+04  4.00000000e+00  2.30000000e+01  1.00000000e+00\n",
      "  4.70000000e-01  6.50000000e-01  4.70100000e-02 -7.41470000e-01\n",
      "  9.06150018e-01]\n",
      "[ 3.53830000e+04  2.20000000e+01  4.27500000e+01  1.00000000e+00\n",
      "  6.40000000e-01  8.20000000e-01  2.84290000e-01 -8.13160000e-01\n",
      "  1.06647707e-02]\n",
      "[ 5.08100000e+03  3.60000000e+01  4.70000000e+01  0.00000000e+00\n",
      "  7.80000000e-01  8.70000000e-01  1.04420000e-01 -7.55130000e-01\n",
      "  7.10984714e-04]\n",
      "[ 2.10160000e+04  6.00000000e+00  6.23333333e+01  1.00000000e+00\n",
      "  7.10000000e-01  8.30000000e-01  2.57930000e-01 -8.02910000e-01\n",
      "  1.06647707e-03]\n",
      "[ 2.94200000e+03  3.20000000e+01  3.60000000e+01  0.00000000e+00\n",
      "  6.60000000e-01  8.30000000e-01 -2.52400000e-01 -5.75190000e-01\n",
      "  3.19943121e-02]\n",
      "[ 1.19670000e+04  7.00000000e+00  5.54285714e+01  0.00000000e+00\n",
      "  7.20000000e-01  8.70000000e-01  1.84290000e-01 -6.96690000e-01\n",
      "  6.39886242e-03]\n",
      "[ 1.67960000e+04  3.00000000e+00  3.05000000e+01  0.00000000e+00\n",
      "  5.30000000e-01  8.10000000e-01  1.45830000e-01 -9.05280000e-01\n",
      "  5.36793459e-01]\n",
      "[ 2.65640000e+04  3.60000000e+01  4.95000000e+01  1.00000000e+00\n",
      "  7.80000000e-01  8.70000000e-01  1.04420000e-01 -7.55130000e-01\n",
      "  7.10984714e-04]\n",
      "[ 1.70740000e+04  2.30000000e+01  2.83333333e+01  1.00000000e+00\n",
      "  7.20000000e-01  8.60000000e-01  2.10360000e-01 -8.68770000e-01\n",
      "  2.48844650e-03]\n",
      "[ 4.02000000e+02  2.80000000e+01  4.85000000e+01  0.00000000e+00\n",
      "  4.90000000e-01  6.20000000e-01  4.06400000e-01 -7.37790000e-01\n",
      "  1.42196943e-03]\n",
      "[ 3.16470000e+04  3.00000000e+00  5.65000000e+01  0.00000000e+00\n",
      "  6.00000000e-01  7.60000000e-01  1.45830000e-01 -9.05280000e-01\n",
      "  5.36793459e-01]\n",
      "[ 1.22020000e+04  3.90000000e+01  2.50000000e+01  0.00000000e+00\n",
      "  7.20000000e-01  8.80000000e-01  1.54520000e-01 -8.79230000e-01\n",
      "  9.95378599e-03]\n",
      "[ 2.0154000e+04  2.3000000e+01  4.2000000e+01  1.0000000e+00\n",
      "  7.2000000e-01  8.6000000e-01  2.1036000e-01 -8.6877000e-01\n",
      "  2.4884465e-03]\n",
      "[ 8.4430000e+03  2.0000000e+00  5.4000000e+01  0.0000000e+00\n",
      "  7.5000000e-01  8.8000000e-01  9.0710000e-02 -7.9383000e-01\n",
      "  1.4930679e-02]\n",
      "[ 1.85590000e+04  2.70000000e+01  4.30000000e+01  1.00000000e+00\n",
      "  6.30000000e-01  8.20000000e-01  1.40610000e-01 -8.72170000e-01\n",
      "  3.57269819e-01]\n",
      "[ 9.48200000e+03  1.00000000e+00  4.00000000e+01  0.00000000e+00\n",
      "  7.00000000e-01  8.40000000e-01  2.29890000e-01 -8.24090000e-01\n",
      "  2.31070032e-02]\n",
      "[ 3.57210000e+04  2.00000000e+00  5.96666667e+01  1.00000000e+00\n",
      "  7.50000000e-01  8.80000000e-01  9.07100000e-02 -7.93830000e-01\n",
      "  1.49306790e-02]\n",
      "[ 1.59250000e+04  3.80000000e+01  4.10000000e+01  1.00000000e+00\n",
      "  6.60000000e-01  8.40000000e-01  3.54300000e-02 -7.63810000e-01\n",
      "  3.42694632e-01]\n",
      "[ 2.58680000e+04  2.10000000e+01  4.00000000e+01  1.00000000e+00\n",
      "  7.10000000e-01  8.20000000e-01 -2.28090000e-01 -4.32440000e-01\n",
      "  3.19943121e-03]\n",
      "[ 5.61700000e+03  4.60000000e+01  3.30000000e+01  1.00000000e+00\n",
      "  7.70000000e-01  8.80000000e-01  1.08890000e-01 -7.47810000e-01\n",
      "  1.06647707e-02]\n",
      "[ 3.97000000e+02  6.00000000e+00  4.68888889e+01  0.00000000e+00\n",
      "  7.10000000e-01  8.30000000e-01  2.57930000e-01 -8.02910000e-01\n",
      "  1.06647707e-03]\n",
      "[ 1.82710000e+04  1.80000000e+01  4.30000000e+01  1.00000000e+00\n",
      "  4.50000000e-01  5.90000000e-01  4.23640000e-01 -7.10050000e-01\n",
      "  2.13295414e-03]\n",
      "[ 7.47400000e+03  7.30000000e+01  4.00000000e+01  0.00000000e+00\n",
      "  7.50000000e-01  8.60000000e-01  1.75390000e-01 -8.83080000e-01\n",
      "  1.77746178e-03]\n",
      "[ 7.72900000e+03  4.50000000e+01  2.85000000e+01  0.00000000e+00\n",
      "  6.30000000e-01  7.70000000e-01 -2.34320000e-01 -4.64690000e-01\n",
      "  2.66619268e-01]\n",
      "[ 1.33700000e+04  4.00000000e+01  4.48000000e+01  0.00000000e+00\n",
      "  4.70000000e-01  7.30000000e-01 -3.33930000e-01 -7.07860000e-01\n",
      "  1.68503377e-01]\n",
      "[ 1.52430000e+04  4.50000000e+01  5.90000000e+01  0.00000000e+00\n",
      "  6.30000000e-01  7.70000000e-01 -2.34320000e-01 -4.64690000e-01\n",
      "  2.66619268e-01]\n",
      "[ 9.22000000e+03  1.40000000e+01  4.30000000e+01  1.00000000e+00\n",
      "  6.30000000e-01  7.80000000e-01  6.16400000e-02 -7.54230000e-01\n",
      "  7.61820121e-01]\n",
      "[ 1.88720000e+04  4.50000000e+01  5.50000000e+01  0.00000000e+00\n",
      "  6.30000000e-01  7.70000000e-01 -2.34320000e-01 -4.64690000e-01\n",
      "  2.66619268e-01]\n",
      "[ 3.13600000e+04  4.00000000e+01  8.00000000e+00  0.00000000e+00\n",
      "  4.70000000e-01  7.30000000e-01 -3.33930000e-01 -7.07860000e-01\n",
      "  1.68503377e-01]\n",
      "[ 2.23300000e+03  8.00000000e+00  3.30000000e+01  0.00000000e+00\n",
      "  5.90000000e-01  8.10000000e-01  3.60800000e-01 -1.15152000e+00\n",
      "  2.36402417e-01]\n",
      "[ 1.57680000e+04  1.20000000e+01  3.33333333e+01  0.00000000e+00\n",
      "  5.70000000e-01  7.50000000e-01  3.39420000e-01 -1.18408000e+00\n",
      "  1.38642019e-02]\n",
      "[ 2.89400000e+03  4.50000000e+01  3.20000000e+01  0.00000000e+00\n",
      "  6.30000000e-01  7.70000000e-01 -2.34320000e-01 -4.64690000e-01\n",
      "  2.66619268e-01]\n",
      "[ 6.16200000e+03  6.00000000e+00  6.25000000e+01  0.00000000e+00\n",
      "  7.10000000e-01  8.30000000e-01  2.57930000e-01 -8.02910000e-01\n",
      "  1.06647707e-03]\n",
      "[ 1.36570000e+04  6.00000000e+00  4.58333333e+01  0.00000000e+00\n",
      "  7.10000000e-01  8.30000000e-01  2.57930000e-01 -8.02910000e-01\n",
      "  1.06647707e-03]\n",
      "[ 2.51040000e+04  0.00000000e+00  3.06666667e+01  1.00000000e+00\n",
      "  6.30000000e-01  7.30000000e-01 -1.20220000e-01 -7.71140000e-01\n",
      "  1.24422325e-02]\n",
      "[ 1.86600000e+03  1.10000000e+01  2.68000000e+01  0.00000000e+00\n",
      "  6.40000000e-01  7.80000000e-01  9.99400000e-02 -8.42090000e-01\n",
      "  3.27408461e-01]\n",
      "[ 8.01700000e+03  4.20000000e+01  3.20000000e+01  1.00000000e+00\n",
      "  5.20000000e-01  7.50000000e-01  1.94360000e-01 -9.90720000e-01\n",
      "  7.92747956e-01]\n",
      "[ 8.07500000e+03  3.30000000e+01  3.50000000e+01  1.00000000e+00\n",
      "  4.30000000e-01  5.90000000e-01  4.19790000e-01 -8.79040000e-01\n",
      "  7.25204408e-02]\n",
      "[ 2.24180000e+04  5.00000000e+00  3.50000000e+01  1.00000000e+00\n",
      "  7.30000000e-01  8.50000000e-01 -2.15800000e-02 -7.98840000e-01\n",
      "  1.77746178e-03]\n",
      "[ 1.54630000e+04  2.80000000e+01  4.32000000e+01  0.00000000e+00\n",
      "  4.90000000e-01  6.20000000e-01  4.06400000e-01 -7.37790000e-01\n",
      "  1.42196943e-03]\n",
      "[ 8.5020000e+03  2.0000000e+00  3.5000000e+01  0.0000000e+00\n",
      "  7.5000000e-01  8.8000000e-01  9.0710000e-02 -7.9383000e-01\n",
      "  1.4930679e-02]\n",
      "[ 2.32080000e+04  1.70000000e+01  4.10000000e+01  0.00000000e+00\n",
      "  6.60000000e-01  8.10000000e-01  2.79750000e-01 -8.25330000e-01\n",
      "  2.84393886e-03]\n",
      "[ 2.51680000e+04  5.60000000e+01  3.55000000e+01  1.00000000e+00\n",
      "  7.80000000e-01  8.70000000e-01  1.79360000e-01 -7.67870000e-01\n",
      "  1.42196943e-03]\n",
      "[ 1.32610000e+04  1.10000000e+01  3.05500000e+01  0.00000000e+00\n",
      "  6.40000000e-01  7.80000000e-01  9.99400000e-02 -8.42090000e-01\n",
      "  3.27408461e-01]\n",
      "[ 1.2278000e+04  2.0000000e+00  6.2250000e+01  0.0000000e+00\n",
      "  7.5000000e-01  8.8000000e-01  9.0710000e-02 -7.9383000e-01\n",
      "  1.4930679e-02]\n",
      "[ 1.60520000e+04  1.40000000e+01  5.68000000e+01  0.00000000e+00\n",
      "  6.30000000e-01  7.80000000e-01  6.16400000e-02 -7.54230000e-01\n",
      "  7.61820121e-01]\n",
      "[ 3.48300000e+03  6.00000000e+00  3.47500000e+01  0.00000000e+00\n",
      "  7.10000000e-01  8.30000000e-01  2.57930000e-01 -8.02910000e-01\n",
      "  1.06647707e-03]\n",
      "[ 1.16770000e+04  8.00000000e+00  4.10000000e+01  1.00000000e+00\n",
      "  5.90000000e-01  8.10000000e-01  3.60800000e-01 -1.15152000e+00\n",
      "  2.36402417e-01]\n",
      "[ 2.9382000e+04  2.0000000e+00  4.3400000e+01  0.0000000e+00\n",
      "  7.5000000e-01  8.8000000e-01  9.0710000e-02 -7.9383000e-01\n",
      "  1.4930679e-02]\n",
      "[ 7.93500000e+03  1.80000000e+01  5.10000000e+01  0.00000000e+00\n",
      "  4.50000000e-01  5.90000000e-01  4.23640000e-01 -7.10050000e-01\n",
      "  2.13295414e-03]\n",
      "[ 1.55370000e+04  1.20000000e+01  5.36000000e+01  0.00000000e+00\n",
      "  5.70000000e-01  7.50000000e-01  3.39420000e-01 -1.18408000e+00\n",
      "  1.38642019e-02]\n",
      "[ 2.3372000e+04  2.3000000e+01  4.4000000e+01  1.0000000e+00\n",
      "  7.2000000e-01  8.6000000e-01  2.1036000e-01 -8.6877000e-01\n",
      "  2.4884465e-03]\n",
      "[ 4.10800000e+03  5.20000000e+01  4.90769231e+01  0.00000000e+00\n",
      "  5.50000000e-01  6.90000000e-01 -3.48380000e-01 -5.60300000e-01\n",
      "  1.17312478e-02]\n",
      "[ 1.9520000e+04  2.0000000e+00  3.8000000e+01  0.0000000e+00\n",
      "  7.5000000e-01  8.8000000e-01  9.0710000e-02 -7.9383000e-01\n",
      "  1.4930679e-02]\n",
      "[ 1.51430000e+04  7.00000000e+00  5.96666667e+01  0.00000000e+00\n",
      "  7.20000000e-01  8.70000000e-01  1.84290000e-01 -6.96690000e-01\n",
      "  6.39886242e-03]\n",
      "[ 3.08600000e+03  9.00000000e+00  5.70000000e+01  1.00000000e+00\n",
      "  7.30000000e-01  9.00000000e-01  1.21410000e-01 -8.61680000e-01\n",
      "  2.13295414e-02]\n",
      "data in for\n",
      "[ 7.94900000e+03  4.20000000e+01  6.70000000e+01  0.00000000e+00\n",
      "  5.20000000e-01  7.50000000e-01  1.94360000e-01 -9.90720000e-01\n",
      "  7.92747956e-01]\n",
      "[ 6.51000000e+03  1.70000000e+01  3.20000000e+01  1.00000000e+00\n",
      "  6.60000000e-01  8.10000000e-01  2.79750000e-01 -8.25330000e-01\n",
      "  2.84393886e-03]\n",
      "[ 1.16370000e+04  6.00000000e+00  5.70000000e+01  0.00000000e+00\n",
      "  7.10000000e-01  8.30000000e-01  2.57930000e-01 -8.02910000e-01\n",
      "  1.06647707e-03]\n",
      "[ 1.38730000e+04  6.00000000e+00  5.70000000e+01  0.00000000e+00\n",
      "  7.10000000e-01  8.30000000e-01  2.57930000e-01 -8.02910000e-01\n",
      "  1.06647707e-03]\n",
      "[ 1.94480000e+04  2.00000000e+01  3.70000000e+01  0.00000000e+00\n",
      "  7.50000000e-01  8.50000000e-01  1.85670000e-01 -6.83630000e-01\n",
      "  4.62140064e-03]\n",
      "[ 3.58550000e+04  1.50000000e+01  4.90000000e+01  1.00000000e+00\n",
      "  7.40000000e-01  9.10000000e-01  1.34410000e-01 -8.90560000e-01\n",
      "  1.10202631e-02]\n",
      "[ 4.57500000e+03  2.80000000e+01  2.60000000e+01  0.00000000e+00\n",
      "  4.90000000e-01  6.20000000e-01  4.06400000e-01 -7.37790000e-01\n",
      "  1.42196943e-03]\n",
      "[ 4.83100000e+03  3.30000000e+01  3.20000000e+01  0.00000000e+00\n",
      "  4.30000000e-01  5.90000000e-01  4.19790000e-01 -8.79040000e-01\n",
      "  7.25204408e-02]\n",
      "[ 3.26000000e+02  2.20000000e+01  5.45000000e+01  1.00000000e+00\n",
      "  6.40000000e-01  8.20000000e-01  2.84290000e-01 -8.13160000e-01\n",
      "  1.06647707e-02]\n",
      "[ 1.29800000e+04  4.60000000e+01  4.40000000e+01  0.00000000e+00\n",
      "  7.70000000e-01  8.80000000e-01  1.08890000e-01 -7.47810000e-01\n",
      "  1.06647707e-02]\n",
      "[ 1.72650000e+04  6.00000000e+00  3.25000000e+01  1.00000000e+00\n",
      "  7.10000000e-01  8.30000000e-01  2.57930000e-01 -8.02910000e-01\n",
      "  1.06647707e-03]\n",
      "[ 1.39370000e+04  4.20000000e+01  4.88000000e+01  0.00000000e+00\n",
      "  5.20000000e-01  7.50000000e-01  1.94360000e-01 -9.90720000e-01\n",
      "  7.92747956e-01]\n",
      "[ 1.74630000e+04  0.00000000e+00  4.45000000e+01  1.00000000e+00\n",
      "  6.30000000e-01  7.30000000e-01 -1.20220000e-01 -7.71140000e-01\n",
      "  1.24422325e-02]\n",
      "[ 1.73610000e+04  1.00000000e+00  5.05000000e+01  0.00000000e+00\n",
      "  7.00000000e-01  8.40000000e-01  2.29890000e-01 -8.24090000e-01\n",
      "  2.31070032e-02]\n",
      "[ 1.41100000e+03  4.00000000e+01  5.35000000e+01  0.00000000e+00\n",
      "  4.70000000e-01  7.30000000e-01 -3.33930000e-01 -7.07860000e-01\n",
      "  1.68503377e-01]\n",
      "[ 1.04080000e+04  1.10000000e+01  5.78750000e+01  0.00000000e+00\n",
      "  6.40000000e-01  7.80000000e-01  9.99400000e-02 -8.42090000e-01\n",
      "  3.27408461e-01]\n",
      "[ 2.83000000e+03  1.20000000e+01  3.90000000e+01  0.00000000e+00\n",
      "  5.70000000e-01  7.50000000e-01  3.39420000e-01 -1.18408000e+00\n",
      "  1.38642019e-02]\n",
      "[ 3.68500000e+03  4.00000000e+01  4.63333333e+01  1.00000000e+00\n",
      "  4.70000000e-01  7.30000000e-01 -3.33930000e-01 -7.07860000e-01\n",
      "  1.68503377e-01]\n",
      "[ 1.51080000e+04  4.20000000e+01  2.95000000e+01  0.00000000e+00\n",
      "  5.20000000e-01  7.50000000e-01  1.94360000e-01 -9.90720000e-01\n",
      "  7.92747956e-01]\n",
      "[ 1.44790000e+04  3.60000000e+01  3.70000000e+01  0.00000000e+00\n",
      "  7.80000000e-01  8.70000000e-01  1.04420000e-01 -7.55130000e-01\n",
      "  7.10984714e-04]\n",
      "[ 5.09000000e+02  3.60000000e+01  3.55000000e+01  0.00000000e+00\n",
      "  7.80000000e-01  8.70000000e-01  1.04420000e-01 -7.55130000e-01\n",
      "  7.10984714e-04]\n",
      "[ 1.61280000e+04  3.00000000e+00  4.90000000e+01  0.00000000e+00\n",
      "  5.30000000e-01  8.10000000e-01  1.45830000e-01 -9.05280000e-01\n",
      "  5.36793459e-01]\n",
      "[ 1.83500000e+03  3.90000000e+01  3.04000000e+01  0.00000000e+00\n",
      "  7.20000000e-01  8.80000000e-01  1.54520000e-01 -8.79230000e-01\n",
      "  9.95378599e-03]\n",
      "[ 3.20670000e+04  7.00000000e+00  2.50000000e+01  1.00000000e+00\n",
      "  7.20000000e-01  8.70000000e-01  1.84290000e-01 -6.96690000e-01\n",
      "  6.39886242e-03]\n",
      "[ 2.22000000e+02  7.00000000e+00  3.80000000e+01  0.00000000e+00\n",
      "  7.20000000e-01  8.70000000e-01  1.84290000e-01 -6.96690000e-01\n",
      "  6.39886242e-03]\n",
      "[ 2.13400000e+04  3.60000000e+01  4.30000000e+01  0.00000000e+00\n",
      "  7.80000000e-01  8.70000000e-01  1.04420000e-01 -7.55130000e-01\n",
      "  7.10984714e-04]\n",
      "[ 8.09100000e+03  3.50000000e+01  3.00000000e+01  1.00000000e+00\n",
      "  4.60000000e-01  6.60000000e-01  3.89440000e-01 -7.74560000e-01\n",
      "  3.41272663e-02]\n",
      "[ 3.12400000e+03  6.60000000e+01  3.70000000e+01  1.00000000e+00\n",
      "  6.50000000e-01  7.90000000e-01  4.81300000e-02 -7.57390000e-01\n",
      "  4.78492712e-01]\n",
      "[ 1.19600000e+04  4.90000000e+01  5.60000000e+01  0.00000000e+00\n",
      "  7.20000000e-01  8.30000000e-01  2.60720000e-01 -8.01530000e-01\n",
      "  1.06647707e-03]\n",
      "[ 1.34410000e+04  1.00000000e+00  3.44230769e+01  0.00000000e+00\n",
      "  7.00000000e-01  8.40000000e-01  2.29890000e-01 -8.24090000e-01\n",
      "  2.31070032e-02]\n",
      "[ 1.49210000e+04  1.50000000e+01  4.27600000e+01  1.00000000e+00\n",
      "  7.40000000e-01  9.10000000e-01  1.34410000e-01 -8.90560000e-01\n",
      "  1.10202631e-02]\n",
      "[ 1.59620000e+04  1.40000000e+01  5.50000000e+01  0.00000000e+00\n",
      "  6.30000000e-01  7.80000000e-01  6.16400000e-02 -7.54230000e-01\n",
      "  7.61820121e-01]\n",
      "[ 1.42860000e+04  1.10000000e+01  5.04666667e+01  0.00000000e+00\n",
      "  6.40000000e-01  7.80000000e-01  9.99400000e-02 -8.42090000e-01\n",
      "  3.27408461e-01]\n",
      "[ 4.91000000e+02  3.80000000e+01  3.60000000e+01  0.00000000e+00\n",
      "  6.60000000e-01  8.40000000e-01  3.54300000e-02 -7.63810000e-01\n",
      "  3.42694632e-01]\n",
      "[ 9.74000000e+03  8.00000000e+00  3.70000000e+01  0.00000000e+00\n",
      "  5.90000000e-01  8.10000000e-01  3.60800000e-01 -1.15152000e+00\n",
      "  2.36402417e-01]\n",
      "[ 2.88560000e+04  4.00000000e+00  5.68750000e+01  0.00000000e+00\n",
      "  4.70000000e-01  6.50000000e-01  4.70100000e-02 -7.41470000e-01\n",
      "  9.06150018e-01]\n",
      "[ 1.55500000e+04  8.00000000e+00  3.80000000e+01  0.00000000e+00\n",
      "  5.90000000e-01  8.10000000e-01  3.60800000e-01 -1.15152000e+00\n",
      "  2.36402417e-01]\n",
      "[ 5.7480000e+03  2.0000000e+00  4.3000000e+01  0.0000000e+00\n",
      "  7.5000000e-01  8.8000000e-01  9.0710000e-02 -7.9383000e-01\n",
      "  1.4930679e-02]\n",
      "[ 1.00890000e+04  7.20000000e+01  3.42500000e+01  1.00000000e+00\n",
      "  5.20000000e-01  6.50000000e-01  3.76190000e-01 -1.22375000e+00\n",
      "  1.42196943e-03]\n",
      "[ 6.19700000e+03  2.20000000e+01  3.90000000e+01  0.00000000e+00\n",
      "  6.40000000e-01  8.20000000e-01  2.84290000e-01 -8.13160000e-01\n",
      "  1.06647707e-02]\n",
      "[ 2.15120000e+04  4.00000000e+00  4.37500000e+01  0.00000000e+00\n",
      "  4.70000000e-01  6.50000000e-01  4.70100000e-02 -7.41470000e-01\n",
      "  9.06150018e-01]\n",
      "[ 6.41700000e+03  2.40000000e+01  5.50000000e+01  0.00000000e+00\n",
      "  7.40000000e-01  8.80000000e-01  1.05950000e-01 -6.13370000e-01\n",
      "  6.39886242e-03]\n",
      "[ 1.64980000e+04  2.80000000e+01  4.10000000e+01  1.00000000e+00\n",
      "  4.90000000e-01  6.20000000e-01  4.06400000e-01 -7.37790000e-01\n",
      "  1.42196943e-03]\n",
      "[ 1.63300000e+03  7.00000000e+00  3.07777778e+01  0.00000000e+00\n",
      "  7.20000000e-01  8.70000000e-01  1.84290000e-01 -6.96690000e-01\n",
      "  6.39886242e-03]\n",
      "[ 1.80150000e+04  3.00000000e+00  5.55000000e+01  0.00000000e+00\n",
      "  5.30000000e-01  8.10000000e-01  1.45830000e-01 -9.05280000e-01\n",
      "  5.36793459e-01]\n",
      "[ 1.63220000e+04  8.00000000e+00  2.60000000e+01  1.00000000e+00\n",
      "  5.90000000e-01  8.10000000e-01  3.60800000e-01 -1.15152000e+00\n",
      "  2.36402417e-01]\n",
      "[ 8.97700000e+03  6.00000000e+00  4.95000000e+01  0.00000000e+00\n",
      "  7.10000000e-01  8.30000000e-01  2.57930000e-01 -8.02910000e-01\n",
      "  1.06647707e-03]\n",
      "[ 2.51830000e+04  9.00000000e+00  2.70000000e+01  0.00000000e+00\n",
      "  7.30000000e-01  9.00000000e-01  1.21410000e-01 -8.61680000e-01\n",
      "  2.13295414e-02]\n",
      "[ 1.06970000e+04  2.80000000e+01  2.10000000e+01  0.00000000e+00\n",
      "  4.90000000e-01  6.20000000e-01  4.06400000e-01 -7.37790000e-01\n",
      "  1.42196943e-03]\n",
      "[ 1.53540000e+04  4.10000000e+01  4.90000000e+01  0.00000000e+00\n",
      "  7.90000000e-01  8.80000000e-01  1.25010000e-01 -7.00150000e-01\n",
      "  6.75435478e-03]\n",
      "[ 2.38530000e+04  3.00000000e+00  4.20000000e+01  0.00000000e+00\n",
      "  5.30000000e-01  8.10000000e-01  1.45830000e-01 -9.05280000e-01\n",
      "  5.36793459e-01]\n",
      "[ 6.74800000e+03  0.00000000e+00  6.10000000e+01  0.00000000e+00\n",
      "  6.30000000e-01  7.30000000e-01 -1.20220000e-01 -7.71140000e-01\n",
      "  1.24422325e-02]\n",
      "[ 2.85030000e+04  5.00000000e+00  4.86666667e+01  0.00000000e+00\n",
      "  7.30000000e-01  8.50000000e-01 -2.15800000e-02 -7.98840000e-01\n",
      "  1.77746178e-03]\n",
      "[ 7.70000000e+01  6.00000000e+00  6.90000000e+01  0.00000000e+00\n",
      "  7.10000000e-01  8.30000000e-01  2.57930000e-01 -8.02910000e-01\n",
      "  1.06647707e-03]\n",
      "[ 9.7090000e+03  2.0000000e+00  4.2312500e+01  0.0000000e+00\n",
      "  7.5000000e-01  8.8000000e-01  9.0710000e-02 -7.9383000e-01\n",
      "  1.4930679e-02]\n",
      "[1.453e+04 5.900e+01 4.500e+01 0.000e+00 7.500e-01 8.500e-01 0.000e+00\n",
      " 0.000e+00 0.000e+00]\n",
      "[ 2.62730000e+04  0.00000000e+00  3.80000000e+01  1.00000000e+00\n",
      "  6.30000000e-01  7.30000000e-01 -1.20220000e-01 -7.71140000e-01\n",
      "  1.24422325e-02]\n",
      "[ 2.51000000e+03  4.00000000e+00  5.34444444e+01  0.00000000e+00\n",
      "  4.70000000e-01  6.50000000e-01  4.70100000e-02 -7.41470000e-01\n",
      "  9.06150018e-01]\n",
      "[ 1.05350000e+04  4.80000000e+01  6.00000000e+01  0.00000000e+00\n",
      "  5.30000000e-01  8.10000000e-01  2.05220000e-01 -1.03311000e+00\n",
      "  5.43192321e-01]\n",
      "[ 1.35840000e+04  6.00000000e+00  3.65000000e+01  0.00000000e+00\n",
      "  7.10000000e-01  8.30000000e-01  2.57930000e-01 -8.02910000e-01\n",
      "  1.06647707e-03]\n",
      "[ 5.57200000e+03  4.10000000e+01  6.40000000e+01  1.00000000e+00\n",
      "  7.90000000e-01  8.80000000e-01  1.25010000e-01 -7.00150000e-01\n",
      "  6.75435478e-03]\n",
      "[ 3.5930e+03  3.1000e+01  5.1000e+01  0.0000e+00  4.8000e-01  6.5000e-01\n",
      " -1.4100e-03 -7.8488e-01  1.0000e+00]\n",
      "[ 1.28990000e+04  3.90000000e+01  3.50000000e+01  0.00000000e+00\n",
      "  7.20000000e-01  8.80000000e-01  1.54520000e-01 -8.79230000e-01\n",
      "  9.95378599e-03]\n",
      "[ 1.95980000e+04  7.20000000e+01  3.80000000e+01  0.00000000e+00\n",
      "  5.20000000e-01  6.50000000e-01  3.76190000e-01 -1.22375000e+00\n",
      "  1.42196943e-03]\n",
      "inside for\n",
      "i=  0\n",
      "fields=  tensor([[ 7.9490e+03,  4.2000e+01,  6.7000e+01,  0.0000e+00,  5.2000e-01,\n",
      "          7.5000e-01,  1.9436e-01, -9.9072e-01,  7.9275e-01],\n",
      "        [ 6.5100e+03,  1.7000e+01,  3.2000e+01,  1.0000e+00,  6.6000e-01,\n",
      "          8.1000e-01,  2.7975e-01, -8.2533e-01,  2.8439e-03],\n",
      "        [ 1.1637e+04,  6.0000e+00,  5.7000e+01,  0.0000e+00,  7.1000e-01,\n",
      "          8.3000e-01,  2.5793e-01, -8.0291e-01,  1.0665e-03],\n",
      "        [ 1.3873e+04,  6.0000e+00,  5.7000e+01,  0.0000e+00,  7.1000e-01,\n",
      "          8.3000e-01,  2.5793e-01, -8.0291e-01,  1.0665e-03],\n",
      "        [ 1.9448e+04,  2.0000e+01,  3.7000e+01,  0.0000e+00,  7.5000e-01,\n",
      "          8.5000e-01,  1.8567e-01, -6.8363e-01,  4.6214e-03],\n",
      "        [ 3.5855e+04,  1.5000e+01,  4.9000e+01,  1.0000e+00,  7.4000e-01,\n",
      "          9.1000e-01,  1.3441e-01, -8.9056e-01,  1.1020e-02],\n",
      "        [ 4.5750e+03,  2.8000e+01,  2.6000e+01,  0.0000e+00,  4.9000e-01,\n",
      "          6.2000e-01,  4.0640e-01, -7.3779e-01,  1.4220e-03],\n",
      "        [ 4.8310e+03,  3.3000e+01,  3.2000e+01,  0.0000e+00,  4.3000e-01,\n",
      "          5.9000e-01,  4.1979e-01, -8.7904e-01,  7.2520e-02],\n",
      "        [ 3.2600e+02,  2.2000e+01,  5.4500e+01,  1.0000e+00,  6.4000e-01,\n",
      "          8.2000e-01,  2.8429e-01, -8.1316e-01,  1.0665e-02],\n",
      "        [ 1.2980e+04,  4.6000e+01,  4.4000e+01,  0.0000e+00,  7.7000e-01,\n",
      "          8.8000e-01,  1.0889e-01, -7.4781e-01,  1.0665e-02],\n",
      "        [ 1.7265e+04,  6.0000e+00,  3.2500e+01,  1.0000e+00,  7.1000e-01,\n",
      "          8.3000e-01,  2.5793e-01, -8.0291e-01,  1.0665e-03],\n",
      "        [ 1.3937e+04,  4.2000e+01,  4.8800e+01,  0.0000e+00,  5.2000e-01,\n",
      "          7.5000e-01,  1.9436e-01, -9.9072e-01,  7.9275e-01],\n",
      "        [ 1.7463e+04,  0.0000e+00,  4.4500e+01,  1.0000e+00,  6.3000e-01,\n",
      "          7.3000e-01, -1.2022e-01, -7.7114e-01,  1.2442e-02],\n",
      "        [ 1.7361e+04,  1.0000e+00,  5.0500e+01,  0.0000e+00,  7.0000e-01,\n",
      "          8.4000e-01,  2.2989e-01, -8.2409e-01,  2.3107e-02],\n",
      "        [ 1.4110e+03,  4.0000e+01,  5.3500e+01,  0.0000e+00,  4.7000e-01,\n",
      "          7.3000e-01, -3.3393e-01, -7.0786e-01,  1.6850e-01],\n",
      "        [ 1.0408e+04,  1.1000e+01,  5.7875e+01,  0.0000e+00,  6.4000e-01,\n",
      "          7.8000e-01,  9.9940e-02, -8.4209e-01,  3.2741e-01],\n",
      "        [ 2.8300e+03,  1.2000e+01,  3.9000e+01,  0.0000e+00,  5.7000e-01,\n",
      "          7.5000e-01,  3.3942e-01, -1.1841e+00,  1.3864e-02],\n",
      "        [ 3.6850e+03,  4.0000e+01,  4.6333e+01,  1.0000e+00,  4.7000e-01,\n",
      "          7.3000e-01, -3.3393e-01, -7.0786e-01,  1.6850e-01],\n",
      "        [ 1.5108e+04,  4.2000e+01,  2.9500e+01,  0.0000e+00,  5.2000e-01,\n",
      "          7.5000e-01,  1.9436e-01, -9.9072e-01,  7.9275e-01],\n",
      "        [ 1.4479e+04,  3.6000e+01,  3.7000e+01,  0.0000e+00,  7.8000e-01,\n",
      "          8.7000e-01,  1.0442e-01, -7.5513e-01,  7.1098e-04],\n",
      "        [ 5.0900e+02,  3.6000e+01,  3.5500e+01,  0.0000e+00,  7.8000e-01,\n",
      "          8.7000e-01,  1.0442e-01, -7.5513e-01,  7.1098e-04],\n",
      "        [ 1.6128e+04,  3.0000e+00,  4.9000e+01,  0.0000e+00,  5.3000e-01,\n",
      "          8.1000e-01,  1.4583e-01, -9.0528e-01,  5.3679e-01],\n",
      "        [ 1.8350e+03,  3.9000e+01,  3.0400e+01,  0.0000e+00,  7.2000e-01,\n",
      "          8.8000e-01,  1.5452e-01, -8.7923e-01,  9.9538e-03],\n",
      "        [ 3.2067e+04,  7.0000e+00,  2.5000e+01,  1.0000e+00,  7.2000e-01,\n",
      "          8.7000e-01,  1.8429e-01, -6.9669e-01,  6.3989e-03],\n",
      "        [ 2.2200e+02,  7.0000e+00,  3.8000e+01,  0.0000e+00,  7.2000e-01,\n",
      "          8.7000e-01,  1.8429e-01, -6.9669e-01,  6.3989e-03],\n",
      "        [ 2.1340e+04,  3.6000e+01,  4.3000e+01,  0.0000e+00,  7.8000e-01,\n",
      "          8.7000e-01,  1.0442e-01, -7.5513e-01,  7.1098e-04],\n",
      "        [ 8.0910e+03,  3.5000e+01,  3.0000e+01,  1.0000e+00,  4.6000e-01,\n",
      "          6.6000e-01,  3.8944e-01, -7.7456e-01,  3.4127e-02],\n",
      "        [ 3.1240e+03,  6.6000e+01,  3.7000e+01,  1.0000e+00,  6.5000e-01,\n",
      "          7.9000e-01,  4.8130e-02, -7.5739e-01,  4.7849e-01],\n",
      "        [ 1.1960e+04,  4.9000e+01,  5.6000e+01,  0.0000e+00,  7.2000e-01,\n",
      "          8.3000e-01,  2.6072e-01, -8.0153e-01,  1.0665e-03],\n",
      "        [ 1.3441e+04,  1.0000e+00,  3.4423e+01,  0.0000e+00,  7.0000e-01,\n",
      "          8.4000e-01,  2.2989e-01, -8.2409e-01,  2.3107e-02],\n",
      "        [ 1.4921e+04,  1.5000e+01,  4.2760e+01,  1.0000e+00,  7.4000e-01,\n",
      "          9.1000e-01,  1.3441e-01, -8.9056e-01,  1.1020e-02],\n",
      "        [ 1.5962e+04,  1.4000e+01,  5.5000e+01,  0.0000e+00,  6.3000e-01,\n",
      "          7.8000e-01,  6.1640e-02, -7.5423e-01,  7.6182e-01],\n",
      "        [ 1.4286e+04,  1.1000e+01,  5.0467e+01,  0.0000e+00,  6.4000e-01,\n",
      "          7.8000e-01,  9.9940e-02, -8.4209e-01,  3.2741e-01],\n",
      "        [ 4.9100e+02,  3.8000e+01,  3.6000e+01,  0.0000e+00,  6.6000e-01,\n",
      "          8.4000e-01,  3.5430e-02, -7.6381e-01,  3.4269e-01],\n",
      "        [ 9.7400e+03,  8.0000e+00,  3.7000e+01,  0.0000e+00,  5.9000e-01,\n",
      "          8.1000e-01,  3.6080e-01, -1.1515e+00,  2.3640e-01],\n",
      "        [ 2.8856e+04,  4.0000e+00,  5.6875e+01,  0.0000e+00,  4.7000e-01,\n",
      "          6.5000e-01,  4.7010e-02, -7.4147e-01,  9.0615e-01],\n",
      "        [ 1.5550e+04,  8.0000e+00,  3.8000e+01,  0.0000e+00,  5.9000e-01,\n",
      "          8.1000e-01,  3.6080e-01, -1.1515e+00,  2.3640e-01],\n",
      "        [ 5.7480e+03,  2.0000e+00,  4.3000e+01,  0.0000e+00,  7.5000e-01,\n",
      "          8.8000e-01,  9.0710e-02, -7.9383e-01,  1.4931e-02],\n",
      "        [ 1.0089e+04,  7.2000e+01,  3.4250e+01,  1.0000e+00,  5.2000e-01,\n",
      "          6.5000e-01,  3.7619e-01, -1.2237e+00,  1.4220e-03],\n",
      "        [ 6.1970e+03,  2.2000e+01,  3.9000e+01,  0.0000e+00,  6.4000e-01,\n",
      "          8.2000e-01,  2.8429e-01, -8.1316e-01,  1.0665e-02],\n",
      "        [ 2.1512e+04,  4.0000e+00,  4.3750e+01,  0.0000e+00,  4.7000e-01,\n",
      "          6.5000e-01,  4.7010e-02, -7.4147e-01,  9.0615e-01],\n",
      "        [ 6.4170e+03,  2.4000e+01,  5.5000e+01,  0.0000e+00,  7.4000e-01,\n",
      "          8.8000e-01,  1.0595e-01, -6.1337e-01,  6.3989e-03],\n",
      "        [ 1.6498e+04,  2.8000e+01,  4.1000e+01,  1.0000e+00,  4.9000e-01,\n",
      "          6.2000e-01,  4.0640e-01, -7.3779e-01,  1.4220e-03],\n",
      "        [ 1.6330e+03,  7.0000e+00,  3.0778e+01,  0.0000e+00,  7.2000e-01,\n",
      "          8.7000e-01,  1.8429e-01, -6.9669e-01,  6.3989e-03],\n",
      "        [ 1.8015e+04,  3.0000e+00,  5.5500e+01,  0.0000e+00,  5.3000e-01,\n",
      "          8.1000e-01,  1.4583e-01, -9.0528e-01,  5.3679e-01],\n",
      "        [ 1.6322e+04,  8.0000e+00,  2.6000e+01,  1.0000e+00,  5.9000e-01,\n",
      "          8.1000e-01,  3.6080e-01, -1.1515e+00,  2.3640e-01],\n",
      "        [ 8.9770e+03,  6.0000e+00,  4.9500e+01,  0.0000e+00,  7.1000e-01,\n",
      "          8.3000e-01,  2.5793e-01, -8.0291e-01,  1.0665e-03],\n",
      "        [ 2.5183e+04,  9.0000e+00,  2.7000e+01,  0.0000e+00,  7.3000e-01,\n",
      "          9.0000e-01,  1.2141e-01, -8.6168e-01,  2.1330e-02],\n",
      "        [ 1.0697e+04,  2.8000e+01,  2.1000e+01,  0.0000e+00,  4.9000e-01,\n",
      "          6.2000e-01,  4.0640e-01, -7.3779e-01,  1.4220e-03],\n",
      "        [ 1.5354e+04,  4.1000e+01,  4.9000e+01,  0.0000e+00,  7.9000e-01,\n",
      "          8.8000e-01,  1.2501e-01, -7.0015e-01,  6.7544e-03],\n",
      "        [ 2.3853e+04,  3.0000e+00,  4.2000e+01,  0.0000e+00,  5.3000e-01,\n",
      "          8.1000e-01,  1.4583e-01, -9.0528e-01,  5.3679e-01],\n",
      "        [ 6.7480e+03,  0.0000e+00,  6.1000e+01,  0.0000e+00,  6.3000e-01,\n",
      "          7.3000e-01, -1.2022e-01, -7.7114e-01,  1.2442e-02],\n",
      "        [ 2.8503e+04,  5.0000e+00,  4.8667e+01,  0.0000e+00,  7.3000e-01,\n",
      "          8.5000e-01, -2.1580e-02, -7.9884e-01,  1.7775e-03],\n",
      "        [ 7.7000e+01,  6.0000e+00,  6.9000e+01,  0.0000e+00,  7.1000e-01,\n",
      "          8.3000e-01,  2.5793e-01, -8.0291e-01,  1.0665e-03],\n",
      "        [ 9.7090e+03,  2.0000e+00,  4.2312e+01,  0.0000e+00,  7.5000e-01,\n",
      "          8.8000e-01,  9.0710e-02, -7.9383e-01,  1.4931e-02],\n",
      "        [ 1.4530e+04,  5.9000e+01,  4.5000e+01,  0.0000e+00,  7.5000e-01,\n",
      "          8.5000e-01,  0.0000e+00,  0.0000e+00,  0.0000e+00],\n",
      "        [ 2.6273e+04,  0.0000e+00,  3.8000e+01,  1.0000e+00,  6.3000e-01,\n",
      "          7.3000e-01, -1.2022e-01, -7.7114e-01,  1.2442e-02],\n",
      "        [ 2.5100e+03,  4.0000e+00,  5.3444e+01,  0.0000e+00,  4.7000e-01,\n",
      "          6.5000e-01,  4.7010e-02, -7.4147e-01,  9.0615e-01],\n",
      "        [ 1.0535e+04,  4.8000e+01,  6.0000e+01,  0.0000e+00,  5.3000e-01,\n",
      "          8.1000e-01,  2.0522e-01, -1.0331e+00,  5.4319e-01],\n",
      "        [ 1.3584e+04,  6.0000e+00,  3.6500e+01,  0.0000e+00,  7.1000e-01,\n",
      "          8.3000e-01,  2.5793e-01, -8.0291e-01,  1.0665e-03],\n",
      "        [ 5.5720e+03,  4.1000e+01,  6.4000e+01,  1.0000e+00,  7.9000e-01,\n",
      "          8.8000e-01,  1.2501e-01, -7.0015e-01,  6.7544e-03],\n",
      "        [ 3.5930e+03,  3.1000e+01,  5.1000e+01,  0.0000e+00,  4.8000e-01,\n",
      "          6.5000e-01, -1.4100e-03, -7.8488e-01,  1.0000e+00],\n",
      "        [ 1.2899e+04,  3.9000e+01,  3.5000e+01,  0.0000e+00,  7.2000e-01,\n",
      "          8.8000e-01,  1.5452e-01, -8.7923e-01,  9.9538e-03],\n",
      "        [ 1.9598e+04,  7.2000e+01,  3.8000e+01,  0.0000e+00,  5.2000e-01,\n",
      "          6.5000e-01,  3.7619e-01, -1.2237e+00,  1.4220e-03]],\n",
      "       dtype=torch.float64)\n"
     ]
    },
    {
     "ename": "UnboundLocalError",
     "evalue": "local variable 'neg' referenced before assignment",
     "output_type": "error",
     "traceback": [
      "\u001b[0;31m---------------------------------------------------------------------------\u001b[0m",
      "\u001b[0;31mUnboundLocalError\u001b[0m                         Traceback (most recent call last)",
      "File \u001b[0;32m<timed exec>:8\u001b[0m, in \u001b[0;36m<module>\u001b[0;34m\u001b[0m\n",
      "File \u001b[0;32m~/src/2022/copa_recommenders/copa_recommender_data_rankfm/torchfm/myfunclib.py:255\u001b[0m, in \u001b[0;36mtrain_epoch\u001b[0;34m(model, optimizer, data_loader, criterion, device, log_interval)\u001b[0m\n\u001b[1;32m    252\u001b[0m # More efficient to collect tensors together on CPU and send them all at once\n\u001b[1;32m    253\u001b[0m fields, neg, target = fields.to(device), neg.to(device), target.to(device)\n\u001b[0;32m--> 255\u001b[0m # The 2nd field is the destination\n\u001b[1;32m    256\u001b[0m fields_pos = fields\n\u001b[1;32m    257\u001b[0m a1 = fields[:,0].unsqueeze(1)  # (B,1)  # Why choose the 0th field? \n",
      "\u001b[0;31mUnboundLocalError\u001b[0m: local variable 'neg' referenced before assignment"
     ]
    }
   ],
   "source": [
    "%%time\n",
    "nb_epochs = dct.nb_epochs\n",
    "print(\"nb_epochs: \", dct.nb_epochs)\n",
    "losses = []\n",
    "\n",
    "loader_train = DataLoader(dataset_train, shuffle=True, batch_size=dct.batch_size)\n",
    "\n",
    "for epoch in range(nb_epochs):\n",
    "    total_loss = myfm.train_epoch(net, optimizer, loader_train, loss_func, device=gdct['device'], log_interval=10)\n",
    "    losses.append(total_loss)\n",
    "    if epoch % 10 == 0:\n",
    "        print(f\"Epoch {epoch}, avg total_loss (per training sample): \", total_loss)\n",
    "        \n",
    "#  ERROR: Check that all variables are on the same device. HOW TO DO THIS? try 'cuda'\n",
    "#  8500 training samples\n",
    "# time GPU, 5.6 sec for 4 epochs, batch 512\n",
    "# time CPU, 5.8 sec for 4 epochs, batch 512\n",
    "# time CPU, 7.1 sec for 4 epochs, batch 32\n",
    "# time CPU, 5.7 sec for 4 epochs, batch 4096\n",
    "# time CPU, 6.8 sec for 4 epochs, batch 32\n",
    "# time GPU, 7.0 sec for 4 epochs, batch 32\n",
    "# time GPU, 5.0 sec for 4 epochs, batch 4096\n",
    "\n",
    "# ERROR? The loss per training sample should be independent of the batch size"
   ]
  },
  {
   "cell_type": "code",
   "execution_count": 44,
   "id": "bddaa5ef-8548-4d19-9f29-1011db2d8b43",
   "metadata": {},
   "outputs": [
    {
     "data": {
      "text/plain": [
       "-1"
      ]
     },
     "execution_count": 44,
     "metadata": {},
     "output_type": "execute_result"
    }
   ],
   "source": [
    "list(net.parameters())[0].get_device()  # -1 for cpu"
   ]
  },
  {
   "cell_type": "code",
   "execution_count": 45,
   "id": "a2241a66-bf4c-4674-93b5-95d7e06ee0fa",
   "metadata": {},
   "outputs": [
    {
     "data": {
      "text/plain": [
       "device(type='cpu')"
      ]
     },
     "execution_count": 45,
     "metadata": {},
     "output_type": "execute_result"
    }
   ],
   "source": [
    "a = list(net.parameters())[0].device\n",
    "a"
   ]
  },
  {
   "cell_type": "code",
   "execution_count": 66,
   "id": "f29a0b07-3225-4a0d-af60-67ec09332a1a",
   "metadata": {},
   "outputs": [
    {
     "name": "stdout",
     "output_type": "stream",
     "text": [
      "length:  8581\n",
      "CPU times: user 1.63 s, sys: 23.7 ms, total: 1.66 s\n",
      "Wall time: 1.42 s\n"
     ]
    }
   ],
   "source": [
    "%%time\n",
    "test_iter = data_dict['train_iter']\n",
    "print(\"length: \", len(test_iter.dataset))\n",
    "test_iter = DataLoader(data_dict['train_data'], batch_size=4*1024, shuffle=True)\n",
    "# fields: original dataframe as a torch array\n",
    "# scores: scores from original dataframe\n",
    "fields, scores = myfm.test_accuracy(net, test_iter, 'cpu')"
   ]
  },
  {
   "cell_type": "code",
   "execution_count": 72,
   "id": "839cf2b3-5fd8-4917-9212-ce2c673e8ade",
   "metadata": {},
   "outputs": [
    {
     "name": "stdout",
     "output_type": "stream",
     "text": [
      "0 torch.Size([4096, 3]) torch.Size([4096, 1]) torch.Size([4096, 1])\n"
     ]
    }
   ],
   "source": [
    "for i,data in enumerate(test_iter):\n",
    "    # data[0].shape = (B,3). Elements are member, item, age\n",
    "    print(i, data[0].shape, data[1].shape, data[2].shape)\n",
    "    break"
   ]
  },
  {
   "cell_type": "markdown",
   "id": "7ebeddc4-69ea-4751-bfc8-8cc798694cbf",
   "metadata": {},
   "source": [
    "Select a sample of members, and compute scores for all destinations"
   ]
  },
  {
   "cell_type": "code",
   "execution_count": 19,
   "id": "18d9ea35-ea0a-4f2e-906e-4c1784066c56",
   "metadata": {},
   "outputs": [
    {
     "data": {
      "text/plain": [
       "dict_keys(['member_attr', 'dest_attr', 'field_dims', 'D_set', 'dest2idx', 'idx2dest', 'member2idx', 'idx2member'])"
      ]
     },
     "execution_count": 19,
     "metadata": {},
     "output_type": "execute_result"
    }
   ],
   "source": [
    "data_iter = data_dict['train_iter']\n",
    "data_iter.dataset.dct.keys()\n",
    "dct = data_iter.dataset.dct\n",
    "dct.keys()"
   ]
  },
  {
   "cell_type": "code",
   "execution_count": 20,
   "id": "26192e5a-2c67-42e0-8b9c-2f0dd13dc1f2",
   "metadata": {},
   "outputs": [
    {
     "name": "stdout",
     "output_type": "stream",
     "text": [
      "(8581, 3)\n",
      "dest:  [0, 1, 2, 3, 4, 5, 6, 7, 8, 9, 10, 11, 12, 13, 14, 15, 16, 17, 18, 19, 20, 21, 22, 23, 24, 25, 26, 27, 28, 29, 30, 31, 32, 33, 34, 35, 36, 37, 38, 39, 40, 41, 42, 43, 44, 45, 46, 47, 48, 49, 50, 51, 52, 53, 54, 55, 56, 57, 58, 59, 60, 61, 62, 63, 64, 65, 66, 67, 68, 69, 70, 71, 72, 73, 74, 75]\n",
      "members[0]:  1405\n",
      "Size:  8581\n",
      "row:  MEMBER_ID    177\n",
      "D             63\n",
      "age            1\n",
      "Name: 3228, dtype: int16\n"
     ]
    }
   ],
   "source": [
    "df = data_iter.dataset.df # dataframe\n",
    "print(df.shape)\n",
    "nb_members = 1000  # select random members\n",
    "max_member = df['MEMBER_ID'].max()\n",
    "max_dest = df['D'].max()\n",
    "members = random.sample(range(0,max_member), 100)\n",
    "destinations = list(range(0,max_dest+1))  # 0, 1, ..., max_dest\n",
    "print(\"dest: \", destinations)\n",
    "print(\"members[0]: \", members[0])\n",
    "print(\"Size: \", df.groupby(['MEMBER_ID','D']).size().sum())\n",
    "row = df.iloc[members[0],:]\n",
    "print(\"row: \", row)\n",
    "\n",
    "# create a dataframe with members*max_dest rows. 10000*100 = one million\n",
    "# How to do this? \n",
    "#  1. create a specialized Dataset\n",
    "\n",
    "#print('member_attr: ', dct['member_attr'])\n",
    "#dct['idx2member'].keys()"
   ]
  },
  {
   "cell_type": "code",
   "execution_count": 21,
   "id": "14558845-92fa-4392-8b85-859d1cd6c50a",
   "metadata": {},
   "outputs": [
    {
     "name": "stdout",
     "output_type": "stream",
     "text": [
      "dest keys:  dict_keys([0, 1, 2, 3, 4, 5, 6, 7, 8, 9, 10, 11, 12, 13, 14, 15, 16, 17, 18, 19, 20, 21, 22, 23, 24, 25, 26, 27, 28, 29, 30, 31, 32, 33, 34, 35, 36, 37, 38, 39, 40, 41, 42, 43, 44, 45, 46, 47, 48, 49, 50, 51, 52, 53, 54, 55, 56, 57, 58, 59, 60, 61, 62, 63, 64, 65, 66, 67, 68, 69, 70, 71, 72, 73, 74, 75])\n",
      "destinations:  [0, 1, 2, 3, 4, 5, 6, 7, 8, 9, 10, 11, 12, 13, 14, 15, 16, 17, 18, 19, 20, 21, 22, 23, 24, 25, 26, 27, 28, 29, 30, 31, 32, 33, 34, 35, 36, 37, 38, 39, 40, 41, 42, 43, 44, 45, 46, 47, 48, 49, 50, 51, 52, 53, 54, 55, 56, 57, 58, 59, 60, 61, 62, 63, 64, 65, 66, 67, 68, 69, 70, 71, 72, 73, 74, 75]\n",
      "nb members:  2218\n",
      "dest:  76 76\n",
      "len:  168568\n"
     ]
    },
    {
     "data": {
      "text/plain": [
       "168568"
      ]
     },
     "execution_count": 21,
     "metadata": {},
     "output_type": "execute_result"
    }
   ],
   "source": [
    "data = myfm.AccuracyDataset(data_iter.dataset, destinations)\n",
    "len(data)"
   ]
  },
  {
   "cell_type": "code",
   "execution_count": 22,
   "id": "bb925305-b64e-4f4a-b184-f8acdd81efa6",
   "metadata": {},
   "outputs": [],
   "source": [
    "# shuffling is irrelevant\n",
    "accuracy_loader = DataLoader(data, batch_size=4096, shuffle=False)\n",
    "#accuracy_loader = DataLoader(data, batch_size=gdct['batch_size'], shuffle=False)"
   ]
  },
  {
   "cell_type": "code",
   "execution_count": 23,
   "id": "df5abff8-3d50-403b-9655-c5c0e9681ab8",
   "metadata": {
    "tags": []
   },
   "outputs": [
    {
     "ename": "RuntimeError",
     "evalue": "Sizes of tensors must match except in dimension 1. Expected size 3 but got size 1 for tensor number 1 in the list.",
     "output_type": "error",
     "traceback": [
      "\u001b[0;31m---------------------------------------------------------------------------\u001b[0m",
      "\u001b[0;31mRuntimeError\u001b[0m                              Traceback (most recent call last)",
      "Input \u001b[0;32mIn [23]\u001b[0m, in \u001b[0;36m<cell line: 1>\u001b[0;34m()\u001b[0m\n\u001b[0;32m----> 1\u001b[0m fields, predict \u001b[38;5;241m=\u001b[39m \u001b[43mmyfm\u001b[49m\u001b[38;5;241;43m.\u001b[39;49m\u001b[43mtest_accuracy\u001b[49m\u001b[43m(\u001b[49m\u001b[43mnet\u001b[49m\u001b[43m,\u001b[49m\u001b[43m \u001b[49m\u001b[43mtrain_iter\u001b[49m\u001b[43m,\u001b[49m\u001b[43m \u001b[49m\u001b[38;5;124;43m'\u001b[39;49m\u001b[38;5;124;43mcpu\u001b[39;49m\u001b[38;5;124;43m'\u001b[39;49m\u001b[43m)\u001b[49m\n\u001b[1;32m      3\u001b[0m \u001b[38;5;28mprint\u001b[39m(\u001b[38;5;124m\"\u001b[39m\u001b[38;5;124mfields: \u001b[39m\u001b[38;5;124m\"\u001b[39m, fields[\u001b[38;5;241m0\u001b[39m:\u001b[38;5;241m5\u001b[39m])\n\u001b[1;32m      4\u001b[0m \u001b[38;5;28mprint\u001b[39m(\u001b[38;5;124m\"\u001b[39m\u001b[38;5;124mpredict: \u001b[39m\u001b[38;5;124m\"\u001b[39m, predict[\u001b[38;5;241m0\u001b[39m:\u001b[38;5;241m5\u001b[39m])\n",
      "File \u001b[0;32m~/src/2022/copa_recommenders/copa_recommender_data_rankfm/torchfm/myfunclib.py:320\u001b[0m, in \u001b[0;36mtest_accuracy\u001b[0;34m(model, data_loader, device)\u001b[0m\n\u001b[1;32m    318\u001b[0m d0, d1, d2 \u001b[38;5;241m=\u001b[39m d0\u001b[38;5;241m.\u001b[39mto(device), d1\u001b[38;5;241m.\u001b[39mto(device), d2\u001b[38;5;241m.\u001b[39mto(device)\n\u001b[1;32m    319\u001b[0m \u001b[38;5;66;03m#print(d0.shape, d1.shape, d2.shape)\u001b[39;00m\n\u001b[0;32m--> 320\u001b[0m fields \u001b[38;5;241m=\u001b[39m \u001b[43mtorch\u001b[49m\u001b[38;5;241;43m.\u001b[39;49m\u001b[43mcat\u001b[49m\u001b[43m(\u001b[49m\u001b[43m[\u001b[49m\u001b[43md0\u001b[49m\u001b[43m,\u001b[49m\u001b[43md1\u001b[49m\u001b[43m,\u001b[49m\u001b[43md2\u001b[49m\u001b[43m]\u001b[49m\u001b[43m,\u001b[49m\u001b[43m \u001b[49m\u001b[43maxis\u001b[49m\u001b[38;5;241;43m=\u001b[39;49m\u001b[38;5;241;43m1\u001b[39;49m\u001b[43m)\u001b[49m\n\u001b[1;32m    322\u001b[0m \u001b[38;5;66;03m#print(\"before model\")\u001b[39;00m\n\u001b[1;32m    323\u001b[0m \u001b[38;5;66;03m# Change model to take\u001b[39;00m\n\u001b[1;32m    324\u001b[0m \u001b[38;5;28;01mwith\u001b[39;00m torch\u001b[38;5;241m.\u001b[39mno_grad():\n",
      "\u001b[0;31mRuntimeError\u001b[0m: Sizes of tensors must match except in dimension 1. Expected size 3 but got size 1 for tensor number 1 in the list."
     ]
    }
   ],
   "source": [
    "fields, predict = myfm.test_accuracy(net, train_iter, 'cpu')\n",
    "\n",
    "print(\"fields: \", fields[0:5])\n",
    "print(\"predict: \", predict[0:5])\n",
    "\n",
    "# Strong decrease in loss. However, is this overfitting? \n",
    "# TODO: create a pair-wise approach. So define negative samples. \n",
    "# Could weigh the negative samples: flights not taken in the further back in time would have higher weight \n",
    "#  than more recent flights. Is that reasonable? "
   ]
  },
  {
   "cell_type": "code",
   "execution_count": null,
   "id": "2ace401a-e426-4de1-8df6-a12c4a915e4d",
   "metadata": {
    "tags": []
   },
   "outputs": [],
   "source": [
    "fields, predict = myfm.test_accuracy(net, accuracy_loader, 'cpu')\n",
    "\n",
    "print(\"fields: \", fields[0:5])\n",
    "print(\"predict: \", predict[0:50])\n",
    "print(fields.shape, predict.shape)\n",
    "\n",
    "# Strong decrease in loss. However, is this overfitting? \n",
    "# TODO: create a pair-wise approach. So define negative samples. \n",
    "# Could weigh the negative samples: flights not taken in the further back in time would have higher weight \n",
    "#  than more recent flights. Is that reasonable? "
   ]
  },
  {
   "cell_type": "code",
   "execution_count": 24,
   "id": "a58f606e-0be6-4667-ba37-390ee6bf01d0",
   "metadata": {},
   "outputs": [
    {
     "ename": "NameError",
     "evalue": "name 'fields' is not defined",
     "output_type": "error",
     "traceback": [
      "\u001b[0;31m---------------------------------------------------------------------------\u001b[0m",
      "\u001b[0;31mNameError\u001b[0m                                 Traceback (most recent call last)",
      "Input \u001b[0;32mIn [24]\u001b[0m, in \u001b[0;36m<cell line: 3>\u001b[0;34m()\u001b[0m\n\u001b[1;32m      1\u001b[0m \u001b[38;5;66;03m# fields: member_id, dest, age\u001b[39;00m\n\u001b[1;32m      2\u001b[0m \u001b[38;5;66;03m# prediction: score\u001b[39;00m\n\u001b[0;32m----> 3\u001b[0m field_np \u001b[38;5;241m=\u001b[39m np\u001b[38;5;241m.\u001b[39masarray(\u001b[43mfields\u001b[49m)\n\u001b[1;32m      4\u001b[0m predict_np \u001b[38;5;241m=\u001b[39m np\u001b[38;5;241m.\u001b[39masarray(predict)\n\u001b[1;32m      5\u001b[0m \u001b[38;5;66;03m#print(field_np.shape, predict_np.reshape(-1,1).shape)\u001b[39;00m\n",
      "\u001b[0;31mNameError\u001b[0m: name 'fields' is not defined"
     ]
    }
   ],
   "source": [
    "# fields: member_id, dest, age\n",
    "# prediction: score\n",
    "field_np = np.asarray(fields)\n",
    "predict_np = np.asarray(predict)\n",
    "#print(field_np.shape, predict_np.reshape(-1,1).shape)\n",
    "joined = np.concatenate((field_np, predict_np.reshape(-1,1)), axis=1)\n",
    "#print(joined[0:7,:])\n",
    "df = pd.DataFrame(joined, columns=['MEMBER_ID','D','age','rank']) #, predict)\n",
    "#print(df.head())\n",
    "\n",
    "cols = list(df.columns)[0:-1]\n",
    "for col in cols:\n",
    "    df[col] = df[col].astype('int')\n",
    "df = df.iloc[1:]\n",
    "\n",
    "# data_iter: used for training\n",
    "D_set = data_iter.dataset.dct['D_set']\n",
    "print(len(D_set))\n",
    "D_set.iloc[35], D_set.loc[35]\n",
    "\n",
    "# Why is first row have numbers approx 1.e31? This is the input data. It has nothing to do with the evaluator. \n",
    "# for i in range(predict.shape[0]):\n",
    "\n",
    "merged = df.merge(D_set, how='inner', on='MEMBER_ID')\n",
    "print(\"merged shape (all scores): \", merged.shape, merged['MEMBER_ID'].nunique())  # 2218 unique members\n",
    "merged = merged[merged['rank'] > 0.5]\n",
    "print(\"merged shape (scores > 0.5): \", merged.shape, merged['MEMBER_ID'].nunique())  # 2170 unique members\n",
    "print(merged.head(10))"
   ]
  },
  {
   "cell_type": "markdown",
   "id": "16e93c6e-6d6f-4b71-add9-758196c81b68",
   "metadata": {},
   "source": [
    "Determined the topN scores for all members in order. "
   ]
  },
  {
   "cell_type": "code",
   "execution_count": 25,
   "id": "9ea3df70-9cc7-48fd-8150-1f333b3ecdaf",
   "metadata": {},
   "outputs": [
    {
     "ename": "SyntaxError",
     "evalue": "unexpected EOF while parsing (4038662272.py, line 1)",
     "output_type": "error",
     "traceback": [
      "\u001b[0;36m  Input \u001b[0;32mIn [25]\u001b[0;36m\u001b[0m\n\u001b[0;31m    _df['MEMBER_ID'].max(\u001b[0m\n\u001b[0m                         ^\u001b[0m\n\u001b[0;31mSyntaxError\u001b[0m\u001b[0;31m:\u001b[0m unexpected EOF while parsing\n"
     ]
    }
   ],
   "source": [
    "_df['MEMBER_ID'].max("
   ]
  },
  {
   "cell_type": "code",
   "execution_count": 26,
   "id": "622c7071-bb13-438d-b439-d0baf41cf772",
   "metadata": {},
   "outputs": [
    {
     "ename": "NameError",
     "evalue": "name 'merged' is not defined",
     "output_type": "error",
     "traceback": [
      "\u001b[0;31m---------------------------------------------------------------------------\u001b[0m",
      "\u001b[0;31mNameError\u001b[0m                                 Traceback (most recent call last)",
      "Input \u001b[0;32mIn [26]\u001b[0m, in \u001b[0;36m<cell line: 1>\u001b[0;34m()\u001b[0m\n\u001b[0;32m----> 1\u001b[0m df1 \u001b[38;5;241m=\u001b[39m \u001b[43mmerged\u001b[49m\u001b[38;5;241m.\u001b[39mgroupby(\u001b[38;5;124m'\u001b[39m\u001b[38;5;124mMEMBER_ID\u001b[39m\u001b[38;5;124m'\u001b[39m)\u001b[38;5;241m.\u001b[39magg({\u001b[38;5;124m'\u001b[39m\u001b[38;5;124mrank\u001b[39m\u001b[38;5;124m'\u001b[39m:\u001b[38;5;28mlist\u001b[39m})\n\u001b[1;32m      2\u001b[0m \u001b[38;5;66;03m# df1 = merged.groupby('MEMBER_ID')['rank'].transform('count') #agg({'rank':list})\u001b[39;00m\n\u001b[1;32m      3\u001b[0m \u001b[38;5;66;03m# print(df1)\u001b[39;00m\n\u001b[1;32m      4\u001b[0m \u001b[38;5;28mprint\u001b[39m(df1\u001b[38;5;241m.\u001b[39mshape)\n",
      "\u001b[0;31mNameError\u001b[0m: name 'merged' is not defined"
     ]
    }
   ],
   "source": [
    "df1 = merged.groupby('MEMBER_ID').agg({'rank':list})\n",
    "# df1 = merged.groupby('MEMBER_ID')['rank'].transform('count') #agg({'rank':list})\n",
    "# print(df1)\n",
    "print(df1.shape)\n",
    "\n",
    "def sort_func(col):\n",
    "    col1 = np.asarray(col) #.argsort()\n",
    "    col1 = np.asarray(col).argsort()\n",
    "    #col1 = sorted(col1, reverse=True)\n",
    "    return col1\n",
    "    \n",
    "rank = df1['rank'].apply(sort_func)\n",
    "df2 = df1.copy()\n",
    "df2['argrank'] = rank\n",
    "print(df2.head())\n",
    "print(\"df2.shape: \", df2.shape)\n",
    "df2['D'] = [list(range(0,len(D_set)))] * len(df2)\n",
    "print(\"len(list(range(0,len(D_set))))= \", len(list(range(0,len(D_set)))) )\n",
    "print(\"D_set: \", D_set)\n",
    "df2\n",
    "# df3 = pd.concat([_df, df2], axis=1)\n",
    "# _df.shape, df2.shape"
   ]
  },
  {
   "cell_type": "code",
   "execution_count": 27,
   "id": "1fce84a3-c71f-46e1-8629-f210e8c0d8ce",
   "metadata": {},
   "outputs": [
    {
     "ename": "NameError",
     "evalue": "name 'df2' is not defined",
     "output_type": "error",
     "traceback": [
      "\u001b[0;31m---------------------------------------------------------------------------\u001b[0m",
      "\u001b[0;31mNameError\u001b[0m                                 Traceback (most recent call last)",
      "Input \u001b[0;32mIn [27]\u001b[0m, in \u001b[0;36m<cell line: 5>\u001b[0;34m()\u001b[0m\n\u001b[1;32m      3\u001b[0m dst   \u001b[38;5;66;03m# destinations 0 - 75 (76 values)\u001b[39;00m\n\u001b[1;32m      4\u001b[0m \u001b[38;5;66;03m# I wish to apply argsort to them\u001b[39;00m\n\u001b[0;32m----> 5\u001b[0m df2[\u001b[38;5;124m'\u001b[39m\u001b[38;5;124mDlist\u001b[39m\u001b[38;5;124m'\u001b[39m] \u001b[38;5;241m=\u001b[39m [dst] \u001b[38;5;241m*\u001b[39m \u001b[43mdf2\u001b[49m\u001b[38;5;241m.\u001b[39mshape[\u001b[38;5;241m0\u001b[39m]\n",
      "\u001b[0;31mNameError\u001b[0m: name 'df2' is not defined"
     ]
    }
   ],
   "source": [
    "dst = list(data_iter.dataset.dct['idx2dest'].keys())\n",
    "df\n",
    "dst   # destinations 0 - 75 (76 values)\n",
    "# I wish to apply argsort to them\n",
    "df2['Dlist'] = [dst] * df2.shape[0]\n",
    "# df2\n",
    "\n",
    "# apply argrank to D Dlist"
   ]
  },
  {
   "cell_type": "code",
   "execution_count": null,
   "id": "3b6241de-a282-4734-acb9-d07d6cc8fefa",
   "metadata": {},
   "outputs": [],
   "source": []
  },
  {
   "cell_type": "code",
   "execution_count": 28,
   "id": "d78a2f92-a1c7-438b-adbd-ce8f5b3ecdc1",
   "metadata": {},
   "outputs": [
    {
     "ename": "NameError",
     "evalue": "name 'p' is not defined",
     "output_type": "error",
     "traceback": [
      "\u001b[0;31m---------------------------------------------------------------------------\u001b[0m",
      "\u001b[0;31mNameError\u001b[0m                                 Traceback (most recent call last)",
      "Input \u001b[0;32mIn [28]\u001b[0m, in \u001b[0;36m<cell line: 2>\u001b[0;34m()\u001b[0m\n\u001b[1;32m      1\u001b[0m plt\u001b[38;5;241m.\u001b[39mplot(losses)\n\u001b[0;32m----> 2\u001b[0m \u001b[43mp\u001b[49m\n",
      "\u001b[0;31mNameError\u001b[0m: name 'p' is not defined"
     ]
    },
    {
     "data": {
      "image/png": "[encoded data removed]",
      "text/plain": [
       "<Figure size 432x288 with 1 Axes>"
      ]
     },
     "metadata": {
      "needs_background": "light"
     },
     "output_type": "display_data"
    }
   ],
   "source": [
    "plt.plot(losses)\n",
    "p"
   ]
  },
  {
   "cell_type": "markdown",
   "id": "dd62f517-d864-4463-b24b-54ef5aca2ebf",
   "metadata": {},
   "source": [
    "Compute scores of training data. \n",
    "* For each member_id, compute score for each destination. Rank destinations and compare against destinations actually travelled. \n",
    "* consider the 2016 data. For each user+user_attributes, cover a range of destinations. Each destination has its own destination attributes. \n",
    "Consider $n$ examples of destination attributes, compute a ranking of these $n$ items. There are 80 destinations and their attributes. Finally, \n",
    "there are attributes that are neither member destinations or desination attributes. "
   ]
  },
  {
   "cell_type": "code",
   "execution_count": null,
   "id": "3816f3cb-738b-4154-8dd0-2e90fb91b854",
   "metadata": {},
   "outputs": [],
   "source": []
  }
 ],
 "metadata": {
  "kernelspec": {
   "display_name": "Python 3 (ipykernel)",
   "language": "python",
   "name": "python3"
  },
  "language_info": {
   "codemirror_mode": {
    "name": "ipython",
    "version": 3
   },
   "file_extension": ".py",
   "mimetype": "text/x-python",
   "name": "python",
   "nbconvert_exporter": "python",
   "pygments_lexer": "ipython3",
   "version": "3.8.13"
  }
 },
 "nbformat": 4,
 "nbformat_minor": 5
}
