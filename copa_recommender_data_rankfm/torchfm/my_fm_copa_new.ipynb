{
 "cells": [
  {
   "cell_type": "markdown",
   "id": "c5284055-b709-4409-a9fb-d3e0bbe7621b",
   "metadata": {},
   "source": [
    "# Experiments with torchfm, which has a range of models based on FM (Factorization Machines). \n",
    "* None of these models are sequence-aware.\n",
    "* Anaconda context must be set to \"base\". Eventually work with poetry.\n",
    "* Try working with wandb (Weights & Biases)\n",
    "* Starting with my_fm_copy.ipynb on July 21, 2021, integrate with elements of the code I wrote for rankfm. Specifically, I will read the data with the newlib.py library. "
   ]
  },
  {
   "cell_type": "code",
   "execution_count": 1,
   "id": "d5035eb2-aeb0-4d58-91c7-d7d85307be73",
   "metadata": {},
   "outputs": [],
   "source": [
    "%load_ext autoreload\n",
    "%autoreload 2"
   ]
  },
  {
   "cell_type": "code",
   "execution_count": 2,
   "id": "a49212a8-1261-4010-9d02-d62eb9d522fb",
   "metadata": {
    "tags": []
   },
   "outputs": [],
   "source": [
    "import torchfm\n",
    "from torchfm import layer as fm_layer, model as fm_model\n",
    "from torchfm.model import fm, lr, nfm, wd\n",
    "import torch.nn.functional as F\n",
    "import pandas as pd\n",
    "import pandas_options\n",
    "import torch\n",
    "from torch.utils.data import DataLoader, Dataset\n",
    "import torch.nn as nn\n",
    "tt = torch.tensor\n",
    "import numpy as np\n",
    "# import tqdm\n",
    "import random\n",
    "import matplotlib.pyplot as plt\n",
    "import myfunclib as myfm\n",
    "import d2l_torch as d2l\n",
    "import datalib\n",
    "import wandb"
   ]
  },
  {
   "cell_type": "code",
   "execution_count": 440,
   "id": "f4d080b3-9305-42b1-b5ad-7b13d8bc61da",
   "metadata": {},
   "outputs": [],
   "source": [
    "from fastcore.all import L, AttrDict"
   ]
  },
  {
   "cell_type": "code",
   "execution_count": 446,
   "id": "396cd739-53ef-4679-8ddf-43f0087d65a3",
   "metadata": {},
   "outputs": [
    {
     "name": "stderr",
     "output_type": "stream",
     "text": [
      "\u001b[34m\u001b[1mwandb\u001b[0m: Currently logged in as: \u001b[33merlebacher\u001b[0m. Use \u001b[1m`wandb login --relogin`\u001b[0m to force relogin\n"
     ]
    },
    {
     "data": {
      "text/html": [
       "Tracking run with wandb version 0.12.21"
      ],
      "text/plain": [
       "<IPython.core.display.HTML object>"
      ]
     },
     "metadata": {},
     "output_type": "display_data"
    },
    {
     "data": {
      "text/html": [
       "Run data is saved locally in <code>/home/erlebach/src/2022/copa_recommenders/copa_recommender_data_rankfm/torchfm/wandb/run-20220723_163802-1dh99z46</code>"
      ],
      "text/plain": [
       "<IPython.core.display.HTML object>"
      ]
     },
     "metadata": {},
     "output_type": "display_data"
    },
    {
     "data": {
      "text/html": [
       "Syncing run <strong><a href=\"https://wandb.ai/erlebacher/my-test-project/runs/1dh99z46\" target=\"_blank\">solar-water-4</a></strong> to <a href=\"https://wandb.ai/erlebacher/my-test-project\" target=\"_blank\">Weights & Biases</a> (<a href=\"https://wandb.me/run\" target=\"_blank\">docs</a>)<br/>"
      ],
      "text/plain": [
       "<IPython.core.display.HTML object>"
      ]
     },
     "metadata": {},
     "output_type": "display_data"
    },
    {
     "data": {
      "text/html": [
       "<button onClick=\"this.nextSibling.style.display='block';this.style.display='none';\">Display W&B run</button><iframe src=\"https://wandb.ai/erlebacher/my-test-project/runs/1dh99z46?jupyter=true\" style=\"border:none;width:100%;height:420px;display:none;\"></iframe>"
      ],
      "text/plain": [
       "<wandb.sdk.wandb_run.Run at 0x7f34ba497550>"
      ]
     },
     "execution_count": 446,
     "metadata": {},
     "output_type": "execute_result"
    }
   ],
   "source": [
    "#wandb.init(project=\"my-test-project\")"
   ]
  },
  {
   "cell_type": "code",
   "execution_count": 6,
   "id": "020f5cc9-5aba-4df5-86a1-67a0f1f91eba",
   "metadata": {},
   "outputs": [
    {
     "ename": "NameError",
     "evalue": "name 'loss' is not defined",
     "output_type": "error",
     "traceback": [
      "\u001b[0;31m---------------------------------------------------------------------------\u001b[0m",
      "\u001b[0;31mNameError\u001b[0m                                 Traceback (most recent call last)",
      "Input \u001b[0;32mIn [6]\u001b[0m, in \u001b[0;36m<cell line: 7>\u001b[0;34m()\u001b[0m\n\u001b[1;32m      1\u001b[0m wandb\u001b[38;5;241m.\u001b[39mconfig \u001b[38;5;241m=\u001b[39m {\n\u001b[1;32m      2\u001b[0m   \u001b[38;5;124m\"\u001b[39m\u001b[38;5;124mlearning_rate\u001b[39m\u001b[38;5;124m\"\u001b[39m: \u001b[38;5;241m0.001\u001b[39m,\n\u001b[1;32m      3\u001b[0m   \u001b[38;5;124m\"\u001b[39m\u001b[38;5;124mepochs\u001b[39m\u001b[38;5;124m\"\u001b[39m: \u001b[38;5;241m100\u001b[39m,\n\u001b[1;32m      4\u001b[0m   \u001b[38;5;124m\"\u001b[39m\u001b[38;5;124mbatch_size\u001b[39m\u001b[38;5;124m\"\u001b[39m: \u001b[38;5;241m128\u001b[39m\n\u001b[1;32m      5\u001b[0m }\n\u001b[0;32m----> 7\u001b[0m wandb\u001b[38;5;241m.\u001b[39mlog({\u001b[38;5;124m\"\u001b[39m\u001b[38;5;124mloss\u001b[39m\u001b[38;5;124m\"\u001b[39m: \u001b[43mloss\u001b[49m})\n\u001b[1;32m      9\u001b[0m \u001b[38;5;66;03m# Optional\u001b[39;00m\n\u001b[1;32m     10\u001b[0m wandb\u001b[38;5;241m.\u001b[39mwatch(model)\n",
      "\u001b[0;31mNameError\u001b[0m: name 'loss' is not defined"
     ]
    }
   ],
   "source": [
    "wandb.config = {\n",
    "  \"learning_rate\": 0.001,\n",
    "  \"epochs\": 100,\n",
    "  \"batch_size\": 128\n",
    "}\n",
    "\n",
    "wandb.log({\"loss\": loss})\n",
    "\n",
    "# Optional\n",
    "wandb.watch(model)"
   ]
  },
  {
   "cell_type": "code",
   "execution_count": 4,
   "id": "40cac314-73ac-495f-a220-637722c97031",
   "metadata": {},
   "outputs": [
    {
     "name": "stdout",
     "output_type": "stream",
     "text": [
      "cuda:0\n"
     ]
    }
   ],
   "source": [
    "device = d2l.try_gpu()\n",
    "print(device)"
   ]
  },
  {
   "cell_type": "code",
   "execution_count": 5,
   "id": "856b6a13-386f-4bb6-87c6-5038945fdbc4",
   "metadata": {
    "tags": []
   },
   "outputs": [],
   "source": [
    "gdct = {\n",
    "    'device': device,  # 'cpu'\n",
    "    'embed_dim': 10,\n",
    "    'nb_epochs': 100,\n",
    "    'lr': 0.05,\n",
    "    'wd': 1.e-5,\n",
    "    'optim': 'adamW',\n",
    "    'batch_size' : 4096\n",
    "}"
   ]
  },
  {
   "cell_type": "code",
   "execution_count": 6,
   "id": "1f624385-3fbe-4a91-9612-f777b8646b72",
   "metadata": {
    "tags": []
   },
   "outputs": [],
   "source": [
    "gdct['device'] = 'cpu'"
   ]
  },
  {
   "cell_type": "code",
   "execution_count": 534,
   "id": "aa9a132f-92d3-4408-b031-27d30f9d670b",
   "metadata": {},
   "outputs": [
    {
     "name": "stdout",
     "output_type": "stream",
     "text": [
      "df_item_attrib columns:  ['D', 'avg_yr_l', 'avg_yr_h', 'IATA', 'LAT_DEC', 'LON_DEC', 'HEIGHT']\n",
      "df_item_attrib shape:  (94, 7)\n",
      "CPU times: user 261 ms, sys: 11.9 ms, total: 273 ms\n",
      "Wall time: 272 ms\n"
     ]
    },
    {
     "data": {
      "text/plain": [
       "dict_keys(['age_cuts', 'df_members', 'df_with_attrib', 'field_types', 'field_dims'])"
      ]
     },
     "execution_count": 534,
     "metadata": {},
     "output_type": "execute_result"
    }
   ],
   "source": [
    "%%time \n",
    "in_file = \"activity_reduced_with_attributes.csv\"\n",
    "dct = datalib.read_data_attributes_single_file(in_file, dct=AttrDict(), continuous_attrib=True)\n",
    "dct.keys()"
   ]
  },
  {
   "cell_type": "code",
   "execution_count": 535,
   "id": "efadbc78-4057-4c70-89f8-eab9c2231fd0",
   "metadata": {
    "tags": []
   },
   "outputs": [],
   "source": [
    "def convert_cat_variables(dct):\n",
    "    idx2member, member2idx = datalib.cat2dict(dct['df_with_attrib']['MEMBER_ID'])\n",
    "    idx2dest, dest2idx = datalib.cat2dict(dct['df_with_attrib']['D'])\n",
    "    idx2gender, gender2idx = datalib.cat2dict(dct.df_with_attrib.GENDER)\n",
    "    # print(idx2gender)\n",
    "    # print(gender2idx)\n",
    "    # print(idx2dest)\n",
    "    # print(dest2idx)\n",
    "    df1 = dct['df_with_attrib'].copy()\n",
    "    df1['MEMBER_ID'] = df1['MEMBER_ID'].map(member2idx)\n",
    "    df1['D'] = df1['D'].map(dest2idx)\n",
    "    df1['GENDER'] = df1.GENDER.map(gender2idx)\n",
    "    return df1"
   ]
  },
  {
   "cell_type": "code",
   "execution_count": 536,
   "id": "e3364e4f-ccee-4c23-a95e-67592f8bb9ea",
   "metadata": {},
   "outputs": [],
   "source": [
    "df1 = convert_cat_variables(dct)\n",
    "dct['df_with_attrib'] = df1"
   ]
  },
  {
   "cell_type": "code",
   "execution_count": 537,
   "id": "dff47b4d-8859-4374-9c94-6389c2511082",
   "metadata": {},
   "outputs": [
    {
     "name": "stdout",
     "output_type": "stream",
     "text": [
      "(850059, 9)\n"
     ]
    },
    {
     "data": {
      "text/plain": [
       "dict_keys(['age_cuts', 'df_members', 'df_with_attrib', 'field_types', 'field_dims', 'data_train', 'data_valid', 'data_test'])"
      ]
     },
     "execution_count": 537,
     "metadata": {},
     "output_type": "execute_result"
    }
   ],
   "source": [
    "datalib.train_valid_dct(dct, 0.6, 0.2, temporal=True, shuffle=True)\n",
    "dct.keys()"
   ]
  },
  {
   "cell_type": "code",
   "execution_count": 538,
   "id": "1dbbb798-de30-45cf-8b4a-eacae3b45167",
   "metadata": {},
   "outputs": [
    {
     "name": "stdout",
     "output_type": "stream",
     "text": [
      "CPU times: user 14 µs, sys: 0 ns, total: 14 µs\n",
      "Wall time: 16 µs\n"
     ]
    }
   ],
   "source": [
    "%%time\n",
    "dataset_train = datalib.myDataset(dct, dct.data_train)\n",
    "dataset_valid = datalib.myDataset(dct, dct.data_valid)\n",
    "dataset_test  = datalib.myDataset(dct, dct.data_test)"
   ]
  },
  {
   "cell_type": "code",
   "execution_count": 539,
   "id": "1deba327-23e6-4a8d-9f9b-1e44e7ae37b8",
   "metadata": {},
   "outputs": [],
   "source": [
    "loader_train = DataLoader(dataset_train, shuffle=True, batch_size=64)\n",
    "loader_valid = DataLoader(dataset_valid, shuffle=True, batch_size=64)\n",
    "loader_test  = DataLoader(dataset_test,  shuffle=True, batch_size=64)"
   ]
  },
  {
   "cell_type": "code",
   "execution_count": 529,
   "id": "4358992b-5073-4715-8dbb-72eba37837ee",
   "metadata": {
    "tags": []
   },
   "outputs": [
    {
     "name": "stdout",
     "output_type": "stream",
     "text": [
      "[ 2.88600000e+03  9.00000000e+00  5.09111111e+01  0.00000000e+00\n",
      "  7.30000000e-01  9.00000000e-01  1.21410000e-01 -8.61680000e-01\n",
      "  2.13295414e-02]\n"
     ]
    },
    {
     "data": {
      "text/plain": [
       "tensor([ 2.8860e+03,  9.0000e+00,  5.0911e+01,  0.0000e+00,  7.3000e-01,\n",
       "         9.0000e-01,  1.2141e-01, -8.6168e-01,  2.1330e-02],\n",
       "       dtype=torch.float64)"
      ]
     },
     "execution_count": 529,
     "metadata": {},
     "output_type": "execute_result"
    }
   ],
   "source": [
    "dataset_train[3]"
   ]
  },
  {
   "cell_type": "markdown",
   "id": "d32fc1ed-852d-4e1a-87b8-83ce91b1ea71",
   "metadata": {},
   "source": [
    "## DataLoader is functional"
   ]
  },
  {
   "cell_type": "code",
   "execution_count": 358,
   "id": "f400f726-b911-4399-9af8-f8a8f787b4ce",
   "metadata": {},
   "outputs": [
    {
     "data": {
      "text/plain": [
       "{'train_data': <myfunclib.myDataset at 0x7f34d7d12bb0>,\n",
       " 'train_iter': <torch.utils.data.dataloader.DataLoader at 0x7f34da4ecf40>}"
      ]
     },
     "execution_count": 358,
     "metadata": {},
     "output_type": "execute_result"
    }
   ],
   "source": [
    "# NOT USED\n",
    "batch_size = gdct['batch_size']\n",
    "files = \"attrib_2016.csv.gz\"\n",
    "#data_dict = myfm.getData(files, batch_size=batch_size, nrows='all')\n",
    "data_dict = myfm.getData(files, batch_size=batch_size, nrows=20000, shuffle=False)\n",
    "data_dict"
   ]
  },
  {
   "cell_type": "code",
   "execution_count": null,
   "id": "55813b23-3405-4e70-9a06-db3bda5fe6c2",
   "metadata": {},
   "outputs": [],
   "source": []
  },
  {
   "cell_type": "code",
   "execution_count": 340,
   "id": "b49aacaf-459d-447e-8e61-194759145484",
   "metadata": {},
   "outputs": [
    {
     "data": {
      "text/plain": [
       "8581"
      ]
     },
     "execution_count": 340,
     "metadata": {},
     "output_type": "execute_result"
    }
   ],
   "source": [
    "data_dict['train_iter'].dataset.df.shape[0]"
   ]
  },
  {
   "cell_type": "code",
   "execution_count": 341,
   "id": "223770f0-a819-4269-9080-7650b0ab8de9",
   "metadata": {},
   "outputs": [
    {
     "data": {
      "text/plain": [
       "152651"
      ]
     },
     "execution_count": 341,
     "metadata": {},
     "output_type": "execute_result"
    }
   ],
   "source": [
    "len(dataset_train)"
   ]
  },
  {
   "cell_type": "code",
   "execution_count": 359,
   "id": "c45ef7b6-b977-4fc6-a9f5-5daec551448b",
   "metadata": {},
   "outputs": [
    {
     "data": {
      "text/plain": [
       "tensor([2218,   76,    4], dtype=torch.int32)"
      ]
     },
     "execution_count": 359,
     "metadata": {},
     "output_type": "execute_result"
    }
   ],
   "source": [
    "train_iter = data_dict['train_iter']\n",
    "field_dims = train_iter.dataset.field_dims\n",
    "field_dims"
   ]
  },
  {
   "cell_type": "code",
   "execution_count": 347,
   "id": "f1379884-1ee4-4de4-9c08-b52b2b09fc21",
   "metadata": {},
   "outputs": [],
   "source": [
    "field_dims = 20   # MEANING?"
   ]
  },
  {
   "cell_type": "code",
   "execution_count": 12,
   "id": "6309ca84-7d80-42fb-90eb-07df9ddf7914",
   "metadata": {},
   "outputs": [
    {
     "data": {
      "text/plain": [
       "{'device': 'cpu',\n",
       " 'embed_dim': 10,\n",
       " 'nb_epochs': 100,\n",
       " 'lr': 0.05,\n",
       " 'wd': 1e-05,\n",
       " 'optim': 'adamW',\n",
       " 'batch_size': 4096}"
      ]
     },
     "execution_count": 12,
     "metadata": {},
     "output_type": "execute_result"
    }
   ],
   "source": [
    "# cpu: device : -1\n",
    "# gpu: device : 0, 1, ...\n",
    "gdct"
   ]
  },
  {
   "cell_type": "code",
   "execution_count": null,
   "id": "174d5cf6-510f-4037-b3d9-bd196f5db2db",
   "metadata": {},
   "outputs": [],
   "source": [
    "# field_dims: number of categories for each attribute. \n",
    "# This should be defined in read_single_file"
   ]
  },
  {
   "cell_type": "code",
   "execution_count": 348,
   "id": "979935b4-a689-4026-9797-04f8c885506c",
   "metadata": {},
   "outputs": [
    {
     "ename": "AttributeError",
     "evalue": "'int' object has no attribute 'to'",
     "output_type": "error",
     "traceback": [
      "\u001b[0;31m---------------------------------------------------------------------------\u001b[0m",
      "\u001b[0;31mAttributeError\u001b[0m                            Traceback (most recent call last)",
      "Input \u001b[0;32mIn [348]\u001b[0m, in \u001b[0;36m<cell line: 3>\u001b[0;34m()\u001b[0m\n\u001b[1;32m      1\u001b[0m embed_dim \u001b[38;5;241m=\u001b[39m gdct[\u001b[38;5;124m'\u001b[39m\u001b[38;5;124membed_dim\u001b[39m\u001b[38;5;124m'\u001b[39m]\n\u001b[1;32m      2\u001b[0m device \u001b[38;5;241m=\u001b[39m gdct[\u001b[38;5;124m'\u001b[39m\u001b[38;5;124mdevice\u001b[39m\u001b[38;5;124m'\u001b[39m]\n\u001b[0;32m----> 3\u001b[0m field_dims \u001b[38;5;241m=\u001b[39m \u001b[43mfield_dims\u001b[49m\u001b[38;5;241;43m.\u001b[39;49m\u001b[43mto\u001b[49m(device)\n\u001b[1;32m      4\u001b[0m net \u001b[38;5;241m=\u001b[39m fm\u001b[38;5;241m.\u001b[39mFactorizationMachineModel(field_dims, embed_dim)\n\u001b[1;32m      5\u001b[0m net\u001b[38;5;241m.\u001b[39mto(device)\n",
      "\u001b[0;31mAttributeError\u001b[0m: 'int' object has no attribute 'to'"
     ]
    }
   ],
   "source": [
    "embed_dim = gdct['embed_dim']\n",
    "device = gdct['device']\n",
    "field_dims = field_dims.to(device)\n",
    "net = fm.FactorizationMachineModel(field_dims, embed_dim)\n",
    "net.to(device)"
   ]
  },
  {
   "cell_type": "markdown",
   "id": "115e948d-6caa-4d36-8bca-5abd29159498",
   "metadata": {},
   "source": [
    "Create a method with dataset and DataLoader"
   ]
  },
  {
   "cell_type": "code",
   "execution_count": 39,
   "id": "2b53f5c5-cd74-47b0-a8d7-e713f7c8add4",
   "metadata": {},
   "outputs": [
    {
     "name": "stdout",
     "output_type": "stream",
     "text": [
      "optimiz_meth:  adamW\n",
      "adamW\n"
     ]
    }
   ],
   "source": [
    "optimizer, loss_func = myfm.setup_trainer(net, gdct)"
   ]
  },
  {
   "cell_type": "code",
   "execution_count": 52,
   "id": "ddf37e52-cfd0-4303-8475-71ea15bf9a83",
   "metadata": {
    "collapsed": true,
    "jupyter": {
     "outputs_hidden": true
    },
    "tags": []
   },
   "outputs": [
    {
     "name": "stdout",
     "output_type": "stream",
     "text": [
      "nb training samples:  8581 (8581, 3)\n",
      "after for, fields, neg, target shapes:  torch.Size([4096, 3]) torch.Size([4096, 1]) torch.Size([4096, 1])\n",
      "a1,a2,a3 shapes after unsqueeze:  torch.Size([4096, 1]) torch.Size([4096, 1]) torch.Size([4096, 1])\n",
      "after for, fields, neg, target shapes:  torch.Size([4096, 3]) torch.Size([4096, 1]) torch.Size([4096, 1])\n",
      "a1,a2,a3 shapes after unsqueeze:  torch.Size([4096, 1]) torch.Size([4096, 1]) torch.Size([4096, 1])\n",
      "after for, fields, neg, target shapes:  torch.Size([389, 3]) torch.Size([389, 1]) torch.Size([389, 1])\n",
      "a1,a2,a3 shapes after unsqueeze:  torch.Size([389, 1]) torch.Size([389, 1]) torch.Size([389, 1])\n",
      "Epoch 0, avg total_loss (per training sample):  0.017858043791759683\n",
      "after for, fields, neg, target shapes:  torch.Size([4096, 3]) torch.Size([4096, 1]) torch.Size([4096, 1])\n",
      "a1,a2,a3 shapes after unsqueeze:  torch.Size([4096, 1]) torch.Size([4096, 1]) torch.Size([4096, 1])\n",
      "after for, fields, neg, target shapes:  torch.Size([4096, 3]) torch.Size([4096, 1]) torch.Size([4096, 1])\n",
      "a1,a2,a3 shapes after unsqueeze:  torch.Size([4096, 1]) torch.Size([4096, 1]) torch.Size([4096, 1])\n",
      "after for, fields, neg, target shapes:  torch.Size([389, 3]) torch.Size([389, 1]) torch.Size([389, 1])\n",
      "a1,a2,a3 shapes after unsqueeze:  torch.Size([389, 1]) torch.Size([389, 1]) torch.Size([389, 1])\n",
      "Epoch 1, avg total_loss (per training sample):  0.018436317841723525\n",
      "after for, fields, neg, target shapes:  torch.Size([4096, 3]) torch.Size([4096, 1]) torch.Size([4096, 1])\n",
      "a1,a2,a3 shapes after unsqueeze:  torch.Size([4096, 1]) torch.Size([4096, 1]) torch.Size([4096, 1])\n",
      "after for, fields, neg, target shapes:  torch.Size([4096, 3]) torch.Size([4096, 1]) torch.Size([4096, 1])\n",
      "a1,a2,a3 shapes after unsqueeze:  torch.Size([4096, 1]) torch.Size([4096, 1]) torch.Size([4096, 1])\n",
      "after for, fields, neg, target shapes:  torch.Size([389, 3]) torch.Size([389, 1]) torch.Size([389, 1])\n",
      "a1,a2,a3 shapes after unsqueeze:  torch.Size([389, 1]) torch.Size([389, 1]) torch.Size([389, 1])\n",
      "Epoch 2, avg total_loss (per training sample):  0.018113652047761268\n",
      "after for, fields, neg, target shapes:  torch.Size([4096, 3]) torch.Size([4096, 1]) torch.Size([4096, 1])\n",
      "a1,a2,a3 shapes after unsqueeze:  torch.Size([4096, 1]) torch.Size([4096, 1]) torch.Size([4096, 1])\n"
     ]
    },
    {
     "ename": "KeyboardInterrupt",
     "evalue": "",
     "output_type": "error",
     "traceback": [
      "\u001b[0;31m---------------------------------------------------------------------------\u001b[0m",
      "\u001b[0;31mKeyboardInterrupt\u001b[0m                         Traceback (most recent call last)",
      "File \u001b[0;32m<timed exec>:11\u001b[0m, in \u001b[0;36m<module>\u001b[0;34m\u001b[0m\n",
      "File \u001b[0;32m~/src/2022/copa_recommenders/copa_recommender_data_rankfm/torchfm/myfunclib.py:257\u001b[0m, in \u001b[0;36mtrain_epoch\u001b[0;34m(model, optimizer, data_loader, criterion, device, log_interval)\u001b[0m\n\u001b[1;32m    255\u001b[0m count \u001b[38;5;241m=\u001b[39m \u001b[38;5;241m0\u001b[39m\n\u001b[1;32m    256\u001b[0m \u001b[38;5;66;03m#for i, (fields, neg, target) in enumerate(tk0):\u001b[39;00m\n\u001b[0;32m--> 257\u001b[0m \u001b[38;5;28;01mfor\u001b[39;00m i, (fields, neg, target) \u001b[38;5;129;01min\u001b[39;00m \u001b[38;5;28menumerate\u001b[39m(data_loader):\n\u001b[1;32m    258\u001b[0m     \u001b[38;5;66;03m# More efficient to collect tensors together on CPU and send them all at once\u001b[39;00m\n\u001b[1;32m    259\u001b[0m     fields, neg, target \u001b[38;5;241m=\u001b[39m fields\u001b[38;5;241m.\u001b[39mto(device), neg\u001b[38;5;241m.\u001b[39mto(device), target\u001b[38;5;241m.\u001b[39mto(device)\n\u001b[1;32m    261\u001b[0m     \u001b[38;5;66;03m# The 2nd field is the destination\u001b[39;00m\n",
      "File \u001b[0;32m~/anaconda3/envs/d2l/lib/python3.8/site-packages/torch/utils/data/dataloader.py:652\u001b[0m, in \u001b[0;36m_BaseDataLoaderIter.__next__\u001b[0;34m(self)\u001b[0m\n\u001b[1;32m    649\u001b[0m \u001b[38;5;28;01mif\u001b[39;00m \u001b[38;5;28mself\u001b[39m\u001b[38;5;241m.\u001b[39m_sampler_iter \u001b[38;5;129;01mis\u001b[39;00m \u001b[38;5;28;01mNone\u001b[39;00m:\n\u001b[1;32m    650\u001b[0m     \u001b[38;5;66;03m# TODO(https://github.com/pytorch/pytorch/issues/76750)\u001b[39;00m\n\u001b[1;32m    651\u001b[0m     \u001b[38;5;28mself\u001b[39m\u001b[38;5;241m.\u001b[39m_reset()  \u001b[38;5;66;03m# type: ignore[call-arg]\u001b[39;00m\n\u001b[0;32m--> 652\u001b[0m data \u001b[38;5;241m=\u001b[39m \u001b[38;5;28;43mself\u001b[39;49m\u001b[38;5;241;43m.\u001b[39;49m\u001b[43m_next_data\u001b[49m\u001b[43m(\u001b[49m\u001b[43m)\u001b[49m\n\u001b[1;32m    653\u001b[0m \u001b[38;5;28mself\u001b[39m\u001b[38;5;241m.\u001b[39m_num_yielded \u001b[38;5;241m+\u001b[39m\u001b[38;5;241m=\u001b[39m \u001b[38;5;241m1\u001b[39m\n\u001b[1;32m    654\u001b[0m \u001b[38;5;28;01mif\u001b[39;00m \u001b[38;5;28mself\u001b[39m\u001b[38;5;241m.\u001b[39m_dataset_kind \u001b[38;5;241m==\u001b[39m _DatasetKind\u001b[38;5;241m.\u001b[39mIterable \u001b[38;5;129;01mand\u001b[39;00m \\\n\u001b[1;32m    655\u001b[0m         \u001b[38;5;28mself\u001b[39m\u001b[38;5;241m.\u001b[39m_IterableDataset_len_called \u001b[38;5;129;01mis\u001b[39;00m \u001b[38;5;129;01mnot\u001b[39;00m \u001b[38;5;28;01mNone\u001b[39;00m \u001b[38;5;129;01mand\u001b[39;00m \\\n\u001b[1;32m    656\u001b[0m         \u001b[38;5;28mself\u001b[39m\u001b[38;5;241m.\u001b[39m_num_yielded \u001b[38;5;241m>\u001b[39m \u001b[38;5;28mself\u001b[39m\u001b[38;5;241m.\u001b[39m_IterableDataset_len_called:\n",
      "File \u001b[0;32m~/anaconda3/envs/d2l/lib/python3.8/site-packages/torch/utils/data/dataloader.py:692\u001b[0m, in \u001b[0;36m_SingleProcessDataLoaderIter._next_data\u001b[0;34m(self)\u001b[0m\n\u001b[1;32m    690\u001b[0m \u001b[38;5;28;01mdef\u001b[39;00m \u001b[38;5;21m_next_data\u001b[39m(\u001b[38;5;28mself\u001b[39m):\n\u001b[1;32m    691\u001b[0m     index \u001b[38;5;241m=\u001b[39m \u001b[38;5;28mself\u001b[39m\u001b[38;5;241m.\u001b[39m_next_index()  \u001b[38;5;66;03m# may raise StopIteration\u001b[39;00m\n\u001b[0;32m--> 692\u001b[0m     data \u001b[38;5;241m=\u001b[39m \u001b[38;5;28;43mself\u001b[39;49m\u001b[38;5;241;43m.\u001b[39;49m\u001b[43m_dataset_fetcher\u001b[49m\u001b[38;5;241;43m.\u001b[39;49m\u001b[43mfetch\u001b[49m\u001b[43m(\u001b[49m\u001b[43mindex\u001b[49m\u001b[43m)\u001b[49m  \u001b[38;5;66;03m# may raise StopIteration\u001b[39;00m\n\u001b[1;32m    693\u001b[0m     \u001b[38;5;28;01mif\u001b[39;00m \u001b[38;5;28mself\u001b[39m\u001b[38;5;241m.\u001b[39m_pin_memory:\n\u001b[1;32m    694\u001b[0m         data \u001b[38;5;241m=\u001b[39m _utils\u001b[38;5;241m.\u001b[39mpin_memory\u001b[38;5;241m.\u001b[39mpin_memory(data, \u001b[38;5;28mself\u001b[39m\u001b[38;5;241m.\u001b[39m_pin_memory_device)\n",
      "File \u001b[0;32m~/anaconda3/envs/d2l/lib/python3.8/site-packages/torch/utils/data/_utils/fetch.py:49\u001b[0m, in \u001b[0;36m_MapDatasetFetcher.fetch\u001b[0;34m(self, possibly_batched_index)\u001b[0m\n\u001b[1;32m     47\u001b[0m \u001b[38;5;28;01mdef\u001b[39;00m \u001b[38;5;21mfetch\u001b[39m(\u001b[38;5;28mself\u001b[39m, possibly_batched_index):\n\u001b[1;32m     48\u001b[0m     \u001b[38;5;28;01mif\u001b[39;00m \u001b[38;5;28mself\u001b[39m\u001b[38;5;241m.\u001b[39mauto_collation:\n\u001b[0;32m---> 49\u001b[0m         data \u001b[38;5;241m=\u001b[39m [\u001b[38;5;28mself\u001b[39m\u001b[38;5;241m.\u001b[39mdataset[idx] \u001b[38;5;28;01mfor\u001b[39;00m idx \u001b[38;5;129;01min\u001b[39;00m possibly_batched_index]\n\u001b[1;32m     50\u001b[0m     \u001b[38;5;28;01melse\u001b[39;00m:\n\u001b[1;32m     51\u001b[0m         data \u001b[38;5;241m=\u001b[39m \u001b[38;5;28mself\u001b[39m\u001b[38;5;241m.\u001b[39mdataset[possibly_batched_index]\n",
      "File \u001b[0;32m~/anaconda3/envs/d2l/lib/python3.8/site-packages/torch/utils/data/_utils/fetch.py:49\u001b[0m, in \u001b[0;36m<listcomp>\u001b[0;34m(.0)\u001b[0m\n\u001b[1;32m     47\u001b[0m \u001b[38;5;28;01mdef\u001b[39;00m \u001b[38;5;21mfetch\u001b[39m(\u001b[38;5;28mself\u001b[39m, possibly_batched_index):\n\u001b[1;32m     48\u001b[0m     \u001b[38;5;28;01mif\u001b[39;00m \u001b[38;5;28mself\u001b[39m\u001b[38;5;241m.\u001b[39mauto_collation:\n\u001b[0;32m---> 49\u001b[0m         data \u001b[38;5;241m=\u001b[39m [\u001b[38;5;28;43mself\u001b[39;49m\u001b[38;5;241;43m.\u001b[39;49m\u001b[43mdataset\u001b[49m\u001b[43m[\u001b[49m\u001b[43midx\u001b[49m\u001b[43m]\u001b[49m \u001b[38;5;28;01mfor\u001b[39;00m idx \u001b[38;5;129;01min\u001b[39;00m possibly_batched_index]\n\u001b[1;32m     50\u001b[0m     \u001b[38;5;28;01melse\u001b[39;00m:\n\u001b[1;32m     51\u001b[0m         data \u001b[38;5;241m=\u001b[39m \u001b[38;5;28mself\u001b[39m\u001b[38;5;241m.\u001b[39mdataset[possibly_batched_index]\n",
      "File \u001b[0;32m~/src/2022/copa_recommenders/copa_recommender_data_rankfm/torchfm/myfunclib.py:130\u001b[0m, in \u001b[0;36mmyDataset.__getitem__\u001b[0;34m(self, idx)\u001b[0m\n\u001b[1;32m    129\u001b[0m \u001b[38;5;28;01mdef\u001b[39;00m \u001b[38;5;21m__getitem__\u001b[39m(\u001b[38;5;28mself\u001b[39m, idx):\n\u001b[0;32m--> 130\u001b[0m     row \u001b[38;5;241m=\u001b[39m \u001b[38;5;28;43mself\u001b[39;49m\u001b[38;5;241;43m.\u001b[39;49m\u001b[43mdf\u001b[49m\u001b[38;5;241;43m.\u001b[39;49m\u001b[43miloc\u001b[49m\u001b[43m[\u001b[49m\u001b[43midx\u001b[49m\u001b[43m,\u001b[49m\u001b[43m:\u001b[49m\u001b[43m]\u001b[49m\n\u001b[1;32m    131\u001b[0m     member_id \u001b[38;5;241m=\u001b[39m row[\u001b[38;5;124m'\u001b[39m\u001b[38;5;124mMEMBER_ID\u001b[39m\u001b[38;5;124m'\u001b[39m]\n\u001b[1;32m    132\u001b[0m     diff_set \u001b[38;5;241m=\u001b[39m \u001b[38;5;28mself\u001b[39m\u001b[38;5;241m.\u001b[39munique_D \u001b[38;5;241m-\u001b[39m \u001b[38;5;28mself\u001b[39m\u001b[38;5;241m.\u001b[39mD_set\u001b[38;5;241m.\u001b[39mloc[member_id, :]\u001b[38;5;241m.\u001b[39mvalues[\u001b[38;5;241m0\u001b[39m]\n",
      "File \u001b[0;32m~/anaconda3/envs/d2l/lib/python3.8/site-packages/pandas/core/indexing.py:889\u001b[0m, in \u001b[0;36m_LocationIndexer.__getitem__\u001b[0;34m(self, key)\u001b[0m\n\u001b[1;32m    886\u001b[0m         \u001b[38;5;28;01mwith\u001b[39;00m suppress(\u001b[38;5;167;01mKeyError\u001b[39;00m, \u001b[38;5;167;01mIndexError\u001b[39;00m, \u001b[38;5;167;01mAttributeError\u001b[39;00m):\n\u001b[1;32m    887\u001b[0m             \u001b[38;5;66;03m# AttributeError for IntervalTree get_value\u001b[39;00m\n\u001b[1;32m    888\u001b[0m             \u001b[38;5;28;01mreturn\u001b[39;00m \u001b[38;5;28mself\u001b[39m\u001b[38;5;241m.\u001b[39mobj\u001b[38;5;241m.\u001b[39m_get_value(\u001b[38;5;241m*\u001b[39mkey, takeable\u001b[38;5;241m=\u001b[39m\u001b[38;5;28mself\u001b[39m\u001b[38;5;241m.\u001b[39m_takeable)\n\u001b[0;32m--> 889\u001b[0m     \u001b[38;5;28;01mreturn\u001b[39;00m \u001b[38;5;28;43mself\u001b[39;49m\u001b[38;5;241;43m.\u001b[39;49m\u001b[43m_getitem_tuple\u001b[49m\u001b[43m(\u001b[49m\u001b[43mkey\u001b[49m\u001b[43m)\u001b[49m\n\u001b[1;32m    890\u001b[0m \u001b[38;5;28;01melse\u001b[39;00m:\n\u001b[1;32m    891\u001b[0m     \u001b[38;5;66;03m# we by definition only have the 0th axis\u001b[39;00m\n\u001b[1;32m    892\u001b[0m     axis \u001b[38;5;241m=\u001b[39m \u001b[38;5;28mself\u001b[39m\u001b[38;5;241m.\u001b[39maxis \u001b[38;5;129;01mor\u001b[39;00m \u001b[38;5;241m0\u001b[39m\n",
      "File \u001b[0;32m~/anaconda3/envs/d2l/lib/python3.8/site-packages/pandas/core/indexing.py:1452\u001b[0m, in \u001b[0;36m_iLocIndexer._getitem_tuple\u001b[0;34m(self, tup)\u001b[0m\n\u001b[1;32m   1450\u001b[0m \u001b[38;5;28mself\u001b[39m\u001b[38;5;241m.\u001b[39m_has_valid_tuple(tup)\n\u001b[1;32m   1451\u001b[0m \u001b[38;5;28;01mwith\u001b[39;00m suppress(IndexingError):\n\u001b[0;32m-> 1452\u001b[0m     \u001b[38;5;28;01mreturn\u001b[39;00m \u001b[38;5;28;43mself\u001b[39;49m\u001b[38;5;241;43m.\u001b[39;49m\u001b[43m_getitem_lowerdim\u001b[49m\u001b[43m(\u001b[49m\u001b[43mtup\u001b[49m\u001b[43m)\u001b[49m\n\u001b[1;32m   1454\u001b[0m \u001b[38;5;28;01mreturn\u001b[39;00m \u001b[38;5;28mself\u001b[39m\u001b[38;5;241m.\u001b[39m_getitem_tuple_same_dim(tup)\n",
      "File \u001b[0;32m~/anaconda3/envs/d2l/lib/python3.8/site-packages/pandas/core/indexing.py:807\u001b[0m, in \u001b[0;36m_LocationIndexer._getitem_lowerdim\u001b[0;34m(self, tup)\u001b[0m\n\u001b[1;32m    803\u001b[0m \u001b[38;5;28;01mfor\u001b[39;00m i, key \u001b[38;5;129;01min\u001b[39;00m \u001b[38;5;28menumerate\u001b[39m(tup):\n\u001b[1;32m    804\u001b[0m     \u001b[38;5;28;01mif\u001b[39;00m is_label_like(key):\n\u001b[1;32m    805\u001b[0m         \u001b[38;5;66;03m# We don't need to check for tuples here because those are\u001b[39;00m\n\u001b[1;32m    806\u001b[0m         \u001b[38;5;66;03m#  caught by the _is_nested_tuple_indexer check above.\u001b[39;00m\n\u001b[0;32m--> 807\u001b[0m         section \u001b[38;5;241m=\u001b[39m \u001b[38;5;28;43mself\u001b[39;49m\u001b[38;5;241;43m.\u001b[39;49m\u001b[43m_getitem_axis\u001b[49m\u001b[43m(\u001b[49m\u001b[43mkey\u001b[49m\u001b[43m,\u001b[49m\u001b[43m \u001b[49m\u001b[43maxis\u001b[49m\u001b[38;5;241;43m=\u001b[39;49m\u001b[43mi\u001b[49m\u001b[43m)\u001b[49m\n\u001b[1;32m    809\u001b[0m         \u001b[38;5;66;03m# We should never have a scalar section here, because\u001b[39;00m\n\u001b[1;32m    810\u001b[0m         \u001b[38;5;66;03m#  _getitem_lowerdim is only called after a check for\u001b[39;00m\n\u001b[1;32m    811\u001b[0m         \u001b[38;5;66;03m#  is_scalar_access, which that would be.\u001b[39;00m\n\u001b[1;32m    812\u001b[0m         \u001b[38;5;28;01mif\u001b[39;00m section\u001b[38;5;241m.\u001b[39mndim \u001b[38;5;241m==\u001b[39m \u001b[38;5;28mself\u001b[39m\u001b[38;5;241m.\u001b[39mndim:\n\u001b[1;32m    813\u001b[0m             \u001b[38;5;66;03m# we're in the middle of slicing through a MultiIndex\u001b[39;00m\n\u001b[1;32m    814\u001b[0m             \u001b[38;5;66;03m# revise the key wrt to `section` by inserting an _NS\u001b[39;00m\n",
      "File \u001b[0;32m~/anaconda3/envs/d2l/lib/python3.8/site-packages/pandas/core/indexing.py:1503\u001b[0m, in \u001b[0;36m_iLocIndexer._getitem_axis\u001b[0;34m(self, key, axis)\u001b[0m\n\u001b[1;32m   1500\u001b[0m \u001b[38;5;66;03m# validate the location\u001b[39;00m\n\u001b[1;32m   1501\u001b[0m \u001b[38;5;28mself\u001b[39m\u001b[38;5;241m.\u001b[39m_validate_integer(key, axis)\n\u001b[0;32m-> 1503\u001b[0m \u001b[38;5;28;01mreturn\u001b[39;00m \u001b[38;5;28;43mself\u001b[39;49m\u001b[38;5;241;43m.\u001b[39;49m\u001b[43mobj\u001b[49m\u001b[38;5;241;43m.\u001b[39;49m\u001b[43m_ixs\u001b[49m\u001b[43m(\u001b[49m\u001b[43mkey\u001b[49m\u001b[43m,\u001b[49m\u001b[43m \u001b[49m\u001b[43maxis\u001b[49m\u001b[38;5;241;43m=\u001b[39;49m\u001b[43maxis\u001b[49m\u001b[43m)\u001b[49m\n",
      "File \u001b[0;32m~/anaconda3/envs/d2l/lib/python3.8/site-packages/pandas/core/frame.py:2951\u001b[0m, in \u001b[0;36mDataFrame._ixs\u001b[0;34m(self, i, axis)\u001b[0m\n\u001b[1;32m   2949\u001b[0m \u001b[38;5;66;03m# if we are a copy, mark as such\u001b[39;00m\n\u001b[1;32m   2950\u001b[0m copy \u001b[38;5;241m=\u001b[39m \u001b[38;5;28misinstance\u001b[39m(new_values, np\u001b[38;5;241m.\u001b[39mndarray) \u001b[38;5;129;01mand\u001b[39;00m new_values\u001b[38;5;241m.\u001b[39mbase \u001b[38;5;129;01mis\u001b[39;00m \u001b[38;5;28;01mNone\u001b[39;00m\n\u001b[0;32m-> 2951\u001b[0m result \u001b[38;5;241m=\u001b[39m \u001b[38;5;28;43mself\u001b[39;49m\u001b[38;5;241;43m.\u001b[39;49m\u001b[43m_constructor_sliced\u001b[49m\u001b[43m(\u001b[49m\n\u001b[1;32m   2952\u001b[0m \u001b[43m    \u001b[49m\u001b[43mnew_values\u001b[49m\u001b[43m,\u001b[49m\n\u001b[1;32m   2953\u001b[0m \u001b[43m    \u001b[49m\u001b[43mindex\u001b[49m\u001b[38;5;241;43m=\u001b[39;49m\u001b[38;5;28;43mself\u001b[39;49m\u001b[38;5;241;43m.\u001b[39;49m\u001b[43mcolumns\u001b[49m\u001b[43m,\u001b[49m\n\u001b[1;32m   2954\u001b[0m \u001b[43m    \u001b[49m\u001b[43mname\u001b[49m\u001b[38;5;241;43m=\u001b[39;49m\u001b[38;5;28;43mself\u001b[39;49m\u001b[38;5;241;43m.\u001b[39;49m\u001b[43mindex\u001b[49m\u001b[43m[\u001b[49m\u001b[43mi\u001b[49m\u001b[43m]\u001b[49m\u001b[43m,\u001b[49m\n\u001b[1;32m   2955\u001b[0m \u001b[43m    \u001b[49m\u001b[43mdtype\u001b[49m\u001b[38;5;241;43m=\u001b[39;49m\u001b[43mnew_values\u001b[49m\u001b[38;5;241;43m.\u001b[39;49m\u001b[43mdtype\u001b[49m\u001b[43m,\u001b[49m\n\u001b[1;32m   2956\u001b[0m \u001b[43m\u001b[49m\u001b[43m)\u001b[49m\n\u001b[1;32m   2957\u001b[0m result\u001b[38;5;241m.\u001b[39m_set_is_copy(\u001b[38;5;28mself\u001b[39m, copy\u001b[38;5;241m=\u001b[39mcopy)\n\u001b[1;32m   2958\u001b[0m \u001b[38;5;28;01mreturn\u001b[39;00m result\n",
      "File \u001b[0;32m~/anaconda3/envs/d2l/lib/python3.8/site-packages/pandas/core/series.py:364\u001b[0m, in \u001b[0;36mSeries.__init__\u001b[0;34m(self, data, index, dtype, name, copy, fastpath)\u001b[0m\n\u001b[1;32m    362\u001b[0m             data \u001b[38;5;241m=\u001b[39m data\u001b[38;5;241m.\u001b[39mcopy()\n\u001b[1;32m    363\u001b[0m     \u001b[38;5;28;01melse\u001b[39;00m:\n\u001b[0;32m--> 364\u001b[0m         data \u001b[38;5;241m=\u001b[39m \u001b[43msanitize_array\u001b[49m\u001b[43m(\u001b[49m\u001b[43mdata\u001b[49m\u001b[43m,\u001b[49m\u001b[43m \u001b[49m\u001b[43mindex\u001b[49m\u001b[43m,\u001b[49m\u001b[43m \u001b[49m\u001b[43mdtype\u001b[49m\u001b[43m,\u001b[49m\u001b[43m \u001b[49m\u001b[43mcopy\u001b[49m\u001b[43m,\u001b[49m\u001b[43m \u001b[49m\u001b[43mraise_cast_failure\u001b[49m\u001b[38;5;241;43m=\u001b[39;49m\u001b[38;5;28;43;01mTrue\u001b[39;49;00m\u001b[43m)\u001b[49m\n\u001b[1;32m    366\u001b[0m         data \u001b[38;5;241m=\u001b[39m SingleBlockManager\u001b[38;5;241m.\u001b[39mfrom_array(data, index)\n\u001b[1;32m    368\u001b[0m generic\u001b[38;5;241m.\u001b[39mNDFrame\u001b[38;5;241m.\u001b[39m\u001b[38;5;21m__init__\u001b[39m(\u001b[38;5;28mself\u001b[39m, data)\n",
      "File \u001b[0;32m~/anaconda3/envs/d2l/lib/python3.8/site-packages/pandas/core/construction.py:461\u001b[0m, in \u001b[0;36msanitize_array\u001b[0;34m(data, index, dtype, copy, raise_cast_failure)\u001b[0m\n\u001b[1;32m    458\u001b[0m                 subarr \u001b[38;5;241m=\u001b[39m np\u001b[38;5;241m.\u001b[39marray(data, copy\u001b[38;5;241m=\u001b[39m\u001b[38;5;28;01mFalse\u001b[39;00m)\n\u001b[1;32m    459\u001b[0m     \u001b[38;5;28;01melse\u001b[39;00m:\n\u001b[1;32m    460\u001b[0m         \u001b[38;5;66;03m# we will try to copy be-definition here\u001b[39;00m\n\u001b[0;32m--> 461\u001b[0m         subarr \u001b[38;5;241m=\u001b[39m \u001b[43m_try_cast\u001b[49m\u001b[43m(\u001b[49m\u001b[43mdata\u001b[49m\u001b[43m,\u001b[49m\u001b[43m \u001b[49m\u001b[43mdtype\u001b[49m\u001b[43m,\u001b[49m\u001b[43m \u001b[49m\u001b[43mcopy\u001b[49m\u001b[43m,\u001b[49m\u001b[43m \u001b[49m\u001b[43mraise_cast_failure\u001b[49m\u001b[43m)\u001b[49m\n\u001b[1;32m    463\u001b[0m \u001b[38;5;28;01melif\u001b[39;00m \u001b[38;5;28misinstance\u001b[39m(data, ABCExtensionArray):\n\u001b[1;32m    464\u001b[0m     \u001b[38;5;66;03m# it is already ensured above this is not a PandasArray\u001b[39;00m\n\u001b[1;32m    465\u001b[0m     subarr \u001b[38;5;241m=\u001b[39m data\n",
      "File \u001b[0;32m~/anaconda3/envs/d2l/lib/python3.8/site-packages/pandas/core/construction.py:585\u001b[0m, in \u001b[0;36m_try_cast\u001b[0;34m(arr, dtype, copy, raise_cast_failure)\u001b[0m\n\u001b[1;32m    580\u001b[0m     \u001b[38;5;28;01mreturn\u001b[39;00m subarr\n\u001b[1;32m    582\u001b[0m \u001b[38;5;28;01mtry\u001b[39;00m:\n\u001b[1;32m    583\u001b[0m     \u001b[38;5;66;03m# GH#15832: Check if we are requesting a numeric dtype and\u001b[39;00m\n\u001b[1;32m    584\u001b[0m     \u001b[38;5;66;03m# that we can convert the data to the requested dtype.\u001b[39;00m\n\u001b[0;32m--> 585\u001b[0m     \u001b[38;5;28;01mif\u001b[39;00m \u001b[43mis_integer_dtype\u001b[49m\u001b[43m(\u001b[49m\u001b[43mdtype\u001b[49m\u001b[43m)\u001b[49m:\n\u001b[1;32m    586\u001b[0m         \u001b[38;5;66;03m# this will raise if we have e.g. floats\u001b[39;00m\n\u001b[1;32m    587\u001b[0m         maybe_cast_to_integer_array(arr, dtype)\n\u001b[1;32m    588\u001b[0m         subarr \u001b[38;5;241m=\u001b[39m arr\n",
      "File \u001b[0;32m~/anaconda3/envs/d2l/lib/python3.8/site-packages/pandas/core/dtypes/common.py:754\u001b[0m, in \u001b[0;36mis_integer_dtype\u001b[0;34m(arr_or_dtype)\u001b[0m\n\u001b[1;32m    703\u001b[0m \u001b[38;5;28;01mdef\u001b[39;00m \u001b[38;5;21mis_integer_dtype\u001b[39m(arr_or_dtype) \u001b[38;5;241m-\u001b[39m\u001b[38;5;241m>\u001b[39m \u001b[38;5;28mbool\u001b[39m:\n\u001b[1;32m    704\u001b[0m     \u001b[38;5;124;03m\"\"\"\u001b[39;00m\n\u001b[1;32m    705\u001b[0m \u001b[38;5;124;03m    Check whether the provided array or dtype is of an integer dtype.\u001b[39;00m\n\u001b[1;32m    706\u001b[0m \n\u001b[0;32m   (...)\u001b[0m\n\u001b[1;32m    752\u001b[0m \u001b[38;5;124;03m    False\u001b[39;00m\n\u001b[1;32m    753\u001b[0m \u001b[38;5;124;03m    \"\"\"\u001b[39;00m\n\u001b[0;32m--> 754\u001b[0m     \u001b[38;5;28;01mreturn\u001b[39;00m \u001b[43m_is_dtype_type\u001b[49m\u001b[43m(\u001b[49m\u001b[43marr_or_dtype\u001b[49m\u001b[43m,\u001b[49m\u001b[43m \u001b[49m\u001b[43mclasses_and_not_datetimelike\u001b[49m\u001b[43m(\u001b[49m\u001b[43mnp\u001b[49m\u001b[38;5;241;43m.\u001b[39;49m\u001b[43minteger\u001b[49m\u001b[43m)\u001b[49m\u001b[43m)\u001b[49m\n",
      "File \u001b[0;32m~/anaconda3/envs/d2l/lib/python3.8/site-packages/pandas/core/dtypes/common.py:1629\u001b[0m, in \u001b[0;36m_is_dtype_type\u001b[0;34m(arr_or_dtype, condition)\u001b[0m\n\u001b[1;32m   1627\u001b[0m \u001b[38;5;66;03m# fastpath\u001b[39;00m\n\u001b[1;32m   1628\u001b[0m \u001b[38;5;28;01mif\u001b[39;00m \u001b[38;5;28misinstance\u001b[39m(arr_or_dtype, np\u001b[38;5;241m.\u001b[39mdtype):\n\u001b[0;32m-> 1629\u001b[0m     \u001b[38;5;28;01mreturn\u001b[39;00m \u001b[43mcondition\u001b[49m\u001b[43m(\u001b[49m\u001b[43marr_or_dtype\u001b[49m\u001b[38;5;241;43m.\u001b[39;49m\u001b[43mtype\u001b[49m\u001b[43m)\u001b[49m\n\u001b[1;32m   1630\u001b[0m \u001b[38;5;28;01melif\u001b[39;00m \u001b[38;5;28misinstance\u001b[39m(arr_or_dtype, \u001b[38;5;28mtype\u001b[39m):\n\u001b[1;32m   1631\u001b[0m     \u001b[38;5;28;01mif\u001b[39;00m \u001b[38;5;28missubclass\u001b[39m(arr_or_dtype, ExtensionDtype):\n",
      "File \u001b[0;32m~/anaconda3/envs/d2l/lib/python3.8/site-packages/pandas/core/dtypes/common.py:196\u001b[0m, in \u001b[0;36mclasses_and_not_datetimelike.<locals>.<lambda>\u001b[0;34m(tipo)\u001b[0m\n\u001b[1;32m    190\u001b[0m \u001b[38;5;28;01mdef\u001b[39;00m \u001b[38;5;21mclasses_and_not_datetimelike\u001b[39m(\u001b[38;5;241m*\u001b[39mklasses) \u001b[38;5;241m-\u001b[39m\u001b[38;5;241m>\u001b[39m Callable:\n\u001b[1;32m    191\u001b[0m     \u001b[38;5;124;03m\"\"\"\u001b[39;00m\n\u001b[1;32m    192\u001b[0m \u001b[38;5;124;03m    evaluate if the tipo is a subclass of the klasses\u001b[39;00m\n\u001b[1;32m    193\u001b[0m \u001b[38;5;124;03m    and not a datetimelike\u001b[39;00m\n\u001b[1;32m    194\u001b[0m \u001b[38;5;124;03m    \"\"\"\u001b[39;00m\n\u001b[1;32m    195\u001b[0m     \u001b[38;5;28;01mreturn\u001b[39;00m \u001b[38;5;28;01mlambda\u001b[39;00m tipo: (\n\u001b[0;32m--> 196\u001b[0m         \u001b[38;5;28;43missubclass\u001b[39;49m(tipo, klasses)\n\u001b[1;32m    197\u001b[0m         \u001b[38;5;129;01mand\u001b[39;00m \u001b[38;5;129;01mnot\u001b[39;00m \u001b[38;5;28missubclass\u001b[39m(tipo, (np\u001b[38;5;241m.\u001b[39mdatetime64, np\u001b[38;5;241m.\u001b[39mtimedelta64))\n\u001b[1;32m    198\u001b[0m     )\n",
      "\u001b[0;31mKeyboardInterrupt\u001b[0m: "
     ]
    }
   ],
   "source": [
    "%%time\n",
    "nb_epochs = gdct['nb_epochs']\n",
    "losses = []\n",
    "train_iter = data_dict['train_iter']\n",
    "\n",
    "train_iter = DataLoader(data_dict['train_data'], batch_size=4096, shuffle=True)\n",
    "print(\"nb training samples: \", len(train_iter.dataset), train_iter.dataset.df.shape)\n",
    "\n",
    "nb_epochs = 20\n",
    "\n",
    "for epoch in range(nb_epochs):\n",
    "    total_loss = myfm.train_epoch(net, optimizer, train_iter, loss_func, device=gdct['device'], log_interval=10)\n",
    "    losses.append(total_loss)\n",
    "    if epoch % 1 == 0:\n",
    "        print(f\"Epoch {epoch}, avg total_loss (per training sample): \", total_loss)\n",
    "        \n",
    "#  ERROR: Check that all variables are on the same device. HOW TO DO THIS? try 'cuda'\n",
    "#  8500 training samples\n",
    "# time GPU, 5.6 sec for 4 epochs, batch 512\n",
    "# time CPU, 5.8 sec for 4 epochs, batch 512\n",
    "# time CPU, 7.1 sec for 4 epochs, batch 32\n",
    "# time CPU, 5.7 sec for 4 epochs, batch 4096\n",
    "# time CPU, 6.8 sec for 4 epochs, batch 32\n",
    "# time GPU, 7.0 sec for 4 epochs, batch 32\n",
    "# time GPU, 5.0 sec for 4 epochs, batch 4096\n",
    "\n",
    "# ERROR? The loss per training sample should be independent of the batch size"
   ]
  },
  {
   "cell_type": "code",
   "execution_count": 44,
   "id": "bddaa5ef-8548-4d19-9f29-1011db2d8b43",
   "metadata": {},
   "outputs": [
    {
     "data": {
      "text/plain": [
       "-1"
      ]
     },
     "execution_count": 44,
     "metadata": {},
     "output_type": "execute_result"
    }
   ],
   "source": [
    "list(net.parameters())[0].get_device()  # -1 for cpu"
   ]
  },
  {
   "cell_type": "code",
   "execution_count": 45,
   "id": "a2241a66-bf4c-4674-93b5-95d7e06ee0fa",
   "metadata": {},
   "outputs": [
    {
     "data": {
      "text/plain": [
       "device(type='cpu')"
      ]
     },
     "execution_count": 45,
     "metadata": {},
     "output_type": "execute_result"
    }
   ],
   "source": [
    "a = list(net.parameters())[0].device\n",
    "a"
   ]
  },
  {
   "cell_type": "code",
   "execution_count": 66,
   "id": "f29a0b07-3225-4a0d-af60-67ec09332a1a",
   "metadata": {},
   "outputs": [
    {
     "name": "stdout",
     "output_type": "stream",
     "text": [
      "length:  8581\n",
      "CPU times: user 1.63 s, sys: 23.7 ms, total: 1.66 s\n",
      "Wall time: 1.42 s\n"
     ]
    }
   ],
   "source": [
    "%%time\n",
    "test_iter = data_dict['train_iter']\n",
    "print(\"length: \", len(test_iter.dataset))\n",
    "test_iter = DataLoader(data_dict['train_data'], batch_size=4*1024, shuffle=True)\n",
    "# fields: original dataframe as a torch array\n",
    "# scores: scores from original dataframe\n",
    "fields, scores = myfm.test_accuracy(net, test_iter, 'cpu')"
   ]
  },
  {
   "cell_type": "code",
   "execution_count": 72,
   "id": "839cf2b3-5fd8-4917-9212-ce2c673e8ade",
   "metadata": {},
   "outputs": [
    {
     "name": "stdout",
     "output_type": "stream",
     "text": [
      "0 torch.Size([4096, 3]) torch.Size([4096, 1]) torch.Size([4096, 1])\n"
     ]
    }
   ],
   "source": [
    "for i,data in enumerate(test_iter):\n",
    "    # data[0].shape = (B,3). Elements are member, item, age\n",
    "    print(i, data[0].shape, data[1].shape, data[2].shape)\n",
    "    break"
   ]
  },
  {
   "cell_type": "markdown",
   "id": "7ebeddc4-69ea-4751-bfc8-8cc798694cbf",
   "metadata": {},
   "source": [
    "Select a sample of members, and compute scores for all destinations"
   ]
  },
  {
   "cell_type": "code",
   "execution_count": 19,
   "id": "18d9ea35-ea0a-4f2e-906e-4c1784066c56",
   "metadata": {},
   "outputs": [
    {
     "data": {
      "text/plain": [
       "dict_keys(['member_attr', 'dest_attr', 'field_dims', 'D_set', 'dest2idx', 'idx2dest', 'member2idx', 'idx2member'])"
      ]
     },
     "execution_count": 19,
     "metadata": {},
     "output_type": "execute_result"
    }
   ],
   "source": [
    "data_iter = data_dict['train_iter']\n",
    "data_iter.dataset.dct.keys()\n",
    "dct = data_iter.dataset.dct\n",
    "dct.keys()"
   ]
  },
  {
   "cell_type": "code",
   "execution_count": 20,
   "id": "26192e5a-2c67-42e0-8b9c-2f0dd13dc1f2",
   "metadata": {},
   "outputs": [
    {
     "name": "stdout",
     "output_type": "stream",
     "text": [
      "(8581, 3)\n",
      "dest:  [0, 1, 2, 3, 4, 5, 6, 7, 8, 9, 10, 11, 12, 13, 14, 15, 16, 17, 18, 19, 20, 21, 22, 23, 24, 25, 26, 27, 28, 29, 30, 31, 32, 33, 34, 35, 36, 37, 38, 39, 40, 41, 42, 43, 44, 45, 46, 47, 48, 49, 50, 51, 52, 53, 54, 55, 56, 57, 58, 59, 60, 61, 62, 63, 64, 65, 66, 67, 68, 69, 70, 71, 72, 73, 74, 75]\n",
      "members[0]:  1405\n",
      "Size:  8581\n",
      "row:  MEMBER_ID    177\n",
      "D             63\n",
      "age            1\n",
      "Name: 3228, dtype: int16\n"
     ]
    }
   ],
   "source": [
    "df = data_iter.dataset.df # dataframe\n",
    "print(df.shape)\n",
    "nb_members = 1000  # select random members\n",
    "max_member = df['MEMBER_ID'].max()\n",
    "max_dest = df['D'].max()\n",
    "members = random.sample(range(0,max_member), 100)\n",
    "destinations = list(range(0,max_dest+1))  # 0, 1, ..., max_dest\n",
    "print(\"dest: \", destinations)\n",
    "print(\"members[0]: \", members[0])\n",
    "print(\"Size: \", df.groupby(['MEMBER_ID','D']).size().sum())\n",
    "row = df.iloc[members[0],:]\n",
    "print(\"row: \", row)\n",
    "\n",
    "# create a dataframe with members*max_dest rows. 10000*100 = one million\n",
    "# How to do this? \n",
    "#  1. create a specialized Dataset\n",
    "\n",
    "#print('member_attr: ', dct['member_attr'])\n",
    "#dct['idx2member'].keys()"
   ]
  },
  {
   "cell_type": "code",
   "execution_count": 21,
   "id": "14558845-92fa-4392-8b85-859d1cd6c50a",
   "metadata": {},
   "outputs": [
    {
     "name": "stdout",
     "output_type": "stream",
     "text": [
      "dest keys:  dict_keys([0, 1, 2, 3, 4, 5, 6, 7, 8, 9, 10, 11, 12, 13, 14, 15, 16, 17, 18, 19, 20, 21, 22, 23, 24, 25, 26, 27, 28, 29, 30, 31, 32, 33, 34, 35, 36, 37, 38, 39, 40, 41, 42, 43, 44, 45, 46, 47, 48, 49, 50, 51, 52, 53, 54, 55, 56, 57, 58, 59, 60, 61, 62, 63, 64, 65, 66, 67, 68, 69, 70, 71, 72, 73, 74, 75])\n",
      "destinations:  [0, 1, 2, 3, 4, 5, 6, 7, 8, 9, 10, 11, 12, 13, 14, 15, 16, 17, 18, 19, 20, 21, 22, 23, 24, 25, 26, 27, 28, 29, 30, 31, 32, 33, 34, 35, 36, 37, 38, 39, 40, 41, 42, 43, 44, 45, 46, 47, 48, 49, 50, 51, 52, 53, 54, 55, 56, 57, 58, 59, 60, 61, 62, 63, 64, 65, 66, 67, 68, 69, 70, 71, 72, 73, 74, 75]\n",
      "nb members:  2218\n",
      "dest:  76 76\n",
      "len:  168568\n"
     ]
    },
    {
     "data": {
      "text/plain": [
       "168568"
      ]
     },
     "execution_count": 21,
     "metadata": {},
     "output_type": "execute_result"
    }
   ],
   "source": [
    "data = myfm.AccuracyDataset(data_iter.dataset, destinations)\n",
    "len(data)"
   ]
  },
  {
   "cell_type": "code",
   "execution_count": 22,
   "id": "bb925305-b64e-4f4a-b184-f8acdd81efa6",
   "metadata": {},
   "outputs": [],
   "source": [
    "# shuffling is irrelevant\n",
    "accuracy_loader = DataLoader(data, batch_size=4096, shuffle=False)\n",
    "#accuracy_loader = DataLoader(data, batch_size=gdct['batch_size'], shuffle=False)"
   ]
  },
  {
   "cell_type": "code",
   "execution_count": 23,
   "id": "df5abff8-3d50-403b-9655-c5c0e9681ab8",
   "metadata": {
    "tags": []
   },
   "outputs": [
    {
     "ename": "RuntimeError",
     "evalue": "Sizes of tensors must match except in dimension 1. Expected size 3 but got size 1 for tensor number 1 in the list.",
     "output_type": "error",
     "traceback": [
      "\u001b[0;31m---------------------------------------------------------------------------\u001b[0m",
      "\u001b[0;31mRuntimeError\u001b[0m                              Traceback (most recent call last)",
      "Input \u001b[0;32mIn [23]\u001b[0m, in \u001b[0;36m<cell line: 1>\u001b[0;34m()\u001b[0m\n\u001b[0;32m----> 1\u001b[0m fields, predict \u001b[38;5;241m=\u001b[39m \u001b[43mmyfm\u001b[49m\u001b[38;5;241;43m.\u001b[39;49m\u001b[43mtest_accuracy\u001b[49m\u001b[43m(\u001b[49m\u001b[43mnet\u001b[49m\u001b[43m,\u001b[49m\u001b[43m \u001b[49m\u001b[43mtrain_iter\u001b[49m\u001b[43m,\u001b[49m\u001b[43m \u001b[49m\u001b[38;5;124;43m'\u001b[39;49m\u001b[38;5;124;43mcpu\u001b[39;49m\u001b[38;5;124;43m'\u001b[39;49m\u001b[43m)\u001b[49m\n\u001b[1;32m      3\u001b[0m \u001b[38;5;28mprint\u001b[39m(\u001b[38;5;124m\"\u001b[39m\u001b[38;5;124mfields: \u001b[39m\u001b[38;5;124m\"\u001b[39m, fields[\u001b[38;5;241m0\u001b[39m:\u001b[38;5;241m5\u001b[39m])\n\u001b[1;32m      4\u001b[0m \u001b[38;5;28mprint\u001b[39m(\u001b[38;5;124m\"\u001b[39m\u001b[38;5;124mpredict: \u001b[39m\u001b[38;5;124m\"\u001b[39m, predict[\u001b[38;5;241m0\u001b[39m:\u001b[38;5;241m5\u001b[39m])\n",
      "File \u001b[0;32m~/src/2022/copa_recommenders/copa_recommender_data_rankfm/torchfm/myfunclib.py:320\u001b[0m, in \u001b[0;36mtest_accuracy\u001b[0;34m(model, data_loader, device)\u001b[0m\n\u001b[1;32m    318\u001b[0m d0, d1, d2 \u001b[38;5;241m=\u001b[39m d0\u001b[38;5;241m.\u001b[39mto(device), d1\u001b[38;5;241m.\u001b[39mto(device), d2\u001b[38;5;241m.\u001b[39mto(device)\n\u001b[1;32m    319\u001b[0m \u001b[38;5;66;03m#print(d0.shape, d1.shape, d2.shape)\u001b[39;00m\n\u001b[0;32m--> 320\u001b[0m fields \u001b[38;5;241m=\u001b[39m \u001b[43mtorch\u001b[49m\u001b[38;5;241;43m.\u001b[39;49m\u001b[43mcat\u001b[49m\u001b[43m(\u001b[49m\u001b[43m[\u001b[49m\u001b[43md0\u001b[49m\u001b[43m,\u001b[49m\u001b[43md1\u001b[49m\u001b[43m,\u001b[49m\u001b[43md2\u001b[49m\u001b[43m]\u001b[49m\u001b[43m,\u001b[49m\u001b[43m \u001b[49m\u001b[43maxis\u001b[49m\u001b[38;5;241;43m=\u001b[39;49m\u001b[38;5;241;43m1\u001b[39;49m\u001b[43m)\u001b[49m\n\u001b[1;32m    322\u001b[0m \u001b[38;5;66;03m#print(\"before model\")\u001b[39;00m\n\u001b[1;32m    323\u001b[0m \u001b[38;5;66;03m# Change model to take\u001b[39;00m\n\u001b[1;32m    324\u001b[0m \u001b[38;5;28;01mwith\u001b[39;00m torch\u001b[38;5;241m.\u001b[39mno_grad():\n",
      "\u001b[0;31mRuntimeError\u001b[0m: Sizes of tensors must match except in dimension 1. Expected size 3 but got size 1 for tensor number 1 in the list."
     ]
    }
   ],
   "source": [
    "fields, predict = myfm.test_accuracy(net, train_iter, 'cpu')\n",
    "\n",
    "print(\"fields: \", fields[0:5])\n",
    "print(\"predict: \", predict[0:5])\n",
    "\n",
    "# Strong decrease in loss. However, is this overfitting? \n",
    "# TODO: create a pair-wise approach. So define negative samples. \n",
    "# Could weigh the negative samples: flights not taken in the further back in time would have higher weight \n",
    "#  than more recent flights. Is that reasonable? "
   ]
  },
  {
   "cell_type": "code",
   "execution_count": null,
   "id": "2ace401a-e426-4de1-8df6-a12c4a915e4d",
   "metadata": {
    "tags": []
   },
   "outputs": [],
   "source": [
    "fields, predict = myfm.test_accuracy(net, accuracy_loader, 'cpu')\n",
    "\n",
    "print(\"fields: \", fields[0:5])\n",
    "print(\"predict: \", predict[0:50])\n",
    "print(fields.shape, predict.shape)\n",
    "\n",
    "# Strong decrease in loss. However, is this overfitting? \n",
    "# TODO: create a pair-wise approach. So define negative samples. \n",
    "# Could weigh the negative samples: flights not taken in the further back in time would have higher weight \n",
    "#  than more recent flights. Is that reasonable? "
   ]
  },
  {
   "cell_type": "code",
   "execution_count": 24,
   "id": "a58f606e-0be6-4667-ba37-390ee6bf01d0",
   "metadata": {},
   "outputs": [
    {
     "ename": "NameError",
     "evalue": "name 'fields' is not defined",
     "output_type": "error",
     "traceback": [
      "\u001b[0;31m---------------------------------------------------------------------------\u001b[0m",
      "\u001b[0;31mNameError\u001b[0m                                 Traceback (most recent call last)",
      "Input \u001b[0;32mIn [24]\u001b[0m, in \u001b[0;36m<cell line: 3>\u001b[0;34m()\u001b[0m\n\u001b[1;32m      1\u001b[0m \u001b[38;5;66;03m# fields: member_id, dest, age\u001b[39;00m\n\u001b[1;32m      2\u001b[0m \u001b[38;5;66;03m# prediction: score\u001b[39;00m\n\u001b[0;32m----> 3\u001b[0m field_np \u001b[38;5;241m=\u001b[39m np\u001b[38;5;241m.\u001b[39masarray(\u001b[43mfields\u001b[49m)\n\u001b[1;32m      4\u001b[0m predict_np \u001b[38;5;241m=\u001b[39m np\u001b[38;5;241m.\u001b[39masarray(predict)\n\u001b[1;32m      5\u001b[0m \u001b[38;5;66;03m#print(field_np.shape, predict_np.reshape(-1,1).shape)\u001b[39;00m\n",
      "\u001b[0;31mNameError\u001b[0m: name 'fields' is not defined"
     ]
    }
   ],
   "source": [
    "# fields: member_id, dest, age\n",
    "# prediction: score\n",
    "field_np = np.asarray(fields)\n",
    "predict_np = np.asarray(predict)\n",
    "#print(field_np.shape, predict_np.reshape(-1,1).shape)\n",
    "joined = np.concatenate((field_np, predict_np.reshape(-1,1)), axis=1)\n",
    "#print(joined[0:7,:])\n",
    "df = pd.DataFrame(joined, columns=['MEMBER_ID','D','age','rank']) #, predict)\n",
    "#print(df.head())\n",
    "\n",
    "cols = list(df.columns)[0:-1]\n",
    "for col in cols:\n",
    "    df[col] = df[col].astype('int')\n",
    "df = df.iloc[1:]\n",
    "\n",
    "# data_iter: used for training\n",
    "D_set = data_iter.dataset.dct['D_set']\n",
    "print(len(D_set))\n",
    "D_set.iloc[35], D_set.loc[35]\n",
    "\n",
    "# Why is first row have numbers approx 1.e31? This is the input data. It has nothing to do with the evaluator. \n",
    "# for i in range(predict.shape[0]):\n",
    "\n",
    "merged = df.merge(D_set, how='inner', on='MEMBER_ID')\n",
    "print(\"merged shape (all scores): \", merged.shape, merged['MEMBER_ID'].nunique())  # 2218 unique members\n",
    "merged = merged[merged['rank'] > 0.5]\n",
    "print(\"merged shape (scores > 0.5): \", merged.shape, merged['MEMBER_ID'].nunique())  # 2170 unique members\n",
    "print(merged.head(10))"
   ]
  },
  {
   "cell_type": "markdown",
   "id": "16e93c6e-6d6f-4b71-add9-758196c81b68",
   "metadata": {},
   "source": [
    "Determined the topN scores for all members in order. "
   ]
  },
  {
   "cell_type": "code",
   "execution_count": 25,
   "id": "9ea3df70-9cc7-48fd-8150-1f333b3ecdaf",
   "metadata": {},
   "outputs": [
    {
     "ename": "SyntaxError",
     "evalue": "unexpected EOF while parsing (4038662272.py, line 1)",
     "output_type": "error",
     "traceback": [
      "\u001b[0;36m  Input \u001b[0;32mIn [25]\u001b[0;36m\u001b[0m\n\u001b[0;31m    _df['MEMBER_ID'].max(\u001b[0m\n\u001b[0m                         ^\u001b[0m\n\u001b[0;31mSyntaxError\u001b[0m\u001b[0;31m:\u001b[0m unexpected EOF while parsing\n"
     ]
    }
   ],
   "source": [
    "_df['MEMBER_ID'].max("
   ]
  },
  {
   "cell_type": "code",
   "execution_count": 26,
   "id": "622c7071-bb13-438d-b439-d0baf41cf772",
   "metadata": {},
   "outputs": [
    {
     "ename": "NameError",
     "evalue": "name 'merged' is not defined",
     "output_type": "error",
     "traceback": [
      "\u001b[0;31m---------------------------------------------------------------------------\u001b[0m",
      "\u001b[0;31mNameError\u001b[0m                                 Traceback (most recent call last)",
      "Input \u001b[0;32mIn [26]\u001b[0m, in \u001b[0;36m<cell line: 1>\u001b[0;34m()\u001b[0m\n\u001b[0;32m----> 1\u001b[0m df1 \u001b[38;5;241m=\u001b[39m \u001b[43mmerged\u001b[49m\u001b[38;5;241m.\u001b[39mgroupby(\u001b[38;5;124m'\u001b[39m\u001b[38;5;124mMEMBER_ID\u001b[39m\u001b[38;5;124m'\u001b[39m)\u001b[38;5;241m.\u001b[39magg({\u001b[38;5;124m'\u001b[39m\u001b[38;5;124mrank\u001b[39m\u001b[38;5;124m'\u001b[39m:\u001b[38;5;28mlist\u001b[39m})\n\u001b[1;32m      2\u001b[0m \u001b[38;5;66;03m# df1 = merged.groupby('MEMBER_ID')['rank'].transform('count') #agg({'rank':list})\u001b[39;00m\n\u001b[1;32m      3\u001b[0m \u001b[38;5;66;03m# print(df1)\u001b[39;00m\n\u001b[1;32m      4\u001b[0m \u001b[38;5;28mprint\u001b[39m(df1\u001b[38;5;241m.\u001b[39mshape)\n",
      "\u001b[0;31mNameError\u001b[0m: name 'merged' is not defined"
     ]
    }
   ],
   "source": [
    "df1 = merged.groupby('MEMBER_ID').agg({'rank':list})\n",
    "# df1 = merged.groupby('MEMBER_ID')['rank'].transform('count') #agg({'rank':list})\n",
    "# print(df1)\n",
    "print(df1.shape)\n",
    "\n",
    "def sort_func(col):\n",
    "    col1 = np.asarray(col) #.argsort()\n",
    "    col1 = np.asarray(col).argsort()\n",
    "    #col1 = sorted(col1, reverse=True)\n",
    "    return col1\n",
    "    \n",
    "rank = df1['rank'].apply(sort_func)\n",
    "df2 = df1.copy()\n",
    "df2['argrank'] = rank\n",
    "print(df2.head())\n",
    "print(\"df2.shape: \", df2.shape)\n",
    "df2['D'] = [list(range(0,len(D_set)))] * len(df2)\n",
    "print(\"len(list(range(0,len(D_set))))= \", len(list(range(0,len(D_set)))) )\n",
    "print(\"D_set: \", D_set)\n",
    "df2\n",
    "# df3 = pd.concat([_df, df2], axis=1)\n",
    "# _df.shape, df2.shape"
   ]
  },
  {
   "cell_type": "code",
   "execution_count": 27,
   "id": "1fce84a3-c71f-46e1-8629-f210e8c0d8ce",
   "metadata": {},
   "outputs": [
    {
     "ename": "NameError",
     "evalue": "name 'df2' is not defined",
     "output_type": "error",
     "traceback": [
      "\u001b[0;31m---------------------------------------------------------------------------\u001b[0m",
      "\u001b[0;31mNameError\u001b[0m                                 Traceback (most recent call last)",
      "Input \u001b[0;32mIn [27]\u001b[0m, in \u001b[0;36m<cell line: 5>\u001b[0;34m()\u001b[0m\n\u001b[1;32m      3\u001b[0m dst   \u001b[38;5;66;03m# destinations 0 - 75 (76 values)\u001b[39;00m\n\u001b[1;32m      4\u001b[0m \u001b[38;5;66;03m# I wish to apply argsort to them\u001b[39;00m\n\u001b[0;32m----> 5\u001b[0m df2[\u001b[38;5;124m'\u001b[39m\u001b[38;5;124mDlist\u001b[39m\u001b[38;5;124m'\u001b[39m] \u001b[38;5;241m=\u001b[39m [dst] \u001b[38;5;241m*\u001b[39m \u001b[43mdf2\u001b[49m\u001b[38;5;241m.\u001b[39mshape[\u001b[38;5;241m0\u001b[39m]\n",
      "\u001b[0;31mNameError\u001b[0m: name 'df2' is not defined"
     ]
    }
   ],
   "source": [
    "dst = list(data_iter.dataset.dct['idx2dest'].keys())\n",
    "df\n",
    "dst   # destinations 0 - 75 (76 values)\n",
    "# I wish to apply argsort to them\n",
    "df2['Dlist'] = [dst] * df2.shape[0]\n",
    "# df2\n",
    "\n",
    "# apply argrank to D Dlist"
   ]
  },
  {
   "cell_type": "code",
   "execution_count": null,
   "id": "3b6241de-a282-4734-acb9-d07d6cc8fefa",
   "metadata": {},
   "outputs": [],
   "source": []
  },
  {
   "cell_type": "code",
   "execution_count": 28,
   "id": "d78a2f92-a1c7-438b-adbd-ce8f5b3ecdc1",
   "metadata": {},
   "outputs": [
    {
     "ename": "NameError",
     "evalue": "name 'p' is not defined",
     "output_type": "error",
     "traceback": [
      "\u001b[0;31m---------------------------------------------------------------------------\u001b[0m",
      "\u001b[0;31mNameError\u001b[0m                                 Traceback (most recent call last)",
      "Input \u001b[0;32mIn [28]\u001b[0m, in \u001b[0;36m<cell line: 2>\u001b[0;34m()\u001b[0m\n\u001b[1;32m      1\u001b[0m plt\u001b[38;5;241m.\u001b[39mplot(losses)\n\u001b[0;32m----> 2\u001b[0m \u001b[43mp\u001b[49m\n",
      "\u001b[0;31mNameError\u001b[0m: name 'p' is not defined"
     ]
    },
    {
     "data": {
      "image/png": "[encoded data removed]",
      "text/plain": [
       "<Figure size 432x288 with 1 Axes>"
      ]
     },
     "metadata": {
      "needs_background": "light"
     },
     "output_type": "display_data"
    }
   ],
   "source": [
    "plt.plot(losses)\n",
    "p"
   ]
  },
  {
   "cell_type": "markdown",
   "id": "dd62f517-d864-4463-b24b-54ef5aca2ebf",
   "metadata": {},
   "source": [
    "Compute scores of training data. \n",
    "* For each member_id, compute score for each destination. Rank destinations and compare against destinations actually travelled. \n",
    "* consider the 2016 data. For each user+user_attributes, cover a range of destinations. Each destination has its own destination attributes. \n",
    "Consider $n$ examples of destination attributes, compute a ranking of these $n$ items. There are 80 destinations and their attributes. Finally, \n",
    "there are attributes that are neither member destinations or desination attributes. "
   ]
  },
  {
   "cell_type": "code",
   "execution_count": null,
   "id": "3816f3cb-738b-4154-8dd0-2e90fb91b854",
   "metadata": {},
   "outputs": [],
   "source": []
  }
 ],
 "metadata": {
  "kernelspec": {
   "display_name": "Python 3 (ipykernel)",
   "language": "python",
   "name": "python3"
  },
  "language_info": {
   "codemirror_mode": {
    "name": "ipython",
    "version": 3
   },
   "file_extension": ".py",
   "mimetype": "text/x-python",
   "name": "python",
   "nbconvert_exporter": "python",
   "pygments_lexer": "ipython3",
   "version": "3.8.13"
  }
 },
 "nbformat": 4,
 "nbformat_minor": 5
}
