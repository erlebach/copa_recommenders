{
 "cells": [
  {
   "cell_type": "markdown",
   "id": "c5284055-b709-4409-a9fb-d3e0bbe7621b",
   "metadata": {},
   "source": [
    "# Experiments with torchfm, which has a range of models based on FM (Factorization Machines). \n",
    "None of these models are sequence-aware. "
   ]
  },
  {
   "cell_type": "code",
   "execution_count": 1,
   "id": "d5035eb2-aeb0-4d58-91c7-d7d85307be73",
   "metadata": {},
   "outputs": [],
   "source": [
    "%load_ext autoreload\n",
    "%autoreload 2"
   ]
  },
  {
   "cell_type": "code",
   "execution_count": 281,
   "id": "a49212a8-1261-4010-9d02-d62eb9d522fb",
   "metadata": {
    "tags": []
   },
   "outputs": [],
   "source": [
    "import torchfm\n",
    "from torchfm import layer as fm_layer, model as fm_model\n",
    "from torchfm.model import fm, lr, nfm, wd\n",
    "import torch.nn.functional as F\n",
    "import pandas as pd\n",
    "import pandas_options\n",
    "import torch\n",
    "from torch.utils.data import DataLoader, Dataset\n",
    "import torch.nn as nn\n",
    "tt = torch.tensor\n",
    "import numpy as np\n",
    "# import tqdm\n",
    "import random\n",
    "import matplotlib.pyplot as plt\n",
    "import myfunclib as myfm\n",
    "import d2l_torch as d2l"
   ]
  },
  {
   "cell_type": "code",
   "execution_count": 76,
   "id": "40cac314-73ac-495f-a220-637722c97031",
   "metadata": {},
   "outputs": [
    {
     "name": "stdout",
     "output_type": "stream",
     "text": [
      "cuda:0\n"
     ]
    }
   ],
   "source": [
    "device = d2l.try_gpu()\n",
    "print(device)"
   ]
  },
  {
   "cell_type": "code",
   "execution_count": 77,
   "id": "856b6a13-386f-4bb6-87c6-5038945fdbc4",
   "metadata": {
    "tags": []
   },
   "outputs": [],
   "source": [
    "gdct = {\n",
    "    'device': device,  # 'cpu'\n",
    "    'embed_dim': 10,\n",
    "    'nb_epochs': 100,\n",
    "    'lr': 0.05,\n",
    "    'wd': 1.e-5,\n",
    "    'optim': 'adamW',\n",
    "    'batch_size' : 4096\n",
    "}"
   ]
  },
  {
   "cell_type": "code",
   "execution_count": 151,
   "id": "1f624385-3fbe-4a91-9612-f777b8646b72",
   "metadata": {},
   "outputs": [],
   "source": [
    "gdct['device'] = 'cpu'"
   ]
  },
  {
   "cell_type": "code",
   "execution_count": 393,
   "id": "5752a369-9416-4601-876f-ca439810d413",
   "metadata": {},
   "outputs": [],
   "source": [
    "batch_size = gdct['batch_size']\n",
    "files = \"attrib_2016.csv\"\n",
    "#data_dict = myfm.getData(files, batch_size=batch_size, nrows='all')\n",
    "data_dict = myfm.getData(files, batch_size=batch_size, nrows=20000, shuffle=False)"
   ]
  },
  {
   "cell_type": "code",
   "execution_count": null,
   "id": "50596894-a8bc-4744-ad7c-d591678e97ae",
   "metadata": {},
   "outputs": [],
   "source": []
  },
  {
   "cell_type": "code",
   "execution_count": null,
   "id": "55813b23-3405-4e70-9a06-db3bda5fe6c2",
   "metadata": {},
   "outputs": [],
   "source": []
  },
  {
   "cell_type": "code",
   "execution_count": 394,
   "id": "b49aacaf-459d-447e-8e61-194759145484",
   "metadata": {},
   "outputs": [
    {
     "data": {
      "text/plain": [
       "8581"
      ]
     },
     "execution_count": 394,
     "metadata": {},
     "output_type": "execute_result"
    }
   ],
   "source": [
    "data_dict['train_iter'].dataset.df.shape[0]"
   ]
  },
  {
   "cell_type": "code",
   "execution_count": 395,
   "id": "c45ef7b6-b977-4fc6-a9f5-5daec551448b",
   "metadata": {},
   "outputs": [],
   "source": [
    "train_iter = data_dict['train_iter']\n",
    "field_dims = train_iter.dataset.field_dims"
   ]
  },
  {
   "cell_type": "code",
   "execution_count": 396,
   "id": "6309ca84-7d80-42fb-90eb-07df9ddf7914",
   "metadata": {},
   "outputs": [
    {
     "data": {
      "text/plain": [
       "{'device': 'cpu',\n",
       " 'embed_dim': 10,\n",
       " 'nb_epochs': 100,\n",
       " 'lr': 0.05,\n",
       " 'wd': 1e-05,\n",
       " 'optim': 'adamW',\n",
       " 'batch_size': 4096}"
      ]
     },
     "execution_count": 396,
     "metadata": {},
     "output_type": "execute_result"
    }
   ],
   "source": [
    "# cpu: device : -1\n",
    "# gpu: device : 0, 1, ...\n",
    "gdct"
   ]
  },
  {
   "cell_type": "code",
   "execution_count": 397,
   "id": "979935b4-a689-4026-9797-04f8c885506c",
   "metadata": {},
   "outputs": [
    {
     "data": {
      "text/plain": [
       "FactorizationMachineModel(\n",
       "  (embedding): FeaturesEmbedding(\n",
       "    (embedding): Embedding(2298, 10)\n",
       "  )\n",
       "  (linear): FeaturesLinear(\n",
       "    (fc): Embedding(2298, 1)\n",
       "  )\n",
       "  (fm): FactorizationMachine()\n",
       ")"
      ]
     },
     "execution_count": 397,
     "metadata": {},
     "output_type": "execute_result"
    }
   ],
   "source": [
    "embed_dim = gdct['embed_dim']\n",
    "device = gdct['device']\n",
    "field_dims = field_dims.to(device)\n",
    "net = fm.FactorizationMachineModel(field_dims, embed_dim)\n",
    "net.to(device)"
   ]
  },
  {
   "cell_type": "markdown",
   "id": "115e948d-6caa-4d36-8bca-5abd29159498",
   "metadata": {},
   "source": [
    "Create a method with dataset and DataLoader"
   ]
  },
  {
   "cell_type": "code",
   "execution_count": 398,
   "id": "2b53f5c5-cd74-47b0-a8d7-e713f7c8add4",
   "metadata": {},
   "outputs": [
    {
     "name": "stdout",
     "output_type": "stream",
     "text": [
      "optimiz_meth:  adamW\n",
      "adamW\n"
     ]
    }
   ],
   "source": [
    "optimizer, loss_func = myfm.setup_trainer(net, gdct)"
   ]
  },
  {
   "cell_type": "code",
   "execution_count": 524,
   "id": "ddf37e52-cfd0-4303-8475-71ea15bf9a83",
   "metadata": {
    "tags": []
   },
   "outputs": [
    {
     "name": "stdout",
     "output_type": "stream",
     "text": [
      "nb training samples:  8581 (8581, 3)\n",
      "Epoch 0, avg total_loss (per training sample):  0.020293093589568913\n",
      "Epoch 1, avg total_loss (per training sample):  0.019987971925464042\n",
      "Epoch 2, avg total_loss (per training sample):  0.019875695696250775\n",
      "Epoch 3, avg total_loss (per training sample):  0.019683147381768323\n",
      "Epoch 4, avg total_loss (per training sample):  0.02008892244013188\n",
      "Epoch 5, avg total_loss (per training sample):  0.019766525319201336\n",
      "Epoch 6, avg total_loss (per training sample):  0.019474614922539234\n",
      "Epoch 7, avg total_loss (per training sample):  0.019562609675216024\n",
      "Epoch 8, avg total_loss (per training sample):  0.01906830142716968\n",
      "Epoch 9, avg total_loss (per training sample):  0.019390421995570416\n",
      "Epoch 10, avg total_loss (per training sample):  0.018974290273044894\n",
      "Epoch 11, avg total_loss (per training sample):  0.019295506471021195\n",
      "Epoch 12, avg total_loss (per training sample):  0.0189703184684341\n",
      "Epoch 13, avg total_loss (per training sample):  0.018873905868346016\n",
      "Epoch 14, avg total_loss (per training sample):  0.019350726216241256\n",
      "Epoch 15, avg total_loss (per training sample):  0.018497365105749994\n",
      "Epoch 16, avg total_loss (per training sample):  0.01892417840076078\n",
      "Epoch 17, avg total_loss (per training sample):  0.01872956139404421\n",
      "Epoch 18, avg total_loss (per training sample):  0.018448634684661853\n",
      "Epoch 19, avg total_loss (per training sample):  0.019126772161470997\n",
      "CPU times: user 32.7 s, sys: 488 ms, total: 33.2 s\n",
      "Wall time: 29.2 s\n"
     ]
    }
   ],
   "source": [
    "%%time\n",
    "nb_epochs = gdct['nb_epochs']\n",
    "losses = []\n",
    "train_iter = data_dict['train_iter']\n",
    "\n",
    "train_iter = DataLoader(data_dict['train_data'], batch_size=4096, shuffle=True)\n",
    "print(\"nb training samples: \", len(train_iter.dataset), train_iter.dataset.df.shape)\n",
    "\n",
    "nb_epochs = 20\n",
    "\n",
    "for epoch in range(nb_epochs):\n",
    "    total_loss = myfm.train_epoch(net, optimizer, train_iter, loss_func, device=gdct['device'], log_interval=10)\n",
    "    losses.append(total_loss)\n",
    "    if epoch % 1 == 0:\n",
    "        print(f\"Epoch {epoch}, avg total_loss (per training sample): \", total_loss)\n",
    "        \n",
    "#  ERROR: Check that all variables are on the same device. HOW TO DO THIS? try 'cuda'\n",
    "#  8500 training samples\n",
    "# time GPU, 5.6 sec for 4 epochs, batch 512\n",
    "# time CPU, 5.8 sec for 4 epochs, batch 512\n",
    "# time CPU, 7.1 sec for 4 epochs, batch 32\n",
    "# time CPU, 5.7 sec for 4 epochs, batch 4096\n",
    "# time CPU, 6.8 sec for 4 epochs, batch 32\n",
    "# time GPU, 7.0 sec for 4 epochs, batch 32\n",
    "# time GPU, 5.0 sec for 4 epochs, batch 4096\n",
    "\n",
    "# ERROR? The loss per training sample should be independent of the batch size"
   ]
  },
  {
   "cell_type": "code",
   "execution_count": 404,
   "id": "bddaa5ef-8548-4d19-9f29-1011db2d8b43",
   "metadata": {},
   "outputs": [
    {
     "data": {
      "text/plain": [
       "-1"
      ]
     },
     "execution_count": 404,
     "metadata": {},
     "output_type": "execute_result"
    }
   ],
   "source": [
    "list(net.parameters())[0].get_device()  # -1 for cpu"
   ]
  },
  {
   "cell_type": "code",
   "execution_count": 405,
   "id": "a2241a66-bf4c-4674-93b5-95d7e06ee0fa",
   "metadata": {},
   "outputs": [
    {
     "data": {
      "text/plain": [
       "device(type='cpu')"
      ]
     },
     "execution_count": 405,
     "metadata": {},
     "output_type": "execute_result"
    }
   ],
   "source": [
    "a = list(net.parameters())[0].device\n",
    "a"
   ]
  },
  {
   "cell_type": "code",
   "execution_count": 406,
   "id": "f29a0b07-3225-4a0d-af60-67ec09332a1a",
   "metadata": {},
   "outputs": [
    {
     "name": "stdout",
     "output_type": "stream",
     "text": [
      "length:  8581\n",
      "fields_:  torch.Size([8582, 3]) torch.Size([8582])\n",
      "<class 'torch.Tensor'>\n",
      "CPU times: user 1.6 s, sys: 262 µs, total: 1.6 s\n",
      "Wall time: 1.41 s\n"
     ]
    }
   ],
   "source": [
    "%%time\n",
    "test_iter = data_dict['train_iter']\n",
    "print(\"length: \", len(test_iter.dataset))\n",
    "test_iter = DataLoader(data_dict['train_data'], batch_size=4*1024, shuffle=True)\n",
    "# fields: original dataframe as a torch array\n",
    "# scores: scores from original dataframe\n",
    "fields, scores = myfm.test_accuracy(net, test_iter, 'cpu')"
   ]
  },
  {
   "cell_type": "markdown",
   "id": "7ebeddc4-69ea-4751-bfc8-8cc798694cbf",
   "metadata": {},
   "source": [
    "Select a sample of members, and compute scores for all destinations"
   ]
  },
  {
   "cell_type": "code",
   "execution_count": 407,
   "id": "18d9ea35-ea0a-4f2e-906e-4c1784066c56",
   "metadata": {},
   "outputs": [
    {
     "data": {
      "text/plain": [
       "dict_keys(['member_attr', 'dest_attr', 'field_dims', 'D_set', 'dest2idx', 'idx2dest', 'member2idx', 'idx2member'])"
      ]
     },
     "execution_count": 407,
     "metadata": {},
     "output_type": "execute_result"
    }
   ],
   "source": [
    "data_iter = data_dict['train_iter']\n",
    "data_iter.dataset.dct.keys()\n",
    "dct = data_iter.dataset.dct\n",
    "dct.keys()"
   ]
  },
  {
   "cell_type": "code",
   "execution_count": 516,
   "id": "26192e5a-2c67-42e0-8b9c-2f0dd13dc1f2",
   "metadata": {},
   "outputs": [
    {
     "name": "stdout",
     "output_type": "stream",
     "text": [
      "(8581, 3)\n",
      "dest:  [0, 1, 2, 3, 4, 5, 6, 7, 8, 9, 10, 11, 12, 13, 14, 15, 16, 17, 18, 19, 20, 21, 22, 23, 24, 25, 26, 27, 28, 29, 30, 31, 32, 33, 34, 35, 36, 37, 38, 39, 40, 41, 42, 43, 44, 45, 46, 47, 48, 49, 50, 51, 52, 53, 54, 55, 56, 57, 58, 59, 60, 61, 62, 63, 64, 65, 66, 67, 68, 69, 70, 71, 72, 73, 74, 75]\n",
      "members[0]:  550\n",
      "Size:  8581\n",
      "row:  MEMBER_ID    1304\n",
      "D              43\n",
      "age             2\n",
      "Name: 1111, dtype: int16\n"
     ]
    }
   ],
   "source": [
    "df = data_iter.dataset.df # dataframe\n",
    "print(df.shape)\n",
    "nb_members = 1000  # select random members\n",
    "max_member = df['MEMBER_ID'].max()\n",
    "max_dest = df['D'].max()\n",
    "members = random.sample(range(0,max_member), 100)\n",
    "destinations = list(range(0,max_dest+1))  # 0, 1, ..., max_dest\n",
    "print(\"dest: \", destinations)\n",
    "print(\"members[0]: \", members[0])\n",
    "print(\"Size: \", df.groupby(['MEMBER_ID','D']).size().sum())\n",
    "row = df.iloc[members[0],:]\n",
    "print(\"row: \", row)\n",
    "\n",
    "# create a dataframe with members*max_dest rows. 10000*100 = one million\n",
    "# How to do this? \n",
    "#  1. create a specialized Dataset\n",
    "\n",
    "#print('member_attr: ', dct['member_attr'])\n",
    "#dct['idx2member'].keys()"
   ]
  },
  {
   "cell_type": "code",
   "execution_count": 525,
   "id": "14558845-92fa-4392-8b85-859d1cd6c50a",
   "metadata": {},
   "outputs": [
    {
     "name": "stdout",
     "output_type": "stream",
     "text": [
      "dest keys:  dict_keys([0, 1, 2, 3, 4, 5, 6, 7, 8, 9, 10, 11, 12, 13, 14, 15, 16, 17, 18, 19, 20, 21, 22, 23, 24, 25, 26, 27, 28, 29, 30, 31, 32, 33, 34, 35, 36, 37, 38, 39, 40, 41, 42, 43, 44, 45, 46, 47, 48, 49, 50, 51, 52, 53, 54, 55, 56, 57, 58, 59, 60, 61, 62, 63, 64, 65, 66, 67, 68, 69, 70, 71, 72, 73, 74, 75])\n",
      "destinations:  [0, 1, 2, 3, 4, 5, 6, 7, 8, 9, 10, 11, 12, 13, 14, 15, 16, 17, 18, 19, 20, 21, 22, 23, 24, 25, 26, 27, 28, 29, 30, 31, 32, 33, 34, 35, 36, 37, 38, 39, 40, 41, 42, 43, 44, 45, 46, 47, 48, 49, 50, 51, 52, 53, 54, 55, 56, 57, 58, 59, 60, 61, 62, 63, 64, 65, 66, 67, 68, 69, 70, 71, 72, 73, 74, 75]\n",
      "nb members:  2218\n",
      "dest:  76 76\n",
      "len:  168568\n"
     ]
    },
    {
     "data": {
      "text/plain": [
       "168568"
      ]
     },
     "execution_count": 525,
     "metadata": {},
     "output_type": "execute_result"
    }
   ],
   "source": [
    "data = myfm.AccuracyDataset(data_iter.dataset, destinations)\n",
    "len(data)"
   ]
  },
  {
   "cell_type": "code",
   "execution_count": 519,
   "id": "bb925305-b64e-4f4a-b184-f8acdd81efa6",
   "metadata": {},
   "outputs": [],
   "source": [
    "# shuffling is irrelevant\n",
    "accuracy_loader = DataLoader(data, batch_size=4096, shuffle=False)\n",
    "#accuracy_loader = DataLoader(data, batch_size=gdct['batch_size'], shuffle=False)"
   ]
  },
  {
   "cell_type": "code",
   "execution_count": 526,
   "id": "df5abff8-3d50-403b-9655-c5c0e9681ab8",
   "metadata": {
    "tags": []
   },
   "outputs": [
    {
     "ename": "RuntimeError",
     "evalue": "Sizes of tensors must match except in dimension 1. Expected size 3 but got size 1 for tensor number 1 in the list.",
     "output_type": "error",
     "traceback": [
      "\u001b[0;31m---------------------------------------------------------------------------\u001b[0m",
      "\u001b[0;31mRuntimeError\u001b[0m                              Traceback (most recent call last)",
      "Input \u001b[0;32mIn [526]\u001b[0m, in \u001b[0;36m<cell line: 1>\u001b[0;34m()\u001b[0m\n\u001b[0;32m----> 1\u001b[0m fields, predict \u001b[38;5;241m=\u001b[39m \u001b[43mmyfm\u001b[49m\u001b[38;5;241;43m.\u001b[39;49m\u001b[43mtest_accuracy\u001b[49m\u001b[43m(\u001b[49m\u001b[43mnet\u001b[49m\u001b[43m,\u001b[49m\u001b[43m \u001b[49m\u001b[43mtrain_iter\u001b[49m\u001b[43m,\u001b[49m\u001b[43m \u001b[49m\u001b[38;5;124;43m'\u001b[39;49m\u001b[38;5;124;43mcpu\u001b[39;49m\u001b[38;5;124;43m'\u001b[39;49m\u001b[43m)\u001b[49m\n\u001b[1;32m      3\u001b[0m \u001b[38;5;28mprint\u001b[39m(\u001b[38;5;124m\"\u001b[39m\u001b[38;5;124mfields: \u001b[39m\u001b[38;5;124m\"\u001b[39m, fields[\u001b[38;5;241m0\u001b[39m:\u001b[38;5;241m5\u001b[39m])\n\u001b[1;32m      4\u001b[0m \u001b[38;5;28mprint\u001b[39m(\u001b[38;5;124m\"\u001b[39m\u001b[38;5;124mpredict: \u001b[39m\u001b[38;5;124m\"\u001b[39m, predict[\u001b[38;5;241m0\u001b[39m:\u001b[38;5;241m5\u001b[39m])\n",
      "File \u001b[0;32m~/src/2022/copa_recommenders/copa_recommender_data_rankfm/torchfm/myfunclib.py:320\u001b[0m, in \u001b[0;36mtest_accuracy\u001b[0;34m(model, data_loader, device)\u001b[0m\n\u001b[1;32m    317\u001b[0m #print(d0.shape, d1.shape, d2.shape)\n\u001b[1;32m    318\u001b[0m fields = torch.cat([d0,d1,d2], axis=1)\n\u001b[0;32m--> 320\u001b[0m #print(\"before model\")\n\u001b[1;32m    321\u001b[0m # Change model to take\n\u001b[1;32m    322\u001b[0m with torch.no_grad():\n\u001b[1;32m    323\u001b[0m     y = model(fields)\n",
      "\u001b[0;31mRuntimeError\u001b[0m: Sizes of tensors must match except in dimension 1. Expected size 3 but got size 1 for tensor number 1 in the list."
     ]
    }
   ],
   "source": [
    "fields, predict = myfm.test_accuracy(net, train_iter, 'cpu')\n",
    "\n",
    "print(\"fields: \", fields[0:5])\n",
    "print(\"predict: \", predict[0:5])\n",
    "\n",
    "# Strong decrease in loss. However, is this overfitting? \n",
    "# TODO: create a pair-wise approach. So define negative samples. \n",
    "# Could weigh the negative samples: flights not taken in the further back in time would have higher weight \n",
    "#  than more recent flights. Is that reasonable? "
   ]
  },
  {
   "cell_type": "code",
   "execution_count": 530,
   "id": "2ace401a-e426-4de1-8df6-a12c4a915e4d",
   "metadata": {
    "tags": []
   },
   "outputs": [
    {
     "name": "stdout",
     "output_type": "stream",
     "text": [
      "len:  168568\n",
      "10 torch.Size([4096])\n",
      "20 torch.Size([4096])\n",
      "30 torch.Size([4096])\n",
      "40 torch.Size([4096])\n",
      "fields_:  torch.Size([168569, 3]) torch.Size([168569])\n",
      "<class 'torch.Tensor'>\n",
      "fields:  tensor([[-5.5359e+31,  3.0903e-41, -5.9894e+31],\n",
      "        [ 0.0000e+00,  0.0000e+00,  2.0000e+00],\n",
      "        [ 0.0000e+00,  1.0000e+00,  2.0000e+00],\n",
      "        [ 0.0000e+00,  2.0000e+00,  2.0000e+00],\n",
      "        [ 0.0000e+00,  3.0000e+00,  2.0000e+00]])\n",
      "predict:  tensor([-2.6637e-10,  1.3918e-06,  4.5932e-06,  1.4529e-05,  3.2717e-06,\n",
      "         1.1951e-06,  2.6367e-03,  1.5958e-04,  9.5117e-07,  1.8141e-06,\n",
      "         1.0429e-05,  1.8576e-06,  2.2482e-05,  2.4459e-06,  1.1418e-05,\n",
      "         7.7358e-05,  1.2010e-06,  1.3315e-04,  1.2178e-06,  4.7219e-06,\n",
      "         5.8062e-06,  1.8806e-04,  3.2983e-06,  8.5117e-06,  1.1026e-05,\n",
      "         1.7008e-05,  9.8348e-05,  2.8895e-06,  9.9557e-05,  5.2313e-06,\n",
      "         4.5578e-05,  8.2137e-04,  5.6976e-06,  1.5766e-05,  7.6919e-05,\n",
      "         1.4510e-05,  1.8252e-06,  4.6926e-06,  2.2457e-06,  1.1407e-06,\n",
      "         2.9772e-05,  5.3352e-04,  3.0223e-03,  3.0354e-05,  8.6361e-04,\n",
      "         6.2508e-07,  5.9537e-07,  3.7691e-06,  2.2717e-06,  1.8568e-06])\n",
      "torch.Size([168569, 3]) torch.Size([168569])\n"
     ]
    }
   ],
   "source": [
    "fields, predict = myfm.test_accuracy(net, accuracy_loader, 'cpu')\n",
    "\n",
    "print(\"fields: \", fields[0:5])\n",
    "print(\"predict: \", predict[0:50])\n",
    "print(fields.shape, predict.shape)\n",
    "\n",
    "# Strong decrease in loss. However, is this overfitting? \n",
    "# TODO: create a pair-wise approach. So define negative samples. \n",
    "# Could weigh the negative samples: flights not taken in the further back in time would have higher weight \n",
    "#  than more recent flights. Is that reasonable? "
   ]
  },
  {
   "cell_type": "code",
   "execution_count": 611,
   "id": "a58f606e-0be6-4667-ba37-390ee6bf01d0",
   "metadata": {},
   "outputs": [
    {
     "name": "stdout",
     "output_type": "stream",
     "text": [
      "2218\n",
      "merged shape (all scores):  (168568, 5) 2218\n",
      "merged shape (scores > 0.5):  (28204, 5) 2170\n",
      "     MEMBER_ID   D  age  rank                            E\n",
      "81           1   5    2 1.000  {32, 5, 40, 48, 23, 25, 26}\n",
      "90           1  14    2 1.000  {32, 5, 40, 48, 23, 25, 26}\n",
      "92           1  16    2 1.000  {32, 5, 40, 48, 23, 25, 26}\n",
      "95           1  19    2 0.767  {32, 5, 40, 48, 23, 25, 26}\n",
      "96           1  20    2 0.985  {32, 5, 40, 48, 23, 25, 26}\n",
      "99           1  23    2 0.916  {32, 5, 40, 48, 23, 25, 26}\n",
      "100          1  24    2 0.990  {32, 5, 40, 48, 23, 25, 26}\n",
      "101          1  25    2 1.000  {32, 5, 40, 48, 23, 25, 26}\n",
      "102          1  26    2 0.979  {32, 5, 40, 48, 23, 25, 26}\n",
      "106          1  30    2 1.000  {32, 5, 40, 48, 23, 25, 26}\n"
     ]
    }
   ],
   "source": [
    "# fields: member_id, dest, age\n",
    "# prediction: score\n",
    "field_np = np.asarray(fields)\n",
    "predict_np = np.asarray(predict)\n",
    "#print(field_np.shape, predict_np.reshape(-1,1).shape)\n",
    "joined = np.concatenate((field_np, predict_np.reshape(-1,1)), axis=1)\n",
    "#print(joined[0:7,:])\n",
    "df = pd.DataFrame(joined, columns=['MEMBER_ID','D','age','rank']) #, predict)\n",
    "#print(df.head())\n",
    "\n",
    "cols = list(df.columns)[0:-1]\n",
    "for col in cols:\n",
    "    df[col] = df[col].astype('int')\n",
    "df = df.iloc[1:]\n",
    "\n",
    "# data_iter: used for training\n",
    "D_set = data_iter.dataset.dct['D_set']\n",
    "print(len(D_set))\n",
    "D_set.iloc[35], D_set.loc[35]\n",
    "\n",
    "# Why is first row have numbers approx 1.e31? This is the input data. It has nothing to do with the evaluator. \n",
    "# for i in range(predict.shape[0]):\n",
    "\n",
    "merged = df.merge(D_set, how='inner', on='MEMBER_ID')\n",
    "print(\"merged shape (all scores): \", merged.shape, merged['MEMBER_ID'].nunique())  # 2218 unique members\n",
    "merged = merged[merged['rank'] > 0.5]\n",
    "print(\"merged shape (scores > 0.5): \", merged.shape, merged['MEMBER_ID'].nunique())  # 2170 unique members\n",
    "print(merged.head(10))"
   ]
  },
  {
   "cell_type": "markdown",
   "id": "16e93c6e-6d6f-4b71-add9-758196c81b68",
   "metadata": {},
   "source": [
    "Determined the topN scores for all members in order. "
   ]
  },
  {
   "cell_type": "code",
   "execution_count": 612,
   "id": "9ea3df70-9cc7-48fd-8150-1f333b3ecdaf",
   "metadata": {},
   "outputs": [
    {
     "data": {
      "text/plain": [
       "2217"
      ]
     },
     "execution_count": 612,
     "metadata": {},
     "output_type": "execute_result"
    }
   ],
   "source": [
    "_df['MEMBER_ID'].max("
   ]
  },
  {
   "cell_type": "code",
   "execution_count": 644,
   "id": "622c7071-bb13-438d-b439-d0baf41cf772",
   "metadata": {},
   "outputs": [
    {
     "name": "stdout",
     "output_type": "stream",
     "text": [
      "(2170, 1)\n",
      "                                                        rank  \\\n",
      "MEMBER_ID                                                      \n",
      "1          [1.0, 0.9999781847000122, 0.9999500513076782, ...   \n",
      "2          [0.9999890327453613, 0.9580170512199402, 0.999...   \n",
      "3          [1.0, 0.9576034545898438, 0.9999902248382568, ...   \n",
      "4          [1.0, 0.9999203681945801, 0.9627326130867004, ...   \n",
      "5          [0.9999997615814209, 0.9996484518051147, 0.555...   \n",
      "\n",
      "                                                     argrank  \n",
      "MEMBER_ID                                                     \n",
      "1          [20, 3, 5, 8, 13, 4, 6, 18, 12, 11, 10, 2, 1, ...  \n",
      "2                                [4, 1, 7, 8, 6, 2, 5, 3, 0]  \n",
      "3                         [3, 1, 6, 2, 10, 9, 8, 7, 4, 0, 5]  \n",
      "4                 [2, 9, 12, 5, 8, 7, 1, 10, 3, 11, 0, 4, 6]  \n",
      "5                             [2, 5, 1, 8, 9, 7, 6, 3, 0, 4]  \n",
      "df2.shape:  (2170, 2)\n",
      "len(list(range(0,len(D_set))))=  2218\n",
      "D_set:                                       E\n",
      "MEMBER_ID                             \n",
      "0                                 {35}\n",
      "1          {32, 5, 40, 48, 23, 25, 26}\n",
      "2                          {43, 5, 54}\n",
      "3                     {24, 25, 61, 23}\n",
      "4                         {40, 59, 68}\n",
      "...                                ...\n",
      "2213                      {24, 41, 19}\n",
      "2214                              {43}\n",
      "2215                          {40, 43}\n",
      "2216                              {43}\n",
      "2217                              {22}\n",
      "\n",
      "[2218 rows x 1 columns]\n"
     ]
    },
    {
     "data": {
      "text/html": [
       "<div>\n",
       "<style scoped>\n",
       "    .dataframe tbody tr th:only-of-type {\n",
       "        vertical-align: middle;\n",
       "    }\n",
       "\n",
       "    .dataframe tbody tr th {\n",
       "        vertical-align: top;\n",
       "    }\n",
       "\n",
       "    .dataframe thead th {\n",
       "        text-align: right;\n",
       "    }\n",
       "</style>\n",
       "<table border=\"1\" class=\"dataframe\">\n",
       "  <thead>\n",
       "    <tr style=\"text-align: right;\">\n",
       "      <th></th>\n",
       "      <th>rank</th>\n",
       "      <th>argrank</th>\n",
       "      <th>D</th>\n",
       "    </tr>\n",
       "    <tr>\n",
       "      <th>MEMBER_ID</th>\n",
       "      <th></th>\n",
       "      <th></th>\n",
       "      <th></th>\n",
       "    </tr>\n",
       "  </thead>\n",
       "  <tbody>\n",
       "    <tr>\n",
       "      <th>1</th>\n",
       "      <td>[1.0, 0.9999781847000122, 0.9999500513076782, ...</td>\n",
       "      <td>[20, 3, 5, 8, 13, 4, 6, 18, 12, 11, 10, 2, 1, ...</td>\n",
       "      <td>[0, 1, 2, 3, 4, 5, 6, 7, 8, 9, 10, 11, 12, 13,...</td>\n",
       "    </tr>\n",
       "    <tr>\n",
       "      <th>2</th>\n",
       "      <td>[0.9999890327453613, 0.9580170512199402, 0.999...</td>\n",
       "      <td>[4, 1, 7, 8, 6, 2, 5, 3, 0]</td>\n",
       "      <td>[0, 1, 2, 3, 4, 5, 6, 7, 8, 9, 10, 11, 12, 13,...</td>\n",
       "    </tr>\n",
       "    <tr>\n",
       "      <th>3</th>\n",
       "      <td>[1.0, 0.9576034545898438, 0.9999902248382568, ...</td>\n",
       "      <td>[3, 1, 6, 2, 10, 9, 8, 7, 4, 0, 5]</td>\n",
       "      <td>[0, 1, 2, 3, 4, 5, 6, 7, 8, 9, 10, 11, 12, 13,...</td>\n",
       "    </tr>\n",
       "    <tr>\n",
       "      <th>4</th>\n",
       "      <td>[1.0, 0.9999203681945801, 0.9627326130867004, ...</td>\n",
       "      <td>[2, 9, 12, 5, 8, 7, 1, 10, 3, 11, 0, 4, 6]</td>\n",
       "      <td>[0, 1, 2, 3, 4, 5, 6, 7, 8, 9, 10, 11, 12, 13,...</td>\n",
       "    </tr>\n",
       "    <tr>\n",
       "      <th>5</th>\n",
       "      <td>[0.9999997615814209, 0.9996484518051147, 0.555...</td>\n",
       "      <td>[2, 5, 1, 8, 9, 7, 6, 3, 0, 4]</td>\n",
       "      <td>[0, 1, 2, 3, 4, 5, 6, 7, 8, 9, 10, 11, 12, 13,...</td>\n",
       "    </tr>\n",
       "    <tr>\n",
       "      <th>...</th>\n",
       "      <td>...</td>\n",
       "      <td>...</td>\n",
       "      <td>...</td>\n",
       "    </tr>\n",
       "    <tr>\n",
       "      <th>2212</th>\n",
       "      <td>[0.9999005794525146, 0.9835137128829956, 0.999...</td>\n",
       "      <td>[4, 1, 8, 7, 5, 6, 2, 0, 3]</td>\n",
       "      <td>[0, 1, 2, 3, 4, 5, 6, 7, 8, 9, 10, 11, 12, 13,...</td>\n",
       "    </tr>\n",
       "    <tr>\n",
       "      <th>2213</th>\n",
       "      <td>[1.0, 0.9562162756919861, 0.9762628674507141, ...</td>\n",
       "      <td>[4, 1, 2, 7, 11, 10, 3, 8, 0, 5, 6, 9]</td>\n",
       "      <td>[0, 1, 2, 3, 4, 5, 6, 7, 8, 9, 10, 11, 12, 13,...</td>\n",
       "    </tr>\n",
       "    <tr>\n",
       "      <th>2214</th>\n",
       "      <td>[0.9999998807907104, 0.6710203886032104, 0.999...</td>\n",
       "      <td>[4, 3, 1, 7, 2, 10, 11, 9, 8, 5, 0, 6]</td>\n",
       "      <td>[0, 1, 2, 3, 4, 5, 6, 7, 8, 9, 10, 11, 12, 13,...</td>\n",
       "    </tr>\n",
       "    <tr>\n",
       "      <th>2215</th>\n",
       "      <td>[0.9999988079071045, 0.9966940879821777, 0.999...</td>\n",
       "      <td>[4, 1, 7, 8, 6, 5, 2, 3, 0]</td>\n",
       "      <td>[0, 1, 2, 3, 4, 5, 6, 7, 8, 9, 10, 11, 12, 13,...</td>\n",
       "    </tr>\n",
       "    <tr>\n",
       "      <th>2216</th>\n",
       "      <td>[0.9999990463256836, 0.9946326017379761, 0.999...</td>\n",
       "      <td>[4, 1, 7, 6, 8, 2, 5, 3, 0]</td>\n",
       "      <td>[0, 1, 2, 3, 4, 5, 6, 7, 8, 9, 10, 11, 12, 13,...</td>\n",
       "    </tr>\n",
       "  </tbody>\n",
       "</table>\n",
       "<p>2170 rows × 3 columns</p>\n",
       "</div>"
      ],
      "text/plain": [
       "                                                        rank  \\\n",
       "MEMBER_ID                                                      \n",
       "1          [1.0, 0.9999781847000122, 0.9999500513076782, ...   \n",
       "2          [0.9999890327453613, 0.9580170512199402, 0.999...   \n",
       "3          [1.0, 0.9576034545898438, 0.9999902248382568, ...   \n",
       "4          [1.0, 0.9999203681945801, 0.9627326130867004, ...   \n",
       "5          [0.9999997615814209, 0.9996484518051147, 0.555...   \n",
       "...                                                      ...   \n",
       "2212       [0.9999005794525146, 0.9835137128829956, 0.999...   \n",
       "2213       [1.0, 0.9562162756919861, 0.9762628674507141, ...   \n",
       "2214       [0.9999998807907104, 0.6710203886032104, 0.999...   \n",
       "2215       [0.9999988079071045, 0.9966940879821777, 0.999...   \n",
       "2216       [0.9999990463256836, 0.9946326017379761, 0.999...   \n",
       "\n",
       "                                                     argrank  \\\n",
       "MEMBER_ID                                                      \n",
       "1          [20, 3, 5, 8, 13, 4, 6, 18, 12, 11, 10, 2, 1, ...   \n",
       "2                                [4, 1, 7, 8, 6, 2, 5, 3, 0]   \n",
       "3                         [3, 1, 6, 2, 10, 9, 8, 7, 4, 0, 5]   \n",
       "4                 [2, 9, 12, 5, 8, 7, 1, 10, 3, 11, 0, 4, 6]   \n",
       "5                             [2, 5, 1, 8, 9, 7, 6, 3, 0, 4]   \n",
       "...                                                      ...   \n",
       "2212                             [4, 1, 8, 7, 5, 6, 2, 0, 3]   \n",
       "2213                  [4, 1, 2, 7, 11, 10, 3, 8, 0, 5, 6, 9]   \n",
       "2214                  [4, 3, 1, 7, 2, 10, 11, 9, 8, 5, 0, 6]   \n",
       "2215                             [4, 1, 7, 8, 6, 5, 2, 3, 0]   \n",
       "2216                             [4, 1, 7, 6, 8, 2, 5, 3, 0]   \n",
       "\n",
       "                                                           D  \n",
       "MEMBER_ID                                                     \n",
       "1          [0, 1, 2, 3, 4, 5, 6, 7, 8, 9, 10, 11, 12, 13,...  \n",
       "2          [0, 1, 2, 3, 4, 5, 6, 7, 8, 9, 10, 11, 12, 13,...  \n",
       "3          [0, 1, 2, 3, 4, 5, 6, 7, 8, 9, 10, 11, 12, 13,...  \n",
       "4          [0, 1, 2, 3, 4, 5, 6, 7, 8, 9, 10, 11, 12, 13,...  \n",
       "5          [0, 1, 2, 3, 4, 5, 6, 7, 8, 9, 10, 11, 12, 13,...  \n",
       "...                                                      ...  \n",
       "2212       [0, 1, 2, 3, 4, 5, 6, 7, 8, 9, 10, 11, 12, 13,...  \n",
       "2213       [0, 1, 2, 3, 4, 5, 6, 7, 8, 9, 10, 11, 12, 13,...  \n",
       "2214       [0, 1, 2, 3, 4, 5, 6, 7, 8, 9, 10, 11, 12, 13,...  \n",
       "2215       [0, 1, 2, 3, 4, 5, 6, 7, 8, 9, 10, 11, 12, 13,...  \n",
       "2216       [0, 1, 2, 3, 4, 5, 6, 7, 8, 9, 10, 11, 12, 13,...  \n",
       "\n",
       "[2170 rows x 3 columns]"
      ]
     },
     "execution_count": 644,
     "metadata": {},
     "output_type": "execute_result"
    }
   ],
   "source": [
    "df1 = merged.groupby('MEMBER_ID').agg({'rank':list})\n",
    "# df1 = merged.groupby('MEMBER_ID')['rank'].transform('count') #agg({'rank':list})\n",
    "# print(df1)\n",
    "print(df1.shape)\n",
    "\n",
    "def sort_func(col):\n",
    "    col1 = np.asarray(col) #.argsort()\n",
    "    col1 = np.asarray(col).argsort()\n",
    "    #col1 = sorted(col1, reverse=True)\n",
    "    return col1\n",
    "    \n",
    "rank = df1['rank'].apply(sort_func)\n",
    "df2 = df1.copy()\n",
    "df2['argrank'] = rank\n",
    "print(df2.head())\n",
    "print(\"df2.shape: \", df2.shape)\n",
    "df2['D'] = [list(range(0,len(D_set)))] * len(df2)\n",
    "print(\"len(list(range(0,len(D_set))))= \", len(list(range(0,len(D_set)))) )\n",
    "print(\"D_set: \", D_set)\n",
    "df2\n",
    "# df3 = pd.concat([_df, df2], axis=1)\n",
    "# _df.shape, df2.shape"
   ]
  },
  {
   "cell_type": "code",
   "execution_count": 650,
   "id": "1fce84a3-c71f-46e1-8629-f210e8c0d8ce",
   "metadata": {},
   "outputs": [
    {
     "data": {
      "text/html": [
       "<div>\n",
       "<style scoped>\n",
       "    .dataframe tbody tr th:only-of-type {\n",
       "        vertical-align: middle;\n",
       "    }\n",
       "\n",
       "    .dataframe tbody tr th {\n",
       "        vertical-align: top;\n",
       "    }\n",
       "\n",
       "    .dataframe thead th {\n",
       "        text-align: right;\n",
       "    }\n",
       "</style>\n",
       "<table border=\"1\" class=\"dataframe\">\n",
       "  <thead>\n",
       "    <tr style=\"text-align: right;\">\n",
       "      <th></th>\n",
       "      <th>rank</th>\n",
       "      <th>argrank</th>\n",
       "      <th>D</th>\n",
       "      <th>Dlist</th>\n",
       "    </tr>\n",
       "    <tr>\n",
       "      <th>MEMBER_ID</th>\n",
       "      <th></th>\n",
       "      <th></th>\n",
       "      <th></th>\n",
       "      <th></th>\n",
       "    </tr>\n",
       "  </thead>\n",
       "  <tbody>\n",
       "    <tr>\n",
       "      <th>1</th>\n",
       "      <td>[1.0, 0.9999781847000122, 0.9999500513076782, ...</td>\n",
       "      <td>[20, 3, 5, 8, 13, 4, 6, 18, 12, 11, 10, 2, 1, ...</td>\n",
       "      <td>[0, 1, 2, 3, 4, 5, 6, 7, 8, 9, 10, 11, 12, 13,...</td>\n",
       "      <td>[0, 1, 2, 3, 4, 5, 6, 7, 8, 9, 10, 11, 12, 13,...</td>\n",
       "    </tr>\n",
       "    <tr>\n",
       "      <th>2</th>\n",
       "      <td>[0.9999890327453613, 0.9580170512199402, 0.999...</td>\n",
       "      <td>[4, 1, 7, 8, 6, 2, 5, 3, 0]</td>\n",
       "      <td>[0, 1, 2, 3, 4, 5, 6, 7, 8, 9, 10, 11, 12, 13,...</td>\n",
       "      <td>[0, 1, 2, 3, 4, 5, 6, 7, 8, 9, 10, 11, 12, 13,...</td>\n",
       "    </tr>\n",
       "    <tr>\n",
       "      <th>3</th>\n",
       "      <td>[1.0, 0.9576034545898438, 0.9999902248382568, ...</td>\n",
       "      <td>[3, 1, 6, 2, 10, 9, 8, 7, 4, 0, 5]</td>\n",
       "      <td>[0, 1, 2, 3, 4, 5, 6, 7, 8, 9, 10, 11, 12, 13,...</td>\n",
       "      <td>[0, 1, 2, 3, 4, 5, 6, 7, 8, 9, 10, 11, 12, 13,...</td>\n",
       "    </tr>\n",
       "    <tr>\n",
       "      <th>4</th>\n",
       "      <td>[1.0, 0.9999203681945801, 0.9627326130867004, ...</td>\n",
       "      <td>[2, 9, 12, 5, 8, 7, 1, 10, 3, 11, 0, 4, 6]</td>\n",
       "      <td>[0, 1, 2, 3, 4, 5, 6, 7, 8, 9, 10, 11, 12, 13,...</td>\n",
       "      <td>[0, 1, 2, 3, 4, 5, 6, 7, 8, 9, 10, 11, 12, 13,...</td>\n",
       "    </tr>\n",
       "    <tr>\n",
       "      <th>5</th>\n",
       "      <td>[0.9999997615814209, 0.9996484518051147, 0.555...</td>\n",
       "      <td>[2, 5, 1, 8, 9, 7, 6, 3, 0, 4]</td>\n",
       "      <td>[0, 1, 2, 3, 4, 5, 6, 7, 8, 9, 10, 11, 12, 13,...</td>\n",
       "      <td>[0, 1, 2, 3, 4, 5, 6, 7, 8, 9, 10, 11, 12, 13,...</td>\n",
       "    </tr>\n",
       "    <tr>\n",
       "      <th>...</th>\n",
       "      <td>...</td>\n",
       "      <td>...</td>\n",
       "      <td>...</td>\n",
       "      <td>...</td>\n",
       "    </tr>\n",
       "    <tr>\n",
       "      <th>2212</th>\n",
       "      <td>[0.9999005794525146, 0.9835137128829956, 0.999...</td>\n",
       "      <td>[4, 1, 8, 7, 5, 6, 2, 0, 3]</td>\n",
       "      <td>[0, 1, 2, 3, 4, 5, 6, 7, 8, 9, 10, 11, 12, 13,...</td>\n",
       "      <td>[0, 1, 2, 3, 4, 5, 6, 7, 8, 9, 10, 11, 12, 13,...</td>\n",
       "    </tr>\n",
       "    <tr>\n",
       "      <th>2213</th>\n",
       "      <td>[1.0, 0.9562162756919861, 0.9762628674507141, ...</td>\n",
       "      <td>[4, 1, 2, 7, 11, 10, 3, 8, 0, 5, 6, 9]</td>\n",
       "      <td>[0, 1, 2, 3, 4, 5, 6, 7, 8, 9, 10, 11, 12, 13,...</td>\n",
       "      <td>[0, 1, 2, 3, 4, 5, 6, 7, 8, 9, 10, 11, 12, 13,...</td>\n",
       "    </tr>\n",
       "    <tr>\n",
       "      <th>2214</th>\n",
       "      <td>[0.9999998807907104, 0.6710203886032104, 0.999...</td>\n",
       "      <td>[4, 3, 1, 7, 2, 10, 11, 9, 8, 5, 0, 6]</td>\n",
       "      <td>[0, 1, 2, 3, 4, 5, 6, 7, 8, 9, 10, 11, 12, 13,...</td>\n",
       "      <td>[0, 1, 2, 3, 4, 5, 6, 7, 8, 9, 10, 11, 12, 13,...</td>\n",
       "    </tr>\n",
       "    <tr>\n",
       "      <th>2215</th>\n",
       "      <td>[0.9999988079071045, 0.9966940879821777, 0.999...</td>\n",
       "      <td>[4, 1, 7, 8, 6, 5, 2, 3, 0]</td>\n",
       "      <td>[0, 1, 2, 3, 4, 5, 6, 7, 8, 9, 10, 11, 12, 13,...</td>\n",
       "      <td>[0, 1, 2, 3, 4, 5, 6, 7, 8, 9, 10, 11, 12, 13,...</td>\n",
       "    </tr>\n",
       "    <tr>\n",
       "      <th>2216</th>\n",
       "      <td>[0.9999990463256836, 0.9946326017379761, 0.999...</td>\n",
       "      <td>[4, 1, 7, 6, 8, 2, 5, 3, 0]</td>\n",
       "      <td>[0, 1, 2, 3, 4, 5, 6, 7, 8, 9, 10, 11, 12, 13,...</td>\n",
       "      <td>[0, 1, 2, 3, 4, 5, 6, 7, 8, 9, 10, 11, 12, 13,...</td>\n",
       "    </tr>\n",
       "  </tbody>\n",
       "</table>\n",
       "<p>2170 rows × 4 columns</p>\n",
       "</div>"
      ],
      "text/plain": [
       "                                                        rank  \\\n",
       "MEMBER_ID                                                      \n",
       "1          [1.0, 0.9999781847000122, 0.9999500513076782, ...   \n",
       "2          [0.9999890327453613, 0.9580170512199402, 0.999...   \n",
       "3          [1.0, 0.9576034545898438, 0.9999902248382568, ...   \n",
       "4          [1.0, 0.9999203681945801, 0.9627326130867004, ...   \n",
       "5          [0.9999997615814209, 0.9996484518051147, 0.555...   \n",
       "...                                                      ...   \n",
       "2212       [0.9999005794525146, 0.9835137128829956, 0.999...   \n",
       "2213       [1.0, 0.9562162756919861, 0.9762628674507141, ...   \n",
       "2214       [0.9999998807907104, 0.6710203886032104, 0.999...   \n",
       "2215       [0.9999988079071045, 0.9966940879821777, 0.999...   \n",
       "2216       [0.9999990463256836, 0.9946326017379761, 0.999...   \n",
       "\n",
       "                                                     argrank  \\\n",
       "MEMBER_ID                                                      \n",
       "1          [20, 3, 5, 8, 13, 4, 6, 18, 12, 11, 10, 2, 1, ...   \n",
       "2                                [4, 1, 7, 8, 6, 2, 5, 3, 0]   \n",
       "3                         [3, 1, 6, 2, 10, 9, 8, 7, 4, 0, 5]   \n",
       "4                 [2, 9, 12, 5, 8, 7, 1, 10, 3, 11, 0, 4, 6]   \n",
       "5                             [2, 5, 1, 8, 9, 7, 6, 3, 0, 4]   \n",
       "...                                                      ...   \n",
       "2212                             [4, 1, 8, 7, 5, 6, 2, 0, 3]   \n",
       "2213                  [4, 1, 2, 7, 11, 10, 3, 8, 0, 5, 6, 9]   \n",
       "2214                  [4, 3, 1, 7, 2, 10, 11, 9, 8, 5, 0, 6]   \n",
       "2215                             [4, 1, 7, 8, 6, 5, 2, 3, 0]   \n",
       "2216                             [4, 1, 7, 6, 8, 2, 5, 3, 0]   \n",
       "\n",
       "                                                           D  \\\n",
       "MEMBER_ID                                                      \n",
       "1          [0, 1, 2, 3, 4, 5, 6, 7, 8, 9, 10, 11, 12, 13,...   \n",
       "2          [0, 1, 2, 3, 4, 5, 6, 7, 8, 9, 10, 11, 12, 13,...   \n",
       "3          [0, 1, 2, 3, 4, 5, 6, 7, 8, 9, 10, 11, 12, 13,...   \n",
       "4          [0, 1, 2, 3, 4, 5, 6, 7, 8, 9, 10, 11, 12, 13,...   \n",
       "5          [0, 1, 2, 3, 4, 5, 6, 7, 8, 9, 10, 11, 12, 13,...   \n",
       "...                                                      ...   \n",
       "2212       [0, 1, 2, 3, 4, 5, 6, 7, 8, 9, 10, 11, 12, 13,...   \n",
       "2213       [0, 1, 2, 3, 4, 5, 6, 7, 8, 9, 10, 11, 12, 13,...   \n",
       "2214       [0, 1, 2, 3, 4, 5, 6, 7, 8, 9, 10, 11, 12, 13,...   \n",
       "2215       [0, 1, 2, 3, 4, 5, 6, 7, 8, 9, 10, 11, 12, 13,...   \n",
       "2216       [0, 1, 2, 3, 4, 5, 6, 7, 8, 9, 10, 11, 12, 13,...   \n",
       "\n",
       "                                                       Dlist  \n",
       "MEMBER_ID                                                     \n",
       "1          [0, 1, 2, 3, 4, 5, 6, 7, 8, 9, 10, 11, 12, 13,...  \n",
       "2          [0, 1, 2, 3, 4, 5, 6, 7, 8, 9, 10, 11, 12, 13,...  \n",
       "3          [0, 1, 2, 3, 4, 5, 6, 7, 8, 9, 10, 11, 12, 13,...  \n",
       "4          [0, 1, 2, 3, 4, 5, 6, 7, 8, 9, 10, 11, 12, 13,...  \n",
       "5          [0, 1, 2, 3, 4, 5, 6, 7, 8, 9, 10, 11, 12, 13,...  \n",
       "...                                                      ...  \n",
       "2212       [0, 1, 2, 3, 4, 5, 6, 7, 8, 9, 10, 11, 12, 13,...  \n",
       "2213       [0, 1, 2, 3, 4, 5, 6, 7, 8, 9, 10, 11, 12, 13,...  \n",
       "2214       [0, 1, 2, 3, 4, 5, 6, 7, 8, 9, 10, 11, 12, 13,...  \n",
       "2215       [0, 1, 2, 3, 4, 5, 6, 7, 8, 9, 10, 11, 12, 13,...  \n",
       "2216       [0, 1, 2, 3, 4, 5, 6, 7, 8, 9, 10, 11, 12, 13,...  \n",
       "\n",
       "[2170 rows x 4 columns]"
      ]
     },
     "execution_count": 650,
     "metadata": {},
     "output_type": "execute_result"
    }
   ],
   "source": [
    "dst = list(data_iter.dataset.dct['idx2dest'].keys())\n",
    "df\n",
    "dst   # destinations 0 - 75 (76 values)\n",
    "# I wish to apply argsort to them\n",
    "df2['Dlist'] = [dst] * df2.shape[0]\n",
    "# df2\n",
    "\n",
    "# apply argrank to D Dlist"
   ]
  },
  {
   "cell_type": "code",
   "execution_count": null,
   "id": "3b6241de-a282-4734-acb9-d07d6cc8fefa",
   "metadata": {},
   "outputs": [],
   "source": []
  },
  {
   "cell_type": "code",
   "execution_count": 574,
   "id": "d78a2f92-a1c7-438b-adbd-ce8f5b3ecdc1",
   "metadata": {},
   "outputs": [
    {
     "data": {
      "text/plain": [
       "[<matplotlib.lines.Line2D at 0x7f357fa479d0>]"
      ]
     },
     "execution_count": 574,
     "metadata": {},
     "output_type": "execute_result"
    },
    {
     "data": {
      "image/png": "[encoded data removed]",
      "text/plain": [
       "<Figure size 432x288 with 1 Axes>"
      ]
     },
     "metadata": {
      "needs_background": "light"
     },
     "output_type": "display_data"
    }
   ],
   "source": [
    "plt.plot(losses)\n",
    "p"
   ]
  },
  {
   "cell_type": "markdown",
   "id": "dd62f517-d864-4463-b24b-54ef5aca2ebf",
   "metadata": {},
   "source": [
    "Compute scores of training data. \n",
    "* For each member_id, compute score for each destination. Rank destinations and compare against destinations actually travelled. \n",
    "* consider the 2016 data. For each user+user_attributes, cover a range of destinations. Each destination has its own destination attributes. \n",
    "Consider $n$ examples of destination attributes, compute a ranking of these $n$ items. There are 80 destinations and their attributes. Finally, \n",
    "there are attributes that are neither member destinations or desination attributes. "
   ]
  },
  {
   "cell_type": "code",
   "execution_count": null,
   "id": "3816f3cb-738b-4154-8dd0-2e90fb91b854",
   "metadata": {},
   "outputs": [],
   "source": []
  }
 ],
 "metadata": {
  "kernelspec": {
   "display_name": "Python 3 (ipykernel)",
   "language": "python",
   "name": "python3"
  },
  "language_info": {
   "codemirror_mode": {
    "name": "ipython",
    "version": 3
   },
   "file_extension": ".py",
   "mimetype": "text/x-python",
   "name": "python",
   "nbconvert_exporter": "python",
   "pygments_lexer": "ipython3",
   "version": "3.8.13"
  }
 },
 "nbformat": 4,
 "nbformat_minor": 5
}
