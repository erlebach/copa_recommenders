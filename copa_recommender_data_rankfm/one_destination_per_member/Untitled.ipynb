{
 "cells": [
  {
   "cell_type": "code",
   "execution_count": 1,
   "id": "30420a00-b8b5-4abd-8ec6-177ecbc16bd6",
   "metadata": {
    "tags": []
   },
   "outputs": [],
   "source": [
    "%load_ext autoreload\n",
    "%autoreload 2"
   ]
  },
  {
   "cell_type": "code",
   "execution_count": 4,
   "id": "7ad2ae6e-f9c3-4f63-9f78-eaeda40f3ef4",
   "metadata": {},
   "outputs": [],
   "source": [
    "import hit_rates as hr"
   ]
  },
  {
   "cell_type": "code",
   "execution_count": 5,
   "id": "85e268cb-ac95-4c79-a548-1107920bdf6e",
   "metadata": {},
   "outputs": [
    {
     "ename": "TypeError",
     "evalue": "evaluate_hit_rate() missing 1 required positional argument: 'year2'",
     "output_type": "error",
     "traceback": [
      "\u001b[0;31m---------------------------------------------------------------------------\u001b[0m",
      "\u001b[0;31mTypeError\u001b[0m                                 Traceback (most recent call last)",
      "\u001b[0;32m<ipython-input-5-2d5f02118daa>\u001b[0m in \u001b[0;36m<module>\u001b[0;34m\u001b[0m\n\u001b[0;32m----> 1\u001b[0;31m \u001b[0mhr\u001b[0m\u001b[0;34m.\u001b[0m\u001b[0mevaluate_hit_rate\u001b[0m\u001b[0;34m(\u001b[0m\u001b[0;34m'2016'\u001b[0m\u001b[0;34m,\u001b[0m \u001b[0;34m'2017'\u001b[0m\u001b[0;34m,\u001b[0m \u001b[0mkeep_nb_users\u001b[0m\u001b[0;34m=\u001b[0m\u001b[0;36m1000\u001b[0m\u001b[0;34m)\u001b[0m\u001b[0;34m\u001b[0m\u001b[0;34m\u001b[0m\u001b[0m\n\u001b[0m",
      "\u001b[0;31mTypeError\u001b[0m: evaluate_hit_rate() missing 1 required positional argument: 'year2'"
     ]
    }
   ],
   "source": [
    "hr.evaluate_hit_rate('2016', '2017', keep_nb_users=1000)"
   ]
  },
  {
   "cell_type": "code",
   "execution_count": null,
   "id": "71c0127a-1af3-4fcc-b787-3f85847ef716",
   "metadata": {},
   "outputs": [],
   "source": [
    "3"
   ]
  },
  {
   "cell_type": "code",
   "execution_count": null,
   "id": "56e9f9ee-e0f6-46ae-b0e3-89fc31e45f52",
   "metadata": {},
   "outputs": [],
   "source": [
    "3"
   ]
  },
  {
   "cell_type": "code",
   "execution_count": null,
   "id": "1e1023a3-a443-4fa5-a1a0-36d65f3d2c10",
   "metadata": {},
   "outputs": [],
   "source": []
  }
 ],
 "metadata": {
  "kernelspec": {
   "display_name": "Python 3",
   "language": "python",
   "name": "python3"
  },
  "language_info": {
   "codemirror_mode": {
    "name": "ipython",
    "version": 3
   },
   "file_extension": ".py",
   "mimetype": "text/x-python",
   "name": "python",
   "nbconvert_exporter": "python",
   "pygments_lexer": "ipython3",
   "version": "3.8.8"
  }
 },
 "nbformat": 4,
 "nbformat_minor": 5
}
