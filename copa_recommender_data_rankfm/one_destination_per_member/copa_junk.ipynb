{
 "cells": [
  {
   "cell_type": "markdown",
   "metadata": {},
   "source": [
    "### Import Required Packages and Set Options"
   ]
  },
  {
   "cell_type": "markdown",
   "metadata": {},
   "source": [
    "#### Import Base Libraries"
   ]
  },
  {
   "cell_type": "code",
   "execution_count": 2,
   "metadata": {},
   "outputs": [],
   "source": [
    "import os\n",
    "import sys\n",
    "#import git\n",
    "import random\n",
    "\n",
    "import numpy as np\n",
    "#import numba as nb\n",
    "import pandas as pd\n",
    "from scipy.sparse import csr_matrix\n",
    "\n",
    "import matplotlib.pyplot as plt\n",
    "import seaborn as sns"
   ]
  },
  {
   "cell_type": "code",
   "execution_count": 3,
   "metadata": {},
   "outputs": [],
   "source": [
    "pd.set_option('display.max_rows', 500)\n",
    "pd.set_option('display.float_format', '{:.3f}'.format)\n",
    "\n",
    "sns.set_style('whitegrid')\n",
    "plt.rcParams['axes.titlesize'] = 14\n",
    "plt.rcParams['axes.labelsize'] = 12\n",
    "plt.rcParams['xtick.labelsize'] = 12\n",
    "plt.rcParams['ytick.labelsize'] = 12\n",
    "# plt.rcParams"
   ]
  },
  {
   "cell_type": "markdown",
   "metadata": {},
   "source": [
    "#### Put the Main Package Library on the PYTHONPATH"
   ]
  },
  {
   "cell_type": "code",
   "execution_count": 4,
   "metadata": {},
   "outputs": [],
   "source": [
    "# git_repo = git.Repo('.', search_parent_directories=True)\n",
    "# git_root = git_repo.git.rev_parse('--show-toplevel')\n",
    "# cython_path = os.path.join(git_root, 'rankfm')\n",
    "\n",
    "# sys.path[0] = git_root\n",
    "# sys.path[1] = cython_path\n",
    "# sys.path[:2]"
   ]
  },
  {
   "cell_type": "markdown",
   "metadata": {},
   "source": [
    "#### Re-Compile Cython Extension Module"
   ]
  },
  {
   "cell_type": "code",
   "execution_count": 5,
   "metadata": {},
   "outputs": [],
   "source": [
    "# !cd $git_root && python setup.py build_ext --inplace"
   ]
  },
  {
   "cell_type": "markdown",
   "metadata": {},
   "source": [
    "#### Dynamically Re-Load all Package Modules on Execution"
   ]
  },
  {
   "cell_type": "code",
   "execution_count": 6,
   "metadata": {},
   "outputs": [],
   "source": [
    "%load_ext autoreload\n",
    "%autoreload 2"
   ]
  },
  {
   "cell_type": "code",
   "execution_count": 7,
   "metadata": {},
   "outputs": [],
   "source": [
    "from rankfm.rankfm import RankFM\n",
    "from rankfm.evaluation import hit_rate, reciprocal_rank, discounted_cumulative_gain, precision, recall, diversity"
   ]
  },
  {
   "cell_type": "markdown",
   "metadata": {},
   "source": [
    "#### Set File Path Constants"
   ]
  },
  {
   "cell_type": "code",
   "execution_count": 8,
   "metadata": {},
   "outputs": [
    {
     "ename": "NameError",
     "evalue": "name 'git_root' is not defined",
     "output_type": "error",
     "traceback": [
      "\u001b[0;31m---------------------------------------------------------------------------\u001b[0m",
      "\u001b[0;31mNameError\u001b[0m                                 Traceback (most recent call last)",
      "\u001b[0;32m<ipython-input-8-be8ba53a5779>\u001b[0m in \u001b[0;36m<module>\u001b[0;34m\u001b[0m\n\u001b[0;32m----> 1\u001b[0;31m \u001b[0mdata_path\u001b[0m \u001b[0;34m=\u001b[0m \u001b[0mos\u001b[0m\u001b[0;34m.\u001b[0m\u001b[0mpath\u001b[0m\u001b[0;34m.\u001b[0m\u001b[0mjoin\u001b[0m\u001b[0;34m(\u001b[0m\u001b[0mgit_root\u001b[0m\u001b[0;34m,\u001b[0m \u001b[0;34m\"data/instacart_2017_05_01\"\u001b[0m\u001b[0;34m)\u001b[0m\u001b[0;34m\u001b[0m\u001b[0;34m\u001b[0m\u001b[0m\n\u001b[0m\u001b[1;32m      2\u001b[0m \u001b[0mprint\u001b[0m\u001b[0;34m(\u001b[0m\u001b[0;34m\"\\n\"\u001b[0m\u001b[0;34m.\u001b[0m\u001b[0mjoin\u001b[0m\u001b[0;34m(\u001b[0m\u001b[0;34m[\u001b[0m\u001b[0mgit_root\u001b[0m\u001b[0;34m,\u001b[0m \u001b[0mdata_path\u001b[0m\u001b[0;34m]\u001b[0m\u001b[0;34m)\u001b[0m\u001b[0;34m)\u001b[0m\u001b[0;34m\u001b[0m\u001b[0;34m\u001b[0m\u001b[0m\n",
      "\u001b[0;31mNameError\u001b[0m: name 'git_root' is not defined"
     ]
    }
   ],
   "source": [
    "data_path = os.path.join(git_root, \"data/instacart_2017_05_01\")\n",
    "print(\"\\n\".join([git_root, data_path]))"
   ]
  },
  {
   "cell_type": "code",
   "execution_count": 9,
   "metadata": {},
   "outputs": [
    {
     "name": "stdout",
     "output_type": "stream",
     "text": [
      "/home/erlebach/src/2022/rankfm/data/copa_recommender/one_destination_per_member\n"
     ]
    }
   ],
   "source": [
    "!pwd"
   ]
  },
  {
   "cell_type": "code",
   "execution_count": 10,
   "metadata": {},
   "outputs": [],
   "source": [
    "data_path = \".\" # os.path.join(git_root, \"data/instacart_2017_05_01\")\n",
    "# print(\"\\n\".join([git_root, data_path]))"
   ]
  },
  {
   "cell_type": "markdown",
   "metadata": {},
   "source": [
    "### Prepare Copa Data\n",
    "* this data comes from https://www.instacart.com/datasets/grocery-shopping-2017\n",
    "* Instacart open-sourced an anonymized version of their grocery store shopping data for research/kaggle purposes"
   ]
  },
  {
   "cell_type": "markdown",
   "metadata": {},
   "source": [
    "#### Load Departments Data"
   ]
  },
  {
   "cell_type": "code",
   "execution_count": 11,
   "metadata": {},
   "outputs": [],
   "source": [
    "years = ['2016', '2017']\n",
    "df = {}\n",
    "files = {}\n",
    "for year in years:\n",
    "    files[year] = f\"members_{year}.csv\"\n",
    "    df[year] = pd.read_csv(files[year])"
   ]
  },
  {
   "cell_type": "code",
   "execution_count": 12,
   "metadata": {},
   "outputs": [],
   "source": [
    "for year in years:\n",
    "    df[year] = df[year][['userID', 'itemID']]\n",
    "    df[year].columns = ['user_id', 'product_id']\n",
    "    df[year]['year'] = year"
   ]
  },
  {
   "cell_type": "code",
   "execution_count": 13,
   "metadata": {},
   "outputs": [
    {
     "ename": "KeyError",
     "evalue": "2016",
     "output_type": "error",
     "traceback": [
      "\u001b[0;31m---------------------------------------------------------------------------\u001b[0m",
      "\u001b[0;31mKeyError\u001b[0m                                  Traceback (most recent call last)",
      "\u001b[0;32m<ipython-input-13-13e030a992a1>\u001b[0m in \u001b[0;36m<module>\u001b[0;34m\u001b[0m\n\u001b[0;32m----> 1\u001b[0;31m \u001b[0mdf\u001b[0m\u001b[0;34m[\u001b[0m\u001b[0;36m2016\u001b[0m\u001b[0;34m]\u001b[0m\u001b[0;34m.\u001b[0m\u001b[0mshape\u001b[0m\u001b[0;34m,\u001b[0m \u001b[0mdf\u001b[0m\u001b[0;34m[\u001b[0m\u001b[0;36m2017\u001b[0m\u001b[0;34m]\u001b[0m\u001b[0;34m.\u001b[0m\u001b[0mshape\u001b[0m\u001b[0;34m\u001b[0m\u001b[0;34m\u001b[0m\u001b[0m\n\u001b[0m",
      "\u001b[0;31mKeyError\u001b[0m: 2016"
     ]
    }
   ],
   "source": [
    "df[2016].shape, df[2017].shape"
   ]
  },
  {
   "cell_type": "code",
   "execution_count": 14,
   "metadata": {},
   "outputs": [],
   "source": [
    "# departments_df = pd.read_csv(os.path.join(data_path, 'departments.csv'))\n",
    "# departments_df['department_id'] = departments_df['department_id'].astype(np.uint8)\n",
    "# departments_df.info(show_counts=False)\n",
    "# # departments_df.describe()\n",
    "# departments_df.head()"
   ]
  },
  {
   "cell_type": "markdown",
   "metadata": {},
   "source": [
    "#### Load Destination Data"
   ]
  },
  {
   "cell_type": "markdown",
   "metadata": {},
   "source": [
    "#### Create a User/Item Interaction Data Set"
   ]
  },
  {
   "cell_type": "code",
   "execution_count": 15,
   "metadata": {},
   "outputs": [],
   "source": [
    "df_g = {}\n",
    "for year in years:\n",
    "    df_g[year] = df[year].groupby(['user_id', 'product_id'])"
   ]
  },
  {
   "cell_type": "code",
   "execution_count": 16,
   "metadata": {},
   "outputs": [],
   "source": [
    "interactions = pd.concat([df[year] for year in years], axis=0)"
   ]
  },
  {
   "cell_type": "markdown",
   "metadata": {},
   "source": [
    "#### Check that there is only one entry per member_id/destination/year group  "
   ]
  },
  {
   "cell_type": "code",
   "execution_count": 17,
   "metadata": {},
   "outputs": [
    {
     "data": {
      "text/plain": [
       "1"
      ]
     },
     "execution_count": 17,
     "metadata": {},
     "output_type": "execute_result"
    }
   ],
   "source": [
    "interactions.groupby(['user_id','product_id','year']).size().max()"
   ]
  },
  {
   "cell_type": "code",
   "execution_count": 18,
   "metadata": {},
   "outputs": [],
   "source": [
    "# orders_cols = ['order_id', 'user_id']\n",
    "# order_products_cols = ['order_id', 'product_id']\n",
    "# interaction_cols = ['user_id', 'product_id', 'order_id']\n",
    "\n",
    "# interactions = pd.merge(orders_df[orders_cols], order_products_df[order_products_cols], on='order_id', how='inner')\n",
    "# interactions = interactions[interaction_cols]\n",
    "\n",
    "# interactions.info()\n",
    "# interactions.head()"
   ]
  },
  {
   "cell_type": "markdown",
   "metadata": {},
   "source": [
    "#### Create an Item Features Data Set"
   ]
  },
  {
   "cell_type": "code",
   "execution_count": 19,
   "metadata": {},
   "outputs": [
    {
     "ename": "NameError",
     "evalue": "name 'products_df' is not defined",
     "output_type": "error",
     "traceback": [
      "\u001b[0;31m---------------------------------------------------------------------------\u001b[0m",
      "\u001b[0;31mNameError\u001b[0m                                 Traceback (most recent call last)",
      "\u001b[0;32m<ipython-input-19-937b19cbfdca>\u001b[0m in \u001b[0;36m<module>\u001b[0;34m\u001b[0m\n\u001b[0;32m----> 1\u001b[0;31m \u001b[0mitem_features\u001b[0m \u001b[0;34m=\u001b[0m \u001b[0mpd\u001b[0m\u001b[0;34m.\u001b[0m\u001b[0mget_dummies\u001b[0m\u001b[0;34m(\u001b[0m\u001b[0mproducts_df\u001b[0m\u001b[0;34m[\u001b[0m\u001b[0;34m[\u001b[0m\u001b[0;34m'product_id'\u001b[0m\u001b[0;34m,\u001b[0m \u001b[0;34m'aisle_id'\u001b[0m\u001b[0;34m]\u001b[0m\u001b[0;34m]\u001b[0m\u001b[0;34m,\u001b[0m \u001b[0mcolumns\u001b[0m\u001b[0;34m=\u001b[0m\u001b[0;34m[\u001b[0m\u001b[0;34m'aisle_id'\u001b[0m\u001b[0;34m]\u001b[0m\u001b[0;34m)\u001b[0m\u001b[0;34m\u001b[0m\u001b[0;34m\u001b[0m\u001b[0m\n\u001b[0m\u001b[1;32m      2\u001b[0m \u001b[0mitem_features\u001b[0m\u001b[0;34m.\u001b[0m\u001b[0mhead\u001b[0m\u001b[0;34m(\u001b[0m\u001b[0;34m)\u001b[0m\u001b[0;34m\u001b[0m\u001b[0;34m\u001b[0m\u001b[0m\n",
      "\u001b[0;31mNameError\u001b[0m: name 'products_df' is not defined"
     ]
    }
   ],
   "source": [
    "item_features = pd.get_dummies(products_df[['product_id', 'aisle_id']], columns=['aisle_id'])\n",
    "item_features.head()"
   ]
  },
  {
   "cell_type": "markdown",
   "metadata": {},
   "source": [
    "### Do Some Basic EDA"
   ]
  },
  {
   "cell_type": "markdown",
   "metadata": {},
   "source": [
    "#### Cardinality"
   ]
  },
  {
   "cell_type": "code",
   "execution_count": 42,
   "metadata": {},
   "outputs": [],
   "source": [
    "n_departments = departments_df.department_id.nunique()\n",
    "n_aisles = aisles_df.aisle_id.nunique()\n",
    "\n",
    "n_users = interactions.user_id.nunique()\n",
    "n_items = interactions.product_id.nunique()\n",
    "n_orders = interactions.order_id.nunique()\n",
    "n_interactions = len(interactions)"
   ]
  },
  {
   "cell_type": "code",
   "execution_count": 43,
   "metadata": {},
   "outputs": [
    {
     "name": "stdout",
     "output_type": "stream",
     "text": [
      "departments: 21\n",
      "aisles: 134\n",
      "users: 206209\n",
      "items: 49677\n",
      "orders: 3214874\n",
      "interactions: 32434489\n"
     ]
    }
   ],
   "source": [
    "template = \"departments: {}\\naisles: {}\\nusers: {}\\nitems: {}\\norders: {}\\ninteractions: {}\"\n",
    "print(template.format(n_departments, n_aisles, n_users, n_items, n_orders, n_interactions))"
   ]
  },
  {
   "cell_type": "markdown",
   "metadata": {},
   "source": [
    "#### Key User/Item Distributions"
   ]
  },
  {
   "cell_type": "code",
   "execution_count": 72,
   "metadata": {},
   "outputs": [],
   "source": [
    "# number of items/orders by user\n",
    "cnt_item_user = interactions.groupby('user_id')['product_id'].nunique()\n",
    "cnt_order_user = interactions.groupby('user_id')['order_id'].nunique()\n",
    "\n",
    "# number of users/orders by item\n",
    "cnt_user_item = interactions.groupby('product_id')['user_id'].nunique()\n",
    "cnt_order_item = interactions.groupby('product_id')['order_id'].nunique()"
   ]
  },
  {
   "cell_type": "code",
   "execution_count": 74,
   "metadata": {},
   "outputs": [
    {
     "data": {
      "text/plain": [
       "count   206209.000\n",
       "mean        64.536\n",
       "std         56.592\n",
       "min          1.000\n",
       "5%           8.000\n",
       "10%         13.000\n",
       "25%         25.000\n",
       "50%         48.000\n",
       "75%         86.000\n",
       "90%        139.000\n",
       "95%        179.000\n",
       "max        726.000\n",
       "Name: product_id, dtype: float64"
      ]
     },
     "execution_count": 74,
     "metadata": {},
     "output_type": "execute_result"
    }
   ],
   "source": [
    "cnt_item_user.describe(percentiles=[0.05, 0.10, 0.25, 0.50, 0.75, 0.90, 0.95])"
   ]
  },
  {
   "cell_type": "code",
   "execution_count": 75,
   "metadata": {},
   "outputs": [
    {
     "data": {
      "text/plain": [
       "count   206209.000\n",
       "mean        15.590\n",
       "std         16.655\n",
       "min          3.000\n",
       "5%           3.000\n",
       "10%          3.000\n",
       "25%          5.000\n",
       "50%          9.000\n",
       "75%         19.000\n",
       "90%         37.000\n",
       "95%         51.000\n",
       "max         99.000\n",
       "Name: order_id, dtype: float64"
      ]
     },
     "execution_count": 75,
     "metadata": {},
     "output_type": "execute_result"
    }
   ],
   "source": [
    "cnt_order_user.describe(percentiles=[0.05, 0.10, 0.25, 0.50, 0.75, 0.90, 0.95])"
   ]
  },
  {
   "cell_type": "code",
   "execution_count": 76,
   "metadata": {},
   "outputs": [
    {
     "data": {
      "text/plain": [
       "count   49677.000\n",
       "mean      267.890\n",
       "std      1308.789\n",
       "min         1.000\n",
       "5%          4.000\n",
       "10%         5.000\n",
       "25%        11.000\n",
       "50%        35.000\n",
       "75%       137.000\n",
       "90%       491.000\n",
       "95%      1026.200\n",
       "max     73956.000\n",
       "Name: user_id, dtype: float64"
      ]
     },
     "execution_count": 76,
     "metadata": {},
     "output_type": "execute_result"
    }
   ],
   "source": [
    "cnt_user_item.describe(percentiles=[0.05, 0.10, 0.25, 0.50, 0.75, 0.90, 0.95])"
   ]
  },
  {
   "cell_type": "code",
   "execution_count": 77,
   "metadata": {},
   "outputs": [
    {
     "data": {
      "text/plain": [
       "count    49677.000\n",
       "mean       652.908\n",
       "std       4792.114\n",
       "min          1.000\n",
       "5%           5.000\n",
       "10%          7.000\n",
       "25%         17.000\n",
       "50%         60.000\n",
       "75%        260.000\n",
       "90%       1021.000\n",
       "95%       2286.000\n",
       "max     472565.000\n",
       "Name: order_id, dtype: float64"
      ]
     },
     "execution_count": 77,
     "metadata": {},
     "output_type": "execute_result"
    }
   ],
   "source": [
    "cnt_order_item.describe(percentiles=[0.05, 0.10, 0.25, 0.50, 0.75, 0.90, 0.95])"
   ]
  },
  {
   "cell_type": "code",
   "execution_count": 79,
   "metadata": {},
   "outputs": [
    {
     "name": "stderr",
     "output_type": "stream",
     "text": [
      "/home/erlebach/anaconda3/lib/python3.8/site-packages/seaborn/distributions.py:2557: FutureWarning: `distplot` is a deprecated function and will be removed in a future version. Please adapt your code to use either `displot` (a figure-level function with similar flexibility) or `histplot` (an axes-level function for histograms).\n",
      "  warnings.warn(msg, FutureWarning)\n"
     ]
    },
    {
     "data": {
      "image/png": "[encoded data removed]",
      "text/plain": [
       "<Figure size 1152x576 with 4 Axes>"
      ]
     },
     "metadata": {},
     "output_type": "display_data"
    }
   ],
   "source": [
    "fig, axes = plt.subplots(2, 2, figsize=(16, 8))\n",
    "axes = axes.flatten()\n",
    "\n",
    "range_0 = [1, cnt_item_user.quantile(0.99)]\n",
    "range_1 = [1, cnt_order_user.quantile(0.99)]\n",
    "range_2 = [1, cnt_user_item.quantile(0.90)]\n",
    "range_3 = [1, cnt_order_item.quantile(0.90)]\n",
    "\n",
    "sns_dist_params = dict(bins=20, hist=True, kde=False, rug=False)\n",
    "sns.distplot(cnt_item_user,  **sns_dist_params, hist_kws={'range': range_0, 'alpha': 0.75}, ax=axes[0])\n",
    "sns.distplot(cnt_order_user, **sns_dist_params, hist_kws={'range': range_1, 'alpha': 0.75}, ax=axes[1])\n",
    "sns.distplot(cnt_user_item,  **sns_dist_params, hist_kws={'range': range_2, 'alpha': 0.75}, ax=axes[2])\n",
    "sns.distplot(cnt_order_item, **sns_dist_params, hist_kws={'range': range_3, 'alpha': 0.75}, ax=axes[3])\n",
    "\n",
    "axes[0].set(title=\"Number of Distinct Products/User\", xlabel='Number of Products', ylabel='Number of Users')\n",
    "axes[1].set(title=\"Number of Distinct Orders/User\", xlabel='Number of Orders', ylabel='Number of Users')\n",
    "axes[2].set(title=\"Number of Distinct Users/Item\", xlabel='Number of Users', ylabel='Number of Products')\n",
    "axes[3].set(title=\"Number of Distinct Orders/Item\", xlabel='Number of Orders', ylabel='Number of Products')\n",
    "\n",
    "fig.tight_layout()\n",
    "plt.show()"
   ]
  },
  {
   "cell_type": "markdown",
   "metadata": {},
   "source": [
    "#### User/Item Re-Purchases"
   ]
  },
  {
   "cell_type": "code",
   "execution_count": 81,
   "metadata": {},
   "outputs": [
    {
     "data": {
      "text/plain": [
       "user_id  product_id\n",
       "1        196           10\n",
       "         10258          9\n",
       "         10326          1\n",
       "         12427         10\n",
       "         13032          3\n",
       "dtype: int64"
      ]
     },
     "execution_count": 81,
     "metadata": {},
     "output_type": "execute_result"
    }
   ],
   "source": [
    "user_item_orders = interactions.groupby(['user_id', 'product_id']).size()\n",
    "user_item_orders.head()"
   ]
  },
  {
   "cell_type": "code",
   "execution_count": 82,
   "metadata": {},
   "outputs": [
    {
     "name": "stderr",
     "output_type": "stream",
     "text": [
      "/home/erlebach/anaconda3/lib/python3.8/site-packages/seaborn/_decorators.py:36: FutureWarning: Pass the following variable as a keyword arg: x. From version 0.12, the only valid positional argument will be `data`, and passing other arguments without an explicit keyword will result in an error or misinterpretation.\n",
      "  warnings.warn(\n"
     ]
    },
    {
     "data": {
      "image/png": "[encoded data removed]",
      "text/plain": [
       "<Figure size 1152x288 with 1 Axes>"
      ]
     },
     "metadata": {},
     "output_type": "display_data"
    }
   ],
   "source": [
    "fig, axes = plt.subplots(1, 1, figsize=(16, 4))\n",
    "to_plot = user_item_orders[user_item_orders <= user_item_orders.quantile(0.95)]\n",
    "sns.countplot(to_plot, alpha=0.75, ax=axes)\n",
    "axes.set(title=\"Number of Orders by User/Product\", xlabel='Number of Orders', ylabel='Number of User/Products')\n",
    "\n",
    "fig.tight_layout()\n",
    "plt.show()"
   ]
  },
  {
   "cell_type": "markdown",
   "metadata": {},
   "source": [
    "#### Most Popular Items"
   ]
  },
  {
   "cell_type": "code",
   "execution_count": 32,
   "metadata": {},
   "outputs": [
    {
     "data": {
      "text/html": [
       "<div>\n",
       "<style scoped>\n",
       "    .dataframe tbody tr th:only-of-type {\n",
       "        vertical-align: middle;\n",
       "    }\n",
       "\n",
       "    .dataframe tbody tr th {\n",
       "        vertical-align: top;\n",
       "    }\n",
       "\n",
       "    .dataframe thead th {\n",
       "        text-align: right;\n",
       "    }\n",
       "</style>\n",
       "<table border=\"1\" class=\"dataframe\">\n",
       "  <thead>\n",
       "    <tr style=\"text-align: right;\">\n",
       "      <th></th>\n",
       "      <th>cnt_users</th>\n",
       "      <th>pct_users</th>\n",
       "      <th>product_id</th>\n",
       "      <th>product_name</th>\n",
       "      <th>aisle_id</th>\n",
       "      <th>department_id</th>\n",
       "    </tr>\n",
       "  </thead>\n",
       "  <tbody>\n",
       "    <tr>\n",
       "      <th>0</th>\n",
       "      <td>73956</td>\n",
       "      <td>0.359</td>\n",
       "      <td>24852</td>\n",
       "      <td>Banana</td>\n",
       "      <td>24</td>\n",
       "      <td>4</td>\n",
       "    </tr>\n",
       "    <tr>\n",
       "      <th>1</th>\n",
       "      <td>63537</td>\n",
       "      <td>0.308</td>\n",
       "      <td>13176</td>\n",
       "      <td>Bag of Organic Bananas</td>\n",
       "      <td>24</td>\n",
       "      <td>4</td>\n",
       "    </tr>\n",
       "    <tr>\n",
       "      <th>2</th>\n",
       "      <td>58838</td>\n",
       "      <td>0.285</td>\n",
       "      <td>21137</td>\n",
       "      <td>Organic Strawberries</td>\n",
       "      <td>24</td>\n",
       "      <td>4</td>\n",
       "    </tr>\n",
       "    <tr>\n",
       "      <th>3</th>\n",
       "      <td>55037</td>\n",
       "      <td>0.267</td>\n",
       "      <td>21903</td>\n",
       "      <td>Organic Baby Spinach</td>\n",
       "      <td>123</td>\n",
       "      <td>4</td>\n",
       "    </tr>\n",
       "    <tr>\n",
       "      <th>4</th>\n",
       "      <td>46402</td>\n",
       "      <td>0.225</td>\n",
       "      <td>47626</td>\n",
       "      <td>Large Lemon</td>\n",
       "      <td>24</td>\n",
       "      <td>4</td>\n",
       "    </tr>\n",
       "    <tr>\n",
       "      <th>5</th>\n",
       "      <td>44859</td>\n",
       "      <td>0.218</td>\n",
       "      <td>26209</td>\n",
       "      <td>Limes</td>\n",
       "      <td>24</td>\n",
       "      <td>4</td>\n",
       "    </tr>\n",
       "    <tr>\n",
       "      <th>6</th>\n",
       "      <td>43453</td>\n",
       "      <td>0.211</td>\n",
       "      <td>47209</td>\n",
       "      <td>Organic Hass Avocado</td>\n",
       "      <td>24</td>\n",
       "      <td>4</td>\n",
       "    </tr>\n",
       "    <tr>\n",
       "      <th>7</th>\n",
       "      <td>43149</td>\n",
       "      <td>0.209</td>\n",
       "      <td>16797</td>\n",
       "      <td>Strawberries</td>\n",
       "      <td>24</td>\n",
       "      <td>4</td>\n",
       "    </tr>\n",
       "    <tr>\n",
       "      <th>8</th>\n",
       "      <td>42771</td>\n",
       "      <td>0.207</td>\n",
       "      <td>47766</td>\n",
       "      <td>Organic Avocado</td>\n",
       "      <td>24</td>\n",
       "      <td>4</td>\n",
       "    </tr>\n",
       "    <tr>\n",
       "      <th>9</th>\n",
       "      <td>37138</td>\n",
       "      <td>0.180</td>\n",
       "      <td>39275</td>\n",
       "      <td>Organic Blueberries</td>\n",
       "      <td>123</td>\n",
       "      <td>4</td>\n",
       "    </tr>\n",
       "  </tbody>\n",
       "</table>\n",
       "</div>"
      ],
      "text/plain": [
       "   cnt_users  pct_users  product_id            product_name  aisle_id  \\\n",
       "0      73956      0.359       24852                  Banana        24   \n",
       "1      63537      0.308       13176  Bag of Organic Bananas        24   \n",
       "2      58838      0.285       21137    Organic Strawberries        24   \n",
       "3      55037      0.267       21903    Organic Baby Spinach       123   \n",
       "4      46402      0.225       47626             Large Lemon        24   \n",
       "5      44859      0.218       26209                   Limes        24   \n",
       "6      43453      0.211       47209    Organic Hass Avocado        24   \n",
       "7      43149      0.209       16797            Strawberries        24   \n",
       "8      42771      0.207       47766         Organic Avocado        24   \n",
       "9      37138      0.180       39275     Organic Blueberries       123   \n",
       "\n",
       "   department_id  \n",
       "0              4  \n",
       "1              4  \n",
       "2              4  \n",
       "3              4  \n",
       "4              4  \n",
       "5              4  \n",
       "6              4  \n",
       "7              4  \n",
       "8              4  \n",
       "9              4  "
      ]
     },
     "execution_count": 32,
     "metadata": {},
     "output_type": "execute_result"
    }
   ],
   "source": [
    "most_popular_items = cnt_user_item.to_frame('cnt_users').reset_index().sort_values('cnt_users', ascending=False).reset_index(drop=True)\n",
    "most_popular_items['pct_users'] = most_popular_items['cnt_users'] / n_users\n",
    "most_popular_items = pd.merge(most_popular_items, products_df, on='product_id', how='inner')\n",
    "most_popular_items = most_popular_items[['cnt_users', 'pct_users', 'product_id', 'product_name', 'aisle_id', 'department_id']]\n",
    "most_popular_items.head(10)"
   ]
  },
  {
   "cell_type": "code",
   "execution_count": 35,
   "metadata": {},
   "outputs": [
    {
     "data": {
      "image/png": "[encoded data removed]",
      "text/plain": [
       "<Figure size 1152x288 with 1 Axes>"
      ]
     },
     "metadata": {},
     "output_type": "display_data"
    }
   ],
   "source": [
    "N = 100\n",
    "to_plot = most_popular_items[:N]\n",
    "\n",
    "fig, ax = plt.subplots(1, 1, figsize=(16, 4))\n",
    "ax.bar(to_plot.index + 1, to_plot.cnt_users, width=1.0, linewidth=1, edgecolor='black', alpha=0.75)\n",
    "ax.set(xlim=(0, N+1), xlabel='Product Rank', ylabel='Number of Users')\n",
    "fig.tight_layout()\n",
    "plt.show()"
   ]
  },
  {
   "cell_type": "markdown",
   "metadata": {},
   "source": [
    "#### Print Matrix Shapes"
   ]
  },
  {
   "cell_type": "code",
   "execution_count": 36,
   "metadata": {},
   "outputs": [
    {
     "name": "stdout",
     "output_type": "stream",
     "text": [
      "users: 206209\n",
      "items: 49677\n",
      "interactions: (32434489, 3)\n",
      "unique user/items pairs: 13307953\n"
     ]
    }
   ],
   "source": [
    "print(\"users:\", n_users)\n",
    "print(\"items:\", n_items)\n",
    "print(\"interactions:\", interactions.shape)\n",
    "print(\"unique user/items pairs:\", interactions[['user_id', 'product_id']].drop_duplicates().shape[0])"
   ]
  },
  {
   "cell_type": "markdown",
   "metadata": {},
   "source": [
    "#### Evaluate User/Item Interaction Sparsity"
   ]
  },
  {
   "cell_type": "code",
   "execution_count": 83,
   "metadata": {},
   "outputs": [
    {
     "name": "stdout",
     "output_type": "stream",
     "text": [
      "full interaction data sparsity: 99.87\n"
     ]
    }
   ],
   "source": [
    "sparsity = 1 - (interactions[['user_id', 'product_id']].drop_duplicates().shape[0] / (n_users * n_items))\n",
    "print(\"full interaction data sparsity: {}\".format(round(100 * sparsity, 2)))"
   ]
  },
  {
   "cell_type": "markdown",
   "metadata": {},
   "source": [
    "### Subsample the Data for Initial Testing"
   ]
  },
  {
   "cell_type": "markdown",
   "metadata": {},
   "source": [
    "#### Take a Random Subsample of Users"
   ]
  },
  {
   "cell_type": "code",
   "execution_count": 87,
   "metadata": {},
   "outputs": [],
   "source": [
    "all_users = interactions.user_id.unique()\n",
    "all_items = interactions.product_id.unique()"
   ]
  },
  {
   "cell_type": "code",
   "execution_count": 88,
   "metadata": {},
   "outputs": [],
   "source": [
    "np.random.seed(1492)\n",
    "s_users = np.random.choice(all_users, size=10000, replace=False)"
   ]
  },
  {
   "cell_type": "markdown",
   "metadata": {},
   "source": [
    "#### Get All Interactions for Those Users"
   ]
  },
  {
   "cell_type": "code",
   "execution_count": 91,
   "metadata": {},
   "outputs": [
    {
     "data": {
      "text/plain": [
       "(1615071, 3)"
      ]
     },
     "execution_count": 91,
     "metadata": {},
     "output_type": "execute_result"
    }
   ],
   "source": [
    "s_interactions = interactions[interactions.user_id.isin(s_users)].copy()\n",
    "s_interactions.shape"
   ]
  },
  {
   "cell_type": "code",
   "execution_count": 93,
   "metadata": {},
   "outputs": [
    {
     "data": {
      "text/plain": [
       "35321"
      ]
     },
     "execution_count": 93,
     "metadata": {},
     "output_type": "execute_result"
    }
   ],
   "source": [
    "s_items = s_interactions.product_id.unique()\n",
    "len(s_items)"
   ]
  },
  {
   "cell_type": "markdown",
   "metadata": {},
   "source": [
    "#### Re-Evaluate Cardinality/Sparsity on the Sample"
   ]
  },
  {
   "cell_type": "code",
   "execution_count": 96,
   "metadata": {},
   "outputs": [
    {
     "name": "stdout",
     "output_type": "stream",
     "text": [
      "sample users: 10000\n",
      "sample items: 35321\n",
      "sample interactions: (1615071, 3)\n"
     ]
    }
   ],
   "source": [
    "n_s_users = len(s_users)\n",
    "n_s_items = len(s_items)\n",
    "\n",
    "print(\"sample users:\", n_s_users)\n",
    "print(\"sample items:\", n_s_items)\n",
    "print(\"sample interactions:\", s_interactions.shape)"
   ]
  },
  {
   "cell_type": "code",
   "execution_count": 97,
   "metadata": {},
   "outputs": [
    {
     "name": "stdout",
     "output_type": "stream",
     "text": [
      "sample interaction data sparsity: 99.81\n"
     ]
    }
   ],
   "source": [
    "s_sparsity = 1 - (s_interactions[['user_id', 'product_id']].drop_duplicates().shape[0] / (n_s_users * n_s_items))\n",
    "print(\"sample interaction data sparsity: {}\".format(round(100 * s_sparsity, 2)))"
   ]
  },
  {
   "cell_type": "markdown",
   "metadata": {},
   "source": [
    "### Split the Data into Training/Validation Sets"
   ]
  },
  {
   "cell_type": "markdown",
   "metadata": {},
   "source": [
    "#### Randomly Shuffle the Overall Interaction Data"
   ]
  },
  {
   "cell_type": "code",
   "execution_count": 98,
   "metadata": {},
   "outputs": [
    {
     "data": {
      "text/html": [
       "<div>\n",
       "<style scoped>\n",
       "    .dataframe tbody tr th:only-of-type {\n",
       "        vertical-align: middle;\n",
       "    }\n",
       "\n",
       "    .dataframe tbody tr th {\n",
       "        vertical-align: top;\n",
       "    }\n",
       "\n",
       "    .dataframe thead th {\n",
       "        text-align: right;\n",
       "    }\n",
       "</style>\n",
       "<table border=\"1\" class=\"dataframe\">\n",
       "  <thead>\n",
       "    <tr style=\"text-align: right;\">\n",
       "      <th></th>\n",
       "      <th>user_id</th>\n",
       "      <th>product_id</th>\n",
       "      <th>order_id</th>\n",
       "      <th>random</th>\n",
       "    </tr>\n",
       "  </thead>\n",
       "  <tbody>\n",
       "    <tr>\n",
       "      <th>23537329</th>\n",
       "      <td>149525</td>\n",
       "      <td>10603</td>\n",
       "      <td>286068</td>\n",
       "      <td>0.552</td>\n",
       "    </tr>\n",
       "    <tr>\n",
       "      <th>9203424</th>\n",
       "      <td>58434</td>\n",
       "      <td>2078</td>\n",
       "      <td>1801316</td>\n",
       "      <td>0.730</td>\n",
       "    </tr>\n",
       "    <tr>\n",
       "      <th>17681539</th>\n",
       "      <td>111802</td>\n",
       "      <td>47209</td>\n",
       "      <td>1036583</td>\n",
       "      <td>0.123</td>\n",
       "    </tr>\n",
       "    <tr>\n",
       "      <th>10983869</th>\n",
       "      <td>69587</td>\n",
       "      <td>35221</td>\n",
       "      <td>1935694</td>\n",
       "      <td>0.915</td>\n",
       "    </tr>\n",
       "    <tr>\n",
       "      <th>14723363</th>\n",
       "      <td>93211</td>\n",
       "      <td>2539</td>\n",
       "      <td>1193650</td>\n",
       "      <td>0.212</td>\n",
       "    </tr>\n",
       "  </tbody>\n",
       "</table>\n",
       "</div>"
      ],
      "text/plain": [
       "          user_id  product_id  order_id  random\n",
       "23537329   149525       10603    286068   0.552\n",
       "9203424     58434        2078   1801316   0.730\n",
       "17681539   111802       47209   1036583   0.123\n",
       "10983869    69587       35221   1935694   0.915\n",
       "14723363    93211        2539   1193650   0.212"
      ]
     },
     "execution_count": 98,
     "metadata": {},
     "output_type": "execute_result"
    }
   ],
   "source": [
    "shuffle_index = np.arange(len(s_interactions))\n",
    "np.random.shuffle(shuffle_index)\n",
    "\n",
    "s_interactions = s_interactions.iloc[shuffle_index]\n",
    "s_interactions['random'] = np.random.random(size=len(s_interactions))\n",
    "s_interactions.head()"
   ]
  },
  {
   "cell_type": "markdown",
   "metadata": {},
   "source": [
    "#### Split Off 25% to Use for Validation"
   ]
  },
  {
   "cell_type": "code",
   "execution_count": 107,
   "metadata": {},
   "outputs": [],
   "source": [
    "test_pct = 0.25\n",
    "# GE: this trick is not necessary since s_interactions was subjected to a random permutation\n",
    "train_mask = s_interactions['random'] <  (1 - test_pct)\n",
    "valid_mask = s_interactions['random'] >= (1 - test_pct)\n",
    "          \n",
    "interactions_total = s_interactions[['user_id', 'product_id']]\n",
    "interactions_total = interactions_total.iloc[shuffle_index]\n",
    "\n",
    "interactions_train = s_interactions[train_mask].groupby(['user_id', 'product_id']).size().to_frame('orders').reset_index()\n",
    "interactions_valid = s_interactions[valid_mask].groupby(['user_id', 'product_id']).size().to_frame('orders').reset_index()\n",
    "#display(interactions_train.head())\n",
    "# sample_weight_train = interactions_train['orders']\n",
    "# sample_weight_valid = interactions_valid['orders']\n",
    "sample_weight_train = np.log2(interactions_train['orders'] + 1)\n",
    "sample_weight_valid = np.log2(interactions_valid['orders'] + 1)\n",
    "\n",
    "interactions_train = interactions_train[['user_id', 'product_id']]\n",
    "interactions_valid = interactions_valid[['user_id', 'product_id']]"
   ]
  },
  {
   "cell_type": "code",
   "execution_count": 114,
   "metadata": {},
   "outputs": [
    {
     "name": "stdout",
     "output_type": "stream",
     "text": [
      "0\n",
      "total shape: (1615071, 2)\n",
      "train shape: (552348, 2)\n",
      "valid shape: (262425, 2)\n",
      "\n",
      "train weights shape: (552348,)\n",
      "valid weights shape: (262425,)\n",
      "\n",
      "train users: 10000\n",
      "valid users: 9936\n",
      "cold-start users: set()\n",
      "\n",
      "train items: 33362\n",
      "valid items: 25320\n",
      "number of cold-start items: 1959\n",
      "\n",
      "train item features: (33362, 135)\n",
      "valid item features: (25320, 135)\n"
     ]
    }
   ],
   "source": [
    "train_users = np.sort(interactions_train.user_id.unique())\n",
    "valid_users = np.sort(interactions_valid.user_id.unique())\n",
    "cold_start_users = set(valid_users) - set(train_users)\n",
    "\n",
    "train_items = np.sort(interactions_train.product_id.unique())\n",
    "valid_items = np.sort(interactions_valid.product_id.unique())\n",
    "cold_start_items = set(valid_items) - set(train_items)\n",
    "# print(len(cold_start_users)) # 0\n",
    "#print(len(cold_start_items)) # 1959\n",
    "\n",
    "item_features_train = item_features[item_features.product_id.isin(train_items)]\n",
    "item_features_valid = item_features[item_features.product_id.isin(valid_items)]\n",
    "\n",
    "print(\"total shape: {}\".format(interactions_total.shape))\n",
    "print(\"train shape: {}\".format(interactions_train.shape))\n",
    "print(\"valid shape: {}\".format(interactions_valid.shape))\n",
    "\n",
    "print(\"\\ntrain weights shape: {}\".format(sample_weight_train.shape))\n",
    "print(\"valid weights shape: {}\".format(sample_weight_valid.shape))\n",
    "\n",
    "print(\"\\ntrain users: {}\".format(len(train_users)))\n",
    "print(\"valid users: {}\".format(len(valid_users)))\n",
    "print(\"cold-start users: {}\".format(cold_start_users))\n",
    "\n",
    "print(\"\\ntrain items: {}\".format(len(train_items)))\n",
    "print(\"valid items: {}\".format(len(valid_items)))\n",
    "print(\"number of cold-start items: {}\".format(len(cold_start_items)))\n",
    "\n",
    "print(\"\\ntrain item features: {}\".format(item_features_train.shape))\n",
    "print(\"valid item features: {}\".format(item_features_valid.shape))"
   ]
  },
  {
   "cell_type": "markdown",
   "metadata": {},
   "source": [
    "### Test Out Core Package Functionality"
   ]
  },
  {
   "cell_type": "markdown",
   "metadata": {},
   "source": [
    "#### Initialize the Model with Chosen Hyperparameters"
   ]
  },
  {
   "cell_type": "code",
   "execution_count": 116,
   "metadata": {},
   "outputs": [],
   "source": [
    "model = RankFM(factors=50, loss='warp', max_samples=50, alpha=0.01, learning_rate=0.1, learning_schedule='invscaling')"
   ]
  },
  {
   "cell_type": "markdown",
   "metadata": {},
   "source": [
    "#### Fit the Model on the Training Data and Profile Computational Performance"
   ]
  },
  {
   "cell_type": "code",
   "execution_count": 117,
   "metadata": {},
   "outputs": [
    {
     "name": "stdout",
     "output_type": "stream",
     "text": [
      "\n",
      "training epoch: 0\n",
      "log likelihood: -283345.625\n",
      "\n",
      "training epoch: 1\n",
      "log likelihood: -277334.0\n",
      "\n",
      "training epoch: 2\n",
      "log likelihood: -268719.40625\n",
      "\n",
      "training epoch: 3\n",
      "log likelihood: -260925.4375\n",
      "\n",
      "training epoch: 4\n",
      "log likelihood: -252805.40625\n",
      "\n",
      "training epoch: 5\n",
      "log likelihood: -246793.53125\n",
      "\n",
      "training epoch: 6\n",
      "log likelihood: -242302.453125\n",
      "\n",
      "training epoch: 7\n",
      "log likelihood: -238361.53125\n",
      "\n",
      "training epoch: 8\n",
      "log likelihood: -235419.140625\n",
      "\n",
      "training epoch: 9\n",
      "log likelihood: -233545.734375\n",
      "\n",
      "training epoch: 10\n",
      "log likelihood: -231369.953125\n",
      "\n",
      "training epoch: 11\n",
      "log likelihood: -230310.546875\n",
      "\n",
      "training epoch: 12\n",
      "log likelihood: -228029.15625\n",
      "\n",
      "training epoch: 13\n",
      "log likelihood: -226963.5625\n",
      "\n",
      "training epoch: 14\n",
      "log likelihood: -226112.9375\n",
      "\n",
      "training epoch: 15\n",
      "log likelihood: -224978.765625\n",
      "\n",
      "training epoch: 16\n",
      "log likelihood: -223918.296875\n",
      "\n",
      "training epoch: 17\n",
      "log likelihood: -223227.671875\n",
      "\n",
      "training epoch: 18\n",
      "log likelihood: -222496.65625\n",
      "\n",
      "training epoch: 19\n",
      "log likelihood: -221807.9375\n",
      "\n",
      "training epoch: 20\n",
      "log likelihood: -220732.765625\n",
      "\n",
      "training epoch: 21\n",
      "log likelihood: -220224.125\n",
      "\n",
      "training epoch: 22\n",
      "log likelihood: -219507.125\n",
      "\n",
      "training epoch: 23\n",
      "log likelihood: -219159.4375\n",
      "\n",
      "training epoch: 24\n",
      "log likelihood: -218413.21875\n",
      "\n",
      "training epoch: 25\n",
      "log likelihood: -217863.3125\n",
      "\n",
      "training epoch: 26\n",
      "log likelihood: -217938.953125\n",
      "\n",
      "training epoch: 27\n",
      "log likelihood: -217193.984375\n",
      "\n",
      "training epoch: 28\n",
      "log likelihood: -216503.984375\n",
      "\n",
      "training epoch: 29\n",
      "log likelihood: -216309.234375\n",
      "CPU times: user 35.3 s, sys: 332 µs, total: 35.3 s\n",
      "Wall time: 35.2 s\n"
     ]
    },
    {
     "data": {
      "text/plain": [
       "<rankfm.rankfm.RankFM at 0x7ffa78991430>"
      ]
     },
     "execution_count": 117,
     "metadata": {},
     "output_type": "execute_result"
    }
   ],
   "source": [
    "%%time\n",
    "model.fit(interactions_train, sample_weight=sample_weight_train, epochs=30, verbose=True)"
   ]
  },
  {
   "cell_type": "markdown",
   "metadata": {},
   "source": [
    "#### Generate Model Scores"
   ]
  },
  {
   "cell_type": "code",
   "execution_count": 50,
   "metadata": {},
   "outputs": [
    {
     "name": "stdout",
     "output_type": "stream",
     "text": [
      "CPU times: user 361 ms, sys: 54 µs, total: 361 ms\n",
      "Wall time: 360 ms\n"
     ]
    }
   ],
   "source": [
    "%%time\n",
    "scores = model.predict(interactions_valid, cold_start='nan') "
   ]
  },
  {
   "cell_type": "code",
   "execution_count": 115,
   "metadata": {},
   "outputs": [
    {
     "ename": "NameError",
     "evalue": "name 'scores' is not defined",
     "output_type": "error",
     "traceback": [
      "\u001b[0;31m---------------------------------------------------------------------------\u001b[0m",
      "\u001b[0;31mNameError\u001b[0m                                 Traceback (most recent call last)",
      "\u001b[0;32m<ipython-input-115-fa8cef49474b>\u001b[0m in \u001b[0;36m<module>\u001b[0;34m\u001b[0m\n\u001b[0;32m----> 1\u001b[0;31m \u001b[0mscores\u001b[0m\u001b[0;34m\u001b[0m\u001b[0;34m\u001b[0m\u001b[0m\n\u001b[0m",
      "\u001b[0;31mNameError\u001b[0m: name 'scores' is not defined"
     ]
    }
   ],
   "source": [
    "scores"
   ]
  },
  {
   "cell_type": "markdown",
   "metadata": {},
   "source": [
    "#### Generate TopN Recommendations"
   ]
  },
  {
   "cell_type": "code",
   "execution_count": 52,
   "metadata": {},
   "outputs": [
    {
     "data": {
      "text/plain": [
       "(10000, 9936, 9936)"
      ]
     },
     "execution_count": 52,
     "metadata": {},
     "output_type": "execute_result"
    }
   ],
   "source": [
    "train_users = pd.Series(interactions_train.user_id.unique())\n",
    "valid_users = pd.Series(interactions_valid.user_id.unique())\n",
    "both_users = set(train_users) & set(valid_users)\n",
    "\n",
    "len(train_users), len(valid_users), len(both_users)"
   ]
  },
  {
   "cell_type": "code",
   "execution_count": 53,
   "metadata": {},
   "outputs": [
    {
     "name": "stdout",
     "output_type": "stream",
     "text": [
      "CPU times: user 31.7 s, sys: 0 ns, total: 31.7 s\n",
      "Wall time: 31.7 s\n"
     ]
    }
   ],
   "source": [
    "%%time\n",
    "valid_recs = model.recommend(valid_users, n_items=10, filter_previous=False, cold_start='nan')"
   ]
  },
  {
   "cell_type": "code",
   "execution_count": 54,
   "metadata": {},
   "outputs": [
    {
     "name": "stdout",
     "output_type": "stream",
     "text": [
      "(9936, 10)\n"
     ]
    },
    {
     "data": {
      "text/html": [
       "<div>\n",
       "<style scoped>\n",
       "    .dataframe tbody tr th:only-of-type {\n",
       "        vertical-align: middle;\n",
       "    }\n",
       "\n",
       "    .dataframe tbody tr th {\n",
       "        vertical-align: top;\n",
       "    }\n",
       "\n",
       "    .dataframe thead th {\n",
       "        text-align: right;\n",
       "    }\n",
       "</style>\n",
       "<table border=\"1\" class=\"dataframe\">\n",
       "  <thead>\n",
       "    <tr style=\"text-align: right;\">\n",
       "      <th></th>\n",
       "      <th>0</th>\n",
       "      <th>1</th>\n",
       "      <th>2</th>\n",
       "      <th>3</th>\n",
       "      <th>4</th>\n",
       "      <th>5</th>\n",
       "      <th>6</th>\n",
       "      <th>7</th>\n",
       "      <th>8</th>\n",
       "      <th>9</th>\n",
       "    </tr>\n",
       "  </thead>\n",
       "  <tbody>\n",
       "    <tr>\n",
       "      <th>33</th>\n",
       "      <td>33351</td>\n",
       "      <td>33129</td>\n",
       "      <td>33198</td>\n",
       "      <td>31808</td>\n",
       "      <td>24852</td>\n",
       "      <td>42240</td>\n",
       "      <td>10957</td>\n",
       "      <td>22882</td>\n",
       "      <td>17140</td>\n",
       "      <td>47626</td>\n",
       "    </tr>\n",
       "    <tr>\n",
       "      <th>61</th>\n",
       "      <td>48205</td>\n",
       "      <td>38400</td>\n",
       "      <td>9387</td>\n",
       "      <td>24852</td>\n",
       "      <td>39408</td>\n",
       "      <td>23909</td>\n",
       "      <td>7533</td>\n",
       "      <td>16797</td>\n",
       "      <td>27323</td>\n",
       "      <td>196</td>\n",
       "    </tr>\n",
       "    <tr>\n",
       "      <th>72</th>\n",
       "      <td>21137</td>\n",
       "      <td>24852</td>\n",
       "      <td>21903</td>\n",
       "      <td>13176</td>\n",
       "      <td>47209</td>\n",
       "      <td>40706</td>\n",
       "      <td>41950</td>\n",
       "      <td>22935</td>\n",
       "      <td>26209</td>\n",
       "      <td>42265</td>\n",
       "    </tr>\n",
       "    <tr>\n",
       "      <th>76</th>\n",
       "      <td>49235</td>\n",
       "      <td>13176</td>\n",
       "      <td>19057</td>\n",
       "      <td>36107</td>\n",
       "      <td>18523</td>\n",
       "      <td>27966</td>\n",
       "      <td>33754</td>\n",
       "      <td>6631</td>\n",
       "      <td>10957</td>\n",
       "      <td>33129</td>\n",
       "    </tr>\n",
       "    <tr>\n",
       "      <th>84</th>\n",
       "      <td>26209</td>\n",
       "      <td>47626</td>\n",
       "      <td>47209</td>\n",
       "      <td>28985</td>\n",
       "      <td>22935</td>\n",
       "      <td>47766</td>\n",
       "      <td>44632</td>\n",
       "      <td>24964</td>\n",
       "      <td>24852</td>\n",
       "      <td>21137</td>\n",
       "    </tr>\n",
       "  </tbody>\n",
       "</table>\n",
       "</div>"
      ],
      "text/plain": [
       "        0      1      2      3      4      5      6      7      8      9\n",
       "33  33351  33129  33198  31808  24852  42240  10957  22882  17140  47626\n",
       "61  48205  38400   9387  24852  39408  23909   7533  16797  27323    196\n",
       "72  21137  24852  21903  13176  47209  40706  41950  22935  26209  42265\n",
       "76  49235  13176  19057  36107  18523  27966  33754   6631  10957  33129\n",
       "84  26209  47626  47209  28985  22935  47766  44632  24964  24852  21137"
      ]
     },
     "execution_count": 54,
     "metadata": {},
     "output_type": "execute_result"
    }
   ],
   "source": [
    "print(valid_recs.shape)\n",
    "valid_recs.head()"
   ]
  },
  {
   "cell_type": "markdown",
   "metadata": {},
   "source": [
    "### Evaluate Model Performance on the Validation Data"
   ]
  },
  {
   "cell_type": "markdown",
   "metadata": {},
   "source": [
    "#### Specify Number of Recommended Items"
   ]
  },
  {
   "cell_type": "code",
   "execution_count": 55,
   "metadata": {},
   "outputs": [],
   "source": [
    "k = 10"
   ]
  },
  {
   "cell_type": "markdown",
   "metadata": {},
   "source": [
    "#### Generate Pure-Popularity Baselines"
   ]
  },
  {
   "cell_type": "code",
   "execution_count": 56,
   "metadata": {},
   "outputs": [
    {
     "data": {
      "text/plain": [
       "product_id\n",
       "24852    3333\n",
       "13176    2904\n",
       "21137    2565\n",
       "21903    2511\n",
       "47209    2003\n",
       "47626    1983\n",
       "26209    1950\n",
       "47766    1841\n",
       "16797    1839\n",
       "39275    1590\n",
       "Name: user_id, dtype: int64"
      ]
     },
     "execution_count": 56,
     "metadata": {},
     "output_type": "execute_result"
    }
   ],
   "source": [
    "most_popular = interactions_train.groupby('product_id')['user_id'].count().sort_values(ascending=False)[:k]\n",
    "most_popular"
   ]
  },
  {
   "cell_type": "code",
   "execution_count": 57,
   "metadata": {},
   "outputs": [],
   "source": [
    "test_user_items = interactions_valid.groupby('user_id')['product_id'].apply(set).to_dict()\n",
    "test_user_items = {key: val for key, val in test_user_items.items() if key in set(train_users)}\n",
    "\n",
    "base_hrt = np.mean([int(len(set(most_popular.index) & set(val)) > 0)                       for key, val in test_user_items.items()])\n",
    "base_pre = np.mean([len(set(most_popular.index) & set(val)) / len(set(most_popular.index)) for key, val in test_user_items.items()])\n",
    "base_rec = np.mean([len(set(most_popular.index) & set(val)) / len(set(val))                for key, val in test_user_items.items()])"
   ]
  },
  {
   "cell_type": "code",
   "execution_count": 58,
   "metadata": {},
   "outputs": [
    {
     "name": "stdout",
     "output_type": "stream",
     "text": [
      "number of test users: 9936\n",
      "baseline hit rate: 0.602\n",
      "baseline precision: 0.134\n",
      "baseline recall: 0.058\n"
     ]
    }
   ],
   "source": [
    "print(\"number of test users: {}\".format(len(test_user_items)))\n",
    "print(\"baseline hit rate: {:.3f}\".format(base_hrt))\n",
    "print(\"baseline precision: {:.3f}\".format(base_pre))\n",
    "print(\"baseline recall: {:.3f}\".format(base_rec))"
   ]
  },
  {
   "cell_type": "markdown",
   "metadata": {},
   "source": [
    "#### Generate Model Performance Validation Metrics"
   ]
  },
  {
   "cell_type": "code",
   "execution_count": 61,
   "metadata": {},
   "outputs": [
    {
     "name": "stdout",
     "output_type": "stream",
     "text": [
      "CPU times: user 2min 11s, sys: 27.5 ms, total: 2min 11s\n",
      "Wall time: 2min 11s\n"
     ]
    }
   ],
   "source": [
    "%%time\n",
    "model_hrt = hit_rate(model, interactions_valid, k=k)\n",
    "model_rnk = reciprocal_rank(model, interactions_valid, k=k)\n",
    "model_pre = precision(model, interactions_valid, k=k)\n",
    "model_rec = recall(model, interactions_valid, k=k)"
   ]
  },
  {
   "cell_type": "code",
   "execution_count": 63,
   "metadata": {},
   "outputs": [
    {
     "name": "stdout",
     "output_type": "stream",
     "text": [
      "model hit rate: 0.785\n",
      "model reciprocal rank: 0.478\n",
      "model precision: 0.232\n",
      "model recall: 0.122\n"
     ]
    }
   ],
   "source": [
    "print(\"model hit rate: {}\".format(round(model_hrt, 3)))\n",
    "print(\"model reciprocal rank: {}\".format(round(model_rnk, 3)))\n",
    "print(\"model precision: {}\".format(round(model_pre, 3)))\n",
    "print(\"model recall: {}\".format(round(model_rec, 3)))"
   ]
  },
  {
   "cell_type": "markdown",
   "metadata": {},
   "source": [
    "#### Assess the Diversity of Recommendations"
   ]
  },
  {
   "cell_type": "code",
   "execution_count": 64,
   "metadata": {},
   "outputs": [
    {
     "data": {
      "text/html": [
       "<div>\n",
       "<style scoped>\n",
       "    .dataframe tbody tr th:only-of-type {\n",
       "        vertical-align: middle;\n",
       "    }\n",
       "\n",
       "    .dataframe tbody tr th {\n",
       "        vertical-align: top;\n",
       "    }\n",
       "\n",
       "    .dataframe thead th {\n",
       "        text-align: right;\n",
       "    }\n",
       "</style>\n",
       "<table border=\"1\" class=\"dataframe\">\n",
       "  <thead>\n",
       "    <tr style=\"text-align: right;\">\n",
       "      <th></th>\n",
       "      <th>cnt_users</th>\n",
       "      <th>pct_users</th>\n",
       "      <th>product_id</th>\n",
       "      <th>product_name</th>\n",
       "      <th>aisle_id</th>\n",
       "      <th>department_id</th>\n",
       "    </tr>\n",
       "  </thead>\n",
       "  <tbody>\n",
       "    <tr>\n",
       "      <th>0</th>\n",
       "      <td>5674</td>\n",
       "      <td>0.571</td>\n",
       "      <td>24852</td>\n",
       "      <td>Banana</td>\n",
       "      <td>24</td>\n",
       "      <td>4</td>\n",
       "    </tr>\n",
       "    <tr>\n",
       "      <th>1</th>\n",
       "      <td>4976</td>\n",
       "      <td>0.501</td>\n",
       "      <td>13176</td>\n",
       "      <td>Bag of Organic Bananas</td>\n",
       "      <td>24</td>\n",
       "      <td>4</td>\n",
       "    </tr>\n",
       "    <tr>\n",
       "      <th>2</th>\n",
       "      <td>4859</td>\n",
       "      <td>0.489</td>\n",
       "      <td>21137</td>\n",
       "      <td>Organic Strawberries</td>\n",
       "      <td>24</td>\n",
       "      <td>4</td>\n",
       "    </tr>\n",
       "    <tr>\n",
       "      <th>3</th>\n",
       "      <td>4470</td>\n",
       "      <td>0.450</td>\n",
       "      <td>21903</td>\n",
       "      <td>Organic Baby Spinach</td>\n",
       "      <td>123</td>\n",
       "      <td>4</td>\n",
       "    </tr>\n",
       "    <tr>\n",
       "      <th>4</th>\n",
       "      <td>3164</td>\n",
       "      <td>0.318</td>\n",
       "      <td>47209</td>\n",
       "      <td>Organic Hass Avocado</td>\n",
       "      <td>24</td>\n",
       "      <td>4</td>\n",
       "    </tr>\n",
       "    <tr>\n",
       "      <th>5</th>\n",
       "      <td>3055</td>\n",
       "      <td>0.307</td>\n",
       "      <td>26209</td>\n",
       "      <td>Limes</td>\n",
       "      <td>24</td>\n",
       "      <td>4</td>\n",
       "    </tr>\n",
       "    <tr>\n",
       "      <th>6</th>\n",
       "      <td>2269</td>\n",
       "      <td>0.228</td>\n",
       "      <td>22935</td>\n",
       "      <td>Organic Yellow Onion</td>\n",
       "      <td>83</td>\n",
       "      <td>4</td>\n",
       "    </tr>\n",
       "    <tr>\n",
       "      <th>7</th>\n",
       "      <td>2173</td>\n",
       "      <td>0.219</td>\n",
       "      <td>47626</td>\n",
       "      <td>Large Lemon</td>\n",
       "      <td>24</td>\n",
       "      <td>4</td>\n",
       "    </tr>\n",
       "    <tr>\n",
       "      <th>8</th>\n",
       "      <td>2132</td>\n",
       "      <td>0.215</td>\n",
       "      <td>27966</td>\n",
       "      <td>Organic Raspberries</td>\n",
       "      <td>123</td>\n",
       "      <td>4</td>\n",
       "    </tr>\n",
       "    <tr>\n",
       "      <th>9</th>\n",
       "      <td>2127</td>\n",
       "      <td>0.214</td>\n",
       "      <td>47766</td>\n",
       "      <td>Organic Avocado</td>\n",
       "      <td>24</td>\n",
       "      <td>4</td>\n",
       "    </tr>\n",
       "    <tr>\n",
       "      <th>10</th>\n",
       "      <td>1575</td>\n",
       "      <td>0.159</td>\n",
       "      <td>24964</td>\n",
       "      <td>Organic Garlic</td>\n",
       "      <td>83</td>\n",
       "      <td>4</td>\n",
       "    </tr>\n",
       "    <tr>\n",
       "      <th>11</th>\n",
       "      <td>1500</td>\n",
       "      <td>0.151</td>\n",
       "      <td>16797</td>\n",
       "      <td>Strawberries</td>\n",
       "      <td>24</td>\n",
       "      <td>4</td>\n",
       "    </tr>\n",
       "    <tr>\n",
       "      <th>12</th>\n",
       "      <td>1488</td>\n",
       "      <td>0.150</td>\n",
       "      <td>39275</td>\n",
       "      <td>Organic Blueberries</td>\n",
       "      <td>123</td>\n",
       "      <td>4</td>\n",
       "    </tr>\n",
       "    <tr>\n",
       "      <th>13</th>\n",
       "      <td>1141</td>\n",
       "      <td>0.115</td>\n",
       "      <td>45007</td>\n",
       "      <td>Organic Zucchini</td>\n",
       "      <td>83</td>\n",
       "      <td>4</td>\n",
       "    </tr>\n",
       "    <tr>\n",
       "      <th>14</th>\n",
       "      <td>1128</td>\n",
       "      <td>0.114</td>\n",
       "      <td>49683</td>\n",
       "      <td>Cucumber Kirby</td>\n",
       "      <td>83</td>\n",
       "      <td>4</td>\n",
       "    </tr>\n",
       "    <tr>\n",
       "      <th>15</th>\n",
       "      <td>1005</td>\n",
       "      <td>0.101</td>\n",
       "      <td>40706</td>\n",
       "      <td>Organic Grape Tomatoes</td>\n",
       "      <td>123</td>\n",
       "      <td>4</td>\n",
       "    </tr>\n",
       "    <tr>\n",
       "      <th>16</th>\n",
       "      <td>906</td>\n",
       "      <td>0.091</td>\n",
       "      <td>49235</td>\n",
       "      <td>Organic Half &amp; Half</td>\n",
       "      <td>53</td>\n",
       "      <td>16</td>\n",
       "    </tr>\n",
       "    <tr>\n",
       "      <th>17</th>\n",
       "      <td>889</td>\n",
       "      <td>0.089</td>\n",
       "      <td>12341</td>\n",
       "      <td>Hass Avocados</td>\n",
       "      <td>32</td>\n",
       "      <td>4</td>\n",
       "    </tr>\n",
       "    <tr>\n",
       "      <th>18</th>\n",
       "      <td>861</td>\n",
       "      <td>0.087</td>\n",
       "      <td>27845</td>\n",
       "      <td>Organic Whole Milk</td>\n",
       "      <td>84</td>\n",
       "      <td>16</td>\n",
       "    </tr>\n",
       "    <tr>\n",
       "      <th>19</th>\n",
       "      <td>834</td>\n",
       "      <td>0.084</td>\n",
       "      <td>43352</td>\n",
       "      <td>Raspberries</td>\n",
       "      <td>32</td>\n",
       "      <td>4</td>\n",
       "    </tr>\n",
       "  </tbody>\n",
       "</table>\n",
       "</div>"
      ],
      "text/plain": [
       "    cnt_users  pct_users  product_id            product_name  aisle_id  \\\n",
       "0        5674      0.571       24852                  Banana        24   \n",
       "1        4976      0.501       13176  Bag of Organic Bananas        24   \n",
       "2        4859      0.489       21137    Organic Strawberries        24   \n",
       "3        4470      0.450       21903    Organic Baby Spinach       123   \n",
       "4        3164      0.318       47209    Organic Hass Avocado        24   \n",
       "5        3055      0.307       26209                   Limes        24   \n",
       "6        2269      0.228       22935    Organic Yellow Onion        83   \n",
       "7        2173      0.219       47626             Large Lemon        24   \n",
       "8        2132      0.215       27966     Organic Raspberries       123   \n",
       "9        2127      0.214       47766         Organic Avocado        24   \n",
       "10       1575      0.159       24964          Organic Garlic        83   \n",
       "11       1500      0.151       16797            Strawberries        24   \n",
       "12       1488      0.150       39275     Organic Blueberries       123   \n",
       "13       1141      0.115       45007        Organic Zucchini        83   \n",
       "14       1128      0.114       49683          Cucumber Kirby        83   \n",
       "15       1005      0.101       40706  Organic Grape Tomatoes       123   \n",
       "16        906      0.091       49235     Organic Half & Half        53   \n",
       "17        889      0.089       12341           Hass Avocados        32   \n",
       "18        861      0.087       27845      Organic Whole Milk        84   \n",
       "19        834      0.084       43352             Raspberries        32   \n",
       "\n",
       "    department_id  \n",
       "0               4  \n",
       "1               4  \n",
       "2               4  \n",
       "3               4  \n",
       "4               4  \n",
       "5               4  \n",
       "6               4  \n",
       "7               4  \n",
       "8               4  \n",
       "9               4  \n",
       "10              4  \n",
       "11              4  \n",
       "12              4  \n",
       "13              4  \n",
       "14              4  \n",
       "15              4  \n",
       "16             16  \n",
       "17              4  \n",
       "18             16  \n",
       "19              4  "
      ]
     },
     "execution_count": 64,
     "metadata": {},
     "output_type": "execute_result"
    }
   ],
   "source": [
    "model_diversity = diversity(model, interactions_valid, k=k).rename({'item_id': 'product_id'}, axis=1)\n",
    "model_diversity = pd.merge(model_diversity, products_df, on='product_id', how='inner')\n",
    "model_diversity = model_diversity[['cnt_users', 'pct_users', 'product_id', 'product_name', 'aisle_id', 'department_id']]\n",
    "model_diversity.head(20)"
   ]
  },
  {
   "cell_type": "code",
   "execution_count": 65,
   "metadata": {},
   "outputs": [
    {
     "data": {
      "text/plain": [
       "0.154"
      ]
     },
     "execution_count": 65,
     "metadata": {},
     "output_type": "execute_result"
    }
   ],
   "source": [
    "coverage = np.mean(model_diversity['cnt_users'] > 0)\n",
    "round(coverage, 3)"
   ]
  },
  {
   "cell_type": "code",
   "execution_count": 66,
   "metadata": {},
   "outputs": [
    {
     "data": {
      "text/plain": [
       "45.63"
      ]
     },
     "execution_count": 66,
     "metadata": {},
     "output_type": "execute_result"
    }
   ],
   "source": [
    "nonzero = model_diversity[model_diversity.cnt_users > 0]\n",
    "entropy = -np.sum(nonzero['pct_users'] * np.log2(nonzero['pct_users']))\n",
    "round(entropy, 2)"
   ]
  },
  {
   "cell_type": "code",
   "execution_count": 67,
   "metadata": {},
   "outputs": [
    {
     "data": {
      "image/png": "[encoded data removed]",
      "text/plain": [
       "<Figure size 1152x288 with 1 Axes>"
      ]
     },
     "metadata": {},
     "output_type": "display_data"
    }
   ],
   "source": [
    "fig, axes = plt.subplots(1, 1, figsize=[16, 4])\n",
    "N = 50\n",
    "\n",
    "topN = model_diversity.iloc[:N, :]\n",
    "axes.bar(topN.index.values + 1, topN.pct_users, width=1, edgecolor='black', alpha=0.75)\n",
    "axes.set(xlabel='Item Rank', ylabel='Percentage of Users', title='Percentage of Users Recommended by Item Rank')\n",
    "plt.show()"
   ]
  },
  {
   "cell_type": "markdown",
   "metadata": {},
   "source": [
    "#### Get Similar Items for a Few Items"
   ]
  },
  {
   "cell_type": "code",
   "execution_count": 68,
   "metadata": {},
   "outputs": [
    {
     "name": "stdout",
     "output_type": "stream",
     "text": [
      "random user: 143264\n"
     ]
    }
   ],
   "source": [
    "random_user = np.random.choice(valid_users)\n",
    "print(\"random user: {}\".format(random_user))"
   ]
  },
  {
   "cell_type": "code",
   "execution_count": 69,
   "metadata": {},
   "outputs": [
    {
     "data": {
      "text/html": [
       "<div>\n",
       "<style scoped>\n",
       "    .dataframe tbody tr th:only-of-type {\n",
       "        vertical-align: middle;\n",
       "    }\n",
       "\n",
       "    .dataframe tbody tr th {\n",
       "        vertical-align: top;\n",
       "    }\n",
       "\n",
       "    .dataframe thead th {\n",
       "        text-align: right;\n",
       "    }\n",
       "</style>\n",
       "<table border=\"1\" class=\"dataframe\">\n",
       "  <thead>\n",
       "    <tr style=\"text-align: right;\">\n",
       "      <th></th>\n",
       "      <th>product_name</th>\n",
       "      <th>aisle_id</th>\n",
       "      <th>department_id</th>\n",
       "    </tr>\n",
       "    <tr>\n",
       "      <th>product_id</th>\n",
       "      <th></th>\n",
       "      <th></th>\n",
       "      <th></th>\n",
       "    </tr>\n",
       "  </thead>\n",
       "  <tbody>\n",
       "    <tr>\n",
       "      <th>27360</th>\n",
       "      <td>Boneless Skinless Chicken Breast Fillets</td>\n",
       "      <td>49</td>\n",
       "      <td>12</td>\n",
       "    </tr>\n",
       "    <tr>\n",
       "      <th>47977</th>\n",
       "      <td>Grapefruit Sparkling Water</td>\n",
       "      <td>115</td>\n",
       "      <td>7</td>\n",
       "    </tr>\n",
       "    <tr>\n",
       "      <th>24097</th>\n",
       "      <td>Rotini Pasta</td>\n",
       "      <td>131</td>\n",
       "      <td>9</td>\n",
       "    </tr>\n",
       "    <tr>\n",
       "      <th>48205</th>\n",
       "      <td>Spinach</td>\n",
       "      <td>123</td>\n",
       "      <td>4</td>\n",
       "    </tr>\n",
       "    <tr>\n",
       "      <th>19604</th>\n",
       "      <td>Medium Scarlet Raspberries</td>\n",
       "      <td>24</td>\n",
       "      <td>4</td>\n",
       "    </tr>\n",
       "    <tr>\n",
       "      <th>48527</th>\n",
       "      <td>Avocado</td>\n",
       "      <td>24</td>\n",
       "      <td>4</td>\n",
       "    </tr>\n",
       "    <tr>\n",
       "      <th>16414</th>\n",
       "      <td>Finely Shredded Parmesan Cheese</td>\n",
       "      <td>21</td>\n",
       "      <td>16</td>\n",
       "    </tr>\n",
       "    <tr>\n",
       "      <th>43205</th>\n",
       "      <td>Low Sodium Black Beans</td>\n",
       "      <td>59</td>\n",
       "      <td>15</td>\n",
       "    </tr>\n",
       "    <tr>\n",
       "      <th>31573</th>\n",
       "      <td>Whole Grain Brown Ready Rice</td>\n",
       "      <td>4</td>\n",
       "      <td>9</td>\n",
       "    </tr>\n",
       "    <tr>\n",
       "      <th>24852</th>\n",
       "      <td>Banana</td>\n",
       "      <td>24</td>\n",
       "      <td>4</td>\n",
       "    </tr>\n",
       "  </tbody>\n",
       "</table>\n",
       "</div>"
      ],
      "text/plain": [
       "                                        product_name  aisle_id  department_id\n",
       "product_id                                                                   \n",
       "27360       Boneless Skinless Chicken Breast Fillets        49             12\n",
       "47977                     Grapefruit Sparkling Water       115              7\n",
       "24097                                   Rotini Pasta       131              9\n",
       "48205                                        Spinach       123              4\n",
       "19604                     Medium Scarlet Raspberries        24              4\n",
       "48527                                        Avocado        24              4\n",
       "16414                Finely Shredded Parmesan Cheese        21             16\n",
       "43205                         Low Sodium Black Beans        59             15\n",
       "31573                   Whole Grain Brown Ready Rice         4              9\n",
       "24852                                         Banana        24              4"
      ]
     },
     "execution_count": 69,
     "metadata": {},
     "output_type": "execute_result"
    }
   ],
   "source": [
    "random_user_recs = valid_recs.loc[random_user]\n",
    "random_user_recs = products_df[products_df.product_id.isin(random_user_recs)].set_index('product_id').loc[random_user_recs]\n",
    "random_user_recs"
   ]
  },
  {
   "cell_type": "markdown",
   "metadata": {},
   "source": [
    "#### Look at Similar Products for a Few of the Random User's Recommended Products"
   ]
  },
  {
   "cell_type": "code",
   "execution_count": 70,
   "metadata": {},
   "outputs": [
    {
     "data": {
      "text/html": [
       "<div>\n",
       "<style scoped>\n",
       "    .dataframe tbody tr th:only-of-type {\n",
       "        vertical-align: middle;\n",
       "    }\n",
       "\n",
       "    .dataframe tbody tr th {\n",
       "        vertical-align: top;\n",
       "    }\n",
       "\n",
       "    .dataframe thead th {\n",
       "        text-align: right;\n",
       "    }\n",
       "</style>\n",
       "<table border=\"1\" class=\"dataframe\">\n",
       "  <thead>\n",
       "    <tr style=\"text-align: right;\">\n",
       "      <th></th>\n",
       "      <th>product_name</th>\n",
       "      <th>aisle_id</th>\n",
       "      <th>department_id</th>\n",
       "    </tr>\n",
       "    <tr>\n",
       "      <th>product_id</th>\n",
       "      <th></th>\n",
       "      <th></th>\n",
       "      <th></th>\n",
       "    </tr>\n",
       "  </thead>\n",
       "  <tbody>\n",
       "    <tr>\n",
       "      <th>14999</th>\n",
       "      <td>Grade A Large Brown Eggs</td>\n",
       "      <td>86</td>\n",
       "      <td>16</td>\n",
       "    </tr>\n",
       "    <tr>\n",
       "      <th>45698</th>\n",
       "      <td>One Ply Choose A Size Big Roll Paper Towel Rolls</td>\n",
       "      <td>54</td>\n",
       "      <td>17</td>\n",
       "    </tr>\n",
       "    <tr>\n",
       "      <th>4136</th>\n",
       "      <td>Living Herbs Potted Living Basil</td>\n",
       "      <td>16</td>\n",
       "      <td>4</td>\n",
       "    </tr>\n",
       "    <tr>\n",
       "      <th>15945</th>\n",
       "      <td>Freshly Shredded Parmesan Cheese</td>\n",
       "      <td>21</td>\n",
       "      <td>16</td>\n",
       "    </tr>\n",
       "    <tr>\n",
       "      <th>41771</th>\n",
       "      <td>Fresh European Style Baby Spinach</td>\n",
       "      <td>123</td>\n",
       "      <td>4</td>\n",
       "    </tr>\n",
       "    <tr>\n",
       "      <th>21144</th>\n",
       "      <td>Grab &amp; Go Classic Hummus With Pretzel Crisps</td>\n",
       "      <td>107</td>\n",
       "      <td>19</td>\n",
       "    </tr>\n",
       "    <tr>\n",
       "      <th>1447</th>\n",
       "      <td>Organic Baby Lettuces</td>\n",
       "      <td>123</td>\n",
       "      <td>4</td>\n",
       "    </tr>\n",
       "    <tr>\n",
       "      <th>3265</th>\n",
       "      <td>Mini Seedless Watermelon Pack</td>\n",
       "      <td>32</td>\n",
       "      <td>4</td>\n",
       "    </tr>\n",
       "    <tr>\n",
       "      <th>24750</th>\n",
       "      <td>Organic Whole Fryer Chicken</td>\n",
       "      <td>35</td>\n",
       "      <td>12</td>\n",
       "    </tr>\n",
       "    <tr>\n",
       "      <th>22472</th>\n",
       "      <td>Mesquite Smoked Turkey</td>\n",
       "      <td>96</td>\n",
       "      <td>20</td>\n",
       "    </tr>\n",
       "  </tbody>\n",
       "</table>\n",
       "</div>"
      ],
      "text/plain": [
       "                                                product_name  aisle_id  \\\n",
       "product_id                                                               \n",
       "14999                               Grade A Large Brown Eggs        86   \n",
       "45698       One Ply Choose A Size Big Roll Paper Towel Rolls        54   \n",
       "4136                        Living Herbs Potted Living Basil        16   \n",
       "15945                       Freshly Shredded Parmesan Cheese        21   \n",
       "41771                      Fresh European Style Baby Spinach       123   \n",
       "21144           Grab & Go Classic Hummus With Pretzel Crisps       107   \n",
       "1447                                   Organic Baby Lettuces       123   \n",
       "3265                           Mini Seedless Watermelon Pack        32   \n",
       "24750                            Organic Whole Fryer Chicken        35   \n",
       "22472                                 Mesquite Smoked Turkey        96   \n",
       "\n",
       "            department_id  \n",
       "product_id                 \n",
       "14999                  16  \n",
       "45698                  17  \n",
       "4136                    4  \n",
       "15945                  16  \n",
       "41771                   4  \n",
       "21144                  19  \n",
       "1447                    4  \n",
       "3265                    4  \n",
       "24750                  12  \n",
       "22472                  20  "
      ]
     },
     "execution_count": 70,
     "metadata": {},
     "output_type": "execute_result"
    }
   ],
   "source": [
    "most_similar_items = model.similar_items(48370)\n",
    "most_similar_items = products_df.set_index('product_id').loc[most_similar_items]\n",
    "most_similar_items"
   ]
  },
  {
   "cell_type": "markdown",
   "metadata": {},
   "source": [
    "### Asess Model Performance on Novel Item Recommendations"
   ]
  },
  {
   "cell_type": "markdown",
   "metadata": {},
   "source": [
    "#### Save an Array of the Most Popular Items in the Training Data"
   ]
  },
  {
   "cell_type": "code",
   "execution_count": 71,
   "metadata": {},
   "outputs": [
    {
     "name": "stdout",
     "output_type": "stream",
     "text": [
      "33362\n"
     ]
    },
    {
     "data": {
      "text/plain": [
       "product_id\n",
       "24852    3333\n",
       "13176    2904\n",
       "21137    2565\n",
       "21903    2511\n",
       "47209    2003\n",
       "47626    1983\n",
       "26209    1950\n",
       "47766    1841\n",
       "16797    1839\n",
       "39275    1590\n",
       "Name: user_id, dtype: int64"
      ]
     },
     "execution_count": 71,
     "metadata": {},
     "output_type": "execute_result"
    }
   ],
   "source": [
    "most_popular = interactions_train.groupby('product_id')['user_id'].count().sort_values(ascending=False)\n",
    "print(len(most_popular))\n",
    "most_popular.head(10)"
   ]
  },
  {
   "cell_type": "code",
   "execution_count": 72,
   "metadata": {},
   "outputs": [
    {
     "data": {
      "text/plain": [
       "0    24852\n",
       "1    13176\n",
       "2    21137\n",
       "3    21903\n",
       "4    47209\n",
       "5    47626\n",
       "6    26209\n",
       "7    47766\n",
       "8    16797\n",
       "9    39275\n",
       "dtype: int64"
      ]
     },
     "execution_count": 72,
     "metadata": {},
     "output_type": "execute_result"
    }
   ],
   "source": [
    "most_popular = pd.Series(most_popular.index.values)\n",
    "most_popular[:10]"
   ]
  },
  {
   "cell_type": "markdown",
   "metadata": {},
   "source": [
    "#### Save the TopK Most Popular Items Not Yet Previously Purchased for Each Customer"
   ]
  },
  {
   "cell_type": "code",
   "execution_count": 73,
   "metadata": {},
   "outputs": [
    {
     "data": {
      "text/plain": [
       "9936"
      ]
     },
     "execution_count": 73,
     "metadata": {},
     "output_type": "execute_result"
    }
   ],
   "source": [
    "train_user_items = interactions_train.groupby('user_id')['product_id'].apply(set).to_dict()\n",
    "train_user_items = {key: val for key, val in test_user_items.items() if key in set(valid_users)}\n",
    "most_popular_new = {user: most_popular[~most_popular.isin(train_user_items[user])][:k] for user in train_user_items.keys()}\n",
    "len(most_popular_new)"
   ]
  },
  {
   "cell_type": "code",
   "execution_count": 74,
   "metadata": {},
   "outputs": [
    {
     "data": {
      "text/plain": [
       "[33, 61, 72, 76, 84, 109, 140, 146, 173, 190]"
      ]
     },
     "execution_count": 74,
     "metadata": {},
     "output_type": "execute_result"
    }
   ],
   "source": [
    "list(most_popular_new.keys())[:10]"
   ]
  },
  {
   "cell_type": "code",
   "execution_count": 75,
   "metadata": {},
   "outputs": [
    {
     "data": {
      "text/plain": [
       "0     24852\n",
       "5     47626\n",
       "7     47766\n",
       "8     16797\n",
       "9     39275\n",
       "12    45007\n",
       "14    49683\n",
       "15     4605\n",
       "18     4920\n",
       "19    42265\n",
       "dtype: int64"
      ]
     },
     "execution_count": 75,
     "metadata": {},
     "output_type": "execute_result"
    }
   ],
   "source": [
    "most_popular_new[140]"
   ]
  },
  {
   "cell_type": "markdown",
   "metadata": {},
   "source": [
    "#### Calculate the Pure-Popularity Baseline Metrics on Previously Unpurchased Items"
   ]
  },
  {
   "cell_type": "code",
   "execution_count": 76,
   "metadata": {},
   "outputs": [],
   "source": [
    "base_new_hrt = np.mean([int(len(set(most_popular_new[user]) & set(test_user_items[user])) > 0)                           for user in test_user_items.keys()])\n",
    "base_new_pre = np.mean([len(set(most_popular_new[user]) & set(test_user_items[user])) / len(set(most_popular_new[user])) for user in test_user_items.keys()])\n",
    "base_new_rec = np.mean([len(set(most_popular_new[user]) & set(test_user_items[user])) / len(set(test_user_items[user]))  for user in test_user_items.keys()])"
   ]
  },
  {
   "cell_type": "code",
   "execution_count": 77,
   "metadata": {},
   "outputs": [
    {
     "name": "stdout",
     "output_type": "stream",
     "text": [
      "number of test users: 9936\n",
      "baseline new hit rate: 0.000\n",
      "baseline new precision: 0.000\n",
      "baseline new recall: 0.000\n"
     ]
    }
   ],
   "source": [
    "print(\"number of test users: {}\".format(len(test_user_items)))\n",
    "print(\"baseline new hit rate: {:.3f}\".format(base_new_hrt))\n",
    "print(\"baseline new precision: {:.3f}\".format(base_new_pre))\n",
    "print(\"baseline new recall: {:.3f}\".format(base_new_rec))"
   ]
  },
  {
   "cell_type": "markdown",
   "metadata": {},
   "source": [
    "#### Calculate Model Performance Excluding Training Items"
   ]
  },
  {
   "cell_type": "code",
   "execution_count": 78,
   "metadata": {},
   "outputs": [
    {
     "name": "stdout",
     "output_type": "stream",
     "text": [
      "CPU times: user 1min 38s, sys: 7.85 ms, total: 1min 38s\n",
      "Wall time: 1min 38s\n"
     ]
    }
   ],
   "source": [
    "%%time\n",
    "model_hrt_new = hit_rate(model, interactions_valid, k=k, filter_previous=True)\n",
    "model_pre_new = precision(model, interactions_valid, k=k, filter_previous=True)\n",
    "model_rec_new = recall(model, interactions_valid, k=k, filter_previous=True)"
   ]
  },
  {
   "cell_type": "code",
   "execution_count": 79,
   "metadata": {},
   "outputs": [
    {
     "name": "stdout",
     "output_type": "stream",
     "text": [
      "model new hit rate: 0.333\n",
      "model new precision: 0.043\n",
      "model new recall: 0.026\n"
     ]
    }
   ],
   "source": [
    "print(\"model new hit rate: {}\".format(round(model_hrt_new, 3)))\n",
    "print(\"model new precision: {}\".format(round(model_pre_new, 3)))\n",
    "print(\"model new recall: {}\".format(round(model_rec_new, 3)))"
   ]
  },
  {
   "cell_type": "markdown",
   "metadata": {},
   "source": [
    "### Compare **RankFM** Performance to the **LightFM** Package"
   ]
  },
  {
   "cell_type": "code",
   "execution_count": 81,
   "metadata": {},
   "outputs": [],
   "source": [
    "from lightfm.data import Dataset\n",
    "from lightfm import LightFM, evaluation"
   ]
  },
  {
   "cell_type": "markdown",
   "metadata": {},
   "source": [
    "#### Create Required Data Structures"
   ]
  },
  {
   "cell_type": "code",
   "execution_count": 82,
   "metadata": {},
   "outputs": [
    {
     "name": "stdout",
     "output_type": "stream",
     "text": [
      "10000 35321\n"
     ]
    },
    {
     "data": {
      "text/plain": [
       "(<10000x35321 sparse matrix of type '<class 'numpy.int32'>'\n",
       " \twith 552348 stored elements in COOrdinate format>,\n",
       " <10000x35321 sparse matrix of type '<class 'numpy.float32'>'\n",
       " \twith 552348 stored elements in COOrdinate format>)"
      ]
     },
     "execution_count": 82,
     "metadata": {},
     "output_type": "execute_result"
    }
   ],
   "source": [
    "all_users = interactions_total.user_id.unique()\n",
    "all_items = interactions_total.product_id.unique()\n",
    "print(len(all_users), len(all_items))\n",
    "\n",
    "lfm_dataset = Dataset()\n",
    "lfm_dataset.fit(users=all_users, items=all_items)\n",
    "\n",
    "lfm_interactions, lfm_weights = lfm_dataset.build_interactions(zip(interactions_train['user_id'], interactions_train['product_id'], sample_weight_train))\n",
    "lfm_interactions, lfm_weights"
   ]
  },
  {
   "cell_type": "markdown",
   "metadata": {},
   "source": [
    "#### Fit the Model"
   ]
  },
  {
   "cell_type": "code",
   "execution_count": 83,
   "metadata": {},
   "outputs": [
    {
     "data": {
      "text/plain": [
       "<lightfm.lightfm.LightFM at 0x7fd15cd60df0>"
      ]
     },
     "execution_count": 83,
     "metadata": {},
     "output_type": "execute_result"
    }
   ],
   "source": [
    "lfm_model = LightFM(no_components=50, loss='warp', max_sampled=50)\n",
    "lfm_model"
   ]
  },
  {
   "cell_type": "code",
   "execution_count": 84,
   "metadata": {},
   "outputs": [
    {
     "name": "stderr",
     "output_type": "stream",
     "text": [
      "Epoch: 100%|██████████| 20/20 [00:18<00:00,  1.08it/s]"
     ]
    },
    {
     "name": "stdout",
     "output_type": "stream",
     "text": [
      "CPU times: user 18.5 s, sys: 4.05 ms, total: 18.5 s\n",
      "Wall time: 18.5 s\n"
     ]
    },
    {
     "name": "stderr",
     "output_type": "stream",
     "text": [
      "\n"
     ]
    },
    {
     "data": {
      "text/plain": [
       "<lightfm.lightfm.LightFM at 0x7fd15cd60df0>"
      ]
     },
     "execution_count": 84,
     "metadata": {},
     "output_type": "execute_result"
    }
   ],
   "source": [
    "%%time\n",
    "lfm_model.fit(lfm_interactions, epochs=20, verbose=True)"
   ]
  },
  {
   "cell_type": "code",
   "execution_count": 85,
   "metadata": {},
   "outputs": [
    {
     "name": "stdout",
     "output_type": "stream",
     "text": [
      "(10000,) (35321,)\n",
      "(9936,) (25320,)\n"
     ]
    }
   ],
   "source": [
    "print(all_users.shape, all_items.shape)\n",
    "print(valid_users.shape, valid_items.shape)"
   ]
  },
  {
   "cell_type": "markdown",
   "metadata": {},
   "source": [
    "#### Evaluate LightFM's Performance on Hold-Out Data"
   ]
  },
  {
   "cell_type": "code",
   "execution_count": 86,
   "metadata": {},
   "outputs": [
    {
     "data": {
      "text/plain": [
       "<10000x35321 sparse matrix of type '<class 'numpy.int32'>'\n",
       "\twith 262425 stored elements in COOrdinate format>"
      ]
     },
     "execution_count": 86,
     "metadata": {},
     "output_type": "execute_result"
    }
   ],
   "source": [
    "lfm_test_interactions, lfm_test_weights = lfm_dataset.build_interactions(zip(interactions_valid['user_id'], interactions_valid['product_id']))\n",
    "lfm_test_interactions"
   ]
  },
  {
   "cell_type": "code",
   "execution_count": 87,
   "metadata": {},
   "outputs": [
    {
     "name": "stdout",
     "output_type": "stream",
     "text": [
      "CPU times: user 46.9 s, sys: 0 ns, total: 46.9 s\n",
      "Wall time: 46.9 s\n"
     ]
    }
   ],
   "source": [
    "%%time\n",
    "lfm_rnk = evaluation.reciprocal_rank(lfm_model, lfm_test_interactions).mean()\n",
    "lfm_pre = evaluation.precision_at_k(lfm_model, lfm_test_interactions, k=k).mean()\n",
    "lfm_rec = evaluation.recall_at_k(lfm_model, lfm_test_interactions, k=k).mean()"
   ]
  },
  {
   "cell_type": "code",
   "execution_count": 88,
   "metadata": {},
   "outputs": [
    {
     "name": "stdout",
     "output_type": "stream",
     "text": [
      "reciprocal_rank: 0.408\n",
      "precision: 0.177\n",
      "recall: 0.091\n"
     ]
    }
   ],
   "source": [
    "print(\"reciprocal_rank: {:.3f}\".format(lfm_rnk))\n",
    "print(\"precision: {:.3f}\".format(lfm_pre))\n",
    "print(\"recall: {:.3f}\".format(lfm_rec))"
   ]
  }
 ],
 "metadata": {
  "kernelspec": {
   "display_name": "Python 3",
   "language": "python",
   "name": "python3"
  },
  "language_info": {
   "codemirror_mode": {
    "name": "ipython",
    "version": 3
   },
   "file_extension": ".py",
   "mimetype": "text/x-python",
   "name": "python",
   "nbconvert_exporter": "python",
   "pygments_lexer": "ipython3",
   "version": "3.8.8"
  }
 },
 "nbformat": 4,
 "nbformat_minor": 4
}
