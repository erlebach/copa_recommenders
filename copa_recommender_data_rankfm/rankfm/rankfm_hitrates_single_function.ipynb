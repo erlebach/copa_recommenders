{
 "cells": [
  {
   "cell_type": "code",
   "execution_count": 1,
   "id": "30420a00-b8b5-4abd-8ec6-177ecbc16bd6",
   "metadata": {
    "tags": []
   },
   "outputs": [],
   "source": [
    "%load_ext autoreload\n",
    "%autoreload 2"
   ]
  },
  {
   "cell_type": "code",
   "execution_count": 4,
   "id": "b617c0a3-0829-452e-a991-8625e9a4fa16",
   "metadata": {
    "tags": []
   },
   "outputs": [],
   "source": [
    "import hit_rates as hr\n",
    "import rankfmlib as fmlib\n",
    "# new library for performance studies built from rankfmlib to read a single file rather than yearly files.\n",
    "import newlib\n",
    "import pandas as pd\n",
    "import numpy as np\n",
    "from sklearn.model_selection import train_test_split\n",
    "from rankfm.rankfm import RankFM\n",
    "import function_lib as flib\n",
    "\n",
    "from rankfm.evaluation import hit_rate"
   ]
  },
  {
   "cell_type": "markdown",
   "id": "f30a59d9-2a85-487c-8b73-657a77275def",
   "metadata": {},
   "source": [
    "Read member attributes"
   ]
  },
  {
   "cell_type": "code",
   "execution_count": 5,
   "id": "720ff300-633a-4201-aa65-2b0f72392770",
   "metadata": {},
   "outputs": [
    {
     "name": "stdout",
     "output_type": "stream",
     "text": [
      "Index(['MEMBER_ID', 'TRUE_OD', 'D', 'FLIGHT_DATE', 'BOOKING_DATE',\n",
      "       'TICKET_SALES_DATE', 'TICKET_NUMBER', 'TRUE_ORIGIN_COUNTRY',\n",
      "       'ADDR_COUNTRY', 'PNR', 'PARTY_SZ', 'size', 'booking_date',\n",
      "       'booking_dowk', 'booking_mo', 'flight_date', 'flight_dowk', 'flight_mo',\n",
      "       'TIER_LEVEL', 'GENDER', 'BIRTH_DATE', 'NATIONALITY', 'ADDR_COUNTRY_y',\n",
      "       'age_at_flight'],\n",
      "      dtype='object') (218298, 24)\n"
     ]
    }
   ],
   "source": [
    "# Perhaps add an argument stating which colums are attributes\n",
    "interaction_dct = newlib.read_data_attributes_single_file(\"activity_reduced_with_attributes.csv\",\n",
    "                                                        age_cuts=[0,30,50,70,150])\n",
    "# df_member_attrib #[['avg_yr_l','avg_yr_h']]"
   ]
  },
  {
   "cell_type": "code",
   "execution_count": 6,
   "id": "47051af3-863c-4a04-92b7-63c3dcf84666",
   "metadata": {},
   "outputs": [
    {
     "name": "stdout",
     "output_type": "stream",
     "text": [
      "dict_keys(['df_members', 'df_user_attr', 'df_item_attr', 'data_train', 'data_valid', 'data_test'])\n"
     ]
    }
   ],
   "source": [
    "interaction_dct.keys()\n",
    "newlib.train_valid_dct(interaction_dct, train_perc=0.7, valid_perc=0.1)\n",
    "print(interaction_dct.keys())"
   ]
  },
  {
   "cell_type": "code",
   "execution_count": 7,
   "id": "b8d39e9c-ff56-49f4-9512-d7212438b407",
   "metadata": {},
   "outputs": [],
   "source": [
    "interaction_dct.keys(), interaction_dct['df_user_attr'];"
   ]
  },
  {
   "cell_type": "code",
   "execution_count": 8,
   "id": "ff06e62b-851a-4690-9239-9da9991fdf7d",
   "metadata": {},
   "outputs": [
    {
     "data": {
      "text/plain": [
       "((152810, 2), (218298, 2))"
      ]
     },
     "execution_count": 8,
     "metadata": {},
     "output_type": "execute_result"
    }
   ],
   "source": [
    "data_train = interaction_dct['data_train']\n",
    "data_valid = interaction_dct['data_valid']\n",
    "df_members = interaction_dct['df_members']\n",
    "data_train.shape, df_members.shape, "
   ]
  },
  {
   "cell_type": "code",
   "execution_count": 9,
   "id": "dabc3a78-4b2c-4e1d-92e0-0b2ff5fd442d",
   "metadata": {},
   "outputs": [
    {
     "data": {
      "text/plain": [
       "41745"
      ]
     },
     "execution_count": 9,
     "metadata": {},
     "output_type": "execute_result"
    }
   ],
   "source": [
    "data_train.MEMBER_ID.nunique()"
   ]
  },
  {
   "cell_type": "code",
   "execution_count": 10,
   "id": "d6489efd-a661-489d-99c7-9bdf7a76b928",
   "metadata": {
    "tags": []
   },
   "outputs": [
    {
     "data": {
      "text/plain": [
       "(41745, 46072)"
      ]
     },
     "execution_count": 10,
     "metadata": {},
     "output_type": "execute_result"
    }
   ],
   "source": [
    "df_user_attrib = interaction_dct['df_user_attr']\n",
    "data_train.MEMBER_ID.nunique(), df_user_attrib.MEMBER_ID.nunique()"
   ]
  },
  {
   "cell_type": "code",
   "execution_count": 11,
   "id": "cd80de2d-352b-47e4-9dba-1f91818c99d4",
   "metadata": {},
   "outputs": [
    {
     "data": {
      "text/plain": [
       "set()"
      ]
     },
     "execution_count": 11,
     "metadata": {},
     "output_type": "execute_result"
    }
   ],
   "source": [
    "# Check that member_attrib is a superset of data_train\n",
    "df_member_attrib = interaction_dct['df_user_attr']\n",
    "set(data_train.MEMBER_ID) - set(df_member_attrib.MEMBER_ID)"
   ]
  },
  {
   "cell_type": "code",
   "execution_count": 12,
   "id": "967d9dfc-c6dc-4be3-ac1b-0bc5e5730de4",
   "metadata": {},
   "outputs": [
    {
     "data": {
      "text/plain": [
       "((152810, 2), (21829, 2))"
      ]
     },
     "execution_count": 12,
     "metadata": {},
     "output_type": "execute_result"
    }
   ],
   "source": [
    "data_train.shape, data_valid.shape"
   ]
  },
  {
   "cell_type": "code",
   "execution_count": 13,
   "id": "4f2ff50a-60c0-4938-b0b7-2628dd6f3bed",
   "metadata": {},
   "outputs": [
    {
     "data": {
      "text/plain": [
       "(41745, 15752)"
      ]
     },
     "execution_count": 13,
     "metadata": {},
     "output_type": "execute_result"
    }
   ],
   "source": [
    "mtrain = set(data_train.MEMBER_ID)\n",
    "mvalid = set(data_valid.MEMBER_ID)\n",
    "len(mtrain), len(mvalid), # mvalid.intersection(mtrain), #mtrain"
   ]
  },
  {
   "cell_type": "code",
   "execution_count": 14,
   "id": "111dda8b-d3fc-4ad5-83bf-51714c98e31d",
   "metadata": {},
   "outputs": [
    {
     "data": {
      "text/plain": [
       "dict_keys(['df_members', 'df_user_attr', 'df_item_attr', 'data_train', 'data_valid', 'data_test'])"
      ]
     },
     "execution_count": 14,
     "metadata": {},
     "output_type": "execute_result"
    }
   ],
   "source": [
    "interaction_dct.keys()"
   ]
  },
  {
   "cell_type": "code",
   "execution_count": 15,
   "id": "4b7e0094-1d63-41f9-b6fe-e8e697649393",
   "metadata": {},
   "outputs": [
    {
     "data": {
      "text/html": [
       "<div>\n",
       "<style scoped>\n",
       "    .dataframe tbody tr th:only-of-type {\n",
       "        vertical-align: middle;\n",
       "    }\n",
       "\n",
       "    .dataframe tbody tr th {\n",
       "        vertical-align: top;\n",
       "    }\n",
       "\n",
       "    .dataframe thead th {\n",
       "        text-align: right;\n",
       "    }\n",
       "</style>\n",
       "<table border=\"1\" class=\"dataframe\">\n",
       "  <thead>\n",
       "    <tr style=\"text-align: right;\">\n",
       "      <th></th>\n",
       "      <th>MEMBER_ID</th>\n",
       "      <th>age_dep_(0, 30]</th>\n",
       "      <th>age_dep_(30, 50]</th>\n",
       "      <th>age_dep_(50, 70]</th>\n",
       "      <th>age_dep_(70, 150]</th>\n",
       "    </tr>\n",
       "  </thead>\n",
       "  <tbody>\n",
       "    <tr>\n",
       "      <th>0</th>\n",
       "      <td>100031203</td>\n",
       "      <td>0</td>\n",
       "      <td>0</td>\n",
       "      <td>1</td>\n",
       "      <td>0</td>\n",
       "    </tr>\n",
       "    <tr>\n",
       "      <th>3</th>\n",
       "      <td>230019464</td>\n",
       "      <td>0</td>\n",
       "      <td>0</td>\n",
       "      <td>1</td>\n",
       "      <td>0</td>\n",
       "    </tr>\n",
       "  </tbody>\n",
       "</table>\n",
       "</div>"
      ],
      "text/plain": [
       "   MEMBER_ID  age_dep_(0, 30]  age_dep_(30, 50]  age_dep_(50, 70]  \\\n",
       "0  100031203                0                 0                 1   \n",
       "3  230019464                0                 0                 1   \n",
       "\n",
       "   age_dep_(70, 150]  \n",
       "0                  0  \n",
       "3                  0  "
      ]
     },
     "execution_count": 15,
     "metadata": {},
     "output_type": "execute_result"
    }
   ],
   "source": [
    "interaction_dct['df_user_attr'].head(2)"
   ]
  },
  {
   "cell_type": "code",
   "execution_count": 16,
   "id": "0c418035-b781-4d0a-a6aa-2fd4b049383d",
   "metadata": {},
   "outputs": [],
   "source": [
    "loss = 'warp'\n",
    "loss = 'bpr'  # nb neg samples = 1\n",
    "model = RankFM(factors=20, loss=loss, max_samples=10000, alpha=0.05, beta=0.1, learning_rate=0.1, learning_schedule='constant')"
   ]
  },
  {
   "cell_type": "markdown",
   "id": "f2d756b2-4e52-4278-b6b2-0e0bf7814413",
   "metadata": {},
   "source": [
    "The problem to solve: Why are results worse with filter=False? To figure this out, I may have to write my own recommender and hit_rate functions. \n",
    " 1) optimize parameter without attributes\n",
    " 2) optimize age brackets using just one attribute\n",
    " 3) optimize temperature brackets (destination features) using just one attribute\n",
    " 4) add gender, country of origin to the member attributes"
   ]
  },
  {
   "cell_type": "code",
   "execution_count": 20,
   "id": "5df38625-0bda-4677-9181-a7a0b6c01fd5",
   "metadata": {},
   "outputs": [
    {
     "name": "stdout",
     "output_type": "stream",
     "text": [
      "dict_keys(['df_members', 'df_user_attr', 'df_item_attr', 'data_train', 'data_valid', 'data_test'])\n",
      "hr (previous filtered):  0.29701704545454544\n",
      "hr (previous not filtered):  0.2122159090909091\n"
     ]
    }
   ],
   "source": [
    "newlib.run_model(model, interaction_dct, nb_epochs=120)"
   ]
  },
  {
   "cell_type": "markdown",
   "id": "54fc126f-1f01-4416-b01a-c8e7c6d4b640",
   "metadata": {},
   "source": [
    "___"
   ]
  },
  {
   "cell_type": "code",
   "execution_count": 21,
   "id": "a730d1c0-2b59-448b-8ae1-a02a02b37e60",
   "metadata": {},
   "outputs": [
    {
     "name": "stdout",
     "output_type": "stream",
     "text": [
      "-- nb epochs:  [50, 100, 250, 500, 1000]\n",
      "dict_keys(['df_members', 'df_user_attr', 'df_item_attr', 'data_train', 'data_valid', 'data_test'])\n",
      "hr (previous filtered):  0.26704545454545453\n",
      "hr (previous not filtered):  0.2046875\n",
      "------------------------------------------\n",
      "-- nb epochs:  [50, 100, 250, 500, 1000]\n",
      "dict_keys(['df_members', 'df_user_attr', 'df_item_attr', 'data_train', 'data_valid', 'data_test'])\n",
      "hr (previous filtered):  0.31150568181818183\n",
      "hr (previous not filtered):  0.2369318181818182\n",
      "------------------------------------------\n",
      "-- nb epochs:  [50, 100, 250, 500, 1000]\n",
      "dict_keys(['df_members', 'df_user_attr', 'df_item_attr', 'data_train', 'data_valid', 'data_test'])\n",
      "hr (previous filtered):  0.3221590909090909\n",
      "hr (previous not filtered):  0.22876420454545454\n",
      "------------------------------------------\n",
      "-- nb epochs:  [50, 100, 250, 500, 1000]\n",
      "dict_keys(['df_members', 'df_user_attr', 'df_item_attr', 'data_train', 'data_valid', 'data_test'])\n",
      "hr (previous filtered):  0.32911931818181817\n",
      "hr (previous not filtered):  0.22826704545454546\n",
      "------------------------------------------\n",
      "-- nb epochs:  [50, 100, 250, 500, 1000]\n",
      "dict_keys(['df_members', 'df_user_attr', 'df_item_attr', 'data_train', 'data_valid', 'data_test'])\n",
      "hr (previous filtered):  0.32436079545454544\n",
      "hr (previous not filtered):  0.2333806818181818\n",
      "------------------------------------------\n"
     ]
    }
   ],
   "source": [
    "nb_epochs = [50, 100, 250, 500, 1000]\n",
    "for epochs in nb_epochs:\n",
    "    print(\"-- nb epochs: \", epochs)\n",
    "    newlib.run_model(model, interaction_dct, nb_epochs=epochs)\n",
    "    print(\"------------------------------------------\")"
   ]
  },
  {
   "cell_type": "code",
   "execution_count": 22,
   "id": "5bfd74bb-e643-402e-9006-adc7aa878252",
   "metadata": {},
   "outputs": [
    {
     "name": "stdout",
     "output_type": "stream",
     "text": [
      "-- nb epochs:  50\n",
      "dict_keys(['df_members', 'df_user_attr', 'df_item_attr', 'data_train', 'data_valid', 'data_test'])\n",
      "hr (previous filtered):  0.2720880681818182\n",
      "hr (previous not filtered):  0.20717329545454546\n",
      "------------------------------------------\n",
      "-- nb epochs:  100\n",
      "dict_keys(['df_members', 'df_user_attr', 'df_item_attr', 'data_train', 'data_valid', 'data_test'])\n",
      "hr (previous filtered):  0.30170454545454545\n",
      "hr (previous not filtered):  0.23423295454545454\n",
      "------------------------------------------\n",
      "-- nb epochs:  250\n",
      "dict_keys(['df_members', 'df_user_attr', 'df_item_attr', 'data_train', 'data_valid', 'data_test'])\n",
      "hr (previous filtered):  0.31079545454545454\n",
      "hr (previous not filtered):  0.2317471590909091\n",
      "------------------------------------------\n",
      "-- nb epochs:  500\n",
      "dict_keys(['df_members', 'df_user_attr', 'df_item_attr', 'data_train', 'data_valid', 'data_test'])\n",
      "hr (previous filtered):  0.32457386363636365\n",
      "hr (previous not filtered):  0.22450284090909092\n",
      "------------------------------------------\n",
      "-- nb epochs:  1000\n",
      "dict_keys(['df_members', 'df_user_attr', 'df_item_attr', 'data_train', 'data_valid', 'data_test'])\n",
      "hr (previous filtered):  0.3119318181818182\n",
      "hr (previous not filtered):  0.23480113636363636\n",
      "------------------------------------------\n"
     ]
    }
   ],
   "source": [
    "nb_epochs = [50, 100, 250, 500, 1000]\n",
    "for epochs in nb_epochs:\n",
    "    print(\"-- nb epochs: \", epochs)\n",
    "    newlib.run_model(model, interaction_dct, nb_epochs=epochs)\n",
    "    print(\"------------------------------------------\")"
   ]
  },
  {
   "cell_type": "code",
   "execution_count": null,
   "id": "5a60e5df-face-40a5-aea4-6b1f1c996cdb",
   "metadata": {},
   "outputs": [],
   "source": [
    "members_train = data_train.MEMBER_ID.unique()  # returns ndarray\n",
    "members_valid = data_valid.MEMBER_ID.unique()"
   ]
  },
  {
   "cell_type": "code",
   "execution_count": null,
   "id": "16bf7e87-3240-4182-af5f-1f2090437107",
   "metadata": {},
   "outputs": [],
   "source": [
    "mtrain = set(members_train)\n",
    "mvalid = set(members_valid)\n",
    "len(mvalid), len(mtrain), mvalid.intersection(mtrain);"
   ]
  },
  {
   "cell_type": "code",
   "execution_count": null,
   "id": "7dfd64c8-993b-44a2-88c0-62dd7e723f05",
   "metadata": {},
   "outputs": [],
   "source": [
    "model.recommend(members_valid, n_items=5, filter_previous=True, cold_start='drop')"
   ]
  },
  {
   "cell_type": "code",
   "execution_count": null,
   "id": "c193374b-18ef-4eed-9710-8c8af5ff9164",
   "metadata": {},
   "outputs": [],
   "source": [
    "members_valid.shape"
   ]
  },
  {
   "cell_type": "code",
   "execution_count": null,
   "id": "1494c68a-25a9-4c09-94f2-23076b07c17e",
   "metadata": {},
   "outputs": [],
   "source": [
    "mvalid_np = np.asarray(mvalid)"
   ]
  },
  {
   "cell_type": "code",
   "execution_count": null,
   "id": "a87edf7d-e020-428b-a679-4d7b9d7cff7a",
   "metadata": {},
   "outputs": [],
   "source": [
    "data_valid"
   ]
  },
  {
   "cell_type": "code",
   "execution_count": null,
   "id": "33f124cd-2db1-46f0-8a76-6605b15b3ec8",
   "metadata": {},
   "outputs": [],
   "source": [
    "data_test"
   ]
  },
  {
   "cell_type": "code",
   "execution_count": null,
   "id": "158ca7ef-08e8-4262-8415-1e23814bcc58",
   "metadata": {},
   "outputs": [],
   "source": [
    "hit_rate(model, data_test, k=5, filter_previous=True)"
   ]
  },
  {
   "cell_type": "code",
   "execution_count": null,
   "id": "cd5b0b44-7d12-4717-871b-8220ecde666f",
   "metadata": {},
   "outputs": [],
   "source": [
    "# More iterations, worse results. Why would that be? Unless iterations is not converged?\n",
    "interactions_dct, model = newlib.calculate_dct_with_attributes(nb_samples=1000, with_attrib=True, verbose=False, nb_epochs=100, loss='warp')"
   ]
  },
  {
   "cell_type": "code",
   "execution_count": null,
   "id": "2d65c228-e8f2-431d-ba25-ac525586a42b",
   "metadata": {},
   "outputs": [],
   "source": [
    "# Hit rate goes fro 0.29 to 0.21 when nb_epochs goes from 30 to 100. I DO NOT LIKE THIS. \n",
    "newlib.topn_recommendations_with_attributes(model, interactions_dct, topN=3)"
   ]
  },
  {
   "cell_type": "code",
   "execution_count": null,
   "id": "33b721af-48dc-4569-be64-9b1f962a65a3",
   "metadata": {},
   "outputs": [],
   "source": [
    "Construct training/testing datasets\n",
    "# Consider a training set of 10% of the data. \n",
    "# Shuffle the data first\n"
   ]
  },
  {
   "cell_type": "code",
   "execution_count": null,
   "id": "1b3a7a7a-1806-4ad1-b4f6-848aeba88b05",
   "metadata": {},
   "outputs": [],
   "source": [
    "data = interactions_dct['train']\n",
    "data1 = data.sample(frac=1, random_state=100)"
   ]
  },
  {
   "cell_type": "code",
   "execution_count": null,
   "id": "91a31b7c-aa28-4083-bd3f-d5190c7d0230",
   "metadata": {},
   "outputs": [],
   "source": [
    "data.head(), data1.head()"
   ]
  },
  {
   "cell_type": "code",
   "execution_count": null,
   "id": "839e16a3-ad09-4d3b-81e1-5e1f97a75d80",
   "metadata": {},
   "outputs": [],
   "source": [
    "data.groupby('MEMBER_ID').agg({'D':list}).shape"
   ]
  },
  {
   "cell_type": "code",
   "execution_count": null,
   "id": "cd53250b-5442-45d6-a1b7-5074ca501016",
   "metadata": {},
   "outputs": [],
   "source": [
    "print(x[])"
   ]
  },
  {
   "cell_type": "code",
   "execution_count": null,
   "id": "e1711f42-7e32-42db-b6a9-3efc633ed137",
   "metadata": {},
   "outputs": [],
   "source": [
    "hit_rate(model, data, k=5, filter_previous=False) # cold_start='drop');"
   ]
  },
  {
   "cell_type": "markdown",
   "id": "dcc742b0-4672-4be0-8624-ad1cb7ff6809",
   "metadata": {},
   "source": [
    "Calculate the hit rate myself based on the recommendations, which are based on the ranking scores. \n",
    "To do this, \n",
    "* first create a list of destinations for each member in the training set. \n",
    "* next, for each of the recommendations, determine whether the member flew there in the test set. \n",
    "* if the member flew there in the test set, add 1 to the hit list, else 0"
   ]
  },
  {
   "cell_type": "markdown",
   "id": "72c3e0ff-4781-42e7-991c-11b65ed99f22",
   "metadata": {},
   "source": []
  },
  {
   "cell_type": "code",
   "execution_count": null,
   "id": "11309175-36fd-4830-9f9b-c59b92355710",
   "metadata": {},
   "outputs": [],
   "source": [
    "data = interactions_dct['train']\n",
    "x = list(interactions_dct['train']['MEMBER_ID'])\n",
    "data_train, data_valid, data_test = newlib.train_valid(x, 0.8, 0.1)"
   ]
  },
  {
   "cell_type": "markdown",
   "id": "baf979ce-1679-4075-b948-f9ba0f46674f",
   "metadata": {},
   "source": [
    "Train the model"
   ]
  },
  {
   "cell_type": "code",
   "execution_count": null,
   "id": "25d6e81f-6d04-4798-b693-e6895f91906e",
   "metadata": {},
   "outputs": [],
   "source": [
    "in_file = \"activity_reduced_with_attributes.csv\"\n",
    "member_dest_df, df_user_attrib, df_item_attrib = newlib.read_data_attributes_single_file(in_file)"
   ]
  }
 ],
 "metadata": {
  "kernelspec": {
   "display_name": "Python 3",
   "language": "python",
   "name": "python3"
  },
  "language_info": {
   "codemirror_mode": {
    "name": "ipython",
    "version": 3
   },
   "file_extension": ".py",
   "mimetype": "text/x-python",
   "name": "python",
   "nbconvert_exporter": "python",
   "pygments_lexer": "ipython3",
   "version": "3.8.8"
  }
 },
 "nbformat": 4,
 "nbformat_minor": 5
}
