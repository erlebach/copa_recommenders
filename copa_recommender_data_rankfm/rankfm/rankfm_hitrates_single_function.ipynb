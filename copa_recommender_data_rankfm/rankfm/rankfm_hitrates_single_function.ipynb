{
 "cells": [
  {
   "cell_type": "code",
   "execution_count": 1,
   "id": "30420a00-b8b5-4abd-8ec6-177ecbc16bd6",
   "metadata": {
    "tags": []
   },
   "outputs": [],
   "source": [
    "%load_ext autoreload\n",
    "%autoreload 2"
   ]
  },
  {
   "cell_type": "code",
   "execution_count": 4,
   "id": "b617c0a3-0829-452e-a991-8625e9a4fa16",
   "metadata": {
    "tags": []
   },
   "outputs": [],
   "source": [
    "import hit_rates as hr\n",
    "import rankfmlib as fmlib\n",
    "# new library for performance studies built from rankfmlib to read a single file rather than yearly files.\n",
    "import newlib\n",
    "import pandas as pd\n",
    "import numpy as np\n",
    "from sklearn.model_selection import train_test_split\n",
    "from rankfm.rankfm import RankFM\n",
    "import function_lib as flib\n",
    "\n",
    "from rankfm.evaluation import hit_rate"
   ]
  },
  {
   "cell_type": "markdown",
   "id": "f30a59d9-2a85-487c-8b73-657a77275def",
   "metadata": {},
   "source": [
    "# Read member attributes"
   ]
  },
  {
   "cell_type": "code",
   "execution_count": 5,
   "id": "720ff300-633a-4201-aa65-2b0f72392770",
   "metadata": {},
   "outputs": [
    {
     "name": "stdout",
     "output_type": "stream",
     "text": [
      "CPU times: user 917 ms, sys: 170 ms, total: 1.09 s\n",
      "Wall time: 1.09 s\n"
     ]
    }
   ],
   "source": [
    "%%time\n",
    "# Perhaps add an argument stating which colums are attributes\n",
    "interaction_dct = newlib.read_data_attributes_single_file(\"activity_reduced_with_attributes.csv\",\n",
    "                                                        age_cuts=[0,30,50,70,150])"
   ]
  },
  {
   "cell_type": "markdown",
   "id": "f2d756b2-4e52-4278-b6b2-0e0bf7814413",
   "metadata": {},
   "source": [
    "The problem to solve: Why are results worse with filter=False? To figure this out, I may have to write my own recommender and hit_rate functions. \n",
    " 1) optimize parameter without attributes\n",
    " 2) optimize age brackets using just one attribute\n",
    " 3) optimize temperature brackets (destination features) using just one attribute\n",
    " 4) add gender, country of origin to the member attributes\n",
    " \n",
    " One problem found was that I was removing duplicate Member/Destinations too early. They must be removed from \n",
    " the training and validation sets separately. Now I get up to 40% if data is not filtered. However, I only get 10% accuracy\n",
    " when the previous data is filtered. WHY? "
   ]
  },
  {
   "cell_type": "markdown",
   "id": "54fc126f-1f01-4416-b01a-c8e7c6d4b640",
   "metadata": {},
   "source": [
    "___"
   ]
  },
  {
   "cell_type": "markdown",
   "id": "17e9eae3-f80f-49bf-817b-40795dd38d5b",
   "metadata": {},
   "source": [
    "# Create newlib.recommender(data_train)"
   ]
  },
  {
   "cell_type": "code",
   "execution_count": 6,
   "id": "80e0ac8c-22d9-44d0-9151-d60ef168aa19",
   "metadata": {
    "tags": []
   },
   "outputs": [
    {
     "data": {
      "text/plain": [
       "dict_keys(['age_cuts', 'long_cuts', 'lat_cuts', 'yr_l_cuts', 'yr_h_cuts', 'altitude_cuts', 'df_members', 'df_user_attr', 'df_item_attr'])"
      ]
     },
     "execution_count": 6,
     "metadata": {},
     "output_type": "execute_result"
    }
   ],
   "source": [
    "interaction_dct.keys()"
   ]
  },
  {
   "cell_type": "code",
   "execution_count": 7,
   "id": "c5e924a7-4364-4650-b983-b7b6c7f159d9",
   "metadata": {},
   "outputs": [
    {
     "name": "stdout",
     "output_type": "stream",
     "text": [
      "(714086, 2)\n",
      "dict_keys(['age_cuts', 'long_cuts', 'lat_cuts', 'yr_l_cuts', 'yr_h_cuts', 'altitude_cuts', 'df_members', 'df_user_attr', 'df_item_attr', 'data_train', 'data_valid', 'data_test'])\n",
      "CPU times: user 85.4 ms, sys: 4.88 ms, total: 90.3 ms\n",
      "Wall time: 89.8 ms\n"
     ]
    }
   ],
   "source": [
    "%%time\n",
    "# Add a percentage offset that will not be used. \n",
    "newlib.train_valid_dct(interaction_dct, train_perc=0.3, valid_perc=0.3, temporal=False)\n",
    "print(interaction_dct.keys())"
   ]
  },
  {
   "cell_type": "code",
   "execution_count": 8,
   "id": "29670577-d861-4344-8104-2deb5e2682f3",
   "metadata": {},
   "outputs": [],
   "source": [
    "loss = 'warp'\n",
    "loss = 'bpr'  # nb neg samples = 1\n",
    "model = RankFM(factors=20, loss=loss, max_samples=10000, alpha=0.05, beta=0.1, learning_rate=0.1, learning_schedule='constant')"
   ]
  },
  {
   "cell_type": "markdown",
   "id": "0d4008bb-91fc-41be-b3b1-5e33e6a28755",
   "metadata": {},
   "source": [
    "1. create dataframe list list of destinations for each member. Do this for training and validation"
   ]
  },
  {
   "cell_type": "code",
   "execution_count": 3,
   "id": "c0ea4395-cbef-48fd-b5eb-095d14841cab",
   "metadata": {},
   "outputs": [
    {
     "ename": "NameError",
     "evalue": "name 'model' is not defined",
     "output_type": "error",
     "traceback": [
      "\u001b[0;31m---------------------------------------------------------------------------\u001b[0m",
      "\u001b[0;31mNameError\u001b[0m                                 Traceback (most recent call last)",
      "\u001b[0;32m<timed eval>\u001b[0m in \u001b[0;36m<module>\u001b[0;34m\u001b[0m\n",
      "\u001b[0;31mNameError\u001b[0m: name 'model' is not defined"
     ]
    }
   ],
   "source": [
    "%%time\n",
    "newlib.run_model(model, interaction_dct, nb_epochs=100, topN=5, with_attrib=True)\n",
    "#topN=5, nb_epochs=500, hr=0.16 (filtered), hr=0.64 (not filtered), with_attrib=True`\n",
    "# better results without attributes (age). Perhaps must improve on subdivision. Start experiments. \n",
    "# Add gender and country of origin. \n",
    "# Experiment with training/validation split. Two different types: \n",
    "#  1) Keeping training fixed, vary validation (should not change much)\n",
    "#  2) Keep training and validation the same, vary initial offset. (set test_error to zero)\n",
    "# Test different age splits\n",
    "# Put Read data, train_valid, run_model into a single method. \n",
    "# Create dictionary for each run with all the parameters (train_perc, valid_perc, temporal, use_attrib, learning_schedule, \n",
    "# learning_rate, alpha, beta, loss, factors, run_nb if repeated for mean/variance)\n",
    "# No temporal (lose 3% on both filtered and non-filtered)\n",
    "# I might have to run multiple times to estimate variance. Say, run 10 times.\n",
    "\n",
    "# Compare against the neural net version of fm, which can run adamW. See if I get the same results. \n",
    "# Interface this program with the otherone that uses a DataLoader"
   ]
  },
  {
   "cell_type": "code",
   "execution_count": 47,
   "id": "5590b544-1b20-4362-be8b-f747db4f264a",
   "metadata": {},
   "outputs": [
    {
     "name": "stdout",
     "output_type": "stream",
     "text": [
      "hit rate (without previous filter) =  0.5982003026039869\n",
      "hit rate (with previous filter) =  0.36060784983995775\n",
      "CPU times: user 16.3 s, sys: 201 ms, total: 16.5 s\n",
      "Wall time: 16.4 s\n"
     ]
    }
   ],
   "source": [
    "%%time\n",
    "# no filter: 63% accurate. That makes sense. \n",
    "# with filter of hits in training set: 11% (same results as those of rankfm)\n",
    "# Same answers when repeated multiple times\n",
    "result = newlib.recommender(model, interaction_dct, keep_nb_members=None, topN=5)\n",
    "# topN=5, nb_epochs=500, hr=0.11 (filtered), hr=0.6 (not filtered), with_attrib=True"
   ]
  },
  {
   "cell_type": "code",
   "execution_count": null,
   "id": "d13551e7-35e7-4556-a56f-98b6c1118fea",
   "metadata": {},
   "outputs": [],
   "source": [
    "%%time\n",
    "# no filter: 63% accurate. That makes sense. \n",
    "# with filter of hits in training set: 11% (same results as those of rankfm)\n",
    "result = newlib.recommender(model, interaction_dct, keep_nb_members=None, topN=5)"
   ]
  },
  {
   "cell_type": "markdown",
   "id": "22743a99-3224-47f6-b1e6-7b9dcc38027b",
   "metadata": {},
   "source": [
    "# Set up a series of runs to test age brackets. Store results in \"age_brackets.csv\"\n",
    "Age brackets will have 4 categories: 0-x, x-y, y-z, z+. Each age_bracket should be at least 10 years. \n",
    "Generate x,y,z via sampling, and only keep the choices that satisfy the constraints. \n",
    "* x is in [20-40]\n",
    "* z is in [60-80]\n",
    "* y is in [x+10, z-10]\n",
    "Choose 20 intervals, and run simulation. \n",
    "* Also execute the model without attributes as a base line. Run 5 times. "
   ]
  },
  {
   "cell_type": "code",
   "execution_count": 9,
   "id": "594ca271-7a93-4c87-bb94-7aa71b9c172c",
   "metadata": {},
   "outputs": [],
   "source": [
    "def generate_age_cuts(nb_cuts):\n",
    "    \"\"\"\n",
    "    Generate age cuts and return a list of lists.\n",
    "    Each age cut has the form [0,x,y,z,150], where x,y are integers. \n",
    "    \"\"\"\n",
    "    age_cuts = []  \n",
    "    for i in range(nb_cuts):\n",
    "        x = np.random.randint(15, 40, 1)[0]\n",
    "        z = np.random.randint(60, 80, 1)[0]\n",
    "        y = np.random.randint(x+10, z-10, 1)[0]\n",
    "        cut = [0, x, y, z, 150]\n",
    "        age_cuts.append(cut)\n",
    "    return age_cuts"
   ]
  },
  {
   "cell_type": "code",
   "execution_count": 10,
   "id": "e1de25a6-63c6-4f77-a282-d3a8fc9f64f0",
   "metadata": {},
   "outputs": [],
   "source": [
    "rankfm = newlib.Rankfm(dct_new={}, infile='activity_reduced_with_attributes.csv', seed=1)\n",
    "cut = [0, 30, 50, 80, 150]\n",
    "dct = {'age_cuts':cut ,'nb_epochs':600}\n",
    "rankfm.read_data(dct_update=dct, continuous_attr=True)"
   ]
  },
  {
   "cell_type": "markdown",
   "id": "76b98d23-3f12-4e24-9cee-f611637ad3e7",
   "metadata": {},
   "source": [
    "Set up multiple experiments\n",
    "1. without any attributes, run 10 times\n",
    "2. with all attributes, categorical, run 10 times\n",
    "    * issues: convergence criteria (when to stop?) \n",
    "    * How to define the categories. Do some exploratory analysis to find out how many flights/members/destinations in each class. \n",
    "         Summarize this information, and the compute it for different cutting assumptions. \n",
    "3. Run with torchfm, which uses neural networks to implement FM. This leads to more flexibility on the handling of nonlinear terms. \n",
    "  * In particular, an attention model might prove useful. "
   ]
  },
  {
   "cell_type": "code",
   "execution_count": 11,
   "id": "12b52962-2175-4dc8-ab70-48d5f2643dd1",
   "metadata": {
    "tags": []
   },
   "outputs": [
    {
     "name": "stdout",
     "output_type": "stream",
     "text": [
      "[0, 20, 42, 71, 150]\n",
      "(714086, 2)\n",
      "hr (previous filtered):  0.36599638921745625\n",
      "hr (previous not filtered):  0.7599140882774077\n",
      "[0, 23, 44, 69, 150]\n",
      "(714086, 2)\n",
      "hr (previous filtered):  0.36539717083786727\n",
      "hr (previous not filtered):  0.757438209233639\n",
      "[0, 20, 30, 75, 150]\n",
      "(714086, 2)\n",
      "hr (previous filtered):  0.34381896739299367\n",
      "hr (previous not filtered):  0.7369059090485219\n",
      "[0, 31, 48, 61, 150]\n",
      "(714086, 2)\n",
      "hr (previous filtered):  0.36451292862900725\n",
      "hr (previous not filtered):  0.7549141191790165\n",
      "[0, 28, 43, 66, 150]\n",
      "(714086, 2)\n",
      "hr (previous filtered):  0.36826905161170115\n",
      "hr (previous not filtered):  0.7706353642630892\n",
      "[0, 33, 53, 71, 150]\n",
      "(714086, 2)\n",
      "hr (previous filtered):  0.3621220126177083\n",
      "hr (previous not filtered):  0.7303042545917892\n",
      "[0, 29, 43, 78, 150]\n",
      "(714086, 2)\n",
      "hr (previous filtered):  0.3349632490345085\n",
      "hr (previous not filtered):  0.6885199950168183\n",
      "[0, 38, 49, 69, 150]\n",
      "(714086, 2)\n",
      "hr (previous filtered):  0.337039222384398\n",
      "hr (previous not filtered):  0.7030527002267011\n",
      "[0, 38, 48, 60, 150]\n",
      "(714086, 2)\n",
      "hr (previous filtered):  0.35998631585494806\n",
      "hr (previous not filtered):  0.770977172358027\n",
      "[0, 28, 47, 69, 150]\n",
      "(714086, 2)\n",
      "hr (previous filtered):  0.3541686102559318\n",
      "hr (previous not filtered):  0.7478620518083154\n",
      "[0, 22, 32, 61, 150]\n",
      "(714086, 2)\n",
      "hr (previous filtered):  0.3608778447226298\n",
      "hr (previous not filtered):  0.7373645927637125\n",
      "[0, 32, 50, 68, 150]\n",
      "(714086, 2)\n",
      "hr (previous filtered):  0.35167330181637224\n",
      "hr (previous not filtered):  0.7294725055984076\n",
      "[0, 28, 53, 79, 150]\n",
      "(714086, 2)\n",
      "hr (previous filtered):  0.36094490152081776\n",
      "hr (previous not filtered):  0.7565756669159811\n",
      "[0, 25, 42, 68, 150]\n",
      "(714086, 2)\n",
      "hr (previous filtered):  0.3561097256857855\n",
      "hr (previous not filtered):  0.7385910224438903\n",
      "[0, 18, 49, 66, 150]\n",
      "(714086, 2)\n",
      "hr (previous filtered):  0.3690450327426213\n",
      "hr (previous not filtered):  0.7482387262965147\n",
      "[0, 32, 46, 63, 150]\n",
      "(714086, 2)\n",
      "hr (previous filtered):  0.3639868183796555\n",
      "hr (previous not filtered):  0.763881116707082\n",
      "[0, 39, 60, 77, 150]\n",
      "(714086, 2)\n",
      "hr (previous filtered):  0.3567480280727905\n",
      "hr (previous not filtered):  0.7647351096205205\n",
      "[0, 27, 50, 76, 150]\n",
      "(714086, 2)\n",
      "hr (previous filtered):  0.3687927815805849\n",
      "hr (previous not filtered):  0.7634100808960796\n",
      "[0, 34, 46, 69, 150]\n",
      "(714086, 2)\n",
      "hr (previous filtered):  0.36284949249641946\n",
      "hr (previous not filtered):  0.7549971978329908\n",
      "[0, 30, 44, 60, 150]\n",
      "(714086, 2)\n",
      "hr (previous filtered):  0.37393089291823467\n",
      "hr (previous not filtered):  0.7726495194849625\n"
     ]
    }
   ],
   "source": [
    "nb_cuts = 20\n",
    "cuts = generate_age_cuts(nb_cuts)\n",
    "rankfm = newlib.Rankfm(dct_new={}, infile='activity_reduced_with_attributes.csv', seed=1)\n",
    "\n",
    "for cut in cuts:\n",
    "    dct = {'age_cuts':cut, 'nb_epochs':300 }\n",
    "    print(cut)\n",
    "    rankfm.read_data(dct_update=dct, continuous_attr=True)\n",
    "    rankfm.train_valid()\n",
    "    rankfm.create_model()\n",
    "    rankfm.run_model()\n",
    "    rankfm.update_storage()\n",
    "    # Overwrite file on each call. Ideally, I should append, but not worth it. \n",
    "    rankfm.save('age_cuts.csv')"
   ]
  },
  {
   "cell_type": "code",
   "execution_count": 43,
   "id": "5b7cac93-beb0-4620-9696-16510508728d",
   "metadata": {},
   "outputs": [
    {
     "name": "stdout",
     "output_type": "stream",
     "text": [
      "hr (previous filtered):  0.3734639912894696\n",
      "hr (previous not filtered):  0.7758282781147924\n",
      "hr (previous filtered):  0.3629491367242184\n",
      "hr (previous not filtered):  0.773712863586872\n",
      "hr (previous filtered):  0.3632913361331467\n",
      "hr (previous not filtered):  0.7600559962669156\n",
      "hr (previous filtered):  0.3556696220251983\n",
      "hr (previous not filtered):  0.7591227251516566\n",
      "hr (previous filtered):  0.3744283714419039\n",
      "hr (previous not filtered):  0.7774459480479079\n",
      "hr (previous filtered):  0.36979312490278426\n",
      "hr (previous not filtered):  0.7800279981334578\n",
      "hr (previous filtered):  0.36991756105148543\n",
      "hr (previous not filtered):  0.7214807901695443\n",
      "hr (previous filtered):  0.34854565251205477\n",
      "hr (previous not filtered):  0.7511277025976046\n",
      "hr (previous filtered):  0.3632913361331467\n",
      "hr (previous not filtered):  0.776823767304402\n",
      "hr (previous filtered):  0.3708508321667444\n",
      "hr (previous not filtered):  0.7606159589360709\n",
      "hr (previous filtered):  0.3701664333488878\n",
      "hr (previous not filtered):  0.7612692487167522\n",
      "hr (previous filtered):  0.36571784103282\n",
      "hr (previous not filtered):  0.7835433193342666\n",
      "hr (previous filtered):  0.3603048685643179\n",
      "hr (previous not filtered):  0.7576294913672422\n",
      "hr (previous filtered):  0.3731529009177166\n",
      "hr (previous not filtered):  0.7696064706797324\n",
      "hr (previous filtered):  0.3691087260849277\n",
      "hr (previous not filtered):  0.7825167211074817\n",
      "hr (previous filtered):  0.37041530564629027\n",
      "hr (previous not filtered):  0.76207808368331\n",
      "hr (previous filtered):  0.3729973557318401\n",
      "hr (previous not filtered):  0.7792813812412506\n",
      "hr (previous filtered):  0.3675532742261627\n",
      "hr (previous not filtered):  0.7666822211852543\n",
      "hr (previous filtered):  0.36291802768704307\n",
      "hr (previous not filtered):  0.777663711308135\n",
      "hr (previous filtered):  0.37184632135635404\n",
      "hr (previous not filtered):  0.7832944470368642\n"
     ]
    }
   ],
   "source": [
    "for run in range(20):\n",
    "    rankfm.run_model(with_attrib=False)\n",
    "    rankfm.update_storage()\n",
    "rankfm.save('no_attrib.csv')"
   ]
  },
  {
   "cell_type": "code",
   "execution_count": 423,
   "id": "0c158d92-0f63-4616-bf72-d62a88fbee29",
   "metadata": {},
   "outputs": [
    {
     "name": "stdout",
     "output_type": "stream",
     "text": [
      "hr (previous filtered):  0.3496614275952041\n",
      "hr (previous not filtered):  0.675343231658073\n",
      "hr (previous filtered):  0.36752189849040195\n",
      "hr (previous not filtered):  0.7051003292538982\n",
      "hr (previous filtered):  0.36631049263837984\n",
      "hr (previous not filtered):  0.7032055662545816\n",
      "hr (previous filtered):  0.36121637572218424\n",
      "hr (previous not filtered):  0.6808100888364291\n",
      "hr (previous filtered):  0.3641672361309561\n",
      "hr (previous not filtered):  0.6982667577809529\n",
      "hr (previous filtered):  0.3567434925762564\n",
      "hr (previous not filtered):  0.6729825433310554\n",
      "hr (previous filtered):  0.34655525874386534\n",
      "hr (previous not filtered):  0.6739765173634839\n",
      "hr (previous filtered):  0.360315586755296\n",
      "hr (previous not filtered):  0.6679816114804\n",
      "hr (previous filtered):  0.36568925886811204\n",
      "hr (previous not filtered):  0.6709324718891719\n",
      "hr (previous filtered):  0.35279865813505623\n",
      "hr (previous not filtered):  0.6753121699695596\n",
      "hr (previous filtered):  0.3625830900167733\n",
      "hr (previous not filtered):  0.6704354848729577\n",
      "hr (previous filtered):  0.3498477977262844\n",
      "hr (previous not filtered):  0.6762750823134746\n",
      "hr (previous filtered):  0.36106106727961734\n",
      "hr (previous not filtered):  0.665248182891222\n",
      "hr (previous filtered):  0.3431384730073927\n",
      "hr (previous not filtered):  0.650587065912903\n",
      "hr (previous filtered):  0.36242778157420635\n",
      "hr (previous not filtered):  0.6755296017891532\n",
      "hr (previous filtered):  0.3541343107411319\n",
      "hr (previous not filtered):  0.6821768031310183\n",
      "hr (previous filtered):  0.36481953158973723\n",
      "hr (previous not filtered):  0.6861526992607319\n",
      "hr (previous filtered):  0.36106106727961734\n",
      "hr (previous not filtered):  0.6704665465614711\n",
      "hr (previous filtered):  0.3407467229918618\n",
      "hr (previous not filtered):  0.5841150524942536\n",
      "hr (previous filtered):  0.357426849723551\n",
      "hr (previous not filtered):  0.6796297446729204\n"
     ]
    }
   ],
   "source": [
    "for run in range(20):\n",
    "    rankfm.run_model(with_attrib=False)\n",
    "    rankfm.update_storage()\n",
    "rankfm.save('no_attrib.csv')"
   ]
  },
  {
   "cell_type": "code",
   "execution_count": 439,
   "id": "1d788a72-c174-48f4-83fb-621a35523154",
   "metadata": {},
   "outputs": [
    {
     "data": {
      "text/plain": [
       "[[0, 26, 53, 69, 150],\n",
       " [0, 34, 61, 77, 150],\n",
       " [0, 30, 52, 76, 150],\n",
       " [0, 23, 48, 60, 150],\n",
       " [0, 31, 51, 67, 150],\n",
       " [0, 27, 43, 73, 150],\n",
       " [0, 30, 53, 70, 150],\n",
       " [0, 33, 49, 62, 150],\n",
       " [0, 31, 48, 70, 150],\n",
       " [0, 22, 49, 75, 150],\n",
       " [0, 19, 48, 62, 150],\n",
       " [0, 19, 58, 79, 150],\n",
       " [0, 16, 47, 76, 150],\n",
       " [0, 31, 56, 69, 150],\n",
       " [0, 38, 68, 79, 150],\n",
       " [0, 37, 48, 61, 150],\n",
       " [0, 25, 65, 77, 150],\n",
       " [0, 17, 50, 72, 150],\n",
       " [0, 24, 38, 67, 150],\n",
       " [0, 15, 38, 77, 150]]"
      ]
     },
     "execution_count": 439,
     "metadata": {},
     "output_type": "execute_result"
    }
   ],
   "source": [
    "cuts"
   ]
  },
  {
   "cell_type": "code",
   "execution_count": 438,
   "id": "5fbefdd4-f4ae-446b-ba78-fd68f139f807",
   "metadata": {},
   "outputs": [
    {
     "name": "stdout",
     "output_type": "stream",
     "text": [
      "No attrib, hr_run_notfiltered, mean/var: 0.6725904527658357, 0.022704056242912347\n",
      "No attrib, hr_run_filtered, mean/var: 0.35562808812081315, 0.008416685798878342\n",
      "Age cuts, hr_run_notfiltered, mean/var: 0.670979394549858, 0.022524922616978613\n",
      "Age cuts, hr_run_filtered, mean/var: 0.3535377690957051, 0.009193800912547886\n"
     ]
    }
   ],
   "source": [
    "df_no = pd.read_csv(\"no_attrib.csv\")\n",
    "df_age = pd.read_csv(\"age_cuts.csv\")\n",
    "\n",
    "def mean_var(df, cols, msg):\n",
    "    for i, col in enumerate(cols):\n",
    "        print(f\"{msg}, {col}, mean/var: {df[col].mean()}, {df[col].std()}\")\n",
    "              \n",
    "mean_var(df_no, ['hr_run_notfiltered','hr_run_filtered'], \"No attrib\")\n",
    "mean_var(df_age, ['hr_run_notfiltered','hr_run_filtered'], \"Age cuts\")\n",
    "#mean_hit_no = df_no[\"hr_run_notfiltered\"].mean(), df_no[\"hr_run_filtered\"].mean()\n",
    "#mean_hit_age = df_age[\"hr_run_notfiltered\"].mean(), df_age[\"hr_run_filtered\"].mean()\n",
    "#print(\"mean hits[no attrib]: \", mean_hit_no)\n",
    "#print(\"mean hits[age]: \", mean_hit_age)"
   ]
  },
  {
   "cell_type": "code",
   "execution_count": 383,
   "id": "9cca4717-9a8e-4b70-995b-a905d5cd3c8f",
   "metadata": {},
   "outputs": [
    {
     "name": "stdout",
     "output_type": "stream",
     "text": [
      "(714086, 2)\n"
     ]
    }
   ],
   "source": [
    "rankfm = newlib.Rankfm(dct={}, infile='activity_reduced_with_attributes.csv', seed=1)\n",
    "rankfm.train_valid()\n",
    "rankfm.create_model()"
   ]
  },
  {
   "cell_type": "code",
   "execution_count": 384,
   "id": "f2b2eadf-5437-4e7a-a048-51a4061d41d9",
   "metadata": {
    "tags": []
   },
   "outputs": [
    {
     "name": "stdout",
     "output_type": "stream",
     "text": [
      "hr (previous filtered):  0.3615451659092324\n",
      "hr (previous not filtered):  0.6677146236693021\n"
     ]
    }
   ],
   "source": [
    "rankfm.create_model()\n",
    "rankfm.run_model()"
   ]
  },
  {
   "cell_type": "code",
   "execution_count": 385,
   "id": "17f108a6-5a29-4acf-bee5-d36be084ddde",
   "metadata": {
    "tags": []
   },
   "outputs": [
    {
     "name": "stdout",
     "output_type": "stream",
     "text": [
      "hr (previous filtered):  0.3619498225736164\n",
      "hr (previous not filtered):  0.6879163294527797\n"
     ]
    }
   ],
   "source": [
    "rankfm.create_model()\n",
    "rankfm.run_model()"
   ]
  },
  {
   "cell_type": "code",
   "execution_count": 386,
   "id": "b68e05af-6df4-4a00-9833-3be2365718c2",
   "metadata": {},
   "outputs": [
    {
     "name": "stdout",
     "output_type": "stream",
     "text": [
      "hr (previous filtered):  0.3651248210172446\n",
      "hr (previous not filtered):  0.6913714748179045\n"
     ]
    }
   ],
   "source": [
    "rankfm.run_model()"
   ]
  },
  {
   "cell_type": "code",
   "execution_count": 374,
   "id": "abfb946d-61b6-4c3b-8372-fc83d4eb4e5b",
   "metadata": {},
   "outputs": [
    {
     "name": "stdout",
     "output_type": "stream",
     "text": [
      "hr (previous filtered):  0.35766105177943147\n",
      "hr (previous not filtered):  0.6785814366223495\n"
     ]
    }
   ],
   "source": [
    "np.random.seed(1)\n",
    "rankfm.run_model()"
   ]
  },
  {
   "cell_type": "code",
   "execution_count": 375,
   "id": "1c7f2a90-ecbe-4a12-b0da-88f1887c9d32",
   "metadata": {},
   "outputs": [
    {
     "name": "stdout",
     "output_type": "stream",
     "text": [
      "hr (previous filtered):  0.35766105177943147\n",
      "hr (previous not filtered):  0.6785814366223495\n"
     ]
    }
   ],
   "source": [
    "np.random.seed(1)\n",
    "rankfm.run_model()"
   ]
  },
  {
   "cell_type": "code",
   "execution_count": 388,
   "id": "e130179c-9fbc-4d21-8caf-cf49b4a6e137",
   "metadata": {},
   "outputs": [
    {
     "name": "stdout",
     "output_type": "stream",
     "text": [
      "hr (previous filtered):  0.36783290792504514\n",
      "hr (previous not filtered):  0.7592604121272489\n"
     ]
    }
   ],
   "source": [
    "rankfm.dct['nb_epochs'] = 300\n",
    "rankfm.run_model()"
   ]
  },
  {
   "cell_type": "code",
   "execution_count": 376,
   "id": "235f0f3c-f3fe-41bc-bf98-e9bd70f13be5",
   "metadata": {},
   "outputs": [
    {
     "name": "stdout",
     "output_type": "stream",
     "text": [
      "hit rate (without previous filter) =  0.5888800212822559\n",
      "hit rate (with previous filter) =  0.35766105177943147\n",
      "recommend, dct=  {'train_offset': 0.0, 'train_perc': 0.3, 'valid_perc': 0.3, 'nb_epochs': 100, 'with_attrib': True, 'factors': 20, 'loss': 'bpr', 'max_samples': 300, 'alpha': 0.05, 'beta': 0.1, 'learning_rate': 0.1, 'learning_schedule': 'constant', 'keep_nb_members': None, 'temporal': True, 'age_cuts': [0, 30, 60, 70, 150], 'topN': 5, 'df_members':         MEMBER_ID    D\n",
      "184610  230144517  LIM\n",
      "376198  230153282  HAV\n",
      "556112  231307987  PTY\n",
      "539512  230098494  GUA\n",
      "60815   231183678  PTY\n",
      "...           ...  ...\n",
      "473973  232648465  SNU\n",
      "705784  247791775  CUN\n",
      "150110  230149314  SAL\n",
      "683002  234902782  PTY\n",
      "400597  231333036  MDE\n",
      "\n",
      "[714086 rows x 2 columns], 'df_user_attr':         MEMBER_ID  age_dep_(0, 30]  age_dep_(30, 60]  age_dep_(60, 70]  \\\n",
      "184610  230144517                0                 1                 0   \n",
      "376198  230153282                0                 1                 0   \n",
      "556112  231307987                0                 1                 0   \n",
      "539512  230098494                0                 1                 0   \n",
      "60815   231183678                0                 1                 0   \n",
      "...           ...              ...               ...               ...   \n",
      "711044  241407016                0                 1                 0   \n",
      "713669  262595946                0                 1                 0   \n",
      "711554  241023405                0                 1                 0   \n",
      "711553  267879572                0                 1                 0   \n",
      "713671  236208816                0                 0                 1   \n",
      "\n",
      "        age_dep_(70, 150]  \n",
      "184610                  0  \n",
      "376198                  0  \n",
      "556112                  0  \n",
      "539512                  0  \n",
      "60815                   0  \n",
      "...                   ...  \n",
      "711044                  0  \n",
      "713669                  0  \n",
      "711554                  0  \n",
      "711553                  0  \n",
      "713671                  0  \n",
      "\n",
      "[46321 rows x 5 columns], 'df_item_attr':       D  avg_yr_l  avg_yr_h\n",
      "0   CUN     0.720     0.860\n",
      "1   TPA     0.660     0.810\n",
      "2   CUC     0.750     0.880\n",
      "3   COR     0.540     0.750\n",
      "4   DEN     0.390     0.640\n",
      "5   LAS     0.590     0.810\n",
      "6   ROS     0.550     0.740\n",
      "7   SXM     0.780     0.860\n",
      "8   MTY     0.640     0.840\n",
      "9   BLA     0.790     0.880\n",
      "10  POS     0.740     0.880\n",
      "11  SFO     0.520     0.650\n",
      "12  BOS     0.450     0.590\n",
      "13  KIN     0.780     0.870\n",
      "14  LIR     0.660     0.870\n",
      "15  ORD     0.430     0.590\n",
      "16  PBC     0.490     0.730\n",
      "17  CNF     0.630     0.800\n",
      "18  GDL     0.530     0.810\n",
      "19  IAD     0.460     0.660\n",
      "20  VCP     0.620     0.810\n",
      "21  NAS     0.730     0.840\n",
      "22  AUA     0.790     0.880\n",
      "23  PBM     0.770     0.900\n",
      "24  ATL     0.550     0.720\n",
      "25  PAP     0.770     0.900\n",
      "26  MCO     0.640     0.820\n",
      "27  POA     0.610     0.770\n",
      "28  PTY     0.750     0.880\n",
      "29  SDQ     0.720     0.870\n",
      "30  MEX     0.520     0.750\n",
      "31  CUR     0.790     0.880\n",
      "32  FLL     0.720     0.830\n",
      "33  PEI     0.650     0.790\n",
      "34  SSA     0.750     0.840\n",
      "35  BGA     0.790     0.880\n",
      "36  PVR     0.700     0.850\n",
      "37  SJU     0.750     0.860\n",
      "38  VSA     0.720     0.890\n",
      "39  STI     0.700     0.870\n",
      "40  BGI     0.790     0.880\n",
      "41  MAO     0.750     0.890\n",
      "42  REC     0.760     0.860\n",
      "43  YUL     0.380     0.530\n",
      "44  BZE     0.750     0.860\n",
      "45  SMR     0.780     0.900\n",
      "46  ADZ     0.790     0.850\n",
      "47  BSB     0.620     0.820\n",
      "48  MBJ     0.760     0.860\n",
      "49  SAL     0.740     0.910\n",
      "50  CTG     0.780     0.870\n",
      "51  SLA     0.530     0.740\n",
      "52  XPL     0.670     0.870\n",
      "53  MSY     0.620     0.780\n",
      "54  AXM     0.790     0.880\n",
      "55  PUJ     0.750     0.850\n",
      "56  GUA     0.530     0.810\n",
      "57  TGU     0.630     0.820\n",
      "58  SAP     0.720     0.880\n",
      "59  JFK     0.490     0.620\n",
      "60  LAX     0.570     0.750\n",
      "61  MIA     0.710     0.830\n",
      "62  GUA     0.600     0.760\n",
      "63  ASU     0.660     0.830\n",
      "64  VVI     0.670     0.830\n",
      "65  GEO     0.750     0.850\n",
      "66  UIO     0.480     0.650\n",
      "67  GYE     0.730     0.850\n",
      "68  HAV     0.700     0.840\n",
      "69  SNU     0.670     0.840\n",
      "70  HOG     0.700     0.860\n",
      "71  EZE     0.580     0.700\n",
      "72  MDZ     0.530     0.740\n",
      "73  YYZ     0.410     0.540\n",
      "74  LIM     0.630     0.730\n",
      "75  CIX     0.660     0.800\n",
      "76  IQT     0.730     0.880\n",
      "77  BOG     0.470     0.650\n",
      "78  MDE     0.630     0.780\n",
      "79  CLO     0.660     0.840\n",
      "80  BAQ     0.770     0.880\n",
      "81  CCS     0.660     0.810\n",
      "82  MAR     0.780     0.910\n",
      "83  VLN     0.700     0.880\n",
      "84  GIG     0.710     0.820\n",
      "85  GRU     0.630     0.770\n",
      "86  FOR     0.770     0.860\n",
      "87  SJO     0.640     0.780\n",
      "88  MGA     0.730     0.900\n",
      "89  MVD     0.550     0.690\n",
      "90  SCL     0.470     0.730\n",
      "91  DAV     0.740     0.880, 'data_train':         MEMBER_ID    D\n",
      "407263  236702655  PTY\n",
      "613480  230272374  PUJ\n",
      "679483  242221083  TGU\n",
      "426136  230129887  SJO\n",
      "219477  233931156  LIM\n",
      "...           ...  ...\n",
      "165883  230090208  SJO\n",
      "192945  230656298  CLO\n",
      "50245   235003965  PUJ\n",
      "284076  230094994  EZE\n",
      "324135  231083195  LAX\n",
      "\n",
      "[106572 rows x 2 columns], 'data_valid':         MEMBER_ID    D\n",
      "591202  237625815  SAL\n",
      "443429  230700203  SDQ\n",
      "474837  232933457  PTY\n",
      "444327  242060912  SDQ\n",
      "379307  231726473  MEX\n",
      "...           ...  ...\n",
      "279567  243166138  CCS\n",
      "113605  234383463  SJO\n",
      "90988   230012497  LAX\n",
      "387062  230128432  MIA\n",
      "709269  256638294  SDQ\n",
      "\n",
      "[106603 rows x 2 columns], 'data_test':         MEMBER_ID    D\n",
      "95877   231982728  SJO\n",
      "267154  236901223  SJO\n",
      "505755  233607826  NAS\n",
      "484691  230034337  MIA\n",
      "484339  239099374  CCS\n",
      "...           ...  ...\n",
      "63318   231473946  MCO\n",
      "712528  249127618  PTY\n",
      "95413   230006842  EZE\n",
      "432457  231802563  SCL\n",
      "504127  230099798  JFK\n",
      "\n",
      "[128496 rows x 2 columns], 'model': <rankfm.rankfm.RankFM object at 0x7fb7e7aa78e0>, 'hr_run_notfiltered': 0.6785814366223495, 'hr_run_filtered': 0.35766105177943147, 'train_dest_sets':                               D  MEMBER_ID\n",
      "MEMBER_ID                                 \n",
      "100031203       {CLO, SJO, LIR}  100031203\n",
      "100031892                 {BOG}  100031892\n",
      "100034364                 {SDQ}  100034364\n",
      "100034902                 {PTY}  100034902\n",
      "100035145            {SJO, BOG}  100035145\n",
      "...                         ...        ...\n",
      "267031776                 {SDQ}  267031776\n",
      "267818134                 {EZE}  267818134\n",
      "267825112  {GUA, SJO, PTY, SAL}  267825112\n",
      "269922592                 {MIA}  269922592\n",
      "270380075                 {MIA}  270380075\n",
      "\n",
      "[37716 rows x 2 columns], 'valid_dest_sets':                               D  MEMBER_ID\n",
      "MEMBER_ID                                 \n",
      "100031203       {CLO, SJO, LIR}  100031203\n",
      "100031892                 {BOG}  100031892\n",
      "100034364                 {BOG}  100034364\n",
      "100034902                 {PTY}  100034902\n",
      "100035145                 {MDE}  100035145\n",
      "...                         ...        ...\n",
      "264230063                 {SJO}  264230063\n",
      "265129887       {MCO, CUN, IAD}  265129887\n",
      "267031776                 {SDQ}  267031776\n",
      "267825112  {MCO, GUA, SJO, SAL}  267825112\n",
      "269972675            {PUJ, HOG}  269972675\n",
      "\n",
      "[37590 rows x 2 columns], 'hr_rec_notfiltered': 0.5888800212822559, 'hr_rec_filtered': 0.35766105177943147}\n"
     ]
    }
   ],
   "source": [
    "rankfm.recommender()"
   ]
  },
  {
   "cell_type": "code",
   "execution_count": 366,
   "id": "073b564d-0e54-406a-aff8-b0f2053f2391",
   "metadata": {},
   "outputs": [
    {
     "name": "stdout",
     "output_type": "stream",
     "text": [
      "after pd.concat\n"
     ]
    }
   ],
   "source": [
    "rankfm.update_storage()"
   ]
  },
  {
   "cell_type": "code",
   "execution_count": 367,
   "id": "2d5fbce3-c62a-4e6c-ae47-f97472811f73",
   "metadata": {},
   "outputs": [],
   "source": [
    "rankfm.save(\"gordon.csv\")"
   ]
  },
  {
   "cell_type": "code",
   "execution_count": null,
   "id": "35be6ea9-d64e-4b7c-bb26-d87566146fce",
   "metadata": {},
   "outputs": [],
   "source": []
  },
  {
   "cell_type": "raw",
   "id": "9223edb8-98b5-4026-b0ef-edb4ff78ffbe",
   "metadata": {},
   "source": []
  },
  {
   "cell_type": "code",
   "execution_count": 340,
   "id": "ca30c30a-1179-49c8-90e5-7a47e980afe2",
   "metadata": {},
   "outputs": [
    {
     "data": {
      "text/plain": [
       "dict_keys(['train_offset', 'train_perc', 'valid_perc', 'nb_epochs', 'with_attrib', 'factors', 'loss', 'max_samples', 'alpha', 'beta', 'learning_rate', 'learning_schedule', 'keep_nb_members', 'temporal', 'age_cuts', 'topN', 'df_members', 'df_user_attr', 'df_item_attr', 'data_train', 'data_valid', 'data_test', 'model'])"
      ]
     },
     "execution_count": 340,
     "metadata": {},
     "output_type": "execute_result"
    }
   ],
   "source": [
    "rankfm.dct.keys()"
   ]
  },
  {
   "cell_type": "code",
   "execution_count": 253,
   "id": "5c7d951c-603b-4c96-a8be-93e13c4d73e9",
   "metadata": {},
   "outputs": [
    {
     "data": {
      "text/plain": [
       "[0, 30, 60, 70, 150]"
      ]
     },
     "execution_count": 253,
     "metadata": {},
     "output_type": "execute_result"
    }
   ],
   "source": [
    "eval(rankfm.df.age_cuts.values[0])"
   ]
  },
  {
   "cell_type": "code",
   "execution_count": 144,
   "id": "a62767c3-8857-40f6-967a-3e4ef0acce92",
   "metadata": {},
   "outputs": [
    {
     "data": {
      "text/plain": [
       "(19, 19)"
      ]
     },
     "execution_count": 144,
     "metadata": {},
     "output_type": "execute_result"
    }
   ],
   "source": [
    "len(rankfm.dct.keys()), len(set(rankfm.dct.keys()))"
   ]
  },
  {
   "cell_type": "code",
   "execution_count": 320,
   "id": "9e4e6a0d-25a2-4050-8e17-c267ba0d2ebb",
   "metadata": {},
   "outputs": [
    {
     "data": {
      "text/plain": [
       "dict_keys(['train_offset', 'train_perc', 'valid_perc', 'nb_epochs', 'with_attrib', 'factors', 'loss', 'max_samples', 'alpha', 'beta', 'learning_rate', 'learning_schedule', 'keep_nb_members', 'temporal', 'age_cuts', 'topN', 'df_members', 'df_user_attr', 'df_item_attr', 'data_train', 'data_valid', 'data_test', 'model'])"
      ]
     },
     "execution_count": 320,
     "metadata": {},
     "output_type": "execute_result"
    }
   ],
   "source": [
    "rankfm.dct.keys()"
   ]
  },
  {
   "cell_type": "code",
   "execution_count": 322,
   "id": "b6160f93-446b-44a9-9bbe-9146521d2dcf",
   "metadata": {},
   "outputs": [
    {
     "data": {
      "text/plain": [
       "dict_keys(['train_offset', 'train_perc', 'valid_perc', 'nb_epochs', 'with_attrib', 'factors', 'loss', 'max_samples', 'alpha', 'beta', 'learning_rate', 'learning_schedule', 'keep_nb_members', 'temporal', 'age_cuts', 'topN', 'df_members', 'df_user_attr', 'df_item_attr', 'data_train', 'data_valid', 'data_test', 'model', 'hr_run_notfiltered', 'hr_run_filtered'])"
      ]
     },
     "execution_count": 322,
     "metadata": {},
     "output_type": "execute_result"
    }
   ],
   "source": [
    "rankfm.dct.keys()"
   ]
  },
  {
   "cell_type": "code",
   "execution_count": 323,
   "id": "2c33ae95-f942-419e-b3c8-c8208f03cf30",
   "metadata": {},
   "outputs": [
    {
     "name": "stdout",
     "output_type": "stream",
     "text": [
      "dct_copy:  {'train_offset': 0.0, 'train_perc': 0.3, 'valid_perc': 0.3, 'nb_epochs': 100, 'with_attrib': True, 'factors': 20, 'loss': 'bpr', 'max_samples': 300, 'alpha': 0.05, 'beta': 0.1, 'learning_rate': 0.1, 'learning_schedule': 'constant', 'keep_nb_members': None, 'temporal': True, 'age_cuts': '[0, 30, 60, 70, 150]', 'topN': 5, 'model': <rankfm.rankfm.RankFM object at 0x7fb7f069e3d0>, 'hr_run_notfiltered': 0.6563160512246674, 'hr_run_filtered': 0.3474449832152182}\n",
      "save, \n",
      "df updated\n"
     ]
    }
   ],
   "source": [
    "rankfm.update_storage()"
   ]
  },
  {
   "cell_type": "code",
   "execution_count": 324,
   "id": "ae569fcb-3104-4eca-ad3e-2894863e1fb7",
   "metadata": {
    "collapsed": true,
    "jupyter": {
     "outputs_hidden": true
    },
    "tags": []
   },
   "outputs": [
    {
     "data": {
      "text/plain": [
       "{'train_offset': 0.0,\n",
       " 'train_perc': 0.3,\n",
       " 'valid_perc': 0.3,\n",
       " 'nb_epochs': 100,\n",
       " 'with_attrib': True,\n",
       " 'factors': 20,\n",
       " 'loss': 'bpr',\n",
       " 'max_samples': 300,\n",
       " 'alpha': 0.05,\n",
       " 'beta': 0.1,\n",
       " 'learning_rate': 0.1,\n",
       " 'learning_schedule': 'constant',\n",
       " 'keep_nb_members': None,\n",
       " 'temporal': True,\n",
       " 'age_cuts': [0, 30, 60, 70, 150],\n",
       " 'topN': 5,\n",
       " 'df_members':         MEMBER_ID    D\n",
       " 184610  230144517  LIM\n",
       " 376198  230153282  HAV\n",
       " 556112  231307987  PTY\n",
       " 539512  230098494  GUA\n",
       " 60815   231183678  PTY\n",
       " ...           ...  ...\n",
       " 473973  232648465  SNU\n",
       " 705784  247791775  CUN\n",
       " 150110  230149314  SAL\n",
       " 683002  234902782  PTY\n",
       " 400597  231333036  MDE\n",
       " \n",
       " [714086 rows x 2 columns],\n",
       " 'df_user_attr':         MEMBER_ID  age_dep_(0, 30]  age_dep_(30, 60]  age_dep_(60, 70]  \\\n",
       " 184610  230144517                0                 1                 0   \n",
       " 376198  230153282                0                 1                 0   \n",
       " 556112  231307987                0                 1                 0   \n",
       " 539512  230098494                0                 1                 0   \n",
       " 60815   231183678                0                 1                 0   \n",
       " ...           ...              ...               ...               ...   \n",
       " 711044  241407016                0                 1                 0   \n",
       " 713669  262595946                0                 1                 0   \n",
       " 711554  241023405                0                 1                 0   \n",
       " 711553  267879572                0                 1                 0   \n",
       " 713671  236208816                0                 0                 1   \n",
       " \n",
       "         age_dep_(70, 150]  \n",
       " 184610                  0  \n",
       " 376198                  0  \n",
       " 556112                  0  \n",
       " 539512                  0  \n",
       " 60815                   0  \n",
       " ...                   ...  \n",
       " 711044                  0  \n",
       " 713669                  0  \n",
       " 711554                  0  \n",
       " 711553                  0  \n",
       " 713671                  0  \n",
       " \n",
       " [46321 rows x 5 columns],\n",
       " 'df_item_attr':       D  avg_yr_l  avg_yr_h\n",
       " 0   CUN     0.720     0.860\n",
       " 1   TPA     0.660     0.810\n",
       " 2   CUC     0.750     0.880\n",
       " 3   COR     0.540     0.750\n",
       " 4   DEN     0.390     0.640\n",
       " 5   LAS     0.590     0.810\n",
       " 6   ROS     0.550     0.740\n",
       " 7   SXM     0.780     0.860\n",
       " 8   MTY     0.640     0.840\n",
       " 9   BLA     0.790     0.880\n",
       " 10  POS     0.740     0.880\n",
       " 11  SFO     0.520     0.650\n",
       " 12  BOS     0.450     0.590\n",
       " 13  KIN     0.780     0.870\n",
       " 14  LIR     0.660     0.870\n",
       " 15  ORD     0.430     0.590\n",
       " 16  PBC     0.490     0.730\n",
       " 17  CNF     0.630     0.800\n",
       " 18  GDL     0.530     0.810\n",
       " 19  IAD     0.460     0.660\n",
       " 20  VCP     0.620     0.810\n",
       " 21  NAS     0.730     0.840\n",
       " 22  AUA     0.790     0.880\n",
       " 23  PBM     0.770     0.900\n",
       " 24  ATL     0.550     0.720\n",
       " 25  PAP     0.770     0.900\n",
       " 26  MCO     0.640     0.820\n",
       " 27  POA     0.610     0.770\n",
       " 28  PTY     0.750     0.880\n",
       " 29  SDQ     0.720     0.870\n",
       " 30  MEX     0.520     0.750\n",
       " 31  CUR     0.790     0.880\n",
       " 32  FLL     0.720     0.830\n",
       " 33  PEI     0.650     0.790\n",
       " 34  SSA     0.750     0.840\n",
       " 35  BGA     0.790     0.880\n",
       " 36  PVR     0.700     0.850\n",
       " 37  SJU     0.750     0.860\n",
       " 38  VSA     0.720     0.890\n",
       " 39  STI     0.700     0.870\n",
       " 40  BGI     0.790     0.880\n",
       " 41  MAO     0.750     0.890\n",
       " 42  REC     0.760     0.860\n",
       " 43  YUL     0.380     0.530\n",
       " 44  BZE     0.750     0.860\n",
       " 45  SMR     0.780     0.900\n",
       " 46  ADZ     0.790     0.850\n",
       " 47  BSB     0.620     0.820\n",
       " 48  MBJ     0.760     0.860\n",
       " 49  SAL     0.740     0.910\n",
       " 50  CTG     0.780     0.870\n",
       " 51  SLA     0.530     0.740\n",
       " 52  XPL     0.670     0.870\n",
       " 53  MSY     0.620     0.780\n",
       " 54  AXM     0.790     0.880\n",
       " 55  PUJ     0.750     0.850\n",
       " 56  GUA     0.530     0.810\n",
       " 57  TGU     0.630     0.820\n",
       " 58  SAP     0.720     0.880\n",
       " 59  JFK     0.490     0.620\n",
       " 60  LAX     0.570     0.750\n",
       " 61  MIA     0.710     0.830\n",
       " 62  GUA     0.600     0.760\n",
       " 63  ASU     0.660     0.830\n",
       " 64  VVI     0.670     0.830\n",
       " 65  GEO     0.750     0.850\n",
       " 66  UIO     0.480     0.650\n",
       " 67  GYE     0.730     0.850\n",
       " 68  HAV     0.700     0.840\n",
       " 69  SNU     0.670     0.840\n",
       " 70  HOG     0.700     0.860\n",
       " 71  EZE     0.580     0.700\n",
       " 72  MDZ     0.530     0.740\n",
       " 73  YYZ     0.410     0.540\n",
       " 74  LIM     0.630     0.730\n",
       " 75  CIX     0.660     0.800\n",
       " 76  IQT     0.730     0.880\n",
       " 77  BOG     0.470     0.650\n",
       " 78  MDE     0.630     0.780\n",
       " 79  CLO     0.660     0.840\n",
       " 80  BAQ     0.770     0.880\n",
       " 81  CCS     0.660     0.810\n",
       " 82  MAR     0.780     0.910\n",
       " 83  VLN     0.700     0.880\n",
       " 84  GIG     0.710     0.820\n",
       " 85  GRU     0.630     0.770\n",
       " 86  FOR     0.770     0.860\n",
       " 87  SJO     0.640     0.780\n",
       " 88  MGA     0.730     0.900\n",
       " 89  MVD     0.550     0.690\n",
       " 90  SCL     0.470     0.730\n",
       " 91  DAV     0.740     0.880,\n",
       " 'data_train':         MEMBER_ID    D\n",
       " 662570  230806216  EZE\n",
       " 565809  233429142  LIM\n",
       " 484599  235396057  TGU\n",
       " 574085  233545003  MIA\n",
       " 197101  233451936  PTY\n",
       " ...           ...  ...\n",
       " 574932  232642898  MCO\n",
       " 328089  230104352  TGU\n",
       " 355175  235640965  HAV\n",
       " 424767  236829904  HAV\n",
       " 306103  236073915  SAL\n",
       " \n",
       " [106977 rows x 2 columns],\n",
       " 'data_valid':         MEMBER_ID    D\n",
       " 524590  232332765  MIA\n",
       " 434372  230169846  ASU\n",
       " 258494  233562562  DAV\n",
       " 517646  230146735  PTY\n",
       " 460245  235892103  NAS\n",
       " ...           ...  ...\n",
       " 572652  230156933  MEX\n",
       " 685478  245116003  JFK\n",
       " 695996  249301476  PTY\n",
       " 367370  240248844  PTY\n",
       " 513344  231392142  BOG\n",
       " \n",
       " [106627 rows x 2 columns],\n",
       " 'data_test':         MEMBER_ID    D\n",
       " 590907  231305773  MGA\n",
       " 169163  234870438  TGU\n",
       " 400627  231556642  PTY\n",
       " 269929  234182946  EZE\n",
       " 227952  236139726  GYE\n",
       " ...           ...  ...\n",
       " 670989  231125637  JFK\n",
       " 533078  230191373  TGU\n",
       " 355482  230901965  MCO\n",
       " 191368  230938774  MGA\n",
       " 709965  236025663  PTY\n",
       " \n",
       " [128315 rows x 2 columns],\n",
       " 'model': <rankfm.rankfm.RankFM at 0x7fb7f069e3d0>,\n",
       " 'hr_run_notfiltered': 0.6563160512246674,\n",
       " 'hr_run_filtered': 0.3474449832152182}"
      ]
     },
     "execution_count": 324,
     "metadata": {},
     "output_type": "execute_result"
    }
   ],
   "source": [
    "rankfm.dct"
   ]
  },
  {
   "cell_type": "code",
   "execution_count": 307,
   "id": "34428411-7161-47ed-9500-ac54cf887d35",
   "metadata": {},
   "outputs": [
    {
     "data": {
      "text/plain": [
       "0.3534019975031211"
      ]
     },
     "execution_count": 307,
     "metadata": {},
     "output_type": "execute_result"
    }
   ],
   "source": [
    "rankfm.dct['hr_run_filtered']"
   ]
  },
  {
   "cell_type": "code",
   "execution_count": 288,
   "id": "3598aa16-45aa-4206-b15c-42ad74029b39",
   "metadata": {},
   "outputs": [
    {
     "ename": "ValueError",
     "evalue": "Buffer has wrong number of dimensions (expected 1, got 2)",
     "output_type": "error",
     "traceback": [
      "\u001b[0;31m---------------------------------------------------------------------------\u001b[0m",
      "\u001b[0;31mValueError\u001b[0m                                Traceback (most recent call last)",
      "\u001b[0;32m<ipython-input-288-0e2f3574b843>\u001b[0m in \u001b[0;36m<module>\u001b[0;34m\u001b[0m\n\u001b[0;32m----> 1\u001b[0;31m \u001b[0mrankfm\u001b[0m\u001b[0;34m.\u001b[0m\u001b[0mupdate_storage\u001b[0m\u001b[0;34m(\u001b[0m\u001b[0;34m)\u001b[0m\u001b[0;34m\u001b[0m\u001b[0;34m\u001b[0m\u001b[0m\n\u001b[0m\u001b[1;32m      2\u001b[0m \u001b[0mrankfm\u001b[0m\u001b[0;34m.\u001b[0m\u001b[0msave\u001b[0m\u001b[0;34m(\u001b[0m\u001b[0;34m\"gordon1.csv\"\u001b[0m\u001b[0;34m)\u001b[0m\u001b[0;34m\u001b[0m\u001b[0;34m\u001b[0m\u001b[0m\n",
      "\u001b[0;32m<ipython-input-281-be9ff9627cfc>\u001b[0m in \u001b[0;36mupdate_storage\u001b[0;34m(self)\u001b[0m\n\u001b[1;32m     39\u001b[0m         \u001b[0mdct_copy\u001b[0m\u001b[0;34m[\u001b[0m\u001b[0;34m'age_cuts'\u001b[0m\u001b[0;34m]\u001b[0m \u001b[0;34m=\u001b[0m \u001b[0mstr\u001b[0m\u001b[0;34m(\u001b[0m\u001b[0mdct_copy\u001b[0m\u001b[0;34m[\u001b[0m\u001b[0;34m'age_cuts'\u001b[0m\u001b[0;34m]\u001b[0m\u001b[0;34m)\u001b[0m\u001b[0;34m\u001b[0m\u001b[0;34m\u001b[0m\u001b[0m\n\u001b[1;32m     40\u001b[0m \u001b[0;34m\u001b[0m\u001b[0m\n\u001b[0;32m---> 41\u001b[0;31m         \u001b[0mself\u001b[0m\u001b[0;34m.\u001b[0m\u001b[0mdf\u001b[0m \u001b[0;34m=\u001b[0m \u001b[0mpd\u001b[0m\u001b[0;34m.\u001b[0m\u001b[0mconcat\u001b[0m\u001b[0;34m(\u001b[0m\u001b[0;34m[\u001b[0m\u001b[0mself\u001b[0m\u001b[0;34m.\u001b[0m\u001b[0mdf\u001b[0m\u001b[0;34m,\u001b[0m \u001b[0mpd\u001b[0m\u001b[0;34m.\u001b[0m\u001b[0mDataFrame\u001b[0m\u001b[0;34m(\u001b[0m\u001b[0mdct_copy\u001b[0m\u001b[0;34m,\u001b[0m \u001b[0mindex\u001b[0m\u001b[0;34m=\u001b[0m\u001b[0;34m[\u001b[0m\u001b[0;36m0\u001b[0m\u001b[0;34m]\u001b[0m\u001b[0;34m)\u001b[0m\u001b[0;34m]\u001b[0m\u001b[0;34m)\u001b[0m\u001b[0;34m\u001b[0m\u001b[0;34m\u001b[0m\u001b[0m\n\u001b[0m\u001b[1;32m     42\u001b[0m \u001b[0;34m\u001b[0m\u001b[0m\n\u001b[1;32m     43\u001b[0m     \u001b[0;32mdef\u001b[0m \u001b[0msave\u001b[0m\u001b[0;34m(\u001b[0m\u001b[0mself\u001b[0m\u001b[0;34m,\u001b[0m \u001b[0mout_file\u001b[0m\u001b[0;34m)\u001b[0m\u001b[0;34m:\u001b[0m\u001b[0;34m\u001b[0m\u001b[0;34m\u001b[0m\u001b[0m\n",
      "\u001b[0;32m~/anaconda3/lib/python3.8/site-packages/pandas/core/frame.py\u001b[0m in \u001b[0;36m__init__\u001b[0;34m(self, data, index, columns, dtype, copy)\u001b[0m\n\u001b[1;32m    634\u001b[0m         \u001b[0;32melif\u001b[0m \u001b[0misinstance\u001b[0m\u001b[0;34m(\u001b[0m\u001b[0mdata\u001b[0m\u001b[0;34m,\u001b[0m \u001b[0mdict\u001b[0m\u001b[0;34m)\u001b[0m\u001b[0;34m:\u001b[0m\u001b[0;34m\u001b[0m\u001b[0;34m\u001b[0m\u001b[0m\n\u001b[1;32m    635\u001b[0m             \u001b[0;31m# GH#38939 de facto copy defaults to False only in non-dict cases\u001b[0m\u001b[0;34m\u001b[0m\u001b[0;34m\u001b[0m\u001b[0;34m\u001b[0m\u001b[0m\n\u001b[0;32m--> 636\u001b[0;31m             \u001b[0mmgr\u001b[0m \u001b[0;34m=\u001b[0m \u001b[0mdict_to_mgr\u001b[0m\u001b[0;34m(\u001b[0m\u001b[0mdata\u001b[0m\u001b[0;34m,\u001b[0m \u001b[0mindex\u001b[0m\u001b[0;34m,\u001b[0m \u001b[0mcolumns\u001b[0m\u001b[0;34m,\u001b[0m \u001b[0mdtype\u001b[0m\u001b[0;34m=\u001b[0m\u001b[0mdtype\u001b[0m\u001b[0;34m,\u001b[0m \u001b[0mcopy\u001b[0m\u001b[0;34m=\u001b[0m\u001b[0mcopy\u001b[0m\u001b[0;34m,\u001b[0m \u001b[0mtyp\u001b[0m\u001b[0;34m=\u001b[0m\u001b[0mmanager\u001b[0m\u001b[0;34m)\u001b[0m\u001b[0;34m\u001b[0m\u001b[0;34m\u001b[0m\u001b[0m\n\u001b[0m\u001b[1;32m    637\u001b[0m         \u001b[0;32melif\u001b[0m \u001b[0misinstance\u001b[0m\u001b[0;34m(\u001b[0m\u001b[0mdata\u001b[0m\u001b[0;34m,\u001b[0m \u001b[0mma\u001b[0m\u001b[0;34m.\u001b[0m\u001b[0mMaskedArray\u001b[0m\u001b[0;34m)\u001b[0m\u001b[0;34m:\u001b[0m\u001b[0;34m\u001b[0m\u001b[0;34m\u001b[0m\u001b[0m\n\u001b[1;32m    638\u001b[0m             \u001b[0;32mimport\u001b[0m \u001b[0mnumpy\u001b[0m\u001b[0;34m.\u001b[0m\u001b[0mma\u001b[0m\u001b[0;34m.\u001b[0m\u001b[0mmrecords\u001b[0m \u001b[0;32mas\u001b[0m \u001b[0mmrecords\u001b[0m\u001b[0;34m\u001b[0m\u001b[0;34m\u001b[0m\u001b[0m\n",
      "\u001b[0;32m~/anaconda3/lib/python3.8/site-packages/pandas/core/internals/construction.py\u001b[0m in \u001b[0;36mdict_to_mgr\u001b[0;34m(data, index, columns, dtype, typ, copy)\u001b[0m\n\u001b[1;32m    500\u001b[0m         \u001b[0;31m# TODO: can we get rid of the dt64tz special case above?\u001b[0m\u001b[0;34m\u001b[0m\u001b[0;34m\u001b[0m\u001b[0;34m\u001b[0m\u001b[0m\n\u001b[1;32m    501\u001b[0m \u001b[0;34m\u001b[0m\u001b[0m\n\u001b[0;32m--> 502\u001b[0;31m     \u001b[0;32mreturn\u001b[0m \u001b[0marrays_to_mgr\u001b[0m\u001b[0;34m(\u001b[0m\u001b[0marrays\u001b[0m\u001b[0;34m,\u001b[0m \u001b[0mcolumns\u001b[0m\u001b[0;34m,\u001b[0m \u001b[0mindex\u001b[0m\u001b[0;34m,\u001b[0m \u001b[0mdtype\u001b[0m\u001b[0;34m=\u001b[0m\u001b[0mdtype\u001b[0m\u001b[0;34m,\u001b[0m \u001b[0mtyp\u001b[0m\u001b[0;34m=\u001b[0m\u001b[0mtyp\u001b[0m\u001b[0;34m,\u001b[0m \u001b[0mconsolidate\u001b[0m\u001b[0;34m=\u001b[0m\u001b[0mcopy\u001b[0m\u001b[0;34m)\u001b[0m\u001b[0;34m\u001b[0m\u001b[0;34m\u001b[0m\u001b[0m\n\u001b[0m\u001b[1;32m    503\u001b[0m \u001b[0;34m\u001b[0m\u001b[0m\n\u001b[1;32m    504\u001b[0m \u001b[0;34m\u001b[0m\u001b[0m\n",
      "\u001b[0;32m~/anaconda3/lib/python3.8/site-packages/pandas/core/internals/construction.py\u001b[0m in \u001b[0;36marrays_to_mgr\u001b[0;34m(arrays, columns, index, dtype, verify_integrity, typ, consolidate)\u001b[0m\n\u001b[1;32m    123\u001b[0m \u001b[0;34m\u001b[0m\u001b[0m\n\u001b[1;32m    124\u001b[0m         \u001b[0;31m# don't force copy because getting jammed in an ndarray anyway\u001b[0m\u001b[0;34m\u001b[0m\u001b[0;34m\u001b[0m\u001b[0;34m\u001b[0m\u001b[0m\n\u001b[0;32m--> 125\u001b[0;31m         \u001b[0marrays\u001b[0m \u001b[0;34m=\u001b[0m \u001b[0m_homogenize\u001b[0m\u001b[0;34m(\u001b[0m\u001b[0marrays\u001b[0m\u001b[0;34m,\u001b[0m \u001b[0mindex\u001b[0m\u001b[0;34m,\u001b[0m \u001b[0mdtype\u001b[0m\u001b[0;34m)\u001b[0m\u001b[0;34m\u001b[0m\u001b[0;34m\u001b[0m\u001b[0m\n\u001b[0m\u001b[1;32m    126\u001b[0m         \u001b[0;31m# _homogenize ensures\u001b[0m\u001b[0;34m\u001b[0m\u001b[0;34m\u001b[0m\u001b[0;34m\u001b[0m\u001b[0m\n\u001b[1;32m    127\u001b[0m         \u001b[0;31m#  - all(len(x) == len(index) for x in arrays)\u001b[0m\u001b[0;34m\u001b[0m\u001b[0;34m\u001b[0m\u001b[0;34m\u001b[0m\u001b[0m\n",
      "\u001b[0;32m~/anaconda3/lib/python3.8/site-packages/pandas/core/internals/construction.py\u001b[0m in \u001b[0;36m_homogenize\u001b[0;34m(data, index, dtype)\u001b[0m\n\u001b[1;32m    623\u001b[0m                 \u001b[0mval\u001b[0m \u001b[0;34m=\u001b[0m \u001b[0mlib\u001b[0m\u001b[0;34m.\u001b[0m\u001b[0mfast_multiget\u001b[0m\u001b[0;34m(\u001b[0m\u001b[0mval\u001b[0m\u001b[0;34m,\u001b[0m \u001b[0moindex\u001b[0m\u001b[0;34m.\u001b[0m\u001b[0m_values\u001b[0m\u001b[0;34m,\u001b[0m \u001b[0mdefault\u001b[0m\u001b[0;34m=\u001b[0m\u001b[0mnp\u001b[0m\u001b[0;34m.\u001b[0m\u001b[0mnan\u001b[0m\u001b[0;34m)\u001b[0m\u001b[0;34m\u001b[0m\u001b[0;34m\u001b[0m\u001b[0m\n\u001b[1;32m    624\u001b[0m \u001b[0;34m\u001b[0m\u001b[0m\n\u001b[0;32m--> 625\u001b[0;31m             val = sanitize_array(\n\u001b[0m\u001b[1;32m    626\u001b[0m                 \u001b[0mval\u001b[0m\u001b[0;34m,\u001b[0m \u001b[0mindex\u001b[0m\u001b[0;34m,\u001b[0m \u001b[0mdtype\u001b[0m\u001b[0;34m=\u001b[0m\u001b[0mdtype\u001b[0m\u001b[0;34m,\u001b[0m \u001b[0mcopy\u001b[0m\u001b[0;34m=\u001b[0m\u001b[0;32mFalse\u001b[0m\u001b[0;34m,\u001b[0m \u001b[0mraise_cast_failure\u001b[0m\u001b[0;34m=\u001b[0m\u001b[0;32mFalse\u001b[0m\u001b[0;34m\u001b[0m\u001b[0;34m\u001b[0m\u001b[0m\n\u001b[1;32m    627\u001b[0m             )\n",
      "\u001b[0;32m~/anaconda3/lib/python3.8/site-packages/pandas/core/construction.py\u001b[0m in \u001b[0;36msanitize_array\u001b[0;34m(data, index, dtype, copy, raise_cast_failure, allow_2d)\u001b[0m\n\u001b[1;32m    594\u001b[0m             \u001b[0msubarr\u001b[0m \u001b[0;34m=\u001b[0m \u001b[0m_try_cast\u001b[0m\u001b[0;34m(\u001b[0m\u001b[0mdata\u001b[0m\u001b[0;34m,\u001b[0m \u001b[0mdtype\u001b[0m\u001b[0;34m,\u001b[0m \u001b[0mcopy\u001b[0m\u001b[0;34m,\u001b[0m \u001b[0mraise_cast_failure\u001b[0m\u001b[0;34m)\u001b[0m\u001b[0;34m\u001b[0m\u001b[0;34m\u001b[0m\u001b[0m\n\u001b[1;32m    595\u001b[0m         \u001b[0;32melse\u001b[0m\u001b[0;34m:\u001b[0m\u001b[0;34m\u001b[0m\u001b[0;34m\u001b[0m\u001b[0m\n\u001b[0;32m--> 596\u001b[0;31m             \u001b[0msubarr\u001b[0m \u001b[0;34m=\u001b[0m \u001b[0mmaybe_convert_platform\u001b[0m\u001b[0;34m(\u001b[0m\u001b[0mdata\u001b[0m\u001b[0;34m)\u001b[0m\u001b[0;34m\u001b[0m\u001b[0;34m\u001b[0m\u001b[0m\n\u001b[0m\u001b[1;32m    597\u001b[0m             \u001b[0;32mif\u001b[0m \u001b[0msubarr\u001b[0m\u001b[0;34m.\u001b[0m\u001b[0mdtype\u001b[0m \u001b[0;34m==\u001b[0m \u001b[0mobject\u001b[0m\u001b[0;34m:\u001b[0m\u001b[0;34m\u001b[0m\u001b[0;34m\u001b[0m\u001b[0m\n\u001b[1;32m    598\u001b[0m                 \u001b[0msubarr\u001b[0m \u001b[0;34m=\u001b[0m \u001b[0mcast\u001b[0m\u001b[0;34m(\u001b[0m\u001b[0mnp\u001b[0m\u001b[0;34m.\u001b[0m\u001b[0mndarray\u001b[0m\u001b[0;34m,\u001b[0m \u001b[0msubarr\u001b[0m\u001b[0;34m)\u001b[0m\u001b[0;34m\u001b[0m\u001b[0;34m\u001b[0m\u001b[0m\n",
      "\u001b[0;32m~/anaconda3/lib/python3.8/site-packages/pandas/core/dtypes/cast.py\u001b[0m in \u001b[0;36mmaybe_convert_platform\u001b[0;34m(values)\u001b[0m\n\u001b[1;32m    128\u001b[0m     \u001b[0;32mif\u001b[0m \u001b[0marr\u001b[0m\u001b[0;34m.\u001b[0m\u001b[0mdtype\u001b[0m \u001b[0;34m==\u001b[0m \u001b[0m_dtype_obj\u001b[0m\u001b[0;34m:\u001b[0m\u001b[0;34m\u001b[0m\u001b[0;34m\u001b[0m\u001b[0m\n\u001b[1;32m    129\u001b[0m         \u001b[0marr\u001b[0m \u001b[0;34m=\u001b[0m \u001b[0mcast\u001b[0m\u001b[0;34m(\u001b[0m\u001b[0mnp\u001b[0m\u001b[0;34m.\u001b[0m\u001b[0mndarray\u001b[0m\u001b[0;34m,\u001b[0m \u001b[0marr\u001b[0m\u001b[0;34m)\u001b[0m\u001b[0;34m\u001b[0m\u001b[0;34m\u001b[0m\u001b[0m\n\u001b[0;32m--> 130\u001b[0;31m         \u001b[0marr\u001b[0m \u001b[0;34m=\u001b[0m \u001b[0mlib\u001b[0m\u001b[0;34m.\u001b[0m\u001b[0mmaybe_convert_objects\u001b[0m\u001b[0;34m(\u001b[0m\u001b[0marr\u001b[0m\u001b[0;34m)\u001b[0m\u001b[0;34m\u001b[0m\u001b[0;34m\u001b[0m\u001b[0m\n\u001b[0m\u001b[1;32m    131\u001b[0m \u001b[0;34m\u001b[0m\u001b[0m\n\u001b[1;32m    132\u001b[0m     \u001b[0;32mreturn\u001b[0m \u001b[0marr\u001b[0m\u001b[0;34m\u001b[0m\u001b[0;34m\u001b[0m\u001b[0m\n",
      "\u001b[0;32m~/anaconda3/lib/python3.8/site-packages/pandas/_libs/lib.pyx\u001b[0m in \u001b[0;36mpandas._libs.lib.maybe_convert_objects\u001b[0;34m()\u001b[0m\n",
      "\u001b[0;31mValueError\u001b[0m: Buffer has wrong number of dimensions (expected 1, got 2)"
     ]
    }
   ],
   "source": [
    "rankfm.update_storage()\n",
    "rankfm.save(\"gordon1.csv\")"
   ]
  },
  {
   "cell_type": "code",
   "execution_count": 48,
   "id": "6b798d6f-440e-44f9-a467-7a7d04f98dae",
   "metadata": {},
   "outputs": [
    {
     "name": "stdout",
     "output_type": "stream",
     "text": [
      "hr (previous filtered):  0.3554201889607161\n",
      "hr (previous not filtered):  0.6575397812033814\n",
      "hit rate (without previous filter) =  0.46593932943054817\n",
      "hit rate (with previous filter) =  0.3057869219293884\n"
     ]
    }
   ],
   "source": [
    "rankfm.run_model()\n",
    "rankfm.recommender()"
   ]
  },
  {
   "cell_type": "code",
   "execution_count": 16,
   "id": "164b2716-0acf-4c57-8c89-e8f190073af4",
   "metadata": {},
   "outputs": [],
   "source": [
    "loss = 'warp'\n",
    "loss = 'bpr'  # nb neg samples = 1\n",
    "model = (RankFMfactors=20, loss=loss, max_samples=10000, alpha=0.05, beta=0.1, learning_rate=0.1, learning_schedule='constant')"
   ]
  },
  {
   "cell_type": "code",
   "execution_count": 33,
   "id": "a48c442f-dc1d-48b1-9bc2-eb024bcc294b",
   "metadata": {},
   "outputs": [
    {
     "name": "stdout",
     "output_type": "stream",
     "text": [
      "hit rate (without previous filter) =  0.5381852048962213\n",
      "hit rate (with previous filter) =  0.31147439085032325\n",
      "CPU times: user 16.5 s, sys: 216 ms, total: 16.7 s\n",
      "Wall time: 16.6 s\n"
     ]
    }
   ],
   "source": [
    "%%time\n",
    "rankfm.recommender()"
   ]
  },
  {
   "cell_type": "code",
   "execution_count": 32,
   "id": "295ae08d-4235-4d39-837c-4c2f2be1e479",
   "metadata": {},
   "outputs": [
    {
     "name": "stdout",
     "output_type": "stream",
     "text": [
      "hr (previous filtered):  0.35980233714569865\n",
      "hr (previous not filtered):  0.69039035305818\n",
      "CPU times: user 8 s, sys: 15.1 ms, total: 8.02 s\n",
      "Wall time: 8 s\n"
     ]
    }
   ],
   "source": [
    "%%time\n",
    "rankfm.run_model()"
   ]
  },
  {
   "cell_type": "code",
   "execution_count": 44,
   "id": "5677cb60-bf48-4a88-bdde-ae4b99d9a18f",
   "metadata": {},
   "outputs": [
    {
     "data": {
      "text/plain": [
       "dict_keys(['train_offset', 'train_perc', 'valid_perc', 'nb_epochs', 'with_attrib', 'factors', 'loss', 'max_samples', 'alpha', 'beta', 'learning_rate', 'learning_schedule', 'keep_nb_members', 'temporal', 'age_cuts', 'topN', 'df_members', 'df_user_attr', 'df_item_attr', 'data_train', 'data_valid', 'data_test', 'model', 'train_dest_sets', 'valid_dest_sets'])"
      ]
     },
     "execution_count": 44,
     "metadata": {},
     "output_type": "execute_result"
    }
   ],
   "source": [
    "rankfm.dct.keys()"
   ]
  },
  {
   "cell_type": "code",
   "execution_count": 45,
   "id": "1291600b-8dff-4c75-afe6-3fe9a3f354fd",
   "metadata": {
    "collapsed": true,
    "jupyter": {
     "outputs_hidden": true
    },
    "tags": []
   },
   "outputs": [
    {
     "data": {
      "text/plain": [
       "{'train_offset': 0.0,\n",
       " 'train_perc': 0.3,\n",
       " 'valid_perc': 0.3,\n",
       " 'nb_epochs': 100,\n",
       " 'with_attrib': True,\n",
       " 'factors': 20,\n",
       " 'loss': 'bpr',\n",
       " 'max_samples': 300,\n",
       " 'alpha': 0.05,\n",
       " 'beta': 0.1,\n",
       " 'learning_rate': 0.1,\n",
       " 'learning_schedule': 'constant',\n",
       " 'keep_nb_members': None,\n",
       " 'temporal': True,\n",
       " 'age_cuts': [0, 30, 60, 70, 150],\n",
       " 'topN': 5,\n",
       " 'df_members':         MEMBER_ID    D\n",
       " 184610  230144517  LIM\n",
       " 376198  230153282  HAV\n",
       " 556112  231307987  PTY\n",
       " 539512  230098494  GUA\n",
       " 60815   231183678  PTY\n",
       " ...           ...  ...\n",
       " 473973  232648465  SNU\n",
       " 705784  247791775  CUN\n",
       " 150110  230149314  SAL\n",
       " 683002  234902782  PTY\n",
       " 400597  231333036  MDE\n",
       " \n",
       " [714086 rows x 2 columns],\n",
       " 'df_user_attr':         MEMBER_ID  age_dep_(0, 30]  age_dep_(30, 60]  age_dep_(60, 70]  \\\n",
       " 184610  230144517                0                 1                 0   \n",
       " 376198  230153282                0                 1                 0   \n",
       " 556112  231307987                0                 1                 0   \n",
       " 539512  230098494                0                 1                 0   \n",
       " 60815   231183678                0                 1                 0   \n",
       " ...           ...              ...               ...               ...   \n",
       " 711044  241407016                0                 1                 0   \n",
       " 713669  262595946                0                 1                 0   \n",
       " 711554  241023405                0                 1                 0   \n",
       " 711553  267879572                0                 1                 0   \n",
       " 713671  236208816                0                 0                 1   \n",
       " \n",
       "         age_dep_(70, 150]  \n",
       " 184610                  0  \n",
       " 376198                  0  \n",
       " 556112                  0  \n",
       " 539512                  0  \n",
       " 60815                   0  \n",
       " ...                   ...  \n",
       " 711044                  0  \n",
       " 713669                  0  \n",
       " 711554                  0  \n",
       " 711553                  0  \n",
       " 713671                  0  \n",
       " \n",
       " [46321 rows x 5 columns],\n",
       " 'df_item_attr':       D  avg_yr_l  avg_yr_h\n",
       " 0   CUN     0.720     0.860\n",
       " 1   TPA     0.660     0.810\n",
       " 2   CUC     0.750     0.880\n",
       " 3   COR     0.540     0.750\n",
       " 4   DEN     0.390     0.640\n",
       " 5   LAS     0.590     0.810\n",
       " 6   ROS     0.550     0.740\n",
       " 7   SXM     0.780     0.860\n",
       " 8   MTY     0.640     0.840\n",
       " 9   BLA     0.790     0.880\n",
       " 10  POS     0.740     0.880\n",
       " 11  SFO     0.520     0.650\n",
       " 12  BOS     0.450     0.590\n",
       " 13  KIN     0.780     0.870\n",
       " 14  LIR     0.660     0.870\n",
       " 15  ORD     0.430     0.590\n",
       " 16  PBC     0.490     0.730\n",
       " 17  CNF     0.630     0.800\n",
       " 18  GDL     0.530     0.810\n",
       " 19  IAD     0.460     0.660\n",
       " 20  VCP     0.620     0.810\n",
       " 21  NAS     0.730     0.840\n",
       " 22  AUA     0.790     0.880\n",
       " 23  PBM     0.770     0.900\n",
       " 24  ATL     0.550     0.720\n",
       " 25  PAP     0.770     0.900\n",
       " 26  MCO     0.640     0.820\n",
       " 27  POA     0.610     0.770\n",
       " 28  PTY     0.750     0.880\n",
       " 29  SDQ     0.720     0.870\n",
       " 30  MEX     0.520     0.750\n",
       " 31  CUR     0.790     0.880\n",
       " 32  FLL     0.720     0.830\n",
       " 33  PEI     0.650     0.790\n",
       " 34  SSA     0.750     0.840\n",
       " 35  BGA     0.790     0.880\n",
       " 36  PVR     0.700     0.850\n",
       " 37  SJU     0.750     0.860\n",
       " 38  VSA     0.720     0.890\n",
       " 39  STI     0.700     0.870\n",
       " 40  BGI     0.790     0.880\n",
       " 41  MAO     0.750     0.890\n",
       " 42  REC     0.760     0.860\n",
       " 43  YUL     0.380     0.530\n",
       " 44  BZE     0.750     0.860\n",
       " 45  SMR     0.780     0.900\n",
       " 46  ADZ     0.790     0.850\n",
       " 47  BSB     0.620     0.820\n",
       " 48  MBJ     0.760     0.860\n",
       " 49  SAL     0.740     0.910\n",
       " 50  CTG     0.780     0.870\n",
       " 51  SLA     0.530     0.740\n",
       " 52  XPL     0.670     0.870\n",
       " 53  MSY     0.620     0.780\n",
       " 54  AXM     0.790     0.880\n",
       " 55  PUJ     0.750     0.850\n",
       " 56  GUA     0.530     0.810\n",
       " 57  TGU     0.630     0.820\n",
       " 58  SAP     0.720     0.880\n",
       " 59  JFK     0.490     0.620\n",
       " 60  LAX     0.570     0.750\n",
       " 61  MIA     0.710     0.830\n",
       " 62  GUA     0.600     0.760\n",
       " 63  ASU     0.660     0.830\n",
       " 64  VVI     0.670     0.830\n",
       " 65  GEO     0.750     0.850\n",
       " 66  UIO     0.480     0.650\n",
       " 67  GYE     0.730     0.850\n",
       " 68  HAV     0.700     0.840\n",
       " 69  SNU     0.670     0.840\n",
       " 70  HOG     0.700     0.860\n",
       " 71  EZE     0.580     0.700\n",
       " 72  MDZ     0.530     0.740\n",
       " 73  YYZ     0.410     0.540\n",
       " 74  LIM     0.630     0.730\n",
       " 75  CIX     0.660     0.800\n",
       " 76  IQT     0.730     0.880\n",
       " 77  BOG     0.470     0.650\n",
       " 78  MDE     0.630     0.780\n",
       " 79  CLO     0.660     0.840\n",
       " 80  BAQ     0.770     0.880\n",
       " 81  CCS     0.660     0.810\n",
       " 82  MAR     0.780     0.910\n",
       " 83  VLN     0.700     0.880\n",
       " 84  GIG     0.710     0.820\n",
       " 85  GRU     0.630     0.770\n",
       " 86  FOR     0.770     0.860\n",
       " 87  SJO     0.640     0.780\n",
       " 88  MGA     0.730     0.900\n",
       " 89  MVD     0.550     0.690\n",
       " 90  SCL     0.470     0.730\n",
       " 91  DAV     0.740     0.880,\n",
       " 'data_train':         MEMBER_ID    D\n",
       " 578751  235691704  PTY\n",
       " 528136  230116053  MGA\n",
       " 186029  234176064  GUA\n",
       " 381870  241241816  LIM\n",
       " 66176   231847352  SJO\n",
       " ...           ...  ...\n",
       " 457112  230010574  SJO\n",
       " 355825  231602967  MIA\n",
       " 204804  230428636  MEX\n",
       " 506808  238287488  PUJ\n",
       " 223200  239959184  SAP\n",
       " \n",
       " [106942 rows x 2 columns],\n",
       " 'data_valid':         MEMBER_ID    D\n",
       " 535885  231670738  PTY\n",
       " 125688  230352793  VVI\n",
       " 693517  250732976  BOG\n",
       " 169670  231185863  YYZ\n",
       " 675053  231886644  PTY\n",
       " ...           ...  ...\n",
       " 521785  232141208  MCO\n",
       " 709185  255050532  EZE\n",
       " 509356  235468297  LIM\n",
       " 669798  234598584  ORD\n",
       " 510786  243449933  PTY\n",
       " \n",
       " [106642 rows x 2 columns],\n",
       " 'data_test':         MEMBER_ID    D\n",
       " 6755    230319447  CTG\n",
       " 274964  230021472  TGU\n",
       " 96346   230108633  BOG\n",
       " 357437  232899603  PTY\n",
       " 486308  230064706  IAD\n",
       " ...           ...  ...\n",
       " 572919  241119434  MEX\n",
       " 494593  234476272  LAS\n",
       " 576407  233955656  YYZ\n",
       " 414847  231860405  FLL\n",
       " 560102  233625407  JFK\n",
       " \n",
       " [128368 rows x 2 columns],\n",
       " 'model': <rankfm.rankfm.RankFM at 0x7fb81cd5f8e0>,\n",
       " 'train_dest_sets':                               D  MEMBER_ID\n",
       " MEMBER_ID                                 \n",
       " 100031203            {SJO, LIR}  100031203\n",
       " 100031892                 {BOG}  100031892\n",
       " 100034364                 {SDQ}  100034364\n",
       " 100034902                 {PTY}  100034902\n",
       " 100035145            {SJO, MDE}  100035145\n",
       " ...                         ...        ...\n",
       " 266276325                 {CCS}  266276325\n",
       " 267031776                 {EZE}  267031776\n",
       " 267818134                 {EZE}  267818134\n",
       " 267825112  {SJO, GUA, PTY, KIN}  267825112\n",
       " 269972675            {PUJ, HOG}  269972675\n",
       " \n",
       " [37740 rows x 2 columns],\n",
       " 'valid_dest_sets':                               D  MEMBER_ID\n",
       " MEMBER_ID                                 \n",
       " 100031203            {SJO, LIR}  100031203\n",
       " 100031892                 {BOG}  100031892\n",
       " 100034364       {MCO, CUN, BOG}  100034364\n",
       " 100034902                 {PTY}  100034902\n",
       " 100036287                 {PTY}  100036287\n",
       " ...                         ...        ...\n",
       " 266592515                 {CUN}  266592515\n",
       " 267031776                 {SDQ}  267031776\n",
       " 267825112  {SJO, GUA, PTY, SAL}  267825112\n",
       " 267879572                 {PTY}  267879572\n",
       " 270380075                 {MIA}  270380075\n",
       " \n",
       " [37580 rows x 2 columns]}"
      ]
     },
     "execution_count": 45,
     "metadata": {},
     "output_type": "execute_result"
    }
   ],
   "source": [
    "rankfm.dct"
   ]
  },
  {
   "cell_type": "code",
   "execution_count": 325,
   "id": "2aabd86f-ce05-45db-8d39-2879d426b92e",
   "metadata": {},
   "outputs": [],
   "source": [
    "rankfm.save(\"xxx.csv\")"
   ]
  },
  {
   "cell_type": "code",
   "execution_count": null,
   "id": "65dbc773-06a0-414d-a506-38ce2e1ba179",
   "metadata": {},
   "outputs": [],
   "source": []
  }
 ],
 "metadata": {
  "kernelspec": {
   "display_name": "Python 3 (ipykernel)",
   "language": "python",
   "name": "python3"
  },
  "language_info": {
   "codemirror_mode": {
    "name": "ipython",
    "version": 3
   },
   "file_extension": ".py",
   "mimetype": "text/x-python",
   "name": "python",
   "nbconvert_exporter": "python",
   "pygments_lexer": "ipython3",
   "version": "3.8.13"
  }
 },
 "nbformat": 4,
 "nbformat_minor": 5
}
