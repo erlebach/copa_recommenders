{
 "cells": [
  {
   "cell_type": "code",
   "execution_count": 241,
   "id": "30420a00-b8b5-4abd-8ec6-177ecbc16bd6",
   "metadata": {
    "tags": []
   },
   "outputs": [
    {
     "name": "stdout",
     "output_type": "stream",
     "text": [
      "The autoreload extension is already loaded. To reload it, use:\n",
      "  %reload_ext autoreload\n"
     ]
    }
   ],
   "source": [
    "%load_ext autoreload\n",
    "%autoreload 2"
   ]
  },
  {
   "cell_type": "code",
   "execution_count": 242,
   "id": "b617c0a3-0829-452e-a991-8625e9a4fa16",
   "metadata": {
    "tags": []
   },
   "outputs": [],
   "source": [
    "import hit_rates as hr\n",
    "import rankfmlib as fmlib\n",
    "# new library for performance studies built from rankfmlib to read a single file rather than yearly files.\n",
    "import newlib\n",
    "import pandas as pd\n",
    "import numpy as np\n",
    "from sklearn.model_selection import train_test_split\n",
    "from rankfm.rankfm import RankFM\n",
    "import function_lib as flib\n",
    "\n",
    "from rankfm.evaluation import hit_rate"
   ]
  },
  {
   "cell_type": "markdown",
   "id": "f30a59d9-2a85-487c-8b73-657a77275def",
   "metadata": {},
   "source": [
    "Read member attributes"
   ]
  },
  {
   "cell_type": "code",
   "execution_count": 243,
   "id": "720ff300-633a-4201-aa65-2b0f72392770",
   "metadata": {},
   "outputs": [
    {
     "name": "stdout",
     "output_type": "stream",
     "text": [
      "CPU times: user 33.1 ms, sys: 31 µs, total: 33.1 ms\n",
      "Wall time: 33.1 ms\n"
     ]
    }
   ],
   "source": [
    "%%time\n",
    "# Perhaps add an argument stating which colums are attributes\n",
    "interaction_dct = newlib.read_data_attributes_single_file(\"activity_reduced_with_attributes.csv\",\n",
    "                                                        age_cuts=[0,30,50,70,150])"
   ]
  },
  {
   "cell_type": "code",
   "execution_count": 244,
   "id": "47051af3-863c-4a04-92b7-63c3dcf84666",
   "metadata": {},
   "outputs": [
    {
     "name": "stdout",
     "output_type": "stream",
     "text": [
      "(714086, 2)\n",
      "dict_keys(['df_members', 'df_user_attr', 'df_item_attr', 'data_train', 'data_valid', 'data_test'])\n",
      "CPU times: user 80.7 ms, sys: 8 µs, total: 80.7 ms\n",
      "Wall time: 80.8 ms\n"
     ]
    }
   ],
   "source": [
    "%%time\n",
    "newlib.train_valid_dct(interaction_dct, train_perc=0.7, valid_perc=0.1, temporal=False)\n",
    "print(interaction_dct.keys())"
   ]
  },
  {
   "cell_type": "code",
   "execution_count": 245,
   "id": "ff06e62b-851a-4690-9239-9da9991fdf7d",
   "metadata": {},
   "outputs": [
    {
     "data": {
      "text/plain": [
       "((180388, 2), (49069, 2), (714086, 2))"
      ]
     },
     "execution_count": 245,
     "metadata": {},
     "output_type": "execute_result"
    }
   ],
   "source": [
    "data_train = interaction_dct['data_train']\n",
    "data_valid = interaction_dct['data_valid']\n",
    "df_members = interaction_dct['df_members']\n",
    "df_user_attrib = interaction_dct['df_user_attr']\n",
    "data_train.shape, data_valid.shape, df_members.shape, "
   ]
  },
  {
   "cell_type": "code",
   "execution_count": 246,
   "id": "cd80de2d-352b-47e4-9dba-1f91818c99d4",
   "metadata": {},
   "outputs": [
    {
     "data": {
      "text/plain": [
       "set()"
      ]
     },
     "execution_count": 246,
     "metadata": {},
     "output_type": "execute_result"
    }
   ],
   "source": [
    "# Check that member_attrib is a superset of data_train\n",
    "df_member_attrib = interaction_dct['df_user_attr']\n",
    "set(data_train.MEMBER_ID) - set(df_member_attrib.MEMBER_ID)"
   ]
  },
  {
   "cell_type": "code",
   "execution_count": 247,
   "id": "0c418035-b781-4d0a-a6aa-2fd4b049383d",
   "metadata": {},
   "outputs": [],
   "source": [
    "loss = 'warp'\n",
    "loss = 'bpr'  # nb neg samples = 1\n",
    "model = RankFM(factors=20, loss=loss, max_samples=10000, alpha=0.05, beta=0.1, learning_rate=0.1, learning_schedule='constant')"
   ]
  },
  {
   "cell_type": "markdown",
   "id": "f2d756b2-4e52-4278-b6b2-0e0bf7814413",
   "metadata": {},
   "source": [
    "The problem to solve: Why are results worse with filter=False? To figure this out, I may have to write my own recommender and hit_rate functions. \n",
    " 1) optimize parameter without attributes\n",
    " 2) optimize age brackets using just one attribute\n",
    " 3) optimize temperature brackets (destination features) using just one attribute\n",
    " 4) add gender, country of origin to the member attributes\n",
    " \n",
    " One problem found was that I was removing duplicate Member/Destinations too early. They must be removed from \n",
    " the training and validation sets separately. Now I get up to 40% if data is not filtered. However, I only get 10% accuracy\n",
    " when the previous data is filtered. WHY? "
   ]
  },
  {
   "cell_type": "markdown",
   "id": "54fc126f-1f01-4416-b01a-c8e7c6d4b640",
   "metadata": {},
   "source": [
    "___"
   ]
  },
  {
   "cell_type": "markdown",
   "id": "8524554e-1ed6-4b86-8e02-78ab109e10f3",
   "metadata": {},
   "source": [
    "Temporal=True"
   ]
  },
  {
   "cell_type": "code",
   "execution_count": 248,
   "id": "5bfd74bb-e643-402e-9006-adc7aa878252",
   "metadata": {},
   "outputs": [
    {
     "name": "stdout",
     "output_type": "stream",
     "text": [
      "-- nb epochs:  50\n",
      "hr (previous filtered):  0.09409471837848372\n",
      "hr (previous not filtered):  0.3880335217306568\n",
      "------------------------------------------\n",
      "-- nb epochs:  100\n"
     ]
    },
    {
     "ename": "KeyboardInterrupt",
     "evalue": "",
     "output_type": "error",
     "traceback": [
      "\u001b[0;31m---------------------------------------------------------------------------\u001b[0m",
      "\u001b[0;31mKeyboardInterrupt\u001b[0m                         Traceback (most recent call last)",
      "\u001b[0;32m<ipython-input-248-1e85b054a26a>\u001b[0m in \u001b[0;36m<module>\u001b[0;34m\u001b[0m\n\u001b[1;32m      3\u001b[0m \u001b[0;32mfor\u001b[0m \u001b[0mepochs\u001b[0m \u001b[0;32min\u001b[0m \u001b[0mnb_epochs\u001b[0m\u001b[0;34m:\u001b[0m\u001b[0;34m\u001b[0m\u001b[0;34m\u001b[0m\u001b[0m\n\u001b[1;32m      4\u001b[0m     \u001b[0mprint\u001b[0m\u001b[0;34m(\u001b[0m\u001b[0;34m\"-- nb epochs: \"\u001b[0m\u001b[0;34m,\u001b[0m \u001b[0mepochs\u001b[0m\u001b[0;34m)\u001b[0m\u001b[0;34m\u001b[0m\u001b[0;34m\u001b[0m\u001b[0m\n\u001b[0;32m----> 5\u001b[0;31m     \u001b[0mnewlib\u001b[0m\u001b[0;34m.\u001b[0m\u001b[0mrun_model\u001b[0m\u001b[0;34m(\u001b[0m\u001b[0mmodel\u001b[0m\u001b[0;34m,\u001b[0m \u001b[0minteraction_dct\u001b[0m\u001b[0;34m,\u001b[0m \u001b[0mnb_epochs\u001b[0m\u001b[0;34m=\u001b[0m\u001b[0mepochs\u001b[0m\u001b[0;34m,\u001b[0m \u001b[0mwith_attrib\u001b[0m\u001b[0;34m=\u001b[0m\u001b[0;32mFalse\u001b[0m\u001b[0;34m)\u001b[0m\u001b[0;34m\u001b[0m\u001b[0;34m\u001b[0m\u001b[0m\n\u001b[0m\u001b[1;32m      6\u001b[0m     \u001b[0mprint\u001b[0m\u001b[0;34m(\u001b[0m\u001b[0;34m\"------------------------------------------\"\u001b[0m\u001b[0;34m)\u001b[0m\u001b[0;34m\u001b[0m\u001b[0;34m\u001b[0m\u001b[0m\n",
      "\u001b[0;32m~/src/2022/copa_recommenders/copa_recommender_data_rankfm/rankfm/newlib.py\u001b[0m in \u001b[0;36mrun_model\u001b[0;34m(model, interaction_dct, topn, verbose, nb_epochs, with_attrib)\u001b[0m\n\u001b[1;32m    397\u001b[0m         \u001b[0mmodel\u001b[0m\u001b[0;34m.\u001b[0m\u001b[0mfit\u001b[0m\u001b[0;34m(\u001b[0m\u001b[0mdata_train\u001b[0m\u001b[0;34m,\u001b[0m \u001b[0muser_features\u001b[0m\u001b[0;34m=\u001b[0m\u001b[0muser_attrib\u001b[0m\u001b[0;34m,\u001b[0m \u001b[0msample_weight\u001b[0m\u001b[0;34m=\u001b[0m\u001b[0;32mNone\u001b[0m\u001b[0;34m,\u001b[0m \u001b[0mepochs\u001b[0m\u001b[0;34m=\u001b[0m\u001b[0mnb_epochs\u001b[0m\u001b[0;34m,\u001b[0m \u001b[0mverbose\u001b[0m\u001b[0;34m=\u001b[0m\u001b[0mverbose\u001b[0m\u001b[0;34m)\u001b[0m\u001b[0;34m\u001b[0m\u001b[0;34m\u001b[0m\u001b[0m\n\u001b[1;32m    398\u001b[0m     \u001b[0;32melse\u001b[0m\u001b[0;34m:\u001b[0m\u001b[0;34m\u001b[0m\u001b[0;34m\u001b[0m\u001b[0m\n\u001b[0;32m--> 399\u001b[0;31m         \u001b[0mmodel\u001b[0m\u001b[0;34m.\u001b[0m\u001b[0mfit\u001b[0m\u001b[0;34m(\u001b[0m\u001b[0mdata_train\u001b[0m\u001b[0;34m,\u001b[0m \u001b[0msample_weight\u001b[0m\u001b[0;34m=\u001b[0m\u001b[0;32mNone\u001b[0m\u001b[0;34m,\u001b[0m \u001b[0mepochs\u001b[0m\u001b[0;34m=\u001b[0m\u001b[0mnb_epochs\u001b[0m\u001b[0;34m,\u001b[0m \u001b[0mverbose\u001b[0m\u001b[0;34m=\u001b[0m\u001b[0mverbose\u001b[0m\u001b[0;34m)\u001b[0m\u001b[0;34m\u001b[0m\u001b[0;34m\u001b[0m\u001b[0m\n\u001b[0m\u001b[1;32m    400\u001b[0m \u001b[0;34m\u001b[0m\u001b[0m\n\u001b[1;32m    401\u001b[0m     \u001b[0mhr_filtered\u001b[0m \u001b[0;34m=\u001b[0m \u001b[0mhit_rate\u001b[0m\u001b[0;34m(\u001b[0m\u001b[0mmodel\u001b[0m\u001b[0;34m,\u001b[0m \u001b[0mdata_valid\u001b[0m\u001b[0;34m,\u001b[0m \u001b[0mk\u001b[0m\u001b[0;34m=\u001b[0m\u001b[0mtopn\u001b[0m\u001b[0;34m,\u001b[0m \u001b[0mfilter_previous\u001b[0m\u001b[0;34m=\u001b[0m\u001b[0;32mTrue\u001b[0m\u001b[0;34m)\u001b[0m\u001b[0;34m\u001b[0m\u001b[0;34m\u001b[0m\u001b[0m\n",
      "\u001b[0;32m~/anaconda3/lib/python3.8/site-packages/rankfm/rankfm.py\u001b[0m in \u001b[0;36mfit\u001b[0;34m(self, interactions, user_features, item_features, sample_weight, epochs, verbose)\u001b[0m\n\u001b[1;32m    274\u001b[0m \u001b[0;34m\u001b[0m\u001b[0m\n\u001b[1;32m    275\u001b[0m         \u001b[0mself\u001b[0m\u001b[0;34m.\u001b[0m\u001b[0m_reset_state\u001b[0m\u001b[0;34m(\u001b[0m\u001b[0;34m)\u001b[0m\u001b[0;34m\u001b[0m\u001b[0;34m\u001b[0m\u001b[0m\n\u001b[0;32m--> 276\u001b[0;31m         \u001b[0mself\u001b[0m\u001b[0;34m.\u001b[0m\u001b[0mfit_partial\u001b[0m\u001b[0;34m(\u001b[0m\u001b[0minteractions\u001b[0m\u001b[0;34m,\u001b[0m \u001b[0muser_features\u001b[0m\u001b[0;34m,\u001b[0m \u001b[0mitem_features\u001b[0m\u001b[0;34m,\u001b[0m \u001b[0msample_weight\u001b[0m\u001b[0;34m,\u001b[0m \u001b[0mepochs\u001b[0m\u001b[0;34m,\u001b[0m \u001b[0mverbose\u001b[0m\u001b[0;34m)\u001b[0m\u001b[0;34m\u001b[0m\u001b[0;34m\u001b[0m\u001b[0m\n\u001b[0m\u001b[1;32m    277\u001b[0m \u001b[0;34m\u001b[0m\u001b[0m\n\u001b[1;32m    278\u001b[0m \u001b[0;34m\u001b[0m\u001b[0m\n",
      "\u001b[0;32m~/anaconda3/lib/python3.8/site-packages/rankfm/rankfm.py\u001b[0m in \u001b[0;36mfit_partial\u001b[0;34m(self, interactions, user_features, item_features, sample_weight, epochs, verbose)\u001b[0m\n\u001b[1;32m    312\u001b[0m \u001b[0;34m\u001b[0m\u001b[0m\n\u001b[1;32m    313\u001b[0m         \u001b[0;31m# NOTE: the cython internal fit method updates the model weights in place via memoryviews\u001b[0m\u001b[0;34m\u001b[0m\u001b[0;34m\u001b[0m\u001b[0;34m\u001b[0m\u001b[0m\n\u001b[0;32m--> 314\u001b[0;31m         _fit(\n\u001b[0m\u001b[1;32m    315\u001b[0m             \u001b[0mself\u001b[0m\u001b[0;34m.\u001b[0m\u001b[0minteractions\u001b[0m\u001b[0;34m,\u001b[0m\u001b[0;34m\u001b[0m\u001b[0;34m\u001b[0m\u001b[0m\n\u001b[1;32m    316\u001b[0m             \u001b[0mself\u001b[0m\u001b[0;34m.\u001b[0m\u001b[0msample_weight\u001b[0m\u001b[0;34m,\u001b[0m\u001b[0;34m\u001b[0m\u001b[0;34m\u001b[0m\u001b[0m\n",
      "\u001b[0;32mrankfm/_rankfm.pyx\u001b[0m in \u001b[0;36mrankfm._rankfm._fit\u001b[0;34m()\u001b[0m\n",
      "\u001b[0;32mrankfm/_rankfm.pyx\u001b[0m in \u001b[0;36mrankfm._rankfm.assert_finite\u001b[0;34m()\u001b[0m\n",
      "\u001b[0;32m~/anaconda3/lib/python3.8/site-packages/numpy/core/overrides.py\u001b[0m in \u001b[0;36msum\u001b[0;34m(*args, **kwargs)\u001b[0m\n",
      "\u001b[0;31mKeyboardInterrupt\u001b[0m: "
     ]
    }
   ],
   "source": [
    "nb_epochs = [50, 100, 250, 500]\n",
    "#\n",
    "for epochs in nb_epochs:\n",
    "    print(\"-- nb epochs: \", epochs)\n",
    "    newlib.run_model(model, interaction_dct, nb_epochs=epochs, with_attrib=False)\n",
    "    print(\"------------------------------------------\")"
   ]
  },
  {
   "cell_type": "code",
   "execution_count": 17,
   "id": "05f93674-b4a4-407f-ba1d-522d6dcfe1e3",
   "metadata": {},
   "outputs": [
    {
     "name": "stdout",
     "output_type": "stream",
     "text": [
      "-- nb epochs:  50\n",
      "dict_keys(['df_members', 'df_user_attr', 'df_item_attr', 'data_train', 'data_valid', 'data_test'])\n",
      "hr (previous filtered):  0.08633373554941419\n",
      "hr (previous not filtered):  0.35798528667626794\n",
      "------------------------------------------\n",
      "-- nb epochs:  100\n",
      "dict_keys(['df_members', 'df_user_attr', 'df_item_attr', 'data_train', 'data_valid', 'data_test'])\n",
      "hr (previous filtered):  0.09723249386944845\n",
      "hr (previous not filtered):  0.38663345140321514\n",
      "------------------------------------------\n",
      "-- nb epochs:  250\n",
      "dict_keys(['df_members', 'df_user_attr', 'df_item_attr', 'data_train', 'data_valid', 'data_test'])\n",
      "hr (previous filtered):  0.09260052158343389\n",
      "hr (previous not filtered):  0.4506247323965591\n",
      "------------------------------------------\n",
      "-- nb epochs:  500\n",
      "dict_keys(['df_members', 'df_user_attr', 'df_item_attr', 'data_train', 'data_valid', 'data_test'])\n",
      "hr (previous filtered):  0.1001907282706006\n",
      "hr (previous not filtered):  0.46545482853917713\n",
      "------------------------------------------\n"
     ]
    }
   ],
   "source": [
    "nb_epochs = [50, 100, 250, 500]\n",
    "#\n",
    "for epochs in nb_epochs:\n",
    "    print(\"-- nb epochs: \", epochs)\n",
    "    newlib.run_model(model, interaction_dct, nb_epochs=epochs, with_attrib=True)\n",
    "    print(\"------------------------------------------\")"
   ]
  },
  {
   "cell_type": "markdown",
   "id": "708b1ca6-3acb-4c87-93d5-c9ae8ad5d013",
   "metadata": {},
   "source": [
    "### Temporal=False\n",
    "- The results seem independent of whether the flights in the validation data come \n",
    "after the flights in the training set. \n",
    "- NOT CLEAR WHY. So I still have not \n",
    "resolved the issue of the hit rates. \n",
    "- I must now create my own functions to evaluate the hits to better understand. "
   ]
  },
  {
   "cell_type": "code",
   "execution_count": 14,
   "id": "ec485469-2d63-4612-9f12-99a2f36fd4f3",
   "metadata": {},
   "outputs": [
    {
     "name": "stdout",
     "output_type": "stream",
     "text": [
      "-- nb epochs:  50\n",
      "dict_keys(['df_members', 'df_user_attr', 'df_item_attr', 'data_train', 'data_valid', 'data_test'])\n",
      "hr (previous filtered):  0.08606126659141333\n",
      "hr (previous not filtered):  0.3522245144213927\n",
      "------------------------------------------\n",
      "-- nb epochs:  100\n",
      "dict_keys(['df_members', 'df_user_attr', 'df_item_attr', 'data_train', 'data_valid', 'data_test'])\n",
      "hr (previous filtered):  0.10346035576661088\n",
      "hr (previous not filtered):  0.39387334085866643\n",
      "------------------------------------------\n",
      "-- nb epochs:  250\n",
      "dict_keys(['df_members', 'df_user_attr', 'df_item_attr', 'data_train', 'data_valid', 'data_test'])\n"
     ]
    },
    {
     "ename": "KeyboardInterrupt",
     "evalue": "",
     "output_type": "error",
     "traceback": [
      "\u001b[0;31m---------------------------------------------------------------------------\u001b[0m",
      "\u001b[0;31mKeyboardInterrupt\u001b[0m                         Traceback (most recent call last)",
      "\u001b[0;32m<ipython-input-14-188f4f30fe7a>\u001b[0m in \u001b[0;36m<module>\u001b[0;34m\u001b[0m\n\u001b[1;32m      4\u001b[0m \u001b[0;32mfor\u001b[0m \u001b[0mepochs\u001b[0m \u001b[0;32min\u001b[0m \u001b[0mnb_epochs\u001b[0m\u001b[0;34m:\u001b[0m\u001b[0;34m\u001b[0m\u001b[0;34m\u001b[0m\u001b[0m\n\u001b[1;32m      5\u001b[0m     \u001b[0mprint\u001b[0m\u001b[0;34m(\u001b[0m\u001b[0;34m\"-- nb epochs: \"\u001b[0m\u001b[0;34m,\u001b[0m \u001b[0mepochs\u001b[0m\u001b[0;34m)\u001b[0m\u001b[0;34m\u001b[0m\u001b[0;34m\u001b[0m\u001b[0m\n\u001b[0;32m----> 6\u001b[0;31m     \u001b[0mnewlib\u001b[0m\u001b[0;34m.\u001b[0m\u001b[0mrun_model\u001b[0m\u001b[0;34m(\u001b[0m\u001b[0mmodel\u001b[0m\u001b[0;34m,\u001b[0m \u001b[0minteraction_dct\u001b[0m\u001b[0;34m,\u001b[0m \u001b[0mnb_epochs\u001b[0m\u001b[0;34m=\u001b[0m\u001b[0mepochs\u001b[0m\u001b[0;34m)\u001b[0m\u001b[0;34m\u001b[0m\u001b[0;34m\u001b[0m\u001b[0m\n\u001b[0m\u001b[1;32m      7\u001b[0m     \u001b[0mprint\u001b[0m\u001b[0;34m(\u001b[0m\u001b[0;34m\"------------------------------------------\"\u001b[0m\u001b[0;34m)\u001b[0m\u001b[0;34m\u001b[0m\u001b[0;34m\u001b[0m\u001b[0m\n",
      "\u001b[0;32m~/src/2022/copa_recommenders/copa_recommender_data_rankfm/rankfm/newlib.py\u001b[0m in \u001b[0;36mrun_model\u001b[0;34m(model, interaction_dct, topn, verbose, nb_epochs)\u001b[0m\n\u001b[1;32m    395\u001b[0m     \u001b[0mdata_valid\u001b[0m \u001b[0;34m=\u001b[0m \u001b[0minteraction_dct\u001b[0m\u001b[0;34m[\u001b[0m\u001b[0;34m'data_valid'\u001b[0m\u001b[0;34m]\u001b[0m\u001b[0;34m\u001b[0m\u001b[0;34m\u001b[0m\u001b[0m\n\u001b[1;32m    396\u001b[0m \u001b[0;31m#     len(set(user_attrib.MEMBER_ID)), len(set(data_valid.MEMBER_ID)), len(set(data_train.MEMBER_ID))\u001b[0m\u001b[0;34m\u001b[0m\u001b[0;34m\u001b[0m\u001b[0;34m\u001b[0m\u001b[0m\n\u001b[0;32m--> 397\u001b[0;31m     \u001b[0mmodel\u001b[0m\u001b[0;34m.\u001b[0m\u001b[0mfit\u001b[0m\u001b[0;34m(\u001b[0m\u001b[0mdata_train\u001b[0m\u001b[0;34m,\u001b[0m \u001b[0muser_features\u001b[0m\u001b[0;34m=\u001b[0m\u001b[0muser_attrib\u001b[0m\u001b[0;34m,\u001b[0m \u001b[0msample_weight\u001b[0m\u001b[0;34m=\u001b[0m\u001b[0;32mNone\u001b[0m\u001b[0;34m,\u001b[0m \u001b[0mepochs\u001b[0m\u001b[0;34m=\u001b[0m\u001b[0mnb_epochs\u001b[0m\u001b[0;34m,\u001b[0m \u001b[0mverbose\u001b[0m\u001b[0;34m=\u001b[0m\u001b[0mverbose\u001b[0m\u001b[0;34m)\u001b[0m\u001b[0;34m\u001b[0m\u001b[0;34m\u001b[0m\u001b[0m\n\u001b[0m\u001b[1;32m    398\u001b[0m     \u001b[0;31m#print(\"AFTER MODEL FIT\")\u001b[0m\u001b[0;34m\u001b[0m\u001b[0;34m\u001b[0m\u001b[0;34m\u001b[0m\u001b[0m\n\u001b[1;32m    399\u001b[0m     \u001b[0mhr_filtered\u001b[0m \u001b[0;34m=\u001b[0m \u001b[0mhit_rate\u001b[0m\u001b[0;34m(\u001b[0m\u001b[0mmodel\u001b[0m\u001b[0;34m,\u001b[0m \u001b[0mdata_valid\u001b[0m\u001b[0;34m,\u001b[0m \u001b[0mk\u001b[0m\u001b[0;34m=\u001b[0m\u001b[0mtopn\u001b[0m\u001b[0;34m,\u001b[0m \u001b[0mfilter_previous\u001b[0m\u001b[0;34m=\u001b[0m\u001b[0;32mTrue\u001b[0m\u001b[0;34m)\u001b[0m\u001b[0;34m\u001b[0m\u001b[0;34m\u001b[0m\u001b[0m\n",
      "\u001b[0;32m~/anaconda3/lib/python3.8/site-packages/rankfm/rankfm.py\u001b[0m in \u001b[0;36mfit\u001b[0;34m(self, interactions, user_features, item_features, sample_weight, epochs, verbose)\u001b[0m\n\u001b[1;32m    274\u001b[0m \u001b[0;34m\u001b[0m\u001b[0m\n\u001b[1;32m    275\u001b[0m         \u001b[0mself\u001b[0m\u001b[0;34m.\u001b[0m\u001b[0m_reset_state\u001b[0m\u001b[0;34m(\u001b[0m\u001b[0;34m)\u001b[0m\u001b[0;34m\u001b[0m\u001b[0;34m\u001b[0m\u001b[0m\n\u001b[0;32m--> 276\u001b[0;31m         \u001b[0mself\u001b[0m\u001b[0;34m.\u001b[0m\u001b[0mfit_partial\u001b[0m\u001b[0;34m(\u001b[0m\u001b[0minteractions\u001b[0m\u001b[0;34m,\u001b[0m \u001b[0muser_features\u001b[0m\u001b[0;34m,\u001b[0m \u001b[0mitem_features\u001b[0m\u001b[0;34m,\u001b[0m \u001b[0msample_weight\u001b[0m\u001b[0;34m,\u001b[0m \u001b[0mepochs\u001b[0m\u001b[0;34m,\u001b[0m \u001b[0mverbose\u001b[0m\u001b[0;34m)\u001b[0m\u001b[0;34m\u001b[0m\u001b[0;34m\u001b[0m\u001b[0m\n\u001b[0m\u001b[1;32m    277\u001b[0m \u001b[0;34m\u001b[0m\u001b[0m\n\u001b[1;32m    278\u001b[0m \u001b[0;34m\u001b[0m\u001b[0m\n",
      "\u001b[0;32m~/anaconda3/lib/python3.8/site-packages/rankfm/rankfm.py\u001b[0m in \u001b[0;36mfit_partial\u001b[0;34m(self, interactions, user_features, item_features, sample_weight, epochs, verbose)\u001b[0m\n\u001b[1;32m    312\u001b[0m \u001b[0;34m\u001b[0m\u001b[0m\n\u001b[1;32m    313\u001b[0m         \u001b[0;31m# NOTE: the cython internal fit method updates the model weights in place via memoryviews\u001b[0m\u001b[0;34m\u001b[0m\u001b[0;34m\u001b[0m\u001b[0;34m\u001b[0m\u001b[0m\n\u001b[0;32m--> 314\u001b[0;31m         _fit(\n\u001b[0m\u001b[1;32m    315\u001b[0m             \u001b[0mself\u001b[0m\u001b[0;34m.\u001b[0m\u001b[0minteractions\u001b[0m\u001b[0;34m,\u001b[0m\u001b[0;34m\u001b[0m\u001b[0;34m\u001b[0m\u001b[0m\n\u001b[1;32m    316\u001b[0m             \u001b[0mself\u001b[0m\u001b[0;34m.\u001b[0m\u001b[0msample_weight\u001b[0m\u001b[0;34m,\u001b[0m\u001b[0;34m\u001b[0m\u001b[0;34m\u001b[0m\u001b[0m\n",
      "\u001b[0;32mrankfm/_rankfm.pyx\u001b[0m in \u001b[0;36mrankfm._rankfm._fit\u001b[0;34m()\u001b[0m\n",
      "\u001b[0;32mrankfm/_rankfm.pyx\u001b[0m in \u001b[0;36mrankfm._rankfm.assert_finite\u001b[0;34m()\u001b[0m\n",
      "\u001b[0;32m~/anaconda3/lib/python3.8/site-packages/numpy/core/overrides.py\u001b[0m in \u001b[0;36msum\u001b[0;34m(*args, **kwargs)\u001b[0m\n",
      "\u001b[0;31mKeyboardInterrupt\u001b[0m: "
     ]
    }
   ],
   "source": [
    "nb_epochs = [50, 100, 250, 500, 1000]\n",
    "nb_epochs = [50, 100, 250]\n",
    "#\n",
    "for epochs in nb_epochs:\n",
    "    print(\"-- nb epochs: \", epochs)\n",
    "    newlib.run_model(model, interaction_dct, nb_epochs=epochs)\n",
    "    print(\"------------------------------------------\")"
   ]
  },
  {
   "cell_type": "markdown",
   "id": "17e9eae3-f80f-49bf-817b-40795dd38d5b",
   "metadata": {},
   "source": [
    "# Create newlib.recommender(data_train)"
   ]
  },
  {
   "cell_type": "code",
   "execution_count": 249,
   "id": "80e0ac8c-22d9-44d0-9151-d60ef168aa19",
   "metadata": {},
   "outputs": [
    {
     "data": {
      "text/plain": [
       "dict_keys(['df_members', 'df_user_attr', 'df_item_attr', 'data_train', 'data_valid', 'data_test'])"
      ]
     },
     "execution_count": 249,
     "metadata": {},
     "output_type": "execute_result"
    }
   ],
   "source": [
    "interaction_dct.keys()"
   ]
  },
  {
   "cell_type": "markdown",
   "id": "0d4008bb-91fc-41be-b3b1-5e33e6a28755",
   "metadata": {},
   "source": [
    "1. create dataframe list list of destinations for each member. Do this for training and validation"
   ]
  },
  {
   "cell_type": "code",
   "execution_count": 338,
   "id": "c0ea4395-cbef-48fd-b5eb-095d14841cab",
   "metadata": {},
   "outputs": [
    {
     "name": "stdout",
     "output_type": "stream",
     "text": [
      "hr (previous filtered):  0.15911128435002925\n",
      "hr (previous not filtered):  0.6595985188072501\n"
     ]
    }
   ],
   "source": [
    "newlib.run_model(model, interaction_dct, nb_epochs=500, topN=5, with_attrib=False)\n",
    "#topN=5, nb_epochs=500, hr=0.16 (filtered), hr=0.64 (not filtered), with_attrib=True`"
   ]
  },
  {
   "cell_type": "code",
   "execution_count": 337,
   "id": "5590b544-1b20-4362-be8b-f747db4f264a",
   "metadata": {},
   "outputs": [
    {
     "name": "stdout",
     "output_type": "stream",
     "text": [
      "hit rate (without previous filter) =  0.61770138339176\n",
      "hit rate (with previous filter) =  0.15887741181056325\n",
      "CPU times: user 12.5 s, sys: 83.6 ms, total: 12.6 s\n",
      "Wall time: 12.5 s\n"
     ]
    }
   ],
   "source": [
    "%%time\n",
    "# no filter: 63% accurate. That makes sense. \n",
    "# with filter of hits in training set: 11% (same results as those of rankfm)\n",
    "# Same answers when repeated multiple times\n",
    "result = newlib.recommender(model, interaction_dct, keep_nb_members=None, topN=5)\n",
    "# topN=5, nb_epochs=500, hr=0.11 (filtered), hr=0.6 (not filtered), with_attrib=True"
   ]
  },
  {
   "cell_type": "code",
   "execution_count": 332,
   "id": "d13551e7-35e7-4556-a56f-98b6c1118fea",
   "metadata": {},
   "outputs": [
    {
     "name": "stdout",
     "output_type": "stream",
     "text": [
      "hit rate (without previous filter) =  0.61770138339176\n",
      "hit rate (with previous filter) =  0.17442993568505163\n",
      "CPU times: user 13.1 s, sys: 50.7 ms, total: 13.1 s\n",
      "Wall time: 13.1 s\n"
     ]
    }
   ],
   "source": [
    "%%time\n",
    "# no filter: 63% accurate. That makes sense. \n",
    "# with filter of hits in training set: 11% (same results as those of rankfm)\n",
    "result = newlib.recommender(model, interaction_dct, keep_nb_members=None, topN=5)"
   ]
  },
  {
   "cell_type": "code",
   "execution_count": null,
   "id": "dd82887b-e70c-4c86-8dae-68dd5abd376b",
   "metadata": {},
   "outputs": [],
   "source": []
  },
  {
   "cell_type": "code",
   "execution_count": null,
   "id": "01f29fce-b510-4472-b1a0-c0d83815d74b",
   "metadata": {},
   "outputs": [],
   "source": [
    "pd.DataFrame.reset_index()"
   ]
  },
  {
   "cell_type": "code",
   "execution_count": 193,
   "id": "b5ac046f-6c15-432b-b0c1-bff1b7ccb4c6",
   "metadata": {},
   "outputs": [
    {
     "data": {
      "text/html": [
       "<div>\n",
       "<style scoped>\n",
       "    .dataframe tbody tr th:only-of-type {\n",
       "        vertical-align: middle;\n",
       "    }\n",
       "\n",
       "    .dataframe tbody tr th {\n",
       "        vertical-align: top;\n",
       "    }\n",
       "\n",
       "    .dataframe thead th {\n",
       "        text-align: right;\n",
       "    }\n",
       "</style>\n",
       "<table border=\"1\" class=\"dataframe\">\n",
       "  <thead>\n",
       "    <tr style=\"text-align: right;\">\n",
       "      <th></th>\n",
       "      <th>MEMBER_ID</th>\n",
       "      <th>D</th>\n",
       "      <th>pred</th>\n",
       "    </tr>\n",
       "  </thead>\n",
       "  <tbody>\n",
       "    <tr>\n",
       "      <th>0</th>\n",
       "      <td>239300926</td>\n",
       "      <td>ADZ</td>\n",
       "      <td>-0.401</td>\n",
       "    </tr>\n",
       "    <tr>\n",
       "      <th>1</th>\n",
       "      <td>239300926</td>\n",
       "      <td>ASU</td>\n",
       "      <td>0.062</td>\n",
       "    </tr>\n",
       "    <tr>\n",
       "      <th>2</th>\n",
       "      <td>239300926</td>\n",
       "      <td>ATL</td>\n",
       "      <td>-1.229</td>\n",
       "    </tr>\n",
       "    <tr>\n",
       "      <th>3</th>\n",
       "      <td>239300926</td>\n",
       "      <td>AUA</td>\n",
       "      <td>-0.033</td>\n",
       "    </tr>\n",
       "    <tr>\n",
       "      <th>4</th>\n",
       "      <td>239300926</td>\n",
       "      <td>BAQ</td>\n",
       "      <td>-0.175</td>\n",
       "    </tr>\n",
       "  </tbody>\n",
       "</table>\n",
       "</div>"
      ],
      "text/plain": [
       "   MEMBER_ID    D   pred\n",
       "0  239300926  ADZ -0.401\n",
       "1  239300926  ASU  0.062\n",
       "2  239300926  ATL -1.229\n",
       "3  239300926  AUA -0.033\n",
       "4  239300926  BAQ -0.175"
      ]
     },
     "execution_count": 193,
     "metadata": {},
     "output_type": "execute_result"
    }
   ],
   "source": [
    "result.head()"
   ]
  },
  {
   "cell_type": "code",
   "execution_count": 156,
   "id": "021c6b74-2b18-4078-8656-cfecf0a36502",
   "metadata": {},
   "outputs": [
    {
     "data": {
      "text/html": [
       "<div>\n",
       "<style scoped>\n",
       "    .dataframe tbody tr th:only-of-type {\n",
       "        vertical-align: middle;\n",
       "    }\n",
       "\n",
       "    .dataframe tbody tr th {\n",
       "        vertical-align: top;\n",
       "    }\n",
       "\n",
       "    .dataframe thead th {\n",
       "        text-align: right;\n",
       "    }\n",
       "</style>\n",
       "<table border=\"1\" class=\"dataframe\">\n",
       "  <thead>\n",
       "    <tr style=\"text-align: right;\">\n",
       "      <th></th>\n",
       "      <th>D</th>\n",
       "      <th>pred</th>\n",
       "    </tr>\n",
       "    <tr>\n",
       "      <th>MEMBER_ID</th>\n",
       "      <th></th>\n",
       "      <th></th>\n",
       "    </tr>\n",
       "  </thead>\n",
       "  <tbody>\n",
       "    <tr>\n",
       "      <th>100031892</th>\n",
       "      <td>[ADZ, ASU, ATL, AUA, BAQ, BGA, BGI, BOG, BOS, ...</td>\n",
       "      <td>[-0.7474620938301086, -0.43247297406196594, -1...</td>\n",
       "    </tr>\n",
       "    <tr>\n",
       "      <th>100034364</th>\n",
       "      <td>[ADZ, ASU, ATL, AUA, BAQ, BGA, BGI, BOG, BOS, ...</td>\n",
       "      <td>[-0.6220289468765259, -0.6381959915161133, -1....</td>\n",
       "    </tr>\n",
       "    <tr>\n",
       "      <th>100034902</th>\n",
       "      <td>[ADZ, ASU, ATL, AUA, BAQ, BGA, BGI, BOG, BOS, ...</td>\n",
       "      <td>[-0.885479211807251, -0.07757009565830231, -1....</td>\n",
       "    </tr>\n",
       "    <tr>\n",
       "      <th>100035145</th>\n",
       "      <td>[ADZ, ASU, ATL, AUA, BAQ, BGA, BGI, BOG, BOS, ...</td>\n",
       "      <td>[-0.7716412544250488, -0.4266751706600189, -1....</td>\n",
       "    </tr>\n",
       "    <tr>\n",
       "      <th>100040465</th>\n",
       "      <td>[ADZ, ASU, ATL, AUA, BAQ, BGA, BGI, BOG, BOS, ...</td>\n",
       "      <td>[-0.8271920084953308, 0.0317193977534771, -1.4...</td>\n",
       "    </tr>\n",
       "  </tbody>\n",
       "</table>\n",
       "</div>"
      ],
      "text/plain": [
       "                                                           D  \\\n",
       "MEMBER_ID                                                      \n",
       "100031892  [ADZ, ASU, ATL, AUA, BAQ, BGA, BGI, BOG, BOS, ...   \n",
       "100034364  [ADZ, ASU, ATL, AUA, BAQ, BGA, BGI, BOG, BOS, ...   \n",
       "100034902  [ADZ, ASU, ATL, AUA, BAQ, BGA, BGI, BOG, BOS, ...   \n",
       "100035145  [ADZ, ASU, ATL, AUA, BAQ, BGA, BGI, BOG, BOS, ...   \n",
       "100040465  [ADZ, ASU, ATL, AUA, BAQ, BGA, BGI, BOG, BOS, ...   \n",
       "\n",
       "                                                        pred  \n",
       "MEMBER_ID                                                     \n",
       "100031892  [-0.7474620938301086, -0.43247297406196594, -1...  \n",
       "100034364  [-0.6220289468765259, -0.6381959915161133, -1....  \n",
       "100034902  [-0.885479211807251, -0.07757009565830231, -1....  \n",
       "100035145  [-0.7716412544250488, -0.4266751706600189, -1....  \n",
       "100040465  [-0.8271920084953308, 0.0317193977534771, -1.4...  "
      ]
     },
     "execution_count": 156,
     "metadata": {},
     "output_type": "execute_result"
    }
   ],
   "source": [
    "res1 = result.groupby('MEMBER_ID').agg({'D':list, 'pred':list})\n",
    "res1.head(5)"
   ]
  },
  {
   "cell_type": "code",
   "execution_count": 157,
   "id": "551a4887-3a26-4d9d-ba87-a9c56ce84741",
   "metadata": {},
   "outputs": [
    {
     "data": {
      "text/plain": [
       "(D       26459\n",
       " pred    26459\n",
       " dtype: int64,\n",
       " (26459, 2))"
      ]
     },
     "execution_count": 157,
     "metadata": {},
     "output_type": "execute_result"
    }
   ],
   "source": [
    "# Sort pred numerically using argsort, and sort D in the same order. \n",
    "res1.apply(lambda x: len(x)), res1.shape"
   ]
  },
  {
   "cell_type": "code",
   "execution_count": 158,
   "id": "f6f58398-ebb7-4396-bdec-e7e4606f16da",
   "metadata": {},
   "outputs": [
    {
     "name": "stdout",
     "output_type": "stream",
     "text": [
      "CPU times: user 173 ms, sys: 0 ns, total: 173 ms\n",
      "Wall time: 173 ms\n"
     ]
    },
    {
     "data": {
      "text/html": [
       "<div>\n",
       "<style scoped>\n",
       "    .dataframe tbody tr th:only-of-type {\n",
       "        vertical-align: middle;\n",
       "    }\n",
       "\n",
       "    .dataframe tbody tr th {\n",
       "        vertical-align: top;\n",
       "    }\n",
       "\n",
       "    .dataframe thead th {\n",
       "        text-align: right;\n",
       "    }\n",
       "</style>\n",
       "<table border=\"1\" class=\"dataframe\">\n",
       "  <thead>\n",
       "    <tr style=\"text-align: right;\">\n",
       "      <th></th>\n",
       "      <th>D</th>\n",
       "      <th>pred</th>\n",
       "      <th>argsort</th>\n",
       "    </tr>\n",
       "    <tr>\n",
       "      <th>MEMBER_ID</th>\n",
       "      <th></th>\n",
       "      <th></th>\n",
       "      <th></th>\n",
       "    </tr>\n",
       "  </thead>\n",
       "  <tbody>\n",
       "    <tr>\n",
       "      <th>100031892</th>\n",
       "      <td>[ADZ, ASU, ATL, AUA, BAQ, BGA, BGI, BOG, BOS, ...</td>\n",
       "      <td>[-0.7474620938301086, -0.43247297406196594, -1...</td>\n",
       "      <td>[80, 2, 74, 12, 73, 72, 56, 82, 24, 32, 20, 63...</td>\n",
       "    </tr>\n",
       "    <tr>\n",
       "      <th>100034364</th>\n",
       "      <td>[ADZ, ASU, ATL, AUA, BAQ, BGA, BGI, BOG, BOS, ...</td>\n",
       "      <td>[-0.6220289468765259, -0.6381959915161133, -1....</td>\n",
       "      <td>[74, 80, 12, 2, 72, 24, 82, 56, 73, 32, 63, 45...</td>\n",
       "    </tr>\n",
       "    <tr>\n",
       "      <th>100034902</th>\n",
       "      <td>[ADZ, ASU, ATL, AUA, BAQ, BGA, BGI, BOG, BOS, ...</td>\n",
       "      <td>[-0.885479211807251, -0.07757009565830231, -1....</td>\n",
       "      <td>[2, 74, 82, 72, 80, 85, 45, 12, 24, 55, 56, 17...</td>\n",
       "    </tr>\n",
       "    <tr>\n",
       "      <th>100035145</th>\n",
       "      <td>[ADZ, ASU, ATL, AUA, BAQ, BGA, BGI, BOG, BOS, ...</td>\n",
       "      <td>[-0.7716412544250488, -0.4266751706600189, -1....</td>\n",
       "      <td>[80, 2, 74, 73, 12, 72, 82, 56, 32, 24, 20, 63...</td>\n",
       "    </tr>\n",
       "    <tr>\n",
       "      <th>100040465</th>\n",
       "      <td>[ADZ, ASU, ATL, AUA, BAQ, BGA, BGI, BOG, BOS, ...</td>\n",
       "      <td>[-0.8271920084953308, 0.0317193977534771, -1.4...</td>\n",
       "      <td>[2, 72, 82, 74, 80, 56, 73, 12, 55, 32, 24, 85...</td>\n",
       "    </tr>\n",
       "  </tbody>\n",
       "</table>\n",
       "</div>"
      ],
      "text/plain": [
       "                                                           D  \\\n",
       "MEMBER_ID                                                      \n",
       "100031892  [ADZ, ASU, ATL, AUA, BAQ, BGA, BGI, BOG, BOS, ...   \n",
       "100034364  [ADZ, ASU, ATL, AUA, BAQ, BGA, BGI, BOG, BOS, ...   \n",
       "100034902  [ADZ, ASU, ATL, AUA, BAQ, BGA, BGI, BOG, BOS, ...   \n",
       "100035145  [ADZ, ASU, ATL, AUA, BAQ, BGA, BGI, BOG, BOS, ...   \n",
       "100040465  [ADZ, ASU, ATL, AUA, BAQ, BGA, BGI, BOG, BOS, ...   \n",
       "\n",
       "                                                        pred  \\\n",
       "MEMBER_ID                                                      \n",
       "100031892  [-0.7474620938301086, -0.43247297406196594, -1...   \n",
       "100034364  [-0.6220289468765259, -0.6381959915161133, -1....   \n",
       "100034902  [-0.885479211807251, -0.07757009565830231, -1....   \n",
       "100035145  [-0.7716412544250488, -0.4266751706600189, -1....   \n",
       "100040465  [-0.8271920084953308, 0.0317193977534771, -1.4...   \n",
       "\n",
       "                                                     argsort  \n",
       "MEMBER_ID                                                     \n",
       "100031892  [80, 2, 74, 12, 73, 72, 56, 82, 24, 32, 20, 63...  \n",
       "100034364  [74, 80, 12, 2, 72, 24, 82, 56, 73, 32, 63, 45...  \n",
       "100034902  [2, 74, 82, 72, 80, 85, 45, 12, 24, 55, 56, 17...  \n",
       "100035145  [80, 2, 74, 73, 12, 72, 82, 56, 32, 24, 20, 63...  \n",
       "100040465  [2, 72, 82, 74, 80, 56, 73, 12, 55, 32, 24, 85...  "
      ]
     },
     "execution_count": 158,
     "metadata": {},
     "output_type": "execute_result"
    }
   ],
   "source": [
    "%%time \n",
    "res1['argsort'] = res1['pred'].map(np.argsort)\n",
    "res1.head(5)"
   ]
  },
  {
   "cell_type": "code",
   "execution_count": 174,
   "id": "640e790f-3c26-4f1e-844e-90048c90262e",
   "metadata": {},
   "outputs": [
    {
     "name": "stdout",
     "output_type": "stream",
     "text": [
      "CPU times: user 911 ms, sys: 12.1 ms, total: 923 ms\n",
      "Wall time: 909 ms\n"
     ]
    },
    {
     "data": {
      "text/html": [
       "<div>\n",
       "<style scoped>\n",
       "    .dataframe tbody tr th:only-of-type {\n",
       "        vertical-align: middle;\n",
       "    }\n",
       "\n",
       "    .dataframe tbody tr th {\n",
       "        vertical-align: top;\n",
       "    }\n",
       "\n",
       "    .dataframe thead th {\n",
       "        text-align: right;\n",
       "    }\n",
       "</style>\n",
       "<table border=\"1\" class=\"dataframe\">\n",
       "  <thead>\n",
       "    <tr style=\"text-align: right;\">\n",
       "      <th></th>\n",
       "      <th>D1</th>\n",
       "      <th>pred1</th>\n",
       "    </tr>\n",
       "    <tr>\n",
       "      <th>MEMBER_ID</th>\n",
       "      <th></th>\n",
       "      <th></th>\n",
       "    </tr>\n",
       "  </thead>\n",
       "  <tbody>\n",
       "    <tr>\n",
       "      <th>100031892</th>\n",
       "      <td>[MEX, PTY, GUA, MIA, SJO]</td>\n",
       "      <td>[1.473193883895874, 1.3925684690475464, 1.3717...</td>\n",
       "    </tr>\n",
       "    <tr>\n",
       "      <th>100034364</th>\n",
       "      <td>[PTY, MIA, MEX, SJO, BOG]</td>\n",
       "      <td>[1.3868271112442017, 1.298481822013855, 1.2900...</td>\n",
       "    </tr>\n",
       "    <tr>\n",
       "      <th>100034902</th>\n",
       "      <td>[PTY, SJO, MEX, GUA, SDQ]</td>\n",
       "      <td>[1.8354800939559937, 1.4655382633209229, 1.460...</td>\n",
       "    </tr>\n",
       "    <tr>\n",
       "      <th>100035145</th>\n",
       "      <td>[MEX, PTY, GUA, SJO, MIA]</td>\n",
       "      <td>[1.537152647972107, 1.4331413507461548, 1.4235...</td>\n",
       "    </tr>\n",
       "    <tr>\n",
       "      <th>100040465</th>\n",
       "      <td>[PTY, MEX, SJO, GUA, LIM]</td>\n",
       "      <td>[1.4250928163528442, 1.2827187776565552, 1.156...</td>\n",
       "    </tr>\n",
       "    <tr>\n",
       "      <th>100041338</th>\n",
       "      <td>[PTY, MIA, CUN, MEX, SJO]</td>\n",
       "      <td>[1.2134510278701782, 1.1528159379959106, 1.077...</td>\n",
       "    </tr>\n",
       "    <tr>\n",
       "      <th>100041994</th>\n",
       "      <td>[MCO, MIA, GUA, LAX, SJO]</td>\n",
       "      <td>[1.1942585706710815, 1.1734713315963745, 1.094...</td>\n",
       "    </tr>\n",
       "    <tr>\n",
       "      <th>100043486</th>\n",
       "      <td>[MIA, MEX, PTY, BOG, GUA]</td>\n",
       "      <td>[1.3955706357955933, 1.3718065023422241, 1.360...</td>\n",
       "    </tr>\n",
       "    <tr>\n",
       "      <th>100043615</th>\n",
       "      <td>[PTY, MEX, SJO, GUA, SDQ]</td>\n",
       "      <td>[1.84485924243927, 1.5330605506896973, 1.51278...</td>\n",
       "    </tr>\n",
       "    <tr>\n",
       "      <th>100043637</th>\n",
       "      <td>[MEX, PTY, GUA, SJO, BOG]</td>\n",
       "      <td>[1.2695732116699219, 1.2284082174301147, 1.225...</td>\n",
       "    </tr>\n",
       "    <tr>\n",
       "      <th>100050464</th>\n",
       "      <td>[PTY, MEX, SJO, GUA, SDQ]</td>\n",
       "      <td>[1.6491609811782837, 1.478284239768982, 1.4740...</td>\n",
       "    </tr>\n",
       "    <tr>\n",
       "      <th>100050578</th>\n",
       "      <td>[PTY, MIA, MEX, SJO, BOG]</td>\n",
       "      <td>[1.1694462299346924, 1.136182188987732, 1.1354...</td>\n",
       "    </tr>\n",
       "    <tr>\n",
       "      <th>100051783</th>\n",
       "      <td>[MEX, PTY, GUA, SJO, MIA]</td>\n",
       "      <td>[1.6206669807434082, 1.6082894802093506, 1.459...</td>\n",
       "    </tr>\n",
       "    <tr>\n",
       "      <th>100052678</th>\n",
       "      <td>[MEX, PTY, MIA, GUA, SJO]</td>\n",
       "      <td>[1.492269515991211, 1.4662801027297974, 1.3803...</td>\n",
       "    </tr>\n",
       "    <tr>\n",
       "      <th>100054148</th>\n",
       "      <td>[PTY, MEX, SJO, GUA, MIA]</td>\n",
       "      <td>[1.7061330080032349, 1.5973857641220093, 1.509...</td>\n",
       "    </tr>\n",
       "    <tr>\n",
       "      <th>100056182</th>\n",
       "      <td>[PTY, SJO, MEX, GUA, SDQ]</td>\n",
       "      <td>[1.8198186159133911, 1.5273410081863403, 1.510...</td>\n",
       "    </tr>\n",
       "    <tr>\n",
       "      <th>100056204</th>\n",
       "      <td>[PTY, MEX, SJO, GUA, MIA]</td>\n",
       "      <td>[1.3040839433670044, 1.2929165363311768, 1.143...</td>\n",
       "    </tr>\n",
       "    <tr>\n",
       "      <th>100057033</th>\n",
       "      <td>[MIA, BOG, MCO, MEX, GUA]</td>\n",
       "      <td>[1.4262235164642334, 1.377083659172058, 1.3199...</td>\n",
       "    </tr>\n",
       "    <tr>\n",
       "      <th>100057707</th>\n",
       "      <td>[PTY, MEX, SJO, GUA, SDQ]</td>\n",
       "      <td>[1.819690465927124, 1.5342090129852295, 1.4980...</td>\n",
       "    </tr>\n",
       "    <tr>\n",
       "      <th>100058083</th>\n",
       "      <td>[MCO, MIA, LAX, GUA, BOG]</td>\n",
       "      <td>[1.3342236280441284, 1.228248953819275, 1.1813...</td>\n",
       "    </tr>\n",
       "    <tr>\n",
       "      <th>100090176</th>\n",
       "      <td>[MIA, MCO, BOG, MEX, GUA]</td>\n",
       "      <td>[1.442351222038269, 1.3710473775863647, 1.3309...</td>\n",
       "    </tr>\n",
       "    <tr>\n",
       "      <th>100102846</th>\n",
       "      <td>[ASU, MVD, GIG, VVI, EZE]</td>\n",
       "      <td>[0.8933029770851135, 0.8221772909164429, 0.626...</td>\n",
       "    </tr>\n",
       "    <tr>\n",
       "      <th>100130437</th>\n",
       "      <td>[PTY, MEX, GUA, MIA, SJO]</td>\n",
       "      <td>[1.4953778982162476, 1.494907021522522, 1.4300...</td>\n",
       "    </tr>\n",
       "    <tr>\n",
       "      <th>100130857</th>\n",
       "      <td>[PTY, SJO, SDQ, MEX, CUN]</td>\n",
       "      <td>[1.447069764137268, 1.1148477792739868, 1.1067...</td>\n",
       "    </tr>\n",
       "    <tr>\n",
       "      <th>100131008</th>\n",
       "      <td>[PTY, MEX, SJO, MIA, GUA]</td>\n",
       "      <td>[1.3709906339645386, 1.3696162700653076, 1.229...</td>\n",
       "    </tr>\n",
       "    <tr>\n",
       "      <th>100132714</th>\n",
       "      <td>[SJO, PTY, GUA, MEX, SDQ]</td>\n",
       "      <td>[1.3041274547576904, 1.2916258573532104, 1.286...</td>\n",
       "    </tr>\n",
       "    <tr>\n",
       "      <th>100133016</th>\n",
       "      <td>[PTY, MEX, SJO, GUA, LIM]</td>\n",
       "      <td>[1.7887693643569946, 1.6057031154632568, 1.469...</td>\n",
       "    </tr>\n",
       "    <tr>\n",
       "      <th>100136995</th>\n",
       "      <td>[PTY, MEX, MIA, SJO, BOG]</td>\n",
       "      <td>[1.4069517850875854, 1.338850975036621, 1.2915...</td>\n",
       "    </tr>\n",
       "    <tr>\n",
       "      <th>100137194</th>\n",
       "      <td>[PTY, SJO, MEX, GUA, SDQ]</td>\n",
       "      <td>[1.848610281944275, 1.5062484741210938, 1.5052...</td>\n",
       "    </tr>\n",
       "    <tr>\n",
       "      <th>100139154</th>\n",
       "      <td>[GUA, SJO, PTY, MEX, MIA]</td>\n",
       "      <td>[1.4744013547897339, 1.4003510475158691, 1.370...</td>\n",
       "    </tr>\n",
       "    <tr>\n",
       "      <th>100139806</th>\n",
       "      <td>[MEX, GUA, PTY, SJO, MIA]</td>\n",
       "      <td>[1.4165982007980347, 1.4091371297836304, 1.403...</td>\n",
       "    </tr>\n",
       "    <tr>\n",
       "      <th>100140344</th>\n",
       "      <td>[PTY, MEX, SJO, GUA, CUN]</td>\n",
       "      <td>[1.5973540544509888, 1.3611984252929688, 1.316...</td>\n",
       "    </tr>\n",
       "    <tr>\n",
       "      <th>100142978</th>\n",
       "      <td>[PTY, MEX, SJO, GUA, SDQ]</td>\n",
       "      <td>[1.7968575954437256, 1.4714664220809937, 1.461...</td>\n",
       "    </tr>\n",
       "    <tr>\n",
       "      <th>100143748</th>\n",
       "      <td>[PTY, MEX, SJO, GUA, MIA]</td>\n",
       "      <td>[1.4931927919387817, 1.362108826637268, 1.3073...</td>\n",
       "    </tr>\n",
       "    <tr>\n",
       "      <th>100144253</th>\n",
       "      <td>[MEX, PTY, SJO, GUA, BOG]</td>\n",
       "      <td>[1.5521773099899292, 1.4815785884857178, 1.431...</td>\n",
       "    </tr>\n",
       "    <tr>\n",
       "      <th>100145502</th>\n",
       "      <td>[PTY, MEX, SJO, GUA, SDQ]</td>\n",
       "      <td>[1.7966495752334595, 1.580888032913208, 1.5461...</td>\n",
       "    </tr>\n",
       "    <tr>\n",
       "      <th>100147753</th>\n",
       "      <td>[MCO, MIA, LAX, BOG, GUA]</td>\n",
       "      <td>[1.478441834449768, 1.4537482261657715, 1.3257...</td>\n",
       "    </tr>\n",
       "    <tr>\n",
       "      <th>100149013</th>\n",
       "      <td>[PTY, MEX, SJO, GUA, SCL]</td>\n",
       "      <td>[1.6578534841537476, 1.4099342823028564, 1.361...</td>\n",
       "    </tr>\n",
       "    <tr>\n",
       "      <th>100150472</th>\n",
       "      <td>[CCS, VLN, MCO, MIA, FLL]</td>\n",
       "      <td>[1.0244837999343872, 0.7333788871765137, 0.666...</td>\n",
       "    </tr>\n",
       "    <tr>\n",
       "      <th>100152126</th>\n",
       "      <td>[PTY, SJO, MEX, GUA, SDQ]</td>\n",
       "      <td>[1.725659728050232, 1.5284061431884766, 1.4840...</td>\n",
       "    </tr>\n",
       "    <tr>\n",
       "      <th>100152336</th>\n",
       "      <td>[CCS, PTY, MEX, MIA, SJO]</td>\n",
       "      <td>[1.7825912237167358, 1.2633209228515625, 0.898...</td>\n",
       "    </tr>\n",
       "    <tr>\n",
       "      <th>100152848</th>\n",
       "      <td>[PTY, MEX, SJO, GUA, SDQ]</td>\n",
       "      <td>[1.8061684370040894, 1.4915616512298584, 1.471...</td>\n",
       "    </tr>\n",
       "    <tr>\n",
       "      <th>100155943</th>\n",
       "      <td>[PTY, SJO, GUA, MEX, SDQ]</td>\n",
       "      <td>[1.4384857416152954, 1.2774347066879272, 1.188...</td>\n",
       "    </tr>\n",
       "    <tr>\n",
       "      <th>100156013</th>\n",
       "      <td>[PTY, SJO, SDQ, MGA, POS]</td>\n",
       "      <td>[1.4895943403244019, 1.0637714862823486, 1.048...</td>\n",
       "    </tr>\n",
       "    <tr>\n",
       "      <th>100156724</th>\n",
       "      <td>[PTY, MEX, SJO, CCS, MIA]</td>\n",
       "      <td>[1.408048391342163, 1.1987526416778564, 1.0942...</td>\n",
       "    </tr>\n",
       "    <tr>\n",
       "      <th>100157328</th>\n",
       "      <td>[MIA, MCO, LAX, BOG, GUA]</td>\n",
       "      <td>[1.4784431457519531, 1.4628862142562866, 1.337...</td>\n",
       "    </tr>\n",
       "    <tr>\n",
       "      <th>100158043</th>\n",
       "      <td>[PTY, MEX, SJO, GUA, SDQ]</td>\n",
       "      <td>[1.8236414194107056, 1.58829665184021, 1.52465...</td>\n",
       "    </tr>\n",
       "    <tr>\n",
       "      <th>100158135</th>\n",
       "      <td>[PTY, MEX, SJO, GUA, SDQ]</td>\n",
       "      <td>[1.8003127574920654, 1.51057767868042, 1.47879...</td>\n",
       "    </tr>\n",
       "    <tr>\n",
       "      <th>100159218</th>\n",
       "      <td>[SCL, EZE, LIM, PTY, MEX]</td>\n",
       "      <td>[1.057848572731018, 0.872150719165802, 0.65268...</td>\n",
       "    </tr>\n",
       "    <tr>\n",
       "      <th>100159303</th>\n",
       "      <td>[PTY, MEX, SJO, GUA, MIA]</td>\n",
       "      <td>[1.5332895517349243, 1.3614650964736938, 1.356...</td>\n",
       "    </tr>\n",
       "  </tbody>\n",
       "</table>\n",
       "</div>"
      ],
      "text/plain": [
       "                                  D1  \\\n",
       "MEMBER_ID                              \n",
       "100031892  [MEX, PTY, GUA, MIA, SJO]   \n",
       "100034364  [PTY, MIA, MEX, SJO, BOG]   \n",
       "100034902  [PTY, SJO, MEX, GUA, SDQ]   \n",
       "100035145  [MEX, PTY, GUA, SJO, MIA]   \n",
       "100040465  [PTY, MEX, SJO, GUA, LIM]   \n",
       "100041338  [PTY, MIA, CUN, MEX, SJO]   \n",
       "100041994  [MCO, MIA, GUA, LAX, SJO]   \n",
       "100043486  [MIA, MEX, PTY, BOG, GUA]   \n",
       "100043615  [PTY, MEX, SJO, GUA, SDQ]   \n",
       "100043637  [MEX, PTY, GUA, SJO, BOG]   \n",
       "100050464  [PTY, MEX, SJO, GUA, SDQ]   \n",
       "100050578  [PTY, MIA, MEX, SJO, BOG]   \n",
       "100051783  [MEX, PTY, GUA, SJO, MIA]   \n",
       "100052678  [MEX, PTY, MIA, GUA, SJO]   \n",
       "100054148  [PTY, MEX, SJO, GUA, MIA]   \n",
       "100056182  [PTY, SJO, MEX, GUA, SDQ]   \n",
       "100056204  [PTY, MEX, SJO, GUA, MIA]   \n",
       "100057033  [MIA, BOG, MCO, MEX, GUA]   \n",
       "100057707  [PTY, MEX, SJO, GUA, SDQ]   \n",
       "100058083  [MCO, MIA, LAX, GUA, BOG]   \n",
       "100090176  [MIA, MCO, BOG, MEX, GUA]   \n",
       "100102846  [ASU, MVD, GIG, VVI, EZE]   \n",
       "100130437  [PTY, MEX, GUA, MIA, SJO]   \n",
       "100130857  [PTY, SJO, SDQ, MEX, CUN]   \n",
       "100131008  [PTY, MEX, SJO, MIA, GUA]   \n",
       "100132714  [SJO, PTY, GUA, MEX, SDQ]   \n",
       "100133016  [PTY, MEX, SJO, GUA, LIM]   \n",
       "100136995  [PTY, MEX, MIA, SJO, BOG]   \n",
       "100137194  [PTY, SJO, MEX, GUA, SDQ]   \n",
       "100139154  [GUA, SJO, PTY, MEX, MIA]   \n",
       "100139806  [MEX, GUA, PTY, SJO, MIA]   \n",
       "100140344  [PTY, MEX, SJO, GUA, CUN]   \n",
       "100142978  [PTY, MEX, SJO, GUA, SDQ]   \n",
       "100143748  [PTY, MEX, SJO, GUA, MIA]   \n",
       "100144253  [MEX, PTY, SJO, GUA, BOG]   \n",
       "100145502  [PTY, MEX, SJO, GUA, SDQ]   \n",
       "100147753  [MCO, MIA, LAX, BOG, GUA]   \n",
       "100149013  [PTY, MEX, SJO, GUA, SCL]   \n",
       "100150472  [CCS, VLN, MCO, MIA, FLL]   \n",
       "100152126  [PTY, SJO, MEX, GUA, SDQ]   \n",
       "100152336  [CCS, PTY, MEX, MIA, SJO]   \n",
       "100152848  [PTY, MEX, SJO, GUA, SDQ]   \n",
       "100155943  [PTY, SJO, GUA, MEX, SDQ]   \n",
       "100156013  [PTY, SJO, SDQ, MGA, POS]   \n",
       "100156724  [PTY, MEX, SJO, CCS, MIA]   \n",
       "100157328  [MIA, MCO, LAX, BOG, GUA]   \n",
       "100158043  [PTY, MEX, SJO, GUA, SDQ]   \n",
       "100158135  [PTY, MEX, SJO, GUA, SDQ]   \n",
       "100159218  [SCL, EZE, LIM, PTY, MEX]   \n",
       "100159303  [PTY, MEX, SJO, GUA, MIA]   \n",
       "\n",
       "                                                       pred1  \n",
       "MEMBER_ID                                                     \n",
       "100031892  [1.473193883895874, 1.3925684690475464, 1.3717...  \n",
       "100034364  [1.3868271112442017, 1.298481822013855, 1.2900...  \n",
       "100034902  [1.8354800939559937, 1.4655382633209229, 1.460...  \n",
       "100035145  [1.537152647972107, 1.4331413507461548, 1.4235...  \n",
       "100040465  [1.4250928163528442, 1.2827187776565552, 1.156...  \n",
       "100041338  [1.2134510278701782, 1.1528159379959106, 1.077...  \n",
       "100041994  [1.1942585706710815, 1.1734713315963745, 1.094...  \n",
       "100043486  [1.3955706357955933, 1.3718065023422241, 1.360...  \n",
       "100043615  [1.84485924243927, 1.5330605506896973, 1.51278...  \n",
       "100043637  [1.2695732116699219, 1.2284082174301147, 1.225...  \n",
       "100050464  [1.6491609811782837, 1.478284239768982, 1.4740...  \n",
       "100050578  [1.1694462299346924, 1.136182188987732, 1.1354...  \n",
       "100051783  [1.6206669807434082, 1.6082894802093506, 1.459...  \n",
       "100052678  [1.492269515991211, 1.4662801027297974, 1.3803...  \n",
       "100054148  [1.7061330080032349, 1.5973857641220093, 1.509...  \n",
       "100056182  [1.8198186159133911, 1.5273410081863403, 1.510...  \n",
       "100056204  [1.3040839433670044, 1.2929165363311768, 1.143...  \n",
       "100057033  [1.4262235164642334, 1.377083659172058, 1.3199...  \n",
       "100057707  [1.819690465927124, 1.5342090129852295, 1.4980...  \n",
       "100058083  [1.3342236280441284, 1.228248953819275, 1.1813...  \n",
       "100090176  [1.442351222038269, 1.3710473775863647, 1.3309...  \n",
       "100102846  [0.8933029770851135, 0.8221772909164429, 0.626...  \n",
       "100130437  [1.4953778982162476, 1.494907021522522, 1.4300...  \n",
       "100130857  [1.447069764137268, 1.1148477792739868, 1.1067...  \n",
       "100131008  [1.3709906339645386, 1.3696162700653076, 1.229...  \n",
       "100132714  [1.3041274547576904, 1.2916258573532104, 1.286...  \n",
       "100133016  [1.7887693643569946, 1.6057031154632568, 1.469...  \n",
       "100136995  [1.4069517850875854, 1.338850975036621, 1.2915...  \n",
       "100137194  [1.848610281944275, 1.5062484741210938, 1.5052...  \n",
       "100139154  [1.4744013547897339, 1.4003510475158691, 1.370...  \n",
       "100139806  [1.4165982007980347, 1.4091371297836304, 1.403...  \n",
       "100140344  [1.5973540544509888, 1.3611984252929688, 1.316...  \n",
       "100142978  [1.7968575954437256, 1.4714664220809937, 1.461...  \n",
       "100143748  [1.4931927919387817, 1.362108826637268, 1.3073...  \n",
       "100144253  [1.5521773099899292, 1.4815785884857178, 1.431...  \n",
       "100145502  [1.7966495752334595, 1.580888032913208, 1.5461...  \n",
       "100147753  [1.478441834449768, 1.4537482261657715, 1.3257...  \n",
       "100149013  [1.6578534841537476, 1.4099342823028564, 1.361...  \n",
       "100150472  [1.0244837999343872, 0.7333788871765137, 0.666...  \n",
       "100152126  [1.725659728050232, 1.5284061431884766, 1.4840...  \n",
       "100152336  [1.7825912237167358, 1.2633209228515625, 0.898...  \n",
       "100152848  [1.8061684370040894, 1.4915616512298584, 1.471...  \n",
       "100155943  [1.4384857416152954, 1.2774347066879272, 1.188...  \n",
       "100156013  [1.4895943403244019, 1.0637714862823486, 1.048...  \n",
       "100156724  [1.408048391342163, 1.1987526416778564, 1.0942...  \n",
       "100157328  [1.4784431457519531, 1.4628862142562866, 1.337...  \n",
       "100158043  [1.8236414194107056, 1.58829665184021, 1.52465...  \n",
       "100158135  [1.8003127574920654, 1.51057767868042, 1.47879...  \n",
       "100159218  [1.057848572731018, 0.872150719165802, 0.65268...  \n",
       "100159303  [1.5332895517349243, 1.3614650964736938, 1.356...  "
      ]
     },
     "execution_count": 174,
     "metadata": {},
     "output_type": "execute_result"
    }
   ],
   "source": [
    "%%time \n",
    "topN = 5\n",
    "argsort = res1['pred'].apply(lambda x: np.argsort(x)[::-1])\n",
    "res1['argsort'] = argsort\n",
    "\n",
    "def argsortcolD(row):\n",
    "    return np.array(row['D'])[row['argsort'][0:topN]]\n",
    "\n",
    "def argsortcolPred(row):\n",
    "    return np.array(row['pred'])[row['argsort'][0:topN]]\n",
    "\n",
    "res1['D1'] = res1.apply(argsortcolD, axis=1)\n",
    "res1['pred1'] = res1.apply(argsortcolPred, axis=1)\n",
    "res2 = res1.drop(['D','pred', 'argsort'], axis=1)\n",
    "res2.head(50)"
   ]
  },
  {
   "cell_type": "code",
   "execution_count": 169,
   "id": "d679ac51-f7ad-425e-86bc-838e2f419567",
   "metadata": {},
   "outputs": [
    {
     "data": {
      "text/plain": [
       "((2902, 2), (4957, 2))"
      ]
     },
     "execution_count": 169,
     "metadata": {},
     "output_type": "execute_result"
    }
   ],
   "source": [
    "# number of flights in validation set with PTY, SJO as destination\n",
    "x = interaction_dct['data_valid']\n",
    "x[x['D'] == 'SJO'].shape, x[x['D'] == 'PTY'].shape"
   ]
  },
  {
   "cell_type": "code",
   "execution_count": 171,
   "id": "29721d90-2557-4e8c-b66b-5b78ffd4a1ac",
   "metadata": {},
   "outputs": [
    {
     "data": {
      "text/plain": [
       "((4486, 2), (7038, 2), (81326, 2))"
      ]
     },
     "execution_count": 171,
     "metadata": {},
     "output_type": "execute_result"
    }
   ],
   "source": [
    "# number of flights in validation set with PTY, SJO as destination\n",
    "x = interaction_dct['data_test']\n",
    "x[x['D'] == 'SJO'].shape, x[x['D'] == 'PTY'].shape, x.shape"
   ]
  },
  {
   "cell_type": "code",
   "execution_count": 172,
   "id": "e41d95a4-c0e0-4d39-afda-c3168f16abe8",
   "metadata": {},
   "outputs": [
    {
     "data": {
      "text/plain": [
       "((8335, 2), (11409, 2), (180261, 2))"
      ]
     },
     "execution_count": 172,
     "metadata": {},
     "output_type": "execute_result"
    }
   ],
   "source": [
    "x = interaction_dct['data_train']\n",
    "x[x['D'] == 'SJO'].shape, x[x['D'] == 'PTY'].shape, x.shape"
   ]
  },
  {
   "cell_type": "code",
   "execution_count": 173,
   "id": "2d143748-aa17-4aed-bc7e-7c8eaa737450",
   "metadata": {},
   "outputs": [
    {
     "data": {
      "text/plain": [
       "((48355, 2), (90101, 2), (714086, 2))"
      ]
     },
     "execution_count": 173,
     "metadata": {},
     "output_type": "execute_result"
    }
   ],
   "source": [
    "x = interaction_dct['df_members']\n",
    "x[x['D'] == 'SJO'].shape, x[x['D'] == 'PTY'].shape, x.shape\n",
    "# 90k PTY and 48k SJO destinations out of 714,000 member flights"
   ]
  },
  {
   "cell_type": "code",
   "execution_count": null,
   "id": "31fe0823-56a4-4e94-a490-f004920386ec",
   "metadata": {},
   "outputs": [],
   "source": [
    "df['type'] = df['type'].map(np.sort).map(list) "
   ]
  },
  {
   "cell_type": "code",
   "execution_count": 99,
   "id": "f0e75e15-fd80-439a-bd1f-66c02e56404a",
   "metadata": {},
   "outputs": [
    {
     "name": "stdout",
     "output_type": "stream",
     "text": [
      "nb destinations:  (86,)\n",
      "members:  [239300926 230131088 232922338 ... 254785475 233485864 248525058]\n",
      "completed pair construction\n",
      "pairs shape:  (2275474, 2)\n",
      "(2275474, 3)\n",
      "         MEMBER_ID    D   pred\n",
      "0        239300926  ADZ -0.401\n",
      "1        239300926  ASU  0.062\n",
      "2        239300926  ATL -1.229\n",
      "3        239300926  AUA -0.033\n",
      "4        239300926  BAQ -0.175\n",
      "...            ...  ...    ...\n",
      "2275469  248525058  VLN -0.867\n",
      "2275470  248525058  VSA -1.625\n",
      "2275471  248525058  VVI -0.683\n",
      "2275472  248525058  YUL -1.367\n",
      "2275473  248525058  YYZ -1.298\n",
      "\n",
      "[2275474 rows x 3 columns]\n"
     ]
    }
   ],
   "source": [
    "newlib.recommender(model, interaction_dct)"
   ]
  },
  {
   "cell_type": "code",
   "execution_count": 94,
   "id": "34ec1a7d-6434-4a3d-ba8c-f96df3c9af0f",
   "metadata": {},
   "outputs": [
    {
     "data": {
      "text/plain": [
       "2275474"
      ]
     },
     "execution_count": 94,
     "metadata": {},
     "output_type": "execute_result"
    }
   ],
   "source": [
    "interaction_dct['data_valid']['MEMBER_ID'].unique().shape[0]*86"
   ]
  },
  {
   "cell_type": "code",
   "execution_count": 18,
   "id": "cfc33d6d-036d-427c-b8ac-9257218ac772",
   "metadata": {},
   "outputs": [
    {
     "data": {
      "text/plain": [
       "dict_keys(['df_members', 'df_user_attr', 'df_item_attr', 'data_train', 'data_valid', 'data_test', 'train_dest_sets', 'valid_dest_sets'])"
      ]
     },
     "execution_count": 18,
     "metadata": {},
     "output_type": "execute_result"
    }
   ],
   "source": [
    "interaction_dct.keys()"
   ]
  },
  {
   "cell_type": "code",
   "execution_count": null,
   "id": "77212a15-573e-4a5a-a8b1-ec9e413b435f",
   "metadata": {},
   "outputs": [],
   "source": [
    "model.predict()"
   ]
  },
  {
   "cell_type": "code",
   "execution_count": null,
   "id": "a3e2778c-fe5d-4d97-8553-19b987c5a8e7",
   "metadata": {},
   "outputs": [],
   "source": [
    "np.argsort()"
   ]
  },
  {
   "cell_type": "code",
   "execution_count": 70,
   "id": "97567f04-c965-4a3b-ac4a-b5aa68d3ef7a",
   "metadata": {},
   "outputs": [
    {
     "data": {
      "text/plain": [
       "array([5, 4, 3, 2, 1])"
      ]
     },
     "execution_count": 70,
     "metadata": {},
     "output_type": "execute_result"
    }
   ],
   "source": [
    "a = [1,2,3,4,5]\n",
    "a = np.array(a)\n",
    "a = a[::-1]\n",
    "a"
   ]
  },
  {
   "cell_type": "code",
   "execution_count": null,
   "id": "9601f708-18eb-4f90-bbc0-9221a8bac192",
   "metadata": {},
   "outputs": [],
   "source": [
    "data_valid = interaction_dct['data_valid']\n",
    "model.predict(data_valid, cold_start='drop').shape"
   ]
  },
  {
   "cell_type": "code",
   "execution_count": null,
   "id": "c7e08c1c-c347-4814-aeb2-fd6939a78aa9",
   "metadata": {},
   "outputs": [],
   "source": [
    "valid.data.shape"
   ]
  },
  {
   "cell_type": "code",
   "execution_count": null,
   "id": "8e763ebe-bbaf-4d2b-8856-2ba772552d1b",
   "metadata": {},
   "outputs": [],
   "source": [
    "inf = 'activity_reduced_with_attributes.csv'\n",
    "dff = pd.read_csv(inf)\n",
    "dff.groupby(['MEMBER_ID','D']).size().max()\n",
    "# result is 1. So I removed too much data, since a M-D combination occuring in the training \n",
    "# set cannot possibly occur in the validation set. "
   ]
  },
  {
   "cell_type": "code",
   "execution_count": null,
   "id": "bebd2576-5775-4f5f-ad5e-c11be083d911",
   "metadata": {},
   "outputs": [],
   "source": [
    "interaction_dct.keys()"
   ]
  },
  {
   "cell_type": "markdown",
   "id": "d0016674-42c7-44a3-b341-309d412631ef",
   "metadata": {},
   "source": [
    "When calling model.recommend, whether with filter_previous True or False, the first recommendation is mostly SJO and PTY. That does not seem correct. \n",
    "Note that the hit rate is having issues."
   ]
  },
  {
   "cell_type": "code",
   "execution_count": null,
   "id": "b65b2734-7da5-4c9e-afdb-4cad1e7fbd0c",
   "metadata": {},
   "outputs": [],
   "source": [
    "model.recommend(data_train.MEMBER_ID, filter_previous=True, n_items=5).head(5)"
   ]
  },
  {
   "cell_type": "code",
   "execution_count": null,
   "id": "d1f15c8b-6212-48b3-8f00-e41684d66b87",
   "metadata": {},
   "outputs": [],
   "source": [
    "interaction_dct['data_train']"
   ]
  },
  {
   "cell_type": "code",
   "execution_count": null,
   "id": "3089cec1-2975-44e2-8852-389ec33822f9",
   "metadata": {},
   "outputs": [],
   "source": [
    "flib.hit_rate(model, interaction_dct['data_valid'])"
   ]
  },
  {
   "cell_type": "code",
   "execution_count": null,
   "id": "5a60e5df-face-40a5-aea4-6b1f1c996cdb",
   "metadata": {},
   "outputs": [],
   "source": [
    "members_train = data_train.MEMBER_ID.unique()  # returns ndarray\n",
    "members_valid = data_valid.MEMBER_ID.unique()"
   ]
  },
  {
   "cell_type": "code",
   "execution_count": null,
   "id": "16bf7e87-3240-4182-af5f-1f2090437107",
   "metadata": {},
   "outputs": [],
   "source": [
    "mtrain = set(members_train)\n",
    "mvalid = set(members_valid)\n",
    "len(mvalid), len(mtrain), mvalid.intersection(mtrain);"
   ]
  },
  {
   "cell_type": "code",
   "execution_count": null,
   "id": "7dfd64c8-993b-44a2-88c0-62dd7e723f05",
   "metadata": {},
   "outputs": [],
   "source": [
    "model.recommend(members_valid, n_items=5, filter_previous=True, cold_start='drop')"
   ]
  },
  {
   "cell_type": "code",
   "execution_count": null,
   "id": "c193374b-18ef-4eed-9710-8c8af5ff9164",
   "metadata": {},
   "outputs": [],
   "source": [
    "members_valid.shape"
   ]
  },
  {
   "cell_type": "code",
   "execution_count": null,
   "id": "1494c68a-25a9-4c09-94f2-23076b07c17e",
   "metadata": {},
   "outputs": [],
   "source": [
    "mvalid_np = np.asarray(mvalid)"
   ]
  },
  {
   "cell_type": "code",
   "execution_count": null,
   "id": "a87edf7d-e020-428b-a679-4d7b9d7cff7a",
   "metadata": {},
   "outputs": [],
   "source": [
    "data_valid"
   ]
  },
  {
   "cell_type": "code",
   "execution_count": null,
   "id": "33f124cd-2db1-46f0-8a76-6605b15b3ec8",
   "metadata": {},
   "outputs": [],
   "source": [
    "data_test"
   ]
  },
  {
   "cell_type": "code",
   "execution_count": null,
   "id": "158ca7ef-08e8-4262-8415-1e23814bcc58",
   "metadata": {},
   "outputs": [],
   "source": [
    "hit_rate(model, data_test, k=5, filter_previous=True)"
   ]
  },
  {
   "cell_type": "code",
   "execution_count": null,
   "id": "cd5b0b44-7d12-4717-871b-8220ecde666f",
   "metadata": {},
   "outputs": [],
   "source": [
    "# More iterations, worse results. Why would that be? Unless iterations is not converged?\n",
    "interactions_dct, model = newlib.calculate_dct_with_attributes(nb_samples=1000, with_attrib=True, verbose=False, nb_epochs=100, loss='warp')"
   ]
  },
  {
   "cell_type": "code",
   "execution_count": null,
   "id": "2d65c228-e8f2-431d-ba25-ac525586a42b",
   "metadata": {},
   "outputs": [],
   "source": [
    "# Hit rate goes fro 0.29 to 0.21 when nb_epochs goes from 30 to 100. I DO NOT LIKE THIS. \n",
    "newlib.topn_recommendations_with_attributes(model, interactions_dct, topN=3)"
   ]
  },
  {
   "cell_type": "code",
   "execution_count": null,
   "id": "33b721af-48dc-4569-be64-9b1f962a65a3",
   "metadata": {},
   "outputs": [],
   "source": [
    "Construct training/testing datasets\n",
    "# Consider a training set of 10% of the data. \n",
    "# Shuffle the data first\n"
   ]
  },
  {
   "cell_type": "code",
   "execution_count": null,
   "id": "1b3a7a7a-1806-4ad1-b4f6-848aeba88b05",
   "metadata": {},
   "outputs": [],
   "source": [
    "data = interactions_dct['train']\n",
    "data1 = data.sample(frac=1, random_state=100)"
   ]
  },
  {
   "cell_type": "code",
   "execution_count": null,
   "id": "91a31b7c-aa28-4083-bd3f-d5190c7d0230",
   "metadata": {},
   "outputs": [],
   "source": [
    "data.head(), data1.head()"
   ]
  },
  {
   "cell_type": "code",
   "execution_count": null,
   "id": "839e16a3-ad09-4d3b-81e1-5e1f97a75d80",
   "metadata": {},
   "outputs": [],
   "source": [
    "data.groupby('MEMBER_ID').agg({'D':list}).shape"
   ]
  },
  {
   "cell_type": "code",
   "execution_count": null,
   "id": "cd53250b-5442-45d6-a1b7-5074ca501016",
   "metadata": {},
   "outputs": [],
   "source": [
    "print(x[])"
   ]
  },
  {
   "cell_type": "code",
   "execution_count": null,
   "id": "e1711f42-7e32-42db-b6a9-3efc633ed137",
   "metadata": {},
   "outputs": [],
   "source": [
    "hit_rate(model, data, k=5, filter_previous=False) # cold_start='drop');"
   ]
  },
  {
   "cell_type": "markdown",
   "id": "dcc742b0-4672-4be0-8624-ad1cb7ff6809",
   "metadata": {},
   "source": [
    "Calculate the hit rate myself based on the recommendations, which are based on the ranking scores. \n",
    "To do this, \n",
    "* first create a list of destinations for each member in the training set. \n",
    "* next, for each of the recommendations, determine whether the member flew there in the test set. \n",
    "* if the member flew there in the test set, add 1 to the hit list, else 0"
   ]
  },
  {
   "cell_type": "markdown",
   "id": "72c3e0ff-4781-42e7-991c-11b65ed99f22",
   "metadata": {},
   "source": []
  },
  {
   "cell_type": "code",
   "execution_count": null,
   "id": "11309175-36fd-4830-9f9b-c59b92355710",
   "metadata": {},
   "outputs": [],
   "source": [
    "data = interactions_dct['train']\n",
    "x = list(interactions_dct['train']['MEMBER_ID'])\n",
    "data_train, data_valid, data_test = newlib.train_valid(x, 0.8, 0.1)"
   ]
  },
  {
   "cell_type": "markdown",
   "id": "baf979ce-1679-4075-b948-f9ba0f46674f",
   "metadata": {},
   "source": [
    "Train the model"
   ]
  },
  {
   "cell_type": "code",
   "execution_count": null,
   "id": "25d6e81f-6d04-4798-b693-e6895f91906e",
   "metadata": {},
   "outputs": [],
   "source": [
    "in_file = \"activity_reduced_with_attributes.csv\"\n",
    "member_dest_df, df_user_attrib, df_item_attrib = newlib.read_data_attributes_single_file(in_file)"
   ]
  }
 ],
 "metadata": {
  "kernelspec": {
   "display_name": "Python 3",
   "language": "python",
   "name": "python3"
  },
  "language_info": {
   "codemirror_mode": {
    "name": "ipython",
    "version": 3
   },
   "file_extension": ".py",
   "mimetype": "text/x-python",
   "name": "python",
   "nbconvert_exporter": "python",
   "pygments_lexer": "ipython3",
   "version": "3.8.8"
  }
 },
 "nbformat": 4,
 "nbformat_minor": 5
}
