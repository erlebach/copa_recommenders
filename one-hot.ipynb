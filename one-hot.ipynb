{
 "cells": [
  {
   "cell_type": "markdown",
   "id": "c4bd91d9-488f-40cf-9b9b-0d509e76989d",
   "metadata": {},
   "source": [
    "Use the \"base\" environment in conda on Pop!OS."
   ]
  },
  {
   "cell_type": "code",
   "execution_count": 1,
   "id": "79b5aa87-94a6-401d-bea8-affeb2eb4d83",
   "metadata": {},
   "outputs": [],
   "source": [
    "%load_ext autoreload\n",
    "%autoreload 2"
   ]
  },
  {
   "cell_type": "code",
   "execution_count": 4,
   "id": "74cc7a1d-b1bc-4f36-a981-e9f3e14ac278",
   "metadata": {},
   "outputs": [],
   "source": [
    "import pandas as pd\n",
    "# from surprise import Dataset, Reader\n",
    "# import numpy as np\n",
    "# import fm_utils as fm"
   ]
  },
  {
   "cell_type": "code",
   "execution_count": 5,
   "id": "ca257016-4ac6-4262-97f8-98d86b0ff176",
   "metadata": {},
   "outputs": [],
   "source": [
    "df_attr = pd.read_csv(\"activity_reduced_with_attributes.csv\")"
   ]
  },
  {
   "cell_type": "code",
   "execution_count": 6,
   "id": "003705b1-bd7a-4676-8d13-9265e0aa2e56",
   "metadata": {},
   "outputs": [],
   "source": [
    "df_attr['year'] = df_attr.booking_date.str[0:4]\n",
    "years = [2000+d for d in range(15,23)]\n",
    "df_years = {}\n",
    "for year in years: \n",
    "    df_years[year] = df_attr[df_attr['year'] == str(year)]\n",
    "    df_years[year].to_csv(\"attrib_\"+str(year)+\".csv\", index=0)\n",
    "# year is an integer"
   ]
  },
  {
   "cell_type": "code",
   "execution_count": 7,
   "id": "b6d6c0b2-752c-48c1-a2a2-dbeb84365d8c",
   "metadata": {},
   "outputs": [],
   "source": [
    "def create_attributes_by_year(year):\n",
    "    df1 = pd.read_csv(\"attrib_\"+str(year)+\".csv\")\n",
    "    \n",
    "    # Break up passenger age into four groups\n",
    "    df1['age_departure'] = pd.cut(df1.age_at_flight, bins=[0, 30, 50, 70, 120])\n",
    "\n",
    "    \"\"\"\n",
    "    df2 = pd.get_dummies(df1, prefix=['fl_dwk', 'fl_mo', 'bk_dwk','bk_mo','age','addr'], \n",
    "                         columns=['flight_dowk','flight_mo', 'booking_dowk', 'booking_mo', 'age_departure', 'ADDR_COUNTRY'])\n",
    "    df3 = df2[['MEMBER_ID','D']].copy()\n",
    "    df4 = df2.loc[:, 'fl_dwk_0':'addr_Venezuela']\n",
    "\n",
    "    df3['ratings'] = 1  # not needed?\n",
    "    #df3.columns = ['userID', 'productID', 'ratings']\n",
    "    \"\"\"\n",
    "    \n",
    "    df3 = df1.copy()\n",
    "\n",
    "#     df_memb_dest = df3loc[:, 'MEMBER_ID':'D']\n",
    "    df_memb_dest = df3[['MEMBER_ID', 'D']].copy()\n",
    "    df_attrib = df2.loc[:, 'fl_dwk_0':'addr_Venezuela']\n",
    "    df_attrib['MEMBER_ID'] = df_memb_dest.loc[:,'MEMBER_ID']\n",
    "    df_memb_dest['ratings'] = 1\n",
    "    \n",
    "    df_memb_dest.to_csv(f\"member_dest_{year}.csv\", index=0)\n",
    "    df_attrib.to_csv(f\"member_attrib_{year}.csv\", index=0)\n",
    "    \n",
    "    return df_memb_dest, df_attrib"
   ]
  },
  {
   "cell_type": "code",
   "execution_count": 8,
   "id": "ea9c068a-f0ef-4249-a8b9-6bb5ff32baf7",
   "metadata": {},
   "outputs": [],
   "source": [
    "df_members, df_attrib = create_attributes_by_year(2016)\n",
    "df_members, df_attrib = create_attributes_by_year(2017)"
   ]
  },
  {
   "cell_type": "code",
   "execution_count": 9,
   "id": "d8294b78-634c-45c5-9660-853d303b61bc",
   "metadata": {},
   "outputs": [
    {
     "data": {
      "text/plain": [
       "(Index(['MEMBER_ID', 'D', 'ratings'], dtype='object'),\n",
       " Index(['fl_dwk_0', 'fl_dwk_1', 'fl_dwk_2', 'fl_dwk_3', 'fl_dwk_4', 'fl_dwk_5',\n",
       "        'fl_dwk_6', 'fl_mo_1', 'fl_mo_2', 'fl_mo_3', 'fl_mo_4', 'fl_mo_5',\n",
       "        'fl_mo_6', 'fl_mo_7', 'fl_mo_8', 'fl_mo_9', 'fl_mo_10', 'fl_mo_11',\n",
       "        'fl_mo_12', 'bk_dwk_0', 'bk_dwk_1', 'bk_dwk_2', 'bk_dwk_3', 'bk_dwk_4',\n",
       "        'bk_dwk_5', 'bk_dwk_6', 'bk_mo_1', 'bk_mo_2', 'bk_mo_3', 'bk_mo_4',\n",
       "        'bk_mo_5', 'bk_mo_6', 'bk_mo_7', 'bk_mo_8', 'bk_mo_9', 'bk_mo_10',\n",
       "        'bk_mo_11', 'bk_mo_12', 'age_(0, 30]', 'age_(30, 50]', 'age_(50, 70]',\n",
       "        'age_(70, 120]', 'addr_Argentina', 'addr_Aruba', 'addr_Belize',\n",
       "        'addr_Bolivia', 'addr_Brazil', 'addr_Canada', 'addr_Chile',\n",
       "        'addr_Colombia', 'addr_Costa Rica', 'addr_Cuba',\n",
       "        'addr_Dominican Republic', 'addr_Ecuador', 'addr_El Salvador',\n",
       "        'addr_Guatemala', 'addr_Guyana', 'addr_Haiti', 'addr_Honduras',\n",
       "        'addr_Jamaica', 'addr_Mexico', 'addr_Nicaragua', 'addr_Panama',\n",
       "        'addr_Paraguay', 'addr_Peru', 'addr_Puerto Rico',\n",
       "        'addr_Trinidad And Tobago', 'addr_United States', 'addr_Uruguay',\n",
       "        'addr_Venezuela', 'MEMBER_ID'],\n",
       "       dtype='object'))"
      ]
     },
     "execution_count": 9,
     "metadata": {},
     "output_type": "execute_result"
    }
   ],
   "source": [
    "df_members.columns, df_attrib.columns"
   ]
  }
 ],
 "metadata": {
  "kernelspec": {
   "display_name": "Python 3 (ipykernel)",
   "language": "python",
   "name": "python3"
  },
  "language_info": {
   "codemirror_mode": {
    "name": "ipython",
    "version": 3
   },
   "file_extension": ".py",
   "mimetype": "text/x-python",
   "name": "python",
   "nbconvert_exporter": "python",
   "pygments_lexer": "ipython3",
   "version": "3.8.5"
  }
 },
 "nbformat": 4,
 "nbformat_minor": 5
}
