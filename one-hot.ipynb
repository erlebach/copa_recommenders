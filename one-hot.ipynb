{
 "cells": [
  {
   "cell_type": "markdown",
   "id": "c4bd91d9-488f-40cf-9b9b-0d509e76989d",
   "metadata": {},
   "source": [
    "Use the \"base\" environment in conda on Pop!OS."
   ]
  },
  {
   "cell_type": "code",
   "execution_count": 1,
   "id": "79b5aa87-94a6-401d-bea8-affeb2eb4d83",
   "metadata": {},
   "outputs": [],
   "source": [
    "%load_ext autoreload\n",
    "%autoreload 2"
   ]
  },
  {
   "cell_type": "code",
   "execution_count": 2,
   "id": "74cc7a1d-b1bc-4f36-a981-e9f3e14ac278",
   "metadata": {},
   "outputs": [],
   "source": [
    "#import sklearn\n",
    "import pandas as pd\n",
    "#import surprise as sur\n",
    "#from surprise import SVD\n",
    "from surprise import Dataset, Reader\n",
    "#from surprise.model_selection import train_test_split\n",
    "#from surprise.model_selection import cross_validate\n",
    "#from sklearn.preprocessing import OneHotEncoder\n",
    "import numpy as np\n",
    "import fm_utils as fm"
   ]
  },
  {
   "cell_type": "code",
   "execution_count": 3,
   "id": "ca257016-4ac6-4262-97f8-98d86b0ff176",
   "metadata": {},
   "outputs": [],
   "source": [
    "df_attr = pd.read_csv(\"activity_reduced_with_attributes.csv\")"
   ]
  },
  {
   "cell_type": "code",
   "execution_count": 4,
   "id": "003705b1-bd7a-4676-8d13-9265e0aa2e56",
   "metadata": {},
   "outputs": [
    {
     "name": "stdout",
     "output_type": "stream",
     "text": [
      "[2015, 2016, 2017, 2018, 2019, 2020, 2021, 2022]\n"
     ]
    }
   ],
   "source": [
    "df_attr['year'] = df_attr.booking_date.str[0:4]\n",
    "years = [2000+d for d in range(15,23)]\n",
    "df_years = {}\n",
    "for year in years: \n",
    "    df_years[year] = df_attr[df_attr['year'] == str(year)]\n",
    "    df_years[year].to_csv(\"attrib_\"+str(year)+\".csv\", index=0)\n",
    "# year is an integer"
   ]
  },
  {
   "cell_type": "code",
   "execution_count": 102,
   "id": "b6d6c0b2-752c-48c1-a2a2-dbeb84365d8c",
   "metadata": {},
   "outputs": [],
   "source": [
    "def create_attributes_by_year(year):\n",
    "    df1 = pd.read_csv(\"attrib_\"+str(year)+\".csv\")\n",
    "    \n",
    "    # Break up passenger age into four groups\n",
    "    df1['age_departure'] = pd.cut(df1.age_at_flight, bins=[0, 30, 50, 70, 120])\n",
    "\n",
    "    df2 = pd.get_dummies(df1, prefix=['fl_dwk', 'fl_mo', 'bk_dwk','bk_mo','age','addr'], \n",
    "                         columns=['flight_dowk','flight_mo', 'booking_dowk', 'booking_mo', 'age_departure', 'ADDR_COUNTRY'])\n",
    "    df3 = df2[['MEMBER_ID','D']].copy()\n",
    "    df4 = df2.loc[:, 'fl_dwk_0':'addr_Venezuela']\n",
    "\n",
    "    df3['ratings'] = 1  # not needed?\n",
    "    #df3.columns = ['userID', 'productID', 'ratings']\n",
    "\n",
    "#     df_memb_dest = df3loc[:, 'MEMBER_ID':'D']\n",
    "    df_memb_dest = df3[['MEMBER_ID', 'D']].copy()\n",
    "    df_attrib = df2.loc[:, 'fl_dwk_0':'addr_Venezuela']\n",
    "    df_attrib['MEMBER_ID'] = df_memb_dest.loc[:,'MEMBER_ID']\n",
    "    df_memb_dest['ratings'] = 1\n",
    "    \n",
    "    df_memb_dest.to_csv(f\"member_dest_{year}.csv\", index=0)\n",
    "    df_attrib.to_csv(f\"member_attrib_{year}.csv\", index=0)\n",
    "    \n",
    "    return df_memb_dest, df_attrib"
   ]
  },
  {
   "cell_type": "code",
   "execution_count": 101,
   "id": "ea9c068a-f0ef-4249-a8b9-6bb5ff32baf7",
   "metadata": {},
   "outputs": [],
   "source": [
    "df_members, df_attrib = create_attributes_by_year(2016)\n",
    "df_members, df_attrib = create_attributes_by_year(2017)"
   ]
  },
  {
   "cell_type": "code",
   "execution_count": 68,
   "id": "d8294b78-634c-45c5-9660-853d303b61bc",
   "metadata": {},
   "outputs": [
    {
     "data": {
      "text/plain": [
       "(Index(['MEMBER_ID', 'TRUE_OD', 'D', 'ratings'], dtype='object'),\n",
       " Index(['fl_dwk_0', 'fl_dwk_1', 'fl_dwk_2', 'fl_dwk_3', 'fl_dwk_4', 'fl_dwk_5',\n",
       "        'fl_dwk_6', 'fl_mo_1', 'fl_mo_2', 'fl_mo_3', 'fl_mo_4', 'fl_mo_5',\n",
       "        'fl_mo_6', 'fl_mo_7', 'fl_mo_8', 'fl_mo_9', 'fl_mo_10', 'fl_mo_11',\n",
       "        'fl_mo_12', 'bk_dwk_0', 'bk_dwk_1', 'bk_dwk_2', 'bk_dwk_3', 'bk_dwk_4',\n",
       "        'bk_dwk_5', 'bk_dwk_6', 'bk_mo_1', 'bk_mo_2', 'bk_mo_3', 'bk_mo_4',\n",
       "        'bk_mo_5', 'bk_mo_6', 'bk_mo_7', 'bk_mo_8', 'bk_mo_9', 'bk_mo_10',\n",
       "        'bk_mo_11', 'bk_mo_12', 'age_(0, 30]', 'age_(30, 50]', 'age_(50, 70]',\n",
       "        'age_(70, 120]', 'addr_Argentina', 'addr_Aruba', 'addr_Belize',\n",
       "        'addr_Bolivia', 'addr_Brazil', 'addr_Canada', 'addr_Chile',\n",
       "        'addr_Colombia', 'addr_Costa Rica', 'addr_Cuba',\n",
       "        'addr_Dominican Republic', 'addr_Ecuador', 'addr_El Salvador',\n",
       "        'addr_Guatemala', 'addr_Guyana', 'addr_Haiti', 'addr_Honduras',\n",
       "        'addr_Jamaica', 'addr_Mexico', 'addr_Nicaragua', 'addr_Panama',\n",
       "        'addr_Paraguay', 'addr_Peru', 'addr_Puerto Rico',\n",
       "        'addr_Trinidad And Tobago', 'addr_United States', 'addr_Uruguay',\n",
       "        'addr_Venezuela', 'MEMBER_ID'],\n",
       "       dtype='object'))"
      ]
     },
     "execution_count": 68,
     "metadata": {},
     "output_type": "execute_result"
    }
   ],
   "source": [
    "df_members.columns, df_attrib.columns"
   ]
  },
  {
   "cell_type": "code",
   "execution_count": 5,
   "id": "3a47ad62-cfba-4f78-a16c-2b3f9d2a1cb6",
   "metadata": {},
   "outputs": [
    {
     "data": {
      "text/plain": [
       "((121806, 23),\n",
       " Index(['MEMBER_ID', 'TRUE_OD', 'D', 'FLIGHT_DATE', 'BOOKING_DATE',\n",
       "        'TICKET_SALES_DATE', 'TICKET_NUMBER', 'TRUE_ORIGIN_COUNTRY',\n",
       "        'ADDR_COUNTRY', 'PNR', 'PARTY_SZ', 'size', 'booking_date',\n",
       "        'booking_dowk', 'booking_mo', 'flight_date', 'flight_dowk', 'flight_mo',\n",
       "        'TIER_LEVEL', 'GENDER', 'BIRTH_DATE', 'age_at_flight', 'year'],\n",
       "       dtype='object'))"
      ]
     },
     "execution_count": 5,
     "metadata": {},
     "output_type": "execute_result"
    }
   ],
   "source": [
    "year = 2016\n",
    "df1 = pd.read_csv(\"attrib_\"+str(year)+\".csv\")\n",
    "df1.shape, df1.columns"
   ]
  },
  {
   "cell_type": "markdown",
   "id": "1af13b9f-9a20-4282-a78f-d9e4be73ad61",
   "metadata": {},
   "source": [
    "## construct one-hot encoded vector\n",
    "Transform booking_dowk (7), booking_mo (12), flight_dowk (7), flight_mo (12), age (4)\n",
    "\n",
    "Ages: 0-30, 30-50, 50-70, 70+ (4 categories)"
   ]
  },
  {
   "cell_type": "code",
   "execution_count": 8,
   "id": "e6595f64-1b31-4028-889c-4f07068cf2ff",
   "metadata": {},
   "outputs": [
    {
     "data": {
      "text/plain": [
       "(30, 50]     77837\n",
       "(50, 70]     29870\n",
       "(0, 30]      13146\n",
       "(70, 120]      953\n",
       "Name: age_departure, dtype: int64"
      ]
     },
     "execution_count": 8,
     "metadata": {},
     "output_type": "execute_result"
    }
   ],
   "source": [
    "df1['age_departure'] = pd.cut(df1.age_at_flight, bins=[0, 30, 50, 70, 120])\n",
    "df1['age_departure'].value_counts()"
   ]
  },
  {
   "cell_type": "code",
   "execution_count": 9,
   "id": "47fb38f2-ff10-4ae2-8bdf-074bbc40a0da",
   "metadata": {},
   "outputs": [
    {
     "data": {
      "text/plain": [
       "(Index(['MEMBER_ID', 'TRUE_OD', 'D', 'FLIGHT_DATE', 'BOOKING_DATE',\n",
       "        'TICKET_SALES_DATE', 'TICKET_NUMBER', 'TRUE_ORIGIN_COUNTRY', 'PNR',\n",
       "        'PARTY_SZ', 'size', 'booking_date', 'flight_date', 'TIER_LEVEL',\n",
       "        'GENDER', 'BIRTH_DATE', 'age_at_flight', 'year', 'fl_dwk_0', 'fl_dwk_1',\n",
       "        'fl_dwk_2', 'fl_dwk_3', 'fl_dwk_4', 'fl_dwk_5', 'fl_dwk_6', 'fl_mo_1',\n",
       "        'fl_mo_2', 'fl_mo_3', 'fl_mo_4', 'fl_mo_5', 'fl_mo_6', 'fl_mo_7',\n",
       "        'fl_mo_8', 'fl_mo_9', 'fl_mo_10', 'fl_mo_11', 'fl_mo_12', 'bk_dwk_0',\n",
       "        'bk_dwk_1', 'bk_dwk_2', 'bk_dwk_3', 'bk_dwk_4', 'bk_dwk_5', 'bk_dwk_6',\n",
       "        'bk_mo_1', 'bk_mo_2', 'bk_mo_3', 'bk_mo_4', 'bk_mo_5', 'bk_mo_6',\n",
       "        'bk_mo_7', 'bk_mo_8', 'bk_mo_9', 'bk_mo_10', 'bk_mo_11', 'bk_mo_12',\n",
       "        'age_(0, 30]', 'age_(30, 50]', 'age_(50, 70]', 'age_(70, 120]',\n",
       "        'addr_Argentina', 'addr_Aruba', 'addr_Belize', 'addr_Bolivia',\n",
       "        'addr_Brazil', 'addr_Canada', 'addr_Chile', 'addr_Colombia',\n",
       "        'addr_Costa Rica', 'addr_Cuba', 'addr_Dominican Republic',\n",
       "        'addr_Ecuador', 'addr_El Salvador', 'addr_Guatemala', 'addr_Guyana',\n",
       "        'addr_Haiti', 'addr_Honduras', 'addr_Jamaica', 'addr_Mexico',\n",
       "        'addr_Nicaragua', 'addr_Panama', 'addr_Paraguay', 'addr_Peru',\n",
       "        'addr_Puerto Rico', 'addr_Trinidad And Tobago', 'addr_United States',\n",
       "        'addr_Uruguay', 'addr_Venezuela'],\n",
       "       dtype='object'),\n",
       " (121806, 88))"
      ]
     },
     "execution_count": 9,
     "metadata": {},
     "output_type": "execute_result"
    }
   ],
   "source": [
    "df2 = pd.get_dummies(df1, prefix=['fl_dwk', 'fl_mo', 'bk_dwk','bk_mo','age','addr'], \n",
    "                     columns=['flight_dowk','flight_mo', 'booking_dowk', 'booking_mo', 'age_departure', 'ADDR_COUNTRY'])\n",
    "df2.columns, df2.shape"
   ]
  },
  {
   "cell_type": "code",
   "execution_count": 52,
   "id": "27dcf546-78ef-4040-9c87-65abd8a80c67",
   "metadata": {},
   "outputs": [
    {
     "data": {
      "text/html": [
       "<div>\n",
       "<style scoped>\n",
       "    .dataframe tbody tr th:only-of-type {\n",
       "        vertical-align: middle;\n",
       "    }\n",
       "\n",
       "    .dataframe tbody tr th {\n",
       "        vertical-align: top;\n",
       "    }\n",
       "\n",
       "    .dataframe thead th {\n",
       "        text-align: right;\n",
       "    }\n",
       "</style>\n",
       "<table border=\"1\" class=\"dataframe\">\n",
       "  <thead>\n",
       "    <tr style=\"text-align: right;\">\n",
       "      <th></th>\n",
       "      <th>MEMBER_ID</th>\n",
       "      <th>TRUE_OD</th>\n",
       "      <th>D</th>\n",
       "      <th>ratings</th>\n",
       "    </tr>\n",
       "  </thead>\n",
       "  <tbody>\n",
       "    <tr>\n",
       "      <th>0</th>\n",
       "      <td>100031203</td>\n",
       "      <td>PTY-LIR</td>\n",
       "      <td>LIR</td>\n",
       "      <td>1</td>\n",
       "    </tr>\n",
       "    <tr>\n",
       "      <th>1</th>\n",
       "      <td>230019464</td>\n",
       "      <td>PTY-BOG</td>\n",
       "      <td>BOG</td>\n",
       "      <td>1</td>\n",
       "    </tr>\n",
       "    <tr>\n",
       "      <th>2</th>\n",
       "      <td>230019464</td>\n",
       "      <td>PTY-EZE</td>\n",
       "      <td>EZE</td>\n",
       "      <td>1</td>\n",
       "    </tr>\n",
       "    <tr>\n",
       "      <th>3</th>\n",
       "      <td>230019464</td>\n",
       "      <td>PTY-BOG</td>\n",
       "      <td>BOG</td>\n",
       "      <td>1</td>\n",
       "    </tr>\n",
       "    <tr>\n",
       "      <th>4</th>\n",
       "      <td>230019464</td>\n",
       "      <td>PTY-SJU</td>\n",
       "      <td>SJU</td>\n",
       "      <td>1</td>\n",
       "    </tr>\n",
       "  </tbody>\n",
       "</table>\n",
       "</div>"
      ],
      "text/plain": [
       "   MEMBER_ID  TRUE_OD    D  ratings\n",
       "0  100031203  PTY-LIR  LIR        1\n",
       "1  230019464  PTY-BOG  BOG        1\n",
       "2  230019464  PTY-EZE  EZE        1\n",
       "3  230019464  PTY-BOG  BOG        1\n",
       "4  230019464  PTY-SJU  SJU        1"
      ]
     },
     "execution_count": 52,
     "metadata": {},
     "output_type": "execute_result"
    }
   ],
   "source": [
    "df_memb_dest = df2.loc[:, 'MEMBER_ID':'D']\n",
    "df_attrib = df2.loc[:, 'fl_dwk_0':'addr_Venezuela']\n",
    "df_attrib['MEMBER_ID'] = df_memb_dest.loc[:,'MEMBER_ID']\n",
    "df_memb_dest['ratings'] = 1\n",
    "#df3.columns = ['userID', 'productID', 'ratings']\n",
    "# df_memb_dest.head()"
   ]
  },
  {
   "cell_type": "code",
   "execution_count": 15,
   "id": "7370eb8e-4eae-4886-bef3-869a713420c4",
   "metadata": {},
   "outputs": [
    {
     "data": {
      "text/plain": [
       "Index(['fl_dwk_0', 'fl_dwk_1', 'fl_dwk_2', 'fl_dwk_3', 'fl_dwk_4', 'fl_dwk_5',\n",
       "       'fl_dwk_6', 'fl_mo_1', 'fl_mo_2', 'fl_mo_3', 'fl_mo_4', 'fl_mo_5',\n",
       "       'fl_mo_6', 'fl_mo_7', 'fl_mo_8', 'fl_mo_9', 'fl_mo_10', 'fl_mo_11',\n",
       "       'fl_mo_12', 'bk_dwk_0', 'bk_dwk_1', 'bk_dwk_2', 'bk_dwk_3', 'bk_dwk_4',\n",
       "       'bk_dwk_5', 'bk_dwk_6', 'bk_mo_1', 'bk_mo_2', 'bk_mo_3', 'bk_mo_4',\n",
       "       'bk_mo_5', 'bk_mo_6', 'bk_mo_7', 'bk_mo_8', 'bk_mo_9', 'bk_mo_10',\n",
       "       'bk_mo_11', 'bk_mo_12', 'age_(0, 30]', 'age_(30, 50]', 'age_(50, 70]',\n",
       "       'age_(70, 120]', 'addr_Argentina', 'addr_Aruba', 'addr_Belize',\n",
       "       'addr_Bolivia', 'addr_Brazil', 'addr_Canada', 'addr_Chile',\n",
       "       'addr_Colombia', 'addr_Costa Rica', 'addr_Cuba',\n",
       "       'addr_Dominican Republic', 'addr_Ecuador', 'addr_El Salvador',\n",
       "       'addr_Guatemala', 'addr_Guyana', 'addr_Haiti', 'addr_Honduras',\n",
       "       'addr_Jamaica', 'addr_Mexico', 'addr_Nicaragua', 'addr_Panama',\n",
       "       'addr_Paraguay', 'addr_Peru', 'addr_Puerto Rico',\n",
       "       'addr_Trinidad And Tobago', 'addr_United States', 'addr_Uruguay',\n",
       "       'addr_Venezuela'],\n",
       "      dtype='object')"
      ]
     },
     "execution_count": 15,
     "metadata": {},
     "output_type": "execute_result"
    }
   ],
   "source": [
    "df4.col"
   ]
  },
  {
   "cell_type": "code",
   "execution_count": 12,
   "id": "692e861f-ffa3-448c-89d9-6ecb367ab5d1",
   "metadata": {},
   "outputs": [],
   "source": [
    "reader = Reader(rating_scale=[1,1])\n",
    "data = Dataset.load_from_df(df3, reader)"
   ]
  },
  {
   "cell_type": "code",
   "execution_count": 13,
   "id": "c7e707c9-5906-46d8-9feb-db6175332509",
   "metadata": {},
   "outputs": [
    {
     "ename": "NameError",
     "evalue": "name 'df' is not defined",
     "output_type": "error",
     "traceback": [
      "\u001b[0;31m---------------------------------------------------------------------------\u001b[0m",
      "\u001b[0;31mNameError\u001b[0m                                 Traceback (most recent call last)",
      "\u001b[0;32m<ipython-input-13-06654ab5b663>\u001b[0m in \u001b[0;36m<module>\u001b[0;34m\u001b[0m\n\u001b[1;32m      1\u001b[0m \u001b[0mreader\u001b[0m \u001b[0;34m=\u001b[0m \u001b[0mReader\u001b[0m\u001b[0;34m(\u001b[0m\u001b[0mrating_scale\u001b[0m\u001b[0;34m=\u001b[0m\u001b[0;34m[\u001b[0m\u001b[0;36m1\u001b[0m\u001b[0;34m,\u001b[0m \u001b[0;36m1\u001b[0m\u001b[0;34m]\u001b[0m\u001b[0;34m)\u001b[0m   \u001b[0;31m# All ratings are 1\u001b[0m\u001b[0;34m\u001b[0m\u001b[0;34m\u001b[0m\u001b[0m\n\u001b[0;32m----> 2\u001b[0;31m \u001b[0mdata\u001b[0m \u001b[0;34m=\u001b[0m \u001b[0mDataset\u001b[0m\u001b[0;34m.\u001b[0m\u001b[0mload_from_df\u001b[0m\u001b[0;34m(\u001b[0m\u001b[0mdf\u001b[0m\u001b[0;34m[\u001b[0m\u001b[0;34m[\u001b[0m\u001b[0;34m'userID'\u001b[0m\u001b[0;34m,\u001b[0m \u001b[0;34m'itemID'\u001b[0m\u001b[0;34m,\u001b[0m \u001b[0;34m'rating'\u001b[0m\u001b[0;34m]\u001b[0m\u001b[0;34m]\u001b[0m\u001b[0;34m,\u001b[0m \u001b[0mreader\u001b[0m\u001b[0;34m)\u001b[0m\u001b[0;34m\u001b[0m\u001b[0;34m\u001b[0m\u001b[0m\n\u001b[0m\u001b[1;32m      3\u001b[0m \u001b[0mdata_training\u001b[0m \u001b[0;34m=\u001b[0m \u001b[0mdata\u001b[0m\u001b[0;34m.\u001b[0m\u001b[0mbuild_full_trainset\u001b[0m\u001b[0;34m(\u001b[0m\u001b[0;34m)\u001b[0m\u001b[0;34m\u001b[0m\u001b[0;34m\u001b[0m\u001b[0m\n\u001b[1;32m      4\u001b[0m \u001b[0;31m# numbers start from 1 in columns\u001b[0m\u001b[0;34m\u001b[0m\u001b[0;34m\u001b[0m\u001b[0;34m\u001b[0m\u001b[0m\n",
      "\u001b[0;31mNameError\u001b[0m: name 'df' is not defined"
     ]
    }
   ],
   "source": [
    "reader = Reader(rating_scale=[1, 1])   # All ratings are 1\n",
    "data = Dataset.load_from_df(df[['userID', 'itemID', 'rating']], reader)\n",
    "data_training = data.build_full_trainset()\n",
    "# numbers start from 1 in columns"
   ]
  },
  {
   "cell_type": "code",
   "execution_count": 8,
   "id": "f953a390-44bb-41bb-b3c8-7269141fb3c1",
   "metadata": {},
   "outputs": [],
   "source": [
    "reader = Reader(rating_scale=[1, 1])   # All ratings are 1\n",
    "data = Dataset.load_from_df(df[['userID', 'itemID', 'rating']], reader)\n",
    "data_training = data.build_full_trainset()\n",
    "# numbers start from 1 in columns"
   ]
  },
  {
   "cell_type": "code",
   "execution_count": 47,
   "id": "6067f39a-c851-495f-8007-01c4c15e17e3",
   "metadata": {},
   "outputs": [
    {
     "data": {
      "text/plain": [
       "[(39, 1.0), (40, 1.0)]"
      ]
     },
     "execution_count": 47,
     "metadata": {},
     "output_type": "execute_result"
    }
   ],
   "source": [
    "data_training.ur[101]"
   ]
  },
  {
   "cell_type": "code",
   "execution_count": 48,
   "id": "de0f9f1d-51eb-4021-a597-7339d4254914",
   "metadata": {},
   "outputs": [
    {
     "name": "stdout",
     "output_type": "stream",
     "text": [
      "(62991, 1) (62991, 1) (62991, 1)\n"
     ]
    }
   ],
   "source": [
    "dat = fm.create_fn_text_data(data_training, df)"
   ]
  },
  {
   "cell_type": "code",
   "execution_count": 11,
   "id": "0e5e3a4b-5323-455a-a2f6-6787020edd6b",
   "metadata": {},
   "outputs": [],
   "source": [
    "text = []\n",
    "for i in range(dat.shape[0]):\n",
    "    line = \" \".join(dat[i])\n",
    "    text.append(line)\n",
    "full_text = \"\\n\".join(text)\n",
    "# print(full_text)\n",
    "text_file = open(\"fm_input.txt\", \"w\")\n",
    "text_file.write(full_text)\n",
    "text_file.close()"
   ]
  },
  {
   "cell_type": "code",
   "execution_count": 12,
   "id": "15944cd2-d93d-4bcc-a8ea-f30fe3f9be27",
   "metadata": {},
   "outputs": [
    {
     "data": {
      "text/plain": [
       "array([['1.0', '0:1', '23562:1'],\n",
       "       ['1.0', '1:1', '23563:1'],\n",
       "       ['1.0', '2:1', '23564:1'],\n",
       "       ...,\n",
       "       ['1.0', '23560:1', '23593:1'],\n",
       "       ['1.0', '23560:1', '23566:1'],\n",
       "       ['1.0', '23561:1', '23574:1']], dtype='<U32')"
      ]
     },
     "execution_count": 12,
     "metadata": {},
     "output_type": "execute_result"
    }
   ],
   "source": [
    "dat"
   ]
  },
  {
   "cell_type": "code",
   "execution_count": 13,
   "id": "0748ded1-1196-45bc-bd86-8812a24e309a",
   "metadata": {},
   "outputs": [
    {
     "data": {
      "text/plain": [
       "Index(['userID', 'itemID', 'rating'], dtype='object')"
      ]
     },
     "execution_count": 13,
     "metadata": {},
     "output_type": "execute_result"
    }
   ],
   "source": [
    "df.columns"
   ]
  },
  {
   "cell_type": "code",
   "execution_count": null,
   "id": "359cd0dc-ef2a-4d25-8ecb-5915181be126",
   "metadata": {},
   "outputs": [],
   "source": []
  }
 ],
 "metadata": {
  "kernelspec": {
   "display_name": "Python 3",
   "language": "python",
   "name": "python3"
  },
  "language_info": {
   "codemirror_mode": {
    "name": "ipython",
    "version": 3
   },
   "file_extension": ".py",
   "mimetype": "text/x-python",
   "name": "python",
   "nbconvert_exporter": "python",
   "pygments_lexer": "ipython3",
   "version": "3.8.8"
  }
 },
 "nbformat": 4,
 "nbformat_minor": 5
}
